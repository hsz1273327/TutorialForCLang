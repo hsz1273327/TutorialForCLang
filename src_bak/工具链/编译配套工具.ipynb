{
 "cells": [
  {
   "cell_type": "markdown",
   "metadata": {},
   "source": [
    "# 编译配套工具\n",
    "\n",
    "之前的代码我们直接使用gcc来手工编译,这没问题,不过我们也看到了每次编译的命令都比python的helloworld都长了.像很多复杂的程序用到很多外部依赖的情况下编译都快赶上写业务逻辑了.\n",
    "\n",
    "在js中我们用glup来流程化编译,在c中的流程化编译工具就太多了,各自适用于不同的平台有着不同的规范,这边介绍的是[makefile](https://www.gnu.org/software/make/manual/make.html)和[cmake](https://cmake.org/)工具.\n",
    "\n",
    "makefile是类unix系统下一个古老的工具,至今活跃在编程届.\n",
    "\n",
    "cmake是一个高层次的流程化编译工具,它可以用来自动生成makefile,关键是他跨平台."
   ]
  },
  {
   "cell_type": "markdown",
   "metadata": {},
   "source": [
    "## makefile与自动化编译\n",
    "\n",
    "make是一个linux/osx下可以替你运行编译命令的工具.make会检查源文件和目标文件的时间戳,如果目标文件过期,make就会重新编译它.\n",
    "\n",
    "在windows下,只有安装了mingw才会安装make工具,它的名字叫做`mingw32-make.exe`.为了方便起见可以将其改名为`make`\n",
    "\n",
    "但是做到所有这些事情前,需要告诉make源代码的一些情况.make需要知道文件之间的依赖关系,同时还需要告诉它你具体想如何构建代码.严格意义上讲,make不仅仅可以用来编译文件.目标可以是任何用其他文件生成的文件,也就是说目标可以是一批文件压缩而成的压缩文档.\n",
    "\n",
    "对每个目标,make需要知道两件事:\n",
    "\n",
    "+ 依赖项\n",
    "\n",
    "    生成目标需要用哪些文件\n",
    "    \n",
    "    \n",
    "+ 生成方法\n",
    "\n",
    "    生成该文件时要用哪些指令\n",
    "    \n",
    "    \n",
    "依赖项和生成方法合在一起构成了一条规则.有了规则,make就知道如何生成目标."
   ]
  },
  {
   "cell_type": "markdown",
   "metadata": {},
   "source": [
    "## 用makefile向make描述代码\n",
    "\n",
    "所有目标,依赖项和生成方法的细节信息需要保存在一个叫`makefile`或`Makefile`的文件中,\n",
    "\n",
    "### makefile语法\n",
    "\n",
    "makefile规则很简单,基本的规则:\n",
    "\n",
    "+ 规则形式\n",
    "\n",
    "```makefile\n",
    "target: require1 require2 require3\n",
    "\tprocess\n",
    "```\n",
    "注意process前面必须是tab\n",
    "\n",
    "+ 定义环境变量\n",
    "\n",
    "```makefile\n",
    "export FLASK_ENV=dev\n",
    "```\n",
    "+ 定义变量\n",
    "\n",
    "```makefile\n",
    "DIR=xxx\n",
    "```\n",
    "\n",
    "+ 使用环境变量/变量\n",
    "\n",
    "```makefile\n",
    "$(pwd)\n",
    "```\n",
    "\n",
    "注意,要获取标准输出的内容需要使用`$(shell xxx)`\n",
    "\n",
    "为了弄明白它是怎么工作的,下面我们还是以`binary_vector`为例为它写个`makefile`用以实现编译静态链接库和测试文件的功能:"
   ]
  },
  {
   "cell_type": "code",
   "execution_count": 1,
   "metadata": {},
   "outputs": [
    {
     "name": "stdout",
     "output_type": "stream",
     "text": [
      "Overwriting ./code/compiler/S2/makefile\n"
     ]
    }
   ],
   "source": [
    "%%writefile ./code/compiler/S2/makefile\n",
    "DIR = $(shell pwd)\n",
    "INCLUDE_DIR = $(DIR)/source/inc\n",
    "SRC_DIR = $(DIR)/source/src\n",
    "OBJECT_DIR = $(DIR)/source/obj\n",
    "LIB_DIR = $(DIR)/build/lib\n",
    "BIN_DIR = $(DIR)/build/bin\n",
    "TEST_DIR = $(DIR)/test\n",
    "\n",
    "objects = $(addprefix $(OBJECT_DIR)/,binary_operator.o unary_operator.o struct_operator.o)\n",
    "\n",
    "all: $(LIB_DIR)/libvector.a\n",
    "\techo \"done!\"\n",
    "\n",
    "$(OBJECT_DIR)/struct_operator.o: $(INCLUDE_DIR)/binary_vector.h\n",
    "\tgcc -c \\\n",
    "-o $(OBJECT_DIR)/struct_operator.o \\\n",
    "-I $(INCLUDE_DIR) \\\n",
    "$(SRC_DIR)/struct_operator.c    \n",
    "\n",
    "$(OBJECT_DIR)/binary_operator.o: $(INCLUDE_DIR)/binary_vector.h\n",
    "\tgcc -c \\\n",
    "-o $(OBJECT_DIR)/binary_operator.o \\\n",
    "-I $(INCLUDE_DIR) \\\n",
    "$(SRC_DIR)/binary_operator.c\n",
    "    \n",
    "$(OBJECT_DIR)/unary_operator.o: $(INCLUDE_DIR)/binary_vector.h\n",
    "\tgcc -c \\\n",
    "-o $(OBJECT_DIR)/unary_operator.o \\\n",
    "-I $(INCLUDE_DIR) \\\n",
    "$(SRC_DIR)/unary_operator.c\n",
    "    \n",
    "$(LIB_DIR)/libvector.a: $(objects)\n",
    "\tar crv $(LIB_DIR)/libvector.a \\\n",
    "$(objects)\n",
    "\n",
    "$(BIN_DIR)/vectorTest: $(LIB_DIR)/libvector.a $(INCLUDE_DIR)/binary_vector.h $(TEST_DIR)/test.c\n",
    "\tgcc \\\n",
    "-o $(BIN_DIR)/vectorTest \\\n",
    "-I $(INCLUDE_DIR) \\\n",
    "-L $(LIB_DIR) \\\n",
    "-l vector \\\n",
    "$(TEST_DIR)/test.c\n",
    "\n",
    "test: $(BIN_DIR)/vectorTest\n",
    "\t$(BIN_DIR)/vectorTest\n",
    "    \n",
    "clean: $(BIN_DIR)/vectorTest $(objects) $(LIB_DIR)/libvector.a\n",
    "\trm $(BIN_DIR)/vectorTest $(objects) $(LIB_DIR)/libvector.a"
   ]
  },
  {
   "cell_type": "markdown",
   "metadata": {},
   "source": [
    "需要注意的是每条命令部分只能用`/tab`而不是空格"
   ]
  },
  {
   "cell_type": "markdown",
   "metadata": {},
   "source": [
    "### 使用`make`命令\n",
    "\n",
    "make命令使用`-C`指定操作目录, 后面接`makefile`中的target执行定义的过程和依赖.如果不指定target则会知名第一条target"
   ]
  },
  {
   "cell_type": "code",
   "execution_count": 2,
   "metadata": {},
   "outputs": [
    {
     "name": "stdout",
     "output_type": "stream",
     "text": [
      "gcc \\\n",
      "-o /Users/huangsizhe/Workspace/Documents/TutorialForCLang/c-tool-chain/code/compiler/S2/build/bin/vectorTest \\\n",
      "-I /Users/huangsizhe/Workspace/Documents/TutorialForCLang/c-tool-chain/code/compiler/S2/source/inc \\\n",
      "-L /Users/huangsizhe/Workspace/Documents/TutorialForCLang/c-tool-chain/code/compiler/S2/build/lib \\\n",
      "-l vector \\\n",
      "/Users/huangsizhe/Workspace/Documents/TutorialForCLang/c-tool-chain/code/compiler/S2/test/test.c\n",
      "rm /Users/huangsizhe/Workspace/Documents/TutorialForCLang/c-tool-chain/code/compiler/S2/build/bin/vectorTest /Users/huangsizhe/Workspace/Documents/TutorialForCLang/c-tool-chain/code/compiler/S2/source/obj/binary_operator.o /Users/huangsizhe/Workspace/Documents/TutorialForCLang/c-tool-chain/code/compiler/S2/source/obj/unary_operator.o /Users/huangsizhe/Workspace/Documents/TutorialForCLang/c-tool-chain/code/compiler/S2/source/obj/struct_operator.o /Users/huangsizhe/Workspace/Documents/TutorialForCLang/c-tool-chain/code/compiler/S2/build/lib/libvector.a\n"
     ]
    }
   ],
   "source": [
    "!make -C ./code/compiler/S2/ clean"
   ]
  },
  {
   "cell_type": "code",
   "execution_count": 3,
   "metadata": {},
   "outputs": [
    {
     "name": "stdout",
     "output_type": "stream",
     "text": [
      "gcc -c \\\n",
      "-o /Users/huangsizhe/Workspace/Documents/TutorialForCLang/c-tool-chain/code/compiler/S2/source/obj/binary_operator.o \\\n",
      "-I /Users/huangsizhe/Workspace/Documents/TutorialForCLang/c-tool-chain/code/compiler/S2/source/inc \\\n",
      "/Users/huangsizhe/Workspace/Documents/TutorialForCLang/c-tool-chain/code/compiler/S2/source/src/binary_operator.c\n",
      "gcc -c \\\n",
      "-o /Users/huangsizhe/Workspace/Documents/TutorialForCLang/c-tool-chain/code/compiler/S2/source/obj/unary_operator.o \\\n",
      "-I /Users/huangsizhe/Workspace/Documents/TutorialForCLang/c-tool-chain/code/compiler/S2/source/inc \\\n",
      "/Users/huangsizhe/Workspace/Documents/TutorialForCLang/c-tool-chain/code/compiler/S2/source/src/unary_operator.c\n",
      "gcc -c \\\n",
      "-o /Users/huangsizhe/Workspace/Documents/TutorialForCLang/c-tool-chain/code/compiler/S2/source/obj/struct_operator.o \\\n",
      "-I /Users/huangsizhe/Workspace/Documents/TutorialForCLang/c-tool-chain/code/compiler/S2/source/inc \\\n",
      "/Users/huangsizhe/Workspace/Documents/TutorialForCLang/c-tool-chain/code/compiler/S2/source/src/struct_operator.c    \n",
      "ar crv /Users/huangsizhe/Workspace/Documents/TutorialForCLang/c-tool-chain/code/compiler/S2/build/lib/libvector.a \\\n",
      "/Users/huangsizhe/Workspace/Documents/TutorialForCLang/c-tool-chain/code/compiler/S2/source/obj/binary_operator.o /Users/huangsizhe/Workspace/Documents/TutorialForCLang/c-tool-chain/code/compiler/S2/source/obj/unary_operator.o /Users/huangsizhe/Workspace/Documents/TutorialForCLang/c-tool-chain/code/compiler/S2/source/obj/struct_operator.o\n",
      "a - /Users/huangsizhe/Workspace/Documents/TutorialForCLang/c-tool-chain/code/compiler/S2/source/obj/binary_operator.o\n",
      "a - /Users/huangsizhe/Workspace/Documents/TutorialForCLang/c-tool-chain/code/compiler/S2/source/obj/unary_operator.o\n",
      "a - /Users/huangsizhe/Workspace/Documents/TutorialForCLang/c-tool-chain/code/compiler/S2/source/obj/struct_operator.o\n",
      "echo \"done!\"\n",
      "done!\n"
     ]
    }
   ],
   "source": [
    "!make -C ./code/compiler/S2/"
   ]
  },
  {
   "cell_type": "code",
   "execution_count": 4,
   "metadata": {},
   "outputs": [
    {
     "name": "stdout",
     "output_type": "stream",
     "text": [
      "gcc \\\n",
      "-o /Users/huangsizhe/Workspace/Documents/TutorialForCLang/c-tool-chain/code/compiler/S2/build/bin/vectorTest \\\n",
      "-I /Users/huangsizhe/Workspace/Documents/TutorialForCLang/c-tool-chain/code/compiler/S2/source/inc \\\n",
      "-L /Users/huangsizhe/Workspace/Documents/TutorialForCLang/c-tool-chain/code/compiler/S2/build/lib \\\n",
      "-l vector \\\n",
      "/Users/huangsizhe/Workspace/Documents/TutorialForCLang/c-tool-chain/code/compiler/S2/test/test.c\n",
      "/Users/huangsizhe/Workspace/Documents/TutorialForCLang/c-tool-chain/code/compiler/S2/build/bin/vectorTest\n",
      "mod(A)=2.236068\n",
      "mod(B)=5.000000\n",
      "mul(A,B)=11.000000\n",
      "add(A,B)=<4.000000,6.000000>\n"
     ]
    }
   ],
   "source": [
    "!make -C ./code/compiler/S2/ test"
   ]
  },
  {
   "cell_type": "markdown",
   "metadata": {},
   "source": [
    "## 使用cmake流程化编译\n",
    "\n",
    "Cmake本质上也不提供流程化编译的功能,他其实是用来生成不同平台make文件的,在linux,mac osx上就是`makefile`,正真编译使用`make`命令,在windows上就是`nmake`当然windows下也可以使用`mingw`来编译,自带的`mingwXX-make`来编译makefile.不过这需要在cmake的时候加上额外参数`-G  \"MinGW Makefiles\"`指定"
   ]
  },
  {
   "cell_type": "markdown",
   "metadata": {},
   "source": [
    "### Cmake基本用法\n",
    "\n",
    "Cmake是指令式的配置方式,基本形式就是`cmake_minimum_required (VERSION 2.8)`这样,`()`外面的是参数字段,里面的是内容.\n",
    "\n",
    "#### 常用的字段有:\n",
    "\n",
    "> 元信息设置\n",
    "\n",
    "+ `cmake_minimum_required`：指定运行此配置文件所需的 CMake 的最低版本\n",
    "\n",
    "+ `project(<proname>)`：参数值是 Demo1，该命令指定项目的名称\n",
    "\n",
    "> 编译器设置\n",
    "\n",
    "+ `set(CMAKE_ARCHIVE_OUTPUT_DIRECTORY ${CMAKE_BINARY_DIR}/Lib)`:设置静态连接文件输出目录\n",
    "+ `set(CMAKE_LIBRARY_OUTPUT_DIRECTORY ${CMAKE_BINARY_DIR}/Lib)`:设置动态态连接文件输出目录\n",
    "+ `set(CMAKE_RUNTIME_OUTPUT_DIRECTORY ${CMAKE_BINARY_DIR}/Bin)`:设置可执行文件输出目录\n",
    "+ `set_target_properties(<projectnam> PROPERTIES PUBLIC_HEADER \"some.h;headers.h\")` 将对外的接口头文件设置到编译目标上\n",
    "+ `include_directories([AFTER|BEFORE] [SYSTEM] dir1 [dir2 ...])`:设置头文件目录\n",
    "+ `link_directories(directory1 directory2 ...)`:设置连接库所在位置\n",
    "+ `link_libraries(library1 <debug | optimized> library2 ...)`:添加需要链接的库文件路径\n",
    "+ `target_link_libraries(<target> [item1 [item2 [...]]][[debug|optimized|general] <item>] ...)`:设置要链接的库文件的名称\n",
    "+ `aux_source_directory(<dir> <variable>)`: 指定源文件的所在目录,如`aux_source_directory(. DIR_SRCS)`这样就将所有文件夹下的文件名放到了`DIR_SRCS`变量中.`add_executable(Demo ${DIR_SRCS})`就指定好了所有文件.\n",
    "\n",
    "+ `add_executable(<target> <sourcefiles...>)`： 将源文件编译成一个可执行文件,第一位是目标可执行文件名,后面则是源文件名.\n",
    "\n",
    "+ add_compile_options(-std=c++11):指定编译目标使用的额外参数,比如支持c++11\n",
    "\n",
    "+ target_compile_features(<target> <features...>)指定编译目标使用的额外参数\n",
    "\n",
    "> 链接编译设置\n",
    "\n",
    "+ `add_library (<target> [type]<sourcefiles...>)`:将源文件编译成一个链接库.\n",
    "\n",
    "\n",
    "> 子目录设置\n",
    "\n",
    "+ `add_subdirectory(math)`:添加子目录,子目录中需要有`CMakeLists.txt`文件,编译时会优先编译子目录.\n",
    "\n",
    "> 测试设置\n",
    "\n",
    "可以用`make test`执行测试\n",
    "\n",
    "+ `enable_testing()`:启动测试\n",
    "+ `add_test(<测试名> <test_target> <args>)`:添加一个测试,需要先把测试代码编译了\n",
    "+ `set_tests_properties (test_usage PROPERTIES PASS_REGULAR_EXPRESSION \"Usage: .* base exponent\")`设定测试的属性\n",
    "\n",
    "\n",
    "+ 定义一个宏，用来简化测试工作\n",
    "\n",
    "```cmake\n",
    "macro (do_test arg1 arg2 result)\n",
    "  add_test (test_${arg1}_${arg2} Demo ${arg1} ${arg2})\n",
    "  set_tests_properties (test_${arg1}_${arg2}\n",
    "    PROPERTIES PASS_REGULAR_EXPRESSION ${result})\n",
    "endmacro (do_test)\n",
    "```\n",
    "\n",
    "> debug测试\n",
    "\n",
    "```cmake\n",
    "set(CMAKE_BUILD_TYPE \"Debug\")\n",
    "set(CMAKE_CXX_FLAGS_DEBUG \"$ENV{CXXFLAGS} -O0 -Wall -g -ggdb\")\n",
    "set(CMAKE_CXX_FLAGS_RELEASE \"$ENV{CXXFLAGS} -O3 -Wall\")\n",
    "```\n",
    "\n",
    "> install功能\n",
    "\n",
    "通常可以是这样的定义\n",
    "\n",
    "```cmake\n",
    "install([TARGETS <name>...(编译目标)|FILES <file>...(要移动的文件)]\n",
    "    [LIBRARY(动态库)|ARCHIVE(静态库)|RUNTIME(可执行文件)] DESTINATION  <dir> ...\n",
    "    [INCLUDES DESTINATION [<dir> ...]]\n",
    ")  \n",
    "```"
   ]
  },
  {
   "cell_type": "markdown",
   "metadata": {},
   "source": [
    "#### cmake 的语法有:\n",
    "\n",
    "+ 打印信息\n",
    "\n",
    "    `MESSAGE([SEND_ERROR | STATUS | FATAL_ERROR] \"message to display\"...)`,如:`MESSAGE(STATUS \"This is BINARY dir \" ${HELLO_BINARY_DIR}))`\n",
    "\n",
    "+ 指定编译器:\n",
    "\n",
    "    `SET(CMAKE_C_COMPILER \"/home/public/local/bin/gcc\")`\n",
    "\n",
    "    `SET(CMAKE_CXX_COMPILER \"/home/public/local/bin/g++\")`\n",
    "\n",
    "+ 显式的设置自定义变量\n",
    "\n",
    "    使用`set(变量名 值)`的操作，如:`SET(HELLO_SRC main.SOURCE_PATHc)`\n",
    "    \n",
    "+ 变量引用的方式\n",
    "\n",
    "    使用`${}`进行变量的引用\n",
    "    \n",
    "+ 设置环境变量\n",
    "\n",
    "    `SET(ENV{变量名} 值)`\n",
    "    \n",
    "+ 调用环境变量\n",
    "\n",
    "    使用`$ENV{NAME}`指令就可以调用系统的环境变量了\n",
    "    \n",
    "    \n",
    "+ IF 指令\n",
    "\n",
    "   基本语法为:\n",
    "   ```\n",
    "   IF(expression_r_r)\n",
    "     # THEN section.\n",
    "     COMMAND1(ARGS ...)\n",
    "     COMMAND2(ARGS ...)\n",
    "     ...\n",
    "   ELSE(expression_r_r)\n",
    "     # ELSE section.\n",
    "     COMMAND1(ARGS ...)\n",
    "     COMMAND2(ARGS ...)\n",
    "     ...\n",
    "   ENDIF(expression_r_r)\n",
    "   ```\n",
    "   \n",
    "+ WHILE指令\n",
    "\n",
    "   基本语法为:\n",
    "   ```\n",
    "    WHILE(condition)\n",
    "      COMMAND1(ARGS ...)\n",
    "      COMMAND2(ARGS ...)\n",
    "      ...\n",
    "    ENDWHILE(condition)\n",
    "   ```\n",
    "其真假判断条件可以参考 IF 指令。\n",
    "    \n",
    "    \n",
    "+ FOREACH\n",
    "\n",
    "    FOREACH 指令的使用方法有两种形式:\n",
    "    1. 列表\n",
    "    ```\n",
    "    FOREACH(loop_var arg1 arg2 ...)\n",
    "      COMMAND1(ARGS ...)\n",
    "      COMMAND2(ARGS ...)\n",
    "      ...\n",
    "    ENDFOREACH(loop_var)\n",
    "    ```\n",
    "    2. 范围(类似pythonz中的for xxx in range(x))\n",
    "    ```\n",
    "    FOREACH(loop_var RANGE oop_var RANGE start stop [step])\n",
    "    ENDFOREACH(loop_var)\n",
    "    ```"
   ]
  },
  {
   "cell_type": "markdown",
   "metadata": {},
   "source": [
    "#### Cmake的预定义变量有:\n",
    "\n",
    "+ `CMAKE_BINARY_DIR/PROJECT_BINARY_DIR/<projectname>_BINARY_DIR`\n",
    "\n",
    "    这三个变量指代的内容是一致的,如果是`in source`编译,指得就是工程顶层目录,如果是`out-of-source`编译,指的是工程编译发生的目录\n",
    "    PROJECT_BINARY_DIR 跟其他指令稍有区别,但多数时候你可以理解为他们是一致的.\n",
    "    \n",
    "    \n",
    "+ `CMAKE_SOURCE_DIR/PROJECT_SOURCE_DIR/<projectname>_SOURCE_DIR`\n",
    "\n",
    "    这三个变量指代的内容是一致的,不论采用何种编译方式,都是工程顶层目录.也就是在`in source`编译时,他跟`CMAKE_BINARY_DIR`等变量一致.`PROJECT_SOURCE_DIR`跟其他指令稍有区别,但多数时候你可以理解为他们是一致的.\n",
    "\n",
    "+ `CMAKE_CURRENT_SOURCE_DIR`\n",
    "\n",
    "    指的是当前处理的`CMakeLists.txt`所在的路径\n",
    "\n",
    "+ `CMAKE_CURRRENT_BINARY_DIR`\n",
    "\n",
    "    如果是`in-source`编译,它跟`CMAKE_CURRENT_SOURCE_DIR`一致,如果是`out-of-source`编译,他指的是`target`编译目录.使用`ADD_SUBDIRECTORY(src bin)`可以更改这个变量的值.使用`SET(EXECUTABLE_OUTPUT_PATH <新路径>)`并不会对这个变量造成影响,它仅仅修改了最终目标文件存放的路径.\n",
    "\n",
    "+ `CMAKE_CURRENT_LIST_FILE`\n",
    "\n",
    "    输出调用这个变量的`CMakeLists.txt`的完整路径\n",
    "\n",
    " \n",
    "+ `CMAKE_CURRENT_LIST_LINE`\n",
    "\n",
    "    输出这个变量所在的行\n",
    "\n",
    "+ CMAKE_MODULE_PATH\n",
    "\n",
    "    这个变量用来定义自己的`cmake`模块所在的路径.如果你的工程比较复杂,有可能会自己编写一些`cmake`模块,这些`cmake`模块是随你的工程发布的,为了让 `cmake`在处理`CMakeLists.txt`时找到这些模块,你需要通过`SET`指令,将自己的`cmake`模块路径设置一下.比如`SET(CMAKE_MODULE_PATH ${PROJECT_SOURCE_DIR}/cmake)`.这时候你就可以通过 INCLUDE 指令来调用自己的模块了.\n",
    "\n",
    "\n",
    "+ `EXECUTABLE_OUTPUT_PATH /LIBRARY_OUTPUT_PATH`\n",
    "\n",
    "    分别用来重新定义最终结果的存放目录,前面我们已经提到了这两个变量。\n",
    "\n",
    "+ `PROJECT_NAME`\n",
    "\n",
    "    返回通过`PROJECT`指令定义的项目名称.\n",
    "\n",
    "\n",
    "+ `CMAKE_MAJOR_VERSION,CMAKE`\n",
    "\n",
    "    主版本号,比如 2.4.6 中的 2\n",
    "    \n",
    "    \n",
    "+ `CMAKE_MINOR_VERSION,CMAKE`\n",
    "\n",
    "    次版本号,比如 2.4.6 中的 4\n",
    "    \n",
    "    \n",
    "+ `CMAKE_PATCH_VERSION,CMAKE`\n",
    "\n",
    "    补丁等级,比如 2.4.6 中的 6\n",
    "    \n",
    "\n",
    "+ `CMAKE_SYSTEM`\n",
    "\n",
    "    系统名称,比如 Linux-2.6.22\n",
    "    \n",
    "    \n",
    "+ `CMAKE_SYSTEM_NAME`\n",
    "\n",
    "    不包含版本的系统名,比如 Linux\n",
    "    \n",
    "    \n",
    "+ `CMAKE_SYSTEM_VERSION`\n",
    "\n",
    "    系统版本,比如 2.6.22\n",
    "    \n",
    "    \n",
    "+ `CMAKE_SYSTEM_PROCESSOR`\n",
    "\n",
    "    处理器名称,比如 i686.\n",
    "    \n",
    "    \n",
    "+ `UNIX`\n",
    "\n",
    "    在所有的类 UNIX 平台为 TRUE,包括 OS X 和 cygwin\n",
    "    \n",
    "+ `WIN32`\n",
    "\n",
    "    在所有的 win32 平台为 TRUE,包括 cygwin\n",
    "    \n",
    "+ `CMAKE_INSTALL_PREFIX`\n",
    "\n",
    "    在cmake生成makefile时使用`-D`指定的目录,用于指定安装目录,如果不指定且安装的地址是相对地址,就会默认安装到`/usr/local/`下."
   ]
  },
  {
   "cell_type": "markdown",
   "metadata": {},
   "source": [
    "### 使用cmake编译我们的二元向量\n",
    "\n",
    "更多的用法可以看官方文档.本文不会叙述太多.针对我们的二元向量模块,我们需要写两个`CMakeLists.txt`,一个用于将src中的内容编译为静态库,一个用于编译测试文件.\n",
    "\n",
    "我们先将S2中的代码复制到S3"
   ]
  },
  {
   "cell_type": "code",
   "execution_count": 5,
   "metadata": {},
   "outputs": [
    {
     "name": "stdout",
     "output_type": "stream",
     "text": [
      "Overwriting ./code/compiler/S3/CMakeLists.txt\n"
     ]
    }
   ],
   "source": [
    "%%writefile ./code/compiler/S3/CMakeLists.txt\n",
    "#项目编译环境\n",
    "cmake_minimum_required (VERSION 2.8)\n",
    "project (binary_vector)\n",
    "include_directories(source/inc)\n",
    "# 编译动态链接库\n",
    "set(CMAKE_LIBRARY_OUTPUT_DIRECTORY ${CMAKE_BINARY_DIR}/build/lib)\n",
    "aux_source_directory(${CMAKE_BINARY_DIR}/source/src DIR_LIB_SRCS)\n",
    "add_library(vector SHARED ${DIR_LIB_SRCS})\n",
    "install(TARGETS   vector\n",
    "    LIBRARY DESTINATION  CMAKE_LIBRARY_OUTPUT_DIRECTORY  \n",
    ")  \n",
    "# 编译连接生成demo\n",
    "set(CMAKE_RUNTIME_OUTPUT_DIRECTORY ${CMAKE_BINARY_DIR}/build/bin)\n",
    "link_directories(${CMAKE_BINARY_DIR}/build/lib)\n",
    "link_libraries(vector)\n",
    "aux_source_directory(test DIR_SRCS)\n",
    "add_executable(Demo ${DIR_SRCS})\n",
    "#测试\n",
    "enable_testing()\n",
    "add_test (DemoRuns ${CMAKE_BINARY_DIR}/build/bin/Demo)"
   ]
  },
  {
   "cell_type": "code",
   "execution_count": 6,
   "metadata": {},
   "outputs": [
    {
     "name": "stdout",
     "output_type": "stream",
     "text": [
      "-- Configuring done\r\n",
      "CMake Warning (dev):\r\n",
      "  Policy CMP0042 is not set: MACOSX_RPATH is enabled by default.  Run \"cmake\r\n",
      "  --help-policy CMP0042\" for policy details.  Use the cmake_policy command to\r\n",
      "  set the policy and suppress this warning.\r\n",
      "\r\n",
      "  MACOSX_RPATH is not specified for the following targets:\r\n",
      "\r\n",
      "   vector\r\n",
      "\r\n",
      "This warning is for project developers.  Use -Wno-dev to suppress it.\r\n",
      "\r\n",
      "-- Generating done\r\n",
      "-- Build files have been written to: /Users/huangsizhe/Workspace/Documents/TutorialForCLang/c-tool-chain/code/compiler/S3\r\n"
     ]
    }
   ],
   "source": [
    "!cmake ./code/compiler/S3/CMakeLists.txt"
   ]
  },
  {
   "cell_type": "markdown",
   "metadata": {},
   "source": [
    "cmake会为我们创建一个更好的makefile"
   ]
  },
  {
   "cell_type": "code",
   "execution_count": 8,
   "metadata": {},
   "outputs": [
    {
     "name": "stdout",
     "output_type": "stream",
     "text": [
      "[ 66%] Built target vector\n",
      "[ 83%] \u001b[32mBuilding C object CMakeFiles/Demo.dir/test/test.c.o\u001b[0m\n",
      "[100%] \u001b[32m\u001b[1mLinking C executable build/bin/Demo\u001b[0m\n",
      "[100%] Built target Demo\n"
     ]
    }
   ],
   "source": [
    "!make -C ./code/compiler/S3/"
   ]
  },
  {
   "cell_type": "code",
   "execution_count": 9,
   "metadata": {},
   "outputs": [
    {
     "name": "stdout",
     "output_type": "stream",
     "text": [
      "\u001b[36mRunning tests...\u001b[0m\n",
      "Test project /Users/huangsizhe/Workspace/Documents/TutorialForCLang/c-tool-chain/code/compiler/S3\n",
      "    Start 1: DemoRuns\n",
      "1/1 Test #1: DemoRuns .........................   Passed    0.01 sec\n",
      "\n",
      "\u001b[0;32m100% tests passed\u001b[0;0m, 0 tests failed\u001b[0;0m out of 1\n",
      "\n",
      "Total Test time (real) =   0.02 sec\n"
     ]
    }
   ],
   "source": [
    "!make -C ./code/compiler/S3/ test"
   ]
  }
 ],
 "metadata": {
  "kernelspec": {
   "display_name": "Python 3",
   "language": "python",
   "name": "python3"
  },
  "language_info": {
   "codemirror_mode": {
    "name": "ipython",
    "version": 3
   },
   "file_extension": ".py",
   "mimetype": "text/x-python",
   "name": "python",
   "nbconvert_exporter": "python",
   "pygments_lexer": "ipython3",
   "version": "3.7.0"
  }
 },
 "nbformat": 4,
 "nbformat_minor": 2
}
