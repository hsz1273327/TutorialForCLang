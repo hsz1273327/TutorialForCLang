{
 "cells": [
  {
   "cell_type": "markdown",
   "metadata": {},
   "source": [
    "# python接口包装\n",
    "\n",
    "我们一般用C的一个主要目的就是为python提供扩展,在python攻略中已经介绍了使用cython为python写扩展的方式,但这种方式一般是以python为主体的,而如果以C为主体,那么通常就和这种的方式有所区别,具体在:使用cython的包装模式,通过`pyd`文件声明接口,再使用`pyx`模块将项目包装为面向对象的python模块.这种方式"
   ]
  },
  {
   "cell_type": "markdown",
   "metadata": {},
   "source": [
    "## 使用cython包装模式\n",
    "\n",
    "为什么使用这种方式呢?主要是目前来看cython的包装模式是几个主流python实现都支持的方式,而且相对简单.接着我们还以binary vector为例进行包装"
   ]
  },
  {
   "cell_type": "code",
   "execution_count": 16,
   "metadata": {},
   "outputs": [
    {
     "name": "stdout",
     "output_type": "stream",
     "text": [
      "Overwriting ./code/cython_wrapper/python/pybinaryvector.pyx\n"
     ]
    }
   ],
   "source": [
    "%%writefile ./code/cython_wrapper/python/pybinaryvector.pyx\n",
    "#cython: language_level=3\n",
    "# distutils: language = c\n",
    "\n",
    "cdef extern from \"binary_vector.h\":\n",
    "    struct BINARY_VECTOR:\n",
    "        float x\n",
    "        float y\n",
    "        \n",
    "    ctypedef BINARY_VECTOR *BINARY_VECTOR_P\n",
    "    \n",
    "    BINARY_VECTOR_P VEC_init(float,float)\n",
    "    void VEC_del(BINARY_VECTOR_P)\n",
    "    \n",
    "    float VEC_mod(BINARY_VECTOR_P)\n",
    "    BINARY_VECTOR_P VEC_add(BINARY_VECTOR_P,BINARY_VECTOR_P)\n",
    "    float VEC_mul(BINARY_VECTOR_P,BINARY_VECTOR_P)\n",
    "\n",
    "cdef class BinaryVector:\n",
    "    cdef BINARY_VECTOR_P _vec\n",
    "    \n",
    "    def __cinit__(self,float x,float y):\n",
    "        self._vec = VEC_init(x,y)\n",
    "        if self._vec is NULL:\n",
    "            raise MemoryError\n",
    "        \n",
    "    def __dealloc__(self):\n",
    "        if self._vec is not NULL:\n",
    "            VEC_del(self._vec)\n",
    "            \n",
    "    property x:\n",
    "        def __get__(self):\n",
    "            return self._vec.x\n",
    "        def __set__(self,new_x):\n",
    "            self._vec.x = new_x\n",
    "    property y:\n",
    "        def __get__(self):\n",
    "            return self._vec.y\n",
    "        def __set__(self,new_y):\n",
    "            self._vec.y = new_y\n",
    "    cpdef mul(self,BinaryVector that):\n",
    "        return VEC_mul(self._vec,that._vec)\n",
    "            \n",
    "    def __mul__(self,BinaryVector that):\n",
    "        return self.mul(that)\n",
    "        \n",
    "    def add(self,BinaryVector that):\n",
    "        cdef BINARY_VECTOR_P ptr\n",
    "        ptr = VEC_add(self._vec,that._vec)\n",
    "        result = BinaryVector(ptr.x,ptr.y)\n",
    "        if ptr is not NULL:\n",
    "            VEC_del(ptr)\n",
    "        return result\n",
    "    def __add__(self,BinaryVector that):\n",
    "        return self.add(that)\n",
    "    def mod(self):\n",
    "        return VEC_mod(self._vec)"
   ]
  },
  {
   "cell_type": "code",
   "execution_count": 17,
   "metadata": {},
   "outputs": [
    {
     "name": "stdout",
     "output_type": "stream",
     "text": [
      "Overwriting ./code/cython_wrapper/python/setup.py\n"
     ]
    }
   ],
   "source": [
    "%%writefile ./code/cython_wrapper/python/setup.py\n",
    "from distutils.core import setup\n",
    "from pathlib import Path\n",
    "from distutils.extension import Extension\n",
    "from Cython.Build import cythonize\n",
    "from Cython.Distutils import build_ext\n",
    "\n",
    "self_path = Path(__file__).resolve()\n",
    "self_dir = self_path.parent\n",
    "project_dir = self_dir.parent\n",
    "lib_dir = project_dir.joinpath(\"build/lib\")\n",
    "inc_dir = project_dir.joinpath(\"build/inc\")\n",
    "source_dir = project_dir.joinpath(\"python\")\n",
    "\n",
    "extension = Extension(\n",
    "    \"pybinaryvector\",\n",
    "    sources=[str(source_dir.joinpath(\"pybinaryvector.pyx\"))],\n",
    "    include_dirs=[str(inc_dir)],\n",
    "    libraries = [\"vector\"],\n",
    "    library_dirs = [str(lib_dir)]\n",
    ")\n",
    "\n",
    "setup(\n",
    "    cmdclass={'build_ext': build_ext},\n",
    "    ext_modules=cythonize(extension),\n",
    ")"
   ]
  },
  {
   "cell_type": "markdown",
   "metadata": {
    "collapsed": true
   },
   "source": [
    "在项目根目录下先用cmake编译静态库,之后再进入python文件夹使用`python setup.py build_ext --inplace`编译动态库让python可以调用"
   ]
  },
  {
   "cell_type": "code",
   "execution_count": 19,
   "metadata": {},
   "outputs": [
    {
     "name": "stdout",
     "output_type": "stream",
     "text": [
      "running build_ext\n",
      "building 'pybinaryvector' extension\n",
      "gcc -Wno-unused-result -Wsign-compare -Wunreachable-code -DNDEBUG -g -fwrapv -O3 -Wall -Wstrict-prototypes -I/Users/huangsizhe/Lib/conda/anaconda3/include -arch x86_64 -I/Users/huangsizhe/Lib/conda/anaconda3/include -arch x86_64 -I/Users/huangsizhe/Workspace/Documents/TutorialForCLang/c-tool-chain/code/cython_wrapper/build/inc -I/Users/huangsizhe/Lib/conda/anaconda3/include/python3.7m -c /Users/huangsizhe/Workspace/Documents/TutorialForCLang/c-tool-chain/code/cython_wrapper/python/pybinaryvector.c -o build/temp.macosx-10.7-x86_64-3.7/Users/huangsizhe/Workspace/Documents/TutorialForCLang/c-tool-chain/code/cython_wrapper/python/pybinaryvector.o\n",
      "gcc -bundle -undefined dynamic_lookup -L/Users/huangsizhe/Lib/conda/anaconda3/lib -arch x86_64 -L/Users/huangsizhe/Lib/conda/anaconda3/lib -arch x86_64 -arch x86_64 build/temp.macosx-10.7-x86_64-3.7/Users/huangsizhe/Workspace/Documents/TutorialForCLang/c-tool-chain/code/cython_wrapper/python/pybinaryvector.o -L/Users/huangsizhe/Workspace/Documents/TutorialForCLang/c-tool-chain/code/cython_wrapper/build/lib -lvector -o /Users/huangsizhe/Workspace/Documents/TutorialForCLang/c-tool-chain/pybinaryvector.cpython-37m-darwin.so\n"
     ]
    }
   ],
   "source": [
    "!python ./code/cython_wrapper/python/setup.py build_ext --inplace"
   ]
  }
 ],
 "metadata": {
  "kernelspec": {
   "display_name": "Python 3",
   "language": "python",
   "name": "python3"
  },
  "language_info": {
   "codemirror_mode": {
    "name": "ipython",
    "version": 3
   },
   "file_extension": ".py",
   "mimetype": "text/x-python",
   "name": "python",
   "nbconvert_exporter": "python",
   "pygments_lexer": "ipython3",
   "version": "3.7.0"
  }
 },
 "nbformat": 4,
 "nbformat_minor": 2
}
