{
 "cells": [
  {
   "cell_type": "markdown",
   "metadata": {},
   "source": [
    "# 异常处理\n",
    "\n",
    "程序中的错误分为3种:\n",
    "\n",
    "+ 用户错误\n",
    "    \n",
    "    预期会发生的错误,用户的特定操作就会导致特定的错误,比如注册邮箱时填入的内容没有\"@\"这种.这种错误通常应该是程序主体就要处理的.通过返回特定的错误码进行提示.\n",
    "    \n",
    "    \n",
    "+ 运行时错误\n",
    "\n",
    "    运行时错误从来都是非预期的,表明程序出了bug,程序必须要结束.通常需要使用断言来捕获这种错误\n",
    "    \n",
    "    \n",
    "+ 异常\n",
    "\n",
    "    介于洪湖错误和程序bug之间,异常可能是比较罕见的错误,比如算数运算时候的溢出情况.通常异常不返回错误码,而是由恢复代码处理,类似于非局部的goto.\n",
    "\n",
    "C语言没有异常,更不要提异常处理了,一般来说是通过自己规定的返回码来标识异常的.通常使用标准库`errno.h`配合标准库`string.h`中的函数`strerror`和标准库`stdio.h`中的`perror`用于打印异常信息.\n",
    "\n",
    "`errno.h`是C标准库中的一个检查错误的头文件,它的内部有一个全局变量`errno`.它可以被赋值,而C库中的每个模块都会包含这个errno.h头文件,那么errno这个可以被赋值的宏,就相当于整个C标准库的全局变量,如果在使用某个模块的函数过程中发生了错误,这个errno宏就会在函数内部被赋予一个有含义的值,相当于一个错误代码,并且无论库的哪个模块或库函数都不会把errno设置为零.所以我们在使用这个模块的时候只需要在一个库函数调用前将errno设置为零,然后在调用之后检查errno的值即可知道这个被调用的库函数有没有发生错误.关于errno.h的使用技巧可以[这篇文章](http://c.biancheng.net/c/errno/)\n",
    "\n",
    "\n",
    "一个简单的例子如下:"
   ]
  },
  {
   "cell_type": "code",
   "execution_count": 1,
   "metadata": {},
   "outputs": [
    {
     "name": "stdout",
     "output_type": "stream",
     "text": [
      "errno值： 2\n",
      "错误信息： No such file or directory\n"
     ]
    },
    {
     "name": "stderr",
     "output_type": "stream",
     "text": [
      "No such file or directory: No such file or directory\n"
     ]
    }
   ],
   "source": [
    "#include <stdio.h>\n",
    "#include <errno.h>\n",
    "#include <string.h>\n",
    "\n",
    "int main() {\n",
    "    errno=0;\n",
    "    FILE *fp = fopen(\"test.txt\",\"r\");\n",
    "    if(errno!=0)\n",
    "    {\n",
    "        printf(\"errno值： %d\\n\",errno);\n",
    "        printf(\"错误信息： %s\\n\",strerror(errno));\n",
    "        perror(strerror(errno));\n",
    "    }\n",
    "}"
   ]
  },
  {
   "cell_type": "markdown",
   "metadata": {},
   "source": [
    "比较常见的ERROR定义如下:\n",
    "\n",
    "```Cpp\n",
    "#define EPERM        1  /* Operation not permitted */\n",
    "#define ENOENT       2  /* No such file or directory */\n",
    "#define ESRCH        3  /* No such process */\n",
    "#define EINTR        4  /* Interrupted system call */\n",
    "#define EIO      5  /* I/O error */\n",
    "#define ENXIO        6  /* No such device or address */\n",
    "#define E2BIG        7  /* Argument list too long */\n",
    "#define ENOEXEC      8  /* Exec format error */\n",
    "#define EBADF        9  /* Bad file number */\n",
    "#define ECHILD      10  /* No child processes */\n",
    "#define EAGAIN      11  /* Try again */\n",
    "#define ENOMEM      12  /* Out of memory */\n",
    "#define EACCES      13  /* Permission denied */\n",
    "#define EFAULT      14  /* Bad address */\n",
    "#define ENOTBLK     15  /* Block device required */\n",
    "#define EBUSY       16  /* Device or resource busy */\n",
    "#define EEXIST      17  /* File exists */\n",
    "#define EXDEV       18  /* Cross-device link */\n",
    "#define ENODEV      19  /* No such device */\n",
    "#define ENOTDIR     20  /* Not a directory */\n",
    "#define EISDIR      21  /* Is a directory */\n",
    "#define EINVAL      22  /* Invalid argument */\n",
    "#define ENFILE      23  /* File table overflow */\n",
    "#define EMFILE      24  /* Too many open files */\n",
    "#define ENOTTY      25  /* Not a typewriter */\n",
    "#define ETXTBSY     26  /* Text file busy */\n",
    "#define EFBIG       27  /* File too large */\n",
    "#define ENOSPC      28  /* No space left on device */\n",
    "#define ESPIPE      29  /* Illegal seek */\n",
    "#define EROFS       30  /* Read-only file system */\n",
    "#define EMLINK      31  /* Too many links */\n",
    "#define EPIPE       32  /* Broken pipe */\n",
    "#define EDOM        33  /* Math argument out of domain of func */\n",
    "#define ERANGE      34  /* Math result not representable */\n",
    "```"
   ]
  },
  {
   "cell_type": "markdown",
   "metadata": {},
   "source": [
    "C语言中也往往用这种方式自定义模块的宏,自定义一个模块级的全局变量并结合一个错误枚举以及从枚举值转换为字面量的函数.就可以实现上面的错误处理方式了.\n",
    "\n",
    "明显的这种方式在处理异常时是不会终止程序的,如果需要终止程序,我们就得使用标准库`stdlib.h`的`abort()`方法"
   ]
  },
  {
   "cell_type": "code",
   "execution_count": 3,
   "metadata": {},
   "outputs": [
    {
     "name": "stderr",
     "output_type": "stream",
     "text": [
      "No such file or directory: No such file or directory\n"
     ]
    },
    {
     "name": "stdout",
     "output_type": "stream",
     "text": [
      "errno值： 2\n",
      "错误信息： No such file or directory\n"
     ]
    },
    {
     "name": "stderr",
     "output_type": "stream",
     "text": [
      "[C kernel] Executable exited with code -6"
     ]
    }
   ],
   "source": [
    "#include <stdio.h>\n",
    "#include <errno.h>\n",
    "#include <string.h>\n",
    "#include <stdlib.h>\n",
    "\n",
    "int main() {\n",
    "    errno=0;\n",
    "    FILE *fp = fopen(\"test.txt\",\"r\");\n",
    "    if(errno!=0){\n",
    "        printf(\"errno值： %d\\n\",errno);\n",
    "        printf(\"错误信息： %s\\n\",strerror(errno));\n",
    "        perror(strerror(errno));\n",
    "        abort();\n",
    "    }\n",
    "    for(int i=0;i<5;i++){\n",
    "        printf(\"%d\\n\",i);\n",
    "    }\n",
    "}"
   ]
  },
  {
   "cell_type": "markdown",
   "metadata": {},
   "source": [
    "### 断言\n",
    "\n",
    "C语言标准库有头文件`assert.h`将`assert(e)`定义为宏,`assert(e)`会计算表达式e的值,如果e为0则向标准错误`stderr`写出诊断信息,并调用标准库函数abort退出程序执行.诊断信息包含失败的断言文本和断言出现的坐标,该信息的格式是具体实现定义的.`assert(0)`可以用户指明\"不可能发生\"的情况,当然如下也对:"
   ]
  },
  {
   "cell_type": "code",
   "execution_count": 4,
   "metadata": {},
   "outputs": [
    {
     "name": "stderr",
     "output_type": "stream",
     "text": [
      "Assertion failed: (!\"ptr==NULL -- can't happen\"), function main, file /var/folders/2w/71b83qh117q3sjhm8xgnr7w00000gn/T/tmp11prdxto.c, line 7.\n",
      "[C kernel] Executable exited with code -6"
     ]
    }
   ],
   "source": [
    "#include <stdio.h>\n",
    "#include <errno.h>\n",
    "#include <string.h>\n",
    "#include <assert.h>\n",
    "\n",
    "int main() {\n",
    "    assert(!\"ptr==NULL -- can't happen\");\n",
    "}"
   ]
  },
  {
   "cell_type": "markdown",
   "metadata": {},
   "source": [
    "## 另一种方案\n",
    "\n",
    "另一种方案在\"C语言接口与实现\"一书中有提到--使用标准库提供了`setjmp`和`longjmp`建立结构化异常处理,具体来说,`setjmp`实例化一个处理程序,`longjmp`引发一个异常\n",
    "\n",
    "### try-except代码块\n",
    "\n",
    "try-except代码块在现代编程语言中几乎是标配,在实践中也被证明非常有用.然而C中没有.\"C语言接口与实现\"一书中有一个使用宏的实现,接下来会写一个库专门用于实现try-except代码块.不过有几个受限的使用形式:\n",
    "\n",
    "+ `TRY-END_TRY`  \n",
    "\n",
    "    相当于`{xxx}`语句不变只是引入一个新的作用域\n",
    "    \n",
    "+ `TRY-ELSE-END_TRY`  \n",
    "\n",
    "    相当于python中的`try-except Exception`,只要有异常就处理,不管是啥异常\n",
    "    \n",
    "+ `TRY-EXCEPT-...-END_TRY` \n",
    "    \n",
    "    相当于python中的`try-except E_1-except E_2-...`\n",
    "    \n",
    "    \n",
    "+ `TRY-EXCEPT-...-ELSE-END_TRY` \n",
    "    \n",
    "    注意这与python中不同,相当于python中的`try-except E_1-...- except Exception`\n",
    "    \n",
    "    \n",
    "+ `TRY-EXCEPT-FINALLY-END_TRY`\n",
    "\n",
    "    相当于python中的`try-except E_1-finally`无论是否有异常都会执行FINALLY,这个用法可以像python中的with语句一样提供一个上下文.\n",
    "    \n",
    "+ `TRY-EXCEPT-ELSE-FINALLY-END_TRY`\n",
    "\n",
    "    相当于python中的`try-except E_1-except Exception-finally`无论是否有异常都会执行FINALLY,这个用法可以像python中的with语句一样提供一个上下文.\n",
    "\n",
    "+ 如果`TRY`语句中需要执行返回,那么必须使用宏`RETURN`返回.\n",
    "\n",
    "\n",
    "\"C语言接口与实现\"一书中提供的这组宏显然还是比较粗糙而且脆弱的,宏毕竟不会检查运行时错误,但一般用用足够.C语言中并不提倡大量使用异常,设计算法的时候这组宏也应当被谨慎的使用.\n",
    "\n",
    "这个模块在代码中有收录,它与下面的断言收录在一起."
   ]
  },
  {
   "cell_type": "markdown",
   "metadata": {},
   "source": [
    "### C语言接口与实现中的断言\n",
    "\n",
    "\n",
    "\"C语言接口与实现\"一书中提供了一个标准库\"assert.h\"的替代,用它的好处是如果断言失败不会向stderr打印消息,也不会跳出程序,也不会提供表达式e的文本,而是抛出上文中定义的`Assert_Failed`异常."
   ]
  }
 ],
 "metadata": {
  "kernelspec": {
   "display_name": "C",
   "language": "c",
   "name": "c"
  },
  "language_info": {
   "file_extension": ".c",
   "mimetype": "text/plain",
   "name": "c"
  }
 },
 "nbformat": 4,
 "nbformat_minor": 2
}
