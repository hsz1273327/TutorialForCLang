{
 "cells": [
  {
   "cell_type": "markdown",
   "metadata": {},
   "source": [
    "# 基本的宏写法\n",
    "\n",
    "\n",
    "C语言中允许用一个标识符来标识一个字符串,称为`宏`;标识符为`宏名`.在编译期程序中所有出现的\"宏名\"都会由宏定义时的字符串去代换,简称`宏代换`或`宏展开`.一般形式为`#define 宏名 字符串`\n",
    "\n",
    "宏可分为两类--有参数和无参数"
   ]
  },
  {
   "cell_type": "markdown",
   "metadata": {},
   "source": [
    "## 无参宏\n",
    "\n",
    "凡是以`#`开头的均为预处理命令。“define”为宏定义的命令,标识符为定义的宏名.字符串可以是常量,表达式,格式化字符串等."
   ]
  },
  {
   "cell_type": "code",
   "execution_count": 3,
   "metadata": {},
   "outputs": [
    {
     "name": "stdout",
     "output_type": "stream",
     "text": [
      "s = 120\n"
     ]
    }
   ],
   "source": [
    "#define M (x*3+x*5)\n",
    "#include <stdio.h>\n",
    "\n",
    "int main(void)\n",
    "{\n",
    "    int s = 0;\n",
    "    int x = 5;\n",
    "    s = 3*M; // 3*(x*3+x*5)\n",
    "    printf(\"s = %d\\n\", s);\n",
    "}"
   ]
  },
  {
   "cell_type": "markdown",
   "metadata": {},
   "source": [
    "这种宏常用于定义一些常量,比如错误信息,Pi,e这类常数等"
   ]
  },
  {
   "cell_type": "markdown",
   "metadata": {},
   "source": [
    "## 有参宏\n",
    "\n",
    "C语言允许有参宏(即宏带有参数).在宏定义中的参数称之为`形式参数`,形式参数在编译的时候是不会分配空间的.在宏调用中的参数称之为\"实际参数\".其一般形式为:`#define 宏名(形参表) 字符串`\n",
    "\n",
    "有参宏的说明及注意：\n",
    "\n",
    "+ 有参宏定义中,宏名和形参表之间不能有空格;\n",
    "+ 在宏定义中的形参是标识符,而宏调用中的实参可以是表达式;\n",
    "+ 在宏定义中,字符串内的形参通常用括号括起来,以免出错;\n",
    "+ 宏定义也可以用来定义多个语句."
   ]
  },
  {
   "cell_type": "code",
   "execution_count": 4,
   "metadata": {},
   "outputs": [
    {
     "name": "stdout",
     "output_type": "stream",
     "text": [
      "sa = 12\tsb = 15\tsc = 20\tvv = 60\n"
     ]
    }
   ],
   "source": [
    "#define SSSV(s1, s2, s3, v)  s1=l*w; s2=l*h; s3=w*h; v=l*w*h\n",
    "#include <stdio.h>\n",
    "int main()\n",
    "{\n",
    "    int l = 3, w = 4, h = 5, sa, sb, sc, vv;\n",
    "    SSSV(sa, sb, sc, vv);\n",
    "    printf(\"sa = %d\\tsb = %d\\tsc = %d\\tvv = %d\\n\", sa, sb, sc, vv);\n",
    "    return 0;\n",
    "}"
   ]
  },
  {
   "cell_type": "markdown",
   "metadata": {},
   "source": [
    "## `#`操作符\n",
    "\n",
    "宏中只有`#`是特殊操作符.其用法是:\n",
    "\n",
    "+ 操作符`#`:表示字符串化操作符,它把其后的串转换为用双引号包围的串；\n",
    "+ 操作符`##`:可以把两个独立的字符串链接成一个字符串.\n",
    "\n",
    "这个操作符我们常用于通过值找定义的字面量"
   ]
  },
  {
   "cell_type": "code",
   "execution_count": 6,
   "metadata": {},
   "outputs": [
    {
     "name": "stdout",
     "output_type": "stream",
     "text": [
      "the result:Error3 \n",
      "the result:Error2 \n"
     ]
    }
   ],
   "source": [
    "#include <stdio.h>\n",
    "\n",
    "#define Error1 1\n",
    "#define Error2 2\n",
    "#define Error3 3\n",
    "#define Error4 4\n",
    "#define ENUM_ERROR_CASE(x)   case x: return(#x);\n",
    "\n",
    " \n",
    " \n",
    "static inline const char *cvmx_error_to_string(int x)\n",
    "{\n",
    "    switch (x)\n",
    "    {\n",
    "        ENUM_ERROR_CASE(Error1)\n",
    "        ENUM_ERROR_CASE(Error2)\n",
    "        ENUM_ERROR_CASE(Error3)\n",
    "        ENUM_ERROR_CASE(Error4)\n",
    "    }\n",
    "    return \"Unsupported Error\";\n",
    " \n",
    "}\n",
    "int main()\n",
    "{\n",
    "    \n",
    "    printf(\"the result:%s \\n\",cvmx_error_to_string(Error3));\n",
    "    printf(\"the result:%s \\n\",cvmx_error_to_string(2));\n",
    "    return 0;\n",
    "}\n"
   ]
  },
  {
   "cell_type": "markdown",
   "metadata": {},
   "source": [
    "## 头文件的包含\n",
    "\n",
    "使用`#include`申明以`\"\"`或者`<>`包围的文件名称可以引入依赖的头文件.其一般形式为`#include \"stdio.h\"`或者`#include <stdio.h>`.\n",
    "其区别为:\n",
    "\n",
    "+ `<>`:表示在包含文件目录中去查找(包含目录是由用户在设置环境时设置的),而不再源文件的目录下去查找;\n",
    "+ `\"\"`:表示首先在源文件的目录下查找,若查找到,则会去包含文件目录中查找."
   ]
  },
  {
   "cell_type": "markdown",
   "metadata": {},
   "source": [
    "## 条件编译\n",
    "\n",
    "多个编译指令允许程序员有选择的编译程序源代码的不同部分,这种过程称为条件编译.\n",
    "\n",
    "### `#if、#else、#elif、#endif`\n",
    "\n",
    "\n",
    "就像正常编程语言一样,宏中的条件语句如下:\n",
    "\n",
    "```C\n",
    "#if constant\n",
    "  Statement sequence\n",
    "#elif constant1\n",
    "  Statement sequence\n",
    "#elif constant2\n",
    "  Statement sequence\n",
    "#else\n",
    "  Statement sequence\n",
    "#endif\n",
    "```\n",
    "\n",
    "### `#ifdef `和`#ifndef`\n",
    "\n",
    "这个一般用于防止同名宏在不同文件间造成歧义.\n",
    "\n",
    "用法如下:\n",
    "\n",
    "```C\n",
    "#ifdef 标识符\n",
    "  程序段1\n",
    "#else\n",
    "  程序段2\n",
    "#endif\n",
    "```\n",
    "\n",
    "或者\n",
    "\n",
    "```C\n",
    "#ifndef 标识符\n",
    "  程序段1\n",
    "#else\n",
    "  程序段2\n",
    "#endif\n",
    "```\n",
    "\n",
    "\n",
    "## 预设的宏\n",
    "\n",
    "C语言中有一些预设的宏,他们一般以`__`开头,有特殊作用:\n",
    "\n",
    "+ `__LINE__`:在源代码中插入当前源代码行号;\n",
    "\n",
    "+ `__FILE__`:在源文件中插入当前源文件名;\n",
    "\n",
    "+ `__DATE__`:在源文件中插入当前的编译日期;\n",
    "\n",
    "+ `__TIME__`:在源文件中插入当前编译时间;\n",
    "\n",
    "这些宏一般用于debug"
   ]
  }
 ],
 "metadata": {
  "kernelspec": {
   "display_name": "C",
   "language": "c",
   "name": "c"
  },
  "language_info": {
   "file_extension": ".c",
   "mimetype": "text/plain",
   "name": "c"
  }
 },
 "nbformat": 4,
 "nbformat_minor": 2
}
