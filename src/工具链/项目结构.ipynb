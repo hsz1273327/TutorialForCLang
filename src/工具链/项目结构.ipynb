{
 "cells": [
  {
   "cell_type": "markdown",
   "metadata": {},
   "source": [
    "# 项目结构\n",
    "\n",
    "c语言是系统级的静态语言,需要编译为可执行文件才可以执行.而且比较原始,在语言设计之初就没有考虑什么依赖管理,项目管理这类的问题,因此在开始C语言学习前我们先来约定下项目的结构.\n",
    "\n",
    "而且去github上可以发现各个项目的文件组织结构都不尽相同,按我的习惯通常简单的项目我们会把源代码放在一起,使用的第三方依赖的内容放在一起,而编译好的结果放在一起.比如:\n",
    "\n",
    "+ `build`文件夹  存放编译的结果\n",
    "\n",
    "    + `bin`  存放可执行文件\n",
    "    + `lib`  存放编译好的动态库或者静态库\n",
    "    + `inc`  存放编译好的库的头文件\n",
    "    \n",
    "+ `test`文件夹  存放测试文件\n",
    "\n",
    "    虽然C语言是静态语言,但测试驱动编程依然是一个好的方法论.编译好的测试用可执行文件可以放在`build/bin`里面,同时文件名应该包含test字样\n",
    "    \n",
    "+ `source`文件夹  存放源码和一些依赖\n",
    "\n",
    "    + `inc`  编译需要用到的头文件\n",
    "    + `lib`  编译需要用到的库文件\n",
    "    + `obj`  编译过程中产生的object文件,如果有必要的话\n",
    "    + `src` 编译用到的源文件\n",
    "    \n",
    "+ `python`文件夹  存放项目的python的C包装,如果需要的话才会有,由于大多数语言都可以使用ABI对接C语言,这种针对某种特定语言的包装器就放在以语言名命名的文件夹中.\n",
    "\n",
    "    + `<项目名>_wrapper.c`和`py<项目名>.py` c写的包装源码配合python写的包装,一般用于将函数封装成类\n",
    "    + `py<项目名>.pyx`和 `py<项目名>.pyd`  cython写的包装(如果使用cython的话)\n",
    "    + `test` 测试文件夹,用于测试包装效果\n",
    "    + `setup.py` python模块安装文件\n",
    "    \n",
    "    一般来说,个人认为以C为主的项目最好不要把包放到pypi,以防止安装出问题.这种项目的python接口还是强制源码安装比较靠谱.\n",
    "    \n",
    "    \n",
    "+ `document`  项目文档文件夹\n",
    "    \n",
    "+ `CMakeLists.txt/makefile`  `cmake/make`项目设置文件\n",
    "\n",
    "+ `Doxyfile`  `doxygen`项目设置文件\n",
    "\n"
   ]
  }
 ],
 "metadata": {
  "kernelspec": {
   "display_name": "C",
   "language": "c",
   "name": "c"
  },
  "language_info": {
   "file_extension": ".c",
   "mimetype": "text/plain",
   "name": "c"
  }
 },
 "nbformat": 4,
 "nbformat_minor": 2
}
