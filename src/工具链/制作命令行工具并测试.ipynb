{
 "cells": [
  {
   "cell_type": "markdown",
   "metadata": {},
   "source": [
    "# 制作命令行工具并测试\n",
    "\n",
    "\n",
    "C语言是和系统最近的编程语言之一,而很多系统工具也是C写的.\n"
   ]
  },
  {
   "cell_type": "markdown",
   "metadata": {},
   "source": [
    "## 制作小工具\n",
    "\n",
    "\n",
    "在linux的世界里,很多工作都是由小工具完成的,它恐怕是现如今流行的`微服务`架构最早的实践了.\n",
    "\n",
    "所谓小工具有这样的特点:\n",
    "\n",
    "1. 从标准输入读取数据\n",
    "2. 在标准输出显示数据\n",
    "3. 处理文本数据，而不是难以阅读的二进制格式\n",
    "4. 只做一件简单的事\n",
    "\n",
    "通过标准输入输出可以方便的做重定向,而文本数据除了机器好读,人也好读.\n",
    "\n",
    "\n",
    "所谓重新定向是指使用`>`,`>>`作为输出,使用`<`,`<<`作为输入\n",
    "\n",
    "\n",
    "比较让人熟知的就是`grep`小工具了,它的作用是过滤掉文本中不含关键字的行.而一般我们都是拿他和其他工具配合使用的,比如我希望查看之前使用过的带`python`的历史记录,那就可以这样写:\n",
    "\n",
    "```shell\n",
    "history | grep python\n",
    "```\n",
    "\n",
    "当然了其他语言比如python也可以制作小工具,而且由于语法更加简单,抽象层次更高,实际上写起来会更加简单,但在这边用c/c++来做小工具有其合理的一面\n",
    "\n",
    "1. 不用依赖环境\n",
    "\n",
    "    c/c++不依赖于运行环境,只要编译通过了就可以运行二进制代码.而带有vm的语言比如java,python,脱离了vm就无法运行了\n",
    "    \n",
    "2. 高效\n",
    "\n",
    "    多数情况下,,相同的逻辑,C/C++制作的工具有最高的运行效率\n",
    "    \n",
    "3. 小巧\n",
    "\n",
    "    像go语言,也是编译成二进制后执行的语言,但由于其抽象层次更高(虽然也没高多少)而且有个运行时,生成的代码比使用c/c++写的大得多,而c++如果使用模板的话也会比C写的大得多"
   ]
  },
  {
   "cell_type": "markdown",
   "metadata": {},
   "source": [
    "## 从一个例子开始\n",
    "\n",
    "我们来写一个gps数据格式转换工具,使用它我们可以将gps数据转化为符合规定的json格式,gps数据是形如:\n",
    "\n",
    "```\n",
    "42.363400,-71.098465,Speed = 21\n",
    "42.363400,-71.097588,Speed = 23\n",
    "42.363400,-71.098465,Speed = 27\n",
    ".\n",
    ".\n",
    ".\n",
    "```\n",
    "的csv数据\n",
    "\n",
    "而地图应用需要的格式则形如:\n",
    "\n",
    "```json\n",
    "data = [\n",
    "{latitude: 42.363400, longitude: -71.098465, info: 'Speed = 21'},\n",
    ".\n",
    ".\n",
    ".\n",
    "]\n",
    "```\n",
    "的json数据\n",
    "\n",
    "\n",
    "\n",
    "好,开始我们的小程序:"
   ]
  },
  {
   "cell_type": "code",
   "execution_count": 2,
   "metadata": {},
   "outputs": [
    {
     "name": "stdout",
     "output_type": "stream",
     "text": [
      "Overwriting ./code/create_cmdline_tool/geo2json/source/src/geo2json.c\n"
     ]
    }
   ],
   "source": [
    "%%writefile ./code/create_cmdline_tool/geo2json/source/src/geo2json.c\n",
    "#include <stdio.h>\n",
    "\n",
    "int main(){\n",
    "    float latitude;\n",
    "    float longitude;\n",
    "    char info[80];\n",
    "    int started = 0;\n",
    "    puts(\"data=[\");\n",
    "    while (scanf(\"%f,%f,%79[^\\n]\",&latitude,&longitude,&info) == 3){\n",
    "        if (started){\n",
    "            printf(\",\\n\");\n",
    "        } else {\n",
    "            started = 1;\n",
    "        }\n",
    "        printf(\"{latitude: %f, longitude: %f, info: '%s'}\",latitude,longitude,info);\n",
    "    }\n",
    "    puts(\"\\n]\");\n",
    "    return 0;\n",
    "}"
   ]
  },
  {
   "cell_type": "code",
   "execution_count": 3,
   "metadata": {},
   "outputs": [
    {
     "name": "stdout",
     "output_type": "stream",
     "text": [
      "Writing ./code/create_cmdline_tool/geo2json/CMakeLists.txt\n"
     ]
    }
   ],
   "source": [
    "%%writefile ./code/create_cmdline_tool/geo2json/CMakeLists.txt\n",
    "#项目编译环境\n",
    "cmake_minimum_required (VERSION 2.8)\n",
    "project (geo2json)\n",
    "\n",
    "# 编译连接生成demo\n",
    "set(CMAKE_RUNTIME_OUTPUT_DIRECTORY ${CMAKE_BINARY_DIR}/build/bin)\n",
    "aux_source_directory(${CMAKE_BINARY_DIR}/source/src DIR_SRCS)\n",
    "add_executable(geo2json ${DIR_SRCS})"
   ]
  },
  {
   "cell_type": "code",
   "execution_count": 4,
   "metadata": {},
   "outputs": [
    {
     "name": "stdout",
     "output_type": "stream",
     "text": [
      "-- The C compiler identification is AppleClang 10.0.0.10001044\n",
      "-- The CXX compiler identification is AppleClang 10.0.0.10001044\n",
      "-- Check for working C compiler: /Library/Developer/CommandLineTools/usr/bin/cc\n",
      "-- Check for working C compiler: /Library/Developer/CommandLineTools/usr/bin/cc -- works\n",
      "-- Detecting C compiler ABI info\n",
      "-- Detecting C compiler ABI info - done\n",
      "-- Detecting C compile features\n",
      "-- Detecting C compile features - done\n",
      "-- Check for working CXX compiler: /Library/Developer/CommandLineTools/usr/bin/c++\n",
      "-- Check for working CXX compiler: /Library/Developer/CommandLineTools/usr/bin/c++ -- works\n",
      "-- Detecting CXX compiler ABI info\n",
      "-- Detecting CXX compiler ABI info - done\n",
      "-- Detecting CXX compile features\n",
      "-- Detecting CXX compile features - done\n",
      "-- Configuring done\n",
      "-- Generating done\n",
      "-- Build files have been written to: /Users/huangsizhe/Workspace/Documents/TutorialForCLang/c-tool-chain/code/create_cmdline_tool/geo2json\n"
     ]
    }
   ],
   "source": [
    "!cmake ./code/create_cmdline_tool/geo2json/CMakeLists.txt"
   ]
  },
  {
   "cell_type": "code",
   "execution_count": 5,
   "metadata": {},
   "outputs": [
    {
     "name": "stdout",
     "output_type": "stream",
     "text": [
      "\u001b[35m\u001b[1mScanning dependencies of target geo2json\u001b[0m\n",
      "[ 50%] \u001b[32mBuilding C object CMakeFiles/geo2json.dir/source/src/geo2json.c.o\u001b[0m\n",
      "\u001b[1m/Users/huangsizhe/Workspace/Documents/TutorialForCLang/c-tool-chain/code/create_cmdline_tool/geo2json/source/src/geo2json.c:9:56: \u001b[0m\u001b[0;1;35mwarning: \u001b[0m\u001b[1m\n",
      "      format specifies type 'char *' but the argument has type 'char (*)[80]'\n",
      "      [-Wformat]\u001b[0m\n",
      "    while (scanf(\"%f,%f,%79[^\\n]\",&latitude,&longitude,&info) == 3){\n",
      "\u001b[0;1;32m                        ~~~~~~                         ^~~~~\n",
      "\u001b[0m1 warning generated.\n",
      "[100%] \u001b[32m\u001b[1mLinking C executable build/bin/geo2json\u001b[0m\n",
      "[100%] Built target geo2json\n"
     ]
    }
   ],
   "source": [
    "!make -C ./code/create_cmdline_tool/geo2json/"
   ]
  },
  {
   "cell_type": "code",
   "execution_count": 7,
   "metadata": {},
   "outputs": [],
   "source": [
    "!./code/create_cmdline_tool/geo2json/build/bin/geo2json \\\n",
    "< ./code/create_cmdline_tool/geo2json/data/gpsdata.csv \\\n",
    "> ./code/create_cmdline_tool/geo2json/out/gpsdata.json"
   ]
  },
  {
   "cell_type": "code",
   "execution_count": 8,
   "metadata": {},
   "outputs": [
    {
     "name": "stdout",
     "output_type": "stream",
     "text": [
      "data=[\r\n",
      "{latitude: 42.363400, longitude: -71.098465, info: 'Speed = 21'},\r\n",
      "{latitude: 42.363327, longitude: -71.097588, info: 'Speed = 23'},\r\n",
      "{latitude: 42.363255, longitude: -71.096710, info: 'Speed = 17'},\r\n",
      "{latitude: 42.363182, longitude: -71.095833, info: 'Speed = 22'},\r\n",
      "{latitude: 42.363110, longitude: -71.094955, info: 'Speed = 14'},\r\n",
      "{latitude: 42.363037, longitude: -71.094078, info: 'Speed = 16'},\r\n",
      "{latitude: 42.362965, longitude: -71.093201, info: 'Speed = 18'},\r\n",
      "{latitude: 42.362892, longitude: -71.092323, info: 'Speed = 22'},\r\n",
      "{latitude: 42.362820, longitude: -71.091446, info: 'Speed = 17'},\r\n",
      "{latitude: 42.362747, longitude: -71.090569, info: 'Speed = 23'},\r\n",
      "{latitude: 42.362675, longitude: -71.089691, info: 'Speed = 14'},\r\n",
      "{latitude: 42.362602, longitude: -71.088814, info: 'Speed = 19'},\r\n",
      "{latitude: 42.362530, longitude: -71.087936, info: 'Speed = 16'},\r\n",
      "{latitude: 42.362457, longitude: -71.087059, info: 'Speed = 16'},\r\n",
      "{latitude: 423.623840, longitude: -71.086182, info: 'Speed = 21'}\r\n",
      "]\r\n"
     ]
    }
   ],
   "source": [
    "!cat ./code/create_cmdline_tool/geo2json/out/gpsdata.json"
   ]
  },
  {
   "cell_type": "markdown",
   "metadata": {},
   "source": [
    "### 数据验证\n",
    "\n",
    "不难发现,输入数据中有错误数据,我们的程序要加入一些验证逻辑来进行错误检验,当然了,错误信息应该输出在stderr里"
   ]
  },
  {
   "cell_type": "code",
   "execution_count": 9,
   "metadata": {},
   "outputs": [
    {
     "name": "stdout",
     "output_type": "stream",
     "text": [
      "Overwriting ./code/create_cmdline_tool/geo2json/source/src/geo2json.c\n"
     ]
    }
   ],
   "source": [
    "%%writefile ./code/create_cmdline_tool/geo2json/source/src/geo2json.c\n",
    "#include <stdio.h>\n",
    "\n",
    "int main(){\n",
    "    float latitude;\n",
    "    float longitude;\n",
    "    char info[80];\n",
    "    int started = 0;\n",
    "    puts(\"data=[\");\n",
    "    while (scanf(\"%f,%f,%79[^\\n]\",&latitude,&longitude,&info) == 3){\n",
    "        if (started){\n",
    "            printf(\",\\n\");\n",
    "        } else {\n",
    "            started = 1;\n",
    "        }\n",
    "        \n",
    "        if ((latitude < -90.0) || (latitude > 90.0)) {\n",
    "             fprintf(stderr,\"Invalid latitude: %f\\n\", latitude);\n",
    "             continue;\n",
    "        }\n",
    "        if ((longitude < -180.0) || (longitude > 180.0)) {\n",
    "             fprintf(stderr, \"Invalid longitude: %f\\n\", longitude);\n",
    "             continue;\n",
    "        }\n",
    "        \n",
    "        printf(\"{latitude: %f, longitude: %f, info: '%s'}\",latitude,longitude,info);\n",
    "    }\n",
    "    puts(\"\\n]\");\n",
    "    return 0;\n",
    "}"
   ]
  },
  {
   "cell_type": "code",
   "execution_count": 10,
   "metadata": {},
   "outputs": [
    {
     "name": "stdout",
     "output_type": "stream",
     "text": [
      "\u001b[35m\u001b[1mScanning dependencies of target geo2json\u001b[0m\n",
      "[ 50%] \u001b[32mBuilding C object CMakeFiles/geo2json.dir/source/src/geo2json.c.o\u001b[0m\n",
      "\u001b[1m/Users/huangsizhe/Workspace/Documents/TutorialForCLang/c-tool-chain/code/create_cmdline_tool/geo2json/source/src/geo2json.c:9:56: \u001b[0m\u001b[0;1;35mwarning: \u001b[0m\u001b[1m\n",
      "      format specifies type 'char *' but the argument has type 'char (*)[80]'\n",
      "      [-Wformat]\u001b[0m\n",
      "    while (scanf(\"%f,%f,%79[^\\n]\",&latitude,&longitude,&info) == 3){\n",
      "\u001b[0;1;32m                        ~~~~~~                         ^~~~~\n",
      "\u001b[0m1 warning generated.\n",
      "[100%] \u001b[32m\u001b[1mLinking C executable build/bin/geo2json\u001b[0m\n",
      "[100%] Built target geo2json\n"
     ]
    }
   ],
   "source": [
    "!make -C ./code/create_cmdline_tool/geo2json/"
   ]
  },
  {
   "cell_type": "code",
   "execution_count": 11,
   "metadata": {},
   "outputs": [
    {
     "name": "stdout",
     "output_type": "stream",
     "text": [
      "Invalid latitude: 423.623840\r\n"
     ]
    }
   ],
   "source": [
    "!./code/create_cmdline_tool/geo2json/build/bin/geo2json \\\n",
    "< ./code/create_cmdline_tool/geo2json/data/gpsdata.csv \\\n",
    "> ./code/create_cmdline_tool/geo2json/out/gpsdata.json"
   ]
  },
  {
   "cell_type": "code",
   "execution_count": 12,
   "metadata": {},
   "outputs": [
    {
     "name": "stdout",
     "output_type": "stream",
     "text": [
      "data=[\r\n",
      "{latitude: 42.363400, longitude: -71.098465, info: 'Speed = 21'},\r\n",
      "{latitude: 42.363327, longitude: -71.097588, info: 'Speed = 23'},\r\n",
      "{latitude: 42.363255, longitude: -71.096710, info: 'Speed = 17'},\r\n",
      "{latitude: 42.363182, longitude: -71.095833, info: 'Speed = 22'},\r\n",
      "{latitude: 42.363110, longitude: -71.094955, info: 'Speed = 14'},\r\n",
      "{latitude: 42.363037, longitude: -71.094078, info: 'Speed = 16'},\r\n",
      "{latitude: 42.362965, longitude: -71.093201, info: 'Speed = 18'},\r\n",
      "{latitude: 42.362892, longitude: -71.092323, info: 'Speed = 22'},\r\n",
      "{latitude: 42.362820, longitude: -71.091446, info: 'Speed = 17'},\r\n",
      "{latitude: 42.362747, longitude: -71.090569, info: 'Speed = 23'},\r\n",
      "{latitude: 42.362675, longitude: -71.089691, info: 'Speed = 14'},\r\n",
      "{latitude: 42.362602, longitude: -71.088814, info: 'Speed = 19'},\r\n",
      "{latitude: 42.362530, longitude: -71.087936, info: 'Speed = 16'},\r\n",
      "{latitude: 42.362457, longitude: -71.087059, info: 'Speed = 16'},\r\n",
      "\r\n",
      "]\r\n"
     ]
    }
   ],
   "source": [
    "!cat ./code/create_cmdline_tool/geo2json/out/gpsdata.json"
   ]
  },
  {
   "cell_type": "markdown",
   "metadata": {},
   "source": [
    "## 用C构建带参数的命令行工具\n",
    "\n",
    "`unistd.h`是C语言的一个准标准库,它是linux,mac osx等类unix系统的自带的库,但windows并不支持.要在windows下使用需要自己写一个头文件,如下:\n",
    "\n",
    "```cpp\n",
    "/** This file is part of the Mingw32 package. \n",
    "*  unistd.h maps     (roughly) to io.h \n",
    "*/  \n",
    "#ifndef _UNISTD_H  \n",
    "#define _UNISTD_H  \n",
    "#include <io.h>  \n",
    "#include <process.h>  \n",
    "#endif /* _UNISTD_H */ \n",
    "\n",
    "```\n",
    "\n",
    "\n",
    "使用它便利的构建命令行工具`getopt`\n",
    "\n",
    "`getopt()`用来分析命令行参数.参数`argc`和`argv`是由`main()`传递的参数个数和内容.参数`optstring`则代表欲处理的选项字符串.此函数会返回在`argv`中下一个的选项字母,此字母会对应参数`optstring`中的字母.如果选项字符串里的字母后接着冒号\":\".则表示还有相关的参数,全域变量`optarg` 即会指向此额外参数.如果`getopt()`找不到符合的参数则会印出错信息,并将全域变量`optopt`设为\"?\"字符,如果不希望`getopt()`印出错信息,则只要将全域变量`opterr`设为0即可.\n",
    "\n",
    "### 短参数的定义\n",
    "\n",
    "`getopt()`使用`optstring`所指的字串作为短参数列表,像`\"1ac:d::\"`就是一个短参数列表.短参数的定义是一个`'-'`后面跟一个字母或数字,象`-a`, `-b`就是一个短参数.每个数字或字母定义一个参数.\n",
    "\n",
    "其中短参数在`getopt`定义里分为三种：\n",
    "\n",
    "+ 不带值的参数,它的定义即是参数本身\n",
    "+ 必须带值的参数,它的定义是在参数本身后面再加一个冒号\n",
    "+ 可选值的参数,它的定义是在参数本身后面加两个冒号\n",
    "\n",
    "在这里拿上面的`\"1ac:d::\"`作为样例进行说明,其中的\n",
    "+ `1`,`a`就是不带值的参数\n",
    "+ `c`是必须带值的参数\n",
    "+ `d`是可选值的参数\n",
    "\n",
    "在实际调用中，`'-1 -a -c cvalue -d'`, `'-1 -a -c cvalue -ddvalue'`, `'-1a -ddvalue -c cvalue'`都是合法的.\n",
    "这里需要注意三点:\n",
    "\n",
    "+ 不带值的参数可以连写,像`1`和`a`是不带值的参数,它们可以`-1` `-a`分开写,也可以`-1a`或`-a1`连写.\n",
    "+ 参数不分先后顺序,`'-1a -c cvalue -ddvalue'`和`'-d -c cvalue -a1'`的解析结果是一样的.\n",
    "+ 要注意可选值的参数的值与参数之间不能有空格,必须写成`-ddvalue`这样的格式,如果写成`-d dvalue`这样的格式就会解析错误.\n",
    "\n",
    "### 返回值\n",
    "\n",
    "`getopt()`每次调用会逐次返回命令行传入的参数. 　 \n",
    "+ 当没有参数的最后的一次调用时,`getopt()`将返回-1.　 \n",
    "+ 当解析到一个不在`optstring`里面的参数，或者一个必选值参数不带值时,返回'?'.　 \n",
    "+ 当`optstring`是以':'开头时,缺值参数的情况下会返回':',而不是'?'."
   ]
  },
  {
   "cell_type": "code",
   "execution_count": 13,
   "metadata": {},
   "outputs": [
    {
     "name": "stdout",
     "output_type": "stream",
     "text": [
      "Writing ./code/create_cmdline_tool/sqrt_opt/source/src/sqrt_opt.c\n"
     ]
    }
   ],
   "source": [
    "%%writefile ./code/create_cmdline_tool/sqrt_opt/source/src/sqrt_opt.c\n",
    "#include <stdlib.h>\n",
    "#include <stdio.h>\n",
    "#include <unistd.h>\n",
    "#include <math.h>\n",
    "const char * version = \"0.1.0\";\n",
    "\n",
    "int main(int argc, char **argv)  {  \n",
    "    int ch; \n",
    "    double result;\n",
    "    opterr = 0;\n",
    "    while ((ch = getopt(argc,argv,\"s:v\\n\"))!=-1){  \n",
    "        switch(ch){  \n",
    "            case 'v':\n",
    "                printf(\"option v: %s\\n\",version);\n",
    "                break;  \n",
    "            case 's':\n",
    "                result = sqrt(atoi(optarg));\n",
    "                printf(\"%f\\n\",result);\n",
    "                break;\n",
    "            default:\n",
    "                printf(\"wrong args\\n\");\n",
    "        }  \n",
    "    }  \n",
    "    return 0;\n",
    "}  "
   ]
  },
  {
   "cell_type": "code",
   "execution_count": 18,
   "metadata": {},
   "outputs": [
    {
     "name": "stdout",
     "output_type": "stream",
     "text": [
      "Overwriting ./code/create_cmdline_tool/sqrt_opt/CMakeLists.txt\n"
     ]
    }
   ],
   "source": [
    "%%writefile ./code/create_cmdline_tool/sqrt_opt/CMakeLists.txt\n",
    "#项目编译环境\n",
    "cmake_minimum_required (VERSION 2.8)\n",
    "project (sqrt_opt)\n",
    "\n",
    "# 编译连接生成demo\n",
    "set(CMAKE_RUNTIME_OUTPUT_DIRECTORY ${CMAKE_BINARY_DIR}/build/bin)\n",
    "aux_source_directory(${CMAKE_BINARY_DIR}/source/src DIR_SRCS)\n",
    "add_executable(sqrt_opt ${DIR_SRCS})"
   ]
  },
  {
   "cell_type": "code",
   "execution_count": 19,
   "metadata": {},
   "outputs": [
    {
     "name": "stdout",
     "output_type": "stream",
     "text": [
      "-- Configuring done\n",
      "-- Generating done\n",
      "-- Build files have been written to: /Users/huangsizhe/Workspace/Documents/TutorialForCLang/c-tool-chain/code/create_cmdline_tool/sqrt_opt\n"
     ]
    }
   ],
   "source": [
    "!cmake ./code/create_cmdline_tool/sqrt_opt/CMakeLists.txt"
   ]
  },
  {
   "cell_type": "code",
   "execution_count": 20,
   "metadata": {},
   "outputs": [
    {
     "name": "stdout",
     "output_type": "stream",
     "text": [
      "\u001b[35m\u001b[1mScanning dependencies of target sqrt_opt\u001b[0m\n",
      "[ 50%] \u001b[32mBuilding C object CMakeFiles/sqrt_opt.dir/source/src/sqrt_opt.c.o\u001b[0m\n",
      "[100%] \u001b[32m\u001b[1mLinking C executable build/bin/sqrt_opt\u001b[0m\n",
      "[100%] Built target sqrt_opt\n"
     ]
    }
   ],
   "source": [
    "!make -C ./code/create_cmdline_tool/sqrt_opt/"
   ]
  },
  {
   "cell_type": "code",
   "execution_count": 21,
   "metadata": {},
   "outputs": [
    {
     "name": "stdout",
     "output_type": "stream",
     "text": [
      "option v: 0.1.0\r\n"
     ]
    }
   ],
   "source": [
    "!./code/create_cmdline_tool/sqrt_opt/build/bin/sqrt_opt -v"
   ]
  },
  {
   "cell_type": "code",
   "execution_count": 23,
   "metadata": {},
   "outputs": [
    {
     "name": "stdout",
     "output_type": "stream",
     "text": [
      "6.000000\r\n"
     ]
    }
   ],
   "source": [
    "!./code/create_cmdline_tool/sqrt_opt/build/bin/sqrt_opt -s36"
   ]
  },
  {
   "cell_type": "markdown",
   "metadata": {
    "collapsed": true
   },
   "source": [
    "### 使用cmake test 测试命令行工具\n",
    "\n",
    "cmake自带一个可以测试命令行工具的方案,我们来修改我们的`CMakeLists.txt`,测试的形式:\n",
    "\n",
    "```\n",
    "add_test (<test_case_name> ${CMAKE_BINARY_DIR}/build/bin/sqrt_opt -s36)\n",
    "set_tests_properties (<test_case_name>\n",
    "  PROPERTIES PASS_REGULAR_EXPRESSION \"6.0\")\n",
    "```\n",
    "\n",
    "`add_test`用于增加一条测试,`set_tests_properties`用于验证测试是否符合预期.使用`PASS_REGULAR_EXPRESSION`利用正则匹配来验证是否结果符合预期.\n"
   ]
  },
  {
   "cell_type": "code",
   "execution_count": 24,
   "metadata": {},
   "outputs": [
    {
     "name": "stdout",
     "output_type": "stream",
     "text": [
      "Overwriting ./code/create_cmdline_tool/sqrt_opt/CMakeLists.txt\n"
     ]
    }
   ],
   "source": [
    "%%writefile ./code/create_cmdline_tool/sqrt_opt/CMakeLists.txt\n",
    "#项目编译环境\n",
    "cmake_minimum_required (VERSION 2.8)\n",
    "project (sqrt_opt)\n",
    "\n",
    "# 编译连接生成demo\n",
    "set(CMAKE_RUNTIME_OUTPUT_DIRECTORY ${CMAKE_BINARY_DIR}/build/bin)\n",
    "aux_source_directory(${CMAKE_BINARY_DIR}/source/src DIR_SRCS)\n",
    "add_executable(sqrt_opt ${DIR_SRCS})\n",
    "#测试\n",
    "enable_testing()\n",
    "add_test (TEST_VERSION ${CMAKE_BINARY_DIR}/build/bin/sqrt_opt -v)\n",
    "set_tests_properties (TEST_VERSION\n",
    "  PROPERTIES PASS_REGULAR_EXPRESSION \"v: 0.1.0\")\n",
    "add_test (TEST_36 ${CMAKE_BINARY_DIR}/build/bin/sqrt_opt -s36)\n",
    "set_tests_properties (TEST_36\n",
    "  PROPERTIES PASS_REGULAR_EXPRESSION \"6.0\")\n",
    "add_test (TEST_2 ${CMAKE_BINARY_DIR}/build/bin/sqrt_opt -s2)\n",
    "set_tests_properties (TEST_2\n",
    "  PROPERTIES PASS_REGULAR_EXPRESSION \"1.41\")"
   ]
  },
  {
   "cell_type": "code",
   "execution_count": 25,
   "metadata": {},
   "outputs": [
    {
     "name": "stdout",
     "output_type": "stream",
     "text": [
      "-- Configuring done\n",
      "-- Generating done\n",
      "-- Build files have been written to: /Users/huangsizhe/Workspace/Documents/TutorialForCLang/c-tool-chain/code/create_cmdline_tool/sqrt_opt\n"
     ]
    }
   ],
   "source": [
    "!cmake ./code/create_cmdline_tool/sqrt_opt/CMakeLists.txt"
   ]
  },
  {
   "cell_type": "code",
   "execution_count": 26,
   "metadata": {},
   "outputs": [
    {
     "name": "stdout",
     "output_type": "stream",
     "text": [
      "[100%] Built target sqrt_opt\r\n"
     ]
    }
   ],
   "source": [
    "!make -C ./code/create_cmdline_tool/sqrt_opt/"
   ]
  },
  {
   "cell_type": "code",
   "execution_count": 27,
   "metadata": {},
   "outputs": [
    {
     "name": "stdout",
     "output_type": "stream",
     "text": [
      "\u001b[36mRunning tests...\u001b[0m\n",
      "Test project /Users/huangsizhe/Workspace/Documents/TutorialForCLang/c-tool-chain/code/create_cmdline_tool/sqrt_opt\n",
      "    Start 1: TEST_VERSION\n",
      "1/3 Test #1: TEST_VERSION .....................   Passed    0.01 sec\n",
      "    Start 2: TEST_36\n",
      "2/3 Test #2: TEST_36 ..........................   Passed    0.01 sec\n",
      "    Start 3: TEST_2\n",
      "3/3 Test #3: TEST_2 ...........................   Passed    0.01 sec\n",
      "\n",
      "\u001b[0;32m100% tests passed\u001b[0;0m, 0 tests failed\u001b[0;0m out of 3\n",
      "\n",
      "Total Test time (real) =   0.03 sec\n"
     ]
    }
   ],
   "source": [
    "!make -C ./code/create_cmdline_tool/sqrt_opt/ test"
   ]
  }
 ],
 "metadata": {
  "kernelspec": {
   "display_name": "Python 3",
   "language": "python",
   "name": "python3"
  },
  "language_info": {
   "codemirror_mode": {
    "name": "ipython",
    "version": 3
   },
   "file_extension": ".py",
   "mimetype": "text/x-python",
   "name": "python",
   "nbconvert_exporter": "python",
   "pygments_lexer": "ipython3",
   "version": "3.7.0"
  }
 },
 "nbformat": 4,
 "nbformat_minor": 2
}
