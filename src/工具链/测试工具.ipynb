{
 "cells": [
  {
   "cell_type": "markdown",
   "metadata": {},
   "source": [
    "# 测试工具\n",
    "\n",
    "\n",
    "C语言的单元测试比较简单,可以使用一个叫[minunit](https://github.com/siu/minunit)的工具.它是专门针对C语言单元测试用的,没有侵入性.只有一个头文件.只要在下载下来就能直接用.\n",
    "\n",
    "这个工具一般用于测试模块且单独使用,我们将compiler/C3的代码复制到test_tool下,并将minunit下载到test_tool/test/:"
   ]
  },
  {
   "cell_type": "code",
   "execution_count": 1,
   "metadata": {},
   "outputs": [
    {
     "name": "stdout",
     "output_type": "stream",
     "text": [
      "Overwriting ./code/test_tool/test/test.c\n"
     ]
    }
   ],
   "source": [
    "%%writefile ./code/test_tool/test/test.c\n",
    "#include \"minunit.h\"\n",
    "#include \"binary_vector.h\"\n",
    "\n",
    "struct BINARY_VECTOR A = {1.0,2.0},B = {3.0,4.0};\n",
    "\n",
    "MU_TEST(test_check_modA) {\n",
    "    mu_check(VEC_mod(&A) == 2.236068);\n",
    "}\n",
    "MU_TEST(test_check_modB) {\n",
    "    mu_check(VEC_mod(&B) == 5.000000);\n",
    "}\n",
    "MU_TEST(test_check_mulA_B) {\n",
    "    mu_check(VEC_mul(&A,&B) == 11.000000);\n",
    "}\n",
    "MU_TEST(test_check_addA_B) {\n",
    "    BINARY_VECTOR_P result = VEC_add(&A,&B);\n",
    "    mu_check(result->x == 4.000000);\n",
    "    mu_check(result->y == 6.000000);\n",
    "}\n",
    "MU_TEST_SUITE(test_suite) {\n",
    "    MU_RUN_TEST(test_check_modA);\n",
    "    MU_RUN_TEST(test_check_modB);\n",
    "    MU_RUN_TEST(test_check_mulA_B);\n",
    "    MU_RUN_TEST(test_check_addA_B);\n",
    "}\n",
    "\n",
    "int main(int argc, char *argv[]) {\n",
    "    MU_RUN_SUITE(test_suite);\n",
    "    MU_REPORT();\n",
    "    return 0;\n",
    "}\n"
   ]
  },
  {
   "cell_type": "code",
   "execution_count": 2,
   "metadata": {},
   "outputs": [
    {
     "name": "stdout",
     "output_type": "stream",
     "text": [
      "Overwriting ./code/test_tool/CMakeLists.txt\n"
     ]
    }
   ],
   "source": [
    "%%writefile ./code/test_tool/CMakeLists.txt\n",
    "#项目编译环境\n",
    "cmake_minimum_required (VERSION 2.8)\n",
    "project (binary_vector)\n",
    "include_directories(source/inc)\n",
    "# 编译动态链接库\n",
    "set(CMAKE_LIBRARY_OUTPUT_DIRECTORY ${CMAKE_BINARY_DIR}/build/lib)\n",
    "aux_source_directory(${CMAKE_BINARY_DIR}/source/src DIR_LIB_SRCS)\n",
    "add_library(vector SHARED ${DIR_LIB_SRCS})\n",
    "install(TARGETS   vector\n",
    "    LIBRARY DESTINATION  CMAKE_LIBRARY_OUTPUT_DIRECTORY  \n",
    ")  \n",
    "# 编译连接生成demo\n",
    "set(CMAKE_RUNTIME_OUTPUT_DIRECTORY ${CMAKE_BINARY_DIR}/build/bin)\n",
    "link_directories(${CMAKE_BINARY_DIR}/build/lib)\n",
    "link_libraries(vector)\n",
    "aux_source_directory(test DIR_SRCS)\n",
    "add_executable(Demo_Test ${DIR_SRCS})\n",
    "\n",
    "#测试\n",
    "enable_testing()\n",
    "add_test (TestRuns ${CMAKE_BINARY_DIR}/build/bin/Demo_Test)"
   ]
  },
  {
   "cell_type": "code",
   "execution_count": 3,
   "metadata": {},
   "outputs": [
    {
     "name": "stdout",
     "output_type": "stream",
     "text": [
      "-- Configuring done\n",
      "CMake Warning (dev):\n",
      "  Policy CMP0042 is not set: MACOSX_RPATH is enabled by default.  Run \"cmake\n",
      "  --help-policy CMP0042\" for policy details.  Use the cmake_policy command to\n",
      "  set the policy and suppress this warning.\n",
      "\n",
      "  MACOSX_RPATH is not specified for the following targets:\n",
      "\n",
      "   vector\n",
      "\n",
      "This warning is for project developers.  Use -Wno-dev to suppress it.\n",
      "\n",
      "-- Generating done\n",
      "-- Build files have been written to: /Users/huangsizhe/Workspace/Documents/TutorialForCLang/c-tool-chain/code/test_tool\n"
     ]
    }
   ],
   "source": [
    "!cmake ./code/test_tool/CMakeLists.txt"
   ]
  },
  {
   "cell_type": "code",
   "execution_count": 4,
   "metadata": {},
   "outputs": [
    {
     "name": "stdout",
     "output_type": "stream",
     "text": [
      "[ 66%] Built target vector\n",
      "\u001b[35m\u001b[1mScanning dependencies of target Demo_Test\u001b[0m\n",
      "[ 83%] \u001b[32mBuilding C object CMakeFiles/Demo_Test.dir/test/test.c.o\u001b[0m\n",
      "[100%] \u001b[32m\u001b[1mLinking C executable build/bin/Demo_Test\u001b[0m\n",
      "[100%] Built target Demo_Test\n"
     ]
    }
   ],
   "source": [
    "!make -C ./code/test_tool/"
   ]
  },
  {
   "cell_type": "code",
   "execution_count": 5,
   "metadata": {},
   "outputs": [
    {
     "name": "stdout",
     "output_type": "stream",
     "text": [
      "\u001b[36mRunning tests...\u001b[0m\n",
      "Test project /Users/huangsizhe/Workspace/Documents/TutorialForCLang/c-tool-chain/code/test_tool\n",
      "    Start 1: TestRuns\n",
      "1/1 Test #1: TestRuns .........................   Passed    0.01 sec\n",
      "\n",
      "\u001b[0;32m100% tests passed\u001b[0;0m, 0 tests failed\u001b[0;0m out of 1\n",
      "\n",
      "Total Test time (real) =   0.01 sec\n"
     ]
    }
   ],
   "source": [
    "!make -C ./code/test_tool/ test"
   ]
  },
  {
   "cell_type": "code",
   "execution_count": 6,
   "metadata": {},
   "outputs": [
    {
     "name": "stdout",
     "output_type": "stream",
     "text": [
      "F\r\n",
      "test_check_modA failed:\r\n",
      "\t/Users/huangsizhe/Workspace/Documents/TutorialForCLang/c-tool-chain/code/test_tool/test/test.c:7: VEC_mod(&A) == 2.236068\r\n",
      "....\r\n",
      "\r\n",
      "4 tests, 5 assertions, 1 failures\r\n",
      "\r\n",
      "Finished in 0.00013472 seconds (real) 0.00006700 seconds (proc)\r\n",
      "\r\n"
     ]
    }
   ],
   "source": [
    "!./code/test_tool/build/bin/Demo_Test"
   ]
  },
  {
   "cell_type": "markdown",
   "metadata": {},
   "source": [
    "## Cmake的ctest工具\n",
    "\n",
    "一般来说用Cmake都会用ctest作为测试工具,不过我并不推荐将它用在编写模块的时候,因为太重了,不过如果是用来测试一些比较复杂的命令行工具,他还是很不错的"
   ]
  }
 ],
 "metadata": {
  "kernelspec": {
   "display_name": "Python 3",
   "language": "python",
   "name": "python3"
  },
  "language_info": {
   "codemirror_mode": {
    "name": "ipython",
    "version": 3
   },
   "file_extension": ".py",
   "mimetype": "text/x-python",
   "name": "python",
   "nbconvert_exporter": "python",
   "pygments_lexer": "ipython3",
   "version": "3.7.0"
  }
 },
 "nbformat": 4,
 "nbformat_minor": 2
}
