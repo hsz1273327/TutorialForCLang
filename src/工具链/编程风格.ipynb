{
 "cells": [
  {
   "cell_type": "markdown",
   "metadata": {},
   "source": [
    "# 编程风格\n",
    "\n",
    "任何语言的编程风格都是一个很个性化的东西,但明确风格又非常有意义.\n",
    "\n",
    "深入讨论之前，首先要明确编程风格的意义所在，基本的有：\n",
    "\n",
    "+ 美观\n",
    "+ 方便阅读\n",
    "+ 易于理解\n",
    "+ 方便修改和维护\n",
    "+ 方便审查\n",
    "+ 方便测试\n",
    "+ 程序效率\n",
    "+ 代码质量\n",
    "+ 方便编写\n",
    "\n",
    "\n",
    "就如同艺术流派的多样性一样,编码风格没有特定的统一规范,不同的软件项目或者企业有不同的艺术风格,比如说我一般使用vscode写程序,而其中可以在`C_Cpp.clang_format_fallbackStyle`中设置使用\n",
    "+ `Visual Studio`\n",
    "+ `LLVM`\n",
    "+ `Google`\n",
    "+ `Chromium`\n",
    "+ `Mozilla`\n",
    "+ `WebKit`\n",
    "\n",
    "这么几种预设风格之一,我一般喜欢使用`Google`风格,同时可以设置\n",
    "\n",
    "`\"C_Cpp.clang_format_style\": \"{ BasedOnStyle: Google, IndentWidth: 4 }\"`\n",
    "\n",
    "这样就可以让缩进为4个空格,以和python的风格一致."
   ]
  },
  {
   "cell_type": "markdown",
   "metadata": {},
   "source": [
    "## 头文件结构\n",
    "\n",
    "头文件用于定义接口,接口的设计准则大致可以归纳为以下几点:\n",
    "\n",
    "+ 单一职责\n",
    "\n",
    "    C语言语法简单,可执行结构也只有函数,我们的函数应该功能单一\n",
    "    \n",
    "+ 接口与实现分离\n",
    "\n",
    "    接口的设计应该尽量与实现分离,以防止给不同的实现制造麻烦\n",
    "    \n",
    "+ 合理的\"面向对象\"\n",
    "\n",
    "    我们可以参考Go语言,以一个头文件来描述一个对象,用结构体描述属性,相关函数模拟成员函数.但面向对象最好仅限于此\n",
    "\n",
    "没有特殊情况的话,头文件应该按顺序是这样的形式:\n",
    "\n",
    "1. 防止重复引用的宏\n",
    "\n",
    "    ```c\n",
    "    #ifndef XXX_H\n",
    "    #define XXX_H//一般是文件名的大写 头文件结尾写上一行\n",
    "\n",
    "    #endif\n",
    "    ```\n",
    "\n",
    "2. 定义结构体\n",
    "\n",
    "3. 定义`typedef`\n",
    "\n",
    "4. 定义函数\n",
    "\n",
    "5. 定义宏\n"
   ]
  },
  {
   "cell_type": "markdown",
   "metadata": {},
   "source": [
    "## 关于结构体的使用\n",
    "\n",
    "我们一般会使用`typedef`将结构体定义为类型,但通常结构体操作多是指针操作,因此实际中我们在头文件中一般这样定义:\n",
    "\n",
    "```c\n",
    "struct xxx;\n",
    "\n",
    "typedef xxx * yyy\n",
    "```\n",
    "\n",
    "这样的好处是yyy可以直接指代结构体的指针,我们完全可以把它当作类似python中的类型来使用,只是取成员的时候要注意使用`->`符号.\n",
    "\n",
    "同时,struct不在头文件中实现,这样便于不同的实现使用不同的结构从而带来更多的灵活性."
   ]
  }
 ],
 "metadata": {
  "kernelspec": {
   "display_name": "Python 3",
   "language": "python",
   "name": "python3"
  },
  "language_info": {
   "codemirror_mode": {
    "name": "ipython",
    "version": 3
   },
   "file_extension": ".py",
   "mimetype": "text/x-python",
   "name": "python",
   "nbconvert_exporter": "python",
   "pygments_lexer": "ipython3",
   "version": "3.7.0"
  }
 },
 "nbformat": 4,
 "nbformat_minor": 2
}
