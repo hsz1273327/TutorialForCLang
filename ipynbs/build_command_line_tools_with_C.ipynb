{
 "cells": [
  {
   "cell_type": "markdown",
   "metadata": {},
   "source": [
    "# 用C/C++构建命令行工具\n",
    "\n",
    "C提供了一个标准的头文件来便利的构建命令行工具`getopt`,他在`unistd.h`中\n",
    "\n",
    "getopt()用来分析命令行参数。参数argc和argv是由main()传递的参数个数和内容。参数optstring 则代表欲处理的选项字符串。\n",
    "此函数会返回在argv 中下一个的选项字母，此字母会对应参数optstring 中的字母。如果选项字符串里的字母后接着冒号“:”，则表示还有相关的参数，全域变量optarg 即会指向此额外参数。如果getopt()找不到符合的参数则会印出错信息，并将全域变量optopt设为“?”字符，如果不希望getopt()印出错信息，则只要将全域变量opterr设为0即可。\n",
    " \n",
    "## 短参数的定义\n",
    "\n",
    "getopt()使用optstring所指的字串作为短参数列表，象\"1ac:d::\"就是一个短参数列表。短参数的定义是一个'-'后面跟一个字母或数字，象-a, -b就是一个短参数。每个数字或字母定义一个参数。 \n",
    "\n",
    "其中短参数在getopt定义里分为三种：\n",
    "\n",
    "1. 不带值的参数，它的定义即是参数本身。\n",
    "2. 必须带值的参数，它的定义是在参数本身后面再加一个冒号。\n",
    "3. 可选值的参数，它的定义是在参数本身后面加两个冒号 。\n",
    "\n",
    "\n",
    "在这里拿上面的\"1ac:d::\"作为样例进行说明，其中的1,a就是不带值的参数，c是必须带值的参数，d是可选值的参数。\n",
    "在实际调用中，'-1 -a -c cvalue -d', '-1 -a -c cvalue -ddvalue', '-1a -ddvalue -c cvalue'都是合法的。这里需要注意三点：\n",
    "\n",
    "1. 不带值的参数可以连写，象1和a是不带值的参数，它们可以-1 -a分开写，也可以-1a或-a1连写。\n",
    "2. 参数不分先后顺序，'-1a -c cvalue -ddvalue'和'-d -c cvalue -a1'的解析结果是一样的。\n",
    "3. 要注意可选值的参数的值与参数之间不能有空格，必须写成-ddvalue这样的格式，如果写成-d dvalue这样的格式就会解析错误。\n",
    "\n",
    "## 返回值\n",
    "\n",
    "　  getopt()每次调用会逐次返回命令行传入的参数。\n",
    "　  当没有参数的最后的一次调用时，getopt()将返回-1。\n",
    "　   当解析到一个不在optstring里面的参数，或者一个必选值参数不带值时，返回'?'。\n",
    "　  当optstring是以':'开头时，缺值参数的情况下会返回':'，而不是'?' 。"
   ]
  },
  {
   "cell_type": "code",
   "execution_count": 11,
   "metadata": {
    "collapsed": false
   },
   "outputs": [
    {
     "name": "stdout",
     "output_type": "stream",
     "text": [
      "Overwriting src/c/sqrt_c.c\n"
     ]
    }
   ],
   "source": [
    "%%writefile src/c/sqrt_c.c\n",
    "#include <stdio.h>  \n",
    "#include <stdlib.h>\n",
    "#include<unistd.h>\n",
    "#include<math.h>\n",
    "\n",
    "int main(int argc, char **argv)  {  \n",
    "    int ch; \n",
    "    double result;\n",
    "    opterr = 0;  \n",
    "    char* version = \"0.1.0\";\n",
    "    while ((ch = getopt(argc,argv,\"s:v\\n\"))!=-1){  \n",
    "        switch(ch){  \n",
    "            case 'v':  \n",
    "                printf(\"option v: %s\\n\",version);  \n",
    "                break;  \n",
    "            case 's':\n",
    "                result = sqrt(atoi(optarg));\n",
    "                printf(\"%f\\n\",result);\n",
    "                break;\n",
    "            default:  \n",
    "                printf(\"wrong args\\n\");  \n",
    "        }  \n",
    "    }  \n",
    "    return 0;\n",
    "}  "
   ]
  },
  {
   "cell_type": "markdown",
   "metadata": {},
   "source": [
    "然后gcc编译`gcc -o sqrt_c sqrt_c.c`"
   ]
  },
  {
   "cell_type": "markdown",
   "metadata": {},
   "source": [
    "最后结果"
   ]
  },
  {
   "cell_type": "code",
   "execution_count": 12,
   "metadata": {
    "collapsed": false
   },
   "outputs": [
    {
     "name": "stdout",
     "output_type": "stream",
     "text": [
      "option v: 0.1.0\r\n"
     ]
    }
   ],
   "source": [
    "!src/c/sqrt_c -v"
   ]
  },
  {
   "cell_type": "code",
   "execution_count": 13,
   "metadata": {
    "collapsed": false
   },
   "outputs": [
    {
     "name": "stdout",
     "output_type": "stream",
     "text": [
      "6.000000\r\n"
     ]
    }
   ],
   "source": [
    "!src/c/sqrt_c -s36"
   ]
  }
 ],
 "metadata": {
  "kernelspec": {
   "display_name": "Python 2",
   "language": "python",
   "name": "python2"
  },
  "language_info": {
   "codemirror_mode": {
    "name": "ipython",
    "version": 2
   },
   "file_extension": ".py",
   "mimetype": "text/x-python",
   "name": "python",
   "nbconvert_exporter": "python",
   "pygments_lexer": "ipython2",
   "version": "2.7.12"
  }
 },
 "nbformat": 4,
 "nbformat_minor": 0
}
