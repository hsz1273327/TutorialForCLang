{
 "cells": [
  {
   "cell_type": "markdown",
   "metadata": {},
   "source": [
    "# C++的编程风格\n",
    "\n",
    "C语言诞生于1971年,C++诞生于1979年.历史既是积累也是包袱,想想这些年编程语言的发展,C++要不被历史淹没只有不断的自我改进,因此这个有着悠久历史语言有着非常杂的编程风格.这些风格大体分为:\n",
    "\n",
    "+ C with class风格\n",
    "    \n",
    "    C++完全支持C语言.不少人其实就是拿C++当C用,只是加上类支持而已\n",
    "    \n",
    "+ 面向对象风格\n",
    "\n",
    "    C++的初衷就是为了支持面向对象."
   ]
  }
 ],
 "metadata": {
  "kernelspec": {
   "display_name": "Python 3",
   "language": "python",
   "name": "python3"
  },
  "language_info": {
   "codemirror_mode": {
    "name": "ipython",
    "version": 3
   },
   "file_extension": ".py",
   "mimetype": "text/x-python",
   "name": "python",
   "nbconvert_exporter": "python",
   "pygments_lexer": "ipython3",
   "version": "3.6.0"
  }
 },
 "nbformat": 4,
 "nbformat_minor": 2
}
