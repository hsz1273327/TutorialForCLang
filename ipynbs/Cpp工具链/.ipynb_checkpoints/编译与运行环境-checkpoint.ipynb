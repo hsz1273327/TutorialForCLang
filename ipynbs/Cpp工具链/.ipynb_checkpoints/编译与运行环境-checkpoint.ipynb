{
 "cells": [
  {
   "cell_type": "markdown",
   "metadata": {},
   "source": [
    "# 编译与运行环境\n",
    "\n",
    "C/C++是静态语言,需要编译后才能执行.而编译的工具就是编译器.最常见的C++编译器有:\n",
    "\n",
    "+ `GNU G++`开源大佬,linux上编译器的的代名词,在osx上也可以使用homebrew安装,windows上则有MinGW作为其移植版.\n",
    "+ `llvm+Clang`苹果资助的编译器,也是osx下默认的编译器.有不少黑科技,比如C++的repl,jit技术等,一点不像保守的苹果资助的东西.\n",
    "+ `MSVC`微软家的御用编译器,vs内置的编译器.只能在windows下使用,要在命令行中使用需要将其加入环境变量`Path`\n",
    "\n",
    "\n",
    "对于C/C++来说,编译其本质就是将源文件转化为二进制文件或者可执行文件的过程,我们以一个小程序来作为例子,使用`gnu g++`工具来演示整个编译过程:"
   ]
  },
  {
   "cell_type": "code",
   "execution_count": 30,
   "metadata": {},
   "outputs": [
    {
     "name": "stdout",
     "output_type": "stream",
     "text": [
      "Overwriting ../codes/src/Cpp_tools/Cpp_compiler/section1/helloworld.cpp\n"
     ]
    }
   ],
   "source": [
    "%%writefile ../codes/src/Cpp_tools/Cpp_compiler/section1/helloworld.cpp\n",
    "#include <stdio.h>\n",
    "\n",
    "int main(){\n",
    "    printf(\"hello world\");\n",
    "    return 0;\n",
    "}"
   ]
  },
  {
   "cell_type": "markdown",
   "metadata": {},
   "source": [
    "## 步骤一:解读头文件,结合源文件,组合生成真正的待编译代码\n",
    "    \n",
    "这一步可以使用`-E`指令实现.这个过程只激活预处理,不生成文件,而是输出到标准输出.因此你需要把它重定向到一个输出文件里.,一般来说我们用后缀`.i`保存这个文件.\n",
    "\n",
    "这一步实际上做这些事儿:\n",
    "\n",
    "+ 宏的替换\n",
    "+ 注释的消除\n",
    "+ 还有找到相关的库文件\n",
    "+ 执行模板,将模板翻译成源码的实现\n",
    "+ 将#include文件的全部内容插入.若用`<>`括起文件则在系统的INCLUDE目录中寻找文件,若用`\" \"`括起文件则在当前目录中寻找文件."
   ]
  },
  {
   "cell_type": "code",
   "execution_count": 31,
   "metadata": {
    "scrolled": false
   },
   "outputs": [
    {
     "name": "stdout",
     "output_type": "stream",
     "text": [
      "# 1 \"../codes/src/Cpp_tools/Cpp_compiler/section1/helloworld.cpp\"\n",
      "# 1 \"<built-in>\" 1\n",
      "# 1 \"<built-in>\" 3\n",
      "# 336 \"<built-in>\" 3\n",
      "# 1 \"<command line>\" 1\n",
      "# 1 \"<built-in>\" 2\n",
      "# 1 \"../codes/src/Cpp_tools/Cpp_compiler/section1/helloworld.cpp\" 2\n",
      "# 1 \"/usr/include/stdio.h\" 1 3 4\n",
      "# 64 \"/usr/include/stdio.h\" 3 4\n",
      "# 1 \"/usr/include/sys/cdefs.h\" 1 3 4\n",
      "# 533 \"/usr/include/sys/cdefs.h\" 3 4\n",
      "# 1 \"/usr/include/sys/_symbol_aliasing.h\" 1 3 4\n",
      "# 534 \"/usr/include/sys/cdefs.h\" 2 3 4\n",
      "# 599 \"/usr/include/sys/cdefs.h\" 3 4\n",
      "# 1 \"/usr/include/sys/_posix_availability.h\" 1 3 4\n",
      "# 600 \"/usr/include/sys/cdefs.h\" 2 3 4\n",
      "# 65 \"/usr/include/stdio.h\" 2 3 4\n",
      "# 1 \"/usr/include/Availability.h\" 1 3 4\n",
      "# 172 \"/usr/include/Availability.h\" 3 4\n",
      "# 1 \"/usr/include/AvailabilityInternal.h\" 1 3 4\n",
      "# 173 \"/usr/include/Availability.h\" 2 3 4\n",
      "# 66 \"/usr/include/stdio.h\" 2 3 4\n",
      "\n",
      "# 1 \"/usr/include/_types.h\" 1 3 4\n",
      "# 27 \"/usr/include/_types.h\" 3 4\n",
      "# 1 \"/usr/include/sys/_types.h\" 1 3 4\n",
      "# 33 \"/usr/include/sys/_types.h\" 3 4\n",
      "# 1 \"/usr/include/machine/_types.h\" 1 3 4\n",
      "# 32 \"/usr/include/machine/_types.h\" 3 4\n",
      "# 1 \"/usr/include/i386/_types.h\" 1 3 4\n",
      "# 37 \"/usr/include/i386/_types.h\" 3 4\n",
      "typedef signed char __int8_t;\n",
      "\n",
      "\n",
      "\n",
      "typedef unsigned char __uint8_t;\n",
      "typedef short __int16_t;\n",
      "typedef unsigned short __uint16_t;\n",
      "typedef int __int32_t;\n",
      "typedef unsigned int __uint32_t;\n",
      "typedef long long __int64_t;\n",
      "typedef unsigned long long __uint64_t;\n",
      "\n",
      "typedef long __darwin_intptr_t;\n",
      "typedef unsigned int __darwin_natural_t;\n",
      "# 70 \"/usr/include/i386/_types.h\" 3 4\n",
      "typedef int __darwin_ct_rune_t;\n",
      "\n",
      "\n",
      "\n",
      "\n",
      "\n",
      "typedef union {\n",
      " char __mbstate8[128];\n",
      " long long _mbstateL;\n",
      "} __mbstate_t;\n",
      "\n",
      "typedef __mbstate_t __darwin_mbstate_t;\n",
      "\n",
      "\n",
      "typedef long int __darwin_ptrdiff_t;\n",
      "\n",
      "\n",
      "\n",
      "\n",
      "\n",
      "\n",
      "\n",
      "typedef long unsigned int __darwin_size_t;\n",
      "\n",
      "\n",
      "\n",
      "\n",
      "\n",
      "typedef __builtin_va_list __darwin_va_list;\n",
      "\n",
      "\n",
      "\n",
      "\n",
      "\n",
      "typedef int __darwin_wchar_t;\n",
      "\n",
      "\n",
      "\n",
      "\n",
      "typedef __darwin_wchar_t __darwin_rune_t;\n",
      "\n",
      "\n",
      "typedef int __darwin_wint_t;\n",
      "\n",
      "\n",
      "\n",
      "\n",
      "typedef unsigned long __darwin_clock_t;\n",
      "typedef __uint32_t __darwin_socklen_t;\n",
      "typedef long __darwin_ssize_t;\n",
      "typedef long __darwin_time_t;\n",
      "# 33 \"/usr/include/machine/_types.h\" 2 3 4\n",
      "# 34 \"/usr/include/sys/_types.h\" 2 3 4\n",
      "# 55 \"/usr/include/sys/_types.h\" 3 4\n",
      "typedef __int64_t __darwin_blkcnt_t;\n",
      "typedef __int32_t __darwin_blksize_t;\n",
      "typedef __int32_t __darwin_dev_t;\n",
      "typedef unsigned int __darwin_fsblkcnt_t;\n",
      "typedef unsigned int __darwin_fsfilcnt_t;\n",
      "typedef __uint32_t __darwin_gid_t;\n",
      "typedef __uint32_t __darwin_id_t;\n",
      "typedef __uint64_t __darwin_ino64_t;\n",
      "\n",
      "typedef __darwin_ino64_t __darwin_ino_t;\n",
      "\n",
      "\n",
      "\n",
      "typedef __darwin_natural_t __darwin_mach_port_name_t;\n",
      "typedef __darwin_mach_port_name_t __darwin_mach_port_t;\n",
      "typedef __uint16_t __darwin_mode_t;\n",
      "typedef __int64_t __darwin_off_t;\n",
      "typedef __int32_t __darwin_pid_t;\n",
      "typedef __uint32_t __darwin_sigset_t;\n",
      "typedef __int32_t __darwin_suseconds_t;\n",
      "typedef __uint32_t __darwin_uid_t;\n",
      "typedef __uint32_t __darwin_useconds_t;\n",
      "typedef unsigned char __darwin_uuid_t[16];\n",
      "typedef char __darwin_uuid_string_t[37];\n",
      "\n",
      "\n",
      "# 1 \"/usr/include/sys/_pthread/_pthread_types.h\" 1 3 4\n",
      "# 57 \"/usr/include/sys/_pthread/_pthread_types.h\" 3 4\n",
      "struct __darwin_pthread_handler_rec {\n",
      " void (*__routine)(void *);\n",
      " void *__arg;\n",
      " struct __darwin_pthread_handler_rec *__next;\n",
      "};\n",
      "\n",
      "struct _opaque_pthread_attr_t {\n",
      " long __sig;\n",
      " char __opaque[56];\n",
      "};\n",
      "\n",
      "struct _opaque_pthread_cond_t {\n",
      " long __sig;\n",
      " char __opaque[40];\n",
      "};\n",
      "\n",
      "struct _opaque_pthread_condattr_t {\n",
      " long __sig;\n",
      " char __opaque[8];\n",
      "};\n",
      "\n",
      "struct _opaque_pthread_mutex_t {\n",
      " long __sig;\n",
      " char __opaque[56];\n",
      "};\n",
      "\n",
      "struct _opaque_pthread_mutexattr_t {\n",
      " long __sig;\n",
      " char __opaque[8];\n",
      "};\n",
      "\n",
      "struct _opaque_pthread_once_t {\n",
      " long __sig;\n",
      " char __opaque[8];\n",
      "};\n",
      "\n",
      "struct _opaque_pthread_rwlock_t {\n",
      " long __sig;\n",
      " char __opaque[192];\n",
      "};\n",
      "\n",
      "struct _opaque_pthread_rwlockattr_t {\n",
      " long __sig;\n",
      " char __opaque[16];\n",
      "};\n",
      "\n",
      "struct _opaque_pthread_t {\n",
      " long __sig;\n",
      " struct __darwin_pthread_handler_rec *__cleanup_stack;\n",
      " char __opaque[8176];\n",
      "};\n",
      "\n",
      "typedef struct _opaque_pthread_attr_t __darwin_pthread_attr_t;\n",
      "typedef struct _opaque_pthread_cond_t __darwin_pthread_cond_t;\n",
      "typedef struct _opaque_pthread_condattr_t __darwin_pthread_condattr_t;\n",
      "typedef unsigned long __darwin_pthread_key_t;\n",
      "typedef struct _opaque_pthread_mutex_t __darwin_pthread_mutex_t;\n",
      "typedef struct _opaque_pthread_mutexattr_t __darwin_pthread_mutexattr_t;\n",
      "typedef struct _opaque_pthread_once_t __darwin_pthread_once_t;\n",
      "typedef struct _opaque_pthread_rwlock_t __darwin_pthread_rwlock_t;\n",
      "typedef struct _opaque_pthread_rwlockattr_t __darwin_pthread_rwlockattr_t;\n",
      "typedef struct _opaque_pthread_t *__darwin_pthread_t;\n",
      "# 81 \"/usr/include/sys/_types.h\" 2 3 4\n",
      "# 28 \"/usr/include/_types.h\" 2 3 4\n",
      "# 39 \"/usr/include/_types.h\" 3 4\n",
      "typedef int __darwin_nl_item;\n",
      "typedef int __darwin_wctrans_t;\n",
      "\n",
      "typedef __uint32_t __darwin_wctype_t;\n",
      "# 68 \"/usr/include/stdio.h\" 2 3 4\n",
      "\n",
      "\n",
      "\n",
      "# 1 \"/usr/include/sys/_types/_va_list.h\" 1 3 4\n",
      "# 31 \"/usr/include/sys/_types/_va_list.h\" 3 4\n",
      "typedef __darwin_va_list va_list;\n",
      "# 72 \"/usr/include/stdio.h\" 2 3 4\n",
      "# 1 \"/usr/include/sys/_types/_size_t.h\" 1 3 4\n",
      "# 30 \"/usr/include/sys/_types/_size_t.h\" 3 4\n",
      "typedef __darwin_size_t size_t;\n",
      "# 73 \"/usr/include/stdio.h\" 2 3 4\n",
      "# 1 \"/usr/include/sys/_types/_null.h\" 1 3 4\n",
      "# 74 \"/usr/include/stdio.h\" 2 3 4\n",
      "\n",
      "# 1 \"/usr/include/sys/stdio.h\" 1 3 4\n",
      "# 37 \"/usr/include/sys/stdio.h\" 3 4\n",
      "extern \"C\" {\n",
      "\n",
      "int renameat(int, const char *, int, const char *) __attribute__((availability(macosx,introduced=10.10)));\n",
      "\n",
      "}\n",
      "# 76 \"/usr/include/stdio.h\" 2 3 4\n",
      "\n",
      "typedef __darwin_off_t fpos_t;\n",
      "# 88 \"/usr/include/stdio.h\" 3 4\n",
      "struct __sbuf {\n",
      " unsigned char *_base;\n",
      " int _size;\n",
      "};\n",
      "\n",
      "\n",
      "struct __sFILEX;\n",
      "# 122 \"/usr/include/stdio.h\" 3 4\n",
      "typedef struct __sFILE {\n",
      " unsigned char *_p;\n",
      " int _r;\n",
      " int _w;\n",
      " short _flags;\n",
      " short _file;\n",
      " struct __sbuf _bf;\n",
      " int _lbfsize;\n",
      "\n",
      "\n",
      " void *_cookie;\n",
      " int (*_close)(void *);\n",
      " int (*_read) (void *, char *, int);\n",
      " fpos_t (*_seek) (void *, fpos_t, int);\n",
      " int (*_write)(void *, const char *, int);\n",
      "\n",
      "\n",
      " struct __sbuf _ub;\n",
      " struct __sFILEX *_extra;\n",
      " int _ur;\n",
      "\n",
      "\n",
      " unsigned char _ubuf[3];\n",
      " unsigned char _nbuf[1];\n",
      "\n",
      "\n",
      " struct __sbuf _lb;\n",
      "\n",
      "\n",
      " int _blksize;\n",
      " fpos_t _offset;\n",
      "} FILE;\n",
      "\n",
      "extern \"C\" {\n",
      "extern FILE *__stdinp;\n",
      "extern FILE *__stdoutp;\n",
      "extern FILE *__stderrp;\n",
      "}\n",
      "# 230 \"/usr/include/stdio.h\" 3 4\n",
      "extern \"C\" {\n",
      "void clearerr(FILE *);\n",
      "int fclose(FILE *);\n",
      "int feof(FILE *);\n",
      "int ferror(FILE *);\n",
      "int fflush(FILE *);\n",
      "int fgetc(FILE *);\n",
      "int fgetpos(FILE * , fpos_t *);\n",
      "char *fgets(char * , int, FILE *);\n",
      "\n",
      "\n",
      "\n",
      "FILE *fopen(const char * , const char * ) __asm(\"_\" \"fopen\" );\n",
      "\n",
      "int fprintf(FILE * , const char * , ...) __attribute__((__format__ (__printf__, 2, 3)));\n",
      "int fputc(int, FILE *);\n",
      "int fputs(const char * , FILE * ) __asm(\"_\" \"fputs\" );\n",
      "size_t fread(void * , size_t, size_t, FILE * );\n",
      "FILE *freopen(const char * , const char * ,\n",
      "                 FILE * ) __asm(\"_\" \"freopen\" );\n",
      "int fscanf(FILE * , const char * , ...) __attribute__((__format__ (__scanf__, 2, 3)));\n",
      "int fseek(FILE *, long, int);\n",
      "int fsetpos(FILE *, const fpos_t *);\n",
      "long ftell(FILE *);\n",
      "size_t fwrite(const void * , size_t, size_t, FILE * ) __asm(\"_\" \"fwrite\" );\n",
      "int getc(FILE *);\n",
      "int getchar(void);\n",
      "char *gets(char *);\n",
      "void perror(const char *);\n",
      "int printf(const char * , ...) __attribute__((__format__ (__printf__, 1, 2)));\n",
      "int putc(int, FILE *);\n",
      "int putchar(int);\n",
      "int puts(const char *);\n",
      "int remove(const char *);\n",
      "int rename (const char *, const char *);\n",
      "void rewind(FILE *);\n",
      "int scanf(const char * , ...) __attribute__((__format__ (__scanf__, 1, 2)));\n",
      "void setbuf(FILE * , char * );\n",
      "int setvbuf(FILE * , char * , int, size_t);\n",
      "int sprintf(char * , const char * , ...) __attribute__((__format__ (__printf__, 2, 3)));\n",
      "int sscanf(const char * , const char * , ...) __attribute__((__format__ (__scanf__, 2, 3)));\n",
      "FILE *tmpfile(void);\n",
      "\n",
      "\n",
      "__attribute__((deprecated(\"This function is provided for compatibility reasons only.  Due to security concerns inherent in the design of tmpnam(3), it is highly recommended that you use mkstemp(3) instead.\")))\n",
      "\n",
      "char *tmpnam(char *);\n",
      "int ungetc(int, FILE *);\n",
      "int vfprintf(FILE * , const char * , va_list) __attribute__((__format__ (__printf__, 2, 0)));\n",
      "int vprintf(const char * , va_list) __attribute__((__format__ (__printf__, 1, 0)));\n",
      "int vsprintf(char * , const char * , va_list) __attribute__((__format__ (__printf__, 2, 0)));\n",
      "}\n",
      "# 292 \"/usr/include/stdio.h\" 3 4\n",
      "extern \"C\" {\n",
      "\n",
      "\n",
      "\n",
      "char *ctermid(char *);\n",
      "\n",
      "\n",
      "\n",
      "\n",
      "\n",
      "FILE *fdopen(int, const char *) __asm(\"_\" \"fdopen\" );\n",
      "\n",
      "int fileno(FILE *);\n",
      "}\n",
      "# 314 \"/usr/include/stdio.h\" 3 4\n",
      "extern \"C\" {\n",
      "int pclose(FILE *);\n",
      "\n",
      "\n",
      "\n",
      "FILE *popen(const char *, const char *) __asm(\"_\" \"popen\" );\n",
      "\n",
      "}\n",
      "# 336 \"/usr/include/stdio.h\" 3 4\n",
      "extern \"C\" {\n",
      "int __srget(FILE *);\n",
      "int __svfscanf(FILE *, const char *, va_list) __attribute__((__format__ (__scanf__, 2, 0)));\n",
      "int __swbuf(int, FILE *);\n",
      "}\n",
      "\n",
      "\n",
      "\n",
      "\n",
      "\n",
      "\n",
      "\n",
      "inline __attribute__ ((__always_inline__)) int __sputc(int _c, FILE *_p) {\n",
      " if (--_p->_w >= 0 || (_p->_w >= _p->_lbfsize && (char)_c != '\\n'))\n",
      "  return (*_p->_p++ = _c);\n",
      " else\n",
      "  return (__swbuf(_c, _p));\n",
      "}\n",
      "# 373 \"/usr/include/stdio.h\" 3 4\n",
      "extern \"C\" {\n",
      "void flockfile(FILE *);\n",
      "int ftrylockfile(FILE *);\n",
      "void funlockfile(FILE *);\n",
      "int getc_unlocked(FILE *);\n",
      "int getchar_unlocked(void);\n",
      "int putc_unlocked(int, FILE *);\n",
      "int putchar_unlocked(int);\n",
      "\n",
      "\n",
      "\n",
      "int getw(FILE *);\n",
      "int putw(int, FILE *);\n",
      "\n",
      "\n",
      "\n",
      "__attribute__((deprecated(\"This function is provided for compatibility reasons only.  Due to security concerns inherent in the design of tempnam(3), it is highly recommended that you use mkstemp(3) instead.\")))\n",
      "\n",
      "char *tempnam(const char *, const char *) __asm(\"_\" \"tempnam\" );\n",
      "}\n",
      "# 411 \"/usr/include/stdio.h\" 3 4\n",
      "# 1 \"/usr/include/sys/_types/_off_t.h\" 1 3 4\n",
      "# 30 \"/usr/include/sys/_types/_off_t.h\" 3 4\n",
      "typedef __darwin_off_t off_t;\n",
      "# 412 \"/usr/include/stdio.h\" 2 3 4\n",
      "\n",
      "extern \"C\" {\n",
      "int fseeko(FILE *, off_t, int);\n",
      "off_t ftello(FILE *);\n",
      "}\n",
      "\n",
      "\n",
      "\n",
      "extern \"C\" {\n",
      "int snprintf(char * , size_t, const char * , ...) __attribute__((__format__ (__printf__, 3, 4)));\n",
      "int vfscanf(FILE * , const char * , va_list) __attribute__((__format__ (__scanf__, 2, 0)));\n",
      "int vscanf(const char * , va_list) __attribute__((__format__ (__scanf__, 1, 0)));\n",
      "int vsnprintf(char * , size_t, const char * , va_list) __attribute__((__format__ (__printf__, 3, 0)));\n",
      "int vsscanf(const char * , const char * , va_list) __attribute__((__format__ (__scanf__, 2, 0)));\n",
      "}\n",
      "# 436 \"/usr/include/stdio.h\" 3 4\n",
      "# 1 \"/usr/include/sys/_types/_ssize_t.h\" 1 3 4\n",
      "# 30 \"/usr/include/sys/_types/_ssize_t.h\" 3 4\n",
      "typedef __darwin_ssize_t ssize_t;\n",
      "# 437 \"/usr/include/stdio.h\" 2 3 4\n",
      "\n",
      "extern \"C\" {\n",
      "int dprintf(int, const char * , ...) __attribute__((__format__ (__printf__, 2, 3))) __attribute__((availability(macosx,introduced=10.7)));\n",
      "int vdprintf(int, const char * , va_list) __attribute__((__format__ (__printf__, 2, 0))) __attribute__((availability(macosx,introduced=10.7)));\n",
      "ssize_t getdelim(char ** , size_t * , int, FILE * ) __attribute__((availability(macosx,introduced=10.7)));\n",
      "ssize_t getline(char ** , size_t * , FILE * ) __attribute__((availability(macosx,introduced=10.7)));\n",
      "}\n",
      "\n",
      "\n",
      "\n",
      "\n",
      "\n",
      "\n",
      "\n",
      "extern \"C\" {\n",
      "extern const int sys_nerr;\n",
      "extern const char *const sys_errlist[];\n",
      "\n",
      "int asprintf(char ** , const char * , ...) __attribute__((__format__ (__printf__, 2, 3)));\n",
      "char *ctermid_r(char *);\n",
      "char *fgetln(FILE *, size_t *);\n",
      "const char *fmtcheck(const char *, const char *);\n",
      "int fpurge(FILE *);\n",
      "void setbuffer(FILE *, char *, int);\n",
      "int setlinebuf(FILE *);\n",
      "int vasprintf(char ** , const char * , va_list) __attribute__((__format__ (__printf__, 2, 0)));\n",
      "FILE *zopen(const char *, const char *, int);\n",
      "\n",
      "\n",
      "\n",
      "\n",
      "\n",
      "FILE *funopen(const void *,\n",
      "                 int (*)(void *, char *, int),\n",
      "                 int (*)(void *, const char *, int),\n",
      "                 fpos_t (*)(void *, fpos_t, int),\n",
      "                 int (*)(void *));\n",
      "}\n",
      "# 2 \"../codes/src/Cpp_tools/Cpp_compiler/section1/helloworld.cpp\" 2\n",
      "\n",
      "int main(){\n",
      "    printf(\"hello world\");\n",
      "    return 0;\n",
      "}\n"
     ]
    }
   ],
   "source": [
    "!g++ -E ../codes/src/Cpp_tools/Cpp_compiler/section1/helloworld.cpp"
   ]
  },
  {
   "cell_type": "markdown",
   "metadata": {},
   "source": [
    "## 步骤二:将代码转译成汇编语言\n",
    "\n",
    "这一步可以使用`-S`指令实现.这个过程就是将上一步的这串字符转译成汇编代码.汇编代码说白了就是二进制代码中操作与资源的的替代而已.因此说C/C++和汇编其实也就一步之遥.这也是为什么很多时候嵌入式设备使用C语言编写的原因.\n",
    "\n",
    "\n",
    "生成`helloworld.s`文件,`.s`文件表示是汇编文件，用编辑器打开就都是汇编指令了\n"
   ]
  },
  {
   "cell_type": "code",
   "execution_count": 32,
   "metadata": {
    "collapsed": true
   },
   "outputs": [],
   "source": [
    "!g++ -o ../codes/src/Cpp_tools/Cpp_compiler/section1/helloworld.s \\\n",
    "-S ../codes/src/Cpp_tools/Cpp_compiler/section1/helloworld.cpp"
   ]
  },
  {
   "cell_type": "code",
   "execution_count": 33,
   "metadata": {},
   "outputs": [
    {
     "name": "stdout",
     "output_type": "stream",
     "text": [
      "\t.section\t__TEXT,__text,regular,pure_instructions\r\n",
      "\t.macosx_version_min 10, 11\r\n",
      "\t.globl\t_main\r\n",
      "\t.align\t4, 0x90\r\n",
      "_main:                                  ## @main\r\n",
      "\t.cfi_startproc\r\n",
      "## BB#0:\r\n",
      "\tpushq\t%rbp\r\n",
      "Ltmp0:\r\n",
      "\t.cfi_def_cfa_offset 16\r\n",
      "Ltmp1:\r\n",
      "\t.cfi_offset %rbp, -16\r\n",
      "\tmovq\t%rsp, %rbp\r\n",
      "Ltmp2:\r\n",
      "\t.cfi_def_cfa_register %rbp\r\n",
      "\tsubq\t$16, %rsp\r\n",
      "\tleaq\tL_.str(%rip), %rdi\r\n",
      "\tmovl\t$0, -4(%rbp)\r\n",
      "\tmovb\t$0, %al\r\n",
      "\tcallq\t_printf\r\n",
      "\txorl\t%ecx, %ecx\r\n",
      "\tmovl\t%eax, -8(%rbp)          ## 4-byte Spill\r\n",
      "\tmovl\t%ecx, %eax\r\n",
      "\taddq\t$16, %rsp\r\n",
      "\tpopq\t%rbp\r\n",
      "\tretq\r\n",
      "\t.cfi_endproc\r\n",
      "\r\n",
      "\t.section\t__TEXT,__cstring,cstring_literals\r\n",
      "L_.str:                                 ## @.str\r\n",
      "\t.asciz\t\"hello world\"\r\n",
      "\r\n",
      "\r\n",
      ".subsections_via_symbols\r\n"
     ]
    }
   ],
   "source": [
    "!cat ../codes/src/Cpp_tools/Cpp_compiler/section1/helloworld.s"
   ]
  },
  {
   "cell_type": "markdown",
   "metadata": {},
   "source": [
    "## 步骤三:将汇编语言的代码再编译为二进制代码\n",
    "\n",
    "这一步使用`-c`指令,将汇编代码编译位二进制代码.注意这依然不是可执行文件,因为其中使用的函数很可能并不包含在二进制文件中."
   ]
  },
  {
   "cell_type": "code",
   "execution_count": 34,
   "metadata": {
    "collapsed": true
   },
   "outputs": [],
   "source": [
    "!g++ -o ../codes/src/Cpp_tools/Cpp_compiler/section1/helloworld.o -c ../codes/src/Cpp_tools/Cpp_compiler/section1/helloworld.cpp"
   ]
  },
  {
   "cell_type": "code",
   "execution_count": 35,
   "metadata": {},
   "outputs": [
    {
     "name": "stdout",
     "output_type": "stream",
     "text": [
      "����\u0007\u0000\u0000\u0001\u0003\u0000\u0000\u0000\u0001\u0000\u0000\u0000\u0004\u0000\u0000\u0000\u0000\u0002\u0000\u0000\u0000 \u0000\u0000\u0000\u0000\u0000\u0000\u0019\u0000\u0000\u0000�\u0001\u0000\u0000\u0000\u0000\u0000\u0000\u0000\u0000\u0000\u0000\u0000\u0000\u0000\u0000\u0000\u0000\u0000\u0000\u0000\u0000\u0000\u0000\u0000\u0000\u0000\u0000�\u0000\u0000\u0000\u0000\u0000\u0000\u0000 \u0002\u0000\u0000\u0000\u0000\u0000\u0000�\u0000\u0000\u0000\u0000\u0000\u0000\u0000\u0007\u0000\u0000\u0000\u0007\u0000\u0000\u0000\u0004\u0000\u0000\u0000\u0000\u0000\u0000\u0000__text\u0000\u0000\u0000\u0000\u0000\u0000\u0000\u0000\u0000\u0000__TEXT\u0000\u0000\u0000\u0000\u0000\u0000\u0000\u0000\u0000\u0000\u0000\u0000\u0000\u0000\u0000\u0000\u0000\u0000*\u0000\u0000\u0000\u0000\u0000\u0000\u0000 \u0002\u0000\u0000\u0004\u0000\u0000\u0000�\u0002\u0000\u0000\u0002\u0000\u0000\u0000\u0000\u0004\u0000�\u0000\u0000\u0000\u0000\u0000\u0000\u0000\u0000\u0000\u0000\u0000\u0000__cstring\u0000\u0000\u0000\u0000\u0000\u0000\u0000__TEXT\u0000\u0000\u0000\u0000\u0000\u0000\u0000\u0000\u0000\u0000*\u0000\u0000\u0000\u0000\u0000\u0000\u0000\f",
      "\u0000\u0000\u0000\u0000\u0000\u0000\u0000J\u0002\u0000\u0000\u0000\u0000\u0000\u0000\u0000\u0000\u0000\u0000\u0000\u0000\u0000\u0000\u0002\u0000\u0000\u0000\u0000\u0000\u0000\u0000\u0000\u0000\u0000\u0000\u0000\u0000\u0000\u0000__compact_unwind__LD\u0000\u0000\u0000\u0000\u0000\u0000\u0000\u0000\u0000\u0000\u0000\u00008\u0000\u0000\u0000\u0000\u0000\u0000\u0000 \u0000\u0000\u0000\u0000\u0000\u0000\u0000X\u0002\u0000\u0000\u0003\u0000\u0000\u0000�\u0002\u0000\u0000\u0001\u0000\u0000\u0000\u0000\u0000\u0000\u0002\u0000\u0000\u0000\u0000\u0000\u0000\u0000\u0000\u0000\u0000\u0000\u0000__eh_frame\u0000\u0000\u0000\u0000\u0000\u0000__TEXT\u0000\u0000\u0000\u0000\u0000\u0000\u0000\u0000\u0000\u0000X\u0000\u0000\u0000\u0000\u0000\u0000\u0000@\u0000\u0000\u0000\u0000\u0000\u0000\u0000x\u0002\u0000\u0000\u0003\u0000\u0000\u0000\u0000\u0000\u0000\u0000\u0000\u0000\u0000\u0000\u000b",
      "\u0000\u0000h\u0000\u0000\u0000\u0000\u0000\u0000\u0000\u0000\u0000\u0000\u0000\u0000$\u0000\u0000\u0000\u0010\u0000\u0000\u0000\u0000\u000b",
      "\r\n",
      "\u0000\u0000\u0000\u0000\u0000\u0002\u0000\u0000\u0000\u0018\u0000\u0000\u0000�\u0002\u0000\u0000\u0002\u0000\u0000\u0000�\u0002\u0000\u0000\u0010\u0000\u0000\u0000\u000b",
      "\u0000\u0000\u0000P\u0000\u0000\u0000\u0000\u0000\u0000\u0000\u0000\u0000\u0000\u0000\u0000\u0000\u0000\u0000\u0001\u0000\u0000\u0000\u0001\u0000\u0000\u0000\u0001\u0000\u0000\u0000\u0000\u0000\u0000\u0000\u0000\u0000\u0000\u0000\u0000\u0000\u0000\u0000\u0000\u0000\u0000\u0000\u0000\u0000\u0000\u0000\u0000\u0000\u0000\u0000\u0000\u0000\u0000\u0000\u0000\u0000\u0000\u0000\u0000\u0000\u0000\u0000\u0000\u0000\u0000\u0000\u0000\u0000\u0000\u0000\u0000\u0000\u0000\u0000UH��H��\u0010H�=\u001b\u0000\u0000\u0000�E�\u0000\u0000\u0000\u0000�\u0000�\u0000\u0000\u0000\u00001ɉE���H��\u0010]�hello world\u0000\u0000\u0000\u0000\u0000\u0000\u0000\u0000\u0000\u0000\u0000*\u0000\u0000\u0000\u0000\u0000\u0000\u0001\u0000\u0000\u0000\u0000\u0000\u0000\u0000\u0000\u0000\u0000\u0000\u0000\u0000\u0000\u0000\u0000\u0014\u0000\u0000\u0000\u0000\u0000\u0000\u0000\u0001zR\u0000\u0001x\u0010\u0001\u0010\f",
      "\u0007\b�\u0001\u0000\u0000$\u0000\u0000\u0000\u001c",
      "\u0000\u0000\u0000��������*\u0000\u0000\u0000\u0000\u0000\u0000\u0000\u0000A\u000e\u0010�\u0002C\r",
      "\u0006\u0000\u0000\u0000\u0000\u0000\u0000\u0000\u0019\u0000\u0000\u0000\u0001\u0000\u0000-\u000b",
      "\u0000\u0000\u0000\u0002\u0000\u0000\u0015\u0000\u0000\u0000\u0000\u0001\u0000\u0000\u0006\u0001\u0000\u0000\u0000\u000f\u0001\u0000\u0000\u0000\u0000\u0000\u0000\u0000\u0000\u0000\u0000\u0007\u0000\u0000\u0000\u0001\u0000\u0000\u0000\u0000\u0000\u0000\u0000\u0000\u0000\u0000\u0000\u0000_main\u0000_printf\u0000\u0000"
     ]
    }
   ],
   "source": [
    "!cat ../codes/src/Cpp_tools/Cpp_compiler/section1/helloworld.o"
   ]
  },
  {
   "cell_type": "markdown",
   "metadata": {},
   "source": [
    "## 步骤四: 链接相关的二进制代码生成可执行文件\n",
    "\n",
    "这一步就是将与文件相关的函数库引入以生成最终的可执行文件."
   ]
  },
  {
   "cell_type": "code",
   "execution_count": 36,
   "metadata": {
    "collapsed": true
   },
   "outputs": [],
   "source": [
    "!g++ -o ../codes/bin/Cpp_tools/Cpp_compiler/section1/helloworld \\\n",
    "../codes/src/Cpp_tools/Cpp_compiler/section1/helloworld.o"
   ]
  },
  {
   "cell_type": "code",
   "execution_count": 37,
   "metadata": {},
   "outputs": [
    {
     "name": "stdout",
     "output_type": "stream",
     "text": [
      "hello world"
     ]
    }
   ],
   "source": [
    "!../codes/bin/Cpp_tools/Cpp_compiler/section1/helloworld"
   ]
  },
  {
   "cell_type": "markdown",
   "metadata": {},
   "source": [
    "# 多文件编译\n",
    "\n",
    "在第一helloworld那章已经提过如何编译一个多文件构成的项目,这边以一个稍微复杂些的例子来演示"
   ]
  },
  {
   "cell_type": "code",
   "execution_count": 38,
   "metadata": {},
   "outputs": [
    {
     "name": "stdout",
     "output_type": "stream",
     "text": [
      "Overwriting ../codes/include/Cpp_tools/Cpp_compiler/section2/binary_vector.hpp\n"
     ]
    }
   ],
   "source": [
    "%%writefile ../codes/include/Cpp_tools/Cpp_compiler/section2/binary_vector.hpp\n",
    "#ifndef BINARY_VECTOR_H\n",
    "#define BINARY_VECTOR_H//一般是文件名的大写 头文件结尾写上一行\n",
    "namespace Vector{\n",
    "typedef struct {\n",
    "    float x;\n",
    "    float y;\n",
    "} BINARY_VECTOR;\n",
    "}\n",
    "\n",
    "#endif"
   ]
  },
  {
   "cell_type": "code",
   "execution_count": 39,
   "metadata": {},
   "outputs": [
    {
     "name": "stdout",
     "output_type": "stream",
     "text": [
      "Overwriting ../codes/include/Cpp_tools/Cpp_compiler/section2/unary_operator.hpp\n"
     ]
    }
   ],
   "source": [
    "%%writefile ../codes/include/Cpp_tools/Cpp_compiler/section2/unary_operator.hpp\n",
    "#ifndef UNARY_OPERATOR_H\n",
    "#define UNARY_OPERATOR_H//一般是文件名的大写 头文件结尾写上一行\n",
    "#include \"binary_vector.hpp\"\n",
    "#include <math.h>\n",
    "namespace Vector{\n",
    "float mod(Vector::BINARY_VECTOR);\n",
    "}\n",
    "#endif"
   ]
  },
  {
   "cell_type": "code",
   "execution_count": 40,
   "metadata": {},
   "outputs": [
    {
     "name": "stdout",
     "output_type": "stream",
     "text": [
      "Overwriting ../codes/src/Cpp_tools/Cpp_compiler/section2/unary_operator.cpp\n"
     ]
    }
   ],
   "source": [
    "%%writefile ../codes/src/Cpp_tools/Cpp_compiler/section2/unary_operator.cpp\n",
    "#include \"unary_operator.hpp\"\n",
    "float Vector::mod(Vector::BINARY_VECTOR a){\n",
    "    float result = sqrt(a.x*a.x+a.y*a.y);\n",
    "    return result;\n",
    "}"
   ]
  },
  {
   "cell_type": "code",
   "execution_count": 41,
   "metadata": {},
   "outputs": [
    {
     "name": "stdout",
     "output_type": "stream",
     "text": [
      "Overwriting ../codes/include/Cpp_tools/Cpp_compiler/section2/binary_operator.hpp\n"
     ]
    }
   ],
   "source": [
    "%%writefile ../codes/include/Cpp_tools/Cpp_compiler/section2/binary_operator.hpp\n",
    "#ifndef BINARY_OPERATOR_H\n",
    "#define BINARY_OPERATOR_H//一般是文件名的大写 头文件结尾写上一行\n",
    "#include \"binary_vector.hpp\"\n",
    "namespace Vector{\n",
    "Vector::BINARY_VECTOR add(Vector::BINARY_VECTOR,Vector::BINARY_VECTOR);\n",
    "float mul(Vector::BINARY_VECTOR,Vector::BINARY_VECTOR);\n",
    "}\n",
    "#endif"
   ]
  },
  {
   "cell_type": "code",
   "execution_count": 42,
   "metadata": {},
   "outputs": [
    {
     "name": "stdout",
     "output_type": "stream",
     "text": [
      "Overwriting ../codes/src/Cpp_tools/Cpp_compiler/section2/binary_operator.cpp\n"
     ]
    }
   ],
   "source": [
    "%%writefile ../codes/src/Cpp_tools/Cpp_compiler/section2/binary_operator.cpp\n",
    "#include \"binary_operator.hpp\"\n",
    "Vector::BINARY_VECTOR Vector::add(Vector::BINARY_VECTOR a,Vector::BINARY_VECTOR b){\n",
    "    Vector::BINARY_VECTOR result = {a.x+b.x,a.y+b.y};\n",
    "    return result;\n",
    "}\n",
    "float Vector::mul(Vector::BINARY_VECTOR a,Vector::BINARY_VECTOR b){\n",
    "    float result = a.x*b.x+a.y*b.y;\n",
    "    return result;\n",
    "}"
   ]
  },
  {
   "cell_type": "code",
   "execution_count": 43,
   "metadata": {},
   "outputs": [
    {
     "name": "stdout",
     "output_type": "stream",
     "text": [
      "Overwriting ../codes/test/Cpp_tools/Cpp_compiler/section2/test.cpp\n"
     ]
    }
   ],
   "source": [
    "%%writefile ../codes/test/Cpp_tools/Cpp_compiler/section2/test.cpp\n",
    "#include <stdio.h>\n",
    "#include \"binary_vector.hpp\"\n",
    "#include \"binary_operator.hpp\"\n",
    "#include \"unary_operator.hpp\"\n",
    "\n",
    "int main(void){\n",
    "    Vector::BINARY_VECTOR A = {1,2},B = {3,4};\n",
    "    printf(\"mod(A)=%f\\n\",Vector::mod(A));\n",
    "    printf(\"mod(B)=%f\\n\",Vector::mod(B));\n",
    "    printf(\"mul(A,B)=%f\\n\",Vector::mul(A,B));\n",
    "    Vector::BINARY_VECTOR result = Vector::add(A,B);\n",
    "    printf(\"add(A,B)=<%f,%f>\\n\",result.x,result.y);\n",
    "}\n"
   ]
  },
  {
   "cell_type": "code",
   "execution_count": 44,
   "metadata": {
    "collapsed": true
   },
   "outputs": [],
   "source": [
    "!g++ -o ../codes/bin/Cpp_tools/Cpp_compiler/section2/test \\\n",
    "-I ../codes/include/Cpp_tools/Cpp_compiler/section2 \\\n",
    "../codes/src/Cpp_tools/Cpp_compiler/section2/*.cpp \\\n",
    "../codes/test/Cpp_tools/Cpp_compiler/section2/test.cpp"
   ]
  },
  {
   "cell_type": "code",
   "execution_count": 45,
   "metadata": {},
   "outputs": [
    {
     "name": "stdout",
     "output_type": "stream",
     "text": [
      "mod(A)=2.236068\r\n",
      "mod(B)=5.000000\r\n",
      "mul(A,B)=11.000000\r\n",
      "add(A,B)=<4.000000,6.000000>\r\n"
     ]
    }
   ],
   "source": [
    "!../codes/bin/Cpp_tools/Cpp_compiler/section2/test"
   ]
  },
  {
   "cell_type": "markdown",
   "metadata": {},
   "source": [
    "## 组织对外的接口\n",
    "\n",
    "上面的例子比较随性,基本上是一个头文件对应一个实现用的源文件.事实上头文件和实现并没有什么规定要这样对应,只是习惯上会这么做而已.\n",
    "\n",
    "头文件是用来申明对外接口的工具.其实只要申明的被实现了就可以使用.我们可以参考stl的设计.按照功能为接口分类,用多个头文件描述同一个模块,也可以像很多第三方工具一样使用单一的头文件将接口描述,而在实现上使用多源文件.\n",
    "\n",
    "本节的代码主要是整理上面的代码,我们知道C++可以用面向对象的范式编程.这也是C++诞生的初衷之一.作为pythoner,我们也更加熟悉使用类来抽象我们的逻辑.我们将上面的代码整理成使用类封装的形式."
   ]
  },
  {
   "cell_type": "code",
   "execution_count": 117,
   "metadata": {},
   "outputs": [
    {
     "name": "stdout",
     "output_type": "stream",
     "text": [
      "Overwriting ../codes/include/Cpp_tools/Cpp_compiler/section3/vector.hpp\n"
     ]
    }
   ],
   "source": [
    "%%writefile ../codes/include/Cpp_tools/Cpp_compiler/section3/vector.hpp\n",
    "#ifndef BINARY_VECTOR_HPP\n",
    "#define BINARY_VECTOR_HPP//一般是文件名的大写 头文件结尾写上一行\n",
    "namespace Vector{\n",
    "class BinaryVector{\n",
    "public:\n",
    "    float x;\n",
    "    float y;\n",
    "    \n",
    "    BinaryVector();\n",
    "    BinaryVector(const BinaryVector&);\n",
    "    BinaryVector operator=(const BinaryVector &);\n",
    "    BinaryVector(BinaryVector&&);\n",
    "    BinaryVector operator=(BinaryVector &&);\n",
    "    \n",
    "    BinaryVector(float,float);\n",
    "    BinaryVector(int,float);\n",
    "    BinaryVector(int,int);\n",
    "    BinaryVector(float,int);\n",
    "    \n",
    "    \n",
    "    float mod();\n",
    "    float mul(const BinaryVector&);\n",
    "    BinaryVector add(const BinaryVector&);\n",
    "    \n",
    "    float operator*(const BinaryVector&);\n",
    "    BinaryVector operator+(const BinaryVector&);\n",
    "};\n",
    "}\n",
    "\n",
    "#endif"
   ]
  },
  {
   "cell_type": "markdown",
   "metadata": {},
   "source": [
    "C/C++的特点之一就是申明与实现分离,这也决定了其开发方式和python截然相反,python一般是想到哪里写到哪里,比较适合敏捷开发,而C/C++明显更适合先整体构思好了再动手写.因此才说python适合原型开发快速迭代,而C/C++适合写稳定的业务."
   ]
  },
  {
   "cell_type": "code",
   "execution_count": 118,
   "metadata": {},
   "outputs": [
    {
     "name": "stdout",
     "output_type": "stream",
     "text": [
      "Overwriting ../codes/src/Cpp_tools/Cpp_compiler/section3/vector.cpp\n"
     ]
    }
   ],
   "source": [
    "%%writefile ../codes/src/Cpp_tools/Cpp_compiler/section3/vector.cpp\n",
    "#include <cmath>\n",
    "#include \"vector.hpp\"\n",
    "\n",
    "Vector::BinaryVector::BinaryVector()\n",
    ":x(0.0),y(0.0){\n",
    "}\n",
    "                            \n",
    "Vector::BinaryVector::BinaryVector(const Vector::BinaryVector & a)\n",
    ":x(a.x),y(a.y){\n",
    "}\n",
    "    \n",
    "Vector::BinaryVector Vector::BinaryVector::operator=(const Vector::BinaryVector & a){\n",
    "    if (this != &a) { \n",
    "        x = a.x; \n",
    "        y = a.y; \n",
    "    } \n",
    "    return *this; \n",
    "}\n",
    "\n",
    "Vector::BinaryVector::BinaryVector(Vector::BinaryVector && a)\n",
    ":x(a.x),y(a.y){\n",
    "    a.x = 0.0;\n",
    "    a.y = 0.0;\n",
    "}\n",
    "    \n",
    "Vector::BinaryVector Vector::BinaryVector::operator=(Vector::BinaryVector && a){\n",
    "    if (this != &a) { \n",
    "        x = a.x; \n",
    "        y = a.y; \n",
    "        a.x = 0.0;\n",
    "        a.y = 0.0;\n",
    "    }\n",
    "    \n",
    "    return *this; \n",
    "}\n",
    "    \n",
    "Vector::BinaryVector::BinaryVector(float in_x,float in_y)\n",
    ":x(in_x),y(in_y){\n",
    "}\n",
    "    \n",
    "Vector::BinaryVector::BinaryVector(int in_x,int in_y)\n",
    ":x(static_cast<float>(in_x)),y(static_cast<float>(in_y)){\n",
    "}\n",
    "    \n",
    "Vector::BinaryVector::BinaryVector(int in_x,float in_y)\n",
    ":x(static_cast<float>(in_x)),y(in_y){\n",
    "}\n",
    "    \n",
    "Vector::BinaryVector::BinaryVector(float in_x,int in_y)\n",
    ":x(in_x),y(static_cast<float>(in_y)){\n",
    "}\n",
    "                \n",
    "float Vector::BinaryVector::mod(){\n",
    "    float result = sqrt(x*x+y*y);\n",
    "    return result;\n",
    "}\n",
    "float Vector::BinaryVector::mul(const Vector::BinaryVector & that_vector){\n",
    "    float result = x*that_vector.x+y*that_vector.y;\n",
    "    return result;\n",
    "}      \n",
    "    \n",
    "Vector::BinaryVector Vector::BinaryVector::add(const Vector::BinaryVector & that_vector){\n",
    "    Vector::BinaryVector result(x+that_vector.x,y+that_vector.y);\n",
    "    return result;\n",
    "    \n",
    "}\n",
    "                            \n",
    "float Vector::BinaryVector::operator*(const Vector::BinaryVector& that_vector){\n",
    "    return mul(that_vector);\n",
    "}\n",
    "Vector::BinaryVector Vector::BinaryVector::operator+(const Vector::BinaryVector& that_vector){\n",
    "    return add(that_vector);\n",
    "}"
   ]
  },
  {
   "cell_type": "code",
   "execution_count": 152,
   "metadata": {},
   "outputs": [
    {
     "name": "stdout",
     "output_type": "stream",
     "text": [
      "Overwriting ../codes/test/Cpp_tools/Cpp_compiler/section3/test.cpp\n"
     ]
    }
   ],
   "source": [
    "%%writefile ../codes/test/Cpp_tools/Cpp_compiler/section3/test.cpp\n",
    "#include \"vector.hpp\"\n",
    "\n",
    "using Vector::BinaryVector;\n",
    "\n",
    "int main(){\n",
    "    BinaryVector A(1,2),B(3,4);\n",
    "    printf(\"mod(A)=%f\\n\",A.mod());\n",
    "    printf(\"mod(B)=%f\\n\",B.mod());\n",
    "    printf(\"mul(A,B)=%f\\n\",A*B);\n",
    "    BinaryVector result = A+B;\n",
    "    printf(\"add(A,B)=<%f,%f>\\n\",result.x,result.y);\n",
    "}\n"
   ]
  },
  {
   "cell_type": "code",
   "execution_count": 120,
   "metadata": {},
   "outputs": [],
   "source": [
    "!g++ -std=c++11 \\\n",
    "-o ../codes/bin/Cpp_tools/Cpp_compiler/section3/test \\\n",
    "-I ../codes/include/Cpp_tools/Cpp_compiler/section3 \\\n",
    "../codes/src/Cpp_tools/Cpp_compiler/section3/*.cpp \\\n",
    "../codes/test/Cpp_tools/Cpp_compiler/section3/test.cpp"
   ]
  },
  {
   "cell_type": "code",
   "execution_count": 121,
   "metadata": {},
   "outputs": [
    {
     "name": "stdout",
     "output_type": "stream",
     "text": [
      "mod(A)=2.236068\r\n",
      "mod(B)=5.000000\r\n",
      "mul(A,B)=11.000000\r\n",
      "add(A,B)=<4.000000,6.000000>\r\n"
     ]
    }
   ],
   "source": [
    "!../codes/bin/Cpp_tools/Cpp_compiler/section3/test"
   ]
  },
  {
   "cell_type": "markdown",
   "metadata": {},
   "source": [
    "# 链接库\n",
    "\n",
    "Java当初以跨平台作为重要的卖点,号称一次编译随处运行.其实C/C++当初也是这么宣传的,只不过对于C/C++来说跨平台指的是写好源码,头文件后可以在各个平台编译运行(系统资源接口的调用除外).但是显然这种跨平台很不彻底.而且很关键的一点是C++因为模板,内联函数等特性编译在静态语言中是数一数二的慢.这更加不便于团队合作和复用.\n",
    "\n",
    "实际上还有另外一种复用的方式,就是将代码编译成链接库.再在步骤四的时候链接到最终的代码中.链接库分为静态链接库和动态链接库两种.\n",
    "\n",
    "静态链接库与动态链接库都是共享代码的方式\n",
    "\n",
    "链接库是由第三步的.o文件组合而成,各个系统平台使用不同的规范实现,具体是什么规范这边不细说.总之不同平台编译出来的链接库是不能兼容的.但其实问题也不太大,完全可以编译好后共享出去.\n",
    "\n",
    "## 链接库的使用方法\n",
    "\n",
    "无论静态链接库还是动态链接库,命名规则都是`libxxx+后缀`,但编译的时候指定的名字就是`xxx`.而调用方法都是用`#include`导入后就可以直接使用.\n",
    "\n",
    "很多时候我们为了隐藏代码实现,在共享的时候可以指定好平台操作系统,之后只共享出链接库和头文件.这种方式不仅可以防止代码被人篡改或者侵权,更可以精简接口.\n",
    "\n",
    "## 静态连接库\n",
    "\n",
    "在linux中,而静态链接库用`.a`为后缀.windows中以`.lib`为后缀.osx中也以`.a`或`.framework`为后缀.当要使用静态链接库时,连接器会找出程序所需的函数,然后将它们拷贝到执行文件,由于这种拷贝是完整的,所以一旦连接成功,静态程序库也就不再需要了.\n",
    "\n",
    "### 静态链接库的优点 \n",
    "\n",
    "+ 代码装载速度快，执行速度略比动态链接库快； \n",
    "\n",
    "+ 只需保证在开发者的计算机中有正确的库文件,在以二进制形式发布程序时不需考虑在用户的计算机上的库文件是否存在及版本问题.\n",
    "\n",
    "### 不足之处\n",
    "\n",
    "+ 使用静态链接生成的可执行文件体积较大,包含相同的公共代码,造成浪费\n",
    "\n",
    "### 构建静态链接库\n",
    "\n",
    "我们还是以之前的二维向量作为例子,一般我们用ar(archive,归档的意思)把多个目标文件集合起来生成静态链接库文件."
   ]
  },
  {
   "cell_type": "markdown",
   "metadata": {},
   "source": [
    "## 静态连接库\n",
    "\n",
    "在linux中,而静态链接库用`.a`为后缀.windows中以`.lib`为后缀.osx中也以`.a`或`.framework`为后缀.当要使用静态链接库时,连接器会找出程序所需的函数,然后将它们拷贝到执行文件,由于这种拷贝是完整的,所以一旦连接成功,静态程序库也就不再需要了.\n",
    "\n",
    "### 静态链接库的优点 \n",
    "\n",
    "+ 代码装载速度快，执行速度略比动态链接库快； \n",
    "\n",
    "+ 只需保证在开发者的计算机中有正确的库文件,在以二进制形式发布程序时不需考虑在用户的计算机上的库文件是否存在及版本问题.\n",
    "\n",
    "### 不足之处\n",
    "\n",
    "+ 使用静态链接生成的可执行文件体积较大,包含相同的公共代码,造成浪费\n",
    "\n",
    "### 构建静态链接库\n",
    "\n",
    "我们还是以之前的二维向量作为例子,一般我们用ar(archive,归档的意思)把多个目标文件集合起来生成静态链接库文件."
   ]
  },
  {
   "cell_type": "code",
   "execution_count": 123,
   "metadata": {},
   "outputs": [],
   "source": [
    "!g++ -c \\\n",
    "-std=c++11 \\\n",
    "-o ../codes/lib/Cpp_tools/Cpp_compiler/section3/vector.o \\\n",
    "-I ../codes/include/Cpp_tools/Cpp_compiler/section3 \\\n",
    "../codes/src/Cpp_tools/Cpp_compiler/section3/vector.cpp"
   ]
  },
  {
   "cell_type": "code",
   "execution_count": 124,
   "metadata": {
    "collapsed": true
   },
   "outputs": [],
   "source": [
    "!ar -r ../codes/lib/Cpp_tools/Cpp_compiler/section3/libvector.a ../codes/lib/Cpp_tools/Cpp_compiler/section3/vector.o"
   ]
  },
  {
   "cell_type": "markdown",
   "metadata": {},
   "source": [
    "### 使用静态链接库\n",
    "\n",
    "要调用静态库我们依然需要头文件,我们需要一个头文件来描述这个静态库中的接口.我们可以使用之前的头文件`vector.hpp`.要使用静态链接库我们需要用`-L`来指定静态库所在的地址,再使用`-l`来指定静态库的名字.注意静态库的名字."
   ]
  },
  {
   "cell_type": "code",
   "execution_count": 126,
   "metadata": {},
   "outputs": [],
   "source": [
    "!g++ -std=c++11 \\\n",
    "-o ../codes/bin/Cpp_tools/Cpp_compiler/section3/test_a \\\n",
    "-I ../codes/include/Cpp_tools/Cpp_compiler/section3 \\\n",
    "-L ../codes/lib/Cpp_tools/Cpp_compiler/section3/ \\\n",
    "-l vector \\\n",
    "../codes/test/Cpp_tools/Cpp_compiler/section3/test.cpp"
   ]
  },
  {
   "cell_type": "code",
   "execution_count": 127,
   "metadata": {},
   "outputs": [
    {
     "name": "stdout",
     "output_type": "stream",
     "text": [
      "mod(A)=2.236068\r\n",
      "mod(B)=5.000000\r\n",
      "mul(A,B)=11.000000\r\n",
      "add(A,B)=<4.000000,6.000000>\r\n"
     ]
    }
   ],
   "source": [
    "!../codes/bin/Cpp_tools/Cpp_compiler/section3/test_a"
   ]
  },
  {
   "cell_type": "markdown",
   "metadata": {},
   "source": [
    "## 动态连接库\n",
    "\n",
    "在linux中,动态链接库通常用`.so`为后缀.在windows中,动态链接库通常用`.dll`为后缀.在osx中,动态链接库通常用`.dylib`为后缀.\n",
    "\n",
    "\n",
    "某个程序在运行中要调用某个动态链接库函数的时候,操作系统首先会查看所有正在运行的程序,看在内存里是否已有此库函数的拷贝了.如果有,则让其共享那一个拷贝;只有没有才链接载入.在程序运行的时候,被调用的动态链接库函数被安置在内存的某个地方,所有调用它的程序将指向这个代码段.因此,这些代码必须使用相对地址,而不是绝对地址.在编译的时候,我们需要告诉编译器,这些对象文件是用来做动态链接库的,所以要用地址不无关代码(Position Independent Code (PIC)).\n",
    "\n",
    "注意:Linux下进行连接的缺省操作是首先连接动态库,也就是说,如果同时存在静态和动态库,不特别指定的话,将与动态库相连接.\n",
    "\n",
    "\n",
    "###  动态链接库的优点 \n",
    "\n",
    "+ 更加节省内存并减少页面交换;\n",
    "\n",
    "+ 动态链接文件与可执行文件独立,只要输出接口不变(即名称、参数、返回值类型和调用约定不变),更换动态链接文件不会对可执行文件造成任何影响,因而极大地提高了可维护性和可扩展性;\n",
    "\n",
    "+ 不同编程语言编写的程序只要按照函数调用约定就可以调用同一个动态函数;\n",
    "\n",
    "+ 适用于大规模的软件开发，使开发过程独立、耦合度小,便于不同开发者和开发组织之间进行开发和测试.\n",
    "\n",
    "### 不足之处\n",
    "\n",
    "+ 使用动态链接库的应用程序不是自完备的,它依赖的动态模块也要存在,如果使用载入时动态链接,程序启动时发现动态模块不存在,系统将终止程序并给出错误信息.而使用运行时动态链接,系统不会终止,但由于动态库中的导出函数不可用,程序会加载失败\n",
    "+ 速度比静态链接慢.当某个模块更新后,如果新模块与旧的模块不兼容,那么那些需要该模块才能运行的软件,统统撕掉.\n",
    "\n",
    "### 编译动态链接库\n",
    "\n",
    "动态链接库可以直接使用g++编译.需要使用`-fPIC`指定编译成的是共享库,`-shared`指定连接方式是共享型"
   ]
  },
  {
   "cell_type": "code",
   "execution_count": 128,
   "metadata": {
    "collapsed": true
   },
   "outputs": [],
   "source": [
    "!g++ -std=c++11 \\\n",
    "-o ../codes/lib/Cpp_tools/Cpp_compiler/section3/libvector_b.so \\\n",
    "-fPIC \\\n",
    "-shared \\\n",
    "-I ../codes/include/Cpp_tools/Cpp_compiler/section3 \\\n",
    "../codes/src/Cpp_tools/Cpp_compiler/section3/vector.cpp"
   ]
  },
  {
   "cell_type": "code",
   "execution_count": 129,
   "metadata": {
    "collapsed": true
   },
   "outputs": [],
   "source": [
    "!g++ -std=c++11 \\\n",
    "-o ../codes/bin/Cpp_tools/Cpp_compiler/section3/test_b \\\n",
    "-I ../codes/include/Cpp_tools/Cpp_compiler/section3 \\\n",
    "-L ../codes/lib/Cpp_tools/Cpp_compiler/section3/ \\\n",
    "-l vector_b \\\n",
    "../codes/test/Cpp_tools/Cpp_compiler/section3/test.cpp"
   ]
  },
  {
   "cell_type": "code",
   "execution_count": 130,
   "metadata": {},
   "outputs": [
    {
     "name": "stdout",
     "output_type": "stream",
     "text": [
      "mod(A)=2.236068\r\n",
      "mod(B)=5.000000\r\n",
      "mul(A,B)=11.000000\r\n",
      "add(A,B)=<4.000000,6.000000>\r\n"
     ]
    }
   ],
   "source": [
    "!../codes/bin/Cpp_tools/Cpp_compiler/section3/test_b"
   ]
  },
  {
   "cell_type": "markdown",
   "metadata": {},
   "source": [
    "## C语言兼容的接口设计\n",
    "\n",
    "很多时候我们需要考虑对C语言的兼容性,因此需要将C++的接口做个封装.封装为C接口需要使用`extern \"C\"`.\n",
    "\n",
    "我们可以用这样的模板来写这个接口头文件:\n",
    "\n",
    "```cpp\n",
    "#ifndef BINARY_OPERATOR_H\n",
    "#define BINARY_OPERATOR_H\n",
    "#ifdef __cplusplus\n",
    "extern \"C\" {\n",
    "#endif\n",
    " \n",
    "/*...*/\n",
    " \n",
    "#ifdef __cplusplus\n",
    "}\n",
    "#endif\n",
    "#endif\n",
    "```\n",
    "\n",
    "> `#ifdef _cplusplus/#endif _cplusplus`\n",
    "\n",
    "    很明显`#ifdef/#endif`,`#ifndef/#endif`用于条件编译,`#ifdef _cplusplus/#endif _cplusplus`——表示如果定义了宏`_cplusplus`，就执行`#ifdef/#endif`之间的语句，否则就不执行。\n",
    "\n",
    "    在这里为什么需要`#ifdef _cplusplus/#endif _cplusplus`呢？因为C语言中不支持`extern \"C\"`声明.\n",
    "\n",
    "\n",
    "> `extern \"C\"`\n",
    "\n",
    "    `extern`关键字是C/C++语言中表明函数和全局变量作用范围(可见性)的关键字,该关键字告诉编译器,其声明的函数和变量可以在本模块或其它模块中使用.\n",
    "    通常,在模块的头文件中对本模块提供给其它模块引用的函数和全局变量以关键字extern声明.例如,如果模块B欲引用该模块A中定义的全局变量和函数时只需包含模块A的头文件即可.这样,模块B中调用模块A中的函数时,在编译阶段,模块B虽然找不到该函数,但是并不会报错;它会在链接阶段中从模块A编译生成的目标代码中找到此函数.\n",
    "\n",
    "    与`extern`对应的关键字是`static`,被它修饰的全局变量和函数只能在本模块中使用.因此,一个函数或变量只可能被本模块使用时,其不可能被extern “C”修饰.\n",
    "\n",
    "\n",
    "    被`extern \"C\"`修饰的变量和函数是按照C语言方式编译和链接的.\n",
    "\n",
    "\n",
    "    作为一种面向对象的语言,C++支持函数重载,而C则不支持.函数被C++编译后在符号库中的名字与C语言的不同.例如某个函数的原型为`void foo( int x, int y );`该函数被C编译器编译后在符号库中的名字为`_foo`,而C++编译器则会产生像`_foo_int_int`之类的名字(不同的编译器可能生成的名字不同,但是都采用了相同的机制,生成的新名字称为“mangled name”).\n",
    "\n",
    "\n",
    "    `_foo_int_int`这样的名字包含了函数名,函数参数数量及类型信息.C++就是靠这种机制来实现函数重载的.同样地，C++中的变量除支持局部变量外,还支持类成员变量和全局变量.用户所编写程序的类成员变量可能与全局变量同名,我们以`\".\"`来区分.而本质上,编译器在进行编译时,与函数的处理相似,也为类中的变量取了一个独一无二的名字,这个名字与用户程序中同名的全局变量名字不同.\n",
    "\n",
    "    `extern \"C\"`指令仅指定编译和连接规约,但不影响语义.例如在函数声明中,指定了`extern \"C\"`,仍然要遵守C++的类型检测和参数转换规则.\n",
    "    \n",
    "要构造C语言也可以使用的连接库,需要用C中的结构,包括`struct`,`function`这些将C++中的内容包装起来,下面就是包装的代码"
   ]
  },
  {
   "cell_type": "code",
   "execution_count": 131,
   "metadata": {},
   "outputs": [
    {
     "name": "stdout",
     "output_type": "stream",
     "text": [
      "Overwriting ../codes/include/Cpp_tools/Cpp_compiler/section4/vector.h\n"
     ]
    }
   ],
   "source": [
    "%%writefile ../codes/include/Cpp_tools/Cpp_compiler/section4/vector.h\n",
    "#ifndef BINARY_VECTOR_H\n",
    "#define BINARY_VECTOR_H//一般是文件名的大写 头文件结尾写上一行\n",
    "\n",
    "\n",
    "#ifdef __cplusplus\n",
    "extern \"C\" {\n",
    "#endif\n",
    "struct _Vector__BinaryVector;//将BinaryVector对象包装到一个结构体中\n",
    "\n",
    "typedef struct _Vector__BinaryVector Vector__BinaryVector;\n",
    " \n",
    "Vector__BinaryVector * Vector__BinaryVector_GetInstance(void); //构造结构体实例的函数\n",
    "void Vector__BinaryVector_ReleaseInstance(Vector__BinaryVector **);//析构结构体实例的函数\n",
    "//获取字面量\n",
    "float Vector__BinaryVector_getInstanceX(Vector__BinaryVector *);\n",
    "float Vector__BinaryVector_getInstanceY(Vector__BinaryVector *); \n",
    "//设置字面量\n",
    "void Vector__BinaryVector_setInstanceX(Vector__BinaryVector *,float);\n",
    "void Vector__BinaryVector_setInstanceY(Vector__BinaryVector *,float);\n",
    "void Vector__BinaryVector_setInstance(Vector__BinaryVector *,float,float);\n",
    "\n",
    "//将实例方法包装为函数\n",
    "float Vector__BinaryVector_mod(Vector__BinaryVector *);\n",
    "float Vector__BinaryVector_mul( Vector__BinaryVector * , Vector__BinaryVector *); \n",
    "Vector__BinaryVector * Vector__BinaryVector_add(Vector__BinaryVector *, Vector__BinaryVector *);\n",
    "\n",
    "#ifdef __cplusplus\n",
    "}\n",
    "#endif\n",
    "#endif"
   ]
  },
  {
   "cell_type": "code",
   "execution_count": 220,
   "metadata": {},
   "outputs": [
    {
     "name": "stdout",
     "output_type": "stream",
     "text": [
      "Overwriting ../codes/src/Cpp_tools/Cpp_compiler/section4/vector_wrapper.cpp\n"
     ]
    }
   ],
   "source": [
    "%%writefile ../codes/src/Cpp_tools/Cpp_compiler/section4/vector_wrapper.cpp\n",
    "#include <cstdio>\n",
    "#include <stdlib.h> \n",
    "#include \"vector.h\"    \n",
    "#include \"vector.hpp\"\n",
    "#ifdef __cplusplus    \n",
    "extern \"C\" {    \n",
    "#endif \n",
    "struct _Vector__BinaryVector{\n",
    "    Vector::BinaryVector binary_vector;\n",
    "};\n",
    "\n",
    "Vector__BinaryVector * Vector__BinaryVector_GetInstance(void){\n",
    "    //return new Vector__BinaryVector;\n",
    "    Vector__BinaryVector * p = (Vector__BinaryVector *)malloc(sizeof(Vector__BinaryVector));\n",
    "    Vector::BinaryVector v;\n",
    "    p->binary_vector = v;\n",
    "    return p;\n",
    "}\n",
    "\n",
    "    \n",
    "void Vector__BinaryVector_ReleaseInstance(Vector__BinaryVector **ppInstance){\n",
    "    //delete *ppInstance;    \n",
    "    //*ppInstance = 0;    \n",
    "    free(*ppInstance);\n",
    "    *ppInstance = 0;\n",
    "}\n",
    "\n",
    "float Vector__BinaryVector_getInstanceX(Vector__BinaryVector *ptr_vector){\n",
    "    return ptr_vector->binary_vector.x;\n",
    "}\n",
    "float Vector__BinaryVector_getInstanceY(Vector__BinaryVector *ptr_vector){\n",
    "    return ptr_vector->binary_vector.y;\n",
    "}\n",
    "void Vector__BinaryVector_setInstanceX(Vector__BinaryVector *ptr_vector,float x){\n",
    "    ptr_vector->binary_vector.x = x;\n",
    "}\n",
    "void Vector__BinaryVector_setInstanceY(Vector__BinaryVector *ptr_vector,float y){\n",
    "    ptr_vector->binary_vector.y = y;\n",
    "}\n",
    "void Vector__BinaryVector_setInstance(Vector__BinaryVector *ptr_vector,float x,float y){\n",
    "    ptr_vector->binary_vector.x = x;\n",
    "    ptr_vector->binary_vector.y = y;\n",
    "}\n",
    "\n",
    "//将实例方法包装为函数\n",
    "float Vector__BinaryVector_mod(Vector__BinaryVector * ptr_vector){\n",
    "    return ptr_vector->binary_vector.mod();\n",
    "}\n",
    "    \n",
    "float Vector__BinaryVector_mul(Vector__BinaryVector * ptr_this_vector, Vector__BinaryVector * ptr_that_vector){\n",
    "    return ptr_this_vector->binary_vector *  ptr_that_vector->binary_vector;\n",
    "}\n",
    "Vector__BinaryVector * Vector__BinaryVector_add(Vector__BinaryVector * ptr_this_vector, Vector__BinaryVector * ptr_that_vector){\n",
    "    Vector::BinaryVector result_ins = ptr_this_vector->binary_vector +  ptr_that_vector->binary_vector;\n",
    "    Vector__BinaryVector * result = Vector__BinaryVector_GetInstance(); \n",
    "    printf(\"qwe\\n\");\n",
    "    result->binary_vector = result_ins;\n",
    "    printf(\"qwe\\n\");\n",
    "    return result;\n",
    "}\n",
    " \n",
    "#ifdef __cplusplus    \n",
    "};    \n",
    "#endif  \n"
   ]
  },
  {
   "cell_type": "code",
   "execution_count": 221,
   "metadata": {},
   "outputs": [
    {
     "name": "stdout",
     "output_type": "stream",
     "text": [
      "Overwriting ../codes/test/Cpp_tools/Cpp_compiler/section4/test.c\n"
     ]
    }
   ],
   "source": [
    "%%writefile ../codes/test/Cpp_tools/Cpp_compiler/section4/test.c\n",
    "#include <stdio.h>\n",
    "#include \"vector.h\"\n",
    "\n",
    "int main(){\n",
    "    printf(\"test4\\n\");\n",
    "    Vector__BinaryVector * A = Vector__BinaryVector_GetInstance();\n",
    "    Vector__BinaryVector * B = Vector__BinaryVector_GetInstance();\n",
    "    Vector__BinaryVector_setInstance(A,1.0,2.0);\n",
    "    Vector__BinaryVector_setInstance(B,3.0,4.0);\n",
    "    printf(\"mod(A)=%f\\n\",Vector__BinaryVector_mod(A));\n",
    "    printf(\"mod(B)=%f\\n\",Vector__BinaryVector_mod(B));\n",
    "    printf(\"mul(A,B)=%f\\n\",Vector__BinaryVector_mul(A,B));\n",
    "    Vector__BinaryVector * result = Vector__BinaryVector_add(A,B);\n",
    "    printf(\"tsv\\n\");\n",
    "    printf(\"add(A,B)=<%f,%f>\\n\",Vector__BinaryVector_getInstanceX(result),Vector__BinaryVector_getInstanceY(result));\n",
    "}"
   ]
  },
  {
   "cell_type": "markdown",
   "metadata": {},
   "source": [
    "如果我们用使用C语言风格的调用方式用`gcc`来编译,一样可以编译起来.这需要我们先将原始代码和包装代码都分别编译为二进制文件`.o`,之后再将其连接配上入口函数的源文件即可,需要注意的是`gcc`可能会因为C++的错误处理和一些关键字而无法被编译通过,这种时候就需要在编译语句末尾加上`-lstdc++`即引入C++标准库来规避这些错误."
   ]
  },
  {
   "cell_type": "code",
   "execution_count": 222,
   "metadata": {},
   "outputs": [],
   "source": [
    "!g++ -std=c++11 \\\n",
    "-c \\\n",
    "-o ../codes/lib/Cpp_tools/Cpp_compiler/section4/vector.o \\\n",
    "-I ../codes/include/Cpp_tools/Cpp_compiler/section3 \\\n",
    "../codes/src/Cpp_tools/Cpp_compiler/section3/vector.cpp"
   ]
  },
  {
   "cell_type": "code",
   "execution_count": 223,
   "metadata": {},
   "outputs": [],
   "source": [
    "!g++ -std=c++11 \\\n",
    "-c \\\n",
    "-o ../codes/lib/Cpp_tools/Cpp_compiler/section4/vector_wrapper.o \\\n",
    "-I ../codes/include/Cpp_tools/Cpp_compiler/section4 \\\n",
    "-I ../codes/include/Cpp_tools/Cpp_compiler/section3 \\\n",
    "../codes/src/Cpp_tools/Cpp_compiler/section4/vector_wrapper.cpp"
   ]
  },
  {
   "cell_type": "code",
   "execution_count": 224,
   "metadata": {},
   "outputs": [],
   "source": [
    "!gcc  -o ../codes/bin/Cpp_tools/Cpp_compiler/section4/test \\\n",
    "-I ../codes/include/Cpp_tools/Cpp_compiler/section4 \\\n",
    "../codes/lib/Cpp_tools/Cpp_compiler/section4/vector.o \\\n",
    "../codes/lib/Cpp_tools/Cpp_compiler/section4/vector_wrapper.o \\\n",
    "../codes/test/Cpp_tools/Cpp_compiler/section4/test.c \\\n",
    "-lstdc++"
   ]
  },
  {
   "cell_type": "code",
   "execution_count": 225,
   "metadata": {},
   "outputs": [
    {
     "name": "stdout",
     "output_type": "stream",
     "text": [
      "test4\r\n",
      "mod(A)=2.236068\r\n",
      "mod(B)=5.000000\r\n",
      "mul(A,B)=11.000000\r\n",
      "qwe\r\n"
     ]
    }
   ],
   "source": [
    "!../codes/bin/Cpp_tools/Cpp_compiler/section4/test"
   ]
  },
  {
   "cell_type": "markdown",
   "metadata": {},
   "source": [
    "### 为动态库提供C和C++接口\n",
    "\n",
    "当然更好的方式是将C++代码编译为动态链接库,之后为C语言和C++分别提供调用用的头文件"
   ]
  },
  {
   "cell_type": "code",
   "execution_count": 205,
   "metadata": {
    "collapsed": true
   },
   "outputs": [],
   "source": [
    "!g++ -std=c++11 \\\n",
    "-o ../codes/lib/Cpp_tools/Cpp_compiler/section4/libvector_c.so \\\n",
    "-fPIC \\\n",
    "-shared \\\n",
    "-I ../codes/include/Cpp_tools/Cpp_compiler/section3 \\\n",
    "-I ../codes/include/Cpp_tools/Cpp_compiler/section4 \\\n",
    "../codes/src/Cpp_tools/Cpp_compiler/section3/vector.cpp \\\n",
    "../codes/src/Cpp_tools/Cpp_compiler/section4/vector_wrapper.cpp"
   ]
  },
  {
   "cell_type": "code",
   "execution_count": 206,
   "metadata": {
    "collapsed": true
   },
   "outputs": [],
   "source": [
    "!gcc -o ../codes/bin/Cpp_tools/Cpp_compiler/section4/test_b \\\n",
    "-I ../codes/include/Cpp_tools/Cpp_compiler/section4 \\\n",
    "-L ../codes/lib/Cpp_tools/Cpp_compiler/section4/ \\\n",
    "-l vector_c \\\n",
    "../codes/test/Cpp_tools/Cpp_compiler/section4/test.c \\\n",
    "-lstdc++"
   ]
  },
  {
   "cell_type": "code",
   "execution_count": 207,
   "metadata": {},
   "outputs": [
    {
     "name": "stdout",
     "output_type": "stream",
     "text": [
      "test4\r\n",
      "mod(A)=2.236068\r\n",
      "mod(B)=5.000000\r\n",
      "mul(A,B)=11.000000\r\n",
      "tsv\r\n",
      "add(A,B)=<4.000000,6.000000>\r\n"
     ]
    }
   ],
   "source": [
    "!../codes/bin/Cpp_tools/Cpp_compiler/section4/test_b"
   ]
  },
  {
   "cell_type": "markdown",
   "metadata": {},
   "source": [
    "# 使用宏实现跨平台\n",
    "\n",
    "我们说过C/C++的跨平台是源码级别的跨平台,但实际上因为操作系统功能的实现有区别,接口也有些区别,因此很多时候我们还是得考虑跨平台问题.其实这个问题python中也有,比如到3.6版本为止windows的`ctrl+c`操作都无法直接用于协程程序的中断.\n",
    "\n",
    "在C/C++编程时我们可以像上面定义C接口时一样用宏语句判断是否需要特殊化处理.一般情况下会出问题的也就是windows,下面是特殊化处理的宏片段:\n",
    "\n",
    "```cpp\n",
    "#ifdef _MSC_VER\n",
    "    #pragma warning(disable:4996)\n",
    "    #include <windows.h>\n",
    "    #include <io.h>\n",
    "#else\n",
    "    #include <unistd.h>\n",
    "    #include <sys/time.h>\n",
    "    #include <pthread.h>\n",
    "    #define  CRITICAL_SECTION   pthread_mutex_t\n",
    "    #define  _vsnprintf         vsnprintf\n",
    "#endif\n",
    "```\n",
    "当然了更加方便的方式是无视windows.\n"
   ]
  },
  {
   "cell_type": "markdown",
   "metadata": {},
   "source": [
    "# 总结下g++的常用参数\n",
    "\n",
    "+ -o 指定输出的文件\n",
    "+ -E 预编译\n",
    "+ -S 编译为汇编代码\n",
    "+ -c 编译位二进制文件\n",
    "+ -L 选项告诉编译器去哪里找需要的库文件\n",
    "+ -l -lbvector告诉编译器要链接libbvector库\n",
    "+ -I 选项告诉去哪个文件夹下找头文件\n",
    "+ -i 指定使用的头文件\n",
    "+ -static 链接方式禁止使用动态库。\n",
    "\n",
    "    优点：程序运行不依赖于其他库\n",
    "\n",
    "    缺点：文件比较大\n",
    "\n",
    "+ -shared (-G) 此链接方式尽量使用动态库，为默认选项(共享型)\n",
    "\n",
    "    优点：生成文件比较小\n",
    "\n",
    "    缺点：运行时需要系统提供动态库\n",
    "\n",
    "+ -symbolic 此链接方式将在建立共享目标文件的时候,把引用绑定到全局符号上.\n",
    "+ -fpic 编译器就生成位置无关目标码.适用于共享库(shared library).通常能产生更快更小的代码,但有平台限制.编译出的代码将通过全局偏移表(Global Offset Table)中的常数地址访存，动态装载器将在程序开始执行时解析GOT表项.\n",
    "+ -fPIC 编译器就输出位置无关目标码.适用于动态连接(dynamic linking),即使分支需要大范围转移.该选项会针对某些特殊机型做了特殊处理,比如适合动态链接并能避免超出GOT大小限制之类的错误.而Open64仅仅支持不会导致GOT表溢出的PIC编译.\n",
    "\n",
    "+ ***-lstdc++*** gcc使用的,放在编译代码最后防止因为C++语法而报错"
   ]
  },
  {
   "cell_type": "markdown",
   "metadata": {},
   "source": [
    "# 使用cmake流程化编译\n",
    "\n",
    "上面的代码我们直接使用g++来手工编译,这没问题,不过我们也看到了每次编译的命令都比python的helloworld长了.像很多复杂的程序用到很多外部依赖的情况下编译都快赶上写业务逻辑了.\n",
    "\n",
    "在js中我们用glup来流程化编译,在c/c++中的流程化编译工具就太多了,各自适用于不同的平台有着不同的规范,这边介绍的是[cmake](https://cmake.org/)工具.它是一个高层次的流程化编译工具,关键是他跨平台.\n",
    "\n",
    "## 使用`CMakeLists.txt`配置资源与流程\n",
    "\n",
    "我们看一个简单的例子来看"
   ]
  },
  {
   "cell_type": "markdown",
   "metadata": {},
   "source": [
    "### 编写CMakerLists.txt\n",
    "\n",
    "这个例子很简单,只有一个源文件需要编译.我们定义了三个参数:\n",
    "\n",
    "+ cmake_minimum_required：指定运行此配置文件所需的 CMake 的最低版本\n",
    "+ project：参数值是 Demo1，该命令表示项目的名称是 Demo1\n",
    "+ add_executable： 将名为 main.cc 的源文件编译成一个名称为 Demo 的可执行文件"
   ]
  },
  {
   "cell_type": "code",
   "execution_count": 3,
   "metadata": {},
   "outputs": [
    {
     "name": "stdout",
     "output_type": "stream",
     "text": [
      "Writing ../codes/src/Cpp_tools/Cpp_compiler/section5/CMakeLists.txt\n"
     ]
    }
   ],
   "source": [
    "%%writefile ../codes/src/Cpp_tools/Cpp_compiler/section5/CMakeLists.txt\n",
    "\n",
    "cmake_minimum_required (VERSION 2.8)\n",
    "\n",
    "project (Demo1)\n",
    "add_executable(Demo power.cpp)"
   ]
  },
  {
   "cell_type": "code",
   "execution_count": 2,
   "metadata": {},
   "outputs": [
    {
     "name": "stdout",
     "output_type": "stream",
     "text": [
      "Overwriting ../codes/src/Cpp_tools/Cpp_compiler/section5/power.cpp\n"
     ]
    }
   ],
   "source": [
    "%%writefile ../codes/src/Cpp_tools/Cpp_compiler/section5/power.cpp\n",
    "#include <stdio.h>\n",
    "#include <stdlib.h>\n",
    "\n",
    "double power(double base, int exponent)\n",
    "{\n",
    "    int result = base;\n",
    "    int i;\n",
    "\n",
    "    if (exponent == 0) {\n",
    "        return 1;\n",
    "    }\n",
    "    \n",
    "    for(i = 1; i < exponent; ++i){\n",
    "        result = result * base;\n",
    "    }\n",
    "\n",
    "    return result;\n",
    "}\n",
    "\n",
    "int main(int argc, char *argv[])\n",
    "{\n",
    "    if (argc < 3){\n",
    "        printf(\"Usage: %s base exponent \\n\", argv[0]);\n",
    "        return 1;\n",
    "    }\n",
    "    double base = atof(argv[1]);\n",
    "    int exponent = atoi(argv[2]);\n",
    "    double result = power(base, exponent);\n",
    "    printf(\"%g ^ %d is %g\\n\", base, exponent, result);\n",
    "    return 0;\n",
    "}"
   ]
  },
  {
   "cell_type": "code",
   "execution_count": 3,
   "metadata": {},
   "outputs": [
    {
     "name": "stderr",
     "output_type": "stream",
     "text": [
      "'cmake' 不是内部或外部命令，也不是可运行的程序\n",
      "或批处理文件。\n"
     ]
    }
   ],
   "source": [
    "!cmake ../codes/src/Cpp_tools/Cpp_compiler/section5"
   ]
  },
  {
   "cell_type": "code",
   "execution_count": null,
   "metadata": {
    "collapsed": true
   },
   "outputs": [],
   "source": []
  }
 ],
 "metadata": {
  "kernelspec": {
   "display_name": "Python 3",
   "language": "python",
   "name": "python3"
  },
  "language_info": {
   "codemirror_mode": {
    "name": "ipython",
    "version": 3
   },
   "file_extension": ".py",
   "mimetype": "text/x-python",
   "name": "python",
   "nbconvert_exporter": "python",
   "pygments_lexer": "ipython3",
   "version": "3.6.0"
  }
 },
 "nbformat": 4,
 "nbformat_minor": 2
}
