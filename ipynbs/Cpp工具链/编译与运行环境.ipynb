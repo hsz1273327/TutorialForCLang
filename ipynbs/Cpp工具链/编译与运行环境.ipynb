{
 "cells": [
  {
   "cell_type": "markdown",
   "metadata": {},
   "source": [
    "# 编译与运行环境\n",
    "\n",
    "C/C++是静态语言,需要编译后才能执行.而编译的工具就是编译器.最常见的C++编译器有:\n",
    "\n",
    "+ `GNU G++`开源大佬,linux上编译器的的代名词,在osx上也可以使用homebrew安装,windows上则有MinGW作为其移植版.\n",
    "+ `llvm+Clang`苹果资助的编译器,也是osx下默认的编译器.有不少黑科技,比如C++的repl,jit技术等,一点不像保守的苹果资助的东西.\n",
    "+ `MSVC`微软家的御用编译器,vs内置的编译器.只能在windows下使用,要在命令行中使用需要将其加入环境变量`Path`\n",
    "\n",
    "\n",
    "对于C/C++来说,编译其本质就是将源文件转化为二进制文件或者可执行文件的过程,我们以一个小程序来作为例子,使用`gnu g++`工具来演示整个编译过程:"
   ]
  },
  {
   "cell_type": "code",
   "execution_count": 3,
   "metadata": {},
   "outputs": [
    {
     "name": "stdout",
     "output_type": "stream",
     "text": [
      "Writing ../codes/src/Cpp_tools/Cpp_compiler/section1/helloworld.cpp\n"
     ]
    }
   ],
   "source": [
    "%%writefile ../codes/src/Cpp_tools/Cpp_compiler/section1/helloworld.cpp\n",
    "#include <stdio.h>\n",
    "\n",
    "int main(){\n",
    "    printf(\"hello world\");\n",
    "    return 0;\n",
    "}"
   ]
  },
  {
   "cell_type": "markdown",
   "metadata": {},
   "source": [
    "## 步骤一:解读头文件,结合源文件,组合生成真正的待编译代码\n",
    "    \n",
    "这一步可以使用`-E`指令实现.这个过程只激活预处理,不生成文件,而是输出到标准输出.因此你需要把它重定向到一个输出文件里.,一般来说我们用后缀`.i`保存这个文件.\n",
    "\n",
    "这一步实际上做这些事儿:\n",
    "\n",
    "+ 宏的替换\n",
    "+ 注释的消除\n",
    "+ 还有找到相关的库文件\n",
    "+ 执行模板,将模板翻译成源码的实现\n",
    "+ 将#include文件的全部内容插入.若用`<>`括起文件则在系统的INCLUDE目录中寻找文件,若用`\" \"`括起文件则在当前目录中寻找文件."
   ]
  },
  {
   "cell_type": "code",
   "execution_count": 6,
   "metadata": {
    "scrolled": false
   },
   "outputs": [
    {
     "name": "stdout",
     "output_type": "stream",
     "text": [
      "# 1 \"../codes/src/Cpp_tools/Cpp_compiler/section1/helloworld.cpp\"\n",
      "# 1 \"<built-in>\" 1\n",
      "# 1 \"<built-in>\" 3\n",
      "# 336 \"<built-in>\" 3\n",
      "# 1 \"<command line>\" 1\n",
      "# 1 \"<built-in>\" 2\n",
      "# 1 \"../codes/src/Cpp_tools/Cpp_compiler/section1/helloworld.cpp\" 2\n",
      "# 1 \"/usr/include/stdio.h\" 1 3 4\n",
      "# 64 \"/usr/include/stdio.h\" 3 4\n",
      "# 1 \"/usr/include/sys/cdefs.h\" 1 3 4\n",
      "# 533 \"/usr/include/sys/cdefs.h\" 3 4\n",
      "# 1 \"/usr/include/sys/_symbol_aliasing.h\" 1 3 4\n",
      "# 534 \"/usr/include/sys/cdefs.h\" 2 3 4\n",
      "# 599 \"/usr/include/sys/cdefs.h\" 3 4\n",
      "# 1 \"/usr/include/sys/_posix_availability.h\" 1 3 4\n",
      "# 600 \"/usr/include/sys/cdefs.h\" 2 3 4\n",
      "# 65 \"/usr/include/stdio.h\" 2 3 4\n",
      "# 1 \"/usr/include/Availability.h\" 1 3 4\n",
      "# 172 \"/usr/include/Availability.h\" 3 4\n",
      "# 1 \"/usr/include/AvailabilityInternal.h\" 1 3 4\n",
      "# 173 \"/usr/include/Availability.h\" 2 3 4\n",
      "# 66 \"/usr/include/stdio.h\" 2 3 4\n",
      "\n",
      "# 1 \"/usr/include/_types.h\" 1 3 4\n",
      "# 27 \"/usr/include/_types.h\" 3 4\n",
      "# 1 \"/usr/include/sys/_types.h\" 1 3 4\n",
      "# 33 \"/usr/include/sys/_types.h\" 3 4\n",
      "# 1 \"/usr/include/machine/_types.h\" 1 3 4\n",
      "# 32 \"/usr/include/machine/_types.h\" 3 4\n",
      "# 1 \"/usr/include/i386/_types.h\" 1 3 4\n",
      "# 37 \"/usr/include/i386/_types.h\" 3 4\n",
      "typedef signed char __int8_t;\n",
      "\n",
      "\n",
      "\n",
      "typedef unsigned char __uint8_t;\n",
      "typedef short __int16_t;\n",
      "typedef unsigned short __uint16_t;\n",
      "typedef int __int32_t;\n",
      "typedef unsigned int __uint32_t;\n",
      "typedef long long __int64_t;\n",
      "typedef unsigned long long __uint64_t;\n",
      "\n",
      "typedef long __darwin_intptr_t;\n",
      "typedef unsigned int __darwin_natural_t;\n",
      "# 70 \"/usr/include/i386/_types.h\" 3 4\n",
      "typedef int __darwin_ct_rune_t;\n",
      "\n",
      "\n",
      "\n",
      "\n",
      "\n",
      "typedef union {\n",
      " char __mbstate8[128];\n",
      " long long _mbstateL;\n",
      "} __mbstate_t;\n",
      "\n",
      "typedef __mbstate_t __darwin_mbstate_t;\n",
      "\n",
      "\n",
      "typedef long int __darwin_ptrdiff_t;\n",
      "\n",
      "\n",
      "\n",
      "\n",
      "\n",
      "\n",
      "\n",
      "typedef long unsigned int __darwin_size_t;\n",
      "\n",
      "\n",
      "\n",
      "\n",
      "\n",
      "typedef __builtin_va_list __darwin_va_list;\n",
      "\n",
      "\n",
      "\n",
      "\n",
      "\n",
      "typedef int __darwin_wchar_t;\n",
      "\n",
      "\n",
      "\n",
      "\n",
      "typedef __darwin_wchar_t __darwin_rune_t;\n",
      "\n",
      "\n",
      "typedef int __darwin_wint_t;\n",
      "\n",
      "\n",
      "\n",
      "\n",
      "typedef unsigned long __darwin_clock_t;\n",
      "typedef __uint32_t __darwin_socklen_t;\n",
      "typedef long __darwin_ssize_t;\n",
      "typedef long __darwin_time_t;\n",
      "# 33 \"/usr/include/machine/_types.h\" 2 3 4\n",
      "# 34 \"/usr/include/sys/_types.h\" 2 3 4\n",
      "# 55 \"/usr/include/sys/_types.h\" 3 4\n",
      "typedef __int64_t __darwin_blkcnt_t;\n",
      "typedef __int32_t __darwin_blksize_t;\n",
      "typedef __int32_t __darwin_dev_t;\n",
      "typedef unsigned int __darwin_fsblkcnt_t;\n",
      "typedef unsigned int __darwin_fsfilcnt_t;\n",
      "typedef __uint32_t __darwin_gid_t;\n",
      "typedef __uint32_t __darwin_id_t;\n",
      "typedef __uint64_t __darwin_ino64_t;\n",
      "\n",
      "typedef __darwin_ino64_t __darwin_ino_t;\n",
      "\n",
      "\n",
      "\n",
      "typedef __darwin_natural_t __darwin_mach_port_name_t;\n",
      "typedef __darwin_mach_port_name_t __darwin_mach_port_t;\n",
      "typedef __uint16_t __darwin_mode_t;\n",
      "typedef __int64_t __darwin_off_t;\n",
      "typedef __int32_t __darwin_pid_t;\n",
      "typedef __uint32_t __darwin_sigset_t;\n",
      "typedef __int32_t __darwin_suseconds_t;\n",
      "typedef __uint32_t __darwin_uid_t;\n",
      "typedef __uint32_t __darwin_useconds_t;\n",
      "typedef unsigned char __darwin_uuid_t[16];\n",
      "typedef char __darwin_uuid_string_t[37];\n",
      "\n",
      "\n",
      "# 1 \"/usr/include/sys/_pthread/_pthread_types.h\" 1 3 4\n",
      "# 57 \"/usr/include/sys/_pthread/_pthread_types.h\" 3 4\n",
      "struct __darwin_pthread_handler_rec {\n",
      " void (*__routine)(void *);\n",
      " void *__arg;\n",
      " struct __darwin_pthread_handler_rec *__next;\n",
      "};\n",
      "\n",
      "struct _opaque_pthread_attr_t {\n",
      " long __sig;\n",
      " char __opaque[56];\n",
      "};\n",
      "\n",
      "struct _opaque_pthread_cond_t {\n",
      " long __sig;\n",
      " char __opaque[40];\n",
      "};\n",
      "\n",
      "struct _opaque_pthread_condattr_t {\n",
      " long __sig;\n",
      " char __opaque[8];\n",
      "};\n",
      "\n",
      "struct _opaque_pthread_mutex_t {\n",
      " long __sig;\n",
      " char __opaque[56];\n",
      "};\n",
      "\n",
      "struct _opaque_pthread_mutexattr_t {\n",
      " long __sig;\n",
      " char __opaque[8];\n",
      "};\n",
      "\n",
      "struct _opaque_pthread_once_t {\n",
      " long __sig;\n",
      " char __opaque[8];\n",
      "};\n",
      "\n",
      "struct _opaque_pthread_rwlock_t {\n",
      " long __sig;\n",
      " char __opaque[192];\n",
      "};\n",
      "\n",
      "struct _opaque_pthread_rwlockattr_t {\n",
      " long __sig;\n",
      " char __opaque[16];\n",
      "};\n",
      "\n",
      "struct _opaque_pthread_t {\n",
      " long __sig;\n",
      " struct __darwin_pthread_handler_rec *__cleanup_stack;\n",
      " char __opaque[8176];\n",
      "};\n",
      "\n",
      "typedef struct _opaque_pthread_attr_t __darwin_pthread_attr_t;\n",
      "typedef struct _opaque_pthread_cond_t __darwin_pthread_cond_t;\n",
      "typedef struct _opaque_pthread_condattr_t __darwin_pthread_condattr_t;\n",
      "typedef unsigned long __darwin_pthread_key_t;\n",
      "typedef struct _opaque_pthread_mutex_t __darwin_pthread_mutex_t;\n",
      "typedef struct _opaque_pthread_mutexattr_t __darwin_pthread_mutexattr_t;\n",
      "typedef struct _opaque_pthread_once_t __darwin_pthread_once_t;\n",
      "typedef struct _opaque_pthread_rwlock_t __darwin_pthread_rwlock_t;\n",
      "typedef struct _opaque_pthread_rwlockattr_t __darwin_pthread_rwlockattr_t;\n",
      "typedef struct _opaque_pthread_t *__darwin_pthread_t;\n",
      "# 81 \"/usr/include/sys/_types.h\" 2 3 4\n",
      "# 28 \"/usr/include/_types.h\" 2 3 4\n",
      "# 39 \"/usr/include/_types.h\" 3 4\n",
      "typedef int __darwin_nl_item;\n",
      "typedef int __darwin_wctrans_t;\n",
      "\n",
      "typedef __uint32_t __darwin_wctype_t;\n",
      "# 68 \"/usr/include/stdio.h\" 2 3 4\n",
      "\n",
      "\n",
      "\n",
      "# 1 \"/usr/include/sys/_types/_va_list.h\" 1 3 4\n",
      "# 31 \"/usr/include/sys/_types/_va_list.h\" 3 4\n",
      "typedef __darwin_va_list va_list;\n",
      "# 72 \"/usr/include/stdio.h\" 2 3 4\n",
      "# 1 \"/usr/include/sys/_types/_size_t.h\" 1 3 4\n",
      "# 30 \"/usr/include/sys/_types/_size_t.h\" 3 4\n",
      "typedef __darwin_size_t size_t;\n",
      "# 73 \"/usr/include/stdio.h\" 2 3 4\n",
      "# 1 \"/usr/include/sys/_types/_null.h\" 1 3 4\n",
      "# 74 \"/usr/include/stdio.h\" 2 3 4\n",
      "\n",
      "# 1 \"/usr/include/sys/stdio.h\" 1 3 4\n",
      "# 37 \"/usr/include/sys/stdio.h\" 3 4\n",
      "extern \"C\" {\n",
      "\n",
      "int renameat(int, const char *, int, const char *) __attribute__((availability(macosx,introduced=10.10)));\n",
      "\n",
      "}\n",
      "# 76 \"/usr/include/stdio.h\" 2 3 4\n",
      "\n",
      "typedef __darwin_off_t fpos_t;\n",
      "# 88 \"/usr/include/stdio.h\" 3 4\n",
      "struct __sbuf {\n",
      " unsigned char *_base;\n",
      " int _size;\n",
      "};\n",
      "\n",
      "\n",
      "struct __sFILEX;\n",
      "# 122 \"/usr/include/stdio.h\" 3 4\n",
      "typedef struct __sFILE {\n",
      " unsigned char *_p;\n",
      " int _r;\n",
      " int _w;\n",
      " short _flags;\n",
      " short _file;\n",
      " struct __sbuf _bf;\n",
      " int _lbfsize;\n",
      "\n",
      "\n",
      " void *_cookie;\n",
      " int (*_close)(void *);\n",
      " int (*_read) (void *, char *, int);\n",
      " fpos_t (*_seek) (void *, fpos_t, int);\n",
      " int (*_write)(void *, const char *, int);\n",
      "\n",
      "\n",
      " struct __sbuf _ub;\n",
      " struct __sFILEX *_extra;\n",
      " int _ur;\n",
      "\n",
      "\n",
      " unsigned char _ubuf[3];\n",
      " unsigned char _nbuf[1];\n",
      "\n",
      "\n",
      " struct __sbuf _lb;\n",
      "\n",
      "\n",
      " int _blksize;\n",
      " fpos_t _offset;\n",
      "} FILE;\n",
      "\n",
      "extern \"C\" {\n",
      "extern FILE *__stdinp;\n",
      "extern FILE *__stdoutp;\n",
      "extern FILE *__stderrp;\n",
      "}\n",
      "# 230 \"/usr/include/stdio.h\" 3 4\n",
      "extern \"C\" {\n",
      "void clearerr(FILE *);\n",
      "int fclose(FILE *);\n",
      "int feof(FILE *);\n",
      "int ferror(FILE *);\n",
      "int fflush(FILE *);\n",
      "int fgetc(FILE *);\n",
      "int fgetpos(FILE * , fpos_t *);\n",
      "char *fgets(char * , int, FILE *);\n",
      "\n",
      "\n",
      "\n",
      "FILE *fopen(const char * , const char * ) __asm(\"_\" \"fopen\" );\n",
      "\n",
      "int fprintf(FILE * , const char * , ...) __attribute__((__format__ (__printf__, 2, 3)));\n",
      "int fputc(int, FILE *);\n",
      "int fputs(const char * , FILE * ) __asm(\"_\" \"fputs\" );\n",
      "size_t fread(void * , size_t, size_t, FILE * );\n",
      "FILE *freopen(const char * , const char * ,\n",
      "                 FILE * ) __asm(\"_\" \"freopen\" );\n",
      "int fscanf(FILE * , const char * , ...) __attribute__((__format__ (__scanf__, 2, 3)));\n",
      "int fseek(FILE *, long, int);\n",
      "int fsetpos(FILE *, const fpos_t *);\n",
      "long ftell(FILE *);\n",
      "size_t fwrite(const void * , size_t, size_t, FILE * ) __asm(\"_\" \"fwrite\" );\n",
      "int getc(FILE *);\n",
      "int getchar(void);\n",
      "char *gets(char *);\n",
      "void perror(const char *);\n",
      "int printf(const char * , ...) __attribute__((__format__ (__printf__, 1, 2)));\n",
      "int putc(int, FILE *);\n",
      "int putchar(int);\n",
      "int puts(const char *);\n",
      "int remove(const char *);\n",
      "int rename (const char *, const char *);\n",
      "void rewind(FILE *);\n",
      "int scanf(const char * , ...) __attribute__((__format__ (__scanf__, 1, 2)));\n",
      "void setbuf(FILE * , char * );\n",
      "int setvbuf(FILE * , char * , int, size_t);\n",
      "int sprintf(char * , const char * , ...) __attribute__((__format__ (__printf__, 2, 3)));\n",
      "int sscanf(const char * , const char * , ...) __attribute__((__format__ (__scanf__, 2, 3)));\n",
      "FILE *tmpfile(void);\n",
      "\n",
      "\n",
      "__attribute__((deprecated(\"This function is provided for compatibility reasons only.  Due to security concerns inherent in the design of tmpnam(3), it is highly recommended that you use mkstemp(3) instead.\")))\n",
      "\n",
      "char *tmpnam(char *);\n",
      "int ungetc(int, FILE *);\n",
      "int vfprintf(FILE * , const char * , va_list) __attribute__((__format__ (__printf__, 2, 0)));\n",
      "int vprintf(const char * , va_list) __attribute__((__format__ (__printf__, 1, 0)));\n",
      "int vsprintf(char * , const char * , va_list) __attribute__((__format__ (__printf__, 2, 0)));\n",
      "}\n",
      "# 292 \"/usr/include/stdio.h\" 3 4\n",
      "extern \"C\" {\n",
      "\n",
      "\n",
      "\n",
      "char *ctermid(char *);\n",
      "\n",
      "\n",
      "\n",
      "\n",
      "\n",
      "FILE *fdopen(int, const char *) __asm(\"_\" \"fdopen\" );\n",
      "\n",
      "int fileno(FILE *);\n",
      "}\n",
      "# 314 \"/usr/include/stdio.h\" 3 4\n",
      "extern \"C\" {\n",
      "int pclose(FILE *);\n",
      "\n",
      "\n",
      "\n",
      "FILE *popen(const char *, const char *) __asm(\"_\" \"popen\" );\n",
      "\n",
      "}\n",
      "# 336 \"/usr/include/stdio.h\" 3 4\n",
      "extern \"C\" {\n",
      "int __srget(FILE *);\n",
      "int __svfscanf(FILE *, const char *, va_list) __attribute__((__format__ (__scanf__, 2, 0)));\n",
      "int __swbuf(int, FILE *);\n",
      "}\n",
      "\n",
      "\n",
      "\n",
      "\n",
      "\n",
      "\n",
      "\n",
      "inline __attribute__ ((__always_inline__)) int __sputc(int _c, FILE *_p) {\n",
      " if (--_p->_w >= 0 || (_p->_w >= _p->_lbfsize && (char)_c != '\\n'))\n",
      "  return (*_p->_p++ = _c);\n",
      " else\n",
      "  return (__swbuf(_c, _p));\n",
      "}\n",
      "# 373 \"/usr/include/stdio.h\" 3 4\n",
      "extern \"C\" {\n",
      "void flockfile(FILE *);\n",
      "int ftrylockfile(FILE *);\n",
      "void funlockfile(FILE *);\n",
      "int getc_unlocked(FILE *);\n",
      "int getchar_unlocked(void);\n",
      "int putc_unlocked(int, FILE *);\n",
      "int putchar_unlocked(int);\n",
      "\n",
      "\n",
      "\n",
      "int getw(FILE *);\n",
      "int putw(int, FILE *);\n",
      "\n",
      "\n",
      "\n",
      "__attribute__((deprecated(\"This function is provided for compatibility reasons only.  Due to security concerns inherent in the design of tempnam(3), it is highly recommended that you use mkstemp(3) instead.\")))\n",
      "\n",
      "char *tempnam(const char *, const char *) __asm(\"_\" \"tempnam\" );\n",
      "}\n",
      "# 411 \"/usr/include/stdio.h\" 3 4\n",
      "# 1 \"/usr/include/sys/_types/_off_t.h\" 1 3 4\n",
      "# 30 \"/usr/include/sys/_types/_off_t.h\" 3 4\n",
      "typedef __darwin_off_t off_t;\n",
      "# 412 \"/usr/include/stdio.h\" 2 3 4\n",
      "\n",
      "extern \"C\" {\n",
      "int fseeko(FILE *, off_t, int);\n",
      "off_t ftello(FILE *);\n",
      "}\n",
      "\n",
      "\n",
      "\n",
      "extern \"C\" {\n",
      "int snprintf(char * , size_t, const char * , ...) __attribute__((__format__ (__printf__, 3, 4)));\n",
      "int vfscanf(FILE * , const char * , va_list) __attribute__((__format__ (__scanf__, 2, 0)));\n",
      "int vscanf(const char * , va_list) __attribute__((__format__ (__scanf__, 1, 0)));\n",
      "int vsnprintf(char * , size_t, const char * , va_list) __attribute__((__format__ (__printf__, 3, 0)));\n",
      "int vsscanf(const char * , const char * , va_list) __attribute__((__format__ (__scanf__, 2, 0)));\n",
      "}\n",
      "# 436 \"/usr/include/stdio.h\" 3 4\n",
      "# 1 \"/usr/include/sys/_types/_ssize_t.h\" 1 3 4\n",
      "# 30 \"/usr/include/sys/_types/_ssize_t.h\" 3 4\n",
      "typedef __darwin_ssize_t ssize_t;\n",
      "# 437 \"/usr/include/stdio.h\" 2 3 4\n",
      "\n",
      "extern \"C\" {\n",
      "int dprintf(int, const char * , ...) __attribute__((__format__ (__printf__, 2, 3))) __attribute__((availability(macosx,introduced=10.7)));\n",
      "int vdprintf(int, const char * , va_list) __attribute__((__format__ (__printf__, 2, 0))) __attribute__((availability(macosx,introduced=10.7)));\n",
      "ssize_t getdelim(char ** , size_t * , int, FILE * ) __attribute__((availability(macosx,introduced=10.7)));\n",
      "ssize_t getline(char ** , size_t * , FILE * ) __attribute__((availability(macosx,introduced=10.7)));\n",
      "}\n",
      "\n",
      "\n",
      "\n",
      "\n",
      "\n",
      "\n",
      "\n",
      "extern \"C\" {\n",
      "extern const int sys_nerr;\n",
      "extern const char *const sys_errlist[];\n",
      "\n",
      "int asprintf(char ** , const char * , ...) __attribute__((__format__ (__printf__, 2, 3)));\n",
      "char *ctermid_r(char *);\n",
      "char *fgetln(FILE *, size_t *);\n",
      "const char *fmtcheck(const char *, const char *);\n",
      "int fpurge(FILE *);\n",
      "void setbuffer(FILE *, char *, int);\n",
      "int setlinebuf(FILE *);\n",
      "int vasprintf(char ** , const char * , va_list) __attribute__((__format__ (__printf__, 2, 0)));\n",
      "FILE *zopen(const char *, const char *, int);\n",
      "\n",
      "\n",
      "\n",
      "\n",
      "\n",
      "FILE *funopen(const void *,\n",
      "                 int (*)(void *, char *, int),\n",
      "                 int (*)(void *, const char *, int),\n",
      "                 fpos_t (*)(void *, fpos_t, int),\n",
      "                 int (*)(void *));\n",
      "}\n",
      "# 2 \"../codes/src/Cpp_tools/Cpp_compiler/section1/helloworld.cpp\" 2\n",
      "\n",
      "int main(){\n",
      "    printf(\"hello world\");\n",
      "    return 0;\n",
      "}\n"
     ]
    }
   ],
   "source": [
    "!g++ -E ../codes/src/Cpp_tools/Cpp_compiler/section1/helloworld.cpp"
   ]
  },
  {
   "cell_type": "markdown",
   "metadata": {},
   "source": [
    "## 步骤二:将代码转译成汇编语言\n",
    "\n",
    "这一步可以使用`-S`指令实现.这个过程就是将上一步的这串字符转译成汇编代码.汇编代码说白了就是二进制代码中操作与资源的的替代而已.因此说C/C++和汇编其实也就一步之遥.这也是为什么很多时候嵌入式设备使用C语言编写的原因.\n",
    "\n",
    "\n",
    "生成`helloworld.s`文件,`.s`文件表示是汇编文件，用编辑器打开就都是汇编指令了\n"
   ]
  },
  {
   "cell_type": "code",
   "execution_count": 8,
   "metadata": {
    "collapsed": true
   },
   "outputs": [],
   "source": [
    "!g++ -o ../codes/src/Cpp_tools/Cpp_compiler/section1/helloworld.s \\\n",
    "-S ../codes/src/Cpp_tools/Cpp_compiler/section1/helloworld.cpp"
   ]
  },
  {
   "cell_type": "code",
   "execution_count": 9,
   "metadata": {},
   "outputs": [
    {
     "name": "stdout",
     "output_type": "stream",
     "text": [
      "\t.section\t__TEXT,__text,regular,pure_instructions\r\n",
      "\t.macosx_version_min 10, 11\r\n",
      "\t.globl\t_main\r\n",
      "\t.align\t4, 0x90\r\n",
      "_main:                                  ## @main\r\n",
      "\t.cfi_startproc\r\n",
      "## BB#0:\r\n",
      "\tpushq\t%rbp\r\n",
      "Ltmp0:\r\n",
      "\t.cfi_def_cfa_offset 16\r\n",
      "Ltmp1:\r\n",
      "\t.cfi_offset %rbp, -16\r\n",
      "\tmovq\t%rsp, %rbp\r\n",
      "Ltmp2:\r\n",
      "\t.cfi_def_cfa_register %rbp\r\n",
      "\tsubq\t$16, %rsp\r\n",
      "\tleaq\tL_.str(%rip), %rdi\r\n",
      "\tmovl\t$0, -4(%rbp)\r\n",
      "\tmovb\t$0, %al\r\n",
      "\tcallq\t_printf\r\n",
      "\txorl\t%ecx, %ecx\r\n",
      "\tmovl\t%eax, -8(%rbp)          ## 4-byte Spill\r\n",
      "\tmovl\t%ecx, %eax\r\n",
      "\taddq\t$16, %rsp\r\n",
      "\tpopq\t%rbp\r\n",
      "\tretq\r\n",
      "\t.cfi_endproc\r\n",
      "\r\n",
      "\t.section\t__TEXT,__cstring,cstring_literals\r\n",
      "L_.str:                                 ## @.str\r\n",
      "\t.asciz\t\"hello world\"\r\n",
      "\r\n",
      "\r\n",
      ".subsections_via_symbols\r\n"
     ]
    }
   ],
   "source": [
    "!cat ../codes/src/Cpp_tools/Cpp_compiler/section1/helloworld.s"
   ]
  },
  {
   "cell_type": "markdown",
   "metadata": {},
   "source": [
    "## 步骤三:将汇编语言的代码再编译为二进制代码\n",
    "\n",
    "这一步使用`-c`指令,将汇编代码编译位二进制代码.注意这依然不是可执行文件,因为其中使用的函数很可能并不包含在二进制文件中."
   ]
  },
  {
   "cell_type": "code",
   "execution_count": 10,
   "metadata": {
    "collapsed": true
   },
   "outputs": [],
   "source": [
    "!g++ -o ../codes/src/Cpp_tools/Cpp_compiler/section1/helloworld.o -c ../codes/src/Cpp_tools/Cpp_compiler/section1/helloworld.cpp"
   ]
  },
  {
   "cell_type": "code",
   "execution_count": 11,
   "metadata": {},
   "outputs": [
    {
     "name": "stdout",
     "output_type": "stream",
     "text": [
      "����\u0007\u0000\u0000\u0001\u0003\u0000\u0000\u0000\u0001\u0000\u0000\u0000\u0004\u0000\u0000\u0000\u0000\u0002\u0000\u0000\u0000 \u0000\u0000\u0000\u0000\u0000\u0000\u0019\u0000\u0000\u0000�\u0001\u0000\u0000\u0000\u0000\u0000\u0000\u0000\u0000\u0000\u0000\u0000\u0000\u0000\u0000\u0000\u0000\u0000\u0000\u0000\u0000\u0000\u0000\u0000\u0000\u0000\u0000�\u0000\u0000\u0000\u0000\u0000\u0000\u0000 \u0002\u0000\u0000\u0000\u0000\u0000\u0000�\u0000\u0000\u0000\u0000\u0000\u0000\u0000\u0007\u0000\u0000\u0000\u0007\u0000\u0000\u0000\u0004\u0000\u0000\u0000\u0000\u0000\u0000\u0000__text\u0000\u0000\u0000\u0000\u0000\u0000\u0000\u0000\u0000\u0000__TEXT\u0000\u0000\u0000\u0000\u0000\u0000\u0000\u0000\u0000\u0000\u0000\u0000\u0000\u0000\u0000\u0000\u0000\u0000*\u0000\u0000\u0000\u0000\u0000\u0000\u0000 \u0002\u0000\u0000\u0004\u0000\u0000\u0000�\u0002\u0000\u0000\u0002\u0000\u0000\u0000\u0000\u0004\u0000�\u0000\u0000\u0000\u0000\u0000\u0000\u0000\u0000\u0000\u0000\u0000\u0000__cstring\u0000\u0000\u0000\u0000\u0000\u0000\u0000__TEXT\u0000\u0000\u0000\u0000\u0000\u0000\u0000\u0000\u0000\u0000*\u0000\u0000\u0000\u0000\u0000\u0000\u0000\f",
      "\u0000\u0000\u0000\u0000\u0000\u0000\u0000J\u0002\u0000\u0000\u0000\u0000\u0000\u0000\u0000\u0000\u0000\u0000\u0000\u0000\u0000\u0000\u0002\u0000\u0000\u0000\u0000\u0000\u0000\u0000\u0000\u0000\u0000\u0000\u0000\u0000\u0000\u0000__compact_unwind__LD\u0000\u0000\u0000\u0000\u0000\u0000\u0000\u0000\u0000\u0000\u0000\u00008\u0000\u0000\u0000\u0000\u0000\u0000\u0000 \u0000\u0000\u0000\u0000\u0000\u0000\u0000X\u0002\u0000\u0000\u0003\u0000\u0000\u0000�\u0002\u0000\u0000\u0001\u0000\u0000\u0000\u0000\u0000\u0000\u0002\u0000\u0000\u0000\u0000\u0000\u0000\u0000\u0000\u0000\u0000\u0000\u0000__eh_frame\u0000\u0000\u0000\u0000\u0000\u0000__TEXT\u0000\u0000\u0000\u0000\u0000\u0000\u0000\u0000\u0000\u0000X\u0000\u0000\u0000\u0000\u0000\u0000\u0000@\u0000\u0000\u0000\u0000\u0000\u0000\u0000x\u0002\u0000\u0000\u0003\u0000\u0000\u0000\u0000\u0000\u0000\u0000\u0000\u0000\u0000\u0000\u000b",
      "\u0000\u0000h\u0000\u0000\u0000\u0000\u0000\u0000\u0000\u0000\u0000\u0000\u0000\u0000$\u0000\u0000\u0000\u0010\u0000\u0000\u0000\u0000\u000b",
      "\r\n",
      "\u0000\u0000\u0000\u0000\u0000\u0002\u0000\u0000\u0000\u0018\u0000\u0000\u0000�\u0002\u0000\u0000\u0002\u0000\u0000\u0000�\u0002\u0000\u0000\u0010\u0000\u0000\u0000\u000b",
      "\u0000\u0000\u0000P\u0000\u0000\u0000\u0000\u0000\u0000\u0000\u0000\u0000\u0000\u0000\u0000\u0000\u0000\u0000\u0001\u0000\u0000\u0000\u0001\u0000\u0000\u0000\u0001\u0000\u0000\u0000\u0000\u0000\u0000\u0000\u0000\u0000\u0000\u0000\u0000\u0000\u0000\u0000\u0000\u0000\u0000\u0000\u0000\u0000\u0000\u0000\u0000\u0000\u0000\u0000\u0000\u0000\u0000\u0000\u0000\u0000\u0000\u0000\u0000\u0000\u0000\u0000\u0000\u0000\u0000\u0000\u0000\u0000\u0000\u0000\u0000\u0000\u0000\u0000UH��H��\u0010H�=\u001b\u0000\u0000\u0000�E�\u0000\u0000\u0000\u0000�\u0000�\u0000\u0000\u0000\u00001ɉE���H��\u0010]�hello world\u0000\u0000\u0000\u0000\u0000\u0000\u0000\u0000\u0000\u0000\u0000*\u0000\u0000\u0000\u0000\u0000\u0000\u0001\u0000\u0000\u0000\u0000\u0000\u0000\u0000\u0000\u0000\u0000\u0000\u0000\u0000\u0000\u0000\u0000\u0014\u0000\u0000\u0000\u0000\u0000\u0000\u0000\u0001zR\u0000\u0001x\u0010\u0001\u0010\f",
      "\u0007\b�\u0001\u0000\u0000$\u0000\u0000\u0000\u001c",
      "\u0000\u0000\u0000��������*\u0000\u0000\u0000\u0000\u0000\u0000\u0000\u0000A\u000e\u0010�\u0002C\r",
      "\u0006\u0000\u0000\u0000\u0000\u0000\u0000\u0000\u0019\u0000\u0000\u0000\u0001\u0000\u0000-\u000b",
      "\u0000\u0000\u0000\u0002\u0000\u0000\u0015\u0000\u0000\u0000\u0000\u0001\u0000\u0000\u0006\u0001\u0000\u0000\u0000\u000f\u0001\u0000\u0000\u0000\u0000\u0000\u0000\u0000\u0000\u0000\u0000\u0007\u0000\u0000\u0000\u0001\u0000\u0000\u0000\u0000\u0000\u0000\u0000\u0000\u0000\u0000\u0000\u0000_main\u0000_printf\u0000\u0000"
     ]
    }
   ],
   "source": [
    "!cat ../codes/src/Cpp_tools/Cpp_compiler/section1/helloworld.o"
   ]
  },
  {
   "cell_type": "markdown",
   "metadata": {},
   "source": [
    "## 步骤四: 链接相关的二进制代码生成可执行文件\n",
    "\n",
    "这一步就是将与文件相关的函数库引入以生成最终的可执行文件."
   ]
  },
  {
   "cell_type": "code",
   "execution_count": 15,
   "metadata": {},
   "outputs": [],
   "source": [
    "!g++ -o ../codes/bin/Cpp_tools/Cpp_compiler/section1/helloworld \\\n",
    "../codes/src/Cpp_tools/Cpp_compiler/section1/helloworld.o"
   ]
  },
  {
   "cell_type": "code",
   "execution_count": 17,
   "metadata": {},
   "outputs": [
    {
     "name": "stdout",
     "output_type": "stream",
     "text": [
      "hello world"
     ]
    }
   ],
   "source": [
    "!../codes/bin/Cpp_tools/Cpp_compiler/section1/helloworld"
   ]
  },
  {
   "cell_type": "markdown",
   "metadata": {},
   "source": [
    "# 多文件编译\n",
    "\n",
    "在第一helloworld那章已经提过如何编译一个多文件构成的项目,这边以一个稍微复杂些的例子来演示"
   ]
  },
  {
   "cell_type": "code",
   "execution_count": 33,
   "metadata": {},
   "outputs": [
    {
     "name": "stdout",
     "output_type": "stream",
     "text": [
      "Overwriting ../codes/include/Cpp_tools/Cpp_compiler/section2/binary_vector.hpp\n"
     ]
    }
   ],
   "source": [
    "%%writefile ../codes/include/Cpp_tools/Cpp_compiler/section2/binary_vector.hpp\n",
    "#ifndef BINARY_VECTOR_H\n",
    "#define BINARY_VECTOR_H//一般是文件名的大写 头文件结尾写上一行\n",
    "namespace Vector{\n",
    "typedef struct {\n",
    "    float x;\n",
    "    float y;\n",
    "} BINARY_VECTOR;\n",
    "}\n",
    "\n",
    "#endif"
   ]
  },
  {
   "cell_type": "code",
   "execution_count": 34,
   "metadata": {},
   "outputs": [
    {
     "name": "stdout",
     "output_type": "stream",
     "text": [
      "Overwriting ../codes/include/Cpp_tools/Cpp_compiler/section2/unary_operator.hpp\n"
     ]
    }
   ],
   "source": [
    "%%writefile ../codes/include/Cpp_tools/Cpp_compiler/section2/unary_operator.hpp\n",
    "#ifndef UNARY_OPERATOR_H\n",
    "#define UNARY_OPERATOR_H//一般是文件名的大写 头文件结尾写上一行\n",
    "#include \"binary_vector.hpp\"\n",
    "#include <math.h>\n",
    "namespace Vector{\n",
    "float mod(Vector::BINARY_VECTOR);\n",
    "}\n",
    "#endif"
   ]
  },
  {
   "cell_type": "code",
   "execution_count": 35,
   "metadata": {},
   "outputs": [
    {
     "name": "stdout",
     "output_type": "stream",
     "text": [
      "Overwriting ../codes/src/Cpp_tools/Cpp_compiler/section2/unary_operator.cpp\n"
     ]
    }
   ],
   "source": [
    "%%writefile ../codes/src/Cpp_tools/Cpp_compiler/section2/unary_operator.cpp\n",
    "#include \"unary_operator.hpp\"\n",
    "float Vector::mod(Vector::BINARY_VECTOR a){\n",
    "    float result = sqrt(a.x*a.x+a.y*a.y);\n",
    "    return result;\n",
    "}"
   ]
  },
  {
   "cell_type": "code",
   "execution_count": 40,
   "metadata": {},
   "outputs": [
    {
     "name": "stdout",
     "output_type": "stream",
     "text": [
      "Writing ../codes/include/Cpp_tools/Cpp_compiler/section2/binary_operator.hpp\n"
     ]
    }
   ],
   "source": [
    "%%writefile ../codes/include/Cpp_tools/Cpp_compiler/section2/binary_operator.hpp\n",
    "#ifndef BINARY_OPERATOR_H\n",
    "#define BINARY_OPERATOR_H//一般是文件名的大写 头文件结尾写上一行\n",
    "#include \"binary_vector.hpp\"\n",
    "namespace Vector{\n",
    "Vector::BINARY_VECTOR add(Vector::BINARY_VECTOR,Vector::BINARY_VECTOR);\n",
    "float mul(Vector::BINARY_VECTOR,Vector::BINARY_VECTOR);\n",
    "}\n",
    "#endif"
   ]
  },
  {
   "cell_type": "code",
   "execution_count": 41,
   "metadata": {},
   "outputs": [
    {
     "name": "stdout",
     "output_type": "stream",
     "text": [
      "Overwriting ../codes/src/Cpp_tools/Cpp_compiler/section2/binary_operator.cpp\n"
     ]
    }
   ],
   "source": [
    "%%writefile ../codes/src/Cpp_tools/Cpp_compiler/section2/binary_operator.cpp\n",
    "#include \"binary_operator.hpp\"\n",
    "Vector::BINARY_VECTOR Vector::add(Vector::BINARY_VECTOR a,Vector::BINARY_VECTOR b){\n",
    "    Vector::BINARY_VECTOR result = {a.x+b.x,a.y+b.y};\n",
    "    return result;\n",
    "}\n",
    "float Vector::mul(Vector::BINARY_VECTOR a,Vector::BINARY_VECTOR b){\n",
    "    float result = a.x*b.x+a.y*b.y;\n",
    "    return result;\n",
    "}"
   ]
  },
  {
   "cell_type": "code",
   "execution_count": 42,
   "metadata": {},
   "outputs": [
    {
     "name": "stdout",
     "output_type": "stream",
     "text": [
      "Overwriting ../codes/test/Cpp_tools/Cpp_compiler/section2/test.cpp\n"
     ]
    }
   ],
   "source": [
    "%%writefile ../codes/test/Cpp_tools/Cpp_compiler/section2/test.cpp\n",
    "#include <stdio.h>\n",
    "#include \"binary_vector.hpp\"\n",
    "#include \"binary_operator.hpp\"\n",
    "#include \"unary_operator.hpp\"\n",
    "\n",
    "int main(void){\n",
    "    Vector::BINARY_VECTOR A = {1,2},B = {3,4};\n",
    "    printf(\"mod(A)=%f\\n\",Vector::mod(A));\n",
    "    printf(\"mod(B)=%f\\n\",Vector::mod(B));\n",
    "    printf(\"mul(A,B)=%f\\n\",Vector::mul(A,B));\n",
    "    Vector::BINARY_VECTOR result = Vector::add(A,B);\n",
    "    printf(\"add(A,B)=<%f,%f>\\n\",result.x,result.y);\n",
    "}\n"
   ]
  },
  {
   "cell_type": "code",
   "execution_count": 43,
   "metadata": {},
   "outputs": [],
   "source": [
    "!g++ -o ../codes/bin/Cpp_tools/Cpp_compiler/section2/test \\\n",
    "-I ../codes/include/Cpp_tools/Cpp_compiler/section2 \\\n",
    "../codes/src/Cpp_tools/Cpp_compiler/section2/*.cpp \\\n",
    "../codes/test/Cpp_tools/Cpp_compiler/section2/test.cpp"
   ]
  },
  {
   "cell_type": "code",
   "execution_count": 44,
   "metadata": {},
   "outputs": [
    {
     "name": "stdout",
     "output_type": "stream",
     "text": [
      "mod(A)=2.236068\r\n",
      "mod(B)=5.000000\r\n",
      "mul(A,B)=11.000000\r\n",
      "add(A,B)=<4.000000,6.000000>\r\n"
     ]
    }
   ],
   "source": [
    "!../codes/bin/Cpp_tools/Cpp_compiler/section2/test"
   ]
  },
  {
   "cell_type": "markdown",
   "metadata": {},
   "source": [
    "## 定义对外的接口"
   ]
  },
  {
   "cell_type": "markdown",
   "metadata": {},
   "source": [
    "# 链接"
   ]
  },
  {
   "cell_type": "markdown",
   "metadata": {},
   "source": [
    "## 静态连接库"
   ]
  },
  {
   "cell_type": "markdown",
   "metadata": {},
   "source": [
    "## 动态连接库"
   ]
  }
 ],
 "metadata": {
  "kernelspec": {
   "display_name": "Python 3",
   "language": "python",
   "name": "python3"
  },
  "language_info": {
   "codemirror_mode": {
    "name": "ipython",
    "version": 3
   },
   "file_extension": ".py",
   "mimetype": "text/x-python",
   "name": "python",
   "nbconvert_exporter": "python",
   "pygments_lexer": "ipython3",
   "version": "3.6.0"
  }
 },
 "nbformat": 4,
 "nbformat_minor": 2
}
