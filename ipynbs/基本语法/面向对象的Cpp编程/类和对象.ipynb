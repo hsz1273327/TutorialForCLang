{
 "cells": [
  {
   "cell_type": "markdown",
   "metadata": {
    "collapsed": true
   },
   "source": [
    "# C++的类和对象\n",
    "\n",
    "C++在 C 语言的基础上增加了面向对象编程,C++ 支持面向对象程序设计.类是 C++ 的核心特性,通常被称为用户定义的类型.\n",
    "类用于指定对象的形式,它包含了数据表示法和用于处理数据的方法.类中的数据和方法称为类的成员(python中称为属性).\n",
    "\n",
    "## C++ 类的实例化\n",
    "\n",
    "C++中实例化有两种方式:\n",
    "\n",
    "+ 直接使用申明实例化\n",
    "\n",
    "```\n",
    "A a = A(1,2,3);\n",
    "```\n",
    "\n",
    "+ 使用`new`关键字创建类的实例\n",
    "\n",
    "它实际上做了三件事:\n",
    "\n",
    "    + 获得一块内存空间\n",
    "    + 调用构造函数\n",
    "    + 返回正确的指针\n",
    "\n",
    "通常我们这样用它:\n",
    "\n",
    "```C++\n",
    "unique_ptr<int> ptr (new int(1));\n",
    "```\n",
    "\n",
    "如果不使用智能指针,那么我们就需要手动的用delete 关键字回收对象的空间\n",
    "\n",
    "对比这两种方式,区别在于对象内容所在的内存空间不同.众所周知，内存的分配方式有三种:\n",
    "1. 从静态存储区域分配。内存在程序编译的时候就已经分配好，这块内存在程序的整个运行期间都存在.例如全局变量,static 变量.\n",
    "\n",
    "2. 在栈上创建.在执行函数时,函数内局部变量的存储单元都可以在栈上创建,函数执行结束后在将这些局部变量的内存空间回收.就像自动挡的车,简单好用.在栈上分配内存空间效率很高,但是分配的内存容量有限.\n",
    "\n",
    "3. 从堆上分配的.就像手动挡的车,程序在运行的时候用 malloc 或 new 申请任意多少的内存，程序员自己负责在何时用free或delete释放内存.\n",
    "\n",
    "第一种方式也就是在栈上创建对象,第二种就是在堆上创建对象.\n",
    "\n",
    "现代C++更加推荐一般用户不使用new创建对象,以避免内存泄露等错误.\n"
   ]
  },
  {
   "cell_type": "markdown",
   "metadata": {},
   "source": [
    "\n",
    "\n",
    "\n",
    "\n",
    "## C++ 类申明\n",
    "\n",
    "定义一个类,本质上是定义一个数据类型的蓝图.这实际上并没有定义任何数据,但它定义了类的名称意味着什么,也就是说,它定义了类的对象包括了什么,以及可以在这个对象上执行哪些操作.\n",
    "\n",
    "\n",
    "类定义是以关键字`class`开头,后跟类的名称.类的主体是包含在一对花括号中.类定义后必须跟着一个分号或一个声明列表.\n",
    "\n",
    "C++中类的申明一般在头文件中,而实现一般在`.cpp`\n",
    "```C++\n",
    "class A{\n",
    "    public:\n",
    "        int a;\n",
    "        int b;\n",
    "        int get_c();\n",
    "    \n",
    "}\n",
    "\n",
    "```\n",
    "### 构造函数\n",
    "\n",
    "类的构造函数是类的一种特殊的成员函数,它会在每次创建类的新对象时执行.\n",
    "构造函数的名称与类的名称是完全相同的,并且不会返回任何类型,也不会返回`void`.构造函数可用于为某些成员变量设置初始值.\n",
    "\n",
    "\n",
    "\n",
    "\n",
    "### 析构函数"
   ]
  },
  {
   "cell_type": "markdown",
   "metadata": {
    "collapsed": true
   },
   "source": [
    "## C++ 类实现\n",
    "\n"
   ]
  },
  {
   "cell_type": "code",
   "execution_count": null,
   "metadata": {
    "collapsed": true
   },
   "outputs": [],
   "source": []
  },
  {
   "cell_type": "markdown",
   "metadata": {
    "collapsed": true
   },
   "source": []
  }
 ],
 "metadata": {
  "kernelspec": {
   "display_name": "Python 3",
   "language": "python",
   "name": "python3"
  },
  "language_info": {
   "codemirror_mode": {
    "name": "ipython",
    "version": 3
   },
   "file_extension": ".py",
   "mimetype": "text/x-python",
   "name": "python",
   "nbconvert_exporter": "python",
   "pygments_lexer": "ipython3",
   "version": "3.6.0"
  }
 },
 "nbformat": 4,
 "nbformat_minor": 2
}
