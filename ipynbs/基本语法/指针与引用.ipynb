{
 "cells": [
  {
   "cell_type": "markdown",
   "metadata": {},
   "source": [
    "# 指针\n",
    "\n",
    "什么是指针?这个在python中可没有.\n",
    "\n",
    "上语文课的时候,老师最长说的话是不是\"请将课本翻到xxx页\"?在那一页上有课上的内容,我们要看的是内容,但却使用页码标记内容,这就是指针的核心思想了.\n",
    "\n",
    "**指针**是变量的地址,与之对应的是内存空间的标记,一本有页码的笔记本,在某一页上可以写着日记,也可以画着画,它只是被标记的空间而已,内容取决于需要.\n",
    "\n",
    "### 变量的三要素\n",
    "\n",
    "一个变量必然有三样内容:\n",
    "\n",
    "+ 地址,内存空间的标记\n",
    "+ 值,存放的具体内容\n",
    "+ 变量名,在程序中用于标记变量的符号\n",
    "\n",
    "在多数语言中还要加上一个类型,用以让编译器或者解释器知道该如何处理这个变量\n",
    "\n",
    "### 取地址符&和指针运算符\\*\n",
    "\n",
    "+ 要取到变量的地址,只用在变量前使用`&`就可以得到了\n",
    "+ 如果我们想通过变量的地址获取它的值,那只要在地址前使用\\*就可以了"
   ]
  },
  {
   "cell_type": "markdown",
   "metadata": {},
   "source": []
  },
  {
   "cell_type": "markdown",
   "metadata": {},
   "source": [
    "## 指针运算\n",
    "\n",
    "指针也就是地址,在C++中表现为可以运算的正整数数值,因此,它和int,long之类一样,是可以运算的,所用的运算符也是通常的运算符."
   ]
  },
  {
   "cell_type": "markdown",
   "metadata": {},
   "source": [
    "## 指针与数组\n",
    "\n",
    "数组变量实际上就是数组第一个元素的指针,因此要取第一个元素的值也可以使用指针运算符,其后面的元素也只要在数组变量的基础上加上长度后再做指针运算即可,不过最安全最直观的方式还是用下标"
   ]
  },
  {
   "cell_type": "markdown",
   "metadata": {},
   "source": [
    "## 函数与指针\n",
    "\n",
    "C++语言中的精髓之一就在于函数与指针互动了\n",
    "\n",
    "### 指针作为参数\n",
    "\n",
    "指针作为参数就可以理解为所谓的传引用,以地址作为参数,函数的操作会影响引用的内容,这样几百年函数的内存被回收,操作的结果也会生效\n",
    "\n",
    "最典型的,交换两个变量的值"
   ]
  },
  {
   "cell_type": "code",
   "execution_count": 1,
   "metadata": {
    "collapsed": false
   },
   "outputs": [
    {
     "name": "stdout",
     "output_type": "stream",
     "text": [
      "Writing ../src/C1/section5/exchange.cpp\n"
     ]
    }
   ],
   "source": [
    "%%writefile ../src/C1/section5/exchange.cpp\n",
    "#include <stdio.h>\n",
    "\n",
    "void exchange(int* ptr_a,int* ptr_b){\n",
    "    int temp;\n",
    "    temp = *ptr_a;\n",
    "    *ptr_a = *ptr_b;\n",
    "    *ptr_b = temp;\n",
    "    return;\n",
    "}\n",
    "\n",
    "int main(void) {\n",
    "    int a = 78,b = 28;\n",
    "    printf(\"before exchange a=%d,b=%d\\n\",a,b);\n",
    "    exchange(&a,&b);\n",
    "    printf(\"after exchange a=%d,b=%d\\n\",a,b);\n",
    "    return 0;\n",
    "}\n"
   ]
  },
  {
   "cell_type": "code",
   "execution_count": 2,
   "metadata": {
    "collapsed": true
   },
   "outputs": [],
   "source": [
    "!g++-7 -o ../bin/exchange ../src/C1/section5/exchange.cpp"
   ]
  },
  {
   "cell_type": "code",
   "execution_count": 3,
   "metadata": {
    "collapsed": false
   },
   "outputs": [
    {
     "name": "stdout",
     "output_type": "stream",
     "text": [
      "before exchange a=78,b=28\r\n",
      "after exchange a=28,b=78\r\n"
     ]
    }
   ],
   "source": [
    "!../bin/exchange"
   ]
  },
  {
   "cell_type": "markdown",
   "metadata": {},
   "source": [
    "#### 指针参数的保护\n",
    "\n",
    "我们如果传递的是指针,那么就意味着内容是可变的,于是就又被篡改的危险,但如果我们希望不被篡改,那么最好的办法就是将这个指针引用的内容在函数中保护起来,这就用到了`const`参数了,这个被称作常量指针"
   ]
  },
  {
   "cell_type": "code",
   "execution_count": 4,
   "metadata": {
    "collapsed": false
   },
   "outputs": [
    {
     "name": "stdout",
     "output_type": "stream",
     "text": [
      "Writing ../src/C1/section5/safe_ptr.cpp\n"
     ]
    }
   ],
   "source": [
    "%%writefile ../src/C1/section5/safe_ptr.cpp\n",
    "#include <stdio.h>\n",
    "\n",
    "int main(void) {\n",
    "    const int a = 78,b = 28;\n",
    "    int c = 18;\n",
    "    const int* p = &a;\n",
    "    printf(\"p:%d\\n\",*p);\n",
    "    //*p = 58//报错,*p无法重新复制\n",
    "    p = &b;//可以给p重新复制,\n",
    "    printf(\"p:%d\\n\",*p);\n",
    "    return 0;\n",
    "}"
   ]
  },
  {
   "cell_type": "code",
   "execution_count": 5,
   "metadata": {
    "collapsed": true
   },
   "outputs": [],
   "source": [
    "!g++-7 -o ../bin/safe_ptr ../src/C1/section5/safe_ptr.cpp"
   ]
  },
  {
   "cell_type": "code",
   "execution_count": 6,
   "metadata": {
    "collapsed": false
   },
   "outputs": [
    {
     "name": "stdout",
     "output_type": "stream",
     "text": [
      "p:78\r\n",
      "p:28\r\n"
     ]
    }
   ],
   "source": [
    "!../bin/safe_ptr"
   ]
  },
  {
   "cell_type": "markdown",
   "metadata": {},
   "source": [
    "\n",
    "### 指针作为返回值(指针函数)\n",
    "\n",
    "如果要一个函数返回指针,那么就像下面这么定义\n",
    "\n",
    "```c\n",
    "int *f(int，int);\n",
    "```\n",
    "指针作为返回值就意味着可以返回复杂的数据结构以及数组了\n",
    "\n",
    "### 函数指针\n",
    "\n",
    "函数指针是指指向函数的指针,事实上函数一样也是一种储存在内存中的数据,如果要做一定的抽象,函数指针是必不可少的.定义一个函数指针如下:\n",
    "\n",
    "```c\n",
    "int (*f)(int,int);\n",
    "```\n",
    "\n",
    "形式上 指针函数和函数指针很像,也就是一对括号的不同而已,但差异非常大,指针函数是定义的函数,而函数指针是定义的指针\n",
    "\n",
    "\n",
    "### 函数常量指针\n",
    "\n",
    "C++中事实上并没有所谓常量函数,但我们确实可以指定指向函数的指针,或者函数的返回值指针,各种各样的指针为常数\n",
    "\n",
    "\n",
    "```c\n",
    "int (*const func)(int) = some_func;//指向函数的常量指针,通常会接一个初始化\n",
    "\n",
    "void const *(*func)(int);//指定返回值为常量指针\n",
    "\n",
    "void const *(*const func)(int) = func;//指向函数的常量指针,并指定返回值为常量指针\n",
    "```"
   ]
  },
  {
   "cell_type": "markdown",
   "metadata": {
    "collapsed": true
   },
   "source": [
    "## 模拟高阶函数\n",
    "\n",
    "对于函数式编程而言,高阶函数是一切的基础,学过python的一定不会陌生,C++中如何实现高阶函数呢\n",
    "\n",
    "### 函数作为参数\n",
    "\n",
    "求a到b间整数的和\n",
    "\n",
    "```c\n",
    "int sum_int(int a,int b){\n",
    "    return a>b ?0:a + sum_int((a+1),b);\n",
    "}\n",
    "```\n",
    "\n",
    "求a到b间的整数的立方和:\n",
    "\n",
    "```c\n",
    "int cube(int x){\n",
    "    return (int)pow(x,3);\n",
    "}\n",
    "\n",
    "int sum_func(int a,int b,int (*func)(int)){\n",
    "\n",
    "    return a>b ?0:(*func)(a) + sum_func((a+1),b,func);\n",
    "}\n",
    "```\n",
    "求:\n",
    "$$ \\frac {1}{1 \\cdot 3} + \\frac {1}{5 \\cdot 7} + \\frac {1}{9 \\cdot 11} +\\cdots$$\n",
    "\n",
    "它会非常缓慢地收敛到$$\\frac {\\pi}{8}$$\n",
    "\n",
    "```c\n",
    "float sum_func_stp(int a,int b,float (*const func)(int) , int (*const step)(int)){\n",
    "    return a>b ?0:(*func)(a) + sum_func_stp((*step)(a),b,func,step);\n",
    "}\n",
    "float func(int x){\n",
    "    return 1.0/(x*(x+2));\n",
    "}\n",
    "int stp(int x){\n",
    "    return x+4;\n",
    "}\n",
    "float sum_pi(int a,int b){\n",
    "    float (*const ptr_func)(int) = func;\n",
    "    int (*const ptr_stp)(int) = stp;\n",
    "    return sum_func_stp(a,b,ptr_func,ptr_stp);\n",
    "}\n",
    "```\n",
    "\n",
    "完整的高阶函数例子:"
   ]
  },
  {
   "cell_type": "code",
   "execution_count": 7,
   "metadata": {
    "collapsed": false
   },
   "outputs": [
    {
     "name": "stdout",
     "output_type": "stream",
     "text": [
      "Writing ../src/C1/section5/high_order_func.cpp\n"
     ]
    }
   ],
   "source": [
    "%%writefile ../src/C1/section5/high_order_func.cpp\n",
    "\n",
    "#include <stdio.h>\n",
    "#include <math.h>\n",
    "\n",
    "int sum_int(int a,int b){\n",
    "    return a>b ?0:a + sum_int((a+1),b);\n",
    "}\n",
    "\n",
    "int cube(int x){\n",
    "    return (int)pow(x,3);\n",
    "}\n",
    "int sum_func(int a,int b,int (*const func)(int)){\n",
    "    return a>b ?0:(*func)(a) + sum_func((a+1),b,func);\n",
    "}\n",
    "\n",
    "int sum_cube(int a,int b){\n",
    "    int (*const ptr_func)(int) = cube;\n",
    "    return sum_func(a,b,ptr_func);\n",
    "}\n",
    "float sum_func_stp(int a,int b,float (*const func)(int) , int (*const step)(int)){\n",
    "    return a>b ?0:(*func)(a) + sum_func_stp((*step)(a),b,func,step);\n",
    "}\n",
    "float func(int x){\n",
    "    return 1.0/(x*(x+2));\n",
    "}\n",
    "int stp(int x){\n",
    "    return x+4;\n",
    "}\n",
    "float sum_pi(int a,int b){\n",
    "    float (*const ptr_func)(int) = func;\n",
    "    int (*const ptr_stp)(int) = stp;\n",
    "    return sum_func_stp(a,b,ptr_func,ptr_stp);\n",
    "}\n",
    "\n",
    "\n",
    "int main(void) {\n",
    "    int top = 5,bottom = 1;\n",
    "    printf(\"range(%d,%d) = %d\\n\", bottom,top,sum_int(bottom,top));\n",
    "    printf(\"range(%d,%d)的立方和为%d\\n\", bottom,top,sum_cube(bottom,top));\n",
    "    printf(\"sum_pi(%d,%d)为%f\\n\", bottom,top,sum_pi(bottom,top));\n",
    "}"
   ]
  },
  {
   "cell_type": "code",
   "execution_count": 8,
   "metadata": {
    "collapsed": true
   },
   "outputs": [],
   "source": [
    "!g++-7 -o ../bin/high_order_func ../src/C1/section5/high_order_func.cpp"
   ]
  },
  {
   "cell_type": "code",
   "execution_count": 9,
   "metadata": {
    "collapsed": false
   },
   "outputs": [
    {
     "name": "stdout",
     "output_type": "stream",
     "text": [
      "range(1,5) = 15\r\n",
      "range(1,5)的立方和为225\r\n",
      "sum_pi(1,5)为0.361905\r\n"
     ]
    }
   ],
   "source": [
    "!../bin/high_order_func"
   ]
  },
  {
   "cell_type": "markdown",
   "metadata": {},
   "source": [
    "## 空指针\n",
    "\n",
    "C++中可以用`NULL`为任意指针变量赋值,他的意义是指针为空,或者说,指针变量没有指向任何地址"
   ]
  },
  {
   "cell_type": "markdown",
   "metadata": {},
   "source": [
    "## 智能指针[C++11]\n",
    "\n",
    "智能指针是基于RAII机制实现的类(模板)，具有指针的行为(重载了`operator*`与`operator->`操作符)，可以“智能”地销毁其所指对象。C++11中有`unique_ptr`、`shared_ptr`与`weak_ptr`等智能指针，可以对动态资源进行管理.他们在C++标准库`memory`中\n",
    "\n",
    "### `unique_ptr`概念\n",
    "\n",
    "`unique_ptr`'唯一'拥有其所指对象,同一时刻只能有一个`unique_ptr`指向给定对象(通过禁止拷贝语义,只有移动语义来实现).\n",
    "\n",
    "`unique_ptr`指针本身的生命周期:从`unique_ptr`指针创建时开始,直到离开作用域.离开作用域时,若其指向对象,则将其所指对象销毁(默认使用`delete`操作符,用户可指定其他操作).\n",
    "\n",
    "`unique_ptr`指针与其所指对象的关系:在智能指针生命周期内,可以改变智能指针所指对象,如创建智能指针时通过构造函数指定,通过`reset`方法重新指定、通过`release`方法释放所有权、通过移动语义转移所有权.\n",
    "\n",
    "unique_ptr的基本操作例子:"
   ]
  },
  {
   "cell_type": "code",
   "execution_count": 10,
   "metadata": {
    "collapsed": false
   },
   "outputs": [
    {
     "name": "stdout",
     "output_type": "stream",
     "text": [
      "Writing ../src/C1/section5/unique_ptr_test.cpp\n"
     ]
    }
   ],
   "source": [
    "%%writefile ../src/C1/section5/unique_ptr_test.cpp\n",
    "#include <iostream>\n",
    "#include <string>\n",
    "#include <memory>\n",
    "using std::cout;\n",
    "using std::endl;\n",
    "using std::string;\n",
    "using std::unique_ptr;\n",
    "int main(){\n",
    "    //智能指针的创建 \n",
    "    unique_ptr<int> u_i; //创建空智能指针\n",
    "    u_i.reset(new int(3)); //绑定动态对象  \n",
    "    cout<< *u_i << endl;\n",
    "    unique_ptr<int> u_i2(new int(4));//创建时指定动态对象  \n",
    "    cout<< *u_i2 << endl;\n",
    "    //所有权的变化  \n",
    "    int *p_i = u_i2.release(); //释放所有权  \n",
    "    \n",
    "    unique_ptr<string> u_s(new string(\"abc\"));  \n",
    "    cout<< *u_s << endl;\n",
    "    unique_ptr<string> u_s2 = std::move(u_s); //所有权转移(通过移动语义)，u_s所有权转移后，变成“空指针”  \n",
    "    cout<< *u_s2 << endl;\n",
    "    u_s2=nullptr;//显式销毁所指对象，同时智能指针变为空指针。与u_s2.reset()等价  \n",
    "}\n"
   ]
  },
  {
   "cell_type": "code",
   "execution_count": 11,
   "metadata": {
    "collapsed": true
   },
   "outputs": [],
   "source": [
    "!g++-7 -o ../bin/unique_ptr_test ../src/C1/section5/unique_ptr_test.cpp"
   ]
  },
  {
   "cell_type": "code",
   "execution_count": 12,
   "metadata": {
    "collapsed": false
   },
   "outputs": [
    {
     "name": "stdout",
     "output_type": "stream",
     "text": [
      "3\r\n",
      "4\r\n",
      "abc\r\n",
      "abc\r\n"
     ]
    }
   ],
   "source": [
    "!../bin/unique_ptr_test"
   ]
  },
  {
   "cell_type": "markdown",
   "metadata": {},
   "source": [
    "unique_ptr的使用场景:\n",
    "\n",
    "+ 动态资源的异常安全保证(利用其RAII特性)\n",
    "\n",
    "```C++\n",
    "void foo()  {\n",
    "    //不安全的代码  \n",
    "    X *px = new X;  \n",
    "    // do something, exception may occurs  \n",
    "    delete px; // may not go here  \n",
    "}  \n",
    "```\n",
    "\n",
    "```C++\n",
    "void foo()  {\n",
    "    //异常安全的代码。无论是否异常发生，只要px指针成功创建，其析构函数都会被调用，确保动态资源被释放  \n",
    "    unique_ptr<X> px(new X);  \n",
    "    // do something,  \n",
    "}  \n",
    "```\n",
    "\n",
    "+ 返回函数内创建的动态资源\n",
    "\n",
    "```C++\n",
    "unique_ptr<X> foo() {  \n",
    "    unique_ptr<X> px(new X);  \n",
    "    // do something  \n",
    "    return px; //移动语义  \n",
    "}\n",
    "```\n",
    "\n",
    "+ 可放在容器中\n",
    "\n",
    "```C++\n",
    "vector<unique_ptr<string>> vs { new string{“Doug”}, new string{“Adams”}};\n",
    "```\n",
    "    \n",
    "+ 管理动态数组，因为`unique_ptr`有`unique_ptr<X[]>`重载版本,销毁动态对象时调用`delete[]`\n",
    "\n",
    "```C++\n",
    "unique_ptr<int[]> p (new int[3]{1,2,3});  \n",
    "p[0] = 0;// 重载了operator[]  \n",
    "```\n",
    "\n",
    "+ `unique_ptr`默认的资源删除操作是`delete/delete[]`，若需要，可以进行自定义：\n",
    "\n",
    "```C++\n",
    "void end_connection(connection *p) { disconnect(*p); } //资源清理函数  \n",
    "unique_ptr<connection, decltype(end_connection)*> //资源清理器的'类型'\n",
    "        p(&c, end_connection);// 传入函数名，会自动转换为函数指针  \n",
    "```"
   ]
  },
  {
   "cell_type": "markdown",
   "metadata": {},
   "source": [
    "### shared_ptr概念\n",
    "\n",
    "shared_ptr主要的功能是,管理动态创建的对象的销毁.它的基本原理就是记录对象被引用的次数,当引用次数为 0 的时候,也就是最后一个指向某对象的共享指针析构的时候,共享指针的析构函数就把指向的内存区域释放掉.\n",
    "共享指针对象重载了 `operator*` 和 `operator->` , 所以你可以像通常的指针一样使用它.\n",
    "\n",
    "他的接口和`unique_ptr`类似,但是多了几个接口:\n",
    "\n",
    "+ `Swap()`函数：交换函数\n",
    "\n",
    "```c++\n",
    "int* a=new int(2);  \n",
    "shared_ptr<int> sp(a);  \n",
    "shared_ptr<int> sp1(a);  \n",
    "sp.swap(sp1);  \n",
    "```\n",
    "就是两个shared_ptr中的px和pn都互换一下。\n",
    "\n",
    "+ `Get()`函数：返回px\n",
    "\n",
    "+ `Use_count()`函数：返回`*pn`，就是对象的拥有者的数量。\n",
    "\n",
    "+ Unique函数：令`*pn=1`;让对象的拥有者的数量变为1.返回bool\n",
    "\n",
    "\n",
    "\n",
    "有关运行效率的问题在这里就不讨论了.其它方面,`shared_ptr` 的构造要求比较高,如果对象在创建的时候没有使用共享指针存储的话,之后也不能用共享指针管理这个对象了.如果有引用循环(reference cycle), 也就是对象a有指向对象b的共享指针,对象b也有指向对象a的共享指针,那么它们都不会被析构.\n",
    "\n",
    "尤其，在类的成员函数的编写的时候，有时我们经常希望得到\"自己\"的共享指针，但是这往往是无法得到的.此时也不能够从 this 指针构造自己的共享指针."
   ]
  },
  {
   "cell_type": "markdown",
   "metadata": {},
   "source": [
    "### weak_ptr概念\n",
    "\n",
    "`weak_ptr`是为了配合`shared_ptr`而引入的一种智能指针,它更像是`shared_ptr`的一个助手而不是智能指针,因为它不具有普通指针的行为,没有重载`operator*`和`->`,它的最大作用在于协助`shared_ptr`工作，像旁观者那样观测资源的使用情况.\n",
    "\n",
    "用法:\n",
    "`weak_ptr`被设计为与`shared_ptr`共同工作，可以从一个`shared_ptr`或者另一个`weak_ptr`对象构造,获得资源的观测权.但`weak_ptr`没有共享资源,它的构造不会引起指针引用计数的增加.\n",
    "\n",
    "使用`weak_ptr`的成员函数`use_count()`可以观测资源的引用计数,另一个成员函数`expired()`的功能等价于`use_count()==0`,但更快,表示被观测的资源(也就是`shared_ptr`的管理的资源)已经不复存在.\n",
    "\n",
    "`weak_ptr`可以使用一个非常重要的成员函数`lock()`从被观测的`shared_ptr`获得一个可用的`shared_ptr`对象,从而操作资源.但当`expired()==true`的时候,`lock()`函数将返回一个存储空指针的`shared_ptr`."
   ]
  },
  {
   "cell_type": "markdown",
   "metadata": {},
   "source": [
    "## nullptr[C++11]\n",
    "\n",
    "nullptr是为了解决原来C++中NULL的二义性问题而引进的一种新的类型,因为NULL实际上代表的是0."
   ]
  },
  {
   "cell_type": "code",
   "execution_count": 13,
   "metadata": {
    "collapsed": false
   },
   "outputs": [
    {
     "name": "stdout",
     "output_type": "stream",
     "text": [
      "Writing ../src/C1/section5/nullptr_test.cpp\n"
     ]
    }
   ],
   "source": [
    "%%writefile ../src/C1/section5/nullptr_test.cpp\n",
    "#include <iostream>\n",
    "using std::cout;\n",
    "using std::endl;\n",
    "        \n",
    "void F(int a){  \n",
    "    cout<<a<<endl;  \n",
    "}  \n",
    " \n",
    "void F(int *p){  \n",
    "    assert(p != NULL);  \n",
    " \n",
    "    cout<< p <<endl;  \n",
    "}  \n",
    " \n",
    "int main(){  \n",
    " \n",
    "    int *p = nullptr;  \n",
    "    int *q = NULL;  \n",
    "    bool equal = ( p == q ); // equal的值为true，说明p和q都是空指针  \n",
    "    int a = nullptr; // 编译失败，nullptr不能转型为int  \n",
    "    F(0); // 在C++98中编译失败，有二义性；在C++11中调用F（int）  \n",
    "    F(nullptr);  \n",
    " \n",
    "    return 0;  \n",
    "} "
   ]
  },
  {
   "cell_type": "markdown",
   "metadata": {},
   "source": [
    "## void指针\n",
    "\n",
    "void指针很特殊,它有这样的性质:\n",
    "+ void指针可以指向任何数据类型,如果要将void指针赋给其他类型指针，则需要强制类型转换如：`pint= (int *)pvoid`\n",
    "+ **可以用任何类型的指针对void指针进行赋值和初始化**\n",
    "+ void指针无法进行指针操作\n",
    "    `void* p`就是一个典型的void指针,一般void指针用在内存操作,\n",
    "    \n",
    "因此void指针常用在:\n",
    "\n",
    "+ 内存操作\n",
    "+ 定义函数时,如果函数的参数可以是任意类型指针，那么应声明其参数为`void*`\n",
    "+ 作为指向函数的指针\n"
   ]
  },
  {
   "cell_type": "markdown",
   "metadata": {},
   "source": [
    "## *深入挖掘存储器\n",
    "\n",
    "要真正理解什么是指针,我们需要了解一下计算机中内存是如何被使用的.这部分其实对大多数python程序员,甚至对多数程序员都是超纲内容,编程语言产生的目的就是让开发者可以不用关心计算机的内部实现,专门学这个就本末倒置了.但这对于一些特殊情况却是很有用的,比如在资源相当有限的单片机上时,我们操作资源的颗粒度就越小越好,而语言的抽象层级越低越好.这也就是为啥嵌入式一般都是用C语言来写.\n",
    "\n",
    "一般来说系统会在一个进程被创建后为其开辟一段内存空间,而针对于C/C++,这段空间的结构是这样:\n",
    "\n",
    "\n",
    "\n",
    "\n",
    "名称|内容\n",
    "---|---\n",
    "代码段\t|可执行代码、字符串常量\n",
    "数据段 |已初始化全局变量、已初始化全局静态变量、局部静态变量、常量数据\n",
    "BSS段\t|未初始化全局变量，未初始化全局静态变量\n",
    "栈\t|局部变量、函数参数\n",
    "堆| 动态内存分配\n",
    "\n",
    "\n",
    "而如何找到这些段中对应的内容呢,这就需要记录存储器单元的地址.比如如下这段代码:\n",
    "\n",
    "```Cpp\n",
    "\n",
    "int y = 1;\n",
    "\n",
    "int main(){\n",
    "    int x = 4;\n",
    "    return 0;\n",
    "}\n",
    "\n",
    "```\n",
    "\n",
    "y就存放在数据段,x就存放在栈中,假设y的存储器地址为100000,那就是说1000000地址的存储器其中存放的是int类型的一个值为1的内容.\n",
    "\n",
    "而这个地址的编号也就是使用取地址符`&`取出来的东西了.而所谓的指针也就是存放这个地址的空间了.\n",
    "\n",
    "而我们需要知道这段地址中的内容是什么类型,这样程序才知道要如何处理,所以指针也需要类型."
   ]
  },
  {
   "cell_type": "markdown",
   "metadata": {},
   "source": [
    "## 为什么要用指针?\n",
    "\n",
    "如上面所说,指针是保存的一个变量的内存地址,那为什么要这么做呢?\n",
    "\n",
    "### C语言按值传递参数\n",
    "\n",
    "\n",
    "和python中不同,C语言调用函数的方式是严格按值传递,\n",
    "\n",
    "```Cpp\n",
    "\n",
    "int y = 1;\n",
    "\n",
    "int add(int x,int y){\n",
    "    return x+y\n",
    "}\n",
    "\n",
    "int main(){\n",
    "    int x = 4;\n",
    "    int z = add(x,y);\n",
    "    return 0;\n",
    "}\n",
    "\n",
    "```\n",
    "\n",
    "上例中的add函数接收两个int类型的参数,在被调用时,传入的参数值会按顺序被复制给函数对应的栈中对应的变量中.\n",
    "\n",
    "这样的好处是函数的结果的不会因为外部数据变化而受到影响,坏处就是也影响不到外面的变量数据.而如果希望函数改变外部数据,那就应该使用指针.因为传入的是一段地址,所以只要根据这段地址找到这个变量的值就行."
   ]
  },
  {
   "cell_type": "markdown",
   "metadata": {},
   "source": [
    "# 引用(reference)\n",
    "\n",
    "引用就是某一变量(目标)的一个别名,对引用的操作与对变量直接操作完全一样.\n",
    "\n",
    "引用的声明方法:\n",
    "\n",
    "```C++\n",
    "类型标识符 &引用名=目标变量名；\n",
    "```\n",
    "如下,定义引用ra,它是变量a的引用,即别名:\n",
    "\n",
    "```C++\n",
    "int a;\n",
    "\n",
    "int &ra=a;\n",
    "```\n",
    "\n",
    "1. &在此不是求地址运算符,而是起标识作用.\n",
    "\n",
    "2. 类型标识符是指目标变量的类型.\n",
    "\n",
    "3. 声明引用时,必须同时对其进行初始化.\n",
    "\n",
    "4. 引用声明完毕后,相当于目标变量有两个名称即该目标原名称和引用名,且不能再把该引用名作为其他变量名的别名.\n",
    "\n",
    "5. 声明一个引用,不是新定义了一个变量,它只表示该引用名是目标变量名的一个别名,它本身不是一种数据类型,因此引用本身不占存储单元,系统也不给引用分配存储单元.故:对引用求地址,就是对目标变量求地址.&ra与&a相等.\n",
    "\n",
    "6. 不能建立数组的引用.因为数组是一个由若干个元素所组成的集合,所以无法建立一个数组的别名。\n"
   ]
  },
  {
   "cell_type": "code",
   "execution_count": 14,
   "metadata": {
    "collapsed": false
   },
   "outputs": [
    {
     "name": "stdout",
     "output_type": "stream",
     "text": [
      "Writing ../src/C1/section5/reference_test.cpp\n"
     ]
    }
   ],
   "source": [
    "%%writefile ../src/C1/section5/reference_test.cpp\n",
    "#include<iostream>\n",
    "using std::cout;\n",
    "using std::endl;\n",
    "        \n",
    "int main(){\n",
    "    int a=5;\n",
    "    int &b=a;\n",
    "    b=6;\n",
    "    cout<<\"a=\"<<a<<\",b=\"<<b<<endl;//a=6,b=6\n",
    "    int c=7;\n",
    "    b=c;\n",
    "    cout<<\"a=\"<<a<<\",b=\"<<b<<endl;//a=7,b=7\n",
    "    return 0;\n",
    "}"
   ]
  },
  {
   "cell_type": "code",
   "execution_count": 15,
   "metadata": {
    "collapsed": true
   },
   "outputs": [],
   "source": [
    "!g++-7 -o ../bin/reference_test ../src/C1/section5/reference_test.cpp"
   ]
  },
  {
   "cell_type": "code",
   "execution_count": 16,
   "metadata": {
    "collapsed": false
   },
   "outputs": [
    {
     "name": "stdout",
     "output_type": "stream",
     "text": [
      "a=6,b=6\r\n",
      "a=7,b=7\r\n"
     ]
    }
   ],
   "source": [
    "!../bin/reference_test"
   ]
  }
 ],
 "metadata": {
  "kernelspec": {
   "display_name": "Python 3",
   "language": "python",
   "name": "python3"
  },
  "language_info": {
   "codemirror_mode": {
    "name": "ipython",
    "version": 3
   },
   "file_extension": ".py",
   "mimetype": "text/x-python",
   "name": "python",
   "nbconvert_exporter": "python",
   "pygments_lexer": "ipython3",
   "version": "3.6.0"
  }
 },
 "nbformat": 4,
 "nbformat_minor": 1
}
