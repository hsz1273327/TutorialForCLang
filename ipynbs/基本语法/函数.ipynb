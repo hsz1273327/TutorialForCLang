{
 "cells": [
  {
   "cell_type": "markdown",
   "metadata": {},
   "source": [
    "# 函数\n",
    "\n",
    "## 函数的定义\n",
    "\n",
    "C语言中的函数声明和定义必须带参数和返回值类型,他的形式是这样\n",
    "\n",
    "\n",
    "```c\n",
    "返回变量类型 函数名(参数类型 参数1,参数类型,参数2){\n",
    "    语句组\n",
    "    return 返回值;\n",
    "}\n",
    "```\n",
    "\n",
    "在上一讲中我们计算开方已经使用了函数,需要注意的是C中的函数并不像python中那么万能,它无法作为参数或者返回值,也没有匿名函数,它的作用只是写接口和一些简单抽象而已.\n",
    "\n",
    "## 函数的类型\n",
    "\n",
    "我们定义函数的类型就是它返回值的类型,别问为啥反正就是这样.\n",
    "\n",
    "## 函数的调用\n",
    "\n",
    "C中的函数只在被调用时才会在内存中开辟出空间,当调用结束后,为函数开辟出的空间就会被回收,C是一种非常节俭的语言,也正因为这样它才能在单片机的编程中有所作为\n",
    "\n",
    "## 函数的参数传递\n",
    "\n",
    "函数的参数可以带有默认值,默认值可以是常数,也可以是表达式.\n",
    "C中的函数参数在一般情况下都是传值的(也就是复制),只有参数是引用(数组,指针)的时候才是传递的引用(数组,指针)\n",
    "\n",
    "## 函数的原型与函数声明\n",
    "\n",
    "C语言的特点是可以先声明再定义,对于函数也一样,通常声明会放在头文件中,这部分内容会放在<头文件与多文件编译>部分理解\n",
    "\n",
    "在C语言中函数的声明就是函数的原型,他的形式是:\n",
    "\n",
    "```c\n",
    "返回变量类型 函数名(参数类型1,参数类型2);\n",
    "```"
   ]
  },
  {
   "cell_type": "markdown",
   "metadata": {
    "collapsed": true
   },
   "source": [
    "## 入口函数与命令行参数输入\n",
    "\n",
    "之前的例子中,我们接触的入口函数都是参数为空,返回为int这样的,这种形式常见于直接执行的程序,而典型命令行工具的比如像gcc这样,它必然需要有一个输入参数,这种时候我们可以利用另一种形式的入口函数来实现:\n",
    "\n",
    "```c\n",
    "int main(int argc, char *argv[]){\n",
    "    代码段\n",
    "}\n",
    "\n",
    "```\n",
    "\n",
    "+ argc 是入口参数的长度(几个参数)\n",
    "+ argv 则是由输入字符串组成的数组\n",
    "\n",
    "> 例:\n",
    "\n",
    "将之前的牛顿法求开根改为命令行工具,参数为第一位要开的数,第二位为开几次方根,精度规定为0.0000001,如果达不到,那允许最多迭代500次\n",
    "\n",
    "牛顿法扩展都n次方根$ \\sqrt[k] a $的表达式为:\n",
    "\n",
    "$x_{n+1} = x_n - \\frac {x_n^k-a} {kx_n^{k-1}} = \\frac {k-1}{k} x_n + \\frac {a}{kx_n^{k-1}}$\n"
   ]
  },
  {
   "cell_type": "code",
   "execution_count": 1,
   "metadata": {
    "collapsed": false
   },
   "outputs": [
    {
     "name": "stdout",
     "output_type": "stream",
     "text": [
      "Writing ../src/C1/section6/Newton_method_sqrt.cpp\n"
     ]
    }
   ],
   "source": [
    "%%writefile ../codes/C3_grammar/section6/Newton_method_sqrt.cpp\n",
    "\n",
    "\n",
    "#include <stdio.h>\n",
    "#include <math.h>\n",
    "#include <stdlib.h>\n",
    "const double EPS  = 0.0000001;\n",
    "\n",
    "double newton_method(double a,int n){\n",
    "    double x=0,last_x=0;\n",
    "    if (a>0){\n",
    "        x = a/n;\n",
    "        for(int i = 0;i < 500;i++){\n",
    "            last_x = x;\n",
    "            x = last_x - last_x*(1-a*pow(last_x,-n))/n;\n",
    "            if(fabs(last_x - x) < EPS){\n",
    "                break;\n",
    "            }\n",
    "        }\n",
    "        return x;\n",
    "    } else if (a == 0){\n",
    "        return 0;\n",
    "    } else if (a == 1){\n",
    "        return 1;\n",
    "    } else{\n",
    "        return -1;\n",
    "    }\n",
    "\n",
    "}\n",
    "\n",
    "int main(int argc, char *argv[]){\n",
    "    if (argc != 3) {\n",
    "        printf(\"参数错误,参数有%d个,请传入要开方的数和开多少次方\\n\",argc-1);\n",
    "        return 0;\n",
    "    }else{\n",
    "        double a= atof(argv[1]),result = 0;\n",
    "        int n = atoi(argv[2]);\n",
    "        result = newton_method(a,n);\n",
    "        if (result < 0){\n",
    "            printf(\"%lf无法在实数范围内求开方\\n\",a);\n",
    "            return 0;\n",
    "        }else{\n",
    "            printf(\"%lf的%d次方根是%lf\\n\",a,n,result);\n",
    "            return 0;\n",
    "        }\n",
    "    }\n",
    "}\n"
   ]
  },
  {
   "cell_type": "code",
   "execution_count": 2,
   "metadata": {
    "collapsed": true
   },
   "outputs": [],
   "source": [
    "!gcc -o ../bin/Newton_method_sqrt ../src/C1/section6/Newton_method_sqrt.cpp"
   ]
  },
  {
   "cell_type": "code",
   "execution_count": 3,
   "metadata": {
    "collapsed": false
   },
   "outputs": [
    {
     "name": "stdout",
     "output_type": "stream",
     "text": [
      "参数错误,参数有0个,请传入要开方的数和开多少次方\r\n"
     ]
    }
   ],
   "source": [
    "!../bin/Newton_method_sqrt"
   ]
  },
  {
   "cell_type": "code",
   "execution_count": 4,
   "metadata": {
    "collapsed": false
   },
   "outputs": [
    {
     "name": "stdout",
     "output_type": "stream",
     "text": [
      "参数错误,参数有1个,请传入要开方的数和开多少次方\r\n"
     ]
    }
   ],
   "source": [
    "!../bin/Newton_method_sqrt 2"
   ]
  },
  {
   "cell_type": "code",
   "execution_count": 5,
   "metadata": {
    "collapsed": false,
    "scrolled": true
   },
   "outputs": [
    {
     "name": "stdout",
     "output_type": "stream",
     "text": [
      "3.000000的3次方根是1.442250\r\n"
     ]
    }
   ],
   "source": [
    "!../bin/Newton_method_sqrt 3 3"
   ]
  },
  {
   "cell_type": "markdown",
   "metadata": {},
   "source": [
    "# 内联函数\n",
    "\n",
    "`inline`关键字可以指定函数为内联函数,内联函数没有多余的函数调用开销,是一种以空间换时间的技术\n",
    "\n",
    "```C++\n",
    "inline int min(int first, int secend) {/****/};\n",
    "```\n",
    "\n",
    "## 慎用内联\n",
    "\n",
    "内联能提高函数的执行效率,为什么不把所有的函数都定义成内联函数?如果所有的函数都是内联函数,还用得着\"内联\"这个关键字吗?内联是以代码膨胀(复制)为代价,仅仅省去了函数调用的开销,从而提高函数的执行效率.如果执行函数体内代码的时间,相比于函数调用的开销较大,那么效率的收获会很少.另一方面,每一处内联函数的调用都要复制代码,将使程序的总代码量增大,消耗更多的内存空间.\n",
    "\n",
    "以下情况不宜使用内联:\n",
    "\n",
    "1. 如果函数体内的代码比较长，使用内联将导致内存消耗代价较高.\n",
    "2. 如果函数体内出现循环,那么执行函数体内代码的时间要比函数调用的开销大.类的构造函数和析构函数容易让人误解成使用内联更有效.要当心构造函数和析构函数可能会隐藏一些行为,如\"偷偷地\"执行了基类或成员对象的构造函数和析构函数.所以不要随便地将构造函数和析构函数的定义体放在类声明中.一个好的编译器将会根据函数的定义体,自动地取消不值得的内联(这进一步说明了inline不应该出现在函数的声明中).\n",
    "\n"
   ]
  },
  {
   "cell_type": "markdown",
   "metadata": {},
   "source": [
    "## 函数与指针\n",
    "\n",
    "C++语言中的精髓之一就在于函数与指针互动了\n",
    "\n",
    "### 指针作为参数\n",
    "\n",
    "指针作为参数就可以理解为所谓的传引用,以地址作为参数,函数的操作会影响引用的内容,这样几百年函数的内存被回收,操作的结果也会生效\n",
    "\n",
    "最典型的,交换两个变量的值"
   ]
  },
  {
   "cell_type": "code",
   "execution_count": null,
   "metadata": {
    "collapsed": true
   },
   "outputs": [],
   "source": [
    "%%writefile ../src/C1/section5/exchange.cpp\n",
    "#include <stdio.h>\n",
    "\n",
    "void exchange(int* ptr_a,int* ptr_b){\n",
    "    int temp;\n",
    "    temp = *ptr_a;\n",
    "    *ptr_a = *ptr_b;\n",
    "    *ptr_b = temp;\n",
    "    return;\n",
    "}\n",
    "\n",
    "int main(void) {\n",
    "    int a = 78,b = 28;\n",
    "    printf(\"before exchange a=%d,b=%d\\n\",a,b);\n",
    "    exchange(&a,&b);\n",
    "    printf(\"after exchange a=%d,b=%d\\n\",a,b);\n",
    "    return 0;\n",
    "}\n"
   ]
  },
  {
   "cell_type": "code",
   "execution_count": null,
   "metadata": {
    "collapsed": true
   },
   "outputs": [],
   "source": [
    "!g++-7 -o ../bin/exchange ../src/C1/section5/exchange.cpp"
   ]
  },
  {
   "cell_type": "code",
   "execution_count": null,
   "metadata": {
    "collapsed": true
   },
   "outputs": [],
   "source": [
    "!../bin/exchange"
   ]
  },
  {
   "cell_type": "markdown",
   "metadata": {},
   "source": [
    "#### 指针参数的保护\n",
    "\n",
    "我们如果传递的是指针,那么就意味着内容是可变的,于是就又被篡改的危险,但如果我们希望不被篡改,那么最好的办法就是将这个指针引用的内容在函数中保护起来,这就用到了`const`参数了,这个被称作常量指针"
   ]
  },
  {
   "cell_type": "code",
   "execution_count": null,
   "metadata": {
    "collapsed": true
   },
   "outputs": [],
   "source": [
    "%%writefile ../src/C1/section5/safe_ptr.cpp\n",
    "#include <stdio.h>\n",
    "\n",
    "int main(void) {\n",
    "    const int a = 78,b = 28;\n",
    "    int c = 18;\n",
    "    const int* p = &a;\n",
    "    printf(\"p:%d\\n\",*p);\n",
    "    //*p = 58//报错,*p无法重新复制\n",
    "    p = &b;//可以给p重新复制,\n",
    "    printf(\"p:%d\\n\",*p);\n",
    "    return 0;\n",
    "}"
   ]
  },
  {
   "cell_type": "code",
   "execution_count": null,
   "metadata": {
    "collapsed": true
   },
   "outputs": [],
   "source": [
    "!g++-7 -o ../bin/safe_ptr ../src/C1/section5/safe_ptr.cpp"
   ]
  },
  {
   "cell_type": "code",
   "execution_count": null,
   "metadata": {
    "collapsed": true
   },
   "outputs": [],
   "source": [
    "!../bin/safe_ptr"
   ]
  },
  {
   "cell_type": "markdown",
   "metadata": {},
   "source": [
    "### 指针作为返回值(指针函数)\n",
    "\n",
    "如果要一个函数返回指针,那么就像下面这么定义\n",
    "\n",
    "```c\n",
    "int *f(int，int);\n",
    "```\n",
    "指针作为返回值就意味着可以返回复杂的数据结构以及数组了\n",
    "\n",
    "### 函数指针\n",
    "\n",
    "函数指针是指指向函数的指针,事实上函数一样也是一种储存在内存中的数据,如果要做一定的抽象,函数指针是必不可少的.定义一个函数指针如下:\n",
    "\n",
    "```c\n",
    "int (*f)(int,int);\n",
    "```\n",
    "\n",
    "形式上 指针函数和函数指针很像,也就是一对括号的不同而已,但差异非常大,指针函数是定义的函数,而函数指针是定义的指针\n",
    "\n",
    "\n",
    "### 函数常量指针\n",
    "\n",
    "C++中事实上并没有所谓常量函数,但我们确实可以指定指向函数的指针,或者函数的返回值指针,各种各样的指针为常数\n",
    "\n",
    "\n",
    "```c\n",
    "int (*const func)(int) = some_func;//指向函数的常量指针,通常会接一个初始化\n",
    "\n",
    "void const *(*func)(int);//指定返回值为常量指针\n",
    "\n",
    "void const *(*const func)(int) = func;//指向函数的常量指针,并指定返回值为常量指针\n",
    "```"
   ]
  },
  {
   "cell_type": "markdown",
   "metadata": {},
   "source": [
    "## 模拟高阶函数\n",
    "\n",
    "对于函数式编程而言,高阶函数是一切的基础,学过python的一定不会陌生,C++中如何实现高阶函数呢\n",
    "\n",
    "### 函数作为参数\n",
    "\n",
    "求a到b间整数的和\n",
    "\n",
    "```c\n",
    "int sum_int(int a,int b){\n",
    "    return a>b ?0:a + sum_int((a+1),b);\n",
    "}\n",
    "```\n",
    "\n",
    "求a到b间的整数的立方和:\n",
    "\n",
    "```c\n",
    "int cube(int x){\n",
    "    return (int)pow(x,3);\n",
    "}\n",
    "\n",
    "int sum_func(int a,int b,int (*func)(int)){\n",
    "\n",
    "    return a>b ?0:(*func)(a) + sum_func((a+1),b,func);\n",
    "}\n",
    "```\n",
    "求:\n",
    "$$ \\frac {1}{1 \\cdot 3} + \\frac {1}{5 \\cdot 7} + \\frac {1}{9 \\cdot 11} +\\cdots$$\n",
    "\n",
    "它会非常缓慢地收敛到$$\\frac {\\pi}{8}$$\n",
    "\n",
    "```c\n",
    "float sum_func_stp(int a,int b,float (*const func)(int) , int (*const step)(int)){\n",
    "    return a>b ?0:(*func)(a) + sum_func_stp((*step)(a),b,func,step);\n",
    "}\n",
    "float func(int x){\n",
    "    return 1.0/(x*(x+2));\n",
    "}\n",
    "int stp(int x){\n",
    "    return x+4;\n",
    "}\n",
    "float sum_pi(int a,int b){\n",
    "    float (*const ptr_func)(int) = func;\n",
    "    int (*const ptr_stp)(int) = stp;\n",
    "    return sum_func_stp(a,b,ptr_func,ptr_stp);\n",
    "}\n",
    "```\n",
    "\n",
    "完整的高阶函数例子:"
   ]
  },
  {
   "cell_type": "code",
   "execution_count": null,
   "metadata": {
    "collapsed": true
   },
   "outputs": [],
   "source": [
    "%%writefile ../src/C1/section5/high_order_func.cpp\n",
    "\n",
    "#include <stdio.h>\n",
    "#include <math.h>\n",
    "\n",
    "int sum_int(int a,int b){\n",
    "    return a>b ?0:a + sum_int((a+1),b);\n",
    "}\n",
    "\n",
    "int cube(int x){\n",
    "    return (int)pow(x,3);\n",
    "}\n",
    "int sum_func(int a,int b,int (*const func)(int)){\n",
    "    return a>b ?0:(*func)(a) + sum_func((a+1),b,func);\n",
    "}\n",
    "\n",
    "int sum_cube(int a,int b){\n",
    "    int (*const ptr_func)(int) = cube;\n",
    "    return sum_func(a,b,ptr_func);\n",
    "}\n",
    "float sum_func_stp(int a,int b,float (*const func)(int) , int (*const step)(int)){\n",
    "    return a>b ?0:(*func)(a) + sum_func_stp((*step)(a),b,func,step);\n",
    "}\n",
    "float func(int x){\n",
    "    return 1.0/(x*(x+2));\n",
    "}\n",
    "int stp(int x){\n",
    "    return x+4;\n",
    "}\n",
    "float sum_pi(int a,int b){\n",
    "    float (*const ptr_func)(int) = func;\n",
    "    int (*const ptr_stp)(int) = stp;\n",
    "    return sum_func_stp(a,b,ptr_func,ptr_stp);\n",
    "}\n",
    "\n",
    "\n",
    "int main(void) {\n",
    "    int top = 5,bottom = 1;\n",
    "    printf(\"range(%d,%d) = %d\\n\", bottom,top,sum_int(bottom,top));\n",
    "    printf(\"range(%d,%d)的立方和为%d\\n\", bottom,top,sum_cube(bottom,top));\n",
    "    printf(\"sum_pi(%d,%d)为%f\\n\", bottom,top,sum_pi(bottom,top));\n",
    "}"
   ]
  },
  {
   "cell_type": "code",
   "execution_count": null,
   "metadata": {
    "collapsed": true
   },
   "outputs": [],
   "source": [
    "!g++-7 -o ../bin/high_order_func ../src/C1/section5/high_order_func.cpp"
   ]
  },
  {
   "cell_type": "code",
   "execution_count": null,
   "metadata": {
    "collapsed": true
   },
   "outputs": [],
   "source": [
    "!../bin/high_order_func"
   ]
  }
 ],
 "metadata": {
  "kernelspec": {
   "display_name": "Python 3",
   "language": "python",
   "name": "python3"
  },
  "language_info": {
   "codemirror_mode": {
    "name": "ipython",
    "version": 3
   },
   "file_extension": ".py",
   "mimetype": "text/x-python",
   "name": "python",
   "nbconvert_exporter": "python",
   "pygments_lexer": "ipython3",
   "version": "3.6.0"
  }
 },
 "nbformat": 4,
 "nbformat_minor": 1
}
