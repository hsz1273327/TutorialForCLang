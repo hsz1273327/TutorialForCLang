{
 "cells": [
  {
   "cell_type": "markdown",
   "metadata": {
    "collapsed": true
   },
   "source": [
    "# 容器\n",
    "\n",
    "STL中包含许多常用的容器模板,比如array,比如vector等.这些标准库都在stl命名空间下.c++中的容器和我们python中的其实差不太多"
   ]
  },
  {
   "cell_type": "markdown",
   "metadata": {},
   "source": [
    "## 序列式容器（Sequence containers）\n",
    "\n",
    "序列式容器每个元素都有固定位置－－取决于插入时机和地点，和元素值无关,包括:\n",
    "\n",
    "\n",
    "+ array是C++11中新增的容器,目的是为了替代C/C++中的数组.它比自带的数组更加安全方便,不需要考虑太多的额外内容.\n",
    "\n",
    "+ Vectors：将元素置于一个动态数组中加以管理，可以随机存取元素（用索引直接存取），数组尾部添加或移除元素非常快速。但是在中部或头部安插元素比较费时；\n",
    "\n",
    "+ Deques：是“double-ended queue”的缩写，可以随机存取元素（用索引直接存取），数组头部和尾部添加或移除元素都非常快速。但是在中部或头部安插元素比较费时；\n",
    "\n",
    "+ Lists：双向链表，不提供随机存取（按顺序走到需存取的元素，O(n)），在任何位置上执行插入或删除动作都非常迅速，内部只需调整一下指针；"
   ]
  },
  {
   "cell_type": "code",
   "execution_count": 1,
   "metadata": {
    "collapsed": false
   },
   "outputs": [
    {
     "name": "stdout",
     "output_type": "stream",
     "text": [
      "Writing array.cpp\n"
     ]
    }
   ],
   "source": [
    "%%writefile array.cpp\n",
    "#include<iostream>\n",
    "#include<array>\n",
    "using namespace std;\n",
    "int main(){\n",
    "    array<int,5> myarray={1,2,3,4,5};  \n",
    "    cout <<\"myarray=\"<<endl;  \n",
    "    for (int x:myarray){  \n",
    "        cout << x <<'\\t';  \n",
    "    }  \n",
    "    cout << endl;\n",
    "}"
   ]
  },
  {
   "cell_type": "code",
   "execution_count": 2,
   "metadata": {
    "collapsed": false
   },
   "outputs": [
    {
     "name": "stderr",
     "output_type": "stream",
     "text": [
      "'g++' 不是内部或外部命令，也不是可运行的程序\n",
      "或批处理文件。\n"
     ]
    }
   ],
   "source": [
    "!g++ -o arraytest array.cpp "
   ]
  },
  {
   "cell_type": "markdown",
   "metadata": {},
   "source": [
    "## 关联式容器（Associated containers）\n",
    "\n",
    "元素位置取决于特定的排序准则，和插入顺序无关,包括:\n",
    "\n",
    "+ Sets/Multisets：内部的元素依据其值自动排序，Set内的相同数值的元素只能出现一次，Multisets内可包含多个数值相同的元素，内部由二叉树实现（实际上基于红黑树(RB-tree）实现），便于查找；\n",
    "\n",
    "+ Maps/Multimaps：Map的元素是成对的键值/实值，内部的元素依据其值自动排序，Map内的相同数值的元素只能出现一次，Multimaps内可包含多个数值相同的元素，内部由二叉树实现（实际上基于红黑树(RB-tree）实现），便于查找；\n",
    "\n",
    "另外有其他容器hash_map,hash_set,hash_multiset,hash_multimap。\n",
    "\n"
   ]
  },
  {
   "cell_type": "code",
   "execution_count": null,
   "metadata": {
    "collapsed": true
   },
   "outputs": [],
   "source": []
  },
  {
   "cell_type": "markdown",
   "metadata": {},
   "source": [
    "## 容器的比较\n",
    "\n",
    "---|Vector|Deque|List|Set|MultiSet|Map|MultiMap\n",
    "---|---|---|---|---|---|---|---\n",
    "内部结构|\tdynamic array|\tarray of arrays\t|double linked list|\tbinary tree|\tbinary tree|\tbinary tree|\tbinary tree\n",
    "随机存取|\tYes|\tYes\t|No\t|No\t|No|\tYes(key)|\tNo\n",
    "搜索速度|\t慢|\t慢\t|很慢|\t快\t|快|\t快\t|快\n",
    "快速插入移除|\t尾部|\t首尾|\t任何位置|\t--|\t--\t|--|\t--"
   ]
  },
  {
   "cell_type": "markdown",
   "metadata": {},
   "source": [
    "## 适配器型容器\n",
    "\n",
    "\n",
    "STL提供了三个容器适配器：\n",
    "\n",
    "+ queue 队列\n",
    "+ priority_queue 优先级队列\n",
    "+ stack 堆\n",
    "\n",
    "这些适配器都是包装了vector、list、deque中某个顺序容器的包装器.注意：适配器没有提供迭代器,也不能同时插入或删除多个元素.下面对各个适配器进行概括总结."
   ]
  },
  {
   "cell_type": "markdown",
   "metadata": {},
   "source": [
    "### stack用法\n",
    "\n",
    "堆stack可以使用\n",
    "\n",
    "它的签名如下:\n",
    "\n",
    "签名|说明\n",
    "---|---\n",
    "`bool stack<T>::empty()` |判断堆栈是否为空\n",
    "`void stack<T>::pop()` |弹出栈顶数据\n",
    "`stack<T>::push(T x)`  |压入一个数据\n",
    "`stack<T>::size_type stack<T>::size()`|返回堆栈长度\n",
    "`T stack<T>::top()` |得到栈顶数据"
   ]
  },
  {
   "cell_type": "code",
   "execution_count": null,
   "metadata": {
    "collapsed": true
   },
   "outputs": [],
   "source": [
    "#include <stack>\n",
    "#include <vector>\n",
    "using std::stack;\n",
    "using std::vector;     \n",
    "stack<int,vector<int>> intVectorStack;  "
   ]
  },
  {
   "cell_type": "code",
   "execution_count": null,
   "metadata": {
    "collapsed": true
   },
   "outputs": [],
   "source": []
  },
  {
   "cell_type": "code",
   "execution_count": null,
   "metadata": {
    "collapsed": true
   },
   "outputs": [],
   "source": []
  },
  {
   "cell_type": "markdown",
   "metadata": {},
   "source": [
    "# 迭代器\n",
    "\n",
    "就像python中讲容器必然会涉及迭代器一样,C++的stl同样的道理.\n",
    "\n",
    "Iterator(迭代器)模式又称Cursor(游标)模式，用于提供一种方法顺序访问一个聚合对象中各个元素,而又不需暴露该对象的内部表示.或者可以这样说:\n",
    "\n",
    "Iterator模式是运用于聚合对象的一种模式,通过运用该模式,使得我们可以在不知道对象内部表示的情况下,按照一定顺序(由iterator提供的方法)访问聚合对象中的各个元素.\n",
    "\n",
    "迭代器的作用是**能够让迭代器与算法不干扰的相互发展，最后又能无间隙的粘合起来**,它重载了`*`，`＋＋`，`＝＝`，`！＝`，`＝`运算符,用以操作复杂的数据结构.容器提供迭代器,算法使用迭代器.没有迭代器的话容器将非常难以使用\n",
    "\n",
    "常见的一些迭代器类型：`iterator`、`const_iterator`、`reverse_iterator`和`const_reverse_iterator`\n",
    "\n",
    "\n",
    "迭代器一般声明使用示例:\n",
    "\n",
    "```C++\n",
    "vector<T>::iterator it;\n",
    "list<T>::iterator it;\n",
    "deque<T>::iterator it；\n",
    "```"
   ]
  },
  {
   "cell_type": "markdown",
   "metadata": {},
   "source": [
    "## 迭代器类别\n",
    "\n",
    "迭代器的细分类型大致包括如下:\n",
    "\n",
    "![](source/iterator.jpg)\n",
    "\n",
    "越是向下越是简单,越是向上功能越多\n",
    "\n",
    "\n",
    "各个迭代器的功能如下：\n",
    "\n",
    "\n",
    "迭代器类别|说明\n",
    "---|---\n",
    "输入|从容器中读取元素。输入迭代器只能一次读入一个元素向前移动，输入迭代器只支持一遍算法，同一个输入迭代器不能两遍遍历一个序列\n",
    "输出|向容器中写入元素。输出迭代器只能一次一个元素向前移动。输出迭代器只支持一遍算法，统一输出迭代器不能两次遍历一个序列\n",
    "正向|组合输入迭代器和输出迭代器的功能，并保留在容器中的位置\n",
    "双向|组合正向迭代器和逆向迭代器的功能，支持多遍算法\n",
    "随机访问|组合双向迭代器的功能与直接访问容器中任何元素的功能，即可向前向后跳过任意个元素\n",
    "\n",
    "\n",
    "\n",
    "只有顺序容器和关联容器支持迭代器遍历，各容器支持的迭代器的类别如下:\n",
    "\n",
    "容器|支持的迭代器类别|说明\n",
    "---|---|---\n",
    "vector|随机访问|一种随机访问的数组类型，提供了对数组元素进行快速随机访问以及在序列尾部进行快速的插入和删除操作的功能。可以再需要的时候修改其自身的大小\n",
    "deque|随机访问|一种随机访问的数组类型，提供了序列两端快速进行插入和删除操作的功能。可以再需要的时候修改其自身的大小\n",
    "list|双向|一种不支持随机访问的数组类型，插入和删除所花费的时间是固定的，与位置无关。\n",
    "set|双向|一种随机存取的容器，其关键字和数据元素是同一个值。所有元素都必须具有惟一值。\n",
    "multiset|双向|一种随机存取的容器，其关键字和数据元素是同一个值。可以包含重复的元素。\n",
    "map|双向|一种包含成对数值的容器，一个值是实际数据值，另一个是用来寻找数据的关键字。一个特定的关键字只能与一个元素关联。\n",
    "multimap|双向|一种包含成对数值的容器，一个值是实际数据值，另一个是用来寻找数据的关键字。一个关键字可以与多个数据元素关联。"
   ]
  },
  {
   "cell_type": "markdown",
   "metadata": {},
   "source": [
    "## 迭代器的操作\n",
    "\n",
    "每种迭代器均可进行包括表中前一种迭代器可进行的操作.\n",
    "\n",
    "\n",
    "\n",
    "\n",
    "+ 所有迭代器\n",
    "\n",
    "迭代器操作|说明\n",
    "---|---\n",
    "`p++`|后置自增迭代器\n",
    "`++p`|前置自增迭代器\n",
    "\n",
    "+ 输入迭代器\n",
    "\n",
    "迭代器操作|说明\n",
    "---|---\n",
    "`*p`|复引用迭代器，作为右值\n",
    "`p=p1`|将一个迭代器赋给另一个迭代器\n",
    "`p==p1`|比较迭代器的相等性\n",
    "`p!=p1`|比较迭代器的不等性\n",
    "\n",
    "\n",
    "+ 输出迭代器\n",
    "\n",
    "迭代器操作|说明\n",
    "---|---\n",
    "`*p`|复引用迭代器，作为左值\n",
    "`p=p1`|将一个迭代器赋给另一个迭代器\n",
    "\n",
    "+ 正向迭代器\n",
    "\n",
    "提供输入输出迭代器的所有功能\n",
    "\n",
    "+ 双向迭代器\n",
    "\n",
    "迭代器操作|说明\n",
    "---|---\n",
    "`--p`|前置自减迭代器\n",
    "`p--`|后置自减迭代器\n",
    "\n",
    "+ 随机迭代器\n",
    "\n",
    "迭代器操作|说明\n",
    "---|---\n",
    "`p+=i`|将迭代器递增i位\n",
    "`p-=i`|将迭代器递减i位\n",
    "`p+i`|在p位加i位后的迭代器\n",
    "`p-i`|在p位减i位后的迭代器\n",
    "`p[i]`|返回p位元素偏离i位的元素引用\n",
    "`p<p1`|如果迭代器p的位置在p1前，返回true，否则返回false\n",
    "`p<=p1`|p的位置在p1的前面或同一位置时返回true，否则返回false\n",
    "`p>p1`|如果迭代器p的位置在p1后，返回true，否则返回false\n",
    "`p>=p1`|p的位置在p1的后面或同一位置时返回true，否则返回false"
   ]
  },
  {
   "cell_type": "code",
   "execution_count": null,
   "metadata": {
    "collapsed": true
   },
   "outputs": [],
   "source": [
    "|"
   ]
  }
 ],
 "metadata": {
  "anaconda-cloud": {},
  "kernelspec": {
   "display_name": "Python 3",
   "language": "python",
   "name": "python3"
  },
  "language_info": {
   "codemirror_mode": {
    "name": "ipython",
    "version": 3
   },
   "file_extension": ".py",
   "mimetype": "text/x-python",
   "name": "python",
   "nbconvert_exporter": "python",
   "pygments_lexer": "ipython3",
   "version": "3.6.0"
  }
 },
 "nbformat": 4,
 "nbformat_minor": 1
}
