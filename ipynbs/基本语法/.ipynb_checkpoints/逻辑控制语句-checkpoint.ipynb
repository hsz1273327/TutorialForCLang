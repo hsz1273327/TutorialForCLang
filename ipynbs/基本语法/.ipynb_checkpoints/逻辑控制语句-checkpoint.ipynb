{
 "cells": [
  {
   "cell_type": "markdown",
   "metadata": {},
   "source": [
    "# 逻辑控制语句\n",
    "\n",
    "C++中的逻辑控制语句其实还是基本的那么几个,与python相比,多了switch语句和goto语句.作为pythoner这部分其实没啥可讲,这边只列出形式."
   ]
  },
  {
   "cell_type": "markdown",
   "metadata": {},
   "source": [
    "## 循环语句\n",
    "\n",
    "### for循环\n",
    "\n",
    "```c\n",
    "for(exp1;exp2;exp3){\n",
    "    代码块\n",
    "}\n",
    "```\n",
    "\n",
    "+ exp1 一般是变量初始化,注意变量需要先声明,标准c语言不允许在exp1中直接声明变量,但其实很多编译器已经支持这种写法\n",
    "+ exp2 用于判断是否停止循环,如果为为true则执行下面的代码块,否则不执行并且语句结束\n",
    "+ exp3 如果exp2为true,则在执行完代码块后执行exp3,然后进入下一循环\n",
    "\n",
    "\n",
    "### while循环\n",
    "\n",
    "```c\n",
    "while(exp){\n",
    "    代码块\n",
    "}\n",
    "```\n",
    "+ exp 判断其是否为真,如果是则循环结束,否则进入代码块执行,然后进入下一循环\n",
    "\n",
    "### do...while循环\n",
    "\n",
    "```c\n",
    "do{\n",
    "    代码块\n",
    "}while(exp);\n",
    "```\n",
    "\n",
    "+ 先执行do中代码块\n",
    "+ 在判断while中表达式,如果为真则循环结束,否则继续循环执行do中代码\n",
    "\n",
    "### break和continue\n",
    "\n",
    "和python中一样,我们也可以用break和contiue来中断循环.规则也相同"
   ]
  },
  {
   "cell_type": "markdown",
   "metadata": {},
   "source": [
    "> 例:\n",
    "牛顿法求2开根"
   ]
  },
  {
   "cell_type": "markdown",
   "metadata": {},
   "source": [
    "python版本"
   ]
  },
  {
   "cell_type": "code",
   "execution_count": 1,
   "metadata": {},
   "outputs": [
    {
     "name": "stdout",
     "output_type": "stream",
     "text": [
      "1.4142135623746899\n"
     ]
    }
   ],
   "source": [
    "EPS = 0.00001\n",
    "a = 2\n",
    "X = a/2.0\n",
    "lastX = 0\n",
    "while(abs(X - lastX) > EPS ):\n",
    "    lastX = X\n",
    "    X = (lastX+float(a/lastX))/2\n",
    "print(X)"
   ]
  },
  {
   "cell_type": "markdown",
   "metadata": {},
   "source": [
    "C版本:"
   ]
  },
  {
   "cell_type": "code",
   "execution_count": 2,
   "metadata": {},
   "outputs": [
    {
     "name": "stdout",
     "output_type": "stream",
     "text": [
      "Writing ../src/C1/section4/sqrt2.cpp\n"
     ]
    }
   ],
   "source": [
    "%%writefile ../src/C1/section4/sqrt2.cpp\n",
    "\n",
    "#include <stdio.h>\n",
    "#include <math.h>\n",
    "const double N  = 2.0;\n",
    "\n",
    "double sqrt_my(double a,double EPS){\n",
    "    double x,last_x;\n",
    "    x = a/2;\n",
    "    do{\n",
    "        last_x = x;\n",
    "        x = (last_x + a/last_x)/2;\n",
    "    }while(fabs(last_x - x) > EPS);\n",
    "    return x;\n",
    "}\n",
    "\n",
    "int main(void){\n",
    "    printf(\"根号2是%lf\\n\",sqrt_my(N,0.0001));\n",
    "    return 0;\n",
    "}"
   ]
  },
  {
   "cell_type": "code",
   "execution_count": 3,
   "metadata": {
    "collapsed": true
   },
   "outputs": [],
   "source": [
    "!g++-7 -o ../bin/sqrt2 ../src/C1/section4/sqrt2.cpp"
   ]
  },
  {
   "cell_type": "code",
   "execution_count": 4,
   "metadata": {},
   "outputs": [
    {
     "name": "stdout",
     "output_type": "stream",
     "text": [
      "根号2是1.414214\r\n"
     ]
    }
   ],
   "source": [
    "!../bin/sqrt2"
   ]
  },
  {
   "cell_type": "markdown",
   "metadata": {},
   "source": [
    "## 条件语句\n",
    "\n",
    "```c\n",
    "if(exp1){\n",
    "    代码块\n",
    "}else if(exp2){\n",
    "    代码块\n",
    "}else{\n",
    "    代码块\n",
    "}\n",
    "```\n",
    "这个和python的差不多"
   ]
  },
  {
   "cell_type": "markdown",
   "metadata": {},
   "source": [
    "## 分支语句\n",
    "\n",
    "switch在python中被去掉了,主要也是因为它与if语句功能重复,不过swtich还是有用的,可以让代码看起来干净不少\n",
    "\n",
    "```c\n",
    "switch(exp){\n",
    "    case 常量表达式1:\n",
    "        语句组1\n",
    "        break;\n",
    "    case 常量表达式2:\n",
    "        语句组2\n",
    "        break;\n",
    "    case 常量表达式3:\n",
    "        语句组3\n",
    "        break;\n",
    "    default:\n",
    "        语句组4\n",
    "}\n",
    "\n",
    "```\n",
    "\n",
    "case是可以贯通的,如果case下面没有break,则它会穿到下一个break之上的位置才执行结束."
   ]
  },
  {
   "cell_type": "markdown",
   "metadata": {},
   "source": [
    "## goto\n",
    "\n",
    "goto就厉害了,这个体现了c++对底层的支持,它表示无条件跳转,用法是用`label:`标记要跳转的位置,然后`goto label`就可以了\n",
    "\n",
    "这个语句是汇编语言的常用语句,用好了很牛,用烂很烂,建议不要用"
   ]
  },
  {
   "cell_type": "markdown",
   "metadata": {},
   "source": [
    "## 基于Range的for循环[C++11]\n",
    "\n",
    "基于Range的for循环一般配合可迭代对象使用,最常见的就是vector.\n",
    "\n",
    "基本语法:\n",
    "\n",
    "`attr(optional) for ( range_declaration : range_expression ) loop_statement`\t\t\n",
    "\n"
   ]
  },
  {
   "cell_type": "code",
   "execution_count": 5,
   "metadata": {},
   "outputs": [
    {
     "name": "stdout",
     "output_type": "stream",
     "text": [
      "Writing ../src/C1/section4/forrange_test.cpp\n"
     ]
    }
   ],
   "source": [
    "%%writefile ../src/C1/section4/forrange_test.cpp\n",
    "#include <vector>\n",
    "#include <iostream>\n",
    " \n",
    "int main()\n",
    "{\n",
    "    std::vector<int> c { 1,2,3,4,5,6,7 };\n",
    "    int x = 5;\n",
    " \n",
    "    std::cout << \"c: \";\n",
    "    for (auto i: c) {\n",
    "        if (i%2 == 0){\n",
    "            std::cout << i << ' ';\n",
    "        }    \n",
    "    }\n",
    "    std::cout << '\\n';\n",
    "}"
   ]
  },
  {
   "cell_type": "code",
   "execution_count": 6,
   "metadata": {
    "collapsed": true
   },
   "outputs": [],
   "source": [
    "!g++-7 -o ../bin/forrange_test ../src/C1/section4/forrange_test.cpp"
   ]
  },
  {
   "cell_type": "code",
   "execution_count": 7,
   "metadata": {},
   "outputs": [
    {
     "name": "stdout",
     "output_type": "stream",
     "text": [
      "c: 2 4 6 \r\n"
     ]
    }
   ],
   "source": [
    "!../bin/forrange_test"
   ]
  },
  {
   "cell_type": "markdown",
   "metadata": {},
   "source": [
    "pythoner一定会怀念方便好用的`range`函数,有一个项目为C++提供了类似range的功能<https://github.com/klmr/cpp11-range>.使用它只要将头文件引入即可"
   ]
  },
  {
   "cell_type": "code",
   "execution_count": 8,
   "metadata": {},
   "outputs": [
    {
     "name": "stdout",
     "output_type": "stream",
     "text": [
      "Writing ../src/C1/section4/forrange_test_range.cpp\n"
     ]
    }
   ],
   "source": [
    "%%writefile ../src/C1/section4/forrange_test_range.cpp\n",
    "#include <vector>\n",
    "#include <iostream>\n",
    "#include \"range.hpp\"\n",
    " \n",
    "    \n",
    "using util::lang::range;\n",
    "                \n",
    "int main()\n",
    "{\n",
    " \n",
    "    std::cout << \"step1: \";\n",
    "    for (auto i: range(1,10)) {\n",
    "        std::cout << i << ' ';\n",
    "    }\n",
    "    std::cout << '\\n';\n",
    "    \n",
    "    std::cout << \"step3: \";\n",
    "    for (auto i: range(1,10).step(3)) {\n",
    "        std::cout << i << ' ';\n",
    "    }\n",
    "    std::cout << '\\n';\n",
    "}"
   ]
  },
  {
   "cell_type": "code",
   "execution_count": 9,
   "metadata": {
    "collapsed": true
   },
   "outputs": [],
   "source": [
    "!g++-7 -I ../include -o ../bin/forrange_test_range ../src/C1/section4/forrange_test_range.cpp"
   ]
  },
  {
   "cell_type": "code",
   "execution_count": 10,
   "metadata": {},
   "outputs": [
    {
     "name": "stdout",
     "output_type": "stream",
     "text": [
      "step1: 1 2 3 4 5 6 7 8 9 \r\n",
      "step3: 1 4 7 \r\n"
     ]
    }
   ],
   "source": [
    "!../bin/forrange_test_range"
   ]
  },
  {
   "cell_type": "markdown",
   "metadata": {},
   "source": [
    "# 异常处理语句\n",
    "\n",
    "C语言本身不支持异常处理语句,而C++则原生的支持异常处理,其语法类似javascript的异常处理.相关的关键字有:\n",
    "\n",
    "+ `throw`抛出异常\n",
    "\n",
    "+ `try/catch`异常捕获\n",
    "\n",
    "我们可以将`catch`看做一个没有返回值的函数,当异常发生后`catch`会被调用,并且会接收实参(异常数据)\n",
    "\n",
    "但是`catch`和真正的函数调用又有区别:\n",
    "\n",
    "真正的函数调用,形参和实参的类型必须要匹配,或者可以自动转换,否则在编译阶段就报错了.\n",
    "而对于`catch`,异常是在运行阶段产生的,它可以是任何类型,没法提前预测,所以不能在编译阶段判断类型是否正确,只能等到程序运行后,真的抛出异常了,再将异常类型和`catch`能处理的类型进行匹配,匹配成功的话就\"调用\"当前的`catch`,否则就忽略当前的`catch`.\n",
    "\n",
    "总起来说`catch`和真正的函数调用相比多了一个「在运行阶段将实参和形参匹配」的过程.\n",
    "\n",
    "另外需要注意的是，如果不希望`catch`处理异常数据，也可以将`variable`省略掉.\n",
    "\n",
    "\n",
    "\n",
    "\n",
    "## 默认异常\n",
    "\n",
    "C++语言本身或者标准库抛出的异常都是`exception`的子类,称为标准异常.你可以通过下面的语句来捕获所有的标准异常:\n",
    "```python\n",
    "try{\n",
    "    //可能抛出异常的语句\n",
    "}catch(exception &e){\n",
    "    //处理异常的语句\n",
    "}\n",
    "```\n",
    "\n",
    "之所以使用引用,是为了提高效率.如果不使用引用,就要经历一次对象拷贝(要调用拷贝构造函数)的过程.\n",
    "\n",
    "`exception`类位于`<exception>`头文件中,它被声明为:\n",
    "```C++\n",
    "class exception{\n",
    "public:\n",
    "    exception () throw();  //构造函数\n",
    "    exception (const exception&) throw();  //拷贝构造函数\n",
    "    exception& operator= (const exception&) throw();  //运算符重载\n",
    "    virtual ~exception() throw();  //虚析构函数\n",
    "    virtual const char* what() const throw();  //虚函数\n",
    "}\n",
    "```\n",
    "这里需要说明的是`what()`函数.`what()`函数返回一个能识别异常的字符串,正如它的名字'what'一样,可以粗略地告诉你这是什么异常.不过`C++`标准并没有规定这个字符串的格式,各个编译器的实现也不同,所以`what()`的返回值仅供参考.\n",
    "\n",
    "![](img/exception.jpg)\n",
    "\n",
    "\n",
    "exception类的直接派生类:\n",
    "\n",
    "异常名称|说明\n",
    "---|---\n",
    "logic_error\t|逻辑错误。\n",
    "runtime_error|运行时错误。\n",
    "bad_alloc|使用 new 或 new[ ] 分配内存失败时抛出的异常。\n",
    "bad_typeid|使用 typeid 操作一个 NULL 指针，而且该指针是带有虚函数的类，这时抛出 bad_typeid 异常。\n",
    "bad_cast|使用 dynamic_cast 转换失败时抛出的异常。\n",
    "ios_base::failure|io 过程中出现的异常。\n",
    "bad_exception|这是个特殊的异常,如果函数的异常列表里声明了`bad_exception`异常,当函数内部抛出了异常列表中没有的异常时,如果调用的`unexpected()`函数中抛出了异常,不论什么类型,都会被替换为`bad_exception`类型.\n",
    " \n",
    "logic_error的派生类:\n",
    "\n",
    "异常名称|说明\n",
    "---|---\n",
    "length_error|试图生成一个超出该类型最大长度的对象时抛出该异常，例如 vector 的 resize 操作。\n",
    "domain_error|参数的值域错误，主要用在数学函数中，例如使用一个负值调用只能操作非负数的函数。\n",
    "out_of_range|超出有效范围。\n",
    "invalid_argument|参数不合适。在标准库中，当利用string对象构造 bitset 时，而 string 中的字符不是 0 或1 的时候，抛出该异常。\n",
    "\n",
    "\n",
    "runtime_error的派生类:\n",
    "\n",
    "异常名称|说明\n",
    "---|---\n",
    "range_error\t|计算结果超出了有意义的值域范围。\n",
    "overflow_error\t|算术计算上溢。\n",
    "underflow_error\t|算术计算下溢。"
   ]
  },
  {
   "cell_type": "code",
   "execution_count": 11,
   "metadata": {},
   "outputs": [
    {
     "name": "stdout",
     "output_type": "stream",
     "text": [
      "Writing ../src/C1/section4/exception_test.cpp\n"
     ]
    }
   ],
   "source": [
    "%%writefile ../src/C1/section4/exception_test.cpp\n",
    "#include <iostream>\n",
    "#include <string>\n",
    "#include <exception>\n",
    "\n",
    "using std::string;\n",
    "using std::cout;\n",
    "using std::cerr; \n",
    "using std::endl;\n",
    "using std::exception;\n",
    "        \n",
    "int main(){\n",
    "    string str = \"http://c.biancheng.net\";\n",
    "  \n",
    "    try{\n",
    "        char ch1 = str[100];\n",
    "        cout<<ch1<<endl;\n",
    "    }catch(exception e){\n",
    "        cout<<\"[1]out of bound!\"<<endl;\n",
    "    }\n",
    "    try{\n",
    "        char ch2 = str.at(100);\n",
    "        cout<<ch2<<endl;\n",
    "    }catch(exception &e){  //exception类位于<exception>头文件中\n",
    "        cerr<<\"[2]out of bound!\"<<endl;\n",
    "    }\n",
    "    return 0;\n",
    "}"
   ]
  },
  {
   "cell_type": "code",
   "execution_count": 12,
   "metadata": {
    "collapsed": true
   },
   "outputs": [],
   "source": [
    "!g++-7 -o ../bin/exception_test ../src/C1/section4/exception_test.cpp"
   ]
  },
  {
   "cell_type": "code",
   "execution_count": 13,
   "metadata": {},
   "outputs": [
    {
     "name": "stdout",
     "output_type": "stream",
     "text": [
      "\u0000\r\n",
      "[2]out of bound!\r\n"
     ]
    }
   ],
   "source": [
    "!../bin/exception_test"
   ]
  },
  {
   "cell_type": "code",
   "execution_count": null,
   "metadata": {
    "collapsed": true
   },
   "outputs": [],
   "source": []
  }
 ],
 "metadata": {
  "kernelspec": {
   "display_name": "Python 3",
   "language": "python",
   "name": "python3"
  },
  "language_info": {
   "codemirror_mode": {
    "name": "ipython",
    "version": 3
   },
   "file_extension": ".py",
   "mimetype": "text/x-python",
   "name": "python",
   "nbconvert_exporter": "python",
   "pygments_lexer": "ipython3",
   "version": "3.6.0"
  }
 },
 "nbformat": 4,
 "nbformat_minor": 1
}
