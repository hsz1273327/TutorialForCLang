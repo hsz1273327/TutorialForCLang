{
 "cells": [
  {
   "cell_type": "markdown",
   "metadata": {
    "collapsed": true
   },
   "source": [
    "# 字符串\n",
    "\n",
    "字符串是特殊的数组,可以理解为他是由字符为元素组成的数组,处理方式和数组其实一样.定义字符串一般有这样几种方式:\n",
    "\n",
    "```c\n",
    "char str1[] = \"asdfg\";\n",
    "\n",
    "char str2[10] = \"asdfg\";\n",
    "\n",
    "char str3[10];\n",
    "strcpy(str3,\"abcd\");\n",
    "```"
   ]
  }
 ],
 "metadata": {
  "kernelspec": {
   "display_name": "Python 3",
   "language": "python",
   "name": "python3"
  },
  "language_info": {
   "codemirror_mode": {
    "name": "ipython",
    "version": 3
   },
   "file_extension": ".py",
   "mimetype": "text/x-python",
   "name": "python",
   "nbconvert_exporter": "python",
   "pygments_lexer": "ipython3",
   "version": "3.6.0"
  }
 },
 "nbformat": 4,
 "nbformat_minor": 2
}
