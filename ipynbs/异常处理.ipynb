{
 "cells": [
  {
   "cell_type": "markdown",
   "metadata": {},
   "source": [
    "# 异常处理\n",
    "\n",
    "C语言没有正紧的异常,一般来说是通过自己规定的返回码来标识异常的.\n",
    "\n",
    "一般来说,程序中的错误可以分为3种:\n",
    "\n",
    "+ 用户错误\n",
    "    \n",
    "    预期会发生的错误,用户的特定操作就会导致特定的错误,比如注册邮箱时填入的内容没有\"@\"这种.这种错误通常应该是程序主体就要处理的.通过返回特定的错误码进行提示.\n",
    "    \n",
    "    \n",
    "+ 运行时错误\n",
    "\n",
    "    运行时错误从来都是非预期的,表明程序出了bug,程序必须要结束.通常需要使用断言来捕获这种错误\n",
    "    \n",
    "    \n",
    "+ 异常\n",
    "\n",
    "    介于洪湖错误和程序bug之间,异常可能是比较罕见的错误,比如算数运算时候的溢出情况.通常异常不返回错误码,而是由恢复代码处理,类似于非局部的goto.\n",
    "    \n",
    "\n",
    "C语言中标准库提供了`setjmp`和`longjmp`是建立结构化异常处理的基础,具体来说,`setjmp`实例化一个处理程序,`longjmp`引发一个异常\n",
    "\n",
    "## try-except代码块\n",
    "\n",
    "try-except代码块在现代编程语言中几乎是标配,在实践中也被证明非常有用.然而C中没有.\"C语言接口与实现\"一书中有一个使用宏的实现,接下来会写一个库专门用于实现try-except代码块.不过有几个受限的使用形式:\n",
    "\n",
    "+ `TRY-END_TRY`  \n",
    "\n",
    "    相当于`{xxx}`语句不变只是引入一个新的作用域\n",
    "    \n",
    "+ `TRY-ELSE-END_TRY`  \n",
    "\n",
    "    相当于python中的`try-except Exception`,只要有异常就处理,不管是啥异常\n",
    "    \n",
    "+ `TRY-EXCEPT-...-END_TRY` \n",
    "    \n",
    "    相当于python中的`try-except E_1-except E_2-...`\n",
    "    \n",
    "    \n",
    "+ `TRY-EXCEPT-...-ELSE-END_TRY` \n",
    "    \n",
    "    注意这与python中不同,相当于python中的`try-except E_1-...- except Exception`\n",
    "    \n",
    "    \n",
    "+ `TRY-FINALLY-END_TRY`\n",
    "\n",
    "    相当于python中的`try-except E_1-finally`无论是否有异常都会执行FINALLY,这个用法可以像python中的with语句一样提供一个上下文.\n",
    "    \n",
    "\n",
    "+ 如果`TRY`语句中需要执行返回,那么必须使用宏`RETURN`返回.\n",
    "\n",
    "\n",
    "\"C语言接口与实现\"一书中提供的这组宏显然还是比较粗糙而且脆弱的,宏毕竟不会检查运行时错误,但一般用用足够.C语言中并不提倡大量使用异常,设计算法的时候这组宏也应当被谨慎的使用.\n",
    "\n",
    "这个模块在代码中有收录,它与下面的断言收录在一起."
   ]
  },
  {
   "cell_type": "markdown",
   "metadata": {},
   "source": [
    "## 断言\n",
    "\n",
    "C语言标准库有头文件`assert.h`将`assert(e)`定义为宏,`assert(e)`会计算表达式e的值,如果e为0则向标准错误`stderr`写出诊断信息,并调用标准库函数abort退出程序执行.诊断信息包含失败的断言文本和断言出现的坐标,该信息的格式是具体实现定义的.`assert(0)`可以用户指明\"不可能发生\"的情况,当然如下也对:\n",
    "\n",
    "```C\n",
    "assert(!\"ptr==NULL -- can't happen\")\n",
    "```\n",
    "\n",
    "\"C语言接口与实现\"一书中提供了一个标准库\"assert.h\"的替代,用它的好处是如果断言失败不会向stderr打印消息,也不会跳出程序,也不会提供表达式e的文本,而是抛出上文中定义的`Assert_Failed`异常."
   ]
  }
 ],
 "metadata": {
  "kernelspec": {
   "display_name": "Python 3",
   "language": "python",
   "name": "python3"
  },
  "language_info": {
   "codemirror_mode": {
    "name": "ipython",
    "version": 3
   },
   "file_extension": ".py",
   "mimetype": "text/x-python",
   "name": "python",
   "nbconvert_exporter": "python",
   "pygments_lexer": "ipython3",
   "version": "3.6.0"
  }
 },
 "nbformat": 4,
 "nbformat_minor": 2
}
