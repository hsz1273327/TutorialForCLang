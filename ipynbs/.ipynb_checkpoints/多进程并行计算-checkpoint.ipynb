{
 "cells": [
  {
   "cell_type": "markdown",
   "metadata": {},
   "source": [
    "# Python的并行模块ipyparallel\n",
    "\n",
    "ipyparallel是ipython项目下的一个子模块,主要是解决并行计算和分布式计算的问题\n",
    "\n",
    "https://github.com/ipython/ipyparallel\n",
    "\n",
    "这个模块是独立于ipython的独立子项目,需要额外安装\n",
    "\n",
    "    $ pip install ipyparallel\n",
    "\n",
    "\n",
    "## 单机并行计算\n",
    "\n",
    "\n",
    "最简单的并行计算方法就是打开一个terminal,输入\n",
    "\n",
    "    $ ipcluster start\n",
    "\n",
    "然后在python,ipython中就都可使用并行计算了\n"
   ]
  },
  {
   "cell_type": "markdown",
   "metadata": {},
   "source": [
    "## 为并行环境制作一个专用profile\n",
    "\n",
    "    ipython profile create --parallel --profile=myprofile\n",
    "\n",
    "命令可以简单的创建一个通用的并行环境profile,之后我们就可以通过编辑`~/.ipython/`这个文件夹下的配置文件来配置这个profile了"
   ]
  },
  {
   "cell_type": "markdown",
   "metadata": {},
   "source": [
    "### 一个例子:做一次wordcount\n",
    "\n",
    "数据来源是\n",
    "\n",
    "    $wget http://www.gutenberg.org/files/27287/27287-0.txt\n",
    "+ 不并行的版本"
   ]
  },
  {
   "cell_type": "code",
   "execution_count": 1,
   "metadata": {
    "collapsed": true
   },
   "outputs": [],
   "source": [
    "import re\n",
    "import io\n",
    "non_word = re.compile(r'[\\W\\d]+', re.UNICODE)\n",
    "common_words = {\n",
    "    'the','of','and','in','to','a','is','it','that','which','as','on','by',\n",
    "    'be','this','with','are','from','will','at','you','not','for','no','have',\n",
    "    'i','or','if','his','its','they','but','their','one','all','he','when',\n",
    "    'than','so','these','them','may','see','other','was','has','an','there',\n",
    "    'more','we','footnote', 'who', 'had', 'been',  'she', 'do', 'what',\n",
    "    'her', 'him', 'my', 'me', 'would', 'could', 'said', 'am', 'were', 'very',\n",
    "    'your', 'did', 'not',\n",
    "}"
   ]
  },
  {
   "cell_type": "code",
   "execution_count": 2,
   "metadata": {
    "collapsed": true
   },
   "outputs": [],
   "source": [
    "filename = 'source/README.md'"
   ]
  },
  {
   "cell_type": "code",
   "execution_count": 3,
   "metadata": {
    "collapsed": true
   },
   "outputs": [],
   "source": [
    "def yield_words(filename):\n",
    "    import io\n",
    "    with io.open(filename, encoding='utf-8') as f:\n",
    "        for line in f:\n",
    "            for word in line.split():\n",
    "                word = non_word.sub('', word.lower())\n",
    "                if word and word not in common_words:\n",
    "                    yield word"
   ]
  },
  {
   "cell_type": "code",
   "execution_count": 4,
   "metadata": {
    "collapsed": true
   },
   "outputs": [],
   "source": [
    "def word_count(filename):\n",
    "    word_iterator = yield_words(filename)\n",
    "    counts = {}\n",
    "    counts = defaultdict(int)\n",
    "    while True:\n",
    "        try:\n",
    "            word = next(word_iterator)\n",
    "        except StopIteration:\n",
    "            break\n",
    "        else:\n",
    "            counts[word] += 1\n",
    "    return counts"
   ]
  },
  {
   "cell_type": "code",
   "execution_count": 5,
   "metadata": {
    "collapsed": true
   },
   "outputs": [],
   "source": [
    "from collections import defaultdict"
   ]
  },
  {
   "cell_type": "code",
   "execution_count": 6,
   "metadata": {},
   "outputs": [
    {
     "name": "stdout",
     "output_type": "stream",
     "text": [
      "CPU times: user 3.32 ms, sys: 1.4 ms, total: 4.72 ms\n",
      "Wall time: 10.9 ms\n"
     ]
    }
   ],
   "source": [
    "%time counts = word_count(filename)"
   ]
  },
  {
   "cell_type": "markdown",
   "metadata": {},
   "source": [
    "+ 并行版本"
   ]
  },
  {
   "cell_type": "code",
   "execution_count": 7,
   "metadata": {
    "collapsed": true
   },
   "outputs": [],
   "source": [
    "def split_text(filename):\n",
    "    text = open(filename).read()\n",
    "    lines = text.splitlines()\n",
    "    nlines = len(lines)\n",
    "    n = 10\n",
    "    block = nlines//n\n",
    "    for i in range(n):\n",
    "        chunk = lines[i*block:(i+1)*(block)]\n",
    "        with open('count_file%i.txt' % i, 'w') as f:\n",
    "            f.write('\\n'.join(chunk))\n",
    "    cwd = os.path.abspath(os.getcwd())\n",
    "    fnames = [ os.path.join(cwd, 'count_file%i.txt' % i) for i in range(n)] # 不用glob是为了精准\n",
    "    return fnames"
   ]
  },
  {
   "cell_type": "code",
   "execution_count": 8,
   "metadata": {},
   "outputs": [],
   "source": [
    "from ipyparallel import Client "
   ]
  },
  {
   "cell_type": "code",
   "execution_count": 9,
   "metadata": {},
   "outputs": [
    {
     "data": {
      "text/plain": [
       "<AsyncResult: _push>"
      ]
     },
     "execution_count": 9,
     "metadata": {},
     "output_type": "execute_result"
    }
   ],
   "source": [
    "rc = Client()\n",
    "view = rc.load_balanced_view()\n",
    "v = rc[:]\n",
    "v.push(dict(\n",
    "     non_word=non_word,\n",
    "     yield_words=yield_words,\n",
    "     common_words=common_words\n",
    " ))"
   ]
  },
  {
   "cell_type": "code",
   "execution_count": 10,
   "metadata": {},
   "outputs": [
    {
     "name": "stdout",
     "output_type": "stream",
     "text": [
      "importing os on engine(s)\n",
      "importing defaultdict from collections on engine(s)\n"
     ]
    }
   ],
   "source": [
    "with rc[:].sync_imports():\n",
    "    import  os\n",
    "    from collections import defaultdict"
   ]
  },
  {
   "cell_type": "code",
   "execution_count": 11,
   "metadata": {},
   "outputs": [],
   "source": [
    "fnames = split_text(filename)"
   ]
  },
  {
   "cell_type": "code",
   "execution_count": 12,
   "metadata": {
    "collapsed": true
   },
   "outputs": [],
   "source": [
    "def count_parallel():\n",
    "    from collections import defaultdict\n",
    "    pcounts = view.map(word_count, fnames)\n",
    "    counts = defaultdict(int)\n",
    "    for pcount in pcounts.get():\n",
    "        for k, v in pcount.iteritems():\n",
    "            counts[k] += v\n",
    "    return counts, pcounts"
   ]
  },
  {
   "cell_type": "code",
   "execution_count": 13,
   "metadata": {},
   "outputs": [
    {
     "name": "stdout",
     "output_type": "stream",
     "text": [
      "CPU times: user 50.6 ms, sys: 8.82 ms, total: 59.4 ms\n",
      "Wall time: 99.6 ms\n"
     ]
    }
   ],
   "source": [
    "%time counts, pcounts = count_parallel()"
   ]
  },
  {
   "cell_type": "markdown",
   "metadata": {},
   "source": [
    "可以看出cpu时间上确实减少了,几乎一半,但真实时间上却反而增加到了164ms,用`%timeit`查看,发现实际使用时间反而多出了20ms\n",
    "这是因为cpu计算完后还要聚合结果,这个过程也得耗时,也就是说,并行是有额外开销的"
   ]
  },
  {
   "cell_type": "markdown",
   "metadata": {},
   "source": [
    "## 最简单的应用--将函数提交到引擎中\n",
    "\n",
    "并行就是多个核心同时执行任务了,最简单的就是执行重复任务了"
   ]
  },
  {
   "cell_type": "code",
   "execution_count": 14,
   "metadata": {
    "collapsed": true
   },
   "outputs": [],
   "source": [
    "c = Client()\n",
    "a = lambda :\"hi~\""
   ]
  },
  {
   "cell_type": "code",
   "execution_count": 15,
   "metadata": {},
   "outputs": [
    {
     "name": "stdout",
     "output_type": "stream",
     "text": [
      "CPU times: user 22.6 ms, sys: 5.05 ms, total: 27.7 ms\n",
      "Wall time: 35.4 ms\n"
     ]
    },
    {
     "data": {
      "text/plain": [
       "['hi~', 'hi~', 'hi~', 'hi~']"
      ]
     },
     "execution_count": 15,
     "metadata": {},
     "output_type": "execute_result"
    }
   ],
   "source": [
    "%time c[:].apply_sync(a)"
   ]
  },
  {
   "cell_type": "code",
   "execution_count": 16,
   "metadata": {},
   "outputs": [
    {
     "name": "stdout",
     "output_type": "stream",
     "text": [
      "CPU times: user 10 µs, sys: 6 µs, total: 16 µs\n",
      "Wall time: 17.9 µs\n"
     ]
    },
    {
     "data": {
      "text/plain": [
       "['hi~', 'hi~']"
      ]
     },
     "execution_count": 16,
     "metadata": {},
     "output_type": "execute_result"
    }
   ],
   "source": [
    "%time [a() for i in range(2)]"
   ]
  },
  {
   "cell_type": "markdown",
   "metadata": {},
   "source": [
    "看得出,cpython还是相当给力的,在这种小规模计算上并行反而比用列表生成器慢很多"
   ]
  },
  {
   "cell_type": "markdown",
   "metadata": {},
   "source": [
    "## 直接调用ipyparallel\n",
    "\n",
    "我们可以通过`DirectView`直接在ipython中通过Client对象直接的操作多个engine"
   ]
  },
  {
   "cell_type": "code",
   "execution_count": 17,
   "metadata": {
    "collapsed": true
   },
   "outputs": [],
   "source": [
    "from ipyparallel import Client\n",
    "rc = Client()"
   ]
  },
  {
   "cell_type": "code",
   "execution_count": 18,
   "metadata": {},
   "outputs": [
    {
     "data": {
      "text/plain": [
       "[0, 1, 2, 3]"
      ]
     },
     "execution_count": 18,
     "metadata": {},
     "output_type": "execute_result"
    }
   ],
   "source": [
    "rc.ids#查看有多少个engine"
   ]
  },
  {
   "cell_type": "code",
   "execution_count": 19,
   "metadata": {
    "collapsed": true
   },
   "outputs": [],
   "source": [
    "dview = rc[:]#使用全部engine"
   ]
  },
  {
   "cell_type": "code",
   "execution_count": 20,
   "metadata": {},
   "outputs": [
    {
     "name": "stdout",
     "output_type": "stream",
     "text": [
      "CPU times: user 21 µs, sys: 5 µs, total: 26 µs\n",
      "Wall time: 26.9 µs\n"
     ]
    },
    {
     "data": {
      "text/plain": [
       "[0,\n",
       " 1,\n",
       " 4,\n",
       " 9,\n",
       " 16,\n",
       " 25,\n",
       " 36,\n",
       " 49,\n",
       " 64,\n",
       " 81,\n",
       " 100,\n",
       " 121,\n",
       " 144,\n",
       " 169,\n",
       " 196,\n",
       " 225,\n",
       " 256,\n",
       " 289,\n",
       " 324,\n",
       " 361,\n",
       " 400,\n",
       " 441,\n",
       " 484,\n",
       " 529,\n",
       " 576,\n",
       " 625,\n",
       " 676,\n",
       " 729,\n",
       " 784,\n",
       " 841,\n",
       " 900,\n",
       " 961]"
      ]
     },
     "execution_count": 20,
     "metadata": {},
     "output_type": "execute_result"
    }
   ],
   "source": [
    "%time map(lambda x:x**2,range(32))"
   ]
  },
  {
   "cell_type": "code",
   "execution_count": 21,
   "metadata": {},
   "outputs": [
    {
     "name": "stdout",
     "output_type": "stream",
     "text": [
      "CPU times: user 31.3 ms, sys: 5.12 ms, total: 36.4 ms\n",
      "Wall time: 41.4 ms\n"
     ]
    },
    {
     "data": {
      "text/plain": [
       "[0,\n",
       " 1,\n",
       " 4,\n",
       " 9,\n",
       " 16,\n",
       " 25,\n",
       " 36,\n",
       " 49,\n",
       " 64,\n",
       " 81,\n",
       " 100,\n",
       " 121,\n",
       " 144,\n",
       " 169,\n",
       " 196,\n",
       " 225,\n",
       " 256,\n",
       " 289,\n",
       " 324,\n",
       " 361,\n",
       " 400,\n",
       " 441,\n",
       " 484,\n",
       " 529,\n",
       " 576,\n",
       " 625,\n",
       " 676,\n",
       " 729,\n",
       " 784,\n",
       " 841,\n",
       " 900,\n",
       " 961]"
      ]
     },
     "execution_count": 21,
     "metadata": {},
     "output_type": "execute_result"
    }
   ],
   "source": [
    "%time dview.map_sync(lambda x:x**2,range(32))# 并行的map工具"
   ]
  },
  {
   "cell_type": "markdown",
   "metadata": {},
   "source": [
    "看来还是单进程给力哇"
   ]
  },
  {
   "cell_type": "markdown",
   "metadata": {},
   "source": [
    "### 负载均衡view\n",
    "\n",
    "并行的一大难题便是负载均衡,直接使用`DirectView`并没有这方面优化,可以使用`LoadBalancedView`来使用负载均衡的view"
   ]
  },
  {
   "cell_type": "code",
   "execution_count": 22,
   "metadata": {
    "collapsed": true
   },
   "outputs": [],
   "source": [
    "lview = rc.load_balanced_view()"
   ]
  },
  {
   "cell_type": "code",
   "execution_count": 23,
   "metadata": {},
   "outputs": [
    {
     "name": "stdout",
     "output_type": "stream",
     "text": [
      "CPU times: user 230 ms, sys: 47.3 ms, total: 277 ms\n",
      "Wall time: 305 ms\n"
     ]
    },
    {
     "data": {
      "text/plain": [
       "[0,\n",
       " 1,\n",
       " 4,\n",
       " 9,\n",
       " 16,\n",
       " 25,\n",
       " 36,\n",
       " 49,\n",
       " 64,\n",
       " 81,\n",
       " 100,\n",
       " 121,\n",
       " 144,\n",
       " 169,\n",
       " 196,\n",
       " 225,\n",
       " 256,\n",
       " 289,\n",
       " 324,\n",
       " 361,\n",
       " 400,\n",
       " 441,\n",
       " 484,\n",
       " 529,\n",
       " 576,\n",
       " 625,\n",
       " 676,\n",
       " 729,\n",
       " 784,\n",
       " 841,\n",
       " 900,\n",
       " 961]"
      ]
     },
     "execution_count": 23,
     "metadata": {},
     "output_type": "execute_result"
    }
   ],
   "source": [
    "%time lview.map_sync(lambda x:x**2,range(32))"
   ]
  }
 ],
 "metadata": {
  "kernelspec": {
   "display_name": "Python 3",
   "language": "python",
   "name": "python3"
  },
  "language_info": {
   "codemirror_mode": {
    "name": "ipython",
    "version": 3
   },
   "file_extension": ".py",
   "mimetype": "text/x-python",
   "name": "python",
   "nbconvert_exporter": "python",
   "pygments_lexer": "ipython3",
   "version": "3.6.0"
  }
 },
 "nbformat": 4,
 "nbformat_minor": 1
}
