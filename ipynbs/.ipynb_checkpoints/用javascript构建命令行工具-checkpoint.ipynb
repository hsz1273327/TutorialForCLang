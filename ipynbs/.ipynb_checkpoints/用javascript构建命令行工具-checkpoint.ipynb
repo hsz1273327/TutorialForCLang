{
 "cells": [
  {
   "cell_type": "markdown",
   "metadata": {},
   "source": [
    "# 用javascript构建命令行工具\n",
    "\n",
    "JS作为后起之秀,在es6后也越来越受开发人员喜爱,而用js写一些针对当前web项目的命令行脚本,也成了js的应用场景之一.它常常注册在前端项目的package.json中\n",
    "\n",
    "JS社区作为最活跃的社区也贡献了一个接口相当友好的参数解析工具[yargs](https://github.com/yargs/yargs),作为命令行工具的构建工具,当然最好安装到全局空间\n",
    "\n",
    "`npm -g i yargs`\n",
    "\n",
    "之后我们来写sqrt的代码吧"
   ]
  },
  {
   "cell_type": "code",
   "execution_count": 1,
   "metadata": {},
   "outputs": [
    {
     "name": "stdout",
     "output_type": "stream",
     "text": [
      "Overwriting src/node/sqrt_js.js\n"
     ]
    }
   ],
   "source": [
    "%%writefile src/node/sqrt_js.js\n",
    "#!/usr/bin/env node\n",
    "'use strict'\n",
    "const argv = require('yargs')\n",
    "            .usage('Usage: $0 [-v/--version] number') //设置用法\n",
    "            .alias('v', 'version')                //参数-v与--version等效\n",
    "            .help('h')\n",
    "            .alias('h', 'help')\n",
    "            .argv\n",
    "            \n",
    "\n",
    "if (argv.v) {\n",
    "    console.log('version: 0.1.0')\n",
    "} else if(argv._.length == 1){//_表示出带k参数外的参数\n",
    "    console.log(Math.sqrt(argv._[0]))\n",
    "} else {\n",
    "    console.log('error args')\n",
    "}\n"
   ]
  },
  {
   "cell_type": "code",
   "execution_count": 2,
   "metadata": {},
   "outputs": [
    {
     "name": "stdout",
     "output_type": "stream",
     "text": [
      "version: 0.1.0\r\n"
     ]
    }
   ],
   "source": [
    "!node src/node/sqrt_js.js -v"
   ]
  },
  {
   "cell_type": "code",
   "execution_count": 3,
   "metadata": {},
   "outputs": [
    {
     "name": "stdout",
     "output_type": "stream",
     "text": [
      "1.7320508075688772\r\n"
     ]
    }
   ],
   "source": [
    "!node src/node/sqrt_js.js 3"
   ]
  },
  {
   "cell_type": "markdown",
   "metadata": {},
   "source": [
    "### yargs对象说明\n",
    "\n",
    "yargs的亮点在于链式设置参数,这对于参数不复杂的情况来说是非常方便的有这几种:\n",
    "\n",
    "+ .alias(key, alias)\n",
    "    设置长关键字参数\n",
    "+ .array(key)\n",
    "    key的参数设定为array\n",
    "+ .boolean(key)\n",
    "    键值设置为布尔值,默认为false\n",
    "+ .default(key, value, [description])\n",
    "    设定key的默认值\n",
    "+ .check(fn)\n",
    "    用fn检查,fn使用两个参数--解析的argv哈希和选项数组及其别名来调用。如果fn抛出或返回非真值，将显示抛出的错误，使用信息和退出。\n",
    "+ .choices(key, choices)\n",
    "    key可选的参数\n",
    "+ .coerce(key, fn)\n",
    "    强制转换,fn用来返回想要转换的内容\n",
    "+ .command(cmd, desc, [builder], [handler])/.command(cmd, desc, [module])/.command(module)\n",
    "    子命令,类似git push呀这种\n",
    "+ .demand(count, [max], [msg])\n",
    "    + 如果key是一个字符串，则显示用法信息，如果在process.argv中未指定键，则退出。\n",
    "    + 如果key是一个数字，则需要至少与argv._中显示的非选项参数一样多的参数。还可以可选地提供第二数字，其指示非选项参数的最大数目。\n",
    "    + 如果key是一个数组，则需要每个元素。如果给出了一个msg字符串，它将在参数丢失时打印，而不是标准错误消息。这对argv._中的非选项参数特别有用。\n",
    "    + 如果给出了布尔值，它控制是否需要该选项;这在使用.options（）指定命令行参数时很有用。\n",
    "    .demand（1）和.strict（）的组合将允许您要求用户传递至少一个命令\n",
    "    \n",
    "+ .describe(key, desc)\n",
    "    描述key\n",
    "+ .env([prefix])\n",
    "    设置环境\n",
    "+ .epilog(str)/.epilogue(str)\n",
    "    usage打印结束后额外加的说明\n",
    "+ .example(cmd, desc)\n",
    "    设置例子\n",
    "+ .fail(fn)\n",
    "    定义运行失败执行的内容\n",
    "+ .options(key, [opt])\n",
    "    定义可选项\n",
    "    ```js\n",
    "    .option('f', {\n",
    "        alias: 'file',\n",
    "        demand: true,\n",
    "        default: '/etc/passwd',\n",
    "        describe: 'x marks the spot',\n",
    "        type: 'string'\n",
    "    })\n",
    "    ```\n",
    "    和\n",
    "    ```js\n",
    "    .alias('f', 'file')\n",
    "    .demand('f')\n",
    "    .default('f', '/etc/passwd')\n",
    "    .describe('f', 'x marks the spot')\n",
    "    .string('f')\n",
    "    ```\n",
    "    等价\n",
    "    \n",
    "+ .usage(message, [opts])\n",
    "    设定用法说明\n",
    "    \n",
    "+ .version([option], [description], [version])\n",
    "    设定版本"
   ]
  },
  {
   "cell_type": "markdown",
   "metadata": {},
   "source": [
    "最后使用`.argv`获得最终的匹配结果,这是一个包含各个关键字的对象,特殊的`_`值为无关键字的参数列表"
   ]
  }
 ],
 "metadata": {
  "kernelspec": {
   "display_name": "Python 3",
   "language": "python",
   "name": "python3"
  },
  "language_info": {
   "codemirror_mode": {
    "name": "ipython",
    "version": 3
   },
   "file_extension": ".py",
   "mimetype": "text/x-python",
   "name": "python",
   "nbconvert_exporter": "python",
   "pygments_lexer": "ipython3",
   "version": "3.6.0"
  }
 },
 "nbformat": 4,
 "nbformat_minor": 1
}
