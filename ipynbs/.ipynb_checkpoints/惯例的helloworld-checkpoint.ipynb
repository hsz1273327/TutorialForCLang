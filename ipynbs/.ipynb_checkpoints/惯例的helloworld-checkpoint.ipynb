{
 "cells": [
  {
   "cell_type": "markdown",
   "metadata": {},
   "source": [
    "# 惯例的helloworld\n",
    "\n",
    "首先我们应该对Cpp程序有个大概的概念.\n",
    "\n",
    "cpp程序需要编译.其源文件(source files)一般以`.cpp`,`.cxx`或者`.cc`为后缀.源文件的作用是定义程序的实现,也就是人能看得懂的写给机器真正执行的文件.\n",
    "\n",
    "一般微软规范中使用`.cpp`而`linux`中常用`.cc`个人认为`.cpp`更合理.不过其实随便.cpp的编译需要编译器,最常见的就是`GNU g++`命令编译.\n",
    "\n",
    "\n",
    "\n",
    "\n",
    "这两种形式的输出都为int类型.如果返回0,则代表程序正常退出.返回其它数字的含义则由系统决定.通常,返回非零代表程序异常退出.\n",
    "\n",
    "下面是名为`helloworld.cpp`的源文件.这个源文件有如下几个部分:\n",
    "\n",
    "+ 引入头文件,c和c++中有头文件这种设定,一般由`.hpp`或者`.h`为后缀.头文件是编译器处理的文件而不是程序执行的文件,它一般用于:\n",
    "\n",
    "    + 声明源文件的接口\n",
    "    + 申明模板\n",
    "    + 申明一些常量,和自定义类型\n",
    "    \n",
    "    头文件的引入就是在引入位置直接复制头文件中的内容,因此也有用来定义要引入的文本的情况.这种情况其实并不是头文件,因此我们在这种情况下使用`.inc`为后缀\n",
    "   \n",
    "+ 入口函数main函数.\n",
    "\n",
    "    所有cpp程序都要有一个入口函数--main函数,它可以是两种形式\n",
    "\n",
    "    + `int main(int argc, char *argv[])`其中输入:\n",
    "\n",
    "        + argc: 参数的个数,不给main()函数传递参数时默认值为1，即至少有一个参数为该可执行文件的文件名(含目录).\n",
    "        + argv: 为指针数组,分别指向各个字符串参数的首地址,其中argv[0]存储的是可执行文件的文件名的首地址.\n",
    "\n",
    "    + `int main()`\n"
   ]
  },
  {
   "cell_type": "code",
   "execution_count": 12,
   "metadata": {},
   "outputs": [
    {
     "name": "stdout",
     "output_type": "stream",
     "text": [
      "Overwriting codes/src/helloworld/section1/helloworld.cpp\n"
     ]
    }
   ],
   "source": [
    "%%writefile codes/src/helloworld/section1/helloworld.cpp\n",
    "#include <stdio.h>\n",
    "\n",
    "int main(){\n",
    "    printf(\"hello world\");\n",
    "    return 0;\n",
    "}"
   ]
  },
  {
   "cell_type": "code",
   "execution_count": 13,
   "metadata": {
    "collapsed": true
   },
   "outputs": [],
   "source": [
    "!g++ -o codes/bin/helloworld/section1/helloworld codes/src/helloworld/section1/helloworld.cpp"
   ]
  },
  {
   "cell_type": "code",
   "execution_count": 14,
   "metadata": {},
   "outputs": [
    {
     "name": "stdout",
     "output_type": "stream",
     "text": [
      "hello world"
     ]
    }
   ],
   "source": [
    "!./codes/bin/helloworld/section1/helloworld"
   ]
  },
  {
   "cell_type": "markdown",
   "metadata": {},
   "source": [
    "## 一个更加典型的helloworld程序\n",
    "\n",
    "Cpp是为"
   ]
  },
  {
   "cell_type": "code",
   "execution_count": 23,
   "metadata": {},
   "outputs": [
    {
     "name": "stdout",
     "output_type": "stream",
     "text": [
      "Overwriting codes/src/helloworld/section2/helloworld.cpp\n"
     ]
    }
   ],
   "source": [
    "%%writefile codes/src/helloworld/section2/helloworld.cpp\n",
    "#include <string>\n",
    "using std::string;\n",
    "string hello_name(string name){\n",
    "    return \"hello world \"+name;\n",
    "}"
   ]
  },
  {
   "cell_type": "code",
   "execution_count": 27,
   "metadata": {},
   "outputs": [
    {
     "name": "stdout",
     "output_type": "stream",
     "text": [
      "Overwriting codes/include/helloworld/section2/helloworld.hpp\n"
     ]
    }
   ],
   "source": [
    "%%writefile codes/include/helloworld/section2/helloworld.hpp\n",
    "#include <string>\n",
    "using std::string;\n",
    "string hello_name(string name);"
   ]
  },
  {
   "cell_type": "code",
   "execution_count": 30,
   "metadata": {},
   "outputs": [
    {
     "name": "stdout",
     "output_type": "stream",
     "text": [
      "Overwriting codes/src/helloworld/section2/main.cpp\n"
     ]
    }
   ],
   "source": [
    "%%writefile codes/src/helloworld/section2/main.cpp\n",
    "#include <iostream>\n",
    "#include \"helloworld.hpp\"\n",
    "using std::cout;\n",
    "using std::endl;\n",
    "int main(){\n",
    "    cout << hello_name(\"Cpp!\") <<endl;\n",
    "    return 0;\n",
    "}"
   ]
  },
  {
   "cell_type": "code",
   "execution_count": 31,
   "metadata": {},
   "outputs": [],
   "source": [
    "!g++ -I codes/include/helloworld/section2 -o codes/bin/helloworld/section2/helloworld codes/src/helloworld/section2/*.cpp"
   ]
  },
  {
   "cell_type": "code",
   "execution_count": 32,
   "metadata": {},
   "outputs": [
    {
     "name": "stdout",
     "output_type": "stream",
     "text": [
      "hello world Cpp!\r\n"
     ]
    }
   ],
   "source": [
    "!codes/bin/helloworld/section2/helloworld"
   ]
  },
  {
   "cell_type": "code",
   "execution_count": null,
   "metadata": {
    "collapsed": true
   },
   "outputs": [],
   "source": []
  }
 ],
 "metadata": {
  "kernelspec": {
   "display_name": "Python 3",
   "language": "python",
   "name": "python3"
  },
  "language_info": {
   "codemirror_mode": {
    "name": "ipython",
    "version": 3
   },
   "file_extension": ".py",
   "mimetype": "text/x-python",
   "name": "python",
   "nbconvert_exporter": "python",
   "pygments_lexer": "ipython3",
   "version": "3.6.0"
  }
 },
 "nbformat": 4,
 "nbformat_minor": 2
}
