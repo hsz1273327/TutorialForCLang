{
 "cells": [
  {
   "cell_type": "markdown",
   "metadata": {},
   "source": [
    "# 运算符\n",
    "\n",
    "C++中的运算符和python中的类似,这边只拉出不同的几个\n",
    "\n",
    "### 自增运算符\n",
    "\n",
    "也就是传说中的`++/--`当然最好别用,语义不清.当然C中也有赋值运算符`+=`,但还是讲下,前置++速度高于后置,结果的区别看例子:"
   ]
  },
  {
   "cell_type": "code",
   "execution_count": 1,
   "metadata": {},
   "outputs": [
    {
     "name": "stdout",
     "output_type": "stream",
     "text": [
      "Overwriting src/C3/increment.cpp\n"
     ]
    }
   ],
   "source": [
    "%%writefile src/C3/increment.cpp\n",
    "#include <iostream>\n",
    "\n",
    "using std::cout;\n",
    "using std::endl;\n",
    "        \n",
    "int main(void){\n",
    "    auto a = 5,b = 5;\n",
    "    a++;\n",
    "    ++b;\n",
    "    cout<<\"a:\"<<a<<\"b:\"<<b<<\"\\n\"<<endl;\n",
    "    a = b++;\n",
    "    cout<<\"after a=b++\\na:\" << a << \",b:\" <<b<<\"\\n\"<<endl;\n",
    "    a = ++b;\n",
    "    cout<<\"after a=++b\\na:\" << a << \",b:\" <<b<<\"\\n\"<<endl;\n",
    "    return 0;\n",
    "}\n"
   ]
  },
  {
   "cell_type": "code",
   "execution_count": 2,
   "metadata": {},
   "outputs": [],
   "source": [
    "!g++-7 -o bin/increment src/C3/increment.cpp"
   ]
  },
  {
   "cell_type": "code",
   "execution_count": 3,
   "metadata": {},
   "outputs": [
    {
     "name": "stdout",
     "output_type": "stream",
     "text": [
      "a:6b:6\r\n",
      "\r\n",
      "after a=b++\r\n",
      "a:6,b:7\r\n",
      "\r\n",
      "after a=++b\r\n",
      "a:8,b:8\r\n",
      "\r\n"
     ]
    }
   ],
   "source": [
    "!bin/increment"
   ]
  },
  {
   "cell_type": "markdown",
   "metadata": {},
   "source": [
    "如果前面有赋值,前置++后变量值自增1,后置++变量先赋值过去,然后再自增"
   ]
  },
  {
   "cell_type": "markdown",
   "metadata": {},
   "source": [
    "### 逻辑运算符\n",
    "\n",
    "Python中使用and or not 这些英文单词作为逻辑运算符,C++中则使用符号:\n",
    "\n",
    "C++中|python中|意义\n",
    "---|---|---\n",
    "&&|and|与\n",
    "ll|or|或\n",
    "!|not|非"
   ]
  },
  {
   "cell_type": "markdown",
   "metadata": {},
   "source": [
    "### 条件运算符\n",
    "\n",
    "这个算是比较奇葩的了,C++中使用`?:`来做条件运算(三元运算),与之对应的是python中的条件表达式 `True if exp else False`.\n",
    "\n",
    "看个例子:"
   ]
  },
  {
   "cell_type": "code",
   "execution_count": 4,
   "metadata": {},
   "outputs": [
    {
     "name": "stdout",
     "output_type": "stream",
     "text": [
      "Overwriting src/c3/conditional_operator.cpp\n"
     ]
    }
   ],
   "source": [
    "%%writefile src/c3/conditional_operator.cpp\n",
    "#include <iostream>\n",
    "\n",
    "using std::cout;\n",
    "using std::endl;\n",
    "        \n",
    "int main(void){\n",
    "    auto a = 5;\n",
    "    cout<<\"a=5 是\"<<(a%2==0? \"偶数\":\"奇数\")<<\"\\n\"<<endl;\n",
    "    return 0;\n",
    "}"
   ]
  },
  {
   "cell_type": "code",
   "execution_count": 5,
   "metadata": {
    "collapsed": true
   },
   "outputs": [],
   "source": [
    "!g++-7 -o bin/conditional_operator src/c3/conditional_operator.cpp"
   ]
  },
  {
   "cell_type": "code",
   "execution_count": 6,
   "metadata": {},
   "outputs": [
    {
     "name": "stdout",
     "output_type": "stream",
     "text": [
      "a=5 是奇数\r\n",
      "\r\n"
     ]
    }
   ],
   "source": [
    "!bin/conditional_operator"
   ]
  },
  {
   "cell_type": "markdown",
   "metadata": {},
   "source": [
    "### sizeof运算符\n",
    "\n",
    "sizeof运算符用来获取变量或者类型占用的内存大小"
   ]
  },
  {
   "cell_type": "code",
   "execution_count": 7,
   "metadata": {},
   "outputs": [
    {
     "name": "stdout",
     "output_type": "stream",
     "text": [
      "Overwriting src/c3/size.cpp\n"
     ]
    }
   ],
   "source": [
    "%%writefile src/c3/size.cpp\n",
    "#include <iostream>\n",
    "\n",
    "using std::cout;\n",
    "using std::endl;\n",
    "        \n",
    "int main(void){\n",
    "    long long a = 5;\n",
    "    cout<<\"a=5 占用\"<<sizeof(a)<<\"位\\n\"<<endl;\n",
    "    return 0;\n",
    "}"
   ]
  },
  {
   "cell_type": "code",
   "execution_count": 8,
   "metadata": {
    "collapsed": true
   },
   "outputs": [],
   "source": [
    "!g++-7 -o bin/size src/c3/size.cpp"
   ]
  },
  {
   "cell_type": "code",
   "execution_count": 9,
   "metadata": {},
   "outputs": [
    {
     "name": "stdout",
     "output_type": "stream",
     "text": [
      "a=5 占用8位\r\n",
      "\r\n"
     ]
    }
   ],
   "source": [
    "!bin/size"
   ]
  },
  {
   "cell_type": "markdown",
   "metadata": {},
   "source": [
    "### 强制类型转换运算符\n",
    "\n",
    "伴随着类型系统,必然会有的就是类型转换操作,在python中形式是这样"
   ]
  },
  {
   "cell_type": "code",
   "execution_count": 10,
   "metadata": {
    "collapsed": true
   },
   "outputs": [],
   "source": [
    "a = 10"
   ]
  },
  {
   "cell_type": "code",
   "execution_count": 11,
   "metadata": {},
   "outputs": [
    {
     "data": {
      "text/plain": [
       "10.0"
      ]
     },
     "execution_count": 11,
     "metadata": {},
     "output_type": "execute_result"
    }
   ],
   "source": [
    "float(a)"
   ]
  },
  {
   "cell_type": "markdown",
   "metadata": {},
   "source": [
    "c++中类似但形式不同\n",
    "\n",
    "他的操作符是这样\n",
    "\n",
    "```c\n",
    "(float) 变量名\n",
    "```"
   ]
  },
  {
   "cell_type": "code",
   "execution_count": 12,
   "metadata": {},
   "outputs": [
    {
     "name": "stdout",
     "output_type": "stream",
     "text": [
      "Overwriting src/c3/type_conversions.cpp\n"
     ]
    }
   ],
   "source": [
    "%%writefile src/c3/type_conversions.cpp\n",
    "#include <stdio.h>\n",
    "\n",
    "int main(void){\n",
    "    int a = 5;\n",
    "    float b;\n",
    "    b = (float) a;\n",
    "    printf(\"a = %d,b = %f\\n\",a,b);\n",
    "    return 0;\n",
    "}"
   ]
  },
  {
   "cell_type": "code",
   "execution_count": 13,
   "metadata": {
    "collapsed": true
   },
   "outputs": [],
   "source": [
    "!g++-7 -o bin/type_conversions src/c3/type_conversions.cpp"
   ]
  },
  {
   "cell_type": "code",
   "execution_count": 14,
   "metadata": {},
   "outputs": [
    {
     "name": "stdout",
     "output_type": "stream",
     "text": [
      "a = 5,b = 5.000000\r\n"
     ]
    }
   ],
   "source": [
    "!bin/type_conversions"
   ]
  }
 ],
 "metadata": {
  "kernelspec": {
   "display_name": "Python 3",
   "language": "python",
   "name": "python3"
  },
  "language_info": {
   "codemirror_mode": {
    "name": "ipython",
    "version": 3
   },
   "file_extension": ".py",
   "mimetype": "text/x-python",
   "name": "python",
   "nbconvert_exporter": "python",
   "pygments_lexer": "ipython3",
   "version": "3.6.0"
  }
 },
 "nbformat": 4,
 "nbformat_minor": 1
}
