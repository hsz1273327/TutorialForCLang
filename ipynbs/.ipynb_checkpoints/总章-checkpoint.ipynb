{
 "cells": [
  {
   "cell_type": "markdown",
   "metadata": {},
   "source": [
    "# 总章\n",
    "\n",
    "就像九阴真经秘籍一样,总章部分讲的是python这门语言的\"内功\",也就是其设计哲学.python虽然现在很潮,但看现在的版本号和第三方包生态也知道其实这门语言挺古老的.回顾历史上种种编程语言,大多都是昙花一现,但最终还是被埋没在历史的长河中,能长期发展并逐渐构建出一个庞大而有活力的社区的屈指可数.一门语言能经久不衰一定会有其内在原因,而这往往与其设计哲学有相当大的关系.就像搞革命,胜利往往是思想的胜利."
   ]
  },
  {
   "cell_type": "markdown",
   "metadata": {},
   "source": [
    "# 设计哲学\n",
    "\n",
    "每次给人安利python我都会搬出来python的设计主旨,不废话看下面"
   ]
  },
  {
   "cell_type": "code",
   "execution_count": 1,
   "metadata": {},
   "outputs": [
    {
     "name": "stdout",
     "output_type": "stream",
     "text": [
      "The Zen of Python, by Tim Peters\n",
      "\n",
      "Beautiful is better than ugly.\n",
      "Explicit is better than implicit.\n",
      "Simple is better than complex.\n",
      "Complex is better than complicated.\n",
      "Flat is better than nested.\n",
      "Sparse is better than dense.\n",
      "Readability counts.\n",
      "Special cases aren't special enough to break the rules.\n",
      "Although practicality beats purity.\n",
      "Errors should never pass silently.\n",
      "Unless explicitly silenced.\n",
      "In the face of ambiguity, refuse the temptation to guess.\n",
      "There should be one-- and preferably only one --obvious way to do it.\n",
      "Although that way may not be obvious at first unless you're Dutch.\n",
      "Now is better than never.\n",
      "Although never is often better than *right* now.\n",
      "If the implementation is hard to explain, it's a bad idea.\n",
      "If the implementation is easy to explain, it may be a good idea.\n",
      "Namespaces are one honking great idea -- let's do more of those!\n"
     ]
    }
   ],
   "source": [
    "import this"
   ]
  },
  {
   "cell_type": "markdown",
   "metadata": {},
   "source": [
    "python强调实用性,一致性和中庸,奉行少即是多的哲学思想.在这门编程语言的任何地方都可以看到这种设计哲学."
   ]
  },
  {
   "cell_type": "markdown",
   "metadata": {},
   "source": [
    "## 代码可读性\n",
    "\n",
    "高质量代码有三要素：可读性、可维护性、可变更性.python设计思想非常强调可读性,很多人把它当做能运行的伪代码用.这也是为啥很多非计算机专业的人学习使用python的原因,没有难以阅读的符号,一切看起来就和英语差不多,加上缩进,天然的条理清晰容易理解."
   ]
  },
  {
   "cell_type": "markdown",
   "metadata": {},
   "source": [
    "## 胶水语言\n",
    "\n",
    "很多人觉得python慢,但他们忽略了python是除lua外最易使用C语言扩展的胶水语言.在多数情况下python的性能足够使用,而在性能遇到瓶颈时可以找到短板将其用C重写以获得性能提升.\n",
    "\n",
    "在计算密集型应用中python借助其良好的扩展性用哟很大的作为.\n",
    "python是当今最流行的开源科学计算语言之一,开源语言中唯一能在科学计算方面与之匹敌的是r语言;tensorflow,theano等深度学习使用的高性能GPU符号计算工具都是以python作为语言平台的.与之竞争的只有C++的caffe和lua的torch.\n",
    "\n",
    "在i/o密集型应用中python同样优秀.借助协程和uvloop,单进程下python服务器可以达到惊人的吞吐量和极短的响应时间.而uvloop是利用`cython`和`libuv`实现的事件循环.本质上是一个优秀的C扩展."
   ]
  }
 ],
 "metadata": {
  "anaconda-cloud": {},
  "kernelspec": {
   "display_name": "Python 3",
   "language": "python",
   "name": "python3"
  },
  "language_info": {
   "codemirror_mode": {
    "name": "ipython",
    "version": 3
   },
   "file_extension": ".py",
   "mimetype": "text/x-python",
   "name": "python",
   "nbconvert_exporter": "python",
   "pygments_lexer": "ipython3",
   "version": "3.6.0"
  }
 },
 "nbformat": 4,
 "nbformat_minor": 2
}
