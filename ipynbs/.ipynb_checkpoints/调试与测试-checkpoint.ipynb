{
 "cells": [
  {
   "cell_type": "markdown",
   "metadata": {},
   "source": [
    "# 代码调试\n",
    "\n",
    "代码调试主要是debug,也就是确保程序不出错误.基本可以分为如下几个方面:\n",
    "\n",
    "+ 单步调试,一步一步的查看代码的运行状态\n",
    "+ 调用追踪,查看函数报错在堆栈中的状况\n",
    "+ 段错误追踪,一般用于C写扩展的模块追踪内存泄漏等错误"
   ]
  },
  {
   "cell_type": "markdown",
   "metadata": {},
   "source": [
    "## 单步调试模块\n",
    "\n",
    "pdb是python自带的调试模块,它可以在交互环境中使用,也可以在terminal中作为python的一个模式使用\n",
    "\n",
    "> 要调试的脚本:\n",
    "\n",
    "```python\n",
    "#!/usr/bin/env python3\n",
    "class Counter(object):\n",
    "    \"\"\"一个计数器\n",
    "    用法:\n",
    "    >>> counter1 = Counter()\n",
    "    >>> counter1()\n",
    "    1\n",
    "    >>> counter1()\n",
    "    2\n",
    "    >>> counter2 = Counter(lambda : 2,-3)\n",
    "    >>> counter2()\n",
    "    -1\n",
    "    >>> counter2()\n",
    "    1\n",
    "    \"\"\"\n",
    "    def __str__(self):\n",
    "        return \"state:\"+str(self.value)\n",
    "    def __repr__(self):\n",
    "        return self.__str__\n",
    "    def __call__(self):\n",
    "        def count():\n",
    "            self.value += self.func()\n",
    "            return self.value\n",
    "        return count()\n",
    "    \n",
    "    def __init__(self,func=lambda : 1,start=0):\n",
    "        self.value = start\n",
    "        self.func = func \n",
    "test = Counter()\n",
    "test()\n",
    "test()\n",
    "print(test)\n",
    "if __name__==\"__main__\":\n",
    "    counter1 = Counter()\n",
    "    counter2 = Counter()\n",
    "    for i in range(10):\n",
    "        counter1()\n",
    "    for i in range(8):\n",
    "        counter2()\n",
    "    if counter1.value == counter2.value:\n",
    "        print(\"not success\")\n",
    "    else: \n",
    "        print(\"don't known\")\n",
    "        \n",
    "    \n",
    "    import doctest\n",
    "    doctest.testmod(verbose=True)\n",
    "```\n",
    "\n",
    "> 命令行调试\n",
    "\n",
    "```shell\n",
    "python -m pdb counter.py\n",
    "```\n",
    "\n",
    "> 在交互shell中调试\n",
    "\n",
    "```python\n",
    "import pdb\n",
    "import counter\n",
    "pdb.run('counter.test()')\n",
    "```\n",
    "\n",
    "常用的调试命令可以在调试模式下用help命令来查看"
   ]
  },
  {
   "cell_type": "markdown",
   "metadata": {},
   "source": [
    "## 调用追踪\n",
    "\n",
    "调试的时候我们除了想知道哪条代码错了,也会想知道是谁调用了这条错误的代码,,又或者希望知道运行时的堆栈信息.这个时候调用追踪模块就有用了\n",
    "\n",
    ">一个简单的例子 "
   ]
  },
  {
   "cell_type": "code",
   "execution_count": 1,
   "metadata": {
    "collapsed": true
   },
   "outputs": [],
   "source": [
    "import traceback\n",
    "def func():\n",
    "    s =  traceback.extract_stack()\n",
    "    print('%s Invoked me!'%s[-2][2])\n",
    "    \n",
    "def a():\n",
    "    func()\n",
    "b = lambda :func()"
   ]
  },
  {
   "cell_type": "code",
   "execution_count": 2,
   "metadata": {
    "collapsed": false
   },
   "outputs": [
    {
     "name": "stdout",
     "output_type": "stream",
     "text": [
      "a Invoked me!\n"
     ]
    }
   ],
   "source": [
    "a()"
   ]
  },
  {
   "cell_type": "code",
   "execution_count": 3,
   "metadata": {
    "collapsed": false
   },
   "outputs": [
    {
     "name": "stdout",
     "output_type": "stream",
     "text": [
      "<lambda> Invoked me!\n"
     ]
    }
   ],
   "source": [
    "b()"
   ]
  },
  {
   "cell_type": "markdown",
   "metadata": {},
   "source": [
    "traceback的api是这些，我将它翻译出来，英文不好的同学也可以对照着使用:\n",
    "\n",
    "+ `traceback.print_tb(tb, limit=None, file=None)`\n",
    "\n",
    "    如果`limit`参数是正数,则打印limit条数的(从调用者这一帧开始的)traceback对象的堆栈跟踪条目,否则打印最后的abs(limit)条目,如果`limit`被省略或为None，则打印所有条目\n",
    "    如果省略`file`或者`None`，则输出到`sys.stderr`,否则它应该是一个打开的文件或类似文件的对象来接收输出。\n",
    "    \n",
    "\n",
    "    打印，以限制堆栈跟踪条目从traceback对象(从调用者这帧开始)，如果限制是积极的。否则，打印最后的ABS（限制）条目。如果限制被省略或没有，所有条目打印。如果文件被省略或没有，输出到`sys.stderr`；否则应打开的文件或类似文件的对象来接收输出。\n",
    "\n",
    "\n",
    "+ `traceback.print_exception(etype, value, tb, limit=None, file=None, chain=True)`\n",
    "\n",
    "    将异常信息和堆栈跟踪条目从traceback对象tb打印到文件。这与`print_tb()`有以下不同:\n",
    "    \n",
    "    + 如果tb不是None，它会打印一个 header Traceback（通常是最近一次调用）：\n",
    "    + 它在堆栈跟踪之后打印异常etype和值\n",
    "    + 如果etype是SyntaxError，并且value具有相应的格式，则会打印出语法错误发生的行，并带有指示错误大致位置的插入符号。\n",
    "    \n",
    "    \n",
    "    可选的limit参数与`print_tb()`的含义相同.如果chain为true（默认值），那么也会打印异常链（`__cause__`或`__context__`异常的属性），就像解释器本身在打印未处理的异常时一样。\n",
    "    \n",
    "    \n",
    "+ `traceback.print_exc(limit=None, file=None, chain=True)`\n",
    "    \n",
    "    `print_exception(*sys.exc_info(), limit, file, chain)`的缩写\n",
    "    \n",
    "+ `traceback.print_last(limit=None, file=None, chain=True)`\n",
    "\n",
    "    这是`print_exception(sys.last_type，sys.last_value，sys.last_traceback，limit，file，chain)`的缩写。一般来说，只有在异常已经达到交互式提示之后才会有效\n",
    "\n",
    "\n",
    "+ `traceback.print_stack(f=None, limit=None, file=None)`\n",
    " \n",
    "    如果limit为正值则以limit参数为条数打印堆栈跟踪条目(从调用点开始)否则，打印最后一个abs(limit)条目。如果省略limit或None，则打印所有条目。可选的f参数可用于指定要启动的备用堆栈帧。可选file参数与`print_tb()`具有相同的含义。\n",
    "\n",
    "+ `traceback.extract_tb(tb, limit=None)`\n",
    "\n",
    "    返回从traceback对象tb提取的“预处理”堆栈跟踪条目列表。它对于堆栈跟踪的替代格式很有用。可选的limit参数与print_tb()的含义相同。 “预处理”堆栈跟踪条目是表示通常为堆栈跟踪打印的信息的4元组(文件名，行号，函数名称，文本)。文本是带有前导和尾随空格的字符串;如果源不可用，则为None。\n",
    "\n",
    "+ `traceback.extract_stack(f=None, limit=None)`\n",
    "\n",
    "    从当前堆栈帧中提取原始的追溯。返回值的格式与`extract_tb()`的格式相同。可选的f和limit参数与`print_stack()`具有相同的含义。\n",
    "\n",
    "+ `traceback.format_list(extracted_list)`\n",
    "\n",
    "    给定一个由`extract_tb()`或`extract_stack()`返回的元组列表，返回一个准备打印的字符串列表。结果列表中的每个字符串对应于参数列表中具有相同索引的项。每个字符串以换行符结尾.对于源文本行不为None的项目，字符串也可能包含内部换行符。\n",
    "\n",
    "\n",
    "+ `traceback.format_exception_only(etype, value)`\n",
    "\n",
    "    格式化traceback的异常部分。参数是异常类型和值，例如由`sys.last_type`和`sys.last_value`给出的。返回值是一个字符串列表，每个都以换行符结尾。通常，列表包含单个字符串;但是，对于`SyntaxError`异常，它包含几行(打印时)显示有关发生语法错误的详细信息。指示发生哪个异常的消息是列表中始终最后一个字符串。\n",
    "\n",
    "\n",
    "+ `traceback.format_exception(etype, value, tb, limit=None, chain=True)`\n",
    "\n",
    "    格式化堆栈跟踪和异常信息。参数与`print_exception()`的相应参数具有相同的含义。返回值是字符串列表，每个都以换行符结尾，一些包含内部换行符。当这些行连接并打印时，打印与`print_exception()`完全相同的文本。\n",
    "\n",
    "\n",
    "+ `traceback.format_exc(limit=None, chain=True)`\n",
    "\n",
    "    类似`print_exc(limit)`，但是返回一个字符串而不是打印到一个文件\n",
    "\n",
    "\n",
    "+ `traceback.format_tb(tb, limit=None)`\n",
    "\n",
    "    `format_list(extract_tb(tb，limit))`的缩写\n",
    "\n",
    "+ `traceback.format_stack(f=None, limit=None)`\n",
    "\n",
    "    `format_list(extract_stack(f, limit))`的缩写\n",
    "\n",
    "+ `traceback.clear_frames(tb)`\n",
    "\n",
    "    通过调用每个帧对象的`clear()`方法来清除traceback对象tb中所有堆栈帧的局部变量。\n",
    "\n",
    "+ `traceback.walk_stack(f)`\n",
    "\n",
    "    从给定帧中的`f.f_back`后面移动一个堆栈，产生每个帧的帧和行号。如果f为None，则使用当前堆栈。它常用于和`StackSummary.extract()`一起使用。\n",
    "\n",
    "+ `traceback.walk_tb(tb)`\n",
    "\n",
    "    在tb_next之后走一个回溯，产生每个帧的帧和行号。此帮助程序与`StackSummary.extract()`一起使用。\n",
    "\n",
    "\n",
    "+ `class traceback.StackSummary`\n",
    "\n",
    "    StackSummary对象表示可以进行格式化的调用堆栈,它的静态方法`extract` 常与`traceback.walk_stack`或者`traceback.walk_tb`配合使用\n",
    "\n",
    "    + `classmethod extract(frame_gen, *, limit=None, lookup_lines=True, capture_locals=False)`\n",
    "    \n",
    "        从帧生成器构造一个`StackSummary`对象(例如由walk_stack()或walk_tb()的返回).如果有`limit`参数，则只有这么多帧是从frame_gen中获取的。如果`lookup_lines`为False，则返回的FrameSummary对象将不会读取它们的行，从而使得创建StackSummary的成本更低(如果实际上可能没有格式化，则可能是有价值的).如果`capture_locals`为True，则每个FrameSummary中的局部变量被捕获为对象表示。"
   ]
  },
  {
   "cell_type": "markdown",
   "metadata": {},
   "source": [
    "## 段错误追踪\n",
    "\n",
    "所谓的段错误就是指访问的内存超出了系统所给这个程序的内存空间，通常这个值是由gd tr来保存的，他是一个48位的寄存器，其中的32位是保存由它指向的 gdt表，后13位保存 相应于gdt的下标，最后3位包括了程序是否在内存中以及程序的在cpu中的运行级别，指向 的gdt是由以64位为一个单位的表，在这张表中就保存着程序运行的代码段以及数据段的起 始地址以及与此相应的段限和页面交换还有程序运行级别还有内存粒度等等的信息。\n",
    "\n",
    "在编程中以下几类做法容易导致段错误,基本上是错误地使用指针引起的。\n",
    "\n",
    "1. 访问系统数据区，尤其是往系统保护的内存地址写数据最常见就是给一个指针以0地址。\n",
    "2. 内存越界(数组越界，变量类型不一致等)： 访问到不属于你的内存区域。\n",
    "\n",
    "python由于与C有着千丝万缕的联系,所以使用ctypes这类模块的时候也很容易出段错误这种问题.python3.5+提供了`faulthandler`工具来做段错误追踪.\n"
   ]
  },
  {
   "cell_type": "code",
   "execution_count": 8,
   "metadata": {
    "collapsed": false
   },
   "outputs": [
    {
     "name": "stdout",
     "output_type": "stream",
     "text": [
      "Overwriting src/C1/faulthandler_test.py\n"
     ]
    }
   ],
   "source": [
    "%%writefile src/C3/faulthandler_test.py\n",
    "\n",
    "import ctypes\n",
    "ctypes.string_at(0)\n"
   ]
  },
  {
   "cell_type": "code",
   "execution_count": 9,
   "metadata": {
    "collapsed": false
   },
   "outputs": [],
   "source": [
    "!python3 src/C3/faulthandler_test.py"
   ]
  },
  {
   "cell_type": "code",
   "execution_count": 10,
   "metadata": {
    "collapsed": false
   },
   "outputs": [
    {
     "name": "stdout",
     "output_type": "stream",
     "text": [
      "/usr/local/Cellar/python3/3.5.2_3/Frameworks/Python.framework/Versions/3.5/Resources/Python.app/Contents/MacOS/Python: can't open file 'faulthandler_test.py': [Errno 2] No such file or directory\r\n"
     ]
    }
   ],
   "source": [
    "!python3 -q -X faulthandler faulthandler_test.py"
   ]
  },
  {
   "cell_type": "markdown",
   "metadata": {},
   "source": [
    "另一中用法是在文件内写入faulthandler.enable()"
   ]
  },
  {
   "cell_type": "code",
   "execution_count": 11,
   "metadata": {
    "collapsed": false
   },
   "outputs": [
    {
     "name": "stdout",
     "output_type": "stream",
     "text": [
      "Overwriting src/C1/faulthandler_test2.py\n"
     ]
    }
   ],
   "source": [
    "%%writefile src/C3/faulthandler_test2.py\n",
    "\n",
    "import ctypes\n",
    "import faulthandler\n",
    "faulthandler.enable()\n",
    "ctypes.string_at(0)"
   ]
  },
  {
   "cell_type": "code",
   "execution_count": 12,
   "metadata": {
    "collapsed": false
   },
   "outputs": [
    {
     "name": "stdout",
     "output_type": "stream",
     "text": [
      "Fatal Python error: Segmentation fault\r\n",
      "\r\n",
      "Current thread 0x00007fff7c6a6000 (most recent call first):\r\n",
      "  File \"/usr/local/Cellar/python3/3.5.2_3/Frameworks/Python.framework/Versions/3.5/lib/python3.5/ctypes/__init__.py\", line 491 in string_at\r\n",
      "  File \"src/C1/faulthandler_test2.py\", line 5 in <module>\r\n"
     ]
    }
   ],
   "source": [
    "!python3 src/C3/faulthandler_test2.py"
   ]
  },
  {
   "cell_type": "markdown",
   "metadata": {},
   "source": [
    "# 性能调优\n",
    "\n",
    "在代码可以实现功能且健壮不出错的前提下,我们往往会有优化性能的需求\n",
    "\n",
    "性能调优大约可以在运行时间和运行内存占用两方面来考量,下面介绍的工具定位精度由粗到细,也分为这两个方面"
   ]
  },
  {
   "cell_type": "markdown",
   "metadata": {},
   "source": [
    "## 测试整体运行时间\n",
    "\n",
    "Python中的timeit是测试代码执行效率的工具.可以用命令行直接测试脚本,也可以测试代码字符串的效率,当然最简单的还是直接用ipython的内置timeit魔法命令测某段代码的效率"
   ]
  },
  {
   "cell_type": "code",
   "execution_count": 13,
   "metadata": {
    "collapsed": false
   },
   "outputs": [
    {
     "data": {
      "text/plain": [
       "0.8133840359951137"
      ]
     },
     "execution_count": 13,
     "metadata": {},
     "output_type": "execute_result"
    }
   ],
   "source": [
    "import timeit\n",
    "t = timeit.Timer('map(lambda x: x**2,range(1000))')\n",
    "t.timeit()"
   ]
  },
  {
   "cell_type": "code",
   "execution_count": 14,
   "metadata": {
    "collapsed": false
   },
   "outputs": [
    {
     "name": "stdout",
     "output_type": "stream",
     "text": [
      "10000000 loops, best of 3: 0.065 usec per loop\r\n"
     ]
    }
   ],
   "source": [
    "!python -m timeit -s \"map(lambda x: x**2,range(1000))\""
   ]
  },
  {
   "cell_type": "markdown",
   "metadata": {},
   "source": [
    "## 函数级性能瓶颈定位\n",
    "\n",
    "python的标准库中有一个可以实现性能瓶颈定位的模块叫cprofile,他是一个开销极小的C扩展.用它可以实现函数级的性能分析,配合`pstats`模块还可以输出分析报告\n",
    "\n",
    "\n",
    "> 使用单独模块分析"
   ]
  },
  {
   "cell_type": "code",
   "execution_count": 15,
   "metadata": {
    "collapsed": false
   },
   "outputs": [
    {
     "name": "stdout",
     "output_type": "stream",
     "text": [
      "Overwriting src/C1/profile_test.py\n"
     ]
    }
   ],
   "source": [
    "%%writefile src/C3/profile_test.py\n",
    "def foo():\n",
    "    sum = 0\n",
    "    for i in range(10000):\n",
    "        sum += i\n",
    "    return sum\n",
    "if __name__==\"__main__\":\n",
    "    foo()"
   ]
  },
  {
   "cell_type": "code",
   "execution_count": 16,
   "metadata": {
    "collapsed": false
   },
   "outputs": [
    {
     "name": "stdout",
     "output_type": "stream",
     "text": [
      "Overwriting src/C1/profile_test.py\n"
     ]
    }
   ],
   "source": [
    "%%writefile src/C3/profile_test.py\n",
    "def foo():\n",
    "    sum = 0\n",
    "    for i in range(10000):\n",
    "        sum += i\n",
    "    return sum\n",
    "if __name__==\"__main__\":\n",
    "    try :\n",
    "        import profile\n",
    "    except:\n",
    "        import cProfile as profile\n",
    "        \n",
    "    profile.run(\"foo()\")"
   ]
  },
  {
   "cell_type": "code",
   "execution_count": 17,
   "metadata": {
    "collapsed": false
   },
   "outputs": [
    {
     "name": "stdout",
     "output_type": "stream",
     "text": [
      "         5 function calls in 0.004 seconds\r\n",
      "\r\n",
      "   Ordered by: standard name\r\n",
      "\r\n",
      "   ncalls  tottime  percall  cumtime  percall filename:lineno(function)\r\n",
      "        1    0.000    0.000    0.000    0.000 :0(range)\r\n",
      "        1    0.001    0.001    0.001    0.001 :0(setprofile)\r\n",
      "        1    0.000    0.000    0.003    0.003 <string>:1(<module>)\r\n",
      "        1    0.000    0.000    0.004    0.004 profile:0(foo())\r\n",
      "        0    0.000             0.000          profile:0(profiler)\r\n",
      "        1    0.002    0.002    0.003    0.003 profile_test.py:1(foo)\r\n",
      "\r\n",
      "\r\n"
     ]
    }
   ],
   "source": [
    "!python src/C3/profile_test.py"
   ]
  },
  {
   "cell_type": "markdown",
   "metadata": {},
   "source": [
    ">使用命令行分析"
   ]
  },
  {
   "cell_type": "code",
   "execution_count": 18,
   "metadata": {
    "collapsed": false
   },
   "outputs": [
    {
     "name": "stdout",
     "output_type": "stream",
     "text": [
      "Overwriting src/C1/profile_test_foo.py\n"
     ]
    }
   ],
   "source": [
    "%%writefile src/C3/profile_test_foo.py\n",
    "#coding:utf-8\n",
    "def foo():\n",
    "    sum = 0\n",
    "    for i in range(10000):\n",
    "        sum += i\n",
    "    return sum\n",
    "if __name__==\"__main__\":\n",
    "    foo()"
   ]
  },
  {
   "cell_type": "code",
   "execution_count": 19,
   "metadata": {
    "collapsed": false
   },
   "outputs": [
    {
     "name": "stdout",
     "output_type": "stream",
     "text": [
      "         4 function calls in 0.002 seconds\r\n",
      "\r\n",
      "   Ordered by: standard name\r\n",
      "\r\n",
      "   ncalls  tottime  percall  cumtime  percall filename:lineno(function)\r\n",
      "        1    0.000    0.000    0.002    0.002 profile_test_foo.py:2(<module>)\r\n",
      "        1    0.002    0.002    0.002    0.002 profile_test_foo.py:2(foo)\r\n",
      "        1    0.000    0.000    0.000    0.000 {method 'disable' of '_lsprof.Profiler' objects}\r\n",
      "        1    0.000    0.000    0.000    0.000 {range}\r\n",
      "\r\n",
      "\r\n"
     ]
    }
   ],
   "source": [
    "!python -m cProfile src/C3/profile_test_foo.py"
   ]
  },
  {
   "cell_type": "markdown",
   "metadata": {},
   "source": [
    "> 统计项说明\n",
    "\n",
    "统计项|说明\n",
    "---|---\n",
    "ncalls| 函数被调用次数\n",
    "tottime|函数总计运行时间,不含调用函数运行时间\n",
    "cumtime|函数总计运行时间,含调用的函数运行时间\n",
    "percall|函数运行一次平均时间,等于tottime(cumtime)/ncalls\n",
    "`filename:lineno`|函数所在文件名,函数的行号,函数名"
   ]
  },
  {
   "cell_type": "markdown",
   "metadata": {},
   "source": [
    "> 与pstats结合提供多种形式的报表"
   ]
  },
  {
   "cell_type": "code",
   "execution_count": 20,
   "metadata": {
    "collapsed": false
   },
   "outputs": [
    {
     "name": "stdout",
     "output_type": "stream",
     "text": [
      "Overwriting src/C1/profile_test_pstats.py\n"
     ]
    }
   ],
   "source": [
    "%%writefile src/C3/profile_test_pstats.py\n",
    "def foo():\n",
    "    sum = 0\n",
    "    for i in range(10000):\n",
    "        sum += i\n",
    "    return sum\n",
    "if __name__==\"__main__\":\n",
    "    try :\n",
    "        import profile\n",
    "    except:\n",
    "        import cProfile as profile\n",
    "        \n",
    "    profile.run(\"foo()\",\"foo.txt\")\n",
    "    import pstats\n",
    "    p = pstats.Stats(\"foo.txt\")\n",
    "    p.sort_stats(\"time\").print_stats()"
   ]
  },
  {
   "cell_type": "code",
   "execution_count": 21,
   "metadata": {
    "collapsed": false
   },
   "outputs": [
    {
     "name": "stdout",
     "output_type": "stream",
     "text": [
      "Fri May 12 00:12:23 2017    foo.txt\r\n",
      "\r\n",
      "         5 function calls in 0.002 seconds\r\n",
      "\r\n",
      "   Ordered by: internal time\r\n",
      "\r\n",
      "   ncalls  tottime  percall  cumtime  percall filename:lineno(function)\r\n",
      "        1    0.002    0.002    0.002    0.002 src/C1/profile_test_pstats.py:1(foo)\r\n",
      "        1    0.000    0.000    0.000    0.000 :0(range)\r\n",
      "        1    0.000    0.000    0.002    0.002 profile:0(foo())\r\n",
      "        1    0.000    0.000    0.000    0.000 :0(setprofile)\r\n",
      "        1    0.000    0.000    0.002    0.002 <string>:1(<module>)\r\n",
      "        0    0.000             0.000          profile:0(profiler)\r\n",
      "\r\n",
      "\r\n"
     ]
    }
   ],
   "source": [
    "!python src/C3/profile_test_pstats.py"
   ]
  },
  {
   "cell_type": "markdown",
   "metadata": {},
   "source": [
    "stats有许多函数,可以提供不同的报表\n",
    "\n",
    "+ stats函数说明\n",
    "\n",
    "函数|说明\n",
    "---|---\n",
    "strip_dirs()|除去文件名前名的路径信息\n",
    "add(filename,[...])|把profile输出的文件加入stats实例中统计\n",
    "dump_stats(filename)|把stats统计结果保存到文件\n",
    "sort_stats(key,[...])|最重要的,可以给profile统计结果排序\n",
    "reverse_order()|数据反排序\n",
    "print_stats([restriction,...])|把报表输出到stdout\n",
    "print_callers([restriction,...])|输出调用指定函数的相关信息\n",
    "print_callees([restriction,...])|输出指定函数调用过的函数的相关信息\n",
    "\n",
    "+ sort_stats可接受的参数\n",
    "\n",
    "参数|说明\n",
    "---|---\n",
    "ncalls|被调次数\n",
    "cumulative|函数运行总时间\n",
    "file|文件名\n",
    "module|模块名\n",
    "pcalls|简单统计\n",
    "line|行号\n",
    "name|函数名\n",
    "nfl|name,file,line\n",
    "stdname|标准函数名\n",
    "time|函数内部运行时间"
   ]
  },
  {
   "cell_type": "markdown",
   "metadata": {},
   "source": [
    "## 语句级性能瓶颈定位\n",
    "\n",
    "cprofiler只能追踪到哪个函数是性能瓶颈,而函数中哪条语句是性能瓶颈就追踪不到了,对于语句级性能瓶颈定位,python并没有官方工具,但github上有位大神制作了[line_profiler](https://github.com/rkern/line_profiler),这个工具可以实现这一功能,它也几乎可以说是python的半标准工具之一了.\n",
    "\n",
    "因为不是标准库中的内容,所以需要pip安装.\n",
    "\n",
    "使用方法十分简单,在需要分析的函数上面加上装饰器`@profile`即可(注意不用import任何东西,这条装饰器在定位好后应该删除以保证代码可以运行)"
   ]
  },
  {
   "cell_type": "code",
   "execution_count": 22,
   "metadata": {
    "collapsed": false
   },
   "outputs": [
    {
     "name": "stdout",
     "output_type": "stream",
     "text": [
      "Overwriting src/C1/line_profile_test.py\n"
     ]
    }
   ],
   "source": [
    "%%writefile src/C3/line_profile_test.py\n",
    "\n",
    "@profile\n",
    "def foo():\n",
    "    sum = 0\n",
    "    for i in range(10000):\n",
    "        sum += i\n",
    "    return sum\n",
    "if __name__==\"__main__\":\n",
    "    foo()"
   ]
  },
  {
   "cell_type": "code",
   "execution_count": 25,
   "metadata": {
    "collapsed": false
   },
   "outputs": [
    {
     "name": "stdout",
     "output_type": "stream",
     "text": [
      "Wrote profile results to line_profile_test.py.lprof\r\n",
      "Timer unit: 1e-06 s\r\n",
      "\r\n",
      "Total time: 0.01045 s\r\n",
      "File: src/C1/line_profile_test.py\r\n",
      "Function: foo at line 2\r\n",
      "\r\n",
      "Line #      Hits         Time  Per Hit   % Time  Line Contents\r\n",
      "==============================================================\r\n",
      "     2                                           @profile\r\n",
      "     3                                           def foo():\r\n",
      "     4         1            3      3.0      0.0      sum = 0\r\n",
      "     5     10001         4928      0.5     47.2      for i in range(10000):\r\n",
      "     6     10000         5518      0.6     52.8          sum += i\r\n",
      "     7         1            1      1.0      0.0      return sum\r\n",
      "\r\n"
     ]
    }
   ],
   "source": [
    "!python3 -m kernprof -l -v src/C3/line_profile_test.py"
   ]
  },
  {
   "cell_type": "markdown",
   "metadata": {
    "collapsed": true
   },
   "source": [
    "## 内存分析\n",
    "\n",
    "[memory_profiler](https://pypi.python.org/pypi/memory_profiler/)是用来分析内存使用情况和追踪内存泄露的工具.它用法比较接近`line_profiler`\n",
    "\n",
    "由于不是标准库中的模块,它需要pip安装.\n",
    "\n",
    "\n",
    "需要注意的是windows下需要在script文件夹下将`mprof`文件改名为`mprof.py`并在同一目录下创建一个`mprof.bat`文件编辑为如下内容\n",
    "\n",
    "```shell\n",
    "@echo off\n",
    "python \"%~dpn0.py\" %*\n",
    "```\n",
    "\n",
    "它的使用及其简单:"
   ]
  },
  {
   "cell_type": "code",
   "execution_count": 26,
   "metadata": {
    "collapsed": false
   },
   "outputs": [
    {
     "name": "stdout",
     "output_type": "stream",
     "text": [
      "Overwriting src/C1/memory_test.py\n"
     ]
    }
   ],
   "source": [
    "%%writefile src/C3/memory_test.py\n",
    "from memory_profiler import profile\n",
    "@profile\n",
    "def foo():\n",
    "    sum = 0\n",
    "    for i in range(10000):\n",
    "        sum += i\n",
    "    return sum\n",
    "if __name__==\"__main__\":\n",
    "    try :\n",
    "        import profile as cProfile\n",
    "    except:\n",
    "        import cProfile \n",
    "        \n",
    "    cProfile.run(\"foo()\",\"foo.txt\")\n",
    "    import pstats\n",
    "    p = pstats.Stats(\"foo.txt\")\n",
    "    p.sort_stats(\"time\").print_stats()"
   ]
  },
  {
   "cell_type": "markdown",
   "metadata": {},
   "source": [
    "之后使用\n",
    "```shell\n",
    "python src/C3/memory_test.py\n",
    "```\n",
    "就可以看到详细结果了\n",
    "\n",
    "指定精度可以在profile装饰器后面加上参数 如: @profile(precision=4)\n",
    "\n",
    "\n",
    "mprof工具类似`kernprof`,用它可以输出更加友好的统计分析页面"
   ]
  },
  {
   "cell_type": "code",
   "execution_count": 2,
   "metadata": {
    "collapsed": false
   },
   "outputs": [
    {
     "name": "stdout",
     "output_type": "stream",
     "text": [
      "Overwriting src/C1/memory_test_round.py\n"
     ]
    }
   ],
   "source": [
    "%%writefile src/C3/memory_test_round.py\n",
    "from memory_profiler import profile\n",
    "@profile\n",
    "def foo():\n",
    "    sum = 0\n",
    "    for i in range(10000):\n",
    "        sum += i\n",
    "    return sum\n",
    "if __name__==\"__main__\":\n",
    "    foo()"
   ]
  },
  {
   "cell_type": "code",
   "execution_count": 3,
   "metadata": {
    "collapsed": false
   },
   "outputs": [
    {
     "name": "stdout",
     "output_type": "stream",
     "text": [
      "/bin/sh: mprof: command not found\r\n"
     ]
    }
   ],
   "source": [
    "!mprof run src/C3/memory_test_round.py"
   ]
  },
  {
   "cell_type": "code",
   "execution_count": 4,
   "metadata": {
    "collapsed": false
   },
   "outputs": [
    {
     "name": "stdout",
     "output_type": "stream",
     "text": [
      "/bin/sh: mprof: command not found\r\n"
     ]
    }
   ],
   "source": [
    "!mprof plot"
   ]
  },
  {
   "cell_type": "markdown",
   "metadata": {},
   "source": [
    "## 对象分析及追踪(windows下不能用)\n",
    "\n",
    "[Objgraph](http://mg.pov.lt/objgraph/)可以实现对象分析和追踪,它也是用pip安装,不过它依赖xdot(pip 安装)\n",
    "和[graphviz](http://www.graphviz.org/)(brew安装)\n",
    "\n",
    "它可以实现的功能有:\n",
    "\n",
    "+ 统计\n",
    "+ 定义过滤对象\n",
    "+ 遍历和显示对象图"
   ]
  },
  {
   "cell_type": "code",
   "execution_count": 5,
   "metadata": {
    "collapsed": false
   },
   "outputs": [
    {
     "name": "stdout",
     "output_type": "stream",
     "text": [
      "Overwriting src/C1/Obj_test.py\n"
     ]
    }
   ],
   "source": [
    "%%writefile src/C3/Obj_test.py\n",
    "#encoding=utf-8  \n",
    "import objgraph  \n",
    "  \n",
    "if __name__ == '__main__':  \n",
    "    x = []  \n",
    "    y = [x, [x], dict(x=x)]  \n",
    "    objgraph.show_refs([y], filename='sample-graph.png') #把[y]里面所有对象的引用画出来  \n",
    "    objgraph.show_backrefs([x], filename='sample-backref-graph.png') #把对x对象的引用全部画出来  \n",
    "    #objgraph.show_most_common_types() #所有常用类型对象的统计，数据量太大，意义不大  \n",
    "    objgraph.show_growth(limit=4) #打印从程序开始或者上次show_growth到现在增加的对象（按照增加量的大小排序）  "
   ]
  },
  {
   "cell_type": "code",
   "execution_count": 6,
   "metadata": {
    "collapsed": false
   },
   "outputs": [
    {
     "name": "stdout",
     "output_type": "stream",
     "text": [
      "Traceback (most recent call last):\r\n",
      "  File \"src/C1/Obj_test.py\", line 2, in <module>\r\n",
      "    import objgraph  \r\n",
      "ImportError: No module named objgraph\r\n"
     ]
    }
   ],
   "source": [
    "!python src/C3/Obj_test.py"
   ]
  },
  {
   "cell_type": "markdown",
   "metadata": {
    "collapsed": true
   },
   "source": [
    "于是你可以看到图了\n",
    "\n",
    "![](source/C3/sample-graph.png)\n",
    "![](source/C3/sample-backref-graph.png)"
   ]
  },
  {
   "cell_type": "markdown",
   "metadata": {},
   "source": [
    "# 异常处理\n",
    "\n",
    "代码难免会出错,尤其是python这样的动态语言.对于可以预知的异常可能,python可以通过自带的异常处理语句解决.\n",
    "\n",
    "python有完善的异常处理解决方案\n",
    "\n",
    "## 异常\n",
    "\n",
    "异常即是一个事件，该事件会在程序执行过程中发生，影响了程序的正常执行。 一般情况下，在Python无法正常处理程序时就会发生一个异常。 异常是Python对象，表示一个错误。 当Python脚本发生异常时我们需要捕获处理它，否则程序会终止执行。\n",
    "python的标准异常可以在[官网文档](https://docs.python.org/3/library/exceptions.html?highlight=exception)中查看,常用的如下:\n",
    "\n",
    "异常名称|描述\n",
    "---|---\n",
    "SystemExit|\t解释器请求退出\n",
    "KeyboardInterrupt|\t用户中断执行(通常是输入^C)\n",
    "Exception|\t常规错误的基类\n",
    "StopIteration|\t迭代器没有更多的值\n",
    "GeneratorExit|\t生成器(generator)发生异常来通知退出\n",
    "StandardError|\t所有的内建标准异常的基类\n",
    "ArithmeticError|\t所有数值计算错误的基类\n",
    "FloatingPointError\t|浮点计算错误\n",
    "OverflowError\t|数值运算超出最大限制\n",
    "ZeroDivisionError\t|除(或取模)零 (所有数据类型)\n",
    "AssertionError\t|断言语句失败\n",
    "AttributeError\t|对象没有这个属性\n",
    "EOFError\t|没有内建输入,到达EOF 标记\n",
    "EnvironmentError\t|操作系统错误的基类\n",
    "IOError\t|输入/输出操作失败\n",
    "OSError|\t操作系统错误\n",
    "WindowsError\t|系统调用失败\n",
    "ImportError|\t导入模块/对象失败\n",
    "LookupError|\t无效数据查询的基类\n",
    "IndexError\t|序列中没有此索引(index)\n",
    "KeyError\t|映射中没有这个键\n",
    "MemoryError\t|内存溢出错误(对于Python 解释器不是致命的)\n",
    "NameError\t|未声明/初始化对象 (没有属性)\n",
    "UnboundLocalError|\t访问未初始化的本地变量\n",
    "ReferenceError\t|弱引用(Weak reference)试图访问已经垃圾回收了的对象\n",
    "RuntimeError\t|一般的运行时错误\n",
    "NotImplementedError\t|尚未实现的方法\n",
    "SyntaxError\t|Python 语法错误\n",
    "IndentationError\t|缩进错误\n",
    "TabError|\tTab 和空格混用\n",
    "SystemError\t|一般的解释器系统错误\n",
    "TypeError|\t对类型无效的操作\n",
    "ValueError|\t传入无效的参数\n",
    "UnicodeError\t|Unicode 相关的错误\n",
    "UnicodeDecodeError\t|Unicode 解码时的错误\n",
    "UnicodeEncodeError|Unicode 编码时错误\n",
    "UnicodeTranslateError\t|Unicode 转换时错误\n",
    "Warning\t|警告的基类\n",
    "DeprecationWarning\t|关于被弃用的特征的警告\n",
    "FutureWarning\t|关于构造将来语义会有改变的警告\n",
    "OverflowWarning\t|旧的关于自动提升为长整型(long)的警告\n",
    "PendingDeprecationWarning\t|关于特性将会被废弃的警告\n",
    "RuntimeWarning|\t可疑的运行时行为(runtime behavior)的警告\n",
    "SyntaxWarning|可疑的语法的警告\n",
    "UserWarning\t|用户代码生成的警告\n",
    "\n",
    "## 异常捕获处理\n",
    "\n",
    "`try/except`语句用来检测`try`语句块中的错误，从而让`except`语句捕获异常信息并处理。 如果你不想在异常发生时结束你的程序，只需在`try`里捕获它\n",
    "\n",
    "```python\n",
    "try:\n",
    "    <语句>        #运行别的代码\n",
    "except <名字>：\n",
    "    <语句>        #如果在try部份引发了'name'异常\n",
    "except <名字>，<数据>:\n",
    "    <语句>        #如果引发了'name'异常，获得附加的数据\n",
    "else:\n",
    "    <语句>        #如果没有异常发生\n",
    "finally:\n",
    "    <语句>    #退出try时总会执行\n",
    "```\n",
    "\n",
    "try的工作原理是，当开始一个try语句后，python就在当前程序的上下文中作标记，这样当异常出现时就可以回到这里，try子句先执行，接下来会发生什么依赖于执行时是否出现异常。\n",
    "\n",
    "如果当try后的语句执行时发生异常，python就跳回到try并执行第一个匹配该异常的except子句，异常处理完毕，控制流就通过整个try语句（除非在处理异常时又引发新的异常）。\n",
    "\n",
    "如果在try后的语句里发生了异常，却没有匹配的except子句，异常将被递交到上层的try，或者到程序的最上层（这样将结束程序，并打印缺省的出错信息）。\n",
    "\n",
    "如果在try子句执行时没有发生异常，python将执行else语句后的语句（如果有else的话），然后控制流通过整个try语句。\n",
    "\n",
    "无论是否有异常,finally都将被执行,它一般作为存放收尾动作的地方,但是注意,finally有陷阱: 如果主干上的错误分支中没有对应的捕捉,那么他将被保存在一个临时的位置,而如果同时finally中有错误,则这个临时的错误会被finally中的错误给替代.\n",
    "\n",
    "\n",
    "\n",
    "使用异常捕获处理语句应该尽量精准地包裹可能有错误的代码.\n",
    "\n",
    "Python遵守`尽早失败`原则,认为程序应该尽早报告错误。例如,Python中没有“未定义”的值:在初始化之前引用变量会报错;如果`k`不存在,`my_dict[k]` 会抛出异常(JavaScript 则不然)。还有一例:在 Python 中通过元组 拆包做并行赋值,必须显式处理元组的每一个元素才行;而在 Ruby 中,如果 = 两边的元 素数量不一致,右边未用到的元素会被忽略,或者把 nil 赋给左边多余的变量。\n",
    "\n",
    "因为`尽早失败`原则,python代码中try语句会比较多,但即便如此,我们的单个`try`结构应该尽量精准的包裹可能出错的代码.\n",
    "\n",
    "\n",
    "## 抛出异常\n",
    "\n",
    "我们可以使用raise语句自己触发异常 raise语法格式如下\n",
    "\n",
    "```python\n",
    "raise [Exception [, args [, traceback]]]\n",
    "```\n",
    "\n",
    "## 自定义异常\n",
    "\n",
    "如果自己写模块,最好自定义模块的异常,一方面可以更好的分析代码,另一方面也让用模块的用户更容易追踪错误.\n"
   ]
  },
  {
   "cell_type": "code",
   "execution_count": 9,
   "metadata": {
    "collapsed": true
   },
   "outputs": [],
   "source": [
    "class Networkerror(RuntimeError):\n",
    "    def __init__(self, arg):\n",
    "        self.args = arg"
   ]
  },
  {
   "cell_type": "code",
   "execution_count": 10,
   "metadata": {
    "collapsed": false,
    "scrolled": true
   },
   "outputs": [
    {
     "name": "stdout",
     "output_type": "stream",
     "text": [
      "('B', 'a', 'd', ' ', 'h', 'o', 's', 't', 'n', 'a', 'm', 'e')\n"
     ]
    }
   ],
   "source": [
    "try:\n",
    "    raise Networkerror(\"Bad hostname\")\n",
    "except Networkerror as e:\n",
    "    print(e.args)"
   ]
  },
  {
   "cell_type": "markdown",
   "metadata": {},
   "source": [
    "# 项目测试\n",
    "\n",
    "项目写完后应该写测试以确保代码稳定可靠.经过测试稳定可靠的代码才能经得住时间的考验.但即便有测试,如果代码覆盖不够,测试用例不能覆盖全部情况,这样也并不能保准项目就一定稳健.因此条件允许的话也最好将类型注释写好,利用mypy做好静态类型检验.\n",
    "\n",
    "\n",
    "## 单元测试\n",
    "\n",
    "将代码分解为独立不耦合的小部件,针对这些小部件的测试就是单元测试.测试单元应该集中于小部分的功能，并且证明在各种情况下它的行为正确(包括错误行为).\n",
    "\n",
    "常常将测试代码和运行代码一起写是一种非常好的习惯。聪明地使用这种方法将会帮助你更加精确地定义代码的含义，并且代码的耦合性更低。\n",
    "\n",
    "一般来说,更加推崇的方法是先写测试用例确定代码行为,再写代码,也就是所谓的测试驱动编程.\n",
    "\n",
    "**测试的通用规则**：\n",
    "\n",
    "+ 测试单元应该集中于小部分的功能，并且证明它是对的。\n",
    "+ 每个测试单元应该完全独立。每个都能够单独运行，除了调用的命令，都需在测试套件中。要想实现这个规则，测试单元应该加载最新的数据集，之后再做一些清理。\n",
    "+ 尽量使测试单元快速运行。如果一个单独的测试单元需要较长的时间去运行，开发进度将会延迟，测试单元将不能如期常态性运行。有时候，因为测试单元需要复杂的数据结构，并且当它运行时每次都要加载，所以其运行时间较长。把运行吃力的测试单元放在单独的测试组件中，并且按照需要运行其它测试单元。\n",
    "+ 学习使用工具，学习如何运行一个单独的测试用例。然后，当在一个模块中开发了一个功能时，经常运行这个功能的测试用例，理想情况下，一切都将自动。\n",
    "+ 在编码会话前后，要常常运行完整的测试组件。只有这样，你才会坚信剩余的代码不会中断。\n",
    "+ 实现钩子（hook）是一个非常好的主意。因为一旦把代码放入分享仓库中，这个钩子可以运行所有的测试单元。\n",
    "+ 如果你在开发期间不得不打断自己的工作，写一个被打断的单元测试，它关于下一步要开发的东西。当回到工作时，你将更快地回到原先被打断的地方，并且步入正轨。\n",
    "+ 当你调试代码的时候，首先需要写一个精确定位bug的测试单元。尽管这样做很难，但是捕捉bug的单元测试在项目中很重要。\n",
    "+ 测试函数使用长且描述性的名字。这边的样式指导与运行代码有点不一样，运行代码更倾向于使用短的名字，而测试函数不会直接被调用。在运行代码中，`square()`或者甚至`sqr()`这样的命名都是可以的，但是在测试代码中，你应该这样取名`test_square_of_number_2()`，`test_square_negative_number()`。当测试单元失败时，函数名应该显示，而且尽可能具有描述性。\n",
    "+ 当发生了一些问题，或者不得不改变时，如果代码中有一套不错的测试单元，维护将很大一部分依靠测试组件解决问题，或者修改确定的行为。因此测试代码应该尽可能多读，甚至多于运行代码。目的不明确的测试单元在这种情况下没有多少用处。\n",
    "+ 测试代码的另外一个用处是作为新开发人员的入门。当工作基于代码，运行并且阅读相关的测试代码是一个非常好的做法。开发人员将会或者应该发现热点，而这将引起困难和其它情况，如果他们一定要加一些功能，第一步应该是要增加一个测试单元，通过这种方法，确保新功能不再是一个没有被嵌入到接口中的工作路径。\n"
   ]
  },
  {
   "cell_type": "markdown",
   "metadata": {},
   "source": [
    "### unittest\n",
    "\n",
    "python标准库中自带了unittest框架以用来做单元测试.unittest已经可以满足一般的测试需求了.它包含了所有测试框架需要的部件.相比较使用第三方测试框架,unittest相对来说更加稳定可靠,而且作为标准库,也避免了额外的依赖安装.\n",
    "\n",
    "\n",
    "使用 unittest 的标准流程为：\n",
    "\n",
    "+ 从 unittest.TestCase 派生一个子类\n",
    "+ 在类中定义各种以 `\"test_\"` 打头的方法\n",
    "+ 通过 unittest.main() 函数来启动测试\n",
    "\n",
    "unittest可以有这些参数:\n",
    "\n",
    "+ -v 测试的详细信息\n",
    "+ -f 出错就停\n",
    "+ -c 可以用ctrol+c停止,并出结果\n",
    "+ -b 运行时结果存到stderr和stdout里\n",
    "+ -s 指定文件夹\n",
    "+ -t 指定模块\n",
    "+ -p 模式匹配要测试的文件\n",
    "\n",
    "unittest 的一个很有用的特性是 TestCase 的 setUp() 和 tearDown() 方法，这种方法统称\"钩子\"它们提供了为测试进行准备和扫尾工作的功能，听起来就像上下文管理器一样。这种功能很适合用在测试对象需要复杂执行环境的情况下。 \n",
    "\n",
    "## 基本用法\n",
    "\n",
    "我们将测试如下这个模块"
   ]
  },
  {
   "cell_type": "code",
   "execution_count": 1,
   "metadata": {
    "collapsed": false
   },
   "outputs": [
    {
     "name": "stdout",
     "output_type": "stream",
     "text": [
      "Overwriting src/C3/func_oper_unitest.py\n"
     ]
    }
   ],
   "source": [
    "%%writefile src/C3/func_oper_unitest.py\n",
    "#!/usr/bin/env python\n",
    "\n",
    "\"\"\"\\\n",
    "这里可以写用到多个函数的\n",
    "\n",
    "\"\"\"\n",
    "from functools import reduce\n",
    "from operator import mul,add\n",
    "\n",
    "def multiply(*args):\n",
    "    \"\"\"\\\n",
    "    这里可以写单元测试\n",
    "    >>> multiply(2,3)\n",
    "    6\n",
    "    >>> multiply('baka~',3)\n",
    "    'baka~baka~baka~'\n",
    "    \"\"\"\n",
    "    return reduce(mul,args)\n",
    "\n",
    "def summing(*args):\n",
    "    \"\"\"\\\n",
    "    这里可以写单元测试\n",
    "    >>> summing(2,3)\n",
    "    5\n",
    "    >>> summing(2,3,4)\n",
    "    9\n",
    "    \"\"\"\n",
    "    return reduce(add,args)\n"
   ]
  },
  {
   "cell_type": "markdown",
   "metadata": {},
   "source": [
    "### 测试用例\n",
    "\n",
    "测试用例是指一系列相关测试的实例.如何界定这个相关程度根据实际情况而定,比如粗略的测试可以以模块为单位,一个模块的测试都放在一个测试用例中,细致的则可以是针对一个函数或者一个接口的测试都放在一个测试用例中.\n",
    "\n",
    "`unittest.TestCase`是测试用例的超类,编写测试用例只要继承它即可."
   ]
  },
  {
   "cell_type": "code",
   "execution_count": 2,
   "metadata": {
    "collapsed": false
   },
   "outputs": [
    {
     "name": "stdout",
     "output_type": "stream",
     "text": [
      "Overwriting src/C3/test_my.py\n"
     ]
    }
   ],
   "source": [
    "%%writefile src/C3/test_my.py\n",
    "\n",
    "import unittest\n",
    "    \n",
    "from func_oper_unitest import multiply,summing\n",
    "\n",
    "class Test_mul(unittest.TestCase):\n",
    "    def setUp(self):\n",
    "        pass\n",
    "    def test_number_3_4(self):\n",
    "        self.assertEqual(multiply(3,4),12)\n",
    "    def test_string_a_3(self):\n",
    "        self.assertEqual(multiply('a',3),'aaa')\n",
    "        \n",
    "class Test_sum(unittest.TestCase):\n",
    "    def setUp(self):\n",
    "        pass\n",
    "    def test_number_3_4(self):\n",
    "        self.assertEqual(summing(3,4),7)\n",
    "    def test_number_3_4_5(self):\n",
    "        self.assertEqual(summing(3,4,5),12)\n",
    "class TestCase1(unittest.TestCase):\n",
    "    def setUp(self):\n",
    "        pass\n",
    "    def test_sum_mul_2_3_mul_2_3(self):\n",
    "        self.assertEqual(summing(multiply(2,3),multiply(2,3)),12)\n",
    "\n",
    "if __name__ == '__main__':\n",
    "    unittest.main()\n"
   ]
  },
  {
   "cell_type": "code",
   "execution_count": 3,
   "metadata": {
    "collapsed": false
   },
   "outputs": [
    {
     "name": "stdout",
     "output_type": "stream",
     "text": [
      "test_sum_mul_2_3_mul_2_3 (test_my.TestCase1) ... ok\r\n",
      "test_number_3_4 (test_my.Test_mul) ... ok\r\n",
      "test_string_a_3 (test_my.Test_mul) ... ok\r\n",
      "test_number_3_4 (test_my.Test_sum) ... ok\r\n",
      "test_number_3_4_5 (test_my.Test_sum) ... ok\r\n",
      "\r\n",
      "----------------------------------------------------------------------\r\n",
      "Ran 5 tests in 0.001s\r\n",
      "\r\n",
      "OK\r\n"
     ]
    }
   ],
   "source": [
    "!python3 -m unittest discover -v -s ./src/C3"
   ]
  },
  {
   "cell_type": "markdown",
   "metadata": {},
   "source": [
    "### 钩子\n",
    "\n",
    "如果要对一个模块中的每一个测试函数都做同样的初始化操作和结尾清除等操作，那么创建n个测试用例就得写n遍一样的代码，为了减少重复的代码，\n",
    "\n",
    "\n",
    "测试用例的实例可以使用下面两个函数定义其中每个测试样例的初始化和清除工作：\n",
    "\n",
    "+ setUp(self): 每次执行测试用例之前调用。无参数，无返回值。该方法抛出的异常都视为error，而不是测试不通过。没有默认的实现。\n",
    "\n",
    "+ tearDown(self): 每次执行测试用例之后调用。无参数，无返回值。测试方法抛出异常，该方法也正常调用，该方法抛出的异常都视为error，而不是测试不通过。只用setUp()调用成功，该方法才会被调用。没有默认的实现。通过setup 和 tesrDown组装一个module成为一个固定的测试装置。注意：如果setup运行抛出错误，则测试用例代码则不会执行。但是，如果setpu执行成功，不管测试用例是否执行成功都会执行teardown。\n",
    "\n",
    "测试用例也有一个类级别的钩子,它可以在测试用例类实例化之前和类全部测试实例运行完后进行操作\n",
    "\n",
    "```python\n",
    "@classmethod\n",
    "def setUpClass(cls):\n",
    "    cls._connection = createExpensiveConnectionObject()\n",
    "\n",
    "@classmethod\n",
    "def tearDownClass(cls):\n",
    "    cls._connection.destroy()\n",
    "```\n",
    "\n",
    "测试钩子也可以定义模块级别的钩子,它会在模块被引用和模块运行结束后进行工作\n",
    "\n",
    "```\n",
    "def setUpModule():\n",
    "   createConnection()\n",
    "def tearDownModule(): \n",
    "   closeConnection()\n",
    "```"
   ]
  },
  {
   "cell_type": "code",
   "execution_count": 8,
   "metadata": {
    "collapsed": false
   },
   "outputs": [
    {
     "name": "stdout",
     "output_type": "stream",
     "text": [
      "Overwriting src/C3/test_hook.py\n"
     ]
    }
   ],
   "source": [
    "%%writefile src/C3/test_hook.py\n",
    "\n",
    "import unittest\n",
    "    \n",
    "from func_oper_unitest import multiply,summing\n",
    "\n",
    "def setUpModule():\n",
    "    print(\"setUpModule\")\n",
    "def tearDownModule(): \n",
    "    print(\"tearUpModule\")\n",
    " \n",
    "class Test_mul(unittest.TestCase):\n",
    "    @classmethod\n",
    "    def setUpClass(cls):\n",
    "        print(\"setUpClass\")\n",
    "\n",
    "    @classmethod\n",
    "    def tearDownClass(cls):\n",
    "        print(\"tearDownClass\")\n",
    "    def setUp(self):\n",
    "        print(\"instance setUp\")\n",
    "    def tearDown(self):\n",
    "        print(\"instance tearDown\")\n",
    "    def test_number_3_4(self):\n",
    "        print(\"t1\")\n",
    "        self.assertEqual(multiply(3,4),12)\n",
    "    def test_string_a_3(self):\n",
    "        print(\"t2\")\n",
    "        self.assertEqual(multiply('a',3),'aaa')\n",
    "        \n",
    "        \n",
    "\n",
    "\n",
    "if __name__ == '__main__':\n",
    "    unittest.main()"
   ]
  },
  {
   "cell_type": "code",
   "execution_count": 9,
   "metadata": {
    "collapsed": false,
    "scrolled": true
   },
   "outputs": [
    {
     "name": "stdout",
     "output_type": "stream",
     "text": [
      "setUpModule\n",
      "setUpClass\n",
      "instance setUp\n",
      "t1\n",
      "instance tearDown\n",
      "instance setUp\n",
      "t2\n",
      "instance tearDown\n",
      "tearDownClass\n",
      "tearUpModule\n"
     ]
    },
    {
     "name": "stderr",
     "output_type": "stream",
     "text": [
      "test_number_3_4 (test_hook.Test_mul) ... ok\n",
      "test_string_a_3 (test_hook.Test_mul) ... ok\n",
      "test_sum_mul_2_3_mul_2_3 (test_my.TestCase1) ... ok\n",
      "test_number_3_4 (test_my.Test_mul) ... ok\n",
      "test_string_a_3 (test_my.Test_mul) ... ok\n",
      "test_number_3_4 (test_my.Test_sum) ... ok\n",
      "test_number_3_4_5 (test_my.Test_sum) ... ok\n",
      "\n",
      "----------------------------------------------------------------------\n",
      "Ran 7 tests in 0.001s\n",
      "\n",
      "OK\n"
     ]
    }
   ],
   "source": [
    "!python -m unittest discover -v -s ./src/C3"
   ]
  },
  {
   "cell_type": "markdown",
   "metadata": {},
   "source": [
    "上面的结果可以很清洗的看到测试钩子的上下文范围."
   ]
  },
  {
   "cell_type": "markdown",
   "metadata": {},
   "source": [
    "### 断言\n",
    "\n",
    "断言是用来声明结果状态的工具,如果结果符合预期,那么断言就该通过,否则断言就该报断言错误\n",
    "\n",
    "\n",
    "python自带断言关键字`assert`"
   ]
  },
  {
   "cell_type": "code",
   "execution_count": 10,
   "metadata": {
    "collapsed": true
   },
   "outputs": [],
   "source": [
    "assert 1==1"
   ]
  },
  {
   "cell_type": "code",
   "execution_count": 11,
   "metadata": {
    "collapsed": false
   },
   "outputs": [
    {
     "ename": "AssertionError",
     "evalue": "",
     "output_type": "error",
     "traceback": [
      "\u001b[0;31m---------------------------------------------------------------------------\u001b[0m",
      "\u001b[0;31mAssertionError\u001b[0m                            Traceback (most recent call last)",
      "\u001b[0;32m<ipython-input-11-ab8cbedd7149>\u001b[0m in \u001b[0;36m<module>\u001b[0;34m()\u001b[0m\n\u001b[0;32m----> 1\u001b[0;31m \u001b[1;32massert\u001b[0m \u001b[1;36m1\u001b[0m\u001b[1;33m==\u001b[0m\u001b[1;36m0\u001b[0m\u001b[1;33m\u001b[0m\u001b[0m\n\u001b[0m",
      "\u001b[0;31mAssertionError\u001b[0m: "
     ]
    }
   ],
   "source": [
    "assert 1==0"
   ]
  },
  {
   "cell_type": "markdown",
   "metadata": {},
   "source": [
    "自带的断言关键字功能单一,往往不能完全满足测试需要,比如要测报错的错误类型就很麻烦了,因此除assert关键字外,彪悍尊哭unittest模块还有其他几个断言工具实现更加复杂的断言."
   ]
  },
  {
   "cell_type": "markdown",
   "metadata": {},
   "source": [
    "#### 基本断言方法\n",
    "\n",
    "基本的断言方法提供了测试结果是True还是False。所有的断言方法都有一个msg参数，如果指定msg参数的值，则将该信息作为失败的错误信息返回。\n",
    "\n",
    "断言方法|\t断言描述\n",
    "---|---\n",
    "assertEqual(arg1, arg2, msg=None)\t|验证arg1=arg2，不等则fail\n",
    "assertNotEqual(arg1, arg2, msg=None)\t|验证arg1 != arg2, 相等则fail\n",
    "assertTrue(expr, msg=None)\t|验证expr是true，如果为false，则fail\n",
    "assertFalse(expr,msg=None)\t|验证expr是false，如果为true，则fail\n",
    "assertIs(arg1, arg2, msg=None)\t|验证arg1、arg2是同一个对象，不是则fail\n",
    "assertIsNot(arg1, arg2, msg=None)\t|验证arg1、arg2不是同一个对象，是则fail\n",
    "assertIsNone(expr, msg=None)\t|验证expr是None，不是则fail\n",
    "assertIsNotNone(expr, msg=None)\t|验证expr不是None，是则fail\n",
    "assertIn(arg1, arg2, msg=None)\t|验证arg1是arg2的子串，不是则fail\n",
    "assertNotIn(arg1, arg2, msg=None)\t|验证arg1不是arg2的子串，是则fail\n",
    "assertIsInstance(obj, cls, msg=None)\t|验证obj是cls的实例，不是则fail\n",
    "assertNotIsInstance(obj, cls, msg=None)\t|验证obj不是cls的实例，是则fail"
   ]
  },
  {
   "cell_type": "markdown",
   "metadata": {},
   "source": [
    "#### 容器断言\n",
    "\n",
    "判断两个容器中内容是否一样\n",
    "\n",
    "断言方法|针对容器|断言描述\n",
    "---|---|---\n",
    "assertMultiLineEqual(a, b)\t|strings|比较两个字符串是否一样\n",
    "assertSequenceEqual(a, b)|\tsequences|比较两个序列是否一样\n",
    "assertListEqual(a, b)\t|lists|\t比较两个list是否一样\n",
    "assertTupleEqual(a, b)\t|tuples|比较两个元组是否一样\n",
    "assertSetEqual(a, b)\t|sets 或者 frozensets|比较两个集合是否一样\n",
    "assertDictEqual(a, b)\t|dicts|比较两个字典是否一样"
   ]
  },
  {
   "cell_type": "markdown",
   "metadata": {},
   "source": [
    "#### 模糊比较断言\n",
    "\n",
    "unittest框架提供的第二种断言类型就是比较断言。\n",
    "\n",
    "下面我们看下各种比较断言：\n",
    "\n",
    "\n",
    "断言方法|断言描述|参数说明\n",
    "---|---|---\n",
    "assertAlmostEqual (first, second, places = 7, msg = None, delta = None)|验证first约等于second.|palces: 指定精确到小数点后多少位，默认为7\n",
    "assertNotAlmostEqual (first, second, places, msg, delta)|验证first不约等于second。|palces: 指定精确到小数点后多少位，默认为7,注： 在上述的两个函数中，如果delta指定了值，则first和second之间的差值必须≤delta==\n",
    "assertGreater (first, second, msg = None)|验证first > second，否则fail|---\n",
    "assertGreaterEqual (first, second, msg = None)|验证first ≥ second，否则fail|---\n",
    "assertLess (first, second, msg = None)|验证first < second，否则fail|---\n",
    "assertLessEqual (first, second, msg = None)|验证first ≤ second，否则fail|---\n",
    "assertRegexpMatches (text, regexp, msg = None)|验证正则表达式regexp搜索==匹配==的文本text|regexp：通常使用re.search()\n",
    "assertNotRegexpMatches (text, regexp, msg = None)|验证正则表达式regexp搜索==不匹配==的文本text|regexp：通常使用re.search()"
   ]
  },
  {
   "cell_type": "markdown",
   "metadata": {},
   "source": [
    "#### 异常断言\n",
    "\n",
    "\n",
    "断言方法|\t断言描述\n",
    "---|---\n",
    "`assertRaises(exc, fun, *args, **kwds)`\t|验证异常测试，第一个参数是预期的异常,第二个则是待测的函数名,后面的则是待测函数的参数.当调用待测试函数时,在传入相应的测试数据后，如果测试通过，则表明待测试函数抛出了预期的异常，否则测试失败. \n",
    "`assertRaisesRegex(exc, r, fun, *args, **kwds)`\t|验证异常测试，第一个参数是预期的异常,第二个参数则是一个用来匹配错误信息的正则表达式,第三个则是待测的函数名,后面的则是待测函数的参数.当调用待测试函数时,在传入相应的测试数据后，如果测试通过，则表明待测试函数抛出了预期的异常,且错误信息也匹配，否则测试失败. \n",
    "`assertWarns(warn, fun, *args, **kwds)`|验证警告测试，第一个参数是预期的警告,第二个参数是待测的函数名,后面的则是待测函数的参数.当调用待测试函数时,在传入相应的测试数据后，如果测试通过，则表明待测试函数抛出了预期的警告否则测试失败. \n",
    "`assertWarnsRegex(warn, r, fun, *args, **kwds)`|验证警告测试，第一个参数是预期的警告,第二个参数则是一个用来匹配警告信息的正则表达式,第三个则是待测的函数名,后面的则是待测函数的参数.当调用待测试函数时,在传入相应的测试数据后，如果测试通过，则表明待测试函数抛出了预期的警告，且警告信息也匹配否则测试失败. \n",
    "`assertLogs(logger, level)`|断言log信息\n",
    "\n",
    "\n",
    "异常断言与其他不太一样,往往结合上下文使用"
   ]
  },
  {
   "cell_type": "code",
   "execution_count": 24,
   "metadata": {
    "collapsed": false
   },
   "outputs": [
    {
     "name": "stdout",
     "output_type": "stream",
     "text": [
      "Overwriting src/C3/test_assert_base.py\n"
     ]
    }
   ],
   "source": [
    "%%writefile src/C3/test_assert_base.py\n",
    "import unittest\n",
    "class demoTest(unittest.TestCase):\n",
    "    def test_eq(self):\n",
    "        self.assertEqual(4 + 5,9)\n",
    "\n",
    "    def test_not_eq(self):\n",
    "        self.assertNotEqual(5 * 2,10)\n",
    "\n",
    "    def test_seq(self):\n",
    "        a=[\"1\",\"2\",\"3\"]\n",
    "        b = (\"1\",\"2\",\"3\")\n",
    "        self.assertSequenceEqual(a, b)\n",
    "\n",
    "    def test_not_seq(self):\n",
    "        a = [\"1\",\"2\",\"3\"]\n",
    "        b = (\"1\",\"2\",\"3\",\"4\")\n",
    "        self.assertSequenceEqual(a, b)\n",
    "\n",
    "    def test_almost_eq(self):\n",
    "        self.assertAlmostEqual(1.003, 1.004, places = 2)\n",
    "\n",
    "    def test_not_almost_eq(self):\n",
    "        self.assertAlmostEqual(1.003, 1.004, places = 4)\n",
    "        \n",
    "    def test_exc(self):\n",
    "        def fun():\n",
    "            assert 0\n",
    "        self.assertRaises(AssertionError, fun)\n",
    "\n",
    "    def test_with_exc(self):\n",
    "        def fun():\n",
    "            assert 0\n",
    "        with self.assertRaises(AssertionError) as a:\n",
    "            fun()\n",
    "\n"
   ]
  },
  {
   "cell_type": "code",
   "execution_count": 25,
   "metadata": {
    "collapsed": false,
    "scrolled": true
   },
   "outputs": [
    {
     "name": "stdout",
     "output_type": "stream",
     "text": [
      "setUpModule\n",
      "setUpClass\n",
      "instance setUp\n",
      "t1\n",
      "instance tearDown\n",
      "instance setUp\n",
      "t2\n",
      "instance tearDown\n",
      "tearDownClass\n",
      "tearUpModule\n"
     ]
    },
    {
     "name": "stderr",
     "output_type": "stream",
     "text": [
      "test_almost_eq (test_assert_base.demoTest) ... ok\n",
      "test_eq (test_assert_base.demoTest) ... ok\n",
      "test_exc (test_assert_base.demoTest) ... ok\n",
      "test_not_almost_eq (test_assert_base.demoTest) ... FAIL\n",
      "test_not_eq (test_assert_base.demoTest) ... FAIL\n",
      "test_not_seq (test_assert_base.demoTest) ... FAIL\n",
      "test_seq (test_assert_base.demoTest) ... ok\n",
      "test_with_exc (test_assert_base.demoTest) ... ok\n",
      "test_number_3_4 (test_hook.Test_mul) ... ok\n",
      "test_string_a_3 (test_hook.Test_mul) ... ok\n",
      "test_sum_mul_2_3_mul_2_3 (test_my.TestCase1) ... ok\n",
      "test_number_3_4 (test_my.Test_mul) ... ok\n",
      "test_string_a_3 (test_my.Test_mul) ... ok\n",
      "test_number_3_4 (test_my.Test_sum) ... ok\n",
      "test_number_3_4_5 (test_my.Test_sum) ... ok\n",
      "\n",
      "======================================================================\n",
      "FAIL: test_not_almost_eq (test_assert_base.demoTest)\n",
      "----------------------------------------------------------------------\n",
      "Traceback (most recent call last):\n",
      "  File \"C:\\Users\\87\\Documents\\GitHub\\my\\TutorialForPython3.5plus\\ipynbs\\src\\C3\\test_assert_base.py\", line 23, in test_not_almost_eq\n",
      "    self.assertAlmostEqual(1.003, 1.004, places = 4)\n",
      "AssertionError: 1.003 != 1.004 within 4 places\n",
      "\n",
      "======================================================================\n",
      "FAIL: test_not_eq (test_assert_base.demoTest)\n",
      "----------------------------------------------------------------------\n",
      "Traceback (most recent call last):\n",
      "  File \"C:\\Users\\87\\Documents\\GitHub\\my\\TutorialForPython3.5plus\\ipynbs\\src\\C3\\test_assert_base.py\", line 7, in test_not_eq\n",
      "    self.assertNotEqual(5 * 2,10)\n",
      "AssertionError: 10 == 10\n",
      "\n",
      "======================================================================\n",
      "FAIL: test_not_seq (test_assert_base.demoTest)\n",
      "----------------------------------------------------------------------\n",
      "Traceback (most recent call last):\n",
      "  File \"C:\\Users\\87\\Documents\\GitHub\\my\\TutorialForPython3.5plus\\ipynbs\\src\\C3\\test_assert_base.py\", line 17, in test_not_seq\n",
      "    self.assertSequenceEqual(a, b)\n",
      "AssertionError: Sequences differ: ['1', '2', '3'] != ('1', '2', '3', '4')\n",
      "\n",
      "Second sequence contains 1 additional elements.\n",
      "First extra element 3:\n",
      "'4'\n",
      "\n",
      "- ['1', '2', '3']\n",
      "+ ('1', '2', '3', '4')\n",
      "\n",
      "----------------------------------------------------------------------\n",
      "Ran 15 tests in 0.001s\n",
      "\n",
      "FAILED (failures=3)\n"
     ]
    }
   ],
   "source": [
    "!python -m unittest discover -v -s ./src/C3"
   ]
  },
  {
   "cell_type": "markdown",
   "metadata": {},
   "source": [
    "### 跳过测试和预期测试出错\n",
    "\n",
    "unittest提供了4个装饰器来控制测试的行为\n",
    "\n",
    "+ @unittest.skip(reason)\n",
    "跳过测试用例的某条测试项目\n",
    "\n",
    "+ @unittest.skipIf(condition, reason)\n",
    "如果条件`condition`条件成立,那就跳过测试用例的某条测试项目\n",
    "\n",
    "+ @unittest.skipUnless(condition, reason)\n",
    "如果条件`condition`条件不成立,那就跳过测试用例的某条测试项目\n",
    "\n",
    "+ @unittest.expectedFailure\n",
    "断定测试项目会失败\n",
    "\n"
   ]
  },
  {
   "cell_type": "code",
   "execution_count": 26,
   "metadata": {
    "collapsed": false
   },
   "outputs": [
    {
     "name": "stdout",
     "output_type": "stream",
     "text": [
      "Writing src/C3/test_assert_skip.py\n"
     ]
    }
   ],
   "source": [
    "%%writefile src/C3/test_assert_skip.py\n",
    "import unittest\n",
    "class demoTest(unittest.TestCase):\n",
    "    @unittest.skip(\"跳过\")\n",
    "    def test_eq(self):\n",
    "        self.assertEqual(4 + 5,9)\n",
    "    @unittest.expectedFailure \n",
    "    def test_not_eq(self):\n",
    "        self.assertNotEqual(5 * 2,10)\n",
    "    @unittest.skipIf(1==0, \"if 1 ==0\")\n",
    "    def test_seq(self):\n",
    "        a=[\"1\",\"2\",\"3\"]\n",
    "        b = (\"1\",\"2\",\"3\")\n",
    "        self.assertSequenceEqual(a, b)\n",
    "    @unittest.skipUnless(1==0, \"unless 1 ==0\")\n",
    "    def test_seq_2(self):\n",
    "        a=[\"1\",\"2\",\"3\"]\n",
    "        b = (\"1\",\"2\",\"3\")\n",
    "        self.assertSequenceEqual(a, b)\n",
    "    @unittest.expectedFailure \n",
    "    def test_not_seq(self):\n",
    "        a = [\"1\",\"2\",\"3\"]\n",
    "        b = (\"1\",\"2\",\"3\",\"4\")\n",
    "        self.assertSequenceEqual(a, b)\n",
    "\n"
   ]
  },
  {
   "cell_type": "code",
   "execution_count": 27,
   "metadata": {
    "collapsed": false
   },
   "outputs": [
    {
     "name": "stdout",
     "output_type": "stream",
     "text": [
      "setUpModule\n",
      "setUpClass\n",
      "instance setUp\n",
      "t1\n",
      "instance tearDown\n",
      "instance setUp\n",
      "t2\n",
      "instance tearDown\n",
      "tearDownClass\n",
      "tearUpModule\n"
     ]
    },
    {
     "name": "stderr",
     "output_type": "stream",
     "text": [
      "test_almost_eq (test_assert_base.demoTest) ... ok\n",
      "test_eq (test_assert_base.demoTest) ... ok\n",
      "test_exc (test_assert_base.demoTest) ... ok\n",
      "test_not_almost_eq (test_assert_base.demoTest) ... FAIL\n",
      "test_not_eq (test_assert_base.demoTest) ... FAIL\n",
      "test_not_seq (test_assert_base.demoTest) ... FAIL\n",
      "test_seq (test_assert_base.demoTest) ... ok\n",
      "test_with_exc (test_assert_base.demoTest) ... ok\n",
      "test_eq (test_assert_skip.demoTest) ... skipped '跳过'\n",
      "test_not_eq (test_assert_skip.demoTest) ... expected failure\n",
      "test_not_seq (test_assert_skip.demoTest) ... expected failure\n",
      "test_seq (test_assert_skip.demoTest) ... ok\n",
      "test_seq_2 (test_assert_skip.demoTest) ... skipped 'unless 1 ==0'\n",
      "test_number_3_4 (test_hook.Test_mul) ... ok\n",
      "test_string_a_3 (test_hook.Test_mul) ... ok\n",
      "test_sum_mul_2_3_mul_2_3 (test_my.TestCase1) ... ok\n",
      "test_number_3_4 (test_my.Test_mul) ... ok\n",
      "test_string_a_3 (test_my.Test_mul) ... ok\n",
      "test_number_3_4 (test_my.Test_sum) ... ok\n",
      "test_number_3_4_5 (test_my.Test_sum) ... ok\n",
      "\n",
      "======================================================================\n",
      "FAIL: test_not_almost_eq (test_assert_base.demoTest)\n",
      "----------------------------------------------------------------------\n",
      "Traceback (most recent call last):\n",
      "  File \"C:\\Users\\87\\Documents\\GitHub\\my\\TutorialForPython3.5plus\\ipynbs\\src\\C3\\test_assert_base.py\", line 23, in test_not_almost_eq\n",
      "    self.assertAlmostEqual(1.003, 1.004, places = 4)\n",
      "AssertionError: 1.003 != 1.004 within 4 places\n",
      "\n",
      "======================================================================\n",
      "FAIL: test_not_eq (test_assert_base.demoTest)\n",
      "----------------------------------------------------------------------\n",
      "Traceback (most recent call last):\n",
      "  File \"C:\\Users\\87\\Documents\\GitHub\\my\\TutorialForPython3.5plus\\ipynbs\\src\\C3\\test_assert_base.py\", line 7, in test_not_eq\n",
      "    self.assertNotEqual(5 * 2,10)\n",
      "AssertionError: 10 == 10\n",
      "\n",
      "======================================================================\n",
      "FAIL: test_not_seq (test_assert_base.demoTest)\n",
      "----------------------------------------------------------------------\n",
      "Traceback (most recent call last):\n",
      "  File \"C:\\Users\\87\\Documents\\GitHub\\my\\TutorialForPython3.5plus\\ipynbs\\src\\C3\\test_assert_base.py\", line 17, in test_not_seq\n",
      "    self.assertSequenceEqual(a, b)\n",
      "AssertionError: Sequences differ: ['1', '2', '3'] != ('1', '2', '3', '4')\n",
      "\n",
      "Second sequence contains 1 additional elements.\n",
      "First extra element 3:\n",
      "'4'\n",
      "\n",
      "- ['1', '2', '3']\n",
      "+ ('1', '2', '3', '4')\n",
      "\n",
      "----------------------------------------------------------------------\n",
      "Ran 20 tests in 0.009s\n",
      "\n",
      "FAILED (failures=3, skipped=2, expected failures=2)\n"
     ]
    }
   ],
   "source": [
    "!python -m unittest discover -v -s ./src/C3"
   ]
  },
  {
   "cell_type": "markdown",
   "metadata": {},
   "source": [
    "### 分组测试"
   ]
  },
  {
   "cell_type": "markdown",
   "metadata": {},
   "source": [
    "### 使用分测验区分测试迭代"
   ]
  },
  {
   "cell_type": "markdown",
   "metadata": {},
   "source": [
    "### mock测试"
   ]
  },
  {
   "cell_type": "code",
   "execution_count": 17,
   "metadata": {
    "collapsed": false
   },
   "outputs": [
    {
     "name": "stderr",
     "output_type": "stream",
     "text": [
      "'cat' 不是内部或外部命令，也不是可运行的程序\n",
      "或批处理文件。\n"
     ]
    }
   ],
   "source": []
  },
  {
   "cell_type": "code",
   "execution_count": null,
   "metadata": {
    "collapsed": true
   },
   "outputs": [],
   "source": []
  }
 ],
 "metadata": {
  "anaconda-cloud": {},
  "kernelspec": {
   "display_name": "Python 3",
   "language": "python",
   "name": "python3"
  },
  "language_info": {
   "codemirror_mode": {
    "name": "ipython",
    "version": 3
   },
   "file_extension": ".py",
   "mimetype": "text/x-python",
   "name": "python",
   "nbconvert_exporter": "python",
   "pygments_lexer": "ipython3",
   "version": "3.6.0"
  }
 },
 "nbformat": 4,
 "nbformat_minor": 2
}
