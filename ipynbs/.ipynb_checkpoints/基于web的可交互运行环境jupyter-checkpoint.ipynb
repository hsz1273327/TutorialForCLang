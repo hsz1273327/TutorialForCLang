{
 "cells": [
  {
   "cell_type": "markdown",
   "metadata": {},
   "source": [
    "# 基于web的可交互运行环境jupyter\n",
    "\n",
    "写了这么久还没介绍我写这些的平台,jupyter notebook\n",
    "\n",
    "Jupyter 是ipython notebook 脱离ipython项目后的一个独立项目.不同于notebook, Jupyter已经不再只是python的交互执行框架,\n",
    "而是致力于多语言通用的交互执行.\n",
    "\n",
    "在以前 notebook作为ipython的一个子项目就受到许多人的喜爱和追捧,当时就已经可以通过多种途径利用它执行其他非python语言.\n",
    "现在Jupyter 与ipython分家后,这一特性得到了更好的支持.\n",
    "\n",
    "现在的Jupyter只负责交互执行,而执行的是什么语言其实是由其执行核心--kernel 来实现的,而现在的ipython可以自带其执行python版本的python核心.\n",
    "\n",
    "本文也会顺带介绍几种支持Jupyter的优秀的语言.\n",
    "\n",
    "至于ipython部分会单独拉出来讲,毕竟很多很实用"
   ]
  },
  {
   "cell_type": "markdown",
   "metadata": {},
   "source": [
    "## Jupyter的安装:\n",
    "\n",
    "Jupyter 现在是独立安装.当然,你依然需要装有python 和 pip.\n",
    "\n",
    "\n",
    "    $pip install jupyter\n",
    "\n",
    "如果你用brew 安装的python3,那么自然的\n",
    "\n",
    "    $pip3 install jupyter\n",
    "\n",
    "## 运行\n",
    "\n",
    "    $jupyter notebook\n",
    "\n",
    "\n",
    "当然了,没有kernel是没法运行的"
   ]
  },
  {
   "cell_type": "markdown",
   "metadata": {},
   "source": [
    "## Jupyter支持的语言:\n",
    "\n",
    "在[这里](https://github.com/ipython/ipython/wiki/IPython-kernels-for-other-languages)你可以看到目前支持的语言.\n",
    "\n",
    "下面介绍几个比较值得安装的的kernel安装:\n",
    "\n",
    "本文中介绍的的kernel只在mac下测试安装成功,在linux下应当都能成功,但windows下未必.\n",
    "欢迎朋友们写下其他平台的经验,我看到也会进行修改,谢谢\n",
    "\n",
    "### 通用依赖\n",
    "几乎所有kernel都需要`zeromq`和`openssl`这两个库,他们都可以用brew安装\n",
    "\n",
    "brew install zeromq\n",
    "brew install openssl"
   ]
  },
  {
   "cell_type": "markdown",
   "metadata": {},
   "source": [
    "Jupyter 对于各个语言的支持其实都是通过所谓的核(kernel)来实现的,操作核的命令是`jupyter kernelspec <cmd>`\n",
    "\n",
    "和常规一样,\n",
    "\n",
    "+ list 查看已有核的状态\n",
    "+ install 安装一个核,不过一般来说这些核都不是用这个方法装的\n",
    "+ remove/uninstall 移除一个核 \n"
   ]
  },
  {
   "cell_type": "markdown",
   "metadata": {},
   "source": [
    "### python2与python3并存\n",
    "\n",
    "#### 安装依赖\n",
    "\n",
    "python的kernel自然依赖于python.\n",
    "\n",
    "对于新手来说python2和python3并存本身就是件比较纠结蛋碎的事儿,mac下一般会用homebrew安装两个版本\n",
    "(当然也会有人安装其他比如pypy之类,那个咱不管)\n",
    "\n",
    "    $brew install python\n",
    "    $brew install python3\n",
    "\n",
    "\n",
    "如果是这样安装,那python python2 python3对应的便是不同版本的python如下表(可能版本不同有些许不同)\n",
    "\n",
    "命令|python来源|pip命令|库位置\n",
    "---|---|---|---\n",
    "python|brew 安装的 python|pip|/usr/local/lib/python2.7/site-packages\n",
    "python2|brew 安装的 python|pip|/usr/local/lib/python2.7/site-packages\n",
    "python3|brew 安装的 python3|pip3|/usr/local/lib/python3.4/site-packages\n",
    "\n",
    "\n",
    "#### 安装kernel\n",
    "\n",
    "**分别安装ipython,在各自环境下执行**\n",
    "\n",
    "    $pip install ipython[all]\n",
    "    $ipython kernelspec install-self\n",
    "    $pip3 install ipython[all]\n",
    "    $ipython kernelspec install-self\n",
    "\n",
    "#### 测试下\n",
    "\n",
    "打开Jupyter:\n",
    "\n",
    "    jupyter notebook\n",
    "\n",
    "可以在*new*看到里面出现*Python 2*和*Python 3*两个可选项\n"
   ]
  },
  {
   "cell_type": "markdown",
   "metadata": {},
   "source": [
    "### pypy\n",
    "\n",
    "事实上jupyter并没有专门的pypy核心,但其实要用pypy比其他的都简单,我们通过`ipython kernelspec list`找到自己原本的python核所在的目录,进去这个目录找到核文件夹,我们把它复制一份改名叫`pypy`,然后在pypy环境中pip安装jupyter,这样原本的python的核就会被替换掉,我们只要给这俩核的文件夹名和其中的`kernel.json`中的display_name对掉下就好了"
   ]
  },
  {
   "cell_type": "markdown",
   "metadata": {},
   "source": [
    "### Golang\n",
    "\n",
    "Go语言是谷歌几年前推出的一门编译型语言,它以简洁优雅高,高开发效率,高可维护性和善于处理高并发而著称\n",
    "Go有一套完善的开发流程和语言规范,目前这个kernel还有许多不支持的地方,因此只是安装着而已,没有实际作用\n",
    "\n",
    "#### 安装依赖\n",
    "\n",
    "+ go语言:\n",
    "\n",
    "go语言只要用homebrew安装即可\n",
    "\n",
    "    $brew install go\n",
    "\n",
    "安装好后要在`~/.bash_profile`内添加以下语句(中你的go项目位置)后resource下激活或者重启计算机\n",
    "\n",
    "    export GOPATH=你的go项目位置#GOPATH可以有多个,用:隔开,其中第一个回存放 go get 命令下载的库文件会放在第一个位置上\n",
    "    \n",
    "如果你希望你的\n",
    "    export PATH=${GOPATH//://bin:}/bin:$PATH\n",
    "\n",
    "\n",
    "+ gophernotes\n",
    "\n",
    "这是一个go语言的解释器,可以写一句执行一句,它也自带一个交互命令行工具\n",
    "\n",
    "安装:\n",
    "\n",
    "首先它依赖go的一个包叫做goimports,安装的话墙外很简单\n",
    "\n",
    "    $ go get golang.org/x/tools/cmd/goimports\n",
    "    \n",
    "但墙外我们就得用[这个](http://www.golangtc.com/download/package)\n",
    "\n",
    "它的安装默认是依赖zmq2.2.x,但我想大多数人都装的是zmq4.x吧,所以只要这么安装\n",
    "\n",
    "\n",
    "    $ go get -tags zmq_4_x github.com/gophergala2016/gophernotes\n",
    "    \n",
    "\n",
    "#### 安装kernel\n",
    "\n",
    "    $mkdir -p ~/.ipython/kernels/gophernotes\n",
    "    \n",
    "然后去你的第一个GOPATH下找到/src/github.com/takluyver/igo/kernel/文件夹,之后复制进.ipython/kernels/gophernotes\n",
    "\n",
    "\n",
    "之后修改其中的`kernel.json`,将其中的`$GOPATH`替换成自己的的gopath\n",
    "\n",
    "\n",
    "#### 测试下\n",
    "\n",
    "切换Kernel到Golang 1.5\n"
   ]
  },
  {
   "cell_type": "code",
   "execution_count": 1,
   "metadata": {},
   "outputs": [],
   "source": [
    ":import \"fmt\""
   ]
  },
  {
   "cell_type": "code",
   "execution_count": 2,
   "metadata": {},
   "outputs": [
    {
     "data": {
      "text/plain": [
       "\"world\"\n"
      ]
     },
     "execution_count": 2,
     "metadata": {},
     "output_type": "execute_result"
    }
   ],
   "source": [
    "word := \"world\""
   ]
  },
  {
   "cell_type": "code",
   "execution_count": 3,
   "metadata": {},
   "outputs": [
    {
     "data": {
      "text/plain": [
       "\"hello world\"\n"
      ]
     },
     "execution_count": 3,
     "metadata": {},
     "output_type": "execute_result"
    }
   ],
   "source": [
    "fmt.Sprintf(\"hello %s\",word)"
   ]
  },
  {
   "cell_type": "markdown",
   "metadata": {},
   "source": [
    "> channels"
   ]
  },
  {
   "cell_type": "code",
   "execution_count": 4,
   "metadata": {},
   "outputs": [
    {
     "data": {
      "text/plain": [
       "(chan string)(0xc820072060)\n"
      ]
     },
     "execution_count": 4,
     "metadata": {},
     "output_type": "execute_result"
    }
   ],
   "source": [
    "msg := make(chan string)"
   ]
  },
  {
   "cell_type": "code",
   "execution_count": 5,
   "metadata": {},
   "outputs": [],
   "source": [
    "go func() {msg <- \"ping\"}()"
   ]
  },
  {
   "cell_type": "code",
   "execution_count": 6,
   "metadata": {},
   "outputs": [
    {
     "data": {
      "text/plain": [
       "\"ping\"\n"
      ]
     },
     "execution_count": 6,
     "metadata": {},
     "output_type": "execute_result"
    }
   ],
   "source": [
    "message := <- msg"
   ]
  },
  {
   "cell_type": "markdown",
   "metadata": {},
   "source": [
    "> 例子"
   ]
  },
  {
   "cell_type": "code",
   "execution_count": 7,
   "metadata": {
    "collapsed": true
   },
   "outputs": [],
   "source": [
    ":import \"fmt\""
   ]
  },
  {
   "cell_type": "code",
   "execution_count": 8,
   "metadata": {},
   "outputs": [
    {
     "data": {
      "text/plain": [
       "11\n",
       "<nil>\n"
      ]
     },
     "execution_count": 8,
     "metadata": {},
     "output_type": "execute_result"
    }
   ],
   "source": [
    "fmt.Print(\"1\")"
   ]
  },
  {
   "cell_type": "markdown",
   "metadata": {},
   "source": [
    "go语言可以看[这篇](https://github.com/astaxie/build-web-application-with-golang/tree/master/zh)来学习"
   ]
  },
  {
   "cell_type": "markdown",
   "metadata": {},
   "source": [
    "### Javascript(node.js)\n",
    "\n",
    "#### 安装依赖\n",
    "\n",
    "+ node.js\n",
    "\n",
    "    $ brew install node\n",
    "\n",
    "\n",
    "\n",
    "### 安装kernel\n",
    "\n",
    "    $ sudo npm install -g ijavascript\n",
    "    $ sudo npm install -g --save-dev babel-preset-es2015\n",
    "    \n",
    "    \n",
    "    \n",
    "### 配套设施--balel\n",
    "\n",
    "babel是一个将ES6标准的js代码转换为可在浏览器中运行的ES5代码的工具.我们可以安装ibabel来使用它\n",
    "\n",
    "    $ sudo npm install -g jp-babel@0.0.6\n",
    "    \n",
    "注意要用老版本,因为新版的babel有bug\n",
    "\n",
    "#### 测试下\n",
    "切换Kernel到JavaScript(Node.js)"
   ]
  },
  {
   "cell_type": "code",
   "execution_count": 1,
   "metadata": {},
   "outputs": [
    {
     "data": {
      "text/plain": [
       "'wangwang'"
      ]
     },
     "execution_count": 1,
     "metadata": {},
     "output_type": "execute_result"
    }
   ],
   "source": [
    "var Animal = {\n",
    "    createNew: function(){\n",
    "        var animal = {}\n",
    "        animal.sleep = function(){\n",
    "          return \"Zzzzz\"\n",
    "        }\n",
    "        return animal\n",
    "      }\n",
    "}\n",
    "\n",
    "var Dog = {\n",
    "    createNew: function(name){\n",
    "        var dog = Animal.createNew()//继承\n",
    "        dog.name = name\n",
    "        dog.makeSound = function(){\n",
    "            return \"wangwang\"\n",
    "        }\n",
    "        return dog\n",
    "    }\n",
    "}\n",
    "a=Dog.createNew(\"doggy\")\n",
    "a.makeSound()"
   ]
  },
  {
   "cell_type": "markdown",
   "metadata": {},
   "source": [
    "### R\n",
    "\n",
    "似乎是很受数据科学家由其统计出身的人欢迎的一种语言.但是语法别扭,个人不喜欢,但是还是得学习\n",
    "\n",
    "#### 安装依赖\n",
    "\n",
    "+ R\n",
    "\n",
    "[下载新版(3.22)R语言安装包](http://mirror.bjtu.edu.cn/cran/bin/macosx/R-3.2.2.pkg)\n",
    "\n",
    "然后双击安装\n",
    "\n",
    "#### 安装kernel\n",
    "\n",
    "    install.packages(c('rzmq','repr','IRkernel','IRdisplay'),\n",
    "                     repos = c('http://irkernel.github.io/', getOption('repos')))\n",
    "    IRkernel::installspec()\n",
    "\n",
    "\n",
    "#### 测试下\n",
    "\n",
    "写个身高的简单统计计算吧:\n",
    "\n",
    "先安装`sca`包:\n",
    "\n",
    "    > install.packages(\"sca\")\n",
    "\n",
    "切换Kernel到R:"
   ]
  },
  {
   "cell_type": "code",
   "execution_count": 2,
   "metadata": {},
   "outputs": [
    {
     "name": "stdout",
     "output_type": "stream",
     "text": [
      "  height weight age\n",
      "1   1.75     69  19\n",
      "2   1.82     80  21\n",
      "3   1.78     78  20\n",
      "4   1.93     96  26\n",
      "5   1.77     65  17\n",
      "身高和: 9.05 \n",
      "分布:\n",
      "19 % 20 % 20 % 21 % 20 % \n",
      "身高均值 1.81 \n",
      "体重和: 388 \n",
      "分布:\n",
      "18 % 21 % 20 % 25 % 17 % \n",
      "体重均值 77.6 \n"
     ]
    }
   ],
   "source": [
    "library(sca)\n",
    "height=c(1.75,1.82,1.78,1.93,1.77)\n",
    "weight=c(69,80,78,96,65)\n",
    "age=c(19,21,20,26,17)\n",
    "group_A=data.frame(height,weight,age)\n",
    "print(group_A)\n",
    "\n",
    "sum_h=sum(group_A$height)#身高求和\n",
    "cat(\"身高和:\",sum_h,\"\\n\")\n",
    "cat(\"分布:\\n\")\n",
    "cat(percent(group_A$height/sum_h),\"\\n\")\n",
    "cat(\"身高均值\",mean(group_A$height),\"\\n\")\n",
    "sum_w=sum(group_A$weight)#体重求和\n",
    "cat(\"体重和:\",sum_w,\"\\n\")\n",
    "cat(\"分布:\\n\")\n",
    "cat(percent(group_A$weight/sum_w),\"\\n\")\n",
    "cat(\"体重均值\",mean(group_A$weight),\"\\n\")"
   ]
  },
  {
   "cell_type": "markdown",
   "metadata": {},
   "source": [
    "### Scala\n",
    "\n",
    "Scala应该是后起语言中的新星了,同时支持面向对象编程和函数式编程的特性让它分外耀眼,而拥有类型推断又让它显得十分简洁优雅.\n",
    "它与Java间的联系又让它因为有衬托对比而显得格外讨喜.\n",
    "\n",
    "#### 安装依赖\n",
    "自然要安装scala了\n",
    "\n",
    "    brew install scala\n",
    "\n",
    "留意安装的是什么版本\n",
    "\n",
    "#### 安装kernel\n",
    "虽然列表中推荐的是iscala 但还有一个更加简单的方式--[jupyter-scala](https://github.com/alexarchambault/jupyter-scala)**\n",
    "\n",
    "这个方法就是简单无脑的下载下来然后运行脚本\n",
    "\n",
    "+ 2.10版本的scala[下载这个](https://oss.sonatype.org/content/repositories/snapshots/com/github/alexarchambault/jupyter/jupyter-scala-cli_2.10.5/0.2.0-SNAPSHOT/jupyter-scala_2.10.5-0.2.0-SNAPSHOT.zip)\n",
    "2.11版本的[下载这个](https://oss.sonatype.org/content/repositories/snapshots/com/github/alexarchambault/jupyter/jupyter-scala-cli_2.11.6/0.2.0-SNAPSHOT/jupyter-scala_2.11.6-0.2.0-SNAPSHOT.zip)\n",
    "\n",
    "+ 解压到一个安全的位置然后运行其中`bin`文件夹下的的`jupyter-scala`脚本自动完成安装\n",
    "\n",
    "+ 用\n",
    "\n",
    "    $ipython kernelspec list\n",
    "\n",
    "查看是否有`scala211`或者`scala210`这样的输出,有的话之后运行\n",
    "\n",
    "    $ipython console --kernel scala211\n",
    "\n",
    "这样再用jupyter notebook进入就能找到Scala 2.11了\n",
    "\n",
    "当然这样如果以后scala升级了那就无法使用最新版本了,解决方法就是自己本地编译\n",
    "\n",
    "\n",
    "\n",
    "#### 测试下\n",
    "\n",
    "写个简单的尾递归求阶乘\n",
    "\n",
    "切换Kernel到Scala 2.11\n"
   ]
  },
  {
   "cell_type": "code",
   "execution_count": 1,
   "metadata": {},
   "outputs": [
    {
     "data": {
      "text/plain": [
       "defined \u001b[32mfunction \u001b[36mfactorial\u001b[0m"
      ]
     },
     "metadata": {},
     "output_type": "display_data"
    }
   ],
   "source": [
    "def factorial(n:Int):Int = {\n",
    "    if(n >0) n * factorial(n-1) else 1\n",
    "}"
   ]
  },
  {
   "cell_type": "code",
   "execution_count": 2,
   "metadata": {},
   "outputs": [
    {
     "data": {
      "text/plain": [
       "\u001b[36mres1\u001b[0m: \u001b[32mInt\u001b[0m = \u001b[32m120\u001b[0m"
      ]
     },
     "metadata": {},
     "output_type": "display_data"
    }
   ],
   "source": [
    "factorial(5)"
   ]
  },
  {
   "cell_type": "markdown",
   "metadata": {},
   "source": [
    "学习scala可以去[这里](http://twitter.github.io/scala_school/zh_cn/)"
   ]
  },
  {
   "cell_type": "markdown",
   "metadata": {},
   "source": [
    "### Spark\n",
    "\n",
    "#### 安装依赖\n",
    "\n",
    "+ Spark\n",
    "\n",
    "这个不必多介绍,大数据的主流工具之一,安装可以看我[以前的帖子]()\n",
    "\n",
    "\n",
    "\n",
    "#### 安装kernel\n",
    "\n",
    "+ [github上下载源文件](https://github.com/ibm-et/spark-kernel)\n",
    "\n",
    "+ cd 进入源文件根目录,然后\n",
    "\n",
    "      $sbt compile\n",
    "\n",
    "      $sbt pack\n",
    "\n",
    "+ 编译好后执行\n",
    "\n",
    "      $(cd kernel/target/pack && make install)\n",
    "\n",
    "+ 之后你的`home`文件夹下会多出一个`/local`的文件夹,其中`kernel`文件夹存放jar文件\n",
    "`bin/sparkkernel`是启动脚本\n",
    "\n",
    "+ 如果都成功了,那么运行\n",
    "\n",
    "    ~/local/bin/sparkkernel\n",
    "\n",
    "应该可以看到kernel运行了\n",
    "\n",
    "+ 与jupyter链接\n",
    "\n",
    "    cd ~/.ipython/kernels/\n",
    "    mkdir spark\n",
    "    touch spark/kernel.json\n",
    "\n",
    "改写`kernel.json`为\n",
    "\n",
    "    {\n",
    "    \"display_name\": \"Spark 1.2.1 (Scala 2.10.4)\",\n",
    "    \"language\": \"scala\",\n",
    "    \"argv\": [\n",
    "        \"<absolute>/<path>/<to>/local/bin/sparkkernel\",\n",
    "        \"--profile\",\n",
    "        \"{connection_file}\"\n",
    "     ],\n",
    "     \"codemirror_mode\": \"scala\"\n",
    "    }\n",
    "\n",
    "这样就可以用本地模式测试代码了"
   ]
  },
  {
   "cell_type": "markdown",
   "metadata": {},
   "source": [
    "#### 测试下\n",
    "切换Kernel到Spark1.6.0\n",
    "##### 写一个用mapreduce求pi的函数:\n"
   ]
  },
  {
   "cell_type": "code",
   "execution_count": 2,
   "metadata": {},
   "outputs": [
    {
     "name": "stdout",
     "output_type": "stream",
     "text": [
      "Pi is roughly 3.132\n"
     ]
    }
   ],
   "source": [
    "val NUM_SAMPLES = 10000\n",
    "val count = sc.parallelize(1 to NUM_SAMPLES).map{i =>\n",
    "    val x = Math.random()\n",
    "    val y = Math.random()\n",
    "    if (x*x + y*y < 1) 1 else 0\n",
    "}.reduce(_ + _)\n",
    "println(\"Pi is roughly \" + 4.0 * count / NUM_SAMPLES)"
   ]
  },
  {
   "cell_type": "markdown",
   "metadata": {},
   "source": [
    "##### 写个简单的线性回归:\n",
    "\n",
    "将[数据](https://github.com/apache/spark/blob/master/data/mllib/ridge-data/lpsa.data)下载到同级目录\n"
   ]
  },
  {
   "cell_type": "code",
   "execution_count": 12,
   "metadata": {},
   "outputs": [
    {
     "name": "stdout",
     "output_type": "stream",
     "text": [
      "training Mean Squared Error = 6.207597210613578\n"
     ]
    }
   ],
   "source": [
    "import org.apache.spark.mllib.regression.LabeledPoint\n",
    "import org.apache.spark.mllib.regression.LinearRegressionModel\n",
    "import org.apache.spark.mllib.regression.LinearRegressionWithSGD\n",
    "import org.apache.spark.mllib.linalg.Vectors\n",
    "val data = sc.textFile(\"source/lpsa.data\")\n",
    "val parsedData = data.map { line =>\n",
    "    val parts = line.split(',')\n",
    "    LabeledPoint(parts(0).toDouble, Vectors.dense(parts(1).split(' ').map(_.toDouble)))\n",
    "}.cache()\n",
    "val numIterations = 100\n",
    "val model = LinearRegressionWithSGD.train(parsedData, numIterations)\n",
    "// Evaluate model on training examples and compute training error\n",
    "val valuesAndPreds = parsedData.map { point =>\n",
    "    val prediction = model.predict(point.features)\n",
    "    (point.label, prediction)\n",
    "}\n",
    "val MSE = valuesAndPreds.map{case(v, p) => math.pow((v - p), 2)}.mean()\n",
    "println(\"training Mean Squared Error = \" + MSE)\n",
    "\n",
    "// Save and load model\n",
    "model.save(sc, \"myModelPath\")\n",
    "val sameModel = LinearRegressionModel.load(sc, \"myModelPath\")"
   ]
  },
  {
   "cell_type": "markdown",
   "metadata": {},
   "source": [
    "学习spark可以参考[官方文档](http://spark.apache.org/)"
   ]
  },
  {
   "cell_type": "markdown",
   "metadata": {},
   "source": [
    "### Itorch(lua)\n",
    "\n",
    "Itorch这是一个lua的机器学习框架,用的虽然不多但既然是学这个的又蛮喜欢lua那就一并写上吧\n",
    "\n",
    "#### 安装依赖\n",
    "\n",
    "+ Torch\n",
    "\n",
    "**安装:**\n",
    "\n",
    "    curl -s https://raw.githubusercontent.com/torch/ezinstall/master/install-deps | bash\n",
    "    git clone https://github.com/torch/distro.git ~/torch --recursive\n",
    "    cd ~/torch; ./install.sh\n",
    "\n",
    "这样就可以安装torch到`~/torch`下了\n",
    "\n",
    "然后在`.bash_profile`中写入\n",
    "\n",
    "    . /Users/huangsizhe/torch/install/bin/torch-activate\n",
    "\n",
    "这样就可以使用torch了\n",
    "\n",
    "**打开torch的交互shell:**\n",
    "\n",
    "    $th\n",
    "\n",
    "#### 安装kernel\n",
    "\n",
    "    git clone https://github.com/facebook/iTorch.git\n",
    "    cd iTorch\n",
    "    luarocks make\n",
    "\n",
    "\n",
    "#### 测试下\n",
    "\n",
    "切换Kernel到iTorch:\n"
   ]
  },
  {
   "cell_type": "code",
   "execution_count": 4,
   "metadata": {},
   "outputs": [],
   "source": [
    "function fib(n)\n",
    "    if n < 2 then return 1 end\n",
    "    return fib(n - 2) + fib(n - 1)\n",
    "end"
   ]
  },
  {
   "cell_type": "code",
   "execution_count": 5,
   "metadata": {},
   "outputs": [
    {
     "data": {
      "text/plain": [
       "10946\t\n"
      ]
     },
     "execution_count": 5,
     "metadata": {},
     "output_type": "execute_result"
    }
   ],
   "source": [
    "fib(20)"
   ]
  },
  {
   "cell_type": "markdown",
   "metadata": {},
   "source": [
    "更多的[lua](http://www.yiibai.com/lua/)和[torch](http://torch.ch/docs/getting-started.html#_)教程可以点击对应链接查看"
   ]
  },
  {
   "cell_type": "markdown",
   "metadata": {},
   "source": []
  },
  {
   "cell_type": "markdown",
   "metadata": {},
   "source": [
    "### C/C++\n",
    "\n",
    "想象下C++这种竟然可以依靠强大的LLVM和Clang实现脚本化,是不是很激动~~\n",
    "\n",
    "#### 安装依赖\n",
    "\n",
    "cling[从这里下载](https://ecsft.cern.ch/dist/cling/current/)对应版本的安装包,解压到希望的位置即可\n",
    "设定一下环境变量`CLING_EXE=你的cling安装目录下cling的具体位置`\n",
    "\n",
    "#### 安装\n",
    "\n",
    "下载<https://github.com/minrk/clingkernel>,cd进去后\n",
    "\n",
    "    python setup.py install\n",
    "\n",
    "安装成功后执行\n",
    "\n",
    "    jupyter kernelspec install cling\n",
    "\n",
    "#### 测试下\n",
    "切换Kernel到C++:"
   ]
  },
  {
   "cell_type": "code",
   "execution_count": 1,
   "metadata": {},
   "outputs": [
    {
     "name": "stdout",
     "output_type": "stream",
     "text": [
      "Hello World!\r\n",
      "(int) 13\r\n"
     ]
    }
   ],
   "source": [
    "#include <stdio.h>\n",
    "printf(\"Hello World!\\n\")"
   ]
  },
  {
   "cell_type": "code",
   "execution_count": 2,
   "metadata": {},
   "outputs": [
    {
     "name": "stdout",
     "output_type": "stream",
     "text": [
      "\r\n"
     ]
    }
   ],
   "source": [
    ".rawInput\n",
    "void test() {//方法\n",
    "    printf(\"just a test\");\n",
    "}\n",
    ".rawInput\n"
   ]
  },
  {
   "cell_type": "code",
   "execution_count": 3,
   "metadata": {},
   "outputs": [
    {
     "name": "stdout",
     "output_type": "stream",
     "text": [
      "just a test"
     ]
    }
   ],
   "source": [
    "test()"
   ]
  },
  {
   "cell_type": "code",
   "execution_count": 4,
   "metadata": {},
   "outputs": [
    {
     "name": "stdout",
     "output_type": "stream",
     "text": []
    }
   ],
   "source": [
    "auto func = [](int a, int b) -> int { return a+b; };//c++11中的匿名函数"
   ]
  },
  {
   "cell_type": "code",
   "execution_count": 5,
   "metadata": {},
   "outputs": [
    {
     "name": "stdout",
     "output_type": "stream",
     "text": [
      "(int) 5\r\n"
     ]
    }
   ],
   "source": [
    "func(2, 3)"
   ]
  },
  {
   "cell_type": "code",
   "execution_count": 6,
   "metadata": {},
   "outputs": [
    {
     "name": "stdout",
     "output_type": "stream",
     "text": []
    }
   ],
   "source": [
    ".rawInput\n",
    "class Rectangle {//类\n",
    "    private:\n",
    "    double w;\n",
    "    double h;\n",
    "\n",
    "    public:\n",
    "\n",
    "    Rectangle(double w_, double h_) {\n",
    "        w = w_;\n",
    "        h = h_;\n",
    "    }\n",
    "    double area(void) {\n",
    "        return w * h;\n",
    "    }\n",
    "    double perimiter(void) {\n",
    "        return 2 * (w + h);\n",
    "    }\n",
    "};\n",
    ".rawInput"
   ]
  },
  {
   "cell_type": "code",
   "execution_count": 7,
   "metadata": {},
   "outputs": [
    {
     "name": "stdout",
     "output_type": "stream",
     "text": [
      "(double) 20.0000\r\n"
     ]
    }
   ],
   "source": [
    "Rectangle r = Rectangle(5, 4);\n",
    "r.area()"
   ]
  },
  {
   "cell_type": "markdown",
   "metadata": {},
   "source": [
    "### scheme\n",
    "\n",
    "安装这个是为了学<计算机程序的构造和解释>这本书,作为Lisp的方言,scheme确实不简单.我安装的是基于ipython的`calysto_scheme`\n",
    "\n",
    "#### 安装\n",
    "\n",
    "再github上下载<https://github.com/Calysto/calysto_scheme>然后只要cd到目录\n",
    "\n",
    "    python3 setup.py install\n",
    "\n",
    "#### 测试\n",
    "\n",
    "求斐波那契数列"
   ]
  },
  {
   "cell_type": "code",
   "execution_count": 9,
   "metadata": {},
   "outputs": [
    {
     "data": {
      "text/plain": [
       "3628800"
      ]
     },
     "execution_count": 9,
     "metadata": {},
     "output_type": "execute_result"
    }
   ],
   "source": [
    "(begin\n",
    " (define (factorial n)\n",
    "  (define (iter product counter)\n",
    "    (if (> counter n)\n",
    "        product\n",
    "        (iter (* counter product)\n",
    "              (+ counter 1))))\n",
    "  (iter 1 1))\n",
    " (factorial 10)\n",
    " )"
   ]
  },
  {
   "cell_type": "code",
   "execution_count": 4,
   "metadata": {},
   "outputs": [
    {
     "data": {
      "text/plain": [
       "8"
      ]
     },
     "execution_count": 4,
     "metadata": {},
     "output_type": "execute_result"
    }
   ],
   "source": [
    "(begin\n",
    "  (define fib\n",
    "    (lambda (n)\n",
    "      (cond\n",
    "        ((= n 0) 1)\n",
    "        ((= n 1) 1)\n",
    "        (else(+ (fib (- n 1))\n",
    "                 (fib (- n 2))\n",
    "               )\n",
    "         )\n",
    "       )\n",
    "     )    \n",
    "   )\n",
    "   (fib 5)\n",
    " )"
   ]
  },
  {
   "cell_type": "markdown",
   "metadata": {},
   "source": [
    "### haskell\n",
    "\n",
    "传说中的语言,想了解的可以看一本[萌系的书](http://learnyoua.haskell.sg/)\n",
    "\n",
    "通过它学习函数式编程几乎是业界共识吧(笑)"
   ]
  },
  {
   "cell_type": "markdown",
   "metadata": {},
   "source": [
    "#### 安装\n",
    "\n",
    "ihaskell只能在类unix系统上安装,安装也简单,mac下直接\n",
    "\n",
    "    git clone http://www.github.com/gibiansky/IHaskell\n",
    "    cd IHaskell\n",
    "    ./macos-install.sh\n",
    "\n",
    "然后等就行了"
   ]
  },
  {
   "cell_type": "markdown",
   "metadata": {},
   "source": [
    "#### 测试下:\n",
    "\n",
    "Kernel切换到haskell:"
   ]
  },
  {
   "cell_type": "code",
   "execution_count": 2,
   "metadata": {},
   "outputs": [],
   "source": [
    "import IHaskell.Display\n",
    "data Color = Red | Green | Blue\n",
    "instance IHaskellDisplay Color where\n",
    "  display color = return $ Display [html code]\n",
    "    where\n",
    "      code = concat [\"<div style='font-weight: bold; color:\"\n",
    "                    , css color\n",
    "                    , \"'>Look!</div>\"]\n",
    "      css Red   = \"red\"\n",
    "      css Blue  = \"blue\"\n",
    "      css Green = \"green\""
   ]
  },
  {
   "cell_type": "code",
   "execution_count": 3,
   "metadata": {},
   "outputs": [
    {
     "data": {
      "text/html": [
       "<style>/*\n",
       "Custom IHaskell CSS.\n",
       "*/\n",
       "\n",
       "/* Styles used for the Hoogle display in the pager */\n",
       ".hoogle-doc {\n",
       "    display: block;\n",
       "    padding-bottom: 1.3em;\n",
       "    padding-left: 0.4em;\n",
       "}\n",
       ".hoogle-code {\n",
       "    display: block;\n",
       "    font-family: monospace;\n",
       "    white-space: pre;\n",
       "}\n",
       ".hoogle-text {\n",
       "    display: block;\n",
       "}\n",
       ".hoogle-name {\n",
       "    color: green;\n",
       "    font-weight: bold;\n",
       "}\n",
       ".hoogle-head {\n",
       "    font-weight: bold;\n",
       "}\n",
       ".hoogle-sub {\n",
       "    display: block;\n",
       "    margin-left: 0.4em;\n",
       "}\n",
       ".hoogle-package {\n",
       "    font-weight: bold;\n",
       "    font-style: italic;\n",
       "}\n",
       ".hoogle-module {\n",
       "    font-weight: bold;\n",
       "}\n",
       ".hoogle-class {\n",
       "    font-weight: bold;\n",
       "}\n",
       "\n",
       "/* Styles used for basic displays */\n",
       ".get-type {\n",
       "    color: green;\n",
       "    font-weight: bold;\n",
       "    font-family: monospace;\n",
       "    display: block;\n",
       "    white-space: pre-wrap;\n",
       "}\n",
       "\n",
       ".show-type {\n",
       "    color: green;\n",
       "    font-weight: bold;\n",
       "    font-family: monospace;\n",
       "    margin-left: 1em;\n",
       "}\n",
       "\n",
       ".mono {\n",
       "    font-family: monospace;\n",
       "    display: block;\n",
       "}\n",
       "\n",
       ".err-msg {\n",
       "    color: red;\n",
       "    font-style: italic;\n",
       "    font-family: monospace;\n",
       "    white-space: pre;\n",
       "    display: block;\n",
       "}\n",
       "\n",
       "#unshowable {\n",
       "    color: red;\n",
       "    font-weight: bold;\n",
       "}\n",
       "\n",
       ".err-msg.in.collapse {\n",
       "  padding-top: 0.7em;\n",
       "}\n",
       "\n",
       "/* Code that will get highlighted before it is highlighted */\n",
       ".highlight-code {\n",
       "    white-space: pre;\n",
       "    font-family: monospace;\n",
       "}\n",
       "\n",
       "/* Hlint styles */\n",
       ".suggestion-warning { \n",
       "    font-weight: bold;\n",
       "    color: rgb(200, 130, 0);\n",
       "}\n",
       ".suggestion-error { \n",
       "    font-weight: bold;\n",
       "    color: red;\n",
       "}\n",
       ".suggestion-name {\n",
       "    font-weight: bold;\n",
       "}\n",
       "</style><div style='font-weight: bold; color:red'>Look!</div>"
      ]
     },
     "metadata": {},
     "output_type": "display_data"
    },
    {
     "data": {
      "text/html": [
       "<style>/*\n",
       "Custom IHaskell CSS.\n",
       "*/\n",
       "\n",
       "/* Styles used for the Hoogle display in the pager */\n",
       ".hoogle-doc {\n",
       "    display: block;\n",
       "    padding-bottom: 1.3em;\n",
       "    padding-left: 0.4em;\n",
       "}\n",
       ".hoogle-code {\n",
       "    display: block;\n",
       "    font-family: monospace;\n",
       "    white-space: pre;\n",
       "}\n",
       ".hoogle-text {\n",
       "    display: block;\n",
       "}\n",
       ".hoogle-name {\n",
       "    color: green;\n",
       "    font-weight: bold;\n",
       "}\n",
       ".hoogle-head {\n",
       "    font-weight: bold;\n",
       "}\n",
       ".hoogle-sub {\n",
       "    display: block;\n",
       "    margin-left: 0.4em;\n",
       "}\n",
       ".hoogle-package {\n",
       "    font-weight: bold;\n",
       "    font-style: italic;\n",
       "}\n",
       ".hoogle-module {\n",
       "    font-weight: bold;\n",
       "}\n",
       ".hoogle-class {\n",
       "    font-weight: bold;\n",
       "}\n",
       "\n",
       "/* Styles used for basic displays */\n",
       ".get-type {\n",
       "    color: green;\n",
       "    font-weight: bold;\n",
       "    font-family: monospace;\n",
       "    display: block;\n",
       "    white-space: pre-wrap;\n",
       "}\n",
       "\n",
       ".show-type {\n",
       "    color: green;\n",
       "    font-weight: bold;\n",
       "    font-family: monospace;\n",
       "    margin-left: 1em;\n",
       "}\n",
       "\n",
       ".mono {\n",
       "    font-family: monospace;\n",
       "    display: block;\n",
       "}\n",
       "\n",
       ".err-msg {\n",
       "    color: red;\n",
       "    font-style: italic;\n",
       "    font-family: monospace;\n",
       "    white-space: pre;\n",
       "    display: block;\n",
       "}\n",
       "\n",
       "#unshowable {\n",
       "    color: red;\n",
       "    font-weight: bold;\n",
       "}\n",
       "\n",
       ".err-msg.in.collapse {\n",
       "  padding-top: 0.7em;\n",
       "}\n",
       "\n",
       "/* Code that will get highlighted before it is highlighted */\n",
       ".highlight-code {\n",
       "    white-space: pre;\n",
       "    font-family: monospace;\n",
       "}\n",
       "\n",
       "/* Hlint styles */\n",
       ".suggestion-warning { \n",
       "    font-weight: bold;\n",
       "    color: rgb(200, 130, 0);\n",
       "}\n",
       ".suggestion-error { \n",
       "    font-weight: bold;\n",
       "    color: red;\n",
       "}\n",
       ".suggestion-name {\n",
       "    font-weight: bold;\n",
       "}\n",
       "</style><div style='font-weight: bold; color:green'>Look!</div>"
      ]
     },
     "metadata": {},
     "output_type": "display_data"
    },
    {
     "data": {
      "text/html": [
       "<style>/*\n",
       "Custom IHaskell CSS.\n",
       "*/\n",
       "\n",
       "/* Styles used for the Hoogle display in the pager */\n",
       ".hoogle-doc {\n",
       "    display: block;\n",
       "    padding-bottom: 1.3em;\n",
       "    padding-left: 0.4em;\n",
       "}\n",
       ".hoogle-code {\n",
       "    display: block;\n",
       "    font-family: monospace;\n",
       "    white-space: pre;\n",
       "}\n",
       ".hoogle-text {\n",
       "    display: block;\n",
       "}\n",
       ".hoogle-name {\n",
       "    color: green;\n",
       "    font-weight: bold;\n",
       "}\n",
       ".hoogle-head {\n",
       "    font-weight: bold;\n",
       "}\n",
       ".hoogle-sub {\n",
       "    display: block;\n",
       "    margin-left: 0.4em;\n",
       "}\n",
       ".hoogle-package {\n",
       "    font-weight: bold;\n",
       "    font-style: italic;\n",
       "}\n",
       ".hoogle-module {\n",
       "    font-weight: bold;\n",
       "}\n",
       ".hoogle-class {\n",
       "    font-weight: bold;\n",
       "}\n",
       "\n",
       "/* Styles used for basic displays */\n",
       ".get-type {\n",
       "    color: green;\n",
       "    font-weight: bold;\n",
       "    font-family: monospace;\n",
       "    display: block;\n",
       "    white-space: pre-wrap;\n",
       "}\n",
       "\n",
       ".show-type {\n",
       "    color: green;\n",
       "    font-weight: bold;\n",
       "    font-family: monospace;\n",
       "    margin-left: 1em;\n",
       "}\n",
       "\n",
       ".mono {\n",
       "    font-family: monospace;\n",
       "    display: block;\n",
       "}\n",
       "\n",
       ".err-msg {\n",
       "    color: red;\n",
       "    font-style: italic;\n",
       "    font-family: monospace;\n",
       "    white-space: pre;\n",
       "    display: block;\n",
       "}\n",
       "\n",
       "#unshowable {\n",
       "    color: red;\n",
       "    font-weight: bold;\n",
       "}\n",
       "\n",
       ".err-msg.in.collapse {\n",
       "  padding-top: 0.7em;\n",
       "}\n",
       "\n",
       "/* Code that will get highlighted before it is highlighted */\n",
       ".highlight-code {\n",
       "    white-space: pre;\n",
       "    font-family: monospace;\n",
       "}\n",
       "\n",
       "/* Hlint styles */\n",
       ".suggestion-warning { \n",
       "    font-weight: bold;\n",
       "    color: rgb(200, 130, 0);\n",
       "}\n",
       ".suggestion-error { \n",
       "    font-weight: bold;\n",
       "    color: red;\n",
       "}\n",
       ".suggestion-name {\n",
       "    font-weight: bold;\n",
       "}\n",
       "</style><div style='font-weight: bold; color:blue'>Look!</div>"
      ]
     },
     "metadata": {},
     "output_type": "display_data"
    }
   ],
   "source": [
    "Red\n",
    "Green\n",
    "Blue"
   ]
  },
  {
   "cell_type": "markdown",
   "metadata": {},
   "source": [
    "## 一些技巧\n",
    "\n",
    "+ `!`用来执行shell命令\n",
    "\n",
    "比如`!cat a.txt`可以查看a.txt的内容\n",
    "\n",
    "利用这个技巧配合atom等有命令行工具的文本编辑器可以实现对编译语言的编译和运行\n",
    "\n",
    "+ 魔法命令`%`(不是所有都有,ipython的一定有)\n",
    "\n",
    "输入`%magic`可以查看有哪些魔法命令\n",
    "\n",
    "+ 尽量不要让jupyter打印循环或者递归,如果出错可能会卡死,下次也打不开,处理方法是用文本编辑器打开`ipynb`文件,直接删除对应的cell内容和打印内容\n"
   ]
  }
 ],
 "metadata": {
  "kernelspec": {
   "display_name": "Python 3",
   "language": "python",
   "name": "python3"
  },
  "language_info": {
   "codemirror_mode": {
    "name": "ipython",
    "version": 3
   },
   "file_extension": ".py",
   "mimetype": "text/x-python",
   "name": "python",
   "nbconvert_exporter": "python",
   "pygments_lexer": "ipython3",
   "version": "3.6.0"
  }
 },
 "nbformat": 4,
 "nbformat_minor": 1
}
