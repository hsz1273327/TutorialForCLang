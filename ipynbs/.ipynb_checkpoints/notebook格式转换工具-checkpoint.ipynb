{
 "cells": [
  {
   "cell_type": "markdown",
   "metadata": {},
   "source": [
    "# notebook格式转换工具(nbconvert)\n",
    "\n",
    "`nbconvert`是`jupyter notebook`的格式转换工具,它支持把`notebook`转化为`markdown,pdf,html`等格式的文件\n",
    "\n",
    "它依赖`pandoc`,所以先要安装`pandoc`,另外如果要转成pdf格式,还要安装latex和一些依赖\n",
    "\n",
    "    sudo tlmgr install ucs  \n",
    "    sudo tlmgr install collectbox\n",
    "    sudo tlmgr install adjustbox \n",
    "    sudo tlmgr install cyrillic\n",
    "    sudo tlmgr install collection-langcyrillic\n",
    "    \n",
    "之后要使用`nbconvert`只需要:\n",
    "```shell\n",
    "jupyter nbconvert --to <output format> <input notebook>\n",
    "```\n",
    "\n",
    "input notebook 可以使用通配符来指定复数的`.ipynb`文件\n",
    "\n",
    "常用的格式有:\n",
    "\n",
    "+ html 通用的网页格式\n",
    "+ markdown markdown文本格式\n",
    "+ reStructuredText .rst后缀的文本,sphinx的通用格式\n",
    "+ script 提取文件中的代码并保存为对应格式\n"
   ]
  },
  {
   "cell_type": "code",
   "execution_count": null,
   "metadata": {
    "collapsed": true
   },
   "outputs": [],
   "source": []
  }
 ],
 "metadata": {
  "kernelspec": {
   "display_name": "Python 3",
   "language": "python",
   "name": "python3"
  },
  "language_info": {
   "codemirror_mode": {
    "name": "ipython",
    "version": 3
   },
   "file_extension": ".py",
   "mimetype": "text/x-python",
   "name": "python",
   "nbconvert_exporter": "python",
   "pygments_lexer": "ipython3",
   "version": "3.6.0"
  }
 },
 "nbformat": 4,
 "nbformat_minor": 1
}
