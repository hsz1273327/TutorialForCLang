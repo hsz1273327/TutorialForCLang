{
 "cells": [
  {
   "cell_type": "markdown",
   "metadata": {},
   "source": [
    "# 协程\n",
    "\n",
    "协程是实现高并发的方案中开销最小的方案.在io密集型任务中往往是最高效的方案.python3.5以后协程语法已经基本定型.\n",
    "\n",
    "python的协程模型可以分为如下几个部分:\n",
    "\n",
    "+ event_loop 事件循环:程序开启一个无限的循环,程序员会把一些函数注册到事件循环上.当满足事件发生的时候,调用相应的协程函数.\n",
    "\n",
    "+ coroutine 协程:协程对象,指一个使用async关键字定义的函数,它的调用不会立即执行函数,而是会返回一个协程对象.协程对象需要注册到事件循环,由事件循环调用.\n",
    "\n",
    "+ task/future 任务:一个协程对象就是一个原生可以挂起的函数,任务则是对协程进一步封装,其中包含任务的各种状态.future则代表将来执行或没有执行的任务的结果.它和task上没有本质的区别,实际使用时,我们大多数时候都不需要自己创建task或者future"
   ]
  },
  {
   "cell_type": "markdown",
   "metadata": {},
   "source": [
    "## 协程的基本用法\n",
    "\n",
    "使用协程需要使用python的标准库[asyncio](https://docs.python.org/3/library/asyncio-eventloops.html)\n",
    "\n",
    "使用协程基本上步骤如下:\n",
    "\n",
    "1. 创建一个事件循环\n",
    "2. 创建协程并理顺协程间的相互关系\n",
    "3. 将协程作为任务注册到时间循环"
   ]
  },
  {
   "cell_type": "code",
   "execution_count": 3,
   "metadata": {
    "collapsed": false
   },
   "outputs": [
    {
     "name": "stdout",
     "output_type": "stream",
     "text": [
      "Waiting:  2\n",
      "TIME:  0.0030002593994140625\n"
     ]
    }
   ],
   "source": [
    "import time\n",
    "import asyncio\n",
    "\n",
    "now = lambda : time.time()\n",
    "\n",
    "async def do_some_work(x):\n",
    "    print('Waiting: ', x)\n",
    "\n",
    "start = now()\n",
    "\n",
    "coroutine = do_some_work(2)\n",
    "\n",
    "loop = asyncio.new_event_loop()\n",
    "asyncio.set_event_loop(loop)\n",
    "loop.run_until_complete(coroutine)\n",
    "print('TIME: ', now() - start)"
   ]
  },
  {
   "cell_type": "markdown",
   "metadata": {},
   "source": [
    "## 事件循环\n",
    "\n",
    "事件循环是一个无限的的循环,用来监控触发事件.一般我们用`loop = asyncio.new_event_loop()`来创建一个事件循环的实例,然后将其使用`asyncio.set_event_loop(loop)`来将循环实例定义为当前的事件循环.如果程序并不需要考虑使用多个循环的话我们也可以直接使用`asyncio.get_event_loop()`来获取当前事件循环的实例\n",
    "\n",
    "\n",
    "事实上python原生的事件循环并不高效,[uvloop](https://github.com/MagicStack/uvloop)是一个高效的事件循环,它使用cython编写,并使用libuv,就是node.js用的那个高性能事件驱动的程序库.我们在生产环境可以使用它来运行协程.(windows下无法使用)"
   ]
  },
  {
   "cell_type": "code",
   "execution_count": 4,
   "metadata": {
    "collapsed": false
   },
   "outputs": [
    {
     "ename": "ModuleNotFoundError",
     "evalue": "No module named 'uvloop'",
     "output_type": "error",
     "traceback": [
      "\u001b[0;31m---------------------------------------------------------------------------\u001b[0m",
      "\u001b[0;31mModuleNotFoundError\u001b[0m                       Traceback (most recent call last)",
      "\u001b[0;32m<ipython-input-4-858fead80a5c>\u001b[0m in \u001b[0;36m<module>\u001b[0;34m()\u001b[0m\n\u001b[1;32m      1\u001b[0m \u001b[1;32mimport\u001b[0m \u001b[0mtime\u001b[0m\u001b[1;33m\u001b[0m\u001b[0m\n\u001b[1;32m      2\u001b[0m \u001b[1;32mimport\u001b[0m \u001b[0masyncio\u001b[0m\u001b[1;33m\u001b[0m\u001b[0m\n\u001b[0;32m----> 3\u001b[0;31m \u001b[1;32mimport\u001b[0m \u001b[0muvloop\u001b[0m\u001b[1;33m\u001b[0m\u001b[0m\n\u001b[0m\u001b[1;32m      4\u001b[0m \u001b[1;33m\u001b[0m\u001b[0m\n\u001b[1;32m      5\u001b[0m \u001b[0mnow\u001b[0m \u001b[1;33m=\u001b[0m \u001b[1;32mlambda\u001b[0m \u001b[1;33m:\u001b[0m \u001b[0mtime\u001b[0m\u001b[1;33m.\u001b[0m\u001b[0mtime\u001b[0m\u001b[1;33m(\u001b[0m\u001b[1;33m)\u001b[0m\u001b[1;33m\u001b[0m\u001b[0m\n",
      "\u001b[0;31mModuleNotFoundError\u001b[0m: No module named 'uvloop'"
     ]
    }
   ],
   "source": [
    "import time\n",
    "import asyncio\n",
    "import uvloop\n",
    "\n",
    "now = lambda : time.time()\n",
    "\n",
    "async def do_some_work(x):\n",
    "    print('Waiting: ', x)\n",
    "\n",
    "start = now()\n",
    "\n",
    "coroutine = do_some_work(2)\n",
    "\n",
    "loop = uvloop.new_event_loop()\n",
    "asyncio.set_event_loop(loop)\n",
    "loop.run_until_complete(coroutine)\n",
    "print('TIME: ', now() - start)"
   ]
  },
  {
   "cell_type": "markdown",
   "metadata": {},
   "source": [
    "## 协程及其语法\n",
    "\n",
    "协程语法可以说是函数的一个超集,它的特征是使用`async def`来定义,并且可以在其内部使用`await`关键字等待另一个协程完成.协程对象的抽象基类为`collections.abc.Coroutine`，实现`send(value)`，`throw(type, exc, tb)`，`close()`和`__await__()`接口。\n",
    "\n",
    "可以看出协程与生成器接口相似,就是多了个`__await__()`少了迭代器相关的`__next__()`事实上,在3.7版本之前,协程都是使用生成器来实现的.\n",
    "\n",
    "\n",
    "协程对象内部需要实现`Awaitable`协议,也就是要实现`__await__`接口,这个接口必须返回一个迭代器,带有这一接口的对象我们称之为`Future-like`对象,有它的就可以被程序用`await`关键字挂起等待,`Future-like`类的抽象基类为`collections.abc.Awaitable`\n",
    "\n",
    "### await语法\n",
    "\n",
    "await就是用来挂起等待任务结束的关键字它只能在协程中使用.\n",
    "\n",
    "有效用法：\n",
    "\n",
    "表达式|\t被解析为\n",
    "---|---\n",
    "`if await fut: pass`\t|`if (await fut): pass`\n",
    "`if await fut + 1: pass`\t|`if (await fut) + 1: pass`\n",
    "`pair = await fut, 'spam'`\t|`pair = (await fut), 'spam'`\n",
    "`with await fut, open(): pass`\t|`with (await fut), open(): pass`\n",
    "`await foo()['spam'].baz()()`|\t`await ( foo()['spam'].baz()() )`\n",
    "`return await coro()`\t|`return ( await coro() )`\n",
    "`res = await coro() ** 2`|\t`res = (await coro()) ** 2`\n",
    "`func(a1=await coro(), a2=0)`\t|`func(a1=(await coro()), a2=0)`\n",
    "`await foo() + await bar()`|`(await foo()) + (await bar())`\n",
    "`-await foo()`|\t`-(await foo())`\n",
    "\n",
    "无效用法：\n",
    "\n",
    "表达式|\t应该写为\n",
    "---|---\n",
    "`await await coro()`|\t`await (await coro())`\n",
    "`await -coro()`|\t`await (-coro())`\n",
    "\n",
    "\n",
    "一般来说await会挂起直到它下面的一串`Future-like`对象都运行结束才会继续向下"
   ]
  },
  {
   "cell_type": "markdown",
   "metadata": {},
   "source": [
    "### async 语法\n",
    "\n",
    "除了用`async def`创建协程,`async`还有其他几个用法"
   ]
  },
  {
   "cell_type": "markdown",
   "metadata": {},
   "source": [
    "#### 异步迭代器和async for\n",
    "\n",
    "\n",
    "异步迭代器可以在它的iter实现里挂起、调用异步代码，也可以在它的`__next__`方法里挂起、调用异步代码。要支持异步迭代，需要：\n",
    "\n",
    "+ 对象必须实现一个`__aiter__`接口,返回一个异步迭代器对象，这个异步迭代器对象在每次迭代时会返回一个`Future-like`对象\n",
    "+ 一个异步迭代器必须实现一个`__anext__`方法,在每次迭代时返回一个`Future-like`对象\n",
    "+ 要停止迭代，`__anext__`必须抛出一个`StopAsyncIteration`异常。\n",
    "\n",
    "python的buildin方法中有`aiter()`和`anext()`可以直接调用异步迭代器的对应接口实现.\n",
    "\n",
    "例子:"
   ]
  },
  {
   "cell_type": "code",
   "execution_count": 12,
   "metadata": {
    "collapsed": false
   },
   "outputs": [
    {
     "name": "stdout",
     "output_type": "stream",
     "text": [
      "0\n",
      "1\n",
      "2\n",
      "3\n",
      "4\n"
     ]
    }
   ],
   "source": [
    "import asyncio\n",
    "class Ticker:\n",
    "    \"\"\"Yield numbers from 0 to `to` every `delay` seconds.\"\"\"\n",
    "\n",
    "    def __init__(self, delay, to):\n",
    "        self.delay = delay\n",
    "        self.i = 0\n",
    "        self.to = to\n",
    "\n",
    "    def __aiter__(self):\n",
    "        return self\n",
    "\n",
    "    async def __anext__(self):\n",
    "        i = self.i\n",
    "        if i >= self.to:\n",
    "            raise StopAsyncIteration\n",
    "        self.i += 1\n",
    "        if i:\n",
    "            await asyncio.sleep(self.delay)\n",
    "        return i\n",
    "\n",
    "\n",
    "        \n",
    "\n",
    "async def main():\n",
    "    async for i in Ticker(1,5):\n",
    "        print(i)\n",
    "\n",
    "        \n",
    "loop = asyncio.new_event_loop()\n",
    "asyncio.set_event_loop(loop)\n",
    "loop.run_until_complete(main())"
   ]
  },
  {
   "cell_type": "markdown",
   "metadata": {},
   "source": [
    "##### 异步列表解析(3.6)\n",
    "\n",
    "列表解析中可以使用`await`来等待`Future-like`对象的结果,如:\n",
    "\n",
    "`result = [await fun() for fun in funcs if await condition()]`\n",
    "\n",
    "\n",
    "在列表中允许使用`async for`来做迭代,它的形式如下:\n",
    "\n",
    "`[i async for i in Ticker(1,5) if i % 2]`"
   ]
  },
  {
   "cell_type": "code",
   "execution_count": 16,
   "metadata": {
    "collapsed": false
   },
   "outputs": [
    {
     "name": "stdout",
     "output_type": "stream",
     "text": [
      "[1, 3]\n"
     ]
    }
   ],
   "source": [
    "import asyncio\n",
    "class Ticker:\n",
    "    \"\"\"Yield numbers from 0 to `to` every `delay` seconds.\"\"\"\n",
    "\n",
    "    def __init__(self, delay, to):\n",
    "        self.delay = delay\n",
    "        self.i = 0\n",
    "        self.to = to\n",
    "\n",
    "    def __aiter__(self):\n",
    "        return self\n",
    "\n",
    "    async def __anext__(self):\n",
    "        i = self.i\n",
    "        if i >= self.to:\n",
    "            raise StopAsyncIteration\n",
    "        self.i += 1\n",
    "        if i:\n",
    "            await asyncio.sleep(self.delay)\n",
    "        return i\n",
    "\n",
    "async def main():\n",
    "    result = [i async for i in Ticker(1,5) if i % 2]\n",
    "    print(result)\n",
    "        \n",
    "loop = asyncio.new_event_loop()\n",
    "asyncio.set_event_loop(loop)\n",
    "loop.run_until_complete(main())"
   ]
  },
  {
   "cell_type": "markdown",
   "metadata": {},
   "source": [
    "#### 异步上下文管理器和`async with`\n",
    "\n",
    "异步上下文管理器类似普通的上下文管理器，可以让程序在进入上下文和离开上下文之间挂起状态,调用异步代码.\n",
    "\n",
    "异步上下文管理器需要实现两个接口\n",
    "\n",
    "+ `__aenter__`处理进入上下文时的操作,如果有返回值,则可以使用`as`标定上下文中的变量名\n",
    "+ `__aexit__`处理离开上下文时的操作,和`__exit__`的参数一样,它的参数必须是`self`,`exc_type`, `exc`, `tb`,分别代表对象自身对象,exception_type , exception_value , 和 traceback,如果正常退出,`exc_type`, `exc`, `tb`将会是 None.\n",
    "\n",
    "`__aenter__`和`__aexit__`，它们必须返回一个`Future-like`对象\n",
    "\n",
    "和普通的with语句一样，可以在单个async with语句里指定多个上下文管理器。\n",
    "\n",
    "异步上下文管理器的一个示例："
   ]
  },
  {
   "cell_type": "code",
   "execution_count": 15,
   "metadata": {
    "collapsed": false
   },
   "outputs": [
    {
     "name": "stdout",
     "output_type": "stream",
     "text": [
      "entering context\n",
      "0\n",
      "1\n",
      "2\n",
      "3\n",
      "4\n",
      "exit context\n"
     ]
    }
   ],
   "source": [
    "import asyncio\n",
    "class Ticker:\n",
    "    \"\"\"Yield numbers from 0 to `to` every `delay` seconds.\"\"\"\n",
    "\n",
    "    def __init__(self, delay, to):\n",
    "        self.delay = delay\n",
    "        self.i = 0\n",
    "        self.to = to\n",
    "\n",
    "    def __aiter__(self):\n",
    "        return self\n",
    "\n",
    "    async def __anext__(self):\n",
    "        i = self.i\n",
    "        if i >= self.to:\n",
    "            raise StopAsyncIteration\n",
    "        self.i += 1\n",
    "        if i:\n",
    "            await asyncio.sleep(self.delay)\n",
    "        return i\n",
    "class AsyncContextTicker:\n",
    "    def __init__(self,delay, to):\n",
    "        self.data = Ticker(delay, to)\n",
    "        \n",
    "    async def __aenter__(self):\n",
    "        print('entering context')\n",
    "        await asyncio.sleep(1)\n",
    "        return self.data\n",
    "        \n",
    "    async def __aexit__(self, exc_type, exc, tb):\n",
    "        await asyncio.sleep(1)\n",
    "        print('exit context')\n",
    "        \n",
    "\n",
    "async def main():\n",
    "    async with AsyncContextTicker(1,5) as ticker:\n",
    "        async for i in ticker:\n",
    "            print(i)\n",
    "        \n",
    "loop = asyncio.new_event_loop()\n",
    "asyncio.set_event_loop(loop)\n",
    "loop.run_until_complete(main())"
   ]
  },
  {
   "cell_type": "markdown",
   "metadata": {},
   "source": [
    "### 异步生成器(3.6)\n",
    "\n",
    "带`yield`关键字的函数是生成器,带`yield`关键字的协程就是异步生成器,从效果上看异步生成器效果和异步迭代器效果差不多,它需要实现协议:\n",
    "\n",
    "+ PyAsyncGenASend : `__anext__`和`asend()`接口 ,对应一般生成器中的`__next__`和`send()`,用于在异步生成器间交互信息\n",
    "+ PyAsyncGenAThrow :  `athrow()` and `aclose()`接口,对应一般生成器的`throw()`和`close()`,用于关闭异步生成器或者抛出错误\n",
    "\n"
   ]
  },
  {
   "cell_type": "code",
   "execution_count": 19,
   "metadata": {
    "collapsed": false
   },
   "outputs": [
    {
     "name": "stdout",
     "output_type": "stream",
     "text": [
      "0\n",
      "1\n",
      "2\n",
      "3\n",
      "4\n"
     ]
    }
   ],
   "source": [
    "import asyncio\n",
    "async def ticker(delay, to):\n",
    "    \"\"\"Yield numbers from 0 to *to* every *delay* seconds.\"\"\"\n",
    "    for i in range(0,to):\n",
    "        yield i\n",
    "        await asyncio.sleep(delay)\n",
    "        \n",
    "async def main():\n",
    "    async for i in ticker(1,5):\n",
    "        print(i)\n",
    "        \n",
    "loop = asyncio.new_event_loop()\n",
    "asyncio.set_event_loop(loop)\n",
    "loop.run_until_complete(main())"
   ]
  },
  {
   "cell_type": "markdown",
   "metadata": {},
   "source": [
    "#### 关于`yield from`\n",
    "\n",
    "`yield from`在异步生成器中语义上应该挂起等待另一个生成器的结果.讲道理的化应该是说的通的,但目前(3.6)并不支持.因为一般来说使用`yield`定义的异步生成器其实都满足异步迭代器的协议(毕竟只要添加一条`def __aiter__(self):return self`),我们可以利用这一点使用`async for`语句代替."
   ]
  },
  {
   "cell_type": "code",
   "execution_count": 25,
   "metadata": {
    "collapsed": false
   },
   "outputs": [
    {
     "name": "stdout",
     "output_type": "stream",
     "text": [
      "0\n",
      "1\n",
      "2\n",
      "3\n",
      "4\n"
     ]
    }
   ],
   "source": [
    "import asyncio\n",
    "async def g1(x):\n",
    "    for i in range(x):\n",
    "        yield i\n",
    "\n",
    "async def g2():\n",
    "    async for v in g1(5):\n",
    "        yield v\n",
    "        \n",
    "async def main():\n",
    "    async for i in g2():\n",
    "        print(i)\n",
    "        \n",
    "loop = asyncio.new_event_loop()\n",
    "asyncio.set_event_loop(loop)\n",
    "loop.run_until_complete(main())"
   ]
  },
  {
   "cell_type": "markdown",
   "metadata": {},
   "source": [
    "## 任务\n",
    "\n",
    "\n",
    "\n"
   ]
  },
  {
   "cell_type": "code",
   "execution_count": null,
   "metadata": {
    "collapsed": true
   },
   "outputs": [],
   "source": []
  },
  {
   "cell_type": "markdown",
   "metadata": {},
   "source": [
    "### 小技巧\n",
    "\n",
    "1. **假装成\"并行\"**\n",
    "\n"
   ]
  },
  {
   "cell_type": "markdown",
   "metadata": {},
   "source": [
    "2. **区分asyncio.wait和async.gather**"
   ]
  }
 ],
 "metadata": {
  "kernelspec": {
   "display_name": "Python 3",
   "language": "python",
   "name": "python3"
  },
  "language_info": {
   "codemirror_mode": {
    "name": "ipython",
    "version": 3
   },
   "file_extension": ".py",
   "mimetype": "text/x-python",
   "name": "python",
   "nbconvert_exporter": "python",
   "pygments_lexer": "ipython3",
   "version": "3.6.0"
  }
 },
 "nbformat": 4,
 "nbformat_minor": 2
}
