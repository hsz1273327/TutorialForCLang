{
 "cells": [
  {
   "cell_type": "markdown",
   "metadata": {},
   "source": [
    "# python接口包装\n",
    "\n",
    "我们一般用C的一个主要目的就是为python提供扩展,在python攻略中已经介绍了使用cython为python写扩展的方式,但这种方式一般是以python为主体的,而如果以C为主体,那么通常就和这种的方式有所区别,具体在:使用cython的包装模式,通过`pyd`文件声明接口,再使用`pyx`模块将项目包装为面向对象的python模块.这种方式"
   ]
  },
  {
   "cell_type": "markdown",
   "metadata": {},
   "source": [
    "## 使用cython包装模式\n",
    "\n",
    "为什么使用这种方式呢?主要是目前来看cython的包装模式是几个主流python实现都支持的方式,而且相对简单."
   ]
  },
  {
   "cell_type": "code",
   "execution_count": null,
   "metadata": {
    "collapsed": true
   },
   "outputs": [],
   "source": [
    "%%writefile ../codes/C1_C_tools/cython_wrapper/python/binary_vector.pyd\n",
    "cdef extern from \"../source/include/binary_vector.h\":\n",
    "    ctypedef struct BINARY_VECTOR:\n",
    "        pass\n",
    "    cdef float VEC_mod(BINARY_VECTOR)\n",
    "    cdef BINARY_VECTOR VEC_add(BINARY_VECTOR,BINARY_VECTOR)\n",
    "    cdef float VEC_mul(BINARY_VECTOR,BINARY_VECTOR)"
   ]
  },
  {
   "cell_type": "code",
   "execution_count": null,
   "metadata": {
    "collapsed": true
   },
   "outputs": [],
   "source": [
    "%%writefile ../codes/C1_C_tools/cython_wrapper/python/binary_vector.pyx\n",
    "cimport binary_vector\n",
    "\n",
    "cdef class BinaryVector:\n",
    "    cdef binary_vector.BINARY_VECTOR _c_bv\n",
    "    \n",
    "    def __cinit__(self):\n",
    "        self._c_bv = binary_vector.BINARY_VECTOR"
   ]
  }
 ],
 "metadata": {
  "kernelspec": {
   "display_name": "Python 3",
   "language": "python",
   "name": "python3"
  },
  "language_info": {
   "codemirror_mode": {
    "name": "ipython",
    "version": 3
   },
   "file_extension": ".py",
   "mimetype": "text/x-python",
   "name": "python",
   "nbconvert_exporter": "python",
   "pygments_lexer": "ipython3",
   "version": "3.6.0"
  }
 },
 "nbformat": 4,
 "nbformat_minor": 2
}
