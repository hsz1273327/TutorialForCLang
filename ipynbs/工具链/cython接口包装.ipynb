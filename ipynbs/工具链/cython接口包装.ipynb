{
 "cells": [
  {
   "cell_type": "markdown",
   "metadata": {},
   "source": [
    "# python接口包装\n",
    "\n",
    "我们一般用C的一个主要目的就是为python提供扩展,在python攻略中已经介绍了使用cython为python写扩展的方式,但这种方式一般是以python为主体的,而如果以C为主体,那么通常就和这种的方式有所区别,具体在:使用cython的包装模式,通过`pyd`文件声明接口,再使用`pyx`模块将项目包装为面向对象的python模块.这种方式"
   ]
  },
  {
   "cell_type": "markdown",
   "metadata": {},
   "source": [
    "## 使用cython包装模式\n",
    "\n",
    "为什么使用这种方式呢?主要是目前来看cython的包装模式是几个主流python实现都支持的方式,而且相对简单.接着我们还以binary vector为例进行包装"
   ]
  },
  {
   "cell_type": "code",
   "execution_count": 5,
   "metadata": {
    "collapsed": false
   },
   "outputs": [
    {
     "name": "stdout",
     "output_type": "stream",
     "text": [
      "Overwriting ../codes/C1_C_tools/cython_wrapper/source/include/binary_vector.h\n"
     ]
    }
   ],
   "source": [
    "%%writefile ../codes/C1_C_tools/cython_wrapper/source/include/binary_vector.h\n",
    "/* $Id$ */\n",
    "#ifndef BINARY_VECTOR_H\n",
    "#define BINARY_VECTOR_H//一般是文件名的大写 头文件结尾写上一行\n",
    "\n",
    "struct BINARY_VECTOR {\n",
    "    float x;\n",
    "    float y;\n",
    "};\n",
    "\n",
    "typedef struct BINARY_VECTOR *BINARY_VECTOR_P;\n",
    "\n",
    "BINARY_VECTOR_P VEC_new(void);\n",
    "BINARY_VECTOR_P VEC_init(float x,float y);\n",
    "void VEC_del(BINARY_VECTOR_P);\n",
    "\n",
    "float VEC_mod(BINARY_VECTOR_P);\n",
    "BINARY_VECTOR_P VEC_add(BINARY_VECTOR_P,BINARY_VECTOR_P);\n",
    "float VEC_mul(BINARY_VECTOR_P ,BINARY_VECTOR_P);\n",
    "\n",
    "\n",
    "#endif"
   ]
  },
  {
   "cell_type": "code",
   "execution_count": 6,
   "metadata": {
    "collapsed": false
   },
   "outputs": [
    {
     "name": "stdout",
     "output_type": "stream",
     "text": [
      "Overwriting ../codes/C1_C_tools/cython_wrapper/source/src/binary_vector.c\n"
     ]
    }
   ],
   "source": [
    "%%writefile ../codes/C1_C_tools/cython_wrapper/source/src/binary_vector.c\n",
    "#include <stdlib.h>\n",
    "#include <math.h>\n",
    "#include \"binary_vector.h\"\n",
    "\n",
    "#define T BINARY_VECTOR_P\n",
    "\n",
    "\n",
    "T VEC_new(void){\n",
    "    T ptr;\n",
    "    ptr = (T) malloc(((long)sizeof *(ptr)));\n",
    "    ptr->x = 0.0;\n",
    "    ptr->y = 0.0;\n",
    "    return ptr;\n",
    "}\n",
    "\n",
    "T VEC_init(float x,float y){\n",
    "    T ptr;\n",
    "    ptr = (T) malloc(((long)sizeof *(ptr)));\n",
    "    ptr->x = x;\n",
    "    ptr->y = y;\n",
    "    return ptr;\n",
    "}\n",
    "\n",
    "void VEC_del(T ptr){\n",
    "    if (ptr) free(ptr);\n",
    "}\n",
    "\n",
    "T VEC_add(T a, T b) {\n",
    "    float x = a->x + b->x;\n",
    "    float y = a->y + b->y;\n",
    "    T result;\n",
    "    result = VEC_new();\n",
    "    result->x = x;\n",
    "    result->y = y;\n",
    "    return result;\n",
    "}\n",
    "\n",
    "float VEC_mul(T a, T b) {\n",
    "    float result = a->x * b->x + a->y * b->y;\n",
    "    return result;\n",
    "}\n",
    "\n",
    "float VEC_mod(T a){\n",
    "    float result = sqrt(a->x*a->x+a->y*a->y);\n",
    "    return result;\n",
    "}\n",
    "#undef T"
   ]
  },
  {
   "cell_type": "code",
   "execution_count": 24,
   "metadata": {
    "collapsed": false
   },
   "outputs": [
    {
     "name": "stdout",
     "output_type": "stream",
     "text": [
      "Overwriting ../codes/C1_C_tools/cython_wrapper/python/binaryvector.pyx\n"
     ]
    }
   ],
   "source": [
    "%%writefile ../codes/C1_C_tools/cython_wrapper/python/binaryvector.pyx\n",
    "#cython: language_level=3\n",
    "# distutils: language = c\n",
    "# distutils: sources = binary_vector.c\n",
    "\n",
    "\n",
    "cdef extern from \"binary_vector.h\":\n",
    "    struct BINARY_VECTOR:\n",
    "        float x\n",
    "        float y\n",
    "        \n",
    "    ctypedef BINARY_VECTOR *BINARY_VECTOR_P\n",
    "    \n",
    "    BINARY_VECTOR_P VEC_init(float,float)\n",
    "    void VEC_del(BINARY_VECTOR_P)\n",
    "    \n",
    "    float VEC_mod(BINARY_VECTOR_P)\n",
    "    BINARY_VECTOR_P VEC_add(BINARY_VECTOR_P,BINARY_VECTOR_P)\n",
    "    float VEC_mul(BINARY_VECTOR_P,BINARY_VECTOR_P)\n",
    "\n",
    "cdef class BinaryVector:\n",
    "    cdef BINARY_VECTOR_P _vec\n",
    "    \n",
    "    def __cinit__(self,float x,float y):\n",
    "        self._vec = VEC_init(x,y)\n",
    "        if self._vec is NULL:\n",
    "            raise MemoryError\n",
    "        \n",
    "    def __dealloc__(self):\n",
    "        if self._vec is not NULL:\n",
    "            VEC_del(self._vec)\n",
    "            \n",
    "    property x:\n",
    "        def __get__(self):\n",
    "            return self._vec.x\n",
    "        def __set__(self,new_x):\n",
    "            self._vec.x = new_x\n",
    "    property y:\n",
    "        def __get__(self):\n",
    "            return self._vec.y\n",
    "        def __set__(self,new_y):\n",
    "            self._vec.y = new_y\n",
    "    cpdef mul(self,BinaryVector that):\n",
    "        return VEC_mul(self._vec,that._vec)\n",
    "            \n",
    "    def __mul__(self,BinaryVector that):\n",
    "        return self.mul(that)\n",
    "        \n",
    "    def add(self,BinaryVector that):\n",
    "        cdef BINARY_VECTOR_P ptr\n",
    "        ptr = VEC_add(self._vec,that._vec)\n",
    "        result = BinaryVector(ptr.x,ptr.y)\n",
    "        if ptr is not NULL:\n",
    "            VEC_del(ptr)\n",
    "        return result\n",
    "    def __add__(self,BinaryVector that):\n",
    "        return self.add(that)\n",
    "    def mod(self):\n",
    "        return VEC_mod(self._vec)"
   ]
  },
  {
   "cell_type": "code",
   "execution_count": 23,
   "metadata": {
    "collapsed": false
   },
   "outputs": [
    {
     "name": "stdout",
     "output_type": "stream",
     "text": [
      "Overwriting ../codes/C1_C_tools/cython_wrapper/python/setup.py\n"
     ]
    }
   ],
   "source": [
    "%%writefile ../codes/C1_C_tools/cython_wrapper/python/setup.py\n",
    "from distutils.core import setup\n",
    "from pathlib import Path\n",
    "from distutils.extension import Extension\n",
    "from Cython.Build import cythonize\n",
    "from Cython.Distutils import build_ext\n",
    "\n",
    "source_dir = Path(\"../source\")\n",
    "src_dir = source_dir.joinpath(\"src/binary_vector.c\")\n",
    "inc_dir = source_dir.joinpath(\"include\")\n",
    "extension = Extension(\n",
    "    \"binaryvector\",\n",
    "    sources=[\"binaryvector.pyx\",str(src_dir)],\n",
    "    include_dirs=[str(inc_dir)]\n",
    ")\n",
    "\n",
    "setup(\n",
    "    cmdclass={'build_ext': build_ext},\n",
    "    ext_modules=cythonize(extension),\n",
    ")"
   ]
  },
  {
   "cell_type": "code",
   "execution_count": null,
   "metadata": {
    "collapsed": true
   },
   "outputs": [],
   "source": []
  }
 ],
 "metadata": {
  "kernelspec": {
   "display_name": "Python 3",
   "language": "python",
   "name": "python3"
  },
  "language_info": {
   "codemirror_mode": {
    "name": "ipython",
    "version": 3
   },
   "file_extension": ".py",
   "mimetype": "text/x-python",
   "name": "python",
   "nbconvert_exporter": "python",
   "pygments_lexer": "ipython3",
   "version": "3.6.0"
  }
 },
 "nbformat": 4,
 "nbformat_minor": 2
}
