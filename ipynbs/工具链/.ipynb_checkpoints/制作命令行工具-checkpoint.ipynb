{
 "cells": [
  {
   "cell_type": "markdown",
   "metadata": {},
   "source": [
    "# 制作命令行工具\n",
    "\n",
    "\n",
    "C语言是和系统最近的编程语言之一,而很多系统工具也是C写的.\n"
   ]
  },
  {
   "cell_type": "markdown",
   "metadata": {},
   "source": [
    "## 制作小工具\n",
    "\n",
    "\n",
    "在linux的世界里,很多工作都是由小工具完成的,它恐怕是现如今流行的`微服务`架构最早的实践了.\n",
    "\n",
    "所谓小工具有这样的特点:\n",
    "\n",
    "1. 从标准输入读取数据\n",
    "2. 在标准输出显示数据\n",
    "3. 处理文本数据，而不是难以阅读的二进制格式\n",
    "4. 只做一件简单的事\n",
    "\n",
    "通过标准输入输出可以方便的做重定向,而文本数据除了机器好读,人也好读.\n",
    "\n",
    "\n",
    "所谓重新定向是指使用`>`,`>>`作为输出,使用`<`,`<<`作为输入\n",
    "\n",
    "\n",
    "比较让人熟知的就是`grep`小工具了,它的作用是过滤掉文本中不含关键字的行.而一般我们都是拿他和其他工具配合使用的,比如我希望查看之前使用过的带`python`的历史记录,那就可以这样写:\n",
    "\n",
    "```shell\n",
    "history | grep python\n",
    "```\n",
    "\n",
    "当然了其他语言比如python也可以制作小工具,而且由于语法更加简单,抽象层次更高,实际上写起来会更加简单,但在这边用c/c++来做小工具有其合理的一面\n",
    "\n",
    "1. 不用依赖环境\n",
    "\n",
    "    c/c++不依赖于运行环境,只要编译通过了就可以运行二进制代码.而带有vm的语言比如java,python,脱离了vm就无法运行了\n",
    "    \n",
    "2. 高效\n",
    "\n",
    "    多数情况下,,相同的逻辑,C/C++制作的工具有最高的运行效率\n",
    "    \n",
    "3. 小巧\n",
    "\n",
    "    像go语言,也是编译成二进制后执行的语言,但由于其抽象层次更高,生成的代码比使用c/c++写的大得多,而c++如果使用模板的话也会比C写的大得多"
   ]
  },
  {
   "cell_type": "markdown",
   "metadata": {},
   "source": [
    "## 从一个例子开始\n",
    "\n",
    "我们来写一个gps数据格式转换工具,使用它我们可以将gps数据转化为符合规定的json格式,gps数据是形如:\n",
    "\n",
    "```\n",
    "42.363400,-71.098465,Speed = 21\n",
    "42.363400,-71.097588,Speed = 23\n",
    "42.363400,-71.098465,Speed = 27\n",
    ".\n",
    ".\n",
    ".\n",
    "```\n",
    "的csv数据\n",
    "\n",
    "而地图应用需要的格式则形如:\n",
    "\n",
    "```json\n",
    "data = [\n",
    "{latitude: 42.363400, longitude: -71.098465, info: 'Speed = 21'},\n",
    ".\n",
    ".\n",
    ".\n",
    "]\n",
    "```\n",
    "的json数据\n",
    "\n",
    "\n",
    "\n",
    "好,开始我们的小程序:"
   ]
  },
  {
   "cell_type": "code",
   "execution_count": 1,
   "metadata": {
    "collapsed": false
   },
   "outputs": [
    {
     "name": "stdout",
     "output_type": "stream",
     "text": [
      "Writing ../codes/C1_Cpp_tools/small_tools/src/geo2json.c\n"
     ]
    }
   ],
   "source": [
    "%%writefile ../codes/C1_Cpp_tools/small_tools/src/geo2json.c\n",
    "#include <stdio.h>\n",
    "\n",
    "int main(){\n",
    "    float latitude;\n",
    "    float longitude;\n",
    "    char info[80];\n",
    "    int started = 0;\n",
    "    puts(\"data=[\");\n",
    "    while (scanf(\"%f,%f,%79[^\\n]\",&latitude,&longitude,&info) == 3){\n",
    "        if (started){\n",
    "            printf(\",\\n\");\n",
    "        } else {\n",
    "            started = 1;\n",
    "        }\n",
    "        printf(\"{latitude: %f, longitude: %f, info: '%s'}\",latitude,longitude,info);\n",
    "    }\n",
    "    puts(\"\\n]\");\n",
    "    return 0;\n",
    "}"
   ]
  },
  {
   "cell_type": "code",
   "execution_count": 2,
   "metadata": {
    "collapsed": true
   },
   "outputs": [],
   "source": [
    "!gcc -o ../codes/C1_Cpp_tools/small_tools/bin/geo2json \\\n",
    "../codes/C1_Cpp_tools/small_tools/src/geo2json.c"
   ]
  },
  {
   "cell_type": "code",
   "execution_count": null,
   "metadata": {
    "collapsed": true
   },
   "outputs": [],
   "source": [
    "!../codes/C1_Cpp_tools/small_tools/bin/geo2json \\\n",
    "< ../codes/C1_Cpp_tools/small_tools/source/gpsdata.csv \\\n",
    "> ../codes/C1_Cpp_tools/small_tools/source/gpsdata.json"
   ]
  },
  {
   "cell_type": "code",
   "execution_count": null,
   "metadata": {
    "collapsed": true
   },
   "outputs": [],
   "source": [
    "!cat ../codes/C1_Cpp_tools/small_tools/source/gpsdata.json"
   ]
  },
  {
   "cell_type": "markdown",
   "metadata": {},
   "source": [
    "### 数据验证\n",
    "\n",
    "不难发现,输入数据中有错误数据,我们的程序要加入一些验证逻辑来进行错误检验,当然了,错误信息应该输出在stderr里"
   ]
  },
  {
   "cell_type": "code",
   "execution_count": 3,
   "metadata": {
    "collapsed": false
   },
   "outputs": [
    {
     "name": "stdout",
     "output_type": "stream",
     "text": [
      "Overwriting ../codes/C1_Cpp_tools/small_tools/src/geo2json.c\n"
     ]
    }
   ],
   "source": [
    "%%writefile ../codes/C1_Cpp_tools/small_tools/src/geo2json.c\n",
    "#include <cstdio>\n",
    "\n",
    "int main(){\n",
    "    float latitude;\n",
    "    float longitude;\n",
    "    char info[80];\n",
    "    int started = 0;\n",
    "    puts(\"data=[\");\n",
    "    while (scanf(\"%f,%f,%79[^\\n]\",&latitude,&longitude,&info) == 3){\n",
    "        if (started){\n",
    "            printf(\",\\n\");\n",
    "        } else {\n",
    "            started = 1;\n",
    "        }\n",
    "        \n",
    "        if ((latitude < -90.0) || (latitude > 90.0)) {\n",
    "             fprintf(stderr,\"Invalid latitude: %f\\n\", latitude);\n",
    "             continue;\n",
    "        }\n",
    "        if ((longitude < -180.0) || (longitude > 180.0)) {\n",
    "             fprintf(stderr, \"Invalid longitude: %f\\n\", longitude);\n",
    "             continue;\n",
    "        }\n",
    "        \n",
    "        printf(\"{latitude: %f, longitude: %f, info: '%s'}\",latitude,longitude,info);\n",
    "    }\n",
    "    puts(\"\\n]\");\n",
    "    return 0;\n",
    "}"
   ]
  },
  {
   "cell_type": "code",
   "execution_count": null,
   "metadata": {
    "collapsed": true
   },
   "outputs": [],
   "source": [
    "!gcc -o ../codes/C1_Cpp_tools/small_tools/bin/geo2json \\\n",
    "../codes/C1_Cpp_tools/small_tools/src/geo2json.c"
   ]
  },
  {
   "cell_type": "markdown",
   "metadata": {},
   "source": [
    "## 用C构建带参数的命令行工具\n",
    "\n",
    "`unistd.h`是C语言的一个准标准库,它是linux,mac osx等类unix系统的自带的库,但windows并不支持.要在windows下使用需要自己写一个头文件,如下:\n",
    "\n",
    "```cpp\n",
    "/** This file is part of the Mingw32 package. \n",
    "*  unistd.h maps     (roughly) to io.h \n",
    "*/  \n",
    "#ifndef _UNISTD_H  \n",
    "#define _UNISTD_H  \n",
    "#include <io.h>  \n",
    "#include <process.h>  \n",
    "#endif /* _UNISTD_H */ \n",
    "\n",
    "```\n",
    "\n",
    "\n",
    "使用它便利的构建命令行工具`getopt`\n",
    "\n",
    "`getopt()`用来分析命令行参数.参数`argc`和`argv`是由`main()`传递的参数个数和内容.参数`optstring`则代表欲处理的选项字符串.此函数会返回在`argv`中下一个的选项字母,此字母会对应参数`optstring`中的字母.如果选项字符串里的字母后接着冒号\":\".则表示还有相关的参数,全域变量`optarg` 即会指向此额外参数.如果`getopt()`找不到符合的参数则会印出错信息,并将全域变量`optopt`设为\"?\"字符,如果不希望`getopt()`印出错信息,则只要将全域变量`opterr`设为0即可.\n",
    "\n",
    "### 短参数的定义\n",
    "\n",
    "`getopt()`使用`optstring`所指的字串作为短参数列表,像`\"1ac:d::\"`就是一个短参数列表.短参数的定义是一个`'-'`后面跟一个字母或数字,象`-a`, `-b`就是一个短参数.每个数字或字母定义一个参数.\n",
    "\n",
    "其中短参数在`getopt`定义里分为三种：\n",
    "\n",
    "+ 不带值的参数,它的定义即是参数本身\n",
    "+ 必须带值的参数,它的定义是在参数本身后面再加一个冒号\n",
    "+ 可选值的参数,它的定义是在参数本身后面加两个冒号\n",
    "\n",
    "在这里拿上面的`\"1ac:d::\"`作为样例进行说明,其中的\n",
    "+ `1`,`a`就是不带值的参数\n",
    "+ `c`是必须带值的参数\n",
    "+ `d`是可选值的参数\n",
    "\n",
    "在实际调用中，`'-1 -a -c cvalue -d'`, `'-1 -a -c cvalue -ddvalue'`, `'-1a -ddvalue -c cvalue'`都是合法的.\n",
    "这里需要注意三点:\n",
    "\n",
    "+ 不带值的参数可以连写,像`1`和`a`是不带值的参数,它们可以`-1` `-a`分开写,也可以`-1a`或`-a1`连写.\n",
    "+ 参数不分先后顺序,`'-1a -c cvalue -ddvalue'`和`'-d -c cvalue -a1'`的解析结果是一样的.\n",
    "+ 要注意可选值的参数的值与参数之间不能有空格,必须写成`-ddvalue`这样的格式,如果写成`-d dvalue`这样的格式就会解析错误.\n",
    "\n",
    "### 返回值\n",
    "\n",
    "`getopt()`每次调用会逐次返回命令行传入的参数. 　 \n",
    "+ 当没有参数的最后的一次调用时,`getopt()`将返回-1.　 \n",
    "+ 当解析到一个不在`optstring`里面的参数，或者一个必选值参数不带值时,返回'?'.　 \n",
    "+ 当`optstring`是以':'开头时,缺值参数的情况下会返回':',而不是'?'."
   ]
  },
  {
   "cell_type": "code",
   "execution_count": 1,
   "metadata": {
    "collapsed": false
   },
   "outputs": [
    {
     "name": "stdout",
     "output_type": "stream",
     "text": [
      "Overwriting ../codes/C1_Cpp_tools/command_line_tools/src/sqrt_opt.cpp\n"
     ]
    }
   ],
   "source": [
    "%%writefile ../codes/C1_Cpp_tools/command_line_tools/src/sqrt_opt.cpp\n",
    "#include <stdlib.h>\n",
    "#include <unistd.h>\n",
    "#include <iostream>\n",
    "#include <string>\n",
    "#include <math.h>\n",
    "using std::string;\n",
    "using std::cout;\n",
    "using std::endl;\n",
    "\n",
    "int main(int argc, char **argv)  {  \n",
    "    int ch; \n",
    "    double result;\n",
    "    opterr = 0;  \n",
    "    string version = \"0.1.0\";\n",
    "    while ((ch = getopt(argc,argv,\"s:v\\n\"))!=-1){  \n",
    "        switch(ch){  \n",
    "            case 'v':  \n",
    "                cout<<(\"option v: %s\\n\",version)<<endl;  \n",
    "                break;  \n",
    "            case 's':\n",
    "                result = sqrt(atoi(optarg));\n",
    "                cout<<(\"%f\\n\",result)<<endl;\n",
    "                break;\n",
    "            default:  \n",
    "                cout<<\"wrong args\\n\"<<endl;  \n",
    "        }  \n",
    "    }  \n",
    "    return 0;\n",
    "}  "
   ]
  },
  {
   "cell_type": "code",
   "execution_count": 3,
   "metadata": {
    "collapsed": true
   },
   "outputs": [],
   "source": [
    "!g++-7 -o ../codes/C1_Cpp_tools/command_line_tools/bin/sqrt_opt \\\n",
    "../codes/C1_Cpp_tools/command_line_tools/src/sqrt_opt.cpp"
   ]
  },
  {
   "cell_type": "code",
   "execution_count": 4,
   "metadata": {
    "collapsed": false
   },
   "outputs": [
    {
     "name": "stdout",
     "output_type": "stream",
     "text": [
      "0.1.0\r\n"
     ]
    }
   ],
   "source": [
    "!../codes/C1_Cpp_tools/command_line_tools/bin/sqrt_opt -v"
   ]
  },
  {
   "cell_type": "code",
   "execution_count": 5,
   "metadata": {
    "collapsed": false
   },
   "outputs": [
    {
     "name": "stdout",
     "output_type": "stream",
     "text": [
      "6\r\n"
     ]
    }
   ],
   "source": [
    "!../codes/C1_Cpp_tools/command_line_tools/bin/sqrt_opt -s36"
   ]
  }
 ],
 "metadata": {
  "kernelspec": {
   "display_name": "Python 3",
   "language": "python",
   "name": "python3"
  },
  "language_info": {
   "codemirror_mode": {
    "name": "ipython",
    "version": 3
   },
   "file_extension": ".py",
   "mimetype": "text/x-python",
   "name": "python",
   "nbconvert_exporter": "python",
   "pygments_lexer": "ipython3",
   "version": "3.6.0"
  }
 },
 "nbformat": 4,
 "nbformat_minor": 2
}
