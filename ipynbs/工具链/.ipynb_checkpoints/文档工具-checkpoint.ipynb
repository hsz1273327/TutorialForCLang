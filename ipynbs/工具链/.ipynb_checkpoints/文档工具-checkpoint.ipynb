{
 "cells": [
  {
   "cell_type": "markdown",
   "metadata": {},
   "source": [
    "# 文档工具\n",
    "\n",
    "c语言使用[doxygen](http://www.doxygen.nl/)来从代码注释中提取文档,同时其支持markdown格式\n",
    "\n",
    "doxygen支持多种格式,下面给出一个相对比价好上手的格式作为标准:"
   ]
  },
  {
   "cell_type": "markdown",
   "metadata": {},
   "source": [
    "## 文件注释，放于文件的开头\n",
    "\n",
    "\n",
    "文件注释主要是使用`@xxx`标识的变量\n",
    "\n",
    "```C\n",
    "/** \n",
    "* @file         filename \n",
    "* @brief        This is a brief description. \n",
    "* @details  This is the detail description. \n",
    "* @author       author \n",
    "* @date     date \n",
    "* @version  A001 \n",
    "* @par Copyright (c):  \n",
    "*       XXX公司 \n",
    "* @par History:          \n",
    "*   version: author, date, desc\\n \n",
    "*/  \n",
    "```"
   ]
  },
  {
   "cell_type": "markdown",
   "metadata": {},
   "source": [
    "## 函数注释，放于函数声明前\n",
    "\n",
    "函数注释主要是使用`@xxx`标识的变量\n",
    "\n",
    "```C\n",
    "/** \n",
    "* This is a brief description. \n",
    "* This is a detail description. \n",
    "* @param[in]   inArgName input argument description. \n",
    "* @param[out]  outArgName output argument description.  \n",
    "* @retval  OK  成功 \n",
    "* @retval  ERROR   错误  \n",
    "* @par 标识符 \n",
    "*      保留 \n",
    "* @par 其它 \n",
    "*      无 \n",
    "* @par 修改日志 \n",
    "*      XXX于201X-XX-XX创建 \n",
    "*/\n",
    "```"
   ]
  },
  {
   "cell_type": "markdown",
   "metadata": {},
   "source": [
    "## 数据结构注释，放于数据结构定义前\n",
    "\n",
    "```c\n",
    "/** \n",
    " * The brief description. \n",
    " * The detail description. \n",
    " */  \n",
    "typedef struct  \n",
    "{  \n",
    "    int var1;///<Description of the member variable  \n",
    "}XXXX;\n",
    "```"
   ]
  },
  {
   "cell_type": "markdown",
   "metadata": {},
   "source": [
    "## 宏定义注释，放于宏定义上方或者右侧\n",
    "\n",
    "```c\n",
    "/** Description of the macro */  \n",
    "#define XXXX_XXX_XX     0\n",
    "```\n",
    "或者\n",
    "\n",
    "```c\n",
    "#define XXXX_XXX_XX     0 ///< Description of the macro.  \n",
    "```"
   ]
  },
  {
   "cell_type": "markdown",
   "metadata": {},
   "source": [
    "## 全局和静态变量注释\n",
    "\n",
    "```c\n",
    "/**  Description of global variable  */  \n",
    "int g_xxx = 0;  \n",
    "\n",
    "static int s_xxx = 0; ///<  Description of static variable\n",
    "``` "
   ]
  },
  {
   "cell_type": "markdown",
   "metadata": {},
   "source": [
    "一般来说文档工具是为自动生成接口文档设计的,因此一般来说这个工具只要对头文件使用即可."
   ]
  },
  {
   "cell_type": "markdown",
   "metadata": {},
   "source": [
    "### 例子:为`BINARY_VECTOR`写注释"
   ]
  },
  {
   "cell_type": "code",
   "execution_count": 1,
   "metadata": {
    "collapsed": false
   },
   "outputs": [
    {
     "name": "stdout",
     "output_type": "stream",
     "text": [
      "Overwriting ../codes/C1_C_tools/doc_tools/include/binary_vector.h\n"
     ]
    }
   ],
   "source": [
    "%%writefile ../codes/C1_C_tools/doc_tools/include/binary_vector.h\n",
    "/** \n",
    "* @file         binary_vector.h\n",
    "* @brief        binary_vector接口文件\n",
    "* @author       author \n",
    "* @date     2018-1-8\n",
    "* @version  dev\n",
    "* @par Copyright (c):  \n",
    "*       XXX公司 \n",
    "* @par History:          \n",
    "*   version: author, date, desc\\n \n",
    "*/\n",
    "#ifndef BINARY_VECTOR_H\n",
    "#define BINARY_VECTOR_H//一般是文件名的大写 头文件结尾写上一行\n",
    "\n",
    "/** \n",
    "* @struct       BINARY_VECTOR\n",
    "* @brief        vector结构\n",
    "*/  \n",
    "typedef struct {\n",
    "    float x; ///头一位\n",
    "    float y; ///尾一位\n",
    "} BINARY_VECTOR;\n",
    "\n",
    "/** \n",
    "* @fn float VEC_mod(BINARY_VECTOR)\n",
    "* @brief 求模 \n",
    "* @param[vector]   要求模的向量  \n",
    "* @return  float 模的值\n",
    "* @par 修改日志 \n",
    "*      XXX于201X-XX-XX创建 \n",
    "*/\n",
    "extern float VEC_mod(BINARY_VECTOR);\n",
    "\n",
    "/** \n",
    "* @fn BINARY_VECTOR VEC_add(BINARY_VECTOR,BINARY_VECTOR)\n",
    "* @brief 求两个向量的和\n",
    "* @param[vector]   求和的第一个向量\n",
    "* @param[vector]   求和的第二个向量  \n",
    "* @return  BINARY_VECTOR 相加后的向量\n",
    "* @par 修改日志 \n",
    "*      XXX于201X-XX-XX创建 \n",
    "*/\n",
    "extern BINARY_VECTOR VEC_add(BINARY_VECTOR,BINARY_VECTOR);\n",
    "\n",
    "/** \n",
    "* @fn float VEC_mul(BINARY_VECTOR ,BINARY_VECTOR)\n",
    "* @brief 求积\n",
    "* @param[vector]   求积的第一个向量\n",
    "* @param[vector]   求积的第二个向量  \n",
    "* @return  float 内积的值\n",
    "* @par 修改日志 \n",
    "*      XXX于201X-XX-XX创建 \n",
    "*/\n",
    "extern float VEC_mul(BINARY_VECTOR ,BINARY_VECTOR);\n",
    "\n",
    "#endif"
   ]
  },
  {
   "cell_type": "markdown",
   "metadata": {},
   "source": [
    "## 使用doxygen生成文档\n",
    "\n",
    "在有了注释以后,还需要使用doxygen工具生成所需的文档形式.使用命令行工具`doxygen`.其步骤为:\n",
    "\n",
    "1. `doxygen -g`生成一份配置模板\n",
    "2. 修改配置模板中的参数,中要的有:\n",
    "\n",
    "    + 项目名称 `PROJECT_NAME = \"MyProject\"`\n",
    "    + 对C项目优化 `OPTIMIZE_OUTPUT_FOR_C = YES`\n",
    "    + 源文件路径 `INPUT = /home/tom/project/include`\n",
    "    + 源文件编码 `INPUT_ENCODEING = UTF-8`\n",
    "    + 生成XML `GENERATE_XML = YES` 如果要使用breathe扩展，所以必须生成xml\n",
    "    + XML输出目录 `XML_OUTPUT = my_xml`\n",
    "    + 是否需要生成html `GENERATE_HTML = NO`\n",
    "    + 是否需要生成latex `GENERATE_LATEX = NO`\n",
    "    + 是否显示包含文件 `SHOW_INCLUDE_FILES = NO`\n",
    "    \n",
    "    一般来说如果要单独使用doxygen则需要设置 `GENERATE_HTML = Yes`,如果要配合`breathe`则需要设置`GENERATE_XML = YES`\n",
    "    \n",
    "3. 运行`doxygen [Doxyfile]`生成目标文档\n"
   ]
  },
  {
   "cell_type": "markdown",
   "metadata": {},
   "source": [
    "## 使用breathe将doxygen与sphinx结合\n",
    "\n",
    "作为python用户,文档工具的首选肯定是sphinx,要让这两个结合需要使用[breathe](https://breathe.readthedocs.io/en/latest/index.html)\n",
    "\n",
    "\n",
    "其后续步骤为:\n",
    "\n",
    "+ 配置`conf.py`,以支持breathe扩展.前提是这一扩展已经安装.\n",
    "\n",
    "    加入扩展:\n",
    "```python\n",
    "extensions = ['breathe']\n",
    "```\n",
    "\n",
    "+ 在`conf.py`中配置`breathe`:\n",
    "\n",
    "```python\n",
    "breathe_projects = { \"myproject\": \"./my_xml\" }\n",
    "breathe_default_project = \"myproject\"\n",
    "breathe_domain_by_extension = {\"h\" : \"c\"}\n",
    "```\n",
    "\n",
    "+ 在需要的`.rst`文件中加入以下代码引入接口\n",
    "\n",
    "按breathe扩展语法编写`rst`文件,比如:\n",
    "\n",
    "```rst\n",
    "My API\n",
    "==========\n",
    "\n",
    "sp.h\n",
    "----\n",
    "\n",
    ".. doxygenfile:: sp.h\n",
    "\n",
    "```\n",
    "\n",
    "+ 运行 make html 生成html即可.\n",
    "\n",
    "在这些步骤中，需要先调用doxygen生成xml，再调用sphinx-build(make html时自动调用)生成最终文档，如果想一步完成，可以在Makefile中加入doxygen调用:\n",
    "\n",
    "```make\n",
    "html:\n",
    "    doxygen Doxyfile\n",
    "    $(SPHINXBUILD) -b html $(ALLSPHINXOPTS) $(BUILDDIR)/html\n",
    "    @echo\n",
    "    @echo \"Build finished. The HTML pages are in $(BUILDDIR)/html.\"\n",
    "```"
   ]
  },
  {
   "cell_type": "code",
   "execution_count": null,
   "metadata": {
    "collapsed": true
   },
   "outputs": [],
   "source": []
  }
 ],
 "metadata": {
  "kernelspec": {
   "display_name": "Python 3",
   "language": "python",
   "name": "python3"
  },
  "language_info": {
   "codemirror_mode": {
    "name": "ipython",
    "version": 3
   },
   "file_extension": ".py",
   "mimetype": "text/x-python",
   "name": "python",
   "nbconvert_exporter": "python",
   "pygments_lexer": "ipython3",
   "version": "3.6.0"
  }
 },
 "nbformat": 4,
 "nbformat_minor": 2
}
