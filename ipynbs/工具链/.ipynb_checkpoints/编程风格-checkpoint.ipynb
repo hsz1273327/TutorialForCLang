{
 "cells": [
  {
   "cell_type": "markdown",
   "metadata": {},
   "source": [
    "# 编程风格\n",
    "\n",
    "任何语言的编程风格都是一个很个性化的东西,但明确风格又非常有意义.\n",
    "\n",
    "深入讨论之前，首先要明确编程风格的意义所在，基本的有：\n",
    "\n",
    "+ 美观\n",
    "+ 方便阅读\n",
    "+ 易于理解\n",
    "+ 方便修改和维护\n",
    "+ 方便审查\n",
    "+ 方便测试\n",
    "+ 程序效率\n",
    "+ 代码质量\n",
    "+ 方便编写\n",
    "\n",
    "\n",
    "就如同艺术流派的多样性一样,编码风格没有特定的统一规范,不同的软件项目或者企业有不同的艺术风格,比如说我一般使用vscode写程序,而其中可以在`C_Cpp.clang_format_fallbackStyle`中设置使用\n",
    "+ `Visual Studio`\n",
    "+ `LLVM`\n",
    "+ `Google`\n",
    "+ `Chromium`\n",
    "+ `Mozilla`\n",
    "+ `WebKit`\n",
    "\n",
    "这么几种预设风格之一,我一般喜欢使用`Google`风格,同时可以设置\n",
    "\n",
    "`\"C_Cpp.clang_format_style\": \"{ BasedOnStyle: Google, IndentWidth: 4 }\"`\n",
    "\n",
    "这样就可以让缩进为4个空格,以和python的风格一致."
   ]
  },
  {
   "cell_type": "markdown",
   "metadata": {
    "collapsed": true
   },
   "source": [
    "## 项目结构\n",
    "\n",
    "c语言需要编译,而且去github上可以发现各个项目的文件组织结构都不尽相同,按我的习惯通常简单的项目我们会把源代码放在一起,使用的第三方依赖的内容放在一起,而编译好的结果放在一起.比如:\n",
    "\n",
    "+ build文件夹  存放编译的结果\n",
    "\n",
    "    + bin  存放可执行文件\n",
    "    + lib  存放编译好的动态库或者静态库\n",
    "    + include  存放编译好的库的头文件\n",
    "    \n",
    "+ test文件夹  存放测试文件\n",
    "\n",
    "    虽然C语言是静态语言,但测试驱动编程依然是一个好的方法论.编译好的测试用可执行文件可以放在`build/bin`里面,同时文件名应该包含test字样\n",
    "    \n",
    "+ source文件夹  存放源码和一些依赖\n",
    "\n",
    "    + include  编译需要用到的头文件\n",
    "    + lib  编译需要用到的库文件\n",
    "    + objects  编译过程中产生的object文件,如果有必要的话\n",
    "    + src 编译用到的源文件\n",
    "    \n",
    "+ python文件夹  存放项目的python的C包装,如果需要的话才会有\n",
    "\n",
    "    + `<项目名>_wrapper.c`和`py<项目名>.py` c写的包装源码配合python写的包装,一般用于将函数封装成类\n",
    "    + `py<项目名>.pyx`和 `py<项目名>.pyd`  cython写的包装(如果使用cython的话)\n",
    "    + test 测试文件夹,用于测试包装效果\n",
    "    + `setup.py` python模块安装文件\n",
    "    \n",
    "    一般来说,个人认为以C为主的项目最好不要把包放到pypi,以防止安装出问题.这种项目的python接口还是强制源码安装比较靠谱.\n",
    "    \n",
    "    \n",
    "+ document  项目文档文件夹\n",
    "    \n",
    "+ CMakeLists.txt  `cmake`项目设置文件\n",
    "\n",
    "+ Doxyfile  `doxygen`项目设置文件\n",
    "    \n"
   ]
  },
  {
   "cell_type": "code",
   "execution_count": null,
   "metadata": {
    "collapsed": true
   },
   "outputs": [],
   "source": []
  }
 ],
 "metadata": {
  "kernelspec": {
   "display_name": "Python 3",
   "language": "python",
   "name": "python3"
  },
  "language_info": {
   "codemirror_mode": {
    "name": "ipython",
    "version": 3
   },
   "file_extension": ".py",
   "mimetype": "text/x-python",
   "name": "python",
   "nbconvert_exporter": "python",
   "pygments_lexer": "ipython3",
   "version": "3.6.0"
  }
 },
 "nbformat": 4,
 "nbformat_minor": 2
}
