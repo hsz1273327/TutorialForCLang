{
 "cells": [
  {
   "cell_type": "markdown",
   "metadata": {},
   "source": [
    "# 编程风格\n",
    "\n",
    "任何语言的编程风格都是一个很个性化的东西,但明确风格又非常有意义.\n",
    "\n",
    "深入讨论之前，首先要明确编程风格的意义所在，基本的有：\n",
    "\n",
    "+ 美观\n",
    "+ 方便阅读\n",
    "+ 易于理解\n",
    "+ 方便修改和维护\n",
    "+ 方便审查\n",
    "+ 方便测试\n",
    "+ 程序效率\n",
    "+ 代码质量\n",
    "+ 方便编写\n",
    "\n",
    "\n",
    "就如同艺术流派的多样性一样,编码风格没有特定的统一规范,不同的软件项目或者企业有不同的艺术风格,这些风格成文后就变成了规范,例如：\n",
    "\n",
    "+ Linux Documentation/CodingStyle\n",
    "+ GNU Coding Standard\n",
    "+ Uboot Coding Style\n",
    "+ Busybox Style Guide\n",
    "\n",
    "不同的场景应该使用不同的规则,不同的项目应该服从项目组的规范.如果你是项目发起人可以\n",
    "推荐使用[Linux Documentation/CodingStyle](http://iyu.is-programmer.com/posts/30315.html),并且适当修改以适应自己项目的需要,因为毕竟编程风格主要还是为了项目服务的.\n",
    "\n",
    "针对这篇文章,我们的目标是编写简短的C语言程序,且针对的读者是pythoner,所以使用的是在`linux CodingStyle`编程风格上的扩展,改变的地方包括:\n",
    "\n",
    "+ tab键对应的是4个空格\n",
    "+ 命名风格遵循python中的基本规范\n",
    "\n",
    "等"
   ]
  }
 ],
 "metadata": {
  "kernelspec": {
   "display_name": "Python 3",
   "language": "python",
   "name": "python3"
  },
  "language_info": {
   "codemirror_mode": {
    "name": "ipython",
    "version": 3
   },
   "file_extension": ".py",
   "mimetype": "text/x-python",
   "name": "python",
   "nbconvert_exporter": "python",
   "pygments_lexer": "ipython3",
   "version": "3.6.0"
  }
 },
 "nbformat": 4,
 "nbformat_minor": 2
}
