{
 "cells": [
  {
   "cell_type": "markdown",
   "metadata": {},
   "source": [
    "# 编译与运行环境\n",
    "\n",
    "C是静态语言,需要编译后才能执行.而编译的工具就是编译器.最常见的C编译器有:\n",
    "\n",
    "+ `GNU C`开源大佬,linux上编译器的的代名词,在osx上也可以使用homebrew安装,windows上则有MinGW作为其移植版.\n",
    "+ `llvm+Clang`苹果资助的编译器,也是osx下默认的编译器.有不少黑科技,比如C++的repl,jit技术等,一点不像保守的苹果资助的东西.\n",
    "+ `MSVC`微软家的御用编译器,vs内置的编译器.只能在windows下使用,要在命令行中使用需要将其加入环境变量`Path`\n",
    "\n",
    "\n",
    "对于C来说,编译其本质就是将源文件转化为二进制库文件或者可执行文件的过程,我们以一个小程序来作为例子,使用`gnu gcc`工具来演示整个编译过程:"
   ]
  },
  {
   "cell_type": "code",
   "execution_count": 1,
   "metadata": {
    "collapsed": false
   },
   "outputs": [
    {
     "name": "stdout",
     "output_type": "stream",
     "text": [
      "Overwriting ../codes/C1_Cpp_tools/Cpp_compiler/section1/src/helloworld.c\n"
     ]
    }
   ],
   "source": [
    "%%writefile ../codes/C1_Cpp_tools/Cpp_compiler/section1/src/helloworld.c\n",
    "#include <stdio.h>\n",
    "\n",
    "int main(){\n",
    "    printf(\"hello world\");\n",
    "    return 0;\n",
    "}"
   ]
  },
  {
   "cell_type": "markdown",
   "metadata": {},
   "source": [
    "## 步骤一:解读头文件,结合源文件,组合生成真正的待编译代码\n",
    "    \n",
    "这一步可以使用`-E`指令实现.这个过程只激活预处理,不生成文件,而是输出到标准输出.因此你需要把它重定向到一个输出文件里.,一般来说我们用后缀`.i`保存这个文件.\n",
    "\n",
    "这一步实际上做这些事儿:\n",
    "\n",
    "+ 宏的替换\n",
    "+ 注释的消除\n",
    "+ 还有找到相关的库文件\n",
    "+ 执行模板,将模板翻译成源码的实现\n",
    "+ 将#include文件的全部内容插入.若用`<>`括起文件则在系统的INCLUDE目录中寻找文件,若用`\" \"`括起文件则在当前目录中寻找文件."
   ]
  },
  {
   "cell_type": "code",
   "execution_count": 5,
   "metadata": {
    "collapsed": false,
    "scrolled": false
   },
   "outputs": [
    {
     "name": "stdout",
     "output_type": "stream",
     "text": [
      "# 1 \"../codes/C1_Cpp_tools/Cpp_compiler/section1/src/helloworld.c\"\n",
      "# 1 \"<command-line>\"\n",
      "# 1 \"../codes/C1_Cpp_tools/Cpp_compiler/section1/src/helloworld.c\"\n",
      "# 1 \"c:\\\\users\\\\87\\\\anaconda3\\\\mingw\\\\bin\\\\../lib/gcc/x86_64-w64-mingw32/4.7.0/../../../../x86_64-w64-mingw32/include/stdio.h\" 1 3\n",
      "# 9 \"c:\\\\users\\\\87\\\\anaconda3\\\\mingw\\\\bin\\\\../lib/gcc/x86_64-w64-mingw32/4.7.0/../../../../x86_64-w64-mingw32/include/stdio.h\" 3\n",
      "# 1 \"c:\\\\users\\\\87\\\\anaconda3\\\\mingw\\\\bin\\\\../lib/gcc/x86_64-w64-mingw32/4.7.0/../../../../x86_64-w64-mingw32/include/_mingw.h\" 1 3\n",
      "# 10 \"c:\\\\users\\\\87\\\\anaconda3\\\\mingw\\\\bin\\\\../lib/gcc/x86_64-w64-mingw32/4.7.0/../../../../x86_64-w64-mingw32/include/_mingw.h\" 3\n",
      "# 1 \"c:\\\\users\\\\87\\\\anaconda3\\\\mingw\\\\bin\\\\../lib/gcc/x86_64-w64-mingw32/4.7.0/../../../../x86_64-w64-mingw32/include/_mingw_mac.h\" 1 3\n",
      "# 32 \"c:\\\\users\\\\87\\\\anaconda3\\\\mingw\\\\bin\\\\../lib/gcc/x86_64-w64-mingw32/4.7.0/../../../../x86_64-w64-mingw32/include/_mingw_mac.h\" 3\n",
      "       \n",
      "# 41 \"c:\\\\users\\\\87\\\\anaconda3\\\\mingw\\\\bin\\\\../lib/gcc/x86_64-w64-mingw32/4.7.0/../../../../x86_64-w64-mingw32/include/_mingw_mac.h\" 3\n",
      "       \n",
      "# 11 \"c:\\\\users\\\\87\\\\anaconda3\\\\mingw\\\\bin\\\\../lib/gcc/x86_64-w64-mingw32/4.7.0/../../../../x86_64-w64-mingw32/include/_mingw.h\" 2 3\n",
      "# 293 \"c:\\\\users\\\\87\\\\anaconda3\\\\mingw\\\\bin\\\\../lib/gcc/x86_64-w64-mingw32/4.7.0/../../../../x86_64-w64-mingw32/include/_mingw.h\" 3\n",
      "# 1 \"c:\\\\users\\\\87\\\\anaconda3\\\\mingw\\\\bin\\\\../lib/gcc/x86_64-w64-mingw32/4.7.0/../../../../x86_64-w64-mingw32/include/vadefs.h\" 1 3\n",
      "# 13 \"c:\\\\users\\\\87\\\\anaconda3\\\\mingw\\\\bin\\\\../lib/gcc/x86_64-w64-mingw32/4.7.0/../../../../x86_64-w64-mingw32/include/vadefs.h\" 3\n",
      "# 1 \"c:\\\\users\\\\87\\\\anaconda3\\\\mingw\\\\bin\\\\../lib/gcc/x86_64-w64-mingw32/4.7.0/../../../../x86_64-w64-mingw32/include/_mingw.h\" 1 3\n",
      "# 739 \"c:\\\\users\\\\87\\\\anaconda3\\\\mingw\\\\bin\\\\../lib/gcc/x86_64-w64-mingw32/4.7.0/../../../../x86_64-w64-mingw32/include/_mingw.h\" 3\n",
      "# 1 \"c:\\\\users\\\\87\\\\anaconda3\\\\mingw\\\\bin\\\\../lib/gcc/x86_64-w64-mingw32/4.7.0/../../../../x86_64-w64-mingw32/include/sdks/_mingw_directx.h\" 1 3\n",
      "# 740 \"c:\\\\users\\\\87\\\\anaconda3\\\\mingw\\\\bin\\\\../lib/gcc/x86_64-w64-mingw32/4.7.0/../../../../x86_64-w64-mingw32/include/_mingw.h\" 2 3\n",
      "# 1 \"c:\\\\users\\\\87\\\\anaconda3\\\\mingw\\\\bin\\\\../lib/gcc/x86_64-w64-mingw32/4.7.0/../../../../x86_64-w64-mingw32/include/sdks/_mingw_ddk.h\" 1 3\n",
      "# 741 \"c:\\\\users\\\\87\\\\anaconda3\\\\mingw\\\\bin\\\\../lib/gcc/x86_64-w64-mingw32/4.7.0/../../../../x86_64-w64-mingw32/include/_mingw.h\" 2 3\n",
      "# 14 \"c:\\\\users\\\\87\\\\anaconda3\\\\mingw\\\\bin\\\\../lib/gcc/x86_64-w64-mingw32/4.7.0/../../../../x86_64-w64-mingw32/include/vadefs.h\" 2 3\n",
      "\n",
      "\n",
      "#pragma pack(push,_CRT_PACKING)\n",
      "# 26 \"c:\\\\users\\\\87\\\\anaconda3\\\\mingw\\\\bin\\\\../lib/gcc/x86_64-w64-mingw32/4.7.0/../../../../x86_64-w64-mingw32/include/vadefs.h\" 3\n",
      "  typedef __builtin_va_list __gnuc_va_list;\n",
      "\n",
      "\n",
      "\n",
      "\n",
      "\n",
      "\n",
      "  typedef __gnuc_va_list va_list;\n",
      "# 105 \"c:\\\\users\\\\87\\\\anaconda3\\\\mingw\\\\bin\\\\../lib/gcc/x86_64-w64-mingw32/4.7.0/../../../../x86_64-w64-mingw32/include/vadefs.h\" 3\n",
      "#pragma pack(pop)\n",
      "# 294 \"c:\\\\users\\\\87\\\\anaconda3\\\\mingw\\\\bin\\\\../lib/gcc/x86_64-w64-mingw32/4.7.0/../../../../x86_64-w64-mingw32/include/_mingw.h\" 2 3\n",
      "\n",
      "\n",
      "#pragma pack(push,_CRT_PACKING)\n",
      "# 386 \"c:\\\\users\\\\87\\\\anaconda3\\\\mingw\\\\bin\\\\../lib/gcc/x86_64-w64-mingw32/4.7.0/../../../../x86_64-w64-mingw32/include/_mingw.h\" 3\n",
      "__extension__ typedef unsigned long long size_t;\n",
      "# 396 \"c:\\\\users\\\\87\\\\anaconda3\\\\mingw\\\\bin\\\\../lib/gcc/x86_64-w64-mingw32/4.7.0/../../../../x86_64-w64-mingw32/include/_mingw.h\" 3\n",
      "__extension__ typedef long long ssize_t;\n",
      "# 408 \"c:\\\\users\\\\87\\\\anaconda3\\\\mingw\\\\bin\\\\../lib/gcc/x86_64-w64-mingw32/4.7.0/../../../../x86_64-w64-mingw32/include/_mingw.h\" 3\n",
      "__extension__ typedef long long intptr_t;\n",
      "# 421 \"c:\\\\users\\\\87\\\\anaconda3\\\\mingw\\\\bin\\\\../lib/gcc/x86_64-w64-mingw32/4.7.0/../../../../x86_64-w64-mingw32/include/_mingw.h\" 3\n",
      "__extension__ typedef unsigned long long uintptr_t;\n",
      "# 434 \"c:\\\\users\\\\87\\\\anaconda3\\\\mingw\\\\bin\\\\../lib/gcc/x86_64-w64-mingw32/4.7.0/../../../../x86_64-w64-mingw32/include/_mingw.h\" 3\n",
      "__extension__ typedef long long ptrdiff_t;\n",
      "# 444 \"c:\\\\users\\\\87\\\\anaconda3\\\\mingw\\\\bin\\\\../lib/gcc/x86_64-w64-mingw32/4.7.0/../../../../x86_64-w64-mingw32/include/_mingw.h\" 3\n",
      "typedef unsigned short wchar_t;\n",
      "\n",
      "\n",
      "\n",
      "\n",
      "\n",
      "\n",
      "\n",
      "typedef unsigned short wint_t;\n",
      "typedef unsigned short wctype_t;\n",
      "# 472 \"c:\\\\users\\\\87\\\\anaconda3\\\\mingw\\\\bin\\\\../lib/gcc/x86_64-w64-mingw32/4.7.0/../../../../x86_64-w64-mingw32/include/_mingw.h\" 3\n",
      "typedef int errno_t;\n",
      "\n",
      "\n",
      "\n",
      "\n",
      "typedef long __time32_t;\n",
      "\n",
      "\n",
      "\n",
      "\n",
      "__extension__ typedef long long __time64_t;\n",
      "\n",
      "\n",
      "\n",
      "\n",
      "\n",
      "\n",
      "\n",
      "typedef __time64_t time_t;\n",
      "# 652 \"c:\\\\users\\\\87\\\\anaconda3\\\\mingw\\\\bin\\\\../lib/gcc/x86_64-w64-mingw32/4.7.0/../../../../x86_64-w64-mingw32/include/_mingw.h\" 3\n",
      "struct threadlocaleinfostruct;\n",
      "struct threadmbcinfostruct;\n",
      "typedef struct threadlocaleinfostruct *pthreadlocinfo;\n",
      "typedef struct threadmbcinfostruct *pthreadmbcinfo;\n",
      "struct __lc_time_data;\n",
      "\n",
      "typedef struct localeinfo_struct {\n",
      "  pthreadlocinfo locinfo;\n",
      "  pthreadmbcinfo mbcinfo;\n",
      "} _locale_tstruct,*_locale_t;\n",
      "\n",
      "\n",
      "\n",
      "typedef struct tagLC_ID {\n",
      "  unsigned short wLanguage;\n",
      "  unsigned short wCountry;\n",
      "  unsigned short wCodePage;\n",
      "} LC_ID,*LPLC_ID;\n",
      "\n",
      "\n",
      "\n",
      "\n",
      "typedef struct threadlocaleinfostruct {\n",
      "  int refcount;\n",
      "  unsigned int lc_codepage;\n",
      "  unsigned int lc_collate_cp;\n",
      "  unsigned long lc_handle[6];\n",
      "  LC_ID lc_id[6];\n",
      "  struct {\n",
      "    char *locale;\n",
      "    wchar_t *wlocale;\n",
      "    int *refcount;\n",
      "    int *wrefcount;\n",
      "  } lc_category[6];\n",
      "  int lc_clike;\n",
      "  int mb_cur_max;\n",
      "  int *lconv_intl_refcount;\n",
      "  int *lconv_num_refcount;\n",
      "  int *lconv_mon_refcount;\n",
      "  struct lconv *lconv;\n",
      "  int *ctype1_refcount;\n",
      "  unsigned short *ctype1;\n",
      "  const unsigned short *pctype;\n",
      "  const unsigned char *pclmap;\n",
      "  const unsigned char *pcumap;\n",
      "  struct __lc_time_data *lc_time_curr;\n",
      "} threadlocinfo;\n",
      "# 707 \"c:\\\\users\\\\87\\\\anaconda3\\\\mingw\\\\bin\\\\../lib/gcc/x86_64-w64-mingw32/4.7.0/../../../../x86_64-w64-mingw32/include/_mingw.h\" 3\n",
      "void __attribute__((__cdecl__)) __debugbreak(void);\n",
      "extern __inline__ __attribute__((__always_inline__,__gnu_inline__)) void __attribute__((__cdecl__)) __debugbreak(void)\n",
      "{\n",
      "  __asm__ __volatile__(\"int $3\");\n",
      "}\n",
      "\n",
      "\n",
      "\n",
      "\n",
      "const char *__mingw_get_crt_info (void);\n",
      "\n",
      "\n",
      "\n",
      "\n",
      "\n",
      "\n",
      "#pragma pack(pop)\n",
      "# 10 \"c:\\\\users\\\\87\\\\anaconda3\\\\mingw\\\\bin\\\\../lib/gcc/x86_64-w64-mingw32/4.7.0/../../../../x86_64-w64-mingw32/include/stdio.h\" 2 3\n",
      "\n",
      "# 1 \"c:\\\\users\\\\87\\\\anaconda3\\\\mingw\\\\bin\\\\../lib/gcc/x86_64-w64-mingw32/4.7.0/../../../../x86_64-w64-mingw32/include/_mingw_print_push.h\" 1 3\n",
      "# 12 \"c:\\\\users\\\\87\\\\anaconda3\\\\mingw\\\\bin\\\\../lib/gcc/x86_64-w64-mingw32/4.7.0/../../../../x86_64-w64-mingw32/include/stdio.h\" 2 3\n",
      "\n",
      "#pragma pack(push,_CRT_PACKING)\n",
      "# 26 \"c:\\\\users\\\\87\\\\anaconda3\\\\mingw\\\\bin\\\\../lib/gcc/x86_64-w64-mingw32/4.7.0/../../../../x86_64-w64-mingw32/include/stdio.h\" 3\n",
      "  struct _iobuf {\n",
      "    char *_ptr;\n",
      "    int _cnt;\n",
      "    char *_base;\n",
      "    int _flag;\n",
      "    int _file;\n",
      "    int _charbuf;\n",
      "    int _bufsiz;\n",
      "    char *_tmpfname;\n",
      "  };\n",
      "  typedef struct _iobuf FILE;\n",
      "# 80 \"c:\\\\users\\\\87\\\\anaconda3\\\\mingw\\\\bin\\\\../lib/gcc/x86_64-w64-mingw32/4.7.0/../../../../x86_64-w64-mingw32/include/stdio.h\" 3\n",
      "# 1 \"c:\\\\users\\\\87\\\\anaconda3\\\\mingw\\\\bin\\\\../lib/gcc/x86_64-w64-mingw32/4.7.0/../../../../x86_64-w64-mingw32/include/_mingw_off_t.h\" 1 3\n",
      "\n",
      "\n",
      "\n",
      "\n",
      "  typedef long _off_t;\n",
      "\n",
      "  typedef long off32_t;\n",
      "\n",
      "\n",
      "\n",
      "\n",
      "\n",
      "  __extension__ typedef long long _off64_t;\n",
      "\n",
      "  __extension__ typedef long long off64_t;\n",
      "# 26 \"c:\\\\users\\\\87\\\\anaconda3\\\\mingw\\\\bin\\\\../lib/gcc/x86_64-w64-mingw32/4.7.0/../../../../x86_64-w64-mingw32/include/_mingw_off_t.h\" 3\n",
      "typedef off32_t off_t;\n",
      "# 81 \"c:\\\\users\\\\87\\\\anaconda3\\\\mingw\\\\bin\\\\../lib/gcc/x86_64-w64-mingw32/4.7.0/../../../../x86_64-w64-mingw32/include/stdio.h\" 2 3\n",
      "\n",
      "\n",
      "\n",
      "  __attribute__ ((__dllimport__)) FILE *__attribute__((__cdecl__)) __iob_func(void);\n",
      "# 103 \"c:\\\\users\\\\87\\\\anaconda3\\\\mingw\\\\bin\\\\../lib/gcc/x86_64-w64-mingw32/4.7.0/../../../../x86_64-w64-mingw32/include/stdio.h\" 3\n",
      "  __extension__ typedef long long fpos_t;\n",
      "# 139 \"c:\\\\users\\\\87\\\\anaconda3\\\\mingw\\\\bin\\\\../lib/gcc/x86_64-w64-mingw32/4.7.0/../../../../x86_64-w64-mingw32/include/stdio.h\" 3\n",
      "extern\n",
      "  __attribute__((__format__ (gnu_scanf, 2, 3))) __attribute__ ((__nonnull__ (2)))\n",
      "  int __attribute__((__cdecl__)) __mingw_sscanf(const char * __restrict__ _Src,const char * __restrict__ _Format,...);\n",
      "extern\n",
      "  __attribute__((__format__ (gnu_scanf, 2, 0))) __attribute__ ((__nonnull__ (2)))\n",
      "  int __attribute__((__cdecl__)) __mingw_vsscanf (const char * __restrict__ _Str,const char * __restrict__ Format,va_list argp);\n",
      "extern\n",
      "  __attribute__((__format__ (gnu_scanf, 1, 2))) __attribute__ ((__nonnull__ (1)))\n",
      "  int __attribute__((__cdecl__)) __mingw_scanf(const char * __restrict__ _Format,...);\n",
      "extern\n",
      "  __attribute__((__format__ (gnu_scanf, 1, 0))) __attribute__ ((__nonnull__ (1)))\n",
      "  int __attribute__((__cdecl__)) __mingw_vscanf(const char * __restrict__ Format, va_list argp);\n",
      "extern\n",
      "  __attribute__((__format__ (gnu_scanf, 2, 3))) __attribute__ ((__nonnull__ (2)))\n",
      "  int __attribute__((__cdecl__)) __mingw_fscanf(FILE * __restrict__ _File,const char * __restrict__ _Format,...);\n",
      "extern\n",
      "  __attribute__((__format__ (gnu_scanf, 2, 0))) __attribute__ ((__nonnull__ (2)))\n",
      "  int __attribute__((__cdecl__)) __mingw_vfscanf (FILE * __restrict__ fp, const char * __restrict__ Format,va_list argp);\n",
      "\n",
      "extern\n",
      "  __attribute__((__format__ (gnu_printf, 3, 0))) __attribute__ ((__nonnull__ (3)))\n",
      "  int __attribute__((__cdecl__)) __mingw_vsnprintf(char * __restrict__ _DstBuf,size_t _MaxCount,const char * __restrict__ _Format,\n",
      "                               va_list _ArgList);\n",
      "extern\n",
      "  __attribute__((__format__ (gnu_printf, 3, 4))) __attribute__ ((__nonnull__ (3)))\n",
      "  int __attribute__((__cdecl__)) __mingw_snprintf(char * __restrict__ s, size_t n, const char * __restrict__ format, ...);\n",
      "extern\n",
      "  __attribute__((__format__ (gnu_printf, 1, 2))) __attribute__ ((__nonnull__ (1)))\n",
      "  int __attribute__((__cdecl__)) __mingw_printf(const char * __restrict__ , ... ) __attribute__ ((__nothrow__));\n",
      "extern\n",
      "  __attribute__((__format__ (gnu_printf, 1, 0))) __attribute__ ((__nonnull__ (1)))\n",
      "  int __attribute__((__cdecl__)) __mingw_vprintf (const char * __restrict__ , va_list) __attribute__ ((__nothrow__));\n",
      "extern\n",
      "  __attribute__((__format__ (gnu_printf, 2, 3))) __attribute__ ((__nonnull__ (2)))\n",
      "  int __attribute__((__cdecl__)) __mingw_fprintf (FILE * __restrict__ , const char * __restrict__ , ...) __attribute__ ((__nothrow__));\n",
      "extern\n",
      "  __attribute__((__format__ (gnu_printf, 2, 0))) __attribute__ ((__nonnull__ (2)))\n",
      "  int __attribute__((__cdecl__)) __mingw_vfprintf (FILE * __restrict__ , const char * __restrict__ , va_list) __attribute__ ((__nothrow__));\n",
      "extern\n",
      "  __attribute__((__format__ (gnu_printf, 2, 3))) __attribute__ ((__nonnull__ (2)))\n",
      "  int __attribute__((__cdecl__)) __mingw_sprintf (char * __restrict__ , const char * __restrict__ , ...) __attribute__ ((__nothrow__));\n",
      "extern\n",
      "  __attribute__((__format__ (gnu_printf, 2, 0))) __attribute__ ((__nonnull__ (2)))\n",
      "  int __attribute__((__cdecl__)) __mingw_vsprintf (char * __restrict__ , const char * __restrict__ , va_list) __attribute__ ((__nothrow__));\n",
      "extern\n",
      "  __attribute__((__format__ (gnu_printf, 2, 3))) __attribute__((nonnull (1,2)))\n",
      "  int __attribute__((__cdecl__)) __mingw_asprintf(char ** __restrict__ , const char * __restrict__ , ...) __attribute__ ((__nothrow__));\n",
      "extern\n",
      "  __attribute__((__format__ (gnu_printf, 2, 0))) __attribute__((nonnull (1,2)))\n",
      "  int __attribute__((__cdecl__)) __mingw_vasprintf(char ** __restrict__ , const char * __restrict__ , va_list) __attribute__ ((__nothrow__));\n",
      "# 366 \"c:\\\\users\\\\87\\\\anaconda3\\\\mingw\\\\bin\\\\../lib/gcc/x86_64-w64-mingw32/4.7.0/../../../../x86_64-w64-mingw32/include/stdio.h\" 3\n",
      "  int __attribute__((__cdecl__)) fprintf(FILE * __restrict__ _File,const char * __restrict__ _Format,...);\n",
      "  int __attribute__((__cdecl__)) printf(const char * __restrict__ _Format,...);\n",
      "  int __attribute__((__cdecl__)) sprintf(char * __restrict__ _Dest,const char * __restrict__ _Format,...) ;\n",
      "\n",
      "  int __attribute__((__cdecl__)) vfprintf(FILE * __restrict__ _File,const char * __restrict__ _Format,va_list _ArgList);\n",
      "  int __attribute__((__cdecl__)) vprintf(const char * __restrict__ _Format,va_list _ArgList);\n",
      "  int __attribute__((__cdecl__)) vsprintf(char * __restrict__ _Dest,const char * __restrict__ _Format,va_list _Args) ;\n",
      "\n",
      "  int __attribute__((__cdecl__)) fscanf(FILE * __restrict__ _File,const char * __restrict__ _Format,...) ;\n",
      "  int __attribute__((__cdecl__)) scanf(const char * __restrict__ _Format,...) ;\n",
      "  int __attribute__((__cdecl__)) sscanf(const char * __restrict__ _Src,const char * __restrict__ _Format,...) ;\n",
      "\n",
      "  int __attribute__((__cdecl__)) __ms_vscanf(const char * __restrict__ Format, va_list argp);\n",
      "  int __attribute__((__cdecl__)) __ms_vfscanf (FILE * __restrict__ fp, const char * __restrict__ Format,va_list argp);\n",
      "  int __attribute__((__cdecl__)) __ms_vsscanf (const char * __restrict__ _Str,const char * __restrict__ Format,va_list argp);\n",
      "\n",
      "  static __attribute__ ((__unused__)) __inline__ __attribute__((__cdecl__))\n",
      "  __attribute__ ((__nonnull__ (2)))\n",
      "  int vfscanf (FILE *__stream, const char *__format, __builtin_va_list __local_argv)\n",
      "  {\n",
      "    return __ms_vfscanf (__stream, __format, __local_argv);\n",
      "  }\n",
      "\n",
      "  static __attribute__ ((__unused__)) __inline__ __attribute__((__cdecl__))\n",
      "  __attribute__ ((__nonnull__ (2)))\n",
      "  int vsscanf (const char * __restrict__ __source, const char * __restrict__ __format, __builtin_va_list __local_argv)\n",
      "  {\n",
      "    return __ms_vsscanf( __source, __format, __local_argv );\n",
      "  }\n",
      "  static __attribute__ ((__unused__)) __inline__ __attribute__((__cdecl__))\n",
      "  __attribute__ ((__nonnull__ (1)))\n",
      "  int vscanf(const char *__format, __builtin_va_list __local_argv)\n",
      "  {\n",
      "    return __ms_vscanf (__format, __local_argv);\n",
      "  }\n",
      "\n",
      "\n",
      "\n",
      "\n",
      "  __attribute__ ((__dllimport__)) int __attribute__((__cdecl__)) _filbuf(FILE *_File);\n",
      "  __attribute__ ((__dllimport__)) int __attribute__((__cdecl__)) _flsbuf(int _Ch,FILE *_File);\n",
      "\n",
      "\n",
      "\n",
      "  __attribute__ ((__dllimport__)) FILE *__attribute__((__cdecl__)) _fsopen(const char *_Filename,const char *_Mode,int _ShFlag);\n",
      "\n",
      "  void __attribute__((__cdecl__)) clearerr(FILE *_File);\n",
      "  int __attribute__((__cdecl__)) fclose(FILE *_File);\n",
      "  __attribute__ ((__dllimport__)) int __attribute__((__cdecl__)) _fcloseall(void);\n",
      "\n",
      "\n",
      "\n",
      "  __attribute__ ((__dllimport__)) FILE *__attribute__((__cdecl__)) _fdopen(int _FileHandle,const char *_Mode);\n",
      "\n",
      "  int __attribute__((__cdecl__)) feof(FILE *_File);\n",
      "  int __attribute__((__cdecl__)) ferror(FILE *_File);\n",
      "  int __attribute__((__cdecl__)) fflush(FILE *_File);\n",
      "  int __attribute__((__cdecl__)) fgetc(FILE *_File);\n",
      "  __attribute__ ((__dllimport__)) int __attribute__((__cdecl__)) _fgetchar(void);\n",
      "  int __attribute__((__cdecl__)) fgetpos(FILE * __restrict__ _File ,fpos_t * __restrict__ _Pos);\n",
      "  int __attribute__((__cdecl__)) fgetpos64(FILE * __restrict__ _File ,fpos_t * __restrict__ _Pos);\n",
      "  char *__attribute__((__cdecl__)) fgets(char * __restrict__ _Buf,int _MaxCount,FILE * __restrict__ _File);\n",
      "  __attribute__ ((__dllimport__)) int __attribute__((__cdecl__)) _fileno(FILE *_File);\n",
      "\n",
      "\n",
      "\n",
      "  __attribute__ ((__dllimport__)) char *__attribute__((__cdecl__)) _tempnam(const char *_DirName,const char *_FilePrefix);\n",
      "  __attribute__ ((__dllimport__)) int __attribute__((__cdecl__)) _flushall(void);\n",
      "  FILE *__attribute__((__cdecl__)) fopen(const char * __restrict__ _Filename,const char * __restrict__ _Mode) ;\n",
      "  FILE *fopen64(const char * __restrict__ filename,const char * __restrict__ mode);\n",
      "  int __attribute__((__cdecl__)) fputc(int _Ch,FILE *_File);\n",
      "  __attribute__ ((__dllimport__)) int __attribute__((__cdecl__)) _fputchar(int _Ch);\n",
      "  int __attribute__((__cdecl__)) fputs(const char * __restrict__ _Str,FILE * __restrict__ _File);\n",
      "  size_t __attribute__((__cdecl__)) fread(void * __restrict__ _DstBuf,size_t _ElementSize,size_t _Count,FILE * __restrict__ _File);\n",
      "  FILE *__attribute__((__cdecl__)) freopen(const char * __restrict__ _Filename,const char * __restrict__ _Mode,FILE * __restrict__ _File) ;\n",
      "  int __attribute__((__cdecl__)) _fscanf_l(FILE * __restrict__ _File,const char * __restrict__ _Format,_locale_t locale,...) ;\n",
      "  int __attribute__((__cdecl__)) fsetpos(FILE *_File,const fpos_t *_Pos);\n",
      "  int __attribute__((__cdecl__)) fsetpos64(FILE *_File,const fpos_t *_Pos);\n",
      "  int __attribute__((__cdecl__)) fseek(FILE *_File,long _Offset,int _Origin);\n",
      "\n",
      "\n",
      "\n",
      "  int fseeko64(FILE* stream, _off64_t offset, int whence);\n",
      "  int fseeko(FILE* stream, _off_t offset, int whence);\n",
      "# 462 \"c:\\\\users\\\\87\\\\anaconda3\\\\mingw\\\\bin\\\\../lib/gcc/x86_64-w64-mingw32/4.7.0/../../../../x86_64-w64-mingw32/include/stdio.h\" 3\n",
      "  long __attribute__((__cdecl__)) ftell(FILE *_File);\n",
      "\n",
      "  _off_t ftello(FILE * stream);\n",
      "  _off64_t ftello64(FILE * stream);\n",
      "# 474 \"c:\\\\users\\\\87\\\\anaconda3\\\\mingw\\\\bin\\\\../lib/gcc/x86_64-w64-mingw32/4.7.0/../../../../x86_64-w64-mingw32/include/stdio.h\" 3\n",
      "  __extension__ int __attribute__((__cdecl__)) _fseeki64(FILE *_File,long long _Offset,int _Origin);\n",
      "  __extension__ long long __attribute__((__cdecl__)) _ftelli64(FILE *_File);\n",
      "  size_t __attribute__((__cdecl__)) fwrite(const void * __restrict__ _Str,size_t _Size,size_t _Count,FILE * __restrict__ _File);\n",
      "  int __attribute__((__cdecl__)) getc(FILE *_File);\n",
      "  int __attribute__((__cdecl__)) getchar(void);\n",
      "  __attribute__ ((__dllimport__)) int __attribute__((__cdecl__)) _getmaxstdio(void);\n",
      "  char *__attribute__((__cdecl__)) gets(char *_Buffer) ;\n",
      "  int __attribute__((__cdecl__)) _getw(FILE *_File);\n",
      "\n",
      "\n",
      "  void __attribute__((__cdecl__)) perror(const char *_ErrMsg);\n",
      "\n",
      "  __attribute__ ((__dllimport__)) int __attribute__((__cdecl__)) _pclose(FILE *_File);\n",
      "  __attribute__ ((__dllimport__)) FILE *__attribute__((__cdecl__)) _popen(const char *_Command,const char *_Mode);\n",
      "\n",
      "\n",
      "\n",
      "\n",
      "  int __attribute__((__cdecl__)) putc(int _Ch,FILE *_File);\n",
      "  int __attribute__((__cdecl__)) putchar(int _Ch);\n",
      "  int __attribute__((__cdecl__)) puts(const char *_Str);\n",
      "  __attribute__ ((__dllimport__)) int __attribute__((__cdecl__)) _putw(int _Word,FILE *_File);\n",
      "\n",
      "\n",
      "  int __attribute__((__cdecl__)) remove(const char *_Filename);\n",
      "  int __attribute__((__cdecl__)) rename(const char *_OldFilename,const char *_NewFilename);\n",
      "  __attribute__ ((__dllimport__)) int __attribute__((__cdecl__)) _unlink(const char *_Filename);\n",
      "\n",
      "  int __attribute__((__cdecl__)) unlink(const char *_Filename) ;\n",
      "\n",
      "\n",
      "  void __attribute__((__cdecl__)) rewind(FILE *_File);\n",
      "  __attribute__ ((__dllimport__)) int __attribute__((__cdecl__)) _rmtmp(void);\n",
      "  int __attribute__((__cdecl__)) _scanf_l(const char * __restrict__ format,_locale_t locale,... ) ;\n",
      "  void __attribute__((__cdecl__)) setbuf(FILE * __restrict__ _File,char * __restrict__ _Buffer) ;\n",
      "  __attribute__ ((__dllimport__)) int __attribute__((__cdecl__)) _setmaxstdio(int _Max);\n",
      "  __attribute__ ((__dllimport__)) unsigned int __attribute__((__cdecl__)) _set_output_format(unsigned int _Format);\n",
      "  __attribute__ ((__dllimport__)) unsigned int __attribute__((__cdecl__)) _get_output_format(void);\n",
      "  unsigned int __attribute__((__cdecl__)) __mingw_set_output_format(unsigned int _Format);\n",
      "  unsigned int __attribute__((__cdecl__)) __mingw_get_output_format(void);\n",
      "\n",
      "\n",
      "\n",
      "\n",
      "  int __attribute__((__cdecl__)) setvbuf(FILE * __restrict__ _File,char * __restrict__ _Buf,int _Mode,size_t _Size);\n",
      "  __attribute__ ((__dllimport__)) int __attribute__((__cdecl__)) _scprintf(const char * __restrict__ _Format,...);\n",
      "  int __attribute__((__cdecl__)) _sscanf_l(const char * __restrict__ buffer,const char * __restrict__ format,_locale_t locale,...) ;\n",
      "  __attribute__ ((__dllimport__)) int __attribute__((__cdecl__)) _snscanf(const char * __restrict__ _Src,size_t _MaxCount,const char * __restrict__ _Format,...) ;\n",
      "  __attribute__ ((__dllimport__)) int __attribute__((__cdecl__)) _snscanf_l(const char * __restrict__ input,size_t length,const char * __restrict__ format,_locale_t locale,...) ;\n",
      "  FILE *__attribute__((__cdecl__)) tmpfile(void) ;\n",
      "  char *__attribute__((__cdecl__)) tmpnam(char *_Buffer);\n",
      "  int __attribute__((__cdecl__)) ungetc(int _Ch,FILE *_File);\n",
      "\n",
      "  __attribute__ ((__dllimport__)) int __attribute__((__cdecl__)) _snprintf(char * __restrict__ _Dest,size_t _Count,const char * __restrict__ _Format,...) ;\n",
      "  __attribute__ ((__dllimport__)) int __attribute__((__cdecl__)) _snprintf_l(char * __restrict__ buffer,size_t count,const char * __restrict__ format,_locale_t locale,...) ;\n",
      "  __attribute__ ((__dllimport__)) int __attribute__((__cdecl__)) _vsnprintf(char * __restrict__ _Dest,size_t _Count,const char * __restrict__ _Format,va_list _Args) ;\n",
      "  __attribute__ ((__dllimport__)) int __attribute__((__cdecl__)) _vsnprintf_l(char * __restrict__ buffer,size_t count,const char * __restrict__ format,_locale_t locale,va_list argptr) ;\n",
      "  int __attribute__((__cdecl__)) _sprintf_l(char * __restrict__ buffer,const char * __restrict__ format,_locale_t locale,...) ;\n",
      "\n",
      "\n",
      "\n",
      "\n",
      "       \n",
      "       \n",
      "\n",
      "\n",
      "  int __attribute__((__cdecl__)) __ms_vsnprintf(char * __restrict__ d,size_t n,const char * __restrict__ format,va_list arg)\n",
      "    ;\n",
      "\n",
      "  static __attribute__ ((__unused__)) __inline__ __attribute__((__cdecl__))\n",
      "  __attribute__ ((__nonnull__ (3)))\n",
      "  int vsnprintf (char * __restrict__ __stream, size_t __n, const char * __restrict__ __format, va_list __local_argv)\n",
      "  {\n",
      "    return __ms_vsnprintf (__stream, __n, __format, __local_argv);\n",
      "  }\n",
      "\n",
      "  int __attribute__((__cdecl__)) __ms_snprintf(char * __restrict__ s, size_t n, const char * __restrict__ format, ...);\n",
      "\n",
      "\n",
      "static __attribute__ ((__unused__)) __inline__ __attribute__((__cdecl__))\n",
      "__attribute__ ((__nonnull__ (3)))\n",
      "int snprintf (char * __restrict__ __stream, size_t __n, const char * __restrict__ __format, ...)\n",
      "{\n",
      "  register int __retval;\n",
      "  __builtin_va_list __local_argv; __builtin_va_start( __local_argv, __format );\n",
      "  __retval = __ms_vsnprintf (__stream, __n, __format, __local_argv);\n",
      "  __builtin_va_end( __local_argv );\n",
      "  return __retval;\n",
      "}\n",
      "\n",
      "\n",
      "       \n",
      "       \n",
      "\n",
      "\n",
      "  __attribute__ ((__dllimport__)) int __attribute__((__cdecl__)) _vscprintf(const char * __restrict__ _Format,va_list _ArgList);\n",
      "  __attribute__ ((__dllimport__)) int __attribute__((__cdecl__)) _set_printf_count_output(int _Value);\n",
      "  __attribute__ ((__dllimport__)) int __attribute__((__cdecl__)) _get_printf_count_output(void);\n",
      "\n",
      "\n",
      "\n",
      "\n",
      "                                                     __attribute__ ((__nonnull__ (2)))\n",
      "  int __attribute__((__cdecl__)) __mingw_swscanf(const wchar_t * __restrict__ _Src,const wchar_t * __restrict__ _Format,...);\n",
      "                                                     __attribute__ ((__nonnull__ (2)))\n",
      "  int __attribute__((__cdecl__)) __mingw_vswscanf (const wchar_t * __restrict__ _Str,const wchar_t * __restrict__ Format,va_list argp);\n",
      "                                                     __attribute__ ((__nonnull__ (1)))\n",
      "  int __attribute__((__cdecl__)) __mingw_wscanf(const wchar_t * __restrict__ _Format,...);\n",
      "                                                     __attribute__ ((__nonnull__ (1)))\n",
      "  int __attribute__((__cdecl__)) __mingw_vwscanf(const wchar_t * __restrict__ Format, va_list argp);\n",
      "                                                     __attribute__ ((__nonnull__ (2)))\n",
      "  int __attribute__((__cdecl__)) __mingw_fwscanf(FILE * __restrict__ _File,const wchar_t * __restrict__ _Format,...);\n",
      "                                                     __attribute__ ((__nonnull__ (2)))\n",
      "  int __attribute__((__cdecl__)) __mingw_vfwscanf (FILE * __restrict__ fp, const wchar_t * __restrict__ Format,va_list argp);\n",
      "\n",
      "                                                      __attribute__ ((__nonnull__ (2)))\n",
      "  int __attribute__((__cdecl__)) __mingw_fwprintf(FILE * __restrict__ _File,const wchar_t * __restrict__ _Format,...);\n",
      "                                                      __attribute__ ((__nonnull__ (1)))\n",
      "  int __attribute__((__cdecl__)) __mingw_wprintf(const wchar_t * __restrict__ _Format,...);\n",
      "                                                     __attribute__ ((__nonnull__ (2)))\n",
      "  int __attribute__((__cdecl__)) __mingw_vfwprintf(FILE * __restrict__ _File,const wchar_t * __restrict__ _Format,va_list _ArgList);\n",
      "                                                     __attribute__ ((__nonnull__ (1)))\n",
      "  int __attribute__((__cdecl__)) __mingw_vwprintf(const wchar_t * __restrict__ _Format,va_list _ArgList);\n",
      "                                                      __attribute__ ((__nonnull__ (2)))\n",
      "  int __attribute__((__cdecl__)) __mingw_swprintf(wchar_t * __restrict__ , const wchar_t * __restrict__ , ...) ;\n",
      "                                                      __attribute__ ((__nonnull__ (2)))\n",
      "  int __attribute__((__cdecl__)) __mingw_vswprintf(wchar_t * __restrict__ , const wchar_t * __restrict__ ,va_list) ;\n",
      "                                                      __attribute__ ((__nonnull__ (3)))\n",
      "  int __attribute__((__cdecl__)) __mingw_snwprintf (wchar_t * __restrict__ s, size_t n, const wchar_t * __restrict__ format, ...);\n",
      "                                                      __attribute__ ((__nonnull__ (3)))\n",
      "  int __attribute__((__cdecl__)) __mingw_vsnwprintf (wchar_t * __restrict__ , size_t, const wchar_t * __restrict__ , va_list);\n",
      "# 754 \"c:\\\\users\\\\87\\\\anaconda3\\\\mingw\\\\bin\\\\../lib/gcc/x86_64-w64-mingw32/4.7.0/../../../../x86_64-w64-mingw32/include/stdio.h\" 3\n",
      "  int __attribute__((__cdecl__)) fwscanf(FILE * __restrict__ _File,const wchar_t * __restrict__ _Format,...) ;\n",
      "  int __attribute__((__cdecl__)) swscanf(const wchar_t * __restrict__ _Src,const wchar_t * __restrict__ _Format,...) ;\n",
      "  int __attribute__((__cdecl__)) wscanf(const wchar_t * __restrict__ _Format,...) ;\n",
      "\n",
      "  int __attribute__((__cdecl__)) __ms_vwscanf (const wchar_t * __restrict__ , va_list);\n",
      "  int __attribute__((__cdecl__)) __ms_vfwscanf (FILE * __restrict__ ,const wchar_t * __restrict__ ,va_list);\n",
      "  int __attribute__((__cdecl__)) __ms_vswscanf (const wchar_t * __restrict__ ,const wchar_t * __restrict__ ,va_list);\n",
      "\n",
      "  static __attribute__ ((__unused__)) __inline__ __attribute__((__cdecl__))\n",
      "  __attribute__ ((__nonnull__ (2)))\n",
      "  int vfwscanf (FILE *__stream, const wchar_t *__format, __builtin_va_list __local_argv)\n",
      "  {\n",
      "    return __ms_vfwscanf (__stream, __format, __local_argv);\n",
      "  }\n",
      "\n",
      "  static __attribute__ ((__unused__)) __inline__ __attribute__((__cdecl__))\n",
      "  __attribute__ ((__nonnull__ (2)))\n",
      "  int vswscanf (const wchar_t * __restrict__ __source, const wchar_t * __restrict__ __format, __builtin_va_list __local_argv)\n",
      "  {\n",
      "    return __ms_vswscanf( __source, __format, __local_argv );\n",
      "  }\n",
      "  static __attribute__ ((__unused__)) __inline__ __attribute__((__cdecl__))\n",
      "  __attribute__ ((__nonnull__ (1)))\n",
      "  int vwscanf(const wchar_t *__format, __builtin_va_list __local_argv)\n",
      "  {\n",
      "    return __ms_vwscanf (__format, __local_argv);\n",
      "  }\n",
      "\n",
      "\n",
      "\n",
      "  int __attribute__((__cdecl__)) fwprintf(FILE * __restrict__ _File,const wchar_t * __restrict__ _Format,...);\n",
      "  int __attribute__((__cdecl__)) wprintf(const wchar_t * __restrict__ _Format,...);\n",
      "  int __attribute__((__cdecl__)) vfwprintf(FILE * __restrict__ _File,const wchar_t * __restrict__ _Format,va_list _ArgList);\n",
      "  int __attribute__((__cdecl__)) vwprintf(const wchar_t * __restrict__ _Format,va_list _ArgList);\n",
      "  __attribute__ ((__dllimport__)) int __attribute__((__cdecl__)) swprintf(wchar_t * __restrict__ , const wchar_t * __restrict__ , ...) ;\n",
      "  __attribute__ ((__dllimport__)) int __attribute__((__cdecl__)) vswprintf(wchar_t * __restrict__ , const wchar_t * __restrict__ ,va_list) ;\n",
      "# 799 \"c:\\\\users\\\\87\\\\anaconda3\\\\mingw\\\\bin\\\\../lib/gcc/x86_64-w64-mingw32/4.7.0/../../../../x86_64-w64-mingw32/include/stdio.h\" 3\n",
      "  __attribute__ ((__dllimport__)) FILE *__attribute__((__cdecl__)) _wfsopen(const wchar_t *_Filename,const wchar_t *_Mode,int _ShFlag);\n",
      "\n",
      "\n",
      "  wint_t __attribute__((__cdecl__)) fgetwc(FILE *_File);\n",
      "  __attribute__ ((__dllimport__)) wint_t __attribute__((__cdecl__)) _fgetwchar(void);\n",
      "  wint_t __attribute__((__cdecl__)) fputwc(wchar_t _Ch,FILE *_File);\n",
      "  __attribute__ ((__dllimport__)) wint_t __attribute__((__cdecl__)) _fputwchar(wchar_t _Ch);\n",
      "  wint_t __attribute__((__cdecl__)) getwc(FILE *_File);\n",
      "  wint_t __attribute__((__cdecl__)) getwchar(void);\n",
      "  wint_t __attribute__((__cdecl__)) putwc(wchar_t _Ch,FILE *_File);\n",
      "  wint_t __attribute__((__cdecl__)) putwchar(wchar_t _Ch);\n",
      "  wint_t __attribute__((__cdecl__)) ungetwc(wint_t _Ch,FILE *_File);\n",
      "  wchar_t *__attribute__((__cdecl__)) fgetws(wchar_t * __restrict__ _Dst,int _SizeInWords,FILE * __restrict__ _File);\n",
      "  int __attribute__((__cdecl__)) fputws(const wchar_t * __restrict__ _Str,FILE * __restrict__ _File);\n",
      "  __attribute__ ((__dllimport__)) wchar_t *__attribute__((__cdecl__)) _getws(wchar_t *_String) ;\n",
      "  __attribute__ ((__dllimport__)) int __attribute__((__cdecl__)) _putws(const wchar_t *_Str);\n",
      "\n",
      "  __attribute__ ((__dllimport__)) int __attribute__((__cdecl__)) _scwprintf(const wchar_t * __restrict__ _Format,...);\n",
      "  __attribute__ ((__dllimport__)) int __attribute__((__cdecl__)) _swprintf_l(wchar_t * __restrict__ buffer,size_t count,const wchar_t * __restrict__ format,_locale_t locale,... ) ;\n",
      "  __attribute__ ((__dllimport__)) int __attribute__((__cdecl__)) _swprintf_c(wchar_t * __restrict__ _DstBuf,size_t _SizeInWords,const wchar_t * __restrict__ _Format,...);\n",
      "  __attribute__ ((__dllimport__)) int __attribute__((__cdecl__)) _vswprintf_c(wchar_t * __restrict__ _DstBuf,size_t _SizeInWords,const wchar_t * __restrict__ _Format,va_list _ArgList);\n",
      "  __attribute__ ((__dllimport__)) int __attribute__((__cdecl__)) _snwprintf(wchar_t * __restrict__ _Dest,size_t _Count,const wchar_t * __restrict__ _Format,...) ;\n",
      "  __attribute__ ((__dllimport__)) int __attribute__((__cdecl__)) _vsnwprintf(wchar_t * __restrict__ _Dest,size_t _Count,const wchar_t * __restrict__ _Format,va_list _Args) ;\n",
      "\n",
      "\n",
      "\n",
      "\n",
      "       \n",
      "       \n",
      "\n",
      "\n",
      "  int __attribute__((__cdecl__)) __ms_snwprintf (wchar_t * __restrict__ s, size_t n, const wchar_t * __restrict__ format, ...);\n",
      "  int __attribute__((__cdecl__)) __ms_vsnwprintf (wchar_t * __restrict__ , size_t, const wchar_t * __restrict__ , va_list);\n",
      "  static __attribute__ ((__unused__)) __inline__ __attribute__((__cdecl__))\n",
      "  int snwprintf (wchar_t * __restrict__ s, size_t n, const wchar_t * __restrict__ format, ...)\n",
      "  {\n",
      "    int r;\n",
      "    va_list argp;\n",
      "    __builtin_va_start (argp, format);\n",
      "    r = _vsnwprintf (s, n, format, argp);\n",
      "    __builtin_va_end (argp);\n",
      "    return r;\n",
      "  }\n",
      "  static __attribute__ ((__unused__)) __inline__ __attribute__((__cdecl__))\n",
      "  int __attribute__((__cdecl__)) vsnwprintf (wchar_t * __restrict__ s, size_t n, const wchar_t * __restrict__ format, va_list arg)\n",
      "  {\n",
      "    return _vsnwprintf(s,n,format,arg);\n",
      "  }\n",
      "       \n",
      "       \n",
      "\n",
      "\n",
      "\n",
      "  __attribute__ ((__dllimport__)) int __attribute__((__cdecl__)) _fwprintf_p(FILE * __restrict__ _File,const wchar_t * __restrict__ _Format,...);\n",
      "  __attribute__ ((__dllimport__)) int __attribute__((__cdecl__)) _wprintf_p(const wchar_t * __restrict__ _Format,...);\n",
      "  __attribute__ ((__dllimport__)) int __attribute__((__cdecl__)) _vfwprintf_p(FILE * __restrict__ _File,const wchar_t * __restrict__ _Format,va_list _ArgList);\n",
      "  __attribute__ ((__dllimport__)) int __attribute__((__cdecl__)) _vwprintf_p(const wchar_t * __restrict__ _Format,va_list _ArgList);\n",
      "  __attribute__ ((__dllimport__)) int __attribute__((__cdecl__)) _swprintf_p(wchar_t * __restrict__ _DstBuf,size_t _MaxCount,const wchar_t * __restrict__ _Format,...);\n",
      "  __attribute__ ((__dllimport__)) int __attribute__((__cdecl__)) _vswprintf_p(wchar_t * __restrict__ _DstBuf,size_t _MaxCount,const wchar_t * __restrict__ _Format,va_list _ArgList);\n",
      "  __attribute__ ((__dllimport__)) int __attribute__((__cdecl__)) _scwprintf_p(const wchar_t * __restrict__ _Format,...);\n",
      "  __attribute__ ((__dllimport__)) int __attribute__((__cdecl__)) _vscwprintf_p(const wchar_t * __restrict__ _Format,va_list _ArgList);\n",
      "  __attribute__ ((__dllimport__)) int __attribute__((__cdecl__)) _wprintf_l(const wchar_t * __restrict__ _Format,_locale_t _Locale,...);\n",
      "  __attribute__ ((__dllimport__)) int __attribute__((__cdecl__)) _wprintf_p_l(const wchar_t * __restrict__ _Format,_locale_t _Locale,...);\n",
      "  __attribute__ ((__dllimport__)) int __attribute__((__cdecl__)) _vwprintf_l(const wchar_t * __restrict__ _Format,_locale_t _Locale,va_list _ArgList);\n",
      "  __attribute__ ((__dllimport__)) int __attribute__((__cdecl__)) _vwprintf_p_l(const wchar_t * __restrict__ _Format,_locale_t _Locale,va_list _ArgList);\n",
      "  __attribute__ ((__dllimport__)) int __attribute__((__cdecl__)) _fwprintf_l(FILE * __restrict__ _File,const wchar_t * __restrict__ _Format,_locale_t _Locale,...);\n",
      "  __attribute__ ((__dllimport__)) int __attribute__((__cdecl__)) _fwprintf_p_l(FILE * __restrict__ _File,const wchar_t * __restrict__ _Format,_locale_t _Locale,...);\n",
      "  __attribute__ ((__dllimport__)) int __attribute__((__cdecl__)) _vfwprintf_l(FILE * __restrict__ _File,const wchar_t * __restrict__ _Format,_locale_t _Locale,va_list _ArgList);\n",
      "  __attribute__ ((__dllimport__)) int __attribute__((__cdecl__)) _vfwprintf_p_l(FILE * __restrict__ _File,const wchar_t * __restrict__ _Format,_locale_t _Locale,va_list _ArgList);\n",
      "  __attribute__ ((__dllimport__)) int __attribute__((__cdecl__)) _swprintf_c_l(wchar_t * __restrict__ _DstBuf,size_t _MaxCount,const wchar_t * __restrict__ _Format,_locale_t _Locale,...);\n",
      "  __attribute__ ((__dllimport__)) int __attribute__((__cdecl__)) _swprintf_p_l(wchar_t * __restrict__ _DstBuf,size_t _MaxCount,const wchar_t * __restrict__ _Format,_locale_t _Locale,...);\n",
      "  __attribute__ ((__dllimport__)) int __attribute__((__cdecl__)) _vswprintf_c_l(wchar_t * __restrict__ _DstBuf,size_t _MaxCount,const wchar_t * __restrict__ _Format,_locale_t _Locale,va_list _ArgList);\n",
      "  __attribute__ ((__dllimport__)) int __attribute__((__cdecl__)) _vswprintf_p_l(wchar_t * __restrict__ _DstBuf,size_t _MaxCount,const wchar_t * __restrict__ _Format,_locale_t _Locale,va_list _ArgList);\n",
      "  __attribute__ ((__dllimport__)) int __attribute__((__cdecl__)) _scwprintf_l(const wchar_t * __restrict__ _Format,_locale_t _Locale,...);\n",
      "  __attribute__ ((__dllimport__)) int __attribute__((__cdecl__)) _scwprintf_p_l(const wchar_t * __restrict__ _Format,_locale_t _Locale,...);\n",
      "  __attribute__ ((__dllimport__)) int __attribute__((__cdecl__)) _vscwprintf_p_l(const wchar_t * __restrict__ _Format,_locale_t _Locale,va_list _ArgList);\n",
      "  __attribute__ ((__dllimport__)) int __attribute__((__cdecl__)) _snwprintf_l(wchar_t * __restrict__ _DstBuf,size_t _MaxCount,const wchar_t * __restrict__ _Format,_locale_t _Locale,...);\n",
      "  __attribute__ ((__dllimport__)) int __attribute__((__cdecl__)) _vsnwprintf_l(wchar_t * __restrict__ _DstBuf,size_t _MaxCount,const wchar_t * __restrict__ _Format,_locale_t _Locale,va_list _ArgList) ;\n",
      "  __attribute__ ((__dllimport__)) int __attribute__((__cdecl__)) _swprintf(wchar_t * __restrict__ _Dest,const wchar_t * __restrict__ _Format,...);\n",
      "  __attribute__ ((__dllimport__)) int __attribute__((__cdecl__)) _vswprintf(wchar_t * __restrict__ _Dest,const wchar_t * __restrict__ _Format,va_list _Args);\n",
      "  __attribute__ ((__dllimport__)) int __attribute__((__cdecl__)) __swprintf_l(wchar_t * __restrict__ _Dest,const wchar_t * __restrict__ _Format,_locale_t _Plocinfo,...) ;\n",
      "  __attribute__ ((__dllimport__)) int __attribute__((__cdecl__)) _vswprintf_l(wchar_t * __restrict__ buffer,size_t count,const wchar_t * __restrict__ format,_locale_t locale,va_list argptr) ;\n",
      "  __attribute__ ((__dllimport__)) int __attribute__((__cdecl__)) __vswprintf_l(wchar_t * __restrict__ _Dest,const wchar_t * __restrict__ _Format,_locale_t _Plocinfo,va_list _Args) ;\n",
      "# 892 \"c:\\\\users\\\\87\\\\anaconda3\\\\mingw\\\\bin\\\\../lib/gcc/x86_64-w64-mingw32/4.7.0/../../../../x86_64-w64-mingw32/include/stdio.h\" 3\n",
      "  __attribute__ ((__dllimport__)) wchar_t *__attribute__((__cdecl__)) _wtempnam(const wchar_t *_Directory,const wchar_t *_FilePrefix);\n",
      "  __attribute__ ((__dllimport__)) int __attribute__((__cdecl__)) _vscwprintf(const wchar_t * __restrict__ _Format,va_list _ArgList);\n",
      "  __attribute__ ((__dllimport__)) int __attribute__((__cdecl__)) _vscwprintf_l(const wchar_t * __restrict__ _Format,_locale_t _Locale,va_list _ArgList);\n",
      "  __attribute__ ((__dllimport__)) int __attribute__((__cdecl__)) _fwscanf_l(FILE * __restrict__ _File,const wchar_t * __restrict__ _Format,_locale_t _Locale,...) ;\n",
      "  __attribute__ ((__dllimport__)) int __attribute__((__cdecl__)) _swscanf_l(const wchar_t * __restrict__ _Src,const wchar_t * __restrict__ _Format,_locale_t _Locale,...) ;\n",
      "  __attribute__ ((__dllimport__)) int __attribute__((__cdecl__)) _snwscanf(const wchar_t * __restrict__ _Src,size_t _MaxCount,const wchar_t * __restrict__ _Format,...);\n",
      "  __attribute__ ((__dllimport__)) int __attribute__((__cdecl__)) _snwscanf_l(const wchar_t * __restrict__ _Src,size_t _MaxCount,const wchar_t * __restrict__ _Format,_locale_t _Locale,...);\n",
      "  __attribute__ ((__dllimport__)) int __attribute__((__cdecl__)) _wscanf_l(const wchar_t * __restrict__ _Format,_locale_t _Locale,...) ;\n",
      "  __attribute__ ((__dllimport__)) FILE *__attribute__((__cdecl__)) _wfdopen(int _FileHandle ,const wchar_t *_Mode);\n",
      "  __attribute__ ((__dllimport__)) FILE *__attribute__((__cdecl__)) _wfopen(const wchar_t * __restrict__ _Filename,const wchar_t *__restrict__ _Mode) ;\n",
      "  __attribute__ ((__dllimport__)) FILE *__attribute__((__cdecl__)) _wfreopen(const wchar_t * __restrict__ _Filename,const wchar_t * __restrict__ _Mode,FILE * __restrict__ _OldFile) ;\n",
      "\n",
      "\n",
      "\n",
      "  __attribute__ ((__dllimport__)) void __attribute__((__cdecl__)) _wperror(const wchar_t *_ErrMsg);\n",
      "\n",
      "  __attribute__ ((__dllimport__)) FILE *__attribute__((__cdecl__)) _wpopen(const wchar_t *_Command,const wchar_t *_Mode);\n",
      "\n",
      "\n",
      "\n",
      "\n",
      "  __attribute__ ((__dllimport__)) int __attribute__((__cdecl__)) _wremove(const wchar_t *_Filename);\n",
      "  __attribute__ ((__dllimport__)) wchar_t *__attribute__((__cdecl__)) _wtmpnam(wchar_t *_Buffer);\n",
      "  __attribute__ ((__dllimport__)) wint_t __attribute__((__cdecl__)) _fgetwc_nolock(FILE *_File);\n",
      "  __attribute__ ((__dllimport__)) wint_t __attribute__((__cdecl__)) _fputwc_nolock(wchar_t _Ch,FILE *_File);\n",
      "  __attribute__ ((__dllimport__)) wint_t __attribute__((__cdecl__)) _ungetwc_nolock(wint_t _Ch,FILE *_File);\n",
      "# 947 \"c:\\\\users\\\\87\\\\anaconda3\\\\mingw\\\\bin\\\\../lib/gcc/x86_64-w64-mingw32/4.7.0/../../../../x86_64-w64-mingw32/include/stdio.h\" 3\n",
      "  __attribute__ ((__dllimport__)) void __attribute__((__cdecl__)) _lock_file(FILE *_File);\n",
      "  __attribute__ ((__dllimport__)) void __attribute__((__cdecl__)) _unlock_file(FILE *_File);\n",
      "  __attribute__ ((__dllimport__)) int __attribute__((__cdecl__)) _fclose_nolock(FILE *_File);\n",
      "  __attribute__ ((__dllimport__)) int __attribute__((__cdecl__)) _fflush_nolock(FILE *_File);\n",
      "  __attribute__ ((__dllimport__)) size_t __attribute__((__cdecl__)) _fread_nolock(void * __restrict__ _DstBuf,size_t _ElementSize,size_t _Count,FILE * __restrict__ _File);\n",
      "  __attribute__ ((__dllimport__)) int __attribute__((__cdecl__)) _fseek_nolock(FILE *_File,long _Offset,int _Origin);\n",
      "  __attribute__ ((__dllimport__)) long __attribute__((__cdecl__)) _ftell_nolock(FILE *_File);\n",
      "  __extension__ __attribute__ ((__dllimport__)) int __attribute__((__cdecl__)) _fseeki64_nolock(FILE *_File,long long _Offset,int _Origin);\n",
      "  __extension__ __attribute__ ((__dllimport__)) long long __attribute__((__cdecl__)) _ftelli64_nolock(FILE *_File);\n",
      "  __attribute__ ((__dllimport__)) size_t __attribute__((__cdecl__)) _fwrite_nolock(const void * __restrict__ _DstBuf,size_t _Size,size_t _Count,FILE * __restrict__ _File);\n",
      "  __attribute__ ((__dllimport__)) int __attribute__((__cdecl__)) _ungetc_nolock(int _Ch,FILE *_File);\n",
      "\n",
      "\n",
      "\n",
      "\n",
      "\n",
      "  char *__attribute__((__cdecl__)) tempnam(const char *_Directory,const char *_FilePrefix) ;\n",
      "  int __attribute__((__cdecl__)) fcloseall(void) ;\n",
      "  FILE *__attribute__((__cdecl__)) fdopen(int _FileHandle,const char *_Format) ;\n",
      "  int __attribute__((__cdecl__)) fgetchar(void) ;\n",
      "  int __attribute__((__cdecl__)) fileno(FILE *_File) ;\n",
      "  int __attribute__((__cdecl__)) flushall(void) ;\n",
      "  int __attribute__((__cdecl__)) fputchar(int _Ch) ;\n",
      "  int __attribute__((__cdecl__)) getw(FILE *_File) ;\n",
      "  int __attribute__((__cdecl__)) putw(int _Ch,FILE *_File) ;\n",
      "  int __attribute__((__cdecl__)) rmtmp(void) ;\n",
      "# 989 \"c:\\\\users\\\\87\\\\anaconda3\\\\mingw\\\\bin\\\\../lib/gcc/x86_64-w64-mingw32/4.7.0/../../../../x86_64-w64-mingw32/include/stdio.h\" 3\n",
      "int __attribute__((__cdecl__)) __mingw_str_wide_utf8 (const wchar_t * const wptr, char **mbptr, size_t * buflen);\n",
      "# 1003 \"c:\\\\users\\\\87\\\\anaconda3\\\\mingw\\\\bin\\\\../lib/gcc/x86_64-w64-mingw32/4.7.0/../../../../x86_64-w64-mingw32/include/stdio.h\" 3\n",
      "int __attribute__((__cdecl__)) __mingw_str_utf8_wide (const char *const mbptr, wchar_t ** wptr, size_t * buflen);\n",
      "# 1012 \"c:\\\\users\\\\87\\\\anaconda3\\\\mingw\\\\bin\\\\../lib/gcc/x86_64-w64-mingw32/4.7.0/../../../../x86_64-w64-mingw32/include/stdio.h\" 3\n",
      "void __attribute__((__cdecl__)) __mingw_str_free(void *ptr);\n",
      "\n",
      "\n",
      "\n",
      "\n",
      "\n",
      "\n",
      "\n",
      "#pragma pack(pop)\n",
      "\n",
      "# 1 \"c:\\\\users\\\\87\\\\anaconda3\\\\mingw\\\\bin\\\\../lib/gcc/x86_64-w64-mingw32/4.7.0/../../../../x86_64-w64-mingw32/include/sec_api/stdio_s.h\" 1 3\n",
      "# 9 \"c:\\\\users\\\\87\\\\anaconda3\\\\mingw\\\\bin\\\\../lib/gcc/x86_64-w64-mingw32/4.7.0/../../../../x86_64-w64-mingw32/include/sec_api/stdio_s.h\" 3\n",
      "# 1 \"c:\\\\users\\\\87\\\\anaconda3\\\\mingw\\\\bin\\\\../lib/gcc/x86_64-w64-mingw32/4.7.0/../../../../x86_64-w64-mingw32/include/stdio.h\" 1 3\n",
      "# 10 \"c:\\\\users\\\\87\\\\anaconda3\\\\mingw\\\\bin\\\\../lib/gcc/x86_64-w64-mingw32/4.7.0/../../../../x86_64-w64-mingw32/include/sec_api/stdio_s.h\" 2 3\n",
      "# 1023 \"c:\\\\users\\\\87\\\\anaconda3\\\\mingw\\\\bin\\\\../lib/gcc/x86_64-w64-mingw32/4.7.0/../../../../x86_64-w64-mingw32/include/stdio.h\" 2 3\n",
      "\n",
      "# 1 \"c:\\\\users\\\\87\\\\anaconda3\\\\mingw\\\\bin\\\\../lib/gcc/x86_64-w64-mingw32/4.7.0/../../../../x86_64-w64-mingw32/include/_mingw_print_pop.h\" 1 3\n",
      "# 1025 \"c:\\\\users\\\\87\\\\anaconda3\\\\mingw\\\\bin\\\\../lib/gcc/x86_64-w64-mingw32/4.7.0/../../../../x86_64-w64-mingw32/include/stdio.h\" 2 3\n",
      "# 2 \"../codes/C1_Cpp_tools/Cpp_compiler/section1/src/helloworld.c\" 2\n",
      "\n",
      "int main(){\n",
      "    printf(\"hello world\");\n",
      "    return 0;\n",
      "}\n"
     ]
    }
   ],
   "source": [
    "!gcc -E ../codes/C1_Cpp_tools/Cpp_compiler/section1/src/helloworld.c"
   ]
  },
  {
   "cell_type": "markdown",
   "metadata": {},
   "source": [
    "## 步骤二:将代码转译成汇编语言\n",
    "\n",
    "这一步可以使用`-S`指令实现.这个过程就是将上一步的这串字符转译成汇编代码.汇编代码说白了就是二进制代码中操作与资源的的替代而已.因此说C/C++和汇编其实也就一步之遥.这也是为什么很多时候嵌入式设备使用C语言编写的原因.\n",
    "\n",
    "\n",
    "生成`helloworld.s`文件,`.s`文件表示是汇编文件，用编辑器打开就都是汇编指令了\n"
   ]
  },
  {
   "cell_type": "code",
   "execution_count": 6,
   "metadata": {
    "collapsed": true
   },
   "outputs": [],
   "source": [
    "!gcc -o ../codes/C1_Cpp_tools/Cpp_compiler/section1/src/helloworld.s \\\n",
    "-S ../codes/C1_Cpp_tools/Cpp_compiler/section1/src/helloworld.c"
   ]
  },
  {
   "cell_type": "code",
   "execution_count": 7,
   "metadata": {
    "collapsed": false
   },
   "outputs": [
    {
     "name": "stderr",
     "output_type": "stream",
     "text": [
      "'cat' 不是内部或外部命令，也不是可运行的程序\n",
      "或批处理文件。\n"
     ]
    }
   ],
   "source": [
    "!cat ../codes/C1_Cpp_tools/Cpp_compiler/section1/src/helloworld.s"
   ]
  },
  {
   "cell_type": "markdown",
   "metadata": {},
   "source": [
    "## 步骤三:将汇编语言的代码再编译为二进制代码\n",
    "\n",
    "这一步使用`-c`指令,将汇编代码编译位二进制代码.注意这依然不是可执行文件,因为其中使用的函数很可能并不包含在二进制文件中."
   ]
  },
  {
   "cell_type": "code",
   "execution_count": 8,
   "metadata": {
    "collapsed": true
   },
   "outputs": [],
   "source": [
    "!gcc -o ../codes/C1_Cpp_tools/Cpp_compiler/section1/src/helloworld.o \\\n",
    "-c ../codes/C1_Cpp_tools/Cpp_compiler/section1/src/helloworld.c"
   ]
  },
  {
   "cell_type": "code",
   "execution_count": 9,
   "metadata": {
    "collapsed": false
   },
   "outputs": [
    {
     "name": "stderr",
     "output_type": "stream",
     "text": [
      "'cat' 不是内部或外部命令，也不是可运行的程序\n",
      "或批处理文件。\n"
     ]
    }
   ],
   "source": [
    "!cat ../codes/C1_Cpp_tools/Cpp_compiler/section1/src/helloworld.o"
   ]
  },
  {
   "cell_type": "markdown",
   "metadata": {},
   "source": [
    "## 步骤四: 链接相关的二进制代码生成可执行文件\n",
    "\n",
    "这一步就是将与文件相关的函数库引入以生成最终的可执行文件."
   ]
  },
  {
   "cell_type": "code",
   "execution_count": 10,
   "metadata": {
    "collapsed": true
   },
   "outputs": [],
   "source": [
    "!gcc -o ../codes/C1_Cpp_tools/Cpp_compiler/section1/bin/helloworld \\\n",
    "../codes/C1_Cpp_tools/Cpp_compiler/section1/src/helloworld.o"
   ]
  },
  {
   "cell_type": "code",
   "execution_count": 11,
   "metadata": {
    "collapsed": false
   },
   "outputs": [
    {
     "name": "stderr",
     "output_type": "stream",
     "text": [
      "'..' 不是内部或外部命令，也不是可运行的程序\n",
      "或批处理文件。\n"
     ]
    }
   ],
   "source": [
    "!../codes/C1_Cpp_tools/Cpp_compiler/section1/bin/helloworld"
   ]
  },
  {
   "cell_type": "markdown",
   "metadata": {},
   "source": [
    "# 接口与实现\n",
    "\n",
    "C语言可以接口与实现分离,也就是说同样一份接口,后面实际使用的实现形式可以是千差万别的,可以是\n",
    "\n",
    "+ 动态/静态库\n",
    "+ 单一源文件\n",
    "+ 多个源文件组合\n",
    "\n",
    "而接口和实现也不是绑定的,这样就带来了灵活性.一般来说一个模块含有一个接口文件,它的后面可能按功能等分成多个实现用的源文件,而编译好后又是一个动态/静态库.而要用这个库的时候我们再为它写带main函数的源文件.\n",
    "\n",
    "下面是一个例子"
   ]
  },
  {
   "cell_type": "code",
   "execution_count": 18,
   "metadata": {
    "collapsed": false
   },
   "outputs": [
    {
     "name": "stdout",
     "output_type": "stream",
     "text": [
      "Overwriting ../codes/C1_Cpp_tools/Cpp_compiler/section2/include/binary_vector.h\n"
     ]
    }
   ],
   "source": [
    "%%writefile ../codes/C1_Cpp_tools/Cpp_compiler/section2/include/binary_vector.h\n",
    "#ifndef BINARY_VECTOR_H\n",
    "#define BINARY_VECTOR_H//一般是文件名的大写 头文件结尾写上一行\n",
    "\n",
    "#define T BINARY_VECTOR\n",
    "\n",
    "typedef struct {\n",
    "    float x;\n",
    "    float y;\n",
    "} T;\n",
    "\n",
    "extern float VEC_mod(T);\n",
    "extern T VEC_add(T,T);\n",
    "extern float VEC_mul(T ,T);\n",
    "\n",
    "#undef T\n",
    "\n",
    "#endif"
   ]
  },
  {
   "cell_type": "code",
   "execution_count": 3,
   "metadata": {
    "collapsed": false
   },
   "outputs": [
    {
     "name": "stdout",
     "output_type": "stream",
     "text": [
      "Overwriting ../codes/C1_Cpp_tools/Cpp_compiler/section2/src/unary_operator.c\n"
     ]
    }
   ],
   "source": [
    "%%writefile ../codes/C1_Cpp_tools/Cpp_compiler/section2/src/unary_operator.c\n",
    "#include \"binary_vector.h\"\n",
    "#include <math.h>\n",
    "#define T BINARY_VECTOR\n",
    "float VEC_mod(T a){\n",
    "    float result = sqrt(a.x*a.x+a.y*a.y);\n",
    "    return result;\n",
    "}\n",
    "#undef T"
   ]
  },
  {
   "cell_type": "code",
   "execution_count": 4,
   "metadata": {
    "collapsed": false
   },
   "outputs": [
    {
     "name": "stdout",
     "output_type": "stream",
     "text": [
      "Overwriting ../codes/C1_Cpp_tools/Cpp_compiler/section2/src/binary_operator.c\n"
     ]
    }
   ],
   "source": [
    "%%writefile ../codes/C1_Cpp_tools/Cpp_compiler/section2/src/binary_operator.c\n",
    "#include \"binary_vector.h\"\n",
    "#define T BINARY_VECTOR\n",
    "T  VEC_add(T a,T b){\n",
    "    BINARY_VECTOR result = {a.x+b.x,a.y+b.y};\n",
    "    return result;\n",
    "}\n",
    "float VEC_mul(T a,T b){\n",
    "    float result = a.x*b.x+a.y*b.y;\n",
    "    return result;\n",
    "}\n",
    "#undef T"
   ]
  },
  {
   "cell_type": "code",
   "execution_count": 5,
   "metadata": {
    "collapsed": false
   },
   "outputs": [
    {
     "name": "stdout",
     "output_type": "stream",
     "text": [
      "Overwriting ../codes/C1_Cpp_tools/Cpp_compiler/section2/test/test.c\n"
     ]
    }
   ],
   "source": [
    "%%writefile ../codes/C1_Cpp_tools/Cpp_compiler/section2/test/test.c\n",
    "#include <stdio.h>\n",
    "#include \"binary_vector.h\"\n",
    "\n",
    "\n",
    "int main(void){\n",
    "    BINARY_VECTOR A = {1,2},B = {3,4};\n",
    "    printf(\"mod(A)=%f\\n\",VEC_mod(A));\n",
    "    printf(\"mod(B)=%f\\n\",VEC_mod(B));\n",
    "    printf(\"mul(A,B)=%f\\n\",VEC_mul(A,B));\n",
    "    BINARY_VECTOR result = VEC_add(A,B);\n",
    "    printf(\"add(A,B)=<%f,%f>\\n\",result.x,result.y);\n",
    "}\n"
   ]
  },
  {
   "cell_type": "code",
   "execution_count": 7,
   "metadata": {
    "collapsed": false
   },
   "outputs": [],
   "source": [
    "!gcc -o ../codes/C1_Cpp_tools/Cpp_compiler/section2/bin/test \\\n",
    "-I ../codes/C1_Cpp_tools/Cpp_compiler/section2/include \\\n",
    "../codes/C1_Cpp_tools/Cpp_compiler/section2/src/*.c \\\n",
    "../codes/C1_Cpp_tools/Cpp_compiler/section2/test/test.c"
   ]
  },
  {
   "cell_type": "code",
   "execution_count": 8,
   "metadata": {
    "collapsed": false
   },
   "outputs": [
    {
     "name": "stderr",
     "output_type": "stream",
     "text": [
      "'..' 不是内部或外部命令，也不是可运行的程序\n",
      "或批处理文件。\n"
     ]
    }
   ],
   "source": [
    "!../codes/C1_Cpp_tools/Cpp_compiler/section2/bin/test"
   ]
  },
  {
   "cell_type": "markdown",
   "metadata": {},
   "source": [
    "C的特点之一就是申明与实现分离,这也决定了其开发方式和python截然相反,python一般是想到哪里写到哪里,比较适合敏捷开发,而C明显更适合先整体构思好了再动手写.因此才说python适合原型开发快速迭代,而C适合写(接口明确稳定的)业务."
   ]
  },
  {
   "cell_type": "markdown",
   "metadata": {},
   "source": [
    "# 链接库\n",
    "\n",
    "Java当初以跨平台作为重要的卖点,号称一次编译随处运行.其实C/C++当初也是这么宣传的,只不过对于C来说跨平台指的是写好源码,头文件后可以在各个平台编译运行(系统资源接口的调用除外).但是显然这种跨平台很不彻底.\n",
    "\n",
    "实际上还有另外一种复用的方式,就是将代码编译成链接库.再在步骤四的时候链接到最终的代码中.链接库分为静态链接库和动态链接库两种.\n",
    "\n",
    "静态链接库与动态链接库都是共享代码的方式\n",
    "\n",
    "链接库是由第三步的`.o`文件组合而成,各个系统平台使用不同的规范实现,具体是什么规范这边不细说.总之不同平台编译出来的链接库是不能兼容的.但其实问题也不太大,完全可以编译好后共享出去.\n",
    "\n",
    "## 链接库的使用方法\n",
    "\n",
    "无论静态链接库还是动态链接库,命名规则都是`libxxx+后缀`,但编译的时候指定的名字就是`xxx`.而调用方法都是用`#include`导入后就可以直接使用.\n",
    "\n",
    "很多时候我们为了隐藏代码实现,在共享的时候可以指定好平台操作系统,之后只共享出链接库和头文件.这种方式不仅可以防止代码被人篡改或者侵权,更可以精简接口.\n",
    "\n",
    "## 静态连接库\n",
    "\n",
    "在linux中,而静态链接库用`.a`为后缀.windows中以`.lib`为后缀.osx中也以`.a`或`.framework`为后缀.当要使用静态链接库时,连接器会找出程序所需的函数,然后将它们拷贝到执行文件,由于这种拷贝是完整的,所以一旦连接成功,静态程序库也就不再需要了.\n",
    "\n",
    "### 静态链接库的优点 \n",
    "\n",
    "+ 代码装载速度快，执行速度略比动态链接库快； \n",
    "\n",
    "+ 只需保证在开发者的计算机中有正确的库文件,在以二进制形式发布程序时不需考虑在用户的计算机上的库文件是否存在及版本问题.\n",
    "\n",
    "### 不足之处\n",
    "\n",
    "+ 使用静态链接生成的可执行文件体积较大,包含相同的公共代码,造成浪费\n",
    "\n",
    "### 构建静态链接库\n",
    "\n",
    "我们还是以之前的二维向量作为例子,一般我们用ar(archive,归档的意思)把多个目标文件集合起来生成静态链接库文件."
   ]
  },
  {
   "cell_type": "markdown",
   "metadata": {},
   "source": [
    "## 静态连接库\n",
    "\n",
    "在linux中,而静态链接库用`.a`为后缀.windows中以`.lib`为后缀.osx中也以`.a`或`.framework`为后缀.当要使用静态链接库时,连接器会找出程序所需的函数,然后将它们拷贝到执行文件,由于这种拷贝是完整的,所以一旦连接成功,静态程序库也就不再需要了.\n",
    "\n",
    "### 静态链接库的优点 \n",
    "\n",
    "+ 代码装载速度快，执行速度略比动态链接库快； \n",
    "\n",
    "+ 只需保证在开发者的计算机中有正确的库文件,在以二进制形式发布程序时不需考虑在用户的计算机上的库文件是否存在及版本问题.\n",
    "\n",
    "### 不足之处\n",
    "\n",
    "+ 使用静态链接生成的可执行文件体积较大,包含相同的公共代码,造成浪费\n",
    "\n",
    "### 构建静态链接库\n",
    "\n",
    "我们还是以之前的二维向量作为例子,一般我们用ar(archive,归档的意思)把多个目标文件集合起来生成静态链接库文件."
   ]
  },
  {
   "cell_type": "code",
   "execution_count": 9,
   "metadata": {
    "collapsed": false
   },
   "outputs": [],
   "source": [
    "!gcc -c \\\n",
    "-o ../codes/C1_Cpp_tools/Cpp_compiler/section2/objects/binary_operator.o \\\n",
    "-I ../codes/C1_Cpp_tools/Cpp_compiler/section2/include \\\n",
    "../codes/C1_Cpp_tools/Cpp_compiler/section2/src/binary_operator.c"
   ]
  },
  {
   "cell_type": "code",
   "execution_count": 10,
   "metadata": {
    "collapsed": true
   },
   "outputs": [],
   "source": [
    "!gcc -c \\\n",
    "-o ../codes/C1_Cpp_tools/Cpp_compiler/section2/objects/unary_operator.o \\\n",
    "-I ../codes/C1_Cpp_tools/Cpp_compiler/section2/include \\\n",
    "../codes/C1_Cpp_tools/Cpp_compiler/section2/src/unary_operator.c"
   ]
  },
  {
   "cell_type": "code",
   "execution_count": 12,
   "metadata": {
    "collapsed": false
   },
   "outputs": [
    {
     "name": "stderr",
     "output_type": "stream",
     "text": [
      "C:\\Users\\87\\Anaconda3\\Scripts\\ar.bat\\..\\..\\MinGW\\bin\\ar.exe: creating ../codes/C1_Cpp_tools/Cpp_compiler/section2/lib/libvector.a\n"
     ]
    }
   ],
   "source": [
    "!ar -r ../codes/C1_Cpp_tools/Cpp_compiler/section2/lib/libvector.a \\\n",
    "../codes/C1_Cpp_tools/Cpp_compiler/section2/objects/*.o"
   ]
  },
  {
   "cell_type": "markdown",
   "metadata": {},
   "source": [
    "### 使用静态链接库\n",
    "\n",
    "要调用静态库我们依然需要头文件,我们需要一个头文件来描述这个静态库中的接口.我们可以使用之前的头文件`vector.hpp`.要使用静态链接库我们需要用`-L`来指定静态库所在的地址,再使用`-l`来指定静态库的名字.注意静态库的名字."
   ]
  },
  {
   "cell_type": "code",
   "execution_count": 15,
   "metadata": {
    "collapsed": false
   },
   "outputs": [
    {
     "name": "stderr",
     "output_type": "stream",
     "text": [
      "C:\\Users\\87\\AppData\\Local\\Temp\\ccqKlLfd.o:test.c:(.text+0x39): undefined reference to `VEC_mod'\n",
      "C:\\Users\\87\\AppData\\Local\\Temp\\ccqKlLfd.o:test.c:(.text+0x72): undefined reference to `VEC_mod'\n",
      "C:\\Users\\87\\AppData\\Local\\Temp\\ccqKlLfd.o:test.c:(.text+0xaf): undefined reference to `VEC_mul'\n",
      "C:\\Users\\87\\AppData\\Local\\Temp\\ccqKlLfd.o:test.c:(.text+0xec): undefined reference to `VEC_add'\n",
      "collect2.exe: error: ld returned 1 exit status\n"
     ]
    }
   ],
   "source": [
    "!gcc \\\n",
    "-o ../codes/C1_Cpp_tools/Cpp_compiler/section2/bin/test_a \\\n",
    "-I ../codes/C1_Cpp_tools/Cpp_compiler/section2/include \\\n",
    "-L ../codes/C1_Cpp_tools/Cpp_compiler/section2/lib \\\n",
    "-l vector \\\n",
    "../codes/C1_Cpp_tools/Cpp_compiler/section2/test/test.c"
   ]
  },
  {
   "cell_type": "code",
   "execution_count": 73,
   "metadata": {
    "collapsed": false
   },
   "outputs": [
    {
     "name": "stdout",
     "output_type": "stream",
     "text": [
      "/bin/sh: ../codes/C1_Cpp_tools/Cpp_compiler/section3/bin/test_a: No such file or directory\r\n"
     ]
    }
   ],
   "source": [
    "!../codes/C1_Cpp_tools/Cpp_compiler/section3/bin/test_a"
   ]
  },
  {
   "cell_type": "markdown",
   "metadata": {},
   "source": [
    "## 动态连接库\n",
    "\n",
    "在linux中,动态链接库通常用`.so`为后缀.在windows中,动态链接库通常用`.dll`为后缀.在osx中,动态链接库通常用`.dylib`为后缀.\n",
    "\n",
    "\n",
    "某个程序在运行中要调用某个动态链接库函数的时候,操作系统首先会查看所有正在运行的程序,看在内存里是否已有此库函数的拷贝了.如果有,则让其共享那一个拷贝;只有没有才链接载入.在程序运行的时候,被调用的动态链接库函数被安置在内存的某个地方,所有调用它的程序将指向这个代码段.因此,这些代码必须使用相对地址,而不是绝对地址.在编译的时候,我们需要告诉编译器,这些对象文件是用来做动态链接库的,所以要用地址不无关代码(Position Independent Code (PIC)).\n",
    "\n",
    "注意:Linux下进行连接的缺省操作是首先连接动态库,也就是说,如果同时存在静态和动态库,不特别指定的话,将与动态库相连接.\n",
    "\n",
    "\n",
    "###  动态链接库的优点 \n",
    "\n",
    "+ 更加节省内存并减少页面交换;\n",
    "\n",
    "+ 动态链接文件与可执行文件独立,只要输出接口不变(即名称、参数、返回值类型和调用约定不变),更换动态链接文件不会对可执行文件造成任何影响,因而极大地提高了可维护性和可扩展性;\n",
    "\n",
    "+ 不同编程语言编写的程序只要按照函数调用约定就可以调用同一个动态函数;\n",
    "\n",
    "+ 适用于大规模的软件开发，使开发过程独立、耦合度小,便于不同开发者和开发组织之间进行开发和测试.\n",
    "\n",
    "### 不足之处\n",
    "\n",
    "+ 使用动态链接库的应用程序不是自完备的,它依赖的动态模块也要存在,如果使用载入时动态链接,程序启动时发现动态模块不存在,系统将终止程序并给出错误信息.而使用运行时动态链接,系统不会终止,但由于动态库中的导出函数不可用,程序会加载失败\n",
    "+ 速度比静态链接慢.当某个模块更新后,如果新模块与旧的模块不兼容,那么那些需要该模块才能运行的软件,统统撕掉.\n",
    "\n",
    "### 编译动态链接库\n",
    "\n",
    "动态链接库可以直接使用g++编译.需要使用`-fPIC`指定编译成的是共享库,`-shared`指定连接方式是共享型"
   ]
  },
  {
   "cell_type": "code",
   "execution_count": 19,
   "metadata": {
    "collapsed": false
   },
   "outputs": [
    {
     "name": "stderr",
     "output_type": "stream",
     "text": [
      "../codes/C1_Cpp_tools/Cpp_compiler/section2/src/binary_operator.c:1:0: warning: -fPIC ignored for target (all code is position independent) [enabled by default]\n",
      "../codes/C1_Cpp_tools/Cpp_compiler/section2/src/unary_operator.c:1:0: warning: -fPIC ignored for target (all code is position independent) [enabled by default]\n"
     ]
    }
   ],
   "source": [
    "!gcc \\\n",
    "-o ../codes/C1_Cpp_tools/Cpp_compiler/section2/lib/libvector_b.so \\\n",
    "-fPIC \\\n",
    "-shared \\\n",
    "-I ../codes/C1_Cpp_tools/Cpp_compiler/section2/include \\\n",
    "../codes/C1_Cpp_tools/Cpp_compiler/section2/src/*"
   ]
  },
  {
   "cell_type": "code",
   "execution_count": 20,
   "metadata": {
    "collapsed": false
   },
   "outputs": [
    {
     "name": "stderr",
     "output_type": "stream",
     "text": [
      "c:/users/87/anaconda3/mingw/bin/../lib/gcc/x86_64-w64-mingw32/4.7.0/../../../../x86_64-w64-mingw32/bin/ld.exe: cannot find -lvector_b\n",
      "collect2.exe: error: ld returned 1 exit status\n"
     ]
    }
   ],
   "source": [
    "!gcc \\\n",
    "-o ../codes/C1_Cpp_tools/Cpp_compiler/section2/bin/test_b \\\n",
    "-I ../codes/C1_Cpp_tools/Cpp_compiler/section2/include \\\n",
    "-L ../codes/C1_Cpp_tools/Cpp_compiler/section2/lib \\\n",
    "-l vector_b \\\n",
    "../codes/C1_Cpp_tools/Cpp_compiler/section2/test/test.c"
   ]
  },
  {
   "cell_type": "code",
   "execution_count": 76,
   "metadata": {
    "collapsed": false
   },
   "outputs": [
    {
     "name": "stdout",
     "output_type": "stream",
     "text": [
      "mod(A)=2.236068\r\n",
      "mod(B)=5.000000\r\n",
      "mul(A,B)=11.000000\r\n",
      "add(A,B)=<4.000000,6.000000>\r\n"
     ]
    }
   ],
   "source": [
    "!../codes/C1_Cpp_tools/Cpp_compiler/section3/bin/test_b"
   ]
  },
  {
   "cell_type": "markdown",
   "metadata": {},
   "source": [
    "# 使用宏实现跨平台\n",
    "\n",
    "我们说过C/C++的跨平台是源码级别的跨平台,但实际上因为操作系统功能的实现有区别,接口也有些区别,因此很多时候我们还是得考虑跨平台问题.其实这个问题python中也有,比如到3.6版本为止windows的`ctrl+c`操作都无法直接用于协程程序的中断.\n",
    "\n",
    "在C/C++编程时我们可以像上面定义C接口时一样用宏语句判断是否需要特殊化处理.一般情况下会出问题的也就是windows,下面是特殊化处理的宏片段:\n",
    "\n",
    "```cpp\n",
    "#ifdef _MSC_VER\n",
    "    #pragma warning(disable:4996)\n",
    "    #include <windows.h>\n",
    "    #include <io.h>\n",
    "#else\n",
    "    #include <unistd.h>\n",
    "    #include <sys/time.h>\n",
    "    #include <pthread.h>\n",
    "    #define  CRITICAL_SECTION   pthread_mutex_t\n",
    "    #define  _vsnprintf         vsnprintf\n",
    "#endif\n",
    "```\n",
    "当然了更加方便的方式是无视windows.\n"
   ]
  },
  {
   "cell_type": "markdown",
   "metadata": {},
   "source": [
    "# 总结下gcc的常用参数\n",
    "\n",
    "+ -o 指定输出的文件\n",
    "+ -E 预编译\n",
    "+ -S 编译为汇编代码\n",
    "+ -c 编译位二进制文件\n",
    "+ -L 选项告诉编译器去哪里找需要的库文件\n",
    "+ -l -lbvector告诉编译器要链接libbvector库\n",
    "+ -I 选项告诉去哪个文件夹下找头文件\n",
    "+ -i 指定使用的头文件\n",
    "+ -static 链接方式禁止使用动态库。\n",
    "\n",
    "    优点：程序运行不依赖于其他库\n",
    "\n",
    "    缺点：文件比较大\n",
    "\n",
    "+ -shared (-G) 此链接方式尽量使用动态库，为默认选项(共享型)\n",
    "\n",
    "    优点：生成文件比较小\n",
    "\n",
    "    缺点：运行时需要系统提供动态库\n",
    "\n",
    "+ -symbolic 此链接方式将在建立共享目标文件的时候,把引用绑定到全局符号上.\n",
    "+ -fpic 编译器就生成位置无关目标码.适用于共享库(shared library).通常能产生更快更小的代码,但有平台限制.编译出的代码将通过全局偏移表(Global Offset Table)中的常数地址访存，动态装载器将在程序开始执行时解析GOT表项.\n",
    "+ -fPIC 编译器就输出位置无关目标码.适用于动态连接(dynamic linking),即使分支需要大范围转移.该选项会针对某些特殊机型做了特殊处理,比如适合动态链接并能避免超出GOT大小限制之类的错误.而Open64仅仅支持不会导致GOT表溢出的PIC编译.\n",
    "\n",
    "+ ***-lstdc++*** 放在编译代码最后防止因为C++语法而报错"
   ]
  }
 ],
 "metadata": {
  "kernelspec": {
   "display_name": "Python 3",
   "language": "python",
   "name": "python3"
  },
  "language_info": {
   "codemirror_mode": {
    "name": "ipython",
    "version": 3
   },
   "file_extension": ".py",
   "mimetype": "text/x-python",
   "name": "python",
   "nbconvert_exporter": "python",
   "pygments_lexer": "ipython3",
   "version": "3.6.0"
  }
 },
 "nbformat": 4,
 "nbformat_minor": 2
}
