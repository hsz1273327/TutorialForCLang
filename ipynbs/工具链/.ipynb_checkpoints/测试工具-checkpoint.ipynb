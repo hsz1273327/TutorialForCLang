{
 "cells": [
  {
   "cell_type": "markdown",
   "metadata": {},
   "source": [
    "# 测试工具\n",
    "\n",
    "\n",
    "C语言的单元测试比较简单,可以使用一个叫[minunit](https://github.com/siu/minunit)的工具.它是专门针对C语言单元测试用的,没有侵入性.只有一个头文件.只要在下载下来就能直接用.\n",
    "\n",
    "这个工具可以结合cmake的CTest工具一起使用:"
   ]
  },
  {
   "cell_type": "code",
   "execution_count": 1,
   "metadata": {
    "collapsed": false
   },
   "outputs": [
    {
     "name": "stdout",
     "output_type": "stream",
     "text": [
      "Overwriting ../codes/C1_C_tools/test_tool/test/test_main.c\n"
     ]
    }
   ],
   "source": [
    "%%writefile ../codes/C1_C_tools/test_tool/test/test_main.c\n",
    "#include \"minunit.h\"\n",
    "#include \"binary_vector.h\"\n",
    "\n",
    "BINARY_VECTOR A = {1,2},B = {3,4};\n",
    "\n",
    "MU_TEST(test_check_modA) {\n",
    "    mu_check(VEC_mod(A) == 2.236068);\n",
    "}\n",
    "MU_TEST(test_check_modB) {\n",
    "    mu_check(VEC_mod(B) == 5.000000);\n",
    "}\n",
    "MU_TEST(test_check_mulA_B) {\n",
    "    mu_check(VEC_mul(A,B) == 11.000000);\n",
    "}\n",
    "MU_TEST(test_check_addA_B) {\n",
    "    BINARY_VECTOR result = VEC_add(A,B);\n",
    "    mu_check(result.x == 4.000000);\n",
    "    mu_check(result.y == 6.000000);\n",
    "}\n",
    "MU_TEST_SUITE(test_suite) {\n",
    "    MU_RUN_TEST(test_check_modA);\n",
    "    MU_RUN_TEST(test_check_modB);\n",
    "    MU_RUN_TEST(test_check_mulA_B);\n",
    "    MU_RUN_TEST(test_check_addA_B);\n",
    "}\n",
    "\n",
    "int main(int argc, char *argv[]) {\n",
    "    MU_RUN_SUITE(test_suite);\n",
    "    MU_REPORT();\n",
    "    return 0;\n",
    "}\n"
   ]
  },
  {
   "cell_type": "code",
   "execution_count": 2,
   "metadata": {
    "collapsed": false
   },
   "outputs": [
    {
     "name": "stdout",
     "output_type": "stream",
     "text": [
      "Overwriting ../codes/C1_C_tools/test_tool/CMakeLists.txt\n"
     ]
    }
   ],
   "source": [
    "%%writefile ../codes/C1_C_tools/test_tool/CMakeLists.txt\n",
    "#项目编译环境\n",
    "cmake_minimum_required (VERSION 2.8)\n",
    "project (binary_vector)\n",
    "include_directories(include)\n",
    "# 编译动态链接库\n",
    "set(CMAKE_LIBRARY_OUTPUT_DIRECTORY ${CMAKE_BINARY_DIR}/lib)\n",
    "aux_source_directory(${CMAKE_BINARY_DIR}/src DIR_LIB_SRCS)\n",
    "add_library(vector SHARED ${DIR_LIB_SRCS})\n",
    "install(TARGETS   vector\n",
    "    LIBRARY DESTINATION  CMAKE_LIBRARY_OUTPUT_DIRECTORY  \n",
    ")  \n",
    "# 编译连接生成demo\n",
    "set(CMAKE_RUNTIME_OUTPUT_DIRECTORY ${CMAKE_BINARY_DIR}/bin)\n",
    "link_directories(${CMAKE_BINARY_DIR}/lib)\n",
    "link_libraries(vector)\n",
    "aux_source_directory(test DIR_SRCS)\n",
    "add_executable(Demo_Test ${DIR_SRCS})\n",
    "#测试\n",
    "enable_testing()\n",
    "add_test (DemoTestRuns ${CMAKE_BINARY_DIR}/bin/Demo_Test)"
   ]
  },
  {
   "cell_type": "code",
   "execution_count": null,
   "metadata": {
    "collapsed": true
   },
   "outputs": [],
   "source": []
  }
 ],
 "metadata": {
  "kernelspec": {
   "display_name": "Python 3",
   "language": "python",
   "name": "python3"
  },
  "language_info": {
   "codemirror_mode": {
    "name": "ipython",
    "version": 3
   },
   "file_extension": ".py",
   "mimetype": "text/x-python",
   "name": "python",
   "nbconvert_exporter": "python",
   "pygments_lexer": "ipython3",
   "version": "3.6.0"
  }
 },
 "nbformat": 4,
 "nbformat_minor": 2
}
