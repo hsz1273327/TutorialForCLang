{
 "cells": [
  {
   "cell_type": "markdown",
   "metadata": {},
   "source": [
    "# C++的编程范式\n",
    "\n",
    "C语言诞生于1971年,C++诞生于1979年.历史既是积累也是包袱,想想这些年编程语言的发展,C++要不被历史淹没只有不断的自我改进,因此这个有着悠久历史语言有着非常杂的编程范式.这些范式大体分为:\n",
    "\n",
    "+ C with class\n",
    "    \n",
    "    C++完全支持C语言.不少人其实就是拿C++当C用,只是加上类支持而已,这种风格依然以C语言为主体,各种飘指针,比较晦涩难懂,本文并不以此为主.\n",
    "    \n",
    "+ 面向对象范式\n",
    "\n",
    "    C++的初衷就是为了支持面向对象.本文的主要风格就是这种方式的子集.\n",
    "    \n",
    "+ 使用模板的泛型编程\n",
    "\n",
    "    也是本文的主要风格之一,C++是静态语言,有类型来约束数据行为因此不像python怎么都行,泛型编程就是通过泛型生成针对多种类型,相同逻辑代码的编程风格.\n",
    "    \n",
    "+ 模板元编程\n",
    "\n",
    "    模板本身图灵完备,因此也有就用模板编程的风格.本文与这种范式无关."
   ]
  },
  {
   "cell_type": "markdown",
   "metadata": {},
   "source": [
    "# 谷歌编程风格\n",
    "\n",
    "谷歌有一套相当成熟的编程风格和配套工具.在python那本中提到过.我们是C++最优秀的实践者之一,自然也有[谷歌的C++编程风格指导](http://zh-google-styleguide.readthedocs.io/en/latest/google-cpp-styleguide/contents/).\n",
    "\n",
    "本文基本遵循这一风格.但当然了,谷歌风格是为构建大型程序设计的,在一些地方的取舍值得商榷.而这本书是使渐进式的使用一些特性的."
   ]
  }
 ],
 "metadata": {
  "kernelspec": {
   "display_name": "Python 3",
   "language": "python",
   "name": "python3"
  },
  "language_info": {
   "codemirror_mode": {
    "name": "ipython",
    "version": 3
   },
   "file_extension": ".py",
   "mimetype": "text/x-python",
   "name": "python",
   "nbconvert_exporter": "python",
   "pygments_lexer": "ipython3",
   "version": "3.6.0"
  }
 },
 "nbformat": 4,
 "nbformat_minor": 2
}
