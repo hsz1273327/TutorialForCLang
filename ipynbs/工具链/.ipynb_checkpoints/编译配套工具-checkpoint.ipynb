{
 "cells": [
  {
   "cell_type": "markdown",
   "metadata": {},
   "source": [
    "# 编译配套工具\n",
    "\n",
    "之前的代码我们直接使用gcc来手工编译,这没问题,不过我们也看到了每次编译的命令都比python的helloworld都长了.像很多复杂的程序用到很多外部依赖的情况下编译都快赶上写业务逻辑了.\n",
    "\n",
    "在js中我们用glup来流程化编译,在c中的流程化编译工具就太多了,各自适用于不同的平台有着不同的规范,这边介绍的是[makefile](https://www.gnu.org/software/make/manual/make.html)和[cmake](https://cmake.org/)工具.\n",
    "\n",
    "makefile是类unix系统下一个古老的工具,至今活跃在编程届.\n",
    "\n",
    "cmake是一个高层次的流程化编译工具,它可以用来自动生成makefile,关键是他跨平台."
   ]
  },
  {
   "cell_type": "markdown",
   "metadata": {},
   "source": [
    "## makefile与自动化编译\n",
    "\n",
    "make是一个linux/osx下可以替你运行编译命令的工具.make会检查源文件和目标文件的时间戳,如果目标文件过期,make就会重新编译它.\n",
    "\n",
    "但是做到所有这些事情前,需要告诉make源代码的一些情况.make需要知道文件之间的依赖关系,同时还需要告诉它你具体想如何构建代码.严格意义上讲,make不仅仅可以用来编译文件.目标可以是任何用其他文件生成的文件,也就是说目标可以是一批文件压缩而成的压缩文档.\n",
    "\n",
    "对每个目标,make需要知道两件事:\n",
    "\n",
    "+ 依赖项\n",
    "\n",
    "    生成目标需要用哪些文件\n",
    "    \n",
    "    \n",
    "+ 生成方法\n",
    "\n",
    "    生成该文件时要用哪些指令\n",
    "    \n",
    "    \n",
    "依赖项和生成方法合在一起构成了一条规则.有了规则,make就知道如何生成目标."
   ]
  },
  {
   "cell_type": "markdown",
   "metadata": {},
   "source": [
    "## 用makefile向make描述代码\n",
    "\n",
    "所有目标,依赖项和生成方法的细节信息需要保存在一个叫`makefile`或`Makefile`的文件中,\n",
    "\n",
    "### makefile语法\n",
    "\n",
    "makefile规则很简单,基本的规则:\n",
    "\n",
    "+ 规则形式\n",
    "\n",
    "```makefile\n",
    "target: require1 require2 require3\n",
    "\tprocess\n",
    "```\n",
    "注意process前面必须是tab\n",
    "\n",
    "+ 定义环境变量\n",
    "\n",
    "```makefile\n",
    "export FLASK_ENV=dev\n",
    "```\n",
    "+ 定义变量\n",
    "\n",
    "```makefile\n",
    "DIR=xxx\n",
    "```\n",
    "\n",
    "+ 使用环境变量/变量\n",
    "\n",
    "```makefile\n",
    "$(pwd)\n",
    "```\n",
    "\n",
    "注意,要获取标准输出的内容需要使用`$(shell xxx)`\n",
    "\n",
    "为了弄明白它是怎么工作的,下面我们还是以`binary_vector`为例为它写个`makefile`用以实现编译静态链接库和测试文件的功能:"
   ]
  },
  {
   "cell_type": "code",
   "execution_count": 81,
   "metadata": {},
   "outputs": [
    {
     "name": "stdout",
     "output_type": "stream",
     "text": [
      "Overwriting ../codes/C1_C_tools/compiler/section2/makefile\n"
     ]
    }
   ],
   "source": [
    "%%writefile ../codes/C1_C_tools/compiler/section2/makefile\n",
    "DIR = $(shell pwd)\n",
    "INCLUDE_DIR = $(DIR)/include\n",
    "SRC_DIR = $(DIR)/src\n",
    "OBJECT_DIR = $(DIR)/objects\n",
    "LIB_DIR = $(DIR)/lib\n",
    "BIN_DIR = $(DIR)/bin\n",
    "TEST_DIR = $(DIR)/test\n",
    "\n",
    "objects = $(addprefix $(OBJECT_DIR)/,binary_operator.o unary_operator.o)\n",
    "\n",
    "all: $(LIB_DIR)/libvector.a\n",
    "\techo “done!”\n",
    "\n",
    "$(OBJECT_DIR)/binary_operator.o: $(INCLUDE_DIR)/binary_vector.h\n",
    "\tgcc -c \\\n",
    "-o $(OBJECT_DIR)/binary_operator.o \\\n",
    "-I $(INCLUDE_DIR) \\\n",
    "$(SRC_DIR)/binary_operator.c\n",
    "    \n",
    "$(OBJECT_DIR)/unary_operator.o: $(INCLUDE_DIR)/binary_vector.h\n",
    "\tgcc -c \\\n",
    "-o $(OBJECT_DIR)/unary_operator.o \\\n",
    "-I $(INCLUDE_DIR) \\\n",
    "$(SRC_DIR)/unary_operator.c\n",
    "    \n",
    "$(LIB_DIR)/libvector.a: $(objects)\n",
    "\tar crv $(LIB_DIR)/libvector.a \\\n",
    "$(objects)\n",
    "\n",
    "$(BIN_DIR)/vectorTest: $(LIB_DIR)/libvector.a $(INCLUDE_DIR)/binary_vector.h $(TEST_DIR)/test.c\n",
    "\tgcc \\\n",
    "-o $(BIN_DIR)/vectorTest \\\n",
    "-I $(INCLUDE_DIR) \\\n",
    "-L $(LIB_DIR) \\\n",
    "-l vector \\\n",
    "$(TEST_DIR)/test.c\n",
    "\n",
    "test: $(BIN_DIR)/vectorTest\n",
    "\t$(BIN_DIR)/vectorTest\n",
    "    \n",
    "clean: $(BIN_DIR)/vectorTest $(objects) $(LIB_DIR)/libvector.a\n",
    "\trm $(BIN_DIR)/vectorTest $(objects) $(LIB_DIR)/libvector.a"
   ]
  },
  {
   "cell_type": "markdown",
   "metadata": {},
   "source": [
    "### 使用`make`命令\n",
    "\n",
    "make命令使用`-C`指定操作目录, 后面接`makefile`中的target执行定义的过程和依赖.如果不指定target则会知名第一条target"
   ]
  },
  {
   "cell_type": "code",
   "execution_count": 78,
   "metadata": {},
   "outputs": [
    {
     "name": "stdout",
     "output_type": "stream",
     "text": [
      "rm /Users/huangsizhe/WORKSPACE/Blog/Docs/C_and_Cpp/TutorialForCpp/ipynbs/codes/C1_C_tools/compiler/section2/bin/vectorTest /Users/huangsizhe/WORKSPACE/Blog/Docs/C_and_Cpp/TutorialForCpp/ipynbs/codes/C1_C_tools/compiler/section2/objects/binary_operator.o /Users/huangsizhe/WORKSPACE/Blog/Docs/C_and_Cpp/TutorialForCpp/ipynbs/codes/C1_C_tools/compiler/section2/objects/unary_operator.o /Users/huangsizhe/WORKSPACE/Blog/Docs/C_and_Cpp/TutorialForCpp/ipynbs/codes/C1_C_tools/compiler/section2/lib/libvector.a\r\n"
     ]
    }
   ],
   "source": [
    "!make -C ../codes/C1_C_tools/compiler/section2/ clean"
   ]
  },
  {
   "cell_type": "code",
   "execution_count": 79,
   "metadata": {},
   "outputs": [
    {
     "name": "stdout",
     "output_type": "stream",
     "text": [
      "gcc -c \\\n",
      "-o /Users/huangsizhe/WORKSPACE/Blog/Docs/C_and_Cpp/TutorialForCpp/ipynbs/codes/C1_C_tools/compiler/section2/objects/binary_operator.o \\\n",
      "-I /Users/huangsizhe/WORKSPACE/Blog/Docs/C_and_Cpp/TutorialForCpp/ipynbs/codes/C1_C_tools/compiler/section2/include \\\n",
      "/Users/huangsizhe/WORKSPACE/Blog/Docs/C_and_Cpp/TutorialForCpp/ipynbs/codes/C1_C_tools/compiler/section2/src/binary_operator.c\n",
      "gcc -c \\\n",
      "-o /Users/huangsizhe/WORKSPACE/Blog/Docs/C_and_Cpp/TutorialForCpp/ipynbs/codes/C1_C_tools/compiler/section2/objects/unary_operator.o \\\n",
      "-I /Users/huangsizhe/WORKSPACE/Blog/Docs/C_and_Cpp/TutorialForCpp/ipynbs/codes/C1_C_tools/compiler/section2/include \\\n",
      "/Users/huangsizhe/WORKSPACE/Blog/Docs/C_and_Cpp/TutorialForCpp/ipynbs/codes/C1_C_tools/compiler/section2/src/unary_operator.c\n",
      "ar crv /Users/huangsizhe/WORKSPACE/Blog/Docs/C_and_Cpp/TutorialForCpp/ipynbs/codes/C1_C_tools/compiler/section2/lib/libvector.a \\\n",
      "/Users/huangsizhe/WORKSPACE/Blog/Docs/C_and_Cpp/TutorialForCpp/ipynbs/codes/C1_C_tools/compiler/section2/objects/binary_operator.o /Users/huangsizhe/WORKSPACE/Blog/Docs/C_and_Cpp/TutorialForCpp/ipynbs/codes/C1_C_tools/compiler/section2/objects/unary_operator.o\n",
      "a - /Users/huangsizhe/WORKSPACE/Blog/Docs/C_and_Cpp/TutorialForCpp/ipynbs/codes/C1_C_tools/compiler/section2/objects/binary_operator.o\n",
      "a - /Users/huangsizhe/WORKSPACE/Blog/Docs/C_and_Cpp/TutorialForCpp/ipynbs/codes/C1_C_tools/compiler/section2/objects/unary_operator.o\n",
      "echo “done!”\n",
      "“done!”\n"
     ]
    }
   ],
   "source": [
    "!make -C ../codes/C1_C_tools/compiler/section2/"
   ]
  },
  {
   "cell_type": "code",
   "execution_count": 80,
   "metadata": {},
   "outputs": [
    {
     "name": "stdout",
     "output_type": "stream",
     "text": [
      "gcc \\\n",
      "-o /Users/huangsizhe/WORKSPACE/Blog/Docs/C_and_Cpp/TutorialForCpp/ipynbs/codes/C1_C_tools/compiler/section2/bin/vectorTest \\\n",
      "-I /Users/huangsizhe/WORKSPACE/Blog/Docs/C_and_Cpp/TutorialForCpp/ipynbs/codes/C1_C_tools/compiler/section2/include \\\n",
      "-L /Users/huangsizhe/WORKSPACE/Blog/Docs/C_and_Cpp/TutorialForCpp/ipynbs/codes/C1_C_tools/compiler/section2/lib \\\n",
      "-l vector \\\n",
      "/Users/huangsizhe/WORKSPACE/Blog/Docs/C_and_Cpp/TutorialForCpp/ipynbs/codes/C1_C_tools/compiler/section2/test/test.c\n",
      "/Users/huangsizhe/WORKSPACE/Blog/Docs/C_and_Cpp/TutorialForCpp/ipynbs/codes/C1_C_tools/compiler/section2/bin/vectorTest\n",
      "mod(A)=2.236068\n",
      "mod(B)=5.000000\n",
      "mul(A,B)=11.000000\n",
      "add(A,B)=<4.000000,6.000000>\n"
     ]
    }
   ],
   "source": [
    "!make -C ../codes/C1_C_tools/compiler/section2/ test"
   ]
  },
  {
   "cell_type": "markdown",
   "metadata": {},
   "source": [
    "## 使用cmake流程化编译\n",
    "\n",
    "Cmake本质上也不提供流程化编译的功能,他其实是用来生成不同平台make文件的,在linux,mac osx上就是`makefile`,正真编译使用`make`命令,在windows上就是`nmake`当然windows下也可以使用`mingw`来编译,自带的`mingwXX-make`来编译makefile.不过这需要在cmake的时候加上额外参数`-G  \"MinGW Makefiles\"`指定"
   ]
  },
  {
   "cell_type": "markdown",
   "metadata": {},
   "source": [
    "### Cmake基本用法\n",
    "\n",
    "Cmake是指令式的配置方式,基本形式就是`cmake_minimum_required (VERSION 2.8)`这样,`()`外面的是参数字段,里面的是内容.\n",
    "\n",
    "常用的字段有:\n",
    "\n",
    "> 元信息设置\n",
    "\n",
    "+ `cmake_minimum_required`：指定运行此配置文件所需的 CMake 的最低版本\n",
    "\n",
    "+ `project(<proname>)`：参数值是 Demo1，该命令指定项目的名称\n",
    "\n",
    "> 编译器设置\n",
    "\n",
    "+ `set(CMAKE_ARCHIVE_OUTPUT_DIRECTORY ${CMAKE_BINARY_DIR}/Lib)`:设置静态连接文件输出目录\n",
    "+ `set(CMAKE_LIBRARY_OUTPUT_DIRECTORY ${CMAKE_BINARY_DIR}/Lib)`:设置动态态连接文件输出目录\n",
    "+ `set(CMAKE_RUNTIME_OUTPUT_DIRECTORY ${CMAKE_BINARY_DIR}/Bin)`:设置可执行文件输出目录\n",
    "+ `include_directories([AFTER|BEFORE] [SYSTEM] dir1 [dir2 ...])`:设置头文件目录\n",
    "+ `link_directories(directory1 directory2 ...)`:设置连接库所在位置\n",
    "+ `link_libraries(library1 <debug | optimized> library2 ...)`:添加需要链接的库文件路径\n",
    "+ `target_link_libraries(<target> [item1 [item2 [...]]][[debug|optimized|general] <item>] ...)`:设置要链接的库文件的名称\n",
    "+ `aux_source_directory(<dir> <variable>)`: 指定源文件的所在目录,如`aux_source_directory(. DIR_SRCS)`这样就将所有文件夹下的文件名放到了`DIR_SRCS`变量中.`add_executable(Demo ${DIR_SRCS})`就指定好了所有文件.\n",
    "\n",
    "+ `add_executable(<target> <sourcefiles...>)`： 将源文件编译成一个可执行文件,第一位是目标可执行文件名,后面则是源文件名.\n",
    "\n",
    "+ add_compile_options(-std=c++11):指定编译目标使用的额外参数,比如支持c++11\n",
    "\n",
    "+ target_compile_features(<target> <features...>)指定编译目标使用的额外参数\n",
    "\n",
    "> 链接编译设置\n",
    "\n",
    "+ `add_library (<target> [type]<sourcefiles...>)`:将源文件编译成一个链接库.\n",
    "\n",
    "\n",
    "> 子目录设置\n",
    "\n",
    "+ `add_subdirectory(math)`:添加子目录,子目录中需要有`CMakeLists.txt`文件,编译时会优先编译子目录.\n",
    "\n",
    "> 测试设置\n",
    "\n",
    "可以用`make test`执行测试\n",
    "\n",
    "+ `enable_testing()`:启动测试\n",
    "+ `add_test(<测试名> <test_target> <args>)`:添加一个测试,需要先把测试代码编译了\n",
    "+ `set_tests_properties (test_usage PROPERTIES PASS_REGULAR_EXPRESSION \"Usage: .* base exponent\")`设定测试的属性\n",
    "\n",
    "\n",
    "+ 定义一个宏，用来简化测试工作\n",
    "\n",
    "```cmake\n",
    "macro (do_test arg1 arg2 result)\n",
    "  add_test (test_${arg1}_${arg2} Demo ${arg1} ${arg2})\n",
    "  set_tests_properties (test_${arg1}_${arg2}\n",
    "    PROPERTIES PASS_REGULAR_EXPRESSION ${result})\n",
    "endmacro (do_test)\n",
    "```\n",
    "\n",
    "> debug测试\n",
    "\n",
    "```cmake\n",
    "set(CMAKE_BUILD_TYPE \"Debug\")\n",
    "set(CMAKE_CXX_FLAGS_DEBUG \"$ENV{CXXFLAGS} -O0 -Wall -g -ggdb\")\n",
    "set(CMAKE_CXX_FLAGS_RELEASE \"$ENV{CXXFLAGS} -O3 -Wall\")\n",
    "```\n"
   ]
  },
  {
   "cell_type": "markdown",
   "metadata": {},
   "source": [
    "### 使用cmake编译我们的二元向量\n",
    "\n",
    "更多的用法可以看官方文档.本文不会叙述太多.针对我们的二元向量模块,我们需要写两个`CMakeLists.txt`,一个用于将src中的内容编译为静态库,一个用于将"
   ]
  },
  {
   "cell_type": "code",
   "execution_count": 50,
   "metadata": {},
   "outputs": [
    {
     "name": "stdout",
     "output_type": "stream",
     "text": [
      "Overwriting ../codes/C1_C_tools/compiler/section3/CMakeLists.txt\n"
     ]
    }
   ],
   "source": [
    "%%writefile ../codes/C1_C_tools/compiler/section3/CMakeLists.txt\n",
    "#项目编译环境\n",
    "cmake_minimum_required (VERSION 2.8)\n",
    "project (binary_vector)\n",
    "include_directories(include)\n",
    "# 编译动态链接库\n",
    "set(CMAKE_LIBRARY_OUTPUT_DIRECTORY ${CMAKE_BINARY_DIR}/lib)\n",
    "aux_source_directory(${CMAKE_BINARY_DIR}/src DIR_LIB_SRCS)\n",
    "add_library(vector SHARED ${DIR_LIB_SRCS})\n",
    "install(TARGETS   vector\n",
    "    LIBRARY DESTINATION  CMAKE_LIBRARY_OUTPUT_DIRECTORY  \n",
    ")  \n",
    "# 编译连接生成demo\n",
    "set(CMAKE_RUNTIME_OUTPUT_DIRECTORY ${CMAKE_BINARY_DIR}/bin)\n",
    "link_directories(${CMAKE_BINARY_DIR}/lib)\n",
    "link_libraries(vector)\n",
    "aux_source_directory(test DIR_SRCS)\n",
    "add_executable(Demo ${DIR_SRCS})\n",
    "#测试\n",
    "enable_testing()\n",
    "add_test (DemoRuns ${CMAKE_BINARY_DIR}/bin/Demo)"
   ]
  },
  {
   "cell_type": "code",
   "execution_count": 51,
   "metadata": {},
   "outputs": [
    {
     "name": "stdout",
     "output_type": "stream",
     "text": [
      "-- Configuring done\r\n",
      "CMake Warning (dev):\r\n",
      "  Policy CMP0042 is not set: MACOSX_RPATH is enabled by default.  Run \"cmake\r\n",
      "  --help-policy CMP0042\" for policy details.  Use the cmake_policy command to\r\n",
      "  set the policy and suppress this warning.\r\n",
      "\r\n",
      "  MACOSX_RPATH is not specified for the following targets:\r\n",
      "\r\n",
      "   vector\r\n",
      "\r\n",
      "This warning is for project developers.  Use -Wno-dev to suppress it.\r\n",
      "\r\n",
      "-- Generating done\r\n",
      "-- Build files have been written to: /Users/huangsizhe/WORKSPACE/Blog/Docs/C_and_Cpp/TutorialForCpp/ipynbs/codes/C1_C_tools/compiler/section3\r\n"
     ]
    }
   ],
   "source": [
    "!cmake ../codes/C1_C_tools/compiler/section3/CMakeLists.txt"
   ]
  },
  {
   "cell_type": "code",
   "execution_count": 52,
   "metadata": {},
   "outputs": [
    {
     "name": "stdout",
     "output_type": "stream",
     "text": [
      "[ 60%] Built target vector\n",
      "[100%] Built target Demo\n"
     ]
    }
   ],
   "source": [
    "!make -C ../codes/C1_C_tools/compiler/section3/"
   ]
  },
  {
   "cell_type": "code",
   "execution_count": 53,
   "metadata": {},
   "outputs": [
    {
     "name": "stdout",
     "output_type": "stream",
     "text": [
      "\u001b[36mRunning tests...\u001b[0m\n",
      "Test project /Users/huangsizhe/WORKSPACE/Blog/Docs/C_and_Cpp/TutorialForCpp/ipynbs/codes/C1_C_tools/compiler/section3\n",
      "    Start 1: DemoRuns\n",
      "1/1 Test #1: DemoRuns .........................   Passed    0.01 sec\n",
      "\n",
      "100% tests passed, 0 tests failed out of 1\n",
      "\n",
      "Total Test time (real) =   0.02 sec\n"
     ]
    }
   ],
   "source": [
    "!make -C ../codes/C1_C_tools/compiler/section3/ test"
   ]
  }
 ],
 "metadata": {
  "kernelspec": {
   "display_name": "Python 3",
   "language": "python",
   "name": "python3"
  },
  "language_info": {
   "codemirror_mode": {
    "name": "ipython",
    "version": 3
   },
   "file_extension": ".py",
   "mimetype": "text/x-python",
   "name": "python",
   "nbconvert_exporter": "python",
   "pygments_lexer": "ipython3",
   "version": "3.6.0"
  }
 },
 "nbformat": 4,
 "nbformat_minor": 2
}
