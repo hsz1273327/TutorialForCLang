{
 "cells": [
  {
   "cell_type": "markdown",
   "metadata": {},
   "source": [
    "# 编译配套工具\n",
    "\n",
    "因为多了一步编译,C比python用起来复杂了不少,上一部分我们也已经看到了光编译就挺复杂的,一旦项目复杂起来那编译动作本身就会很麻烦.为了解决这个问题,就有了许多编译配套工具."
   ]
  },
  {
   "cell_type": "markdown",
   "metadata": {},
   "source": [
    "# makefile与自动化编译"
   ]
  },
  {
   "cell_type": "markdown",
   "metadata": {},
   "source": [
    "# 使用cmake流程化编译\n",
    "\n",
    "上面的代码我们直接使用g++来手工编译,这没问题,不过我们也看到了每次编译的命令都比python的helloworld长了.像很多复杂的程序用到很多外部依赖的情况下编译都快赶上写业务逻辑了.\n",
    "\n",
    "在js中我们用glup来流程化编译,在c/c++中的流程化编译工具就太多了,各自适用于不同的平台有着不同的规范,这边介绍的是[cmake](https://cmake.org/)工具.它是一个高层次的流程化编译工具,关键是他跨平台.\n",
    "\n",
    "Cmake本质上也不提供流程化编译的功能,他其实是用来生成不同平台make文件的,在linux,mac osx上就是`makefile`,正真编译使用`make`命令,在windows上就是`nmake`当然windows下也可以使用`mingw`来编译,自带的`mingwXX-make`来编译makefile.不过这需要在cmake的时候加上额外参数`-G  \"MinGW Makefiles\"`指定\n",
    "\n",
    "## 使用`CMakeLists.txt`配置资源与流程\n",
    "\n",
    "我们看一个简单的例子来看"
   ]
  },
  {
   "cell_type": "markdown",
   "metadata": {},
   "source": [
    "### 编写CMakerLists.txt\n",
    "\n",
    "这个例子很简单,只有一个源文件需要编译.我们定义了三个参数:\n",
    "\n",
    "+ cmake_minimum_required：指定运行此配置文件所需的 CMake 的最低版本\n",
    "+ project：参数值是 Demo1，该命令表示项目的名称是 Demo1\n",
    "+ add_executable： 将名为 main.cc 的源文件编译成一个名称为 Demo 的可执行文件"
   ]
  },
  {
   "cell_type": "code",
   "execution_count": null,
   "metadata": {
    "collapsed": true
   },
   "outputs": [],
   "source": [
    "%%writefile ../codes/C1_Cpp_tools/Cpp_compiler/section5/CMakeLists.txt\n",
    "\n",
    "cmake_minimum_required (VERSION 2.8)\n",
    "project (Demo1)\n",
    "set(CMAKE_RUNTIME_OUTPUT_DIRECTORY ${CMAKE_BINARY_DIR}/bin)\n",
    "aux_source_directory(src DIR_SRCS)\n",
    "add_executable(Demo ${DIR_SRCS})"
   ]
  },
  {
   "cell_type": "code",
   "execution_count": null,
   "metadata": {
    "collapsed": true
   },
   "outputs": [],
   "source": [
    "%%writefile ../codes/C1_Cpp_tools/Cpp_compiler/section5/src/power.cpp\n",
    "#include <stdio.h>\n",
    "#include <stdlib.h>\n",
    "\n",
    "double power(double base, int exponent)\n",
    "{\n",
    "    int result = base;\n",
    "    int i;\n",
    "\n",
    "    if (exponent == 0) {\n",
    "        return 1;\n",
    "    }\n",
    "    \n",
    "    for(i = 1; i < exponent; ++i){\n",
    "        result = result * base;\n",
    "    }\n",
    "\n",
    "    return result;\n",
    "}\n",
    "\n",
    "int main(int argc, char *argv[])\n",
    "{\n",
    "    if (argc < 3){\n",
    "        printf(\"Usage: %s base exponent \\n\", argv[0]);\n",
    "        return 1;\n",
    "    }\n",
    "    double base = atof(argv[1]);\n",
    "    int exponent = atoi(argv[2]);\n",
    "    double result = power(base, exponent);\n",
    "    printf(\"%g ^ %d is %g\\n\", base, exponent, result);\n",
    "    return 0;\n",
    "}"
   ]
  },
  {
   "cell_type": "code",
   "execution_count": null,
   "metadata": {
    "collapsed": true
   },
   "outputs": [],
   "source": [
    "!cmake -h"
   ]
  },
  {
   "cell_type": "code",
   "execution_count": null,
   "metadata": {
    "collapsed": true
   },
   "outputs": [],
   "source": [
    "!cmake -f ../codes/C1_Cpp_tools/Cpp_compiler/section5/CMakeLists.txt"
   ]
  },
  {
   "cell_type": "code",
   "execution_count": null,
   "metadata": {
    "collapsed": true
   },
   "outputs": [],
   "source": [
    "!make -C ../codes/C1_Cpp_tools/Cpp_compiler/section5"
   ]
  },
  {
   "cell_type": "markdown",
   "metadata": {},
   "source": [
    "## Cmake基本用法\n",
    "\n",
    "Cmake是指令式的配置方式,基本形式就是`cmake_minimum_required (VERSION 2.8)`这样,`()`外面的是参数字段,里面的是内容.\n",
    "\n",
    "常用的字段有:\n",
    "\n",
    "> 元信息设置\n",
    "\n",
    "+ `cmake_minimum_required`：指定运行此配置文件所需的 CMake 的最低版本\n",
    "\n",
    "+ `project(<proname>)`：参数值是 Demo1，该命令指定项目的名称\n",
    "\n",
    "> 编译器设置\n",
    "\n",
    "+ `set(CMAKE_ARCHIVE_OUTPUT_DIRECTORY ${CMAKE_BINARY_DIR}/Lib)`:设置静态连接文件输出目录\n",
    "+ `set(CMAKE_LIBRARY_OUTPUT_DIRECTORY ${CMAKE_BINARY_DIR}/Lib)`:设置动态态连接文件输出目录\n",
    "+ `set(CMAKE_RUNTIME_OUTPUT_DIRECTORY ${CMAKE_BINARY_DIR}/Bin)`:设置可执行文件输出目录\n",
    "+ `include_directories([AFTER|BEFORE] [SYSTEM] dir1 [dir2 ...])`:设置头文件目录\n",
    "+ `link_directories(directory1 directory2 ...)`:设置连接库所在位置\n",
    "+ `link_libraries(library1 <debug | optimized> library2 ...)`:添加需要链接的库文件路径\n",
    "+ `target_link_libraries(<target> [item1 [item2 [...]]][[debug|optimized|general] <item>] ...)`:设置要链接的库文件的名称\n",
    "+ `aux_source_directory(<dir> <variable>)`: 指定源文件的所在目录,如`aux_source_directory(. DIR_SRCS)`这样就将所有文件夹下的文件名放到了`DIR_SRCS`变量中.`add_executable(Demo ${DIR_SRCS})`就指定好了所有文件.\n",
    "\n",
    "+ `add_executable(<target> <sourcefiles...>)`： 将源文件编译成一个可执行文件,第一位是目标可执行文件名,后面则是源文件名.\n",
    "\n",
    "+ add_compile_options(-std=c++11):指定编译目标使用的额外参数,比如支持c++11\n",
    "\n",
    "+ target_compile_features(<target> <features...>)指定编译目标使用的额外参数\n",
    "\n",
    "> 链接编译设置\n",
    "\n",
    "+ `add_library (<target> [type]<sourcefiles...>)`:将源文件编译成一个链接库.\n",
    "\n",
    "\n",
    "> 子目录设置\n",
    "\n",
    "+ `add_subdirectory(math)`:添加子目录,子目录中需要有`CMakeLists.txt`文件,编译时会优先编译子目录.\n",
    "\n",
    "> 测试设置\n",
    "\n",
    "可以用`make test`执行测试\n",
    "\n",
    "+ `enable_testing()`:启动测试\n",
    "+ `add_test(<测试名> <test_target> <args>)`:添加一个测试,需要先把测试代码编译了\n",
    "+ `set_tests_properties (test_usage PROPERTIES PASS_REGULAR_EXPRESSION \"Usage: .* base exponent\")`设定测试的属性\n",
    "\n",
    "\n",
    "+ 定义一个宏，用来简化测试工作\n",
    "\n",
    "```cmake\n",
    "macro (do_test arg1 arg2 result)\n",
    "  add_test (test_${arg1}_${arg2} Demo ${arg1} ${arg2})\n",
    "  set_tests_properties (test_${arg1}_${arg2}\n",
    "    PROPERTIES PASS_REGULAR_EXPRESSION ${result})\n",
    "endmacro (do_test)\n",
    "```\n",
    "\n",
    "> debug测试\n",
    "\n",
    "```cmake\n",
    "set(CMAKE_BUILD_TYPE \"Debug\")\n",
    "set(CMAKE_CXX_FLAGS_DEBUG \"$ENV{CXXFLAGS} -O0 -Wall -g -ggdb\")\n",
    "set(CMAKE_CXX_FLAGS_RELEASE \"$ENV{CXXFLAGS} -O3 -Wall\")\n",
    "```\n"
   ]
  },
  {
   "cell_type": "markdown",
   "metadata": {},
   "source": [
    "### 使用cmake编译我们的二元向量\n",
    "\n",
    "更多的用法可以看官方文档.本文不会叙述太多."
   ]
  },
  {
   "cell_type": "code",
   "execution_count": null,
   "metadata": {
    "collapsed": true
   },
   "outputs": [],
   "source": [
    "%%writefile ../codes/C1_Cpp_tools/Cpp_compiler/section6/CMakeLists.txt\n",
    "\n",
    "cmake_minimum_required (VERSION 2.8)\n",
    "project (binary_vector)\n",
    "set(CMAKE_RUNTIME_OUTPUT_DIRECTORY ${CMAKE_BINARY_DIR}/bin)\n",
    "\n",
    "aux_source_directory(test DIR_SRCS)\n",
    "add_subdirectory(src)\n",
    "add_executable(Demo ${DIR_SRCS})"
   ]
  },
  {
   "cell_type": "code",
   "execution_count": null,
   "metadata": {
    "collapsed": true
   },
   "outputs": [],
   "source": [
    "%%writefile ../codes/C1_Cpp_tools/Cpp_compiler/section6/src/CMakeLists.txt\n",
    "\n",
    "include_directories(../include)\n",
    "aux_source_directory(. DIR_LIB_SRCS)\n",
    "set(CMAKE_ARCHIVE_OUTPUT_DIRECTORY ${CMAKE_BINARY_DIR}/lib)\n",
    "add_library(Vector ${DIR_LIB_SRCS})"
   ]
  }
 ],
 "metadata": {
  "kernelspec": {
   "display_name": "Python 3",
   "language": "python",
   "name": "python3"
  },
  "language_info": {
   "codemirror_mode": {
    "name": "ipython",
    "version": 3
   },
   "file_extension": ".py",
   "mimetype": "text/x-python",
   "name": "python",
   "nbconvert_exporter": "python",
   "pygments_lexer": "ipython3",
   "version": "3.6.0"
  }
 },
 "nbformat": 4,
 "nbformat_minor": 2
}
