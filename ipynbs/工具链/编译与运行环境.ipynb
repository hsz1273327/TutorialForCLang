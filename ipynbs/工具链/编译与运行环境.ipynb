{
 "cells": [
  {
   "cell_type": "markdown",
   "metadata": {},
   "source": [
    "# 编译与运行环境\n",
    "\n",
    "C/C++是静态语言,需要编译后才能执行.而编译的工具就是编译器.最常见的C++编译器有:\n",
    "\n",
    "+ `GNU G++`开源大佬,linux上编译器的的代名词,在osx上也可以使用homebrew安装,windows上则有MinGW作为其移植版.\n",
    "+ `llvm+Clang`苹果资助的编译器,也是osx下默认的编译器.有不少黑科技,比如C++的repl,jit技术等,一点不像保守的苹果资助的东西.\n",
    "+ `MSVC`微软家的御用编译器,vs内置的编译器.只能在windows下使用,要在命令行中使用需要将其加入环境变量`Path`\n",
    "\n",
    "\n",
    "对于C/C++来说,编译其本质就是将源文件转化为二进制文件或者可执行文件的过程,我们以一个小程序来作为例子,使用`gnu g++`工具来演示整个编译过程:"
   ]
  },
  {
   "cell_type": "code",
   "execution_count": 1,
   "metadata": {
    "collapsed": false
   },
   "outputs": [
    {
     "name": "stdout",
     "output_type": "stream",
     "text": [
      "Writing ../codes/C1_Cpp_tools/Cpp_compiler/section1/src/helloworld.cpp\n"
     ]
    }
   ],
   "source": [
    "%%writefile ../codes/C1_Cpp_tools/Cpp_compiler/section1/src/helloworld.cpp\n",
    "#include <stdio.h>\n",
    "\n",
    "int main(){\n",
    "    printf(\"hello world\");\n",
    "    return 0;\n",
    "}"
   ]
  },
  {
   "cell_type": "markdown",
   "metadata": {},
   "source": [
    "## 步骤一:解读头文件,结合源文件,组合生成真正的待编译代码\n",
    "    \n",
    "这一步可以使用`-E`指令实现.这个过程只激活预处理,不生成文件,而是输出到标准输出.因此你需要把它重定向到一个输出文件里.,一般来说我们用后缀`.i`保存这个文件.\n",
    "\n",
    "这一步实际上做这些事儿:\n",
    "\n",
    "+ 宏的替换\n",
    "+ 注释的消除\n",
    "+ 还有找到相关的库文件\n",
    "+ 执行模板,将模板翻译成源码的实现\n",
    "+ 将#include文件的全部内容插入.若用`<>`括起文件则在系统的INCLUDE目录中寻找文件,若用`\" \"`括起文件则在当前目录中寻找文件."
   ]
  },
  {
   "cell_type": "code",
   "execution_count": 2,
   "metadata": {
    "collapsed": false,
    "scrolled": false
   },
   "outputs": [
    {
     "name": "stdout",
     "output_type": "stream",
     "text": [
      "# 1 \"../codes/C1_Cpp_tools/Cpp_compiler/section1/src/helloworld.cpp\"\n",
      "# 1 \"<command-line>\"\n",
      "# 1 \"../codes/C1_Cpp_tools/Cpp_compiler/section1/src/helloworld.cpp\"\n",
      "# 1 \"c:\\\\users\\\\87\\\\anaconda3\\\\mingw\\\\bin\\\\../lib/gcc/x86_64-w64-mingw32/4.7.0/../../../../x86_64-w64-mingw32/include/stdio.h\" 1 3\n",
      "# 9 \"c:\\\\users\\\\87\\\\anaconda3\\\\mingw\\\\bin\\\\../lib/gcc/x86_64-w64-mingw32/4.7.0/../../../../x86_64-w64-mingw32/include/stdio.h\" 3\n",
      "# 1 \"c:\\\\users\\\\87\\\\anaconda3\\\\mingw\\\\bin\\\\../lib/gcc/x86_64-w64-mingw32/4.7.0/../../../../x86_64-w64-mingw32/include/_mingw.h\" 1 3\n",
      "# 10 \"c:\\\\users\\\\87\\\\anaconda3\\\\mingw\\\\bin\\\\../lib/gcc/x86_64-w64-mingw32/4.7.0/../../../../x86_64-w64-mingw32/include/_mingw.h\" 3\n",
      "# 1 \"c:\\\\users\\\\87\\\\anaconda3\\\\mingw\\\\bin\\\\../lib/gcc/x86_64-w64-mingw32/4.7.0/../../../../x86_64-w64-mingw32/include/_mingw_mac.h\" 1 3\n",
      "# 32 \"c:\\\\users\\\\87\\\\anaconda3\\\\mingw\\\\bin\\\\../lib/gcc/x86_64-w64-mingw32/4.7.0/../../../../x86_64-w64-mingw32/include/_mingw_mac.h\" 3\n",
      "       \n",
      "# 41 \"c:\\\\users\\\\87\\\\anaconda3\\\\mingw\\\\bin\\\\../lib/gcc/x86_64-w64-mingw32/4.7.0/../../../../x86_64-w64-mingw32/include/_mingw_mac.h\" 3\n",
      "       \n",
      "# 11 \"c:\\\\users\\\\87\\\\anaconda3\\\\mingw\\\\bin\\\\../lib/gcc/x86_64-w64-mingw32/4.7.0/../../../../x86_64-w64-mingw32/include/_mingw.h\" 2 3\n",
      "# 293 \"c:\\\\users\\\\87\\\\anaconda3\\\\mingw\\\\bin\\\\../lib/gcc/x86_64-w64-mingw32/4.7.0/../../../../x86_64-w64-mingw32/include/_mingw.h\" 3\n",
      "# 1 \"c:\\\\users\\\\87\\\\anaconda3\\\\mingw\\\\bin\\\\../lib/gcc/x86_64-w64-mingw32/4.7.0/../../../../x86_64-w64-mingw32/include/vadefs.h\" 1 3\n",
      "# 13 \"c:\\\\users\\\\87\\\\anaconda3\\\\mingw\\\\bin\\\\../lib/gcc/x86_64-w64-mingw32/4.7.0/../../../../x86_64-w64-mingw32/include/vadefs.h\" 3\n",
      "# 1 \"c:\\\\users\\\\87\\\\anaconda3\\\\mingw\\\\bin\\\\../lib/gcc/x86_64-w64-mingw32/4.7.0/../../../../x86_64-w64-mingw32/include/_mingw.h\" 1 3\n",
      "# 739 \"c:\\\\users\\\\87\\\\anaconda3\\\\mingw\\\\bin\\\\../lib/gcc/x86_64-w64-mingw32/4.7.0/../../../../x86_64-w64-mingw32/include/_mingw.h\" 3\n",
      "# 1 \"c:\\\\users\\\\87\\\\anaconda3\\\\mingw\\\\bin\\\\../lib/gcc/x86_64-w64-mingw32/4.7.0/../../../../x86_64-w64-mingw32/include/sdks/_mingw_directx.h\" 1 3\n",
      "# 740 \"c:\\\\users\\\\87\\\\anaconda3\\\\mingw\\\\bin\\\\../lib/gcc/x86_64-w64-mingw32/4.7.0/../../../../x86_64-w64-mingw32/include/_mingw.h\" 2 3\n",
      "# 1 \"c:\\\\users\\\\87\\\\anaconda3\\\\mingw\\\\bin\\\\../lib/gcc/x86_64-w64-mingw32/4.7.0/../../../../x86_64-w64-mingw32/include/sdks/_mingw_ddk.h\" 1 3\n",
      "# 741 \"c:\\\\users\\\\87\\\\anaconda3\\\\mingw\\\\bin\\\\../lib/gcc/x86_64-w64-mingw32/4.7.0/../../../../x86_64-w64-mingw32/include/_mingw.h\" 2 3\n",
      "# 14 \"c:\\\\users\\\\87\\\\anaconda3\\\\mingw\\\\bin\\\\../lib/gcc/x86_64-w64-mingw32/4.7.0/../../../../x86_64-w64-mingw32/include/vadefs.h\" 2 3\n",
      "\n",
      "\n",
      "#pragma pack(push,_CRT_PACKING)\n",
      "\n",
      "\n",
      "\n",
      "extern \"C\" {\n",
      "\n",
      "\n",
      "\n",
      "\n",
      "\n",
      "  typedef __builtin_va_list __gnuc_va_list;\n",
      "\n",
      "\n",
      "\n",
      "\n",
      "\n",
      "\n",
      "  typedef __gnuc_va_list va_list;\n",
      "# 101 \"c:\\\\users\\\\87\\\\anaconda3\\\\mingw\\\\bin\\\\../lib/gcc/x86_64-w64-mingw32/4.7.0/../../../../x86_64-w64-mingw32/include/vadefs.h\" 3\n",
      "}\n",
      "\n",
      "\n",
      "\n",
      "#pragma pack(pop)\n",
      "# 294 \"c:\\\\users\\\\87\\\\anaconda3\\\\mingw\\\\bin\\\\../lib/gcc/x86_64-w64-mingw32/4.7.0/../../../../x86_64-w64-mingw32/include/_mingw.h\" 2 3\n",
      "\n",
      "\n",
      "#pragma pack(push,_CRT_PACKING)\n",
      "# 386 \"c:\\\\users\\\\87\\\\anaconda3\\\\mingw\\\\bin\\\\../lib/gcc/x86_64-w64-mingw32/4.7.0/../../../../x86_64-w64-mingw32/include/_mingw.h\" 3\n",
      "__extension__ typedef unsigned long long size_t;\n",
      "# 396 \"c:\\\\users\\\\87\\\\anaconda3\\\\mingw\\\\bin\\\\../lib/gcc/x86_64-w64-mingw32/4.7.0/../../../../x86_64-w64-mingw32/include/_mingw.h\" 3\n",
      "__extension__ typedef long long ssize_t;\n",
      "# 408 \"c:\\\\users\\\\87\\\\anaconda3\\\\mingw\\\\bin\\\\../lib/gcc/x86_64-w64-mingw32/4.7.0/../../../../x86_64-w64-mingw32/include/_mingw.h\" 3\n",
      "__extension__ typedef long long intptr_t;\n",
      "# 421 \"c:\\\\users\\\\87\\\\anaconda3\\\\mingw\\\\bin\\\\../lib/gcc/x86_64-w64-mingw32/4.7.0/../../../../x86_64-w64-mingw32/include/_mingw.h\" 3\n",
      "__extension__ typedef unsigned long long uintptr_t;\n",
      "# 434 \"c:\\\\users\\\\87\\\\anaconda3\\\\mingw\\\\bin\\\\../lib/gcc/x86_64-w64-mingw32/4.7.0/../../../../x86_64-w64-mingw32/include/_mingw.h\" 3\n",
      "__extension__ typedef long long ptrdiff_t;\n",
      "# 452 \"c:\\\\users\\\\87\\\\anaconda3\\\\mingw\\\\bin\\\\../lib/gcc/x86_64-w64-mingw32/4.7.0/../../../../x86_64-w64-mingw32/include/_mingw.h\" 3\n",
      "typedef unsigned short wint_t;\n",
      "typedef unsigned short wctype_t;\n",
      "# 472 \"c:\\\\users\\\\87\\\\anaconda3\\\\mingw\\\\bin\\\\../lib/gcc/x86_64-w64-mingw32/4.7.0/../../../../x86_64-w64-mingw32/include/_mingw.h\" 3\n",
      "typedef int errno_t;\n",
      "\n",
      "\n",
      "\n",
      "\n",
      "typedef long __time32_t;\n",
      "\n",
      "\n",
      "\n",
      "\n",
      "__extension__ typedef long long __time64_t;\n",
      "\n",
      "\n",
      "\n",
      "\n",
      "\n",
      "\n",
      "\n",
      "typedef __time64_t time_t;\n",
      "# 652 \"c:\\\\users\\\\87\\\\anaconda3\\\\mingw\\\\bin\\\\../lib/gcc/x86_64-w64-mingw32/4.7.0/../../../../x86_64-w64-mingw32/include/_mingw.h\" 3\n",
      "struct threadlocaleinfostruct;\n",
      "struct threadmbcinfostruct;\n",
      "typedef struct threadlocaleinfostruct *pthreadlocinfo;\n",
      "typedef struct threadmbcinfostruct *pthreadmbcinfo;\n",
      "struct __lc_time_data;\n",
      "\n",
      "typedef struct localeinfo_struct {\n",
      "  pthreadlocinfo locinfo;\n",
      "  pthreadmbcinfo mbcinfo;\n",
      "} _locale_tstruct,*_locale_t;\n",
      "\n",
      "\n",
      "\n",
      "typedef struct tagLC_ID {\n",
      "  unsigned short wLanguage;\n",
      "  unsigned short wCountry;\n",
      "  unsigned short wCodePage;\n",
      "} LC_ID,*LPLC_ID;\n",
      "\n",
      "\n",
      "\n",
      "\n",
      "typedef struct threadlocaleinfostruct {\n",
      "  int refcount;\n",
      "  unsigned int lc_codepage;\n",
      "  unsigned int lc_collate_cp;\n",
      "  unsigned long lc_handle[6];\n",
      "  LC_ID lc_id[6];\n",
      "  struct {\n",
      "    char *locale;\n",
      "    wchar_t *wlocale;\n",
      "    int *refcount;\n",
      "    int *wrefcount;\n",
      "  } lc_category[6];\n",
      "  int lc_clike;\n",
      "  int mb_cur_max;\n",
      "  int *lconv_intl_refcount;\n",
      "  int *lconv_num_refcount;\n",
      "  int *lconv_mon_refcount;\n",
      "  struct lconv *lconv;\n",
      "  int *ctype1_refcount;\n",
      "  unsigned short *ctype1;\n",
      "  const unsigned short *pctype;\n",
      "  const unsigned char *pclmap;\n",
      "  const unsigned char *pcumap;\n",
      "  struct __lc_time_data *lc_time_curr;\n",
      "} threadlocinfo;\n",
      "\n",
      "\n",
      "\n",
      "extern \"C\" {\n",
      "\n",
      "\n",
      "\n",
      "\n",
      "void __attribute__((__cdecl__)) __debugbreak(void);\n",
      "extern __inline__ __attribute__((__always_inline__,__gnu_inline__)) void __attribute__((__cdecl__)) __debugbreak(void)\n",
      "{\n",
      "  __asm__ __volatile__(\"int $3\");\n",
      "}\n",
      "\n",
      "\n",
      "\n",
      "\n",
      "const char *__mingw_get_crt_info (void);\n",
      "\n",
      "\n",
      "}\n",
      "\n",
      "\n",
      "\n",
      "#pragma pack(pop)\n",
      "# 10 \"c:\\\\users\\\\87\\\\anaconda3\\\\mingw\\\\bin\\\\../lib/gcc/x86_64-w64-mingw32/4.7.0/../../../../x86_64-w64-mingw32/include/stdio.h\" 2 3\n",
      "\n",
      "# 1 \"c:\\\\users\\\\87\\\\anaconda3\\\\mingw\\\\bin\\\\../lib/gcc/x86_64-w64-mingw32/4.7.0/../../../../x86_64-w64-mingw32/include/_mingw_print_push.h\" 1 3\n",
      "# 12 \"c:\\\\users\\\\87\\\\anaconda3\\\\mingw\\\\bin\\\\../lib/gcc/x86_64-w64-mingw32/4.7.0/../../../../x86_64-w64-mingw32/include/stdio.h\" 2 3\n",
      "\n",
      "#pragma pack(push,_CRT_PACKING)\n",
      "\n",
      "\n",
      "extern \"C\" {\n",
      "# 26 \"c:\\\\users\\\\87\\\\anaconda3\\\\mingw\\\\bin\\\\../lib/gcc/x86_64-w64-mingw32/4.7.0/../../../../x86_64-w64-mingw32/include/stdio.h\" 3\n",
      "  struct _iobuf {\n",
      "    char *_ptr;\n",
      "    int _cnt;\n",
      "    char *_base;\n",
      "    int _flag;\n",
      "    int _file;\n",
      "    int _charbuf;\n",
      "    int _bufsiz;\n",
      "    char *_tmpfname;\n",
      "  };\n",
      "  typedef struct _iobuf FILE;\n",
      "# 80 \"c:\\\\users\\\\87\\\\anaconda3\\\\mingw\\\\bin\\\\../lib/gcc/x86_64-w64-mingw32/4.7.0/../../../../x86_64-w64-mingw32/include/stdio.h\" 3\n",
      "# 1 \"c:\\\\users\\\\87\\\\anaconda3\\\\mingw\\\\bin\\\\../lib/gcc/x86_64-w64-mingw32/4.7.0/../../../../x86_64-w64-mingw32/include/_mingw_off_t.h\" 1 3\n",
      "\n",
      "\n",
      "\n",
      "\n",
      "  typedef long _off_t;\n",
      "\n",
      "  typedef long off32_t;\n",
      "\n",
      "\n",
      "\n",
      "\n",
      "\n",
      "  __extension__ typedef long long _off64_t;\n",
      "\n",
      "  __extension__ typedef long long off64_t;\n",
      "# 26 \"c:\\\\users\\\\87\\\\anaconda3\\\\mingw\\\\bin\\\\../lib/gcc/x86_64-w64-mingw32/4.7.0/../../../../x86_64-w64-mingw32/include/_mingw_off_t.h\" 3\n",
      "typedef off32_t off_t;\n",
      "# 81 \"c:\\\\users\\\\87\\\\anaconda3\\\\mingw\\\\bin\\\\../lib/gcc/x86_64-w64-mingw32/4.7.0/../../../../x86_64-w64-mingw32/include/stdio.h\" 2 3\n",
      "\n",
      "\n",
      "\n",
      "  __attribute__ ((__dllimport__)) FILE *__attribute__((__cdecl__)) __iob_func(void);\n",
      "# 103 \"c:\\\\users\\\\87\\\\anaconda3\\\\mingw\\\\bin\\\\../lib/gcc/x86_64-w64-mingw32/4.7.0/../../../../x86_64-w64-mingw32/include/stdio.h\" 3\n",
      "  __extension__ typedef long long fpos_t;\n",
      "# 139 \"c:\\\\users\\\\87\\\\anaconda3\\\\mingw\\\\bin\\\\../lib/gcc/x86_64-w64-mingw32/4.7.0/../../../../x86_64-w64-mingw32/include/stdio.h\" 3\n",
      "extern\n",
      "  __attribute__((__format__ (gnu_scanf, 2, 3))) __attribute__ ((__nonnull__ (2)))\n",
      "  int __attribute__((__cdecl__)) __mingw_sscanf(const char * __restrict__ _Src,const char * __restrict__ _Format,...);\n",
      "extern\n",
      "  __attribute__((__format__ (gnu_scanf, 2, 0))) __attribute__ ((__nonnull__ (2)))\n",
      "  int __attribute__((__cdecl__)) __mingw_vsscanf (const char * __restrict__ _Str,const char * __restrict__ Format,va_list argp);\n",
      "extern\n",
      "  __attribute__((__format__ (gnu_scanf, 1, 2))) __attribute__ ((__nonnull__ (1)))\n",
      "  int __attribute__((__cdecl__)) __mingw_scanf(const char * __restrict__ _Format,...);\n",
      "extern\n",
      "  __attribute__((__format__ (gnu_scanf, 1, 0))) __attribute__ ((__nonnull__ (1)))\n",
      "  int __attribute__((__cdecl__)) __mingw_vscanf(const char * __restrict__ Format, va_list argp);\n",
      "extern\n",
      "  __attribute__((__format__ (gnu_scanf, 2, 3))) __attribute__ ((__nonnull__ (2)))\n",
      "  int __attribute__((__cdecl__)) __mingw_fscanf(FILE * __restrict__ _File,const char * __restrict__ _Format,...);\n",
      "extern\n",
      "  __attribute__((__format__ (gnu_scanf, 2, 0))) __attribute__ ((__nonnull__ (2)))\n",
      "  int __attribute__((__cdecl__)) __mingw_vfscanf (FILE * __restrict__ fp, const char * __restrict__ Format,va_list argp);\n",
      "\n",
      "extern\n",
      "  __attribute__((__format__ (gnu_printf, 3, 0))) __attribute__ ((__nonnull__ (3)))\n",
      "  int __attribute__((__cdecl__)) __mingw_vsnprintf(char * __restrict__ _DstBuf,size_t _MaxCount,const char * __restrict__ _Format,\n",
      "                               va_list _ArgList);\n",
      "extern\n",
      "  __attribute__((__format__ (gnu_printf, 3, 4))) __attribute__ ((__nonnull__ (3)))\n",
      "  int __attribute__((__cdecl__)) __mingw_snprintf(char * __restrict__ s, size_t n, const char * __restrict__ format, ...);\n",
      "extern\n",
      "  __attribute__((__format__ (gnu_printf, 1, 2))) __attribute__ ((__nonnull__ (1)))\n",
      "  int __attribute__((__cdecl__)) __mingw_printf(const char * __restrict__ , ... ) __attribute__ ((__nothrow__));\n",
      "extern\n",
      "  __attribute__((__format__ (gnu_printf, 1, 0))) __attribute__ ((__nonnull__ (1)))\n",
      "  int __attribute__((__cdecl__)) __mingw_vprintf (const char * __restrict__ , va_list) __attribute__ ((__nothrow__));\n",
      "extern\n",
      "  __attribute__((__format__ (gnu_printf, 2, 3))) __attribute__ ((__nonnull__ (2)))\n",
      "  int __attribute__((__cdecl__)) __mingw_fprintf (FILE * __restrict__ , const char * __restrict__ , ...) __attribute__ ((__nothrow__));\n",
      "extern\n",
      "  __attribute__((__format__ (gnu_printf, 2, 0))) __attribute__ ((__nonnull__ (2)))\n",
      "  int __attribute__((__cdecl__)) __mingw_vfprintf (FILE * __restrict__ , const char * __restrict__ , va_list) __attribute__ ((__nothrow__));\n",
      "extern\n",
      "  __attribute__((__format__ (gnu_printf, 2, 3))) __attribute__ ((__nonnull__ (2)))\n",
      "  int __attribute__((__cdecl__)) __mingw_sprintf (char * __restrict__ , const char * __restrict__ , ...) __attribute__ ((__nothrow__));\n",
      "extern\n",
      "  __attribute__((__format__ (gnu_printf, 2, 0))) __attribute__ ((__nonnull__ (2)))\n",
      "  int __attribute__((__cdecl__)) __mingw_vsprintf (char * __restrict__ , const char * __restrict__ , va_list) __attribute__ ((__nothrow__));\n",
      "extern\n",
      "  __attribute__((__format__ (gnu_printf, 2, 3))) __attribute__((nonnull (1,2)))\n",
      "  int __attribute__((__cdecl__)) __mingw_asprintf(char ** __restrict__ , const char * __restrict__ , ...) __attribute__ ((__nothrow__));\n",
      "extern\n",
      "  __attribute__((__format__ (gnu_printf, 2, 0))) __attribute__((nonnull (1,2)))\n",
      "  int __attribute__((__cdecl__)) __mingw_vasprintf(char ** __restrict__ , const char * __restrict__ , va_list) __attribute__ ((__nothrow__));\n",
      "# 366 \"c:\\\\users\\\\87\\\\anaconda3\\\\mingw\\\\bin\\\\../lib/gcc/x86_64-w64-mingw32/4.7.0/../../../../x86_64-w64-mingw32/include/stdio.h\" 3\n",
      "  int __attribute__((__cdecl__)) fprintf(FILE * __restrict__ _File,const char * __restrict__ _Format,...);\n",
      "  int __attribute__((__cdecl__)) printf(const char * __restrict__ _Format,...);\n",
      "  int __attribute__((__cdecl__)) sprintf(char * __restrict__ _Dest,const char * __restrict__ _Format,...) ;\n",
      "\n",
      "  int __attribute__((__cdecl__)) vfprintf(FILE * __restrict__ _File,const char * __restrict__ _Format,va_list _ArgList);\n",
      "  int __attribute__((__cdecl__)) vprintf(const char * __restrict__ _Format,va_list _ArgList);\n",
      "  int __attribute__((__cdecl__)) vsprintf(char * __restrict__ _Dest,const char * __restrict__ _Format,va_list _Args) ;\n",
      "\n",
      "  int __attribute__((__cdecl__)) fscanf(FILE * __restrict__ _File,const char * __restrict__ _Format,...) ;\n",
      "  int __attribute__((__cdecl__)) scanf(const char * __restrict__ _Format,...) ;\n",
      "  int __attribute__((__cdecl__)) sscanf(const char * __restrict__ _Src,const char * __restrict__ _Format,...) ;\n",
      "\n",
      "  int __attribute__((__cdecl__)) __ms_vscanf(const char * __restrict__ Format, va_list argp);\n",
      "  int __attribute__((__cdecl__)) __ms_vfscanf (FILE * __restrict__ fp, const char * __restrict__ Format,va_list argp);\n",
      "  int __attribute__((__cdecl__)) __ms_vsscanf (const char * __restrict__ _Str,const char * __restrict__ Format,va_list argp);\n",
      "\n",
      "  inline __attribute__((__cdecl__))\n",
      "  __attribute__ ((__nonnull__ (2)))\n",
      "  int vfscanf (FILE *__stream, const char *__format, __builtin_va_list __local_argv)\n",
      "  {\n",
      "    return __ms_vfscanf (__stream, __format, __local_argv);\n",
      "  }\n",
      "\n",
      "  inline __attribute__((__cdecl__))\n",
      "  __attribute__ ((__nonnull__ (2)))\n",
      "  int vsscanf (const char * __restrict__ __source, const char * __restrict__ __format, __builtin_va_list __local_argv)\n",
      "  {\n",
      "    return __ms_vsscanf( __source, __format, __local_argv );\n",
      "  }\n",
      "  inline __attribute__((__cdecl__))\n",
      "  __attribute__ ((__nonnull__ (1)))\n",
      "  int vscanf(const char *__format, __builtin_va_list __local_argv)\n",
      "  {\n",
      "    return __ms_vscanf (__format, __local_argv);\n",
      "  }\n",
      "\n",
      "\n",
      "\n",
      "\n",
      "  __attribute__ ((__dllimport__)) int __attribute__((__cdecl__)) _filbuf(FILE *_File);\n",
      "  __attribute__ ((__dllimport__)) int __attribute__((__cdecl__)) _flsbuf(int _Ch,FILE *_File);\n",
      "\n",
      "\n",
      "\n",
      "  __attribute__ ((__dllimport__)) FILE *__attribute__((__cdecl__)) _fsopen(const char *_Filename,const char *_Mode,int _ShFlag);\n",
      "\n",
      "  void __attribute__((__cdecl__)) clearerr(FILE *_File);\n",
      "  int __attribute__((__cdecl__)) fclose(FILE *_File);\n",
      "  __attribute__ ((__dllimport__)) int __attribute__((__cdecl__)) _fcloseall(void);\n",
      "\n",
      "\n",
      "\n",
      "  __attribute__ ((__dllimport__)) FILE *__attribute__((__cdecl__)) _fdopen(int _FileHandle,const char *_Mode);\n",
      "\n",
      "  int __attribute__((__cdecl__)) feof(FILE *_File);\n",
      "  int __attribute__((__cdecl__)) ferror(FILE *_File);\n",
      "  int __attribute__((__cdecl__)) fflush(FILE *_File);\n",
      "  int __attribute__((__cdecl__)) fgetc(FILE *_File);\n",
      "  __attribute__ ((__dllimport__)) int __attribute__((__cdecl__)) _fgetchar(void);\n",
      "  int __attribute__((__cdecl__)) fgetpos(FILE * __restrict__ _File ,fpos_t * __restrict__ _Pos);\n",
      "  int __attribute__((__cdecl__)) fgetpos64(FILE * __restrict__ _File ,fpos_t * __restrict__ _Pos);\n",
      "  char *__attribute__((__cdecl__)) fgets(char * __restrict__ _Buf,int _MaxCount,FILE * __restrict__ _File);\n",
      "  __attribute__ ((__dllimport__)) int __attribute__((__cdecl__)) _fileno(FILE *_File);\n",
      "\n",
      "\n",
      "\n",
      "  __attribute__ ((__dllimport__)) char *__attribute__((__cdecl__)) _tempnam(const char *_DirName,const char *_FilePrefix);\n",
      "  __attribute__ ((__dllimport__)) int __attribute__((__cdecl__)) _flushall(void);\n",
      "  FILE *__attribute__((__cdecl__)) fopen(const char * __restrict__ _Filename,const char * __restrict__ _Mode) ;\n",
      "  FILE *fopen64(const char * __restrict__ filename,const char * __restrict__ mode);\n",
      "  int __attribute__((__cdecl__)) fputc(int _Ch,FILE *_File);\n",
      "  __attribute__ ((__dllimport__)) int __attribute__((__cdecl__)) _fputchar(int _Ch);\n",
      "  int __attribute__((__cdecl__)) fputs(const char * __restrict__ _Str,FILE * __restrict__ _File);\n",
      "  size_t __attribute__((__cdecl__)) fread(void * __restrict__ _DstBuf,size_t _ElementSize,size_t _Count,FILE * __restrict__ _File);\n",
      "  FILE *__attribute__((__cdecl__)) freopen(const char * __restrict__ _Filename,const char * __restrict__ _Mode,FILE * __restrict__ _File) ;\n",
      "  int __attribute__((__cdecl__)) _fscanf_l(FILE * __restrict__ _File,const char * __restrict__ _Format,_locale_t locale,...) ;\n",
      "  int __attribute__((__cdecl__)) fsetpos(FILE *_File,const fpos_t *_Pos);\n",
      "  int __attribute__((__cdecl__)) fsetpos64(FILE *_File,const fpos_t *_Pos);\n",
      "  int __attribute__((__cdecl__)) fseek(FILE *_File,long _Offset,int _Origin);\n",
      "\n",
      "\n",
      "\n",
      "  int fseeko64(FILE* stream, _off64_t offset, int whence);\n",
      "  int fseeko(FILE* stream, _off_t offset, int whence);\n",
      "# 462 \"c:\\\\users\\\\87\\\\anaconda3\\\\mingw\\\\bin\\\\../lib/gcc/x86_64-w64-mingw32/4.7.0/../../../../x86_64-w64-mingw32/include/stdio.h\" 3\n",
      "  long __attribute__((__cdecl__)) ftell(FILE *_File);\n",
      "\n",
      "  _off_t ftello(FILE * stream);\n",
      "  _off64_t ftello64(FILE * stream);\n",
      "# 474 \"c:\\\\users\\\\87\\\\anaconda3\\\\mingw\\\\bin\\\\../lib/gcc/x86_64-w64-mingw32/4.7.0/../../../../x86_64-w64-mingw32/include/stdio.h\" 3\n",
      "  __extension__ int __attribute__((__cdecl__)) _fseeki64(FILE *_File,long long _Offset,int _Origin);\n",
      "  __extension__ long long __attribute__((__cdecl__)) _ftelli64(FILE *_File);\n",
      "  size_t __attribute__((__cdecl__)) fwrite(const void * __restrict__ _Str,size_t _Size,size_t _Count,FILE * __restrict__ _File);\n",
      "  int __attribute__((__cdecl__)) getc(FILE *_File);\n",
      "  int __attribute__((__cdecl__)) getchar(void);\n",
      "  __attribute__ ((__dllimport__)) int __attribute__((__cdecl__)) _getmaxstdio(void);\n",
      "  char *__attribute__((__cdecl__)) gets(char *_Buffer) ;\n",
      "  int __attribute__((__cdecl__)) _getw(FILE *_File);\n",
      "\n",
      "\n",
      "  void __attribute__((__cdecl__)) perror(const char *_ErrMsg);\n",
      "\n",
      "  __attribute__ ((__dllimport__)) int __attribute__((__cdecl__)) _pclose(FILE *_File);\n",
      "  __attribute__ ((__dllimport__)) FILE *__attribute__((__cdecl__)) _popen(const char *_Command,const char *_Mode);\n",
      "\n",
      "\n",
      "\n",
      "\n",
      "  int __attribute__((__cdecl__)) putc(int _Ch,FILE *_File);\n",
      "  int __attribute__((__cdecl__)) putchar(int _Ch);\n",
      "  int __attribute__((__cdecl__)) puts(const char *_Str);\n",
      "  __attribute__ ((__dllimport__)) int __attribute__((__cdecl__)) _putw(int _Word,FILE *_File);\n",
      "\n",
      "\n",
      "  int __attribute__((__cdecl__)) remove(const char *_Filename);\n",
      "  int __attribute__((__cdecl__)) rename(const char *_OldFilename,const char *_NewFilename);\n",
      "  __attribute__ ((__dllimport__)) int __attribute__((__cdecl__)) _unlink(const char *_Filename);\n",
      "\n",
      "  int __attribute__((__cdecl__)) unlink(const char *_Filename) ;\n",
      "\n",
      "\n",
      "  void __attribute__((__cdecl__)) rewind(FILE *_File);\n",
      "  __attribute__ ((__dllimport__)) int __attribute__((__cdecl__)) _rmtmp(void);\n",
      "  int __attribute__((__cdecl__)) _scanf_l(const char * __restrict__ format,_locale_t locale,... ) ;\n",
      "  void __attribute__((__cdecl__)) setbuf(FILE * __restrict__ _File,char * __restrict__ _Buffer) ;\n",
      "  __attribute__ ((__dllimport__)) int __attribute__((__cdecl__)) _setmaxstdio(int _Max);\n",
      "  __attribute__ ((__dllimport__)) unsigned int __attribute__((__cdecl__)) _set_output_format(unsigned int _Format);\n",
      "  __attribute__ ((__dllimport__)) unsigned int __attribute__((__cdecl__)) _get_output_format(void);\n",
      "  unsigned int __attribute__((__cdecl__)) __mingw_set_output_format(unsigned int _Format);\n",
      "  unsigned int __attribute__((__cdecl__)) __mingw_get_output_format(void);\n",
      "\n",
      "\n",
      "\n",
      "\n",
      "  int __attribute__((__cdecl__)) setvbuf(FILE * __restrict__ _File,char * __restrict__ _Buf,int _Mode,size_t _Size);\n",
      "  __attribute__ ((__dllimport__)) int __attribute__((__cdecl__)) _scprintf(const char * __restrict__ _Format,...);\n",
      "  int __attribute__((__cdecl__)) _sscanf_l(const char * __restrict__ buffer,const char * __restrict__ format,_locale_t locale,...) ;\n",
      "  __attribute__ ((__dllimport__)) int __attribute__((__cdecl__)) _snscanf(const char * __restrict__ _Src,size_t _MaxCount,const char * __restrict__ _Format,...) ;\n",
      "  __attribute__ ((__dllimport__)) int __attribute__((__cdecl__)) _snscanf_l(const char * __restrict__ input,size_t length,const char * __restrict__ format,_locale_t locale,...) ;\n",
      "  FILE *__attribute__((__cdecl__)) tmpfile(void) ;\n",
      "  char *__attribute__((__cdecl__)) tmpnam(char *_Buffer);\n",
      "  int __attribute__((__cdecl__)) ungetc(int _Ch,FILE *_File);\n",
      "\n",
      "  __attribute__ ((__dllimport__)) int __attribute__((__cdecl__)) _snprintf(char * __restrict__ _Dest,size_t _Count,const char * __restrict__ _Format,...) ;\n",
      "  __attribute__ ((__dllimport__)) int __attribute__((__cdecl__)) _snprintf_l(char * __restrict__ buffer,size_t count,const char * __restrict__ format,_locale_t locale,...) ;\n",
      "  __attribute__ ((__dllimport__)) int __attribute__((__cdecl__)) _vsnprintf(char * __restrict__ _Dest,size_t _Count,const char * __restrict__ _Format,va_list _Args) ;\n",
      "  __attribute__ ((__dllimport__)) int __attribute__((__cdecl__)) _vsnprintf_l(char * __restrict__ buffer,size_t count,const char * __restrict__ format,_locale_t locale,va_list argptr) ;\n",
      "  int __attribute__((__cdecl__)) _sprintf_l(char * __restrict__ buffer,const char * __restrict__ format,_locale_t locale,...) ;\n",
      "\n",
      "\n",
      "\n",
      "\n",
      "       \n",
      "       \n",
      "\n",
      "\n",
      "  int __attribute__((__cdecl__)) __ms_vsnprintf(char * __restrict__ d,size_t n,const char * __restrict__ format,va_list arg)\n",
      "    ;\n",
      "\n",
      "  inline __attribute__((__cdecl__))\n",
      "  __attribute__ ((__nonnull__ (3)))\n",
      "  int vsnprintf (char * __restrict__ __stream, size_t __n, const char * __restrict__ __format, va_list __local_argv)\n",
      "  {\n",
      "    return __ms_vsnprintf (__stream, __n, __format, __local_argv);\n",
      "  }\n",
      "\n",
      "  int __attribute__((__cdecl__)) __ms_snprintf(char * __restrict__ s, size_t n, const char * __restrict__ format, ...);\n",
      "\n",
      "\n",
      "inline __attribute__((__cdecl__))\n",
      "__attribute__ ((__nonnull__ (3)))\n",
      "int snprintf (char * __restrict__ __stream, size_t __n, const char * __restrict__ __format, ...)\n",
      "{\n",
      "  register int __retval;\n",
      "  __builtin_va_list __local_argv; __builtin_va_start( __local_argv, __format );\n",
      "  __retval = __ms_vsnprintf (__stream, __n, __format, __local_argv);\n",
      "  __builtin_va_end( __local_argv );\n",
      "  return __retval;\n",
      "}\n",
      "\n",
      "\n",
      "       \n",
      "       \n",
      "\n",
      "\n",
      "  __attribute__ ((__dllimport__)) int __attribute__((__cdecl__)) _vscprintf(const char * __restrict__ _Format,va_list _ArgList);\n",
      "  __attribute__ ((__dllimport__)) int __attribute__((__cdecl__)) _set_printf_count_output(int _Value);\n",
      "  __attribute__ ((__dllimport__)) int __attribute__((__cdecl__)) _get_printf_count_output(void);\n",
      "\n",
      "\n",
      "\n",
      "\n",
      "                                                     __attribute__ ((__nonnull__ (2)))\n",
      "  int __attribute__((__cdecl__)) __mingw_swscanf(const wchar_t * __restrict__ _Src,const wchar_t * __restrict__ _Format,...);\n",
      "                                                     __attribute__ ((__nonnull__ (2)))\n",
      "  int __attribute__((__cdecl__)) __mingw_vswscanf (const wchar_t * __restrict__ _Str,const wchar_t * __restrict__ Format,va_list argp);\n",
      "                                                     __attribute__ ((__nonnull__ (1)))\n",
      "  int __attribute__((__cdecl__)) __mingw_wscanf(const wchar_t * __restrict__ _Format,...);\n",
      "                                                     __attribute__ ((__nonnull__ (1)))\n",
      "  int __attribute__((__cdecl__)) __mingw_vwscanf(const wchar_t * __restrict__ Format, va_list argp);\n",
      "                                                     __attribute__ ((__nonnull__ (2)))\n",
      "  int __attribute__((__cdecl__)) __mingw_fwscanf(FILE * __restrict__ _File,const wchar_t * __restrict__ _Format,...);\n",
      "                                                     __attribute__ ((__nonnull__ (2)))\n",
      "  int __attribute__((__cdecl__)) __mingw_vfwscanf (FILE * __restrict__ fp, const wchar_t * __restrict__ Format,va_list argp);\n",
      "\n",
      "                                                      __attribute__ ((__nonnull__ (2)))\n",
      "  int __attribute__((__cdecl__)) __mingw_fwprintf(FILE * __restrict__ _File,const wchar_t * __restrict__ _Format,...);\n",
      "                                                      __attribute__ ((__nonnull__ (1)))\n",
      "  int __attribute__((__cdecl__)) __mingw_wprintf(const wchar_t * __restrict__ _Format,...);\n",
      "                                                     __attribute__ ((__nonnull__ (2)))\n",
      "  int __attribute__((__cdecl__)) __mingw_vfwprintf(FILE * __restrict__ _File,const wchar_t * __restrict__ _Format,va_list _ArgList);\n",
      "                                                     __attribute__ ((__nonnull__ (1)))\n",
      "  int __attribute__((__cdecl__)) __mingw_vwprintf(const wchar_t * __restrict__ _Format,va_list _ArgList);\n",
      "                                                      __attribute__ ((__nonnull__ (2)))\n",
      "  int __attribute__((__cdecl__)) __mingw_swprintf(wchar_t * __restrict__ , const wchar_t * __restrict__ , ...) ;\n",
      "                                                      __attribute__ ((__nonnull__ (2)))\n",
      "  int __attribute__((__cdecl__)) __mingw_vswprintf(wchar_t * __restrict__ , const wchar_t * __restrict__ ,va_list) ;\n",
      "                                                      __attribute__ ((__nonnull__ (3)))\n",
      "  int __attribute__((__cdecl__)) __mingw_snwprintf (wchar_t * __restrict__ s, size_t n, const wchar_t * __restrict__ format, ...);\n",
      "                                                      __attribute__ ((__nonnull__ (3)))\n",
      "  int __attribute__((__cdecl__)) __mingw_vsnwprintf (wchar_t * __restrict__ , size_t, const wchar_t * __restrict__ , va_list);\n",
      "# 754 \"c:\\\\users\\\\87\\\\anaconda3\\\\mingw\\\\bin\\\\../lib/gcc/x86_64-w64-mingw32/4.7.0/../../../../x86_64-w64-mingw32/include/stdio.h\" 3\n",
      "  int __attribute__((__cdecl__)) fwscanf(FILE * __restrict__ _File,const wchar_t * __restrict__ _Format,...) ;\n",
      "  int __attribute__((__cdecl__)) swscanf(const wchar_t * __restrict__ _Src,const wchar_t * __restrict__ _Format,...) ;\n",
      "  int __attribute__((__cdecl__)) wscanf(const wchar_t * __restrict__ _Format,...) ;\n",
      "\n",
      "  int __attribute__((__cdecl__)) __ms_vwscanf (const wchar_t * __restrict__ , va_list);\n",
      "  int __attribute__((__cdecl__)) __ms_vfwscanf (FILE * __restrict__ ,const wchar_t * __restrict__ ,va_list);\n",
      "  int __attribute__((__cdecl__)) __ms_vswscanf (const wchar_t * __restrict__ ,const wchar_t * __restrict__ ,va_list);\n",
      "\n",
      "  inline __attribute__((__cdecl__))\n",
      "  __attribute__ ((__nonnull__ (2)))\n",
      "  int vfwscanf (FILE *__stream, const wchar_t *__format, __builtin_va_list __local_argv)\n",
      "  {\n",
      "    return __ms_vfwscanf (__stream, __format, __local_argv);\n",
      "  }\n",
      "\n",
      "  inline __attribute__((__cdecl__))\n",
      "  __attribute__ ((__nonnull__ (2)))\n",
      "  int vswscanf (const wchar_t * __restrict__ __source, const wchar_t * __restrict__ __format, __builtin_va_list __local_argv)\n",
      "  {\n",
      "    return __ms_vswscanf( __source, __format, __local_argv );\n",
      "  }\n",
      "  inline __attribute__((__cdecl__))\n",
      "  __attribute__ ((__nonnull__ (1)))\n",
      "  int vwscanf(const wchar_t *__format, __builtin_va_list __local_argv)\n",
      "  {\n",
      "    return __ms_vwscanf (__format, __local_argv);\n",
      "  }\n",
      "\n",
      "\n",
      "\n",
      "  int __attribute__((__cdecl__)) fwprintf(FILE * __restrict__ _File,const wchar_t * __restrict__ _Format,...);\n",
      "  int __attribute__((__cdecl__)) wprintf(const wchar_t * __restrict__ _Format,...);\n",
      "  int __attribute__((__cdecl__)) vfwprintf(FILE * __restrict__ _File,const wchar_t * __restrict__ _Format,va_list _ArgList);\n",
      "  int __attribute__((__cdecl__)) vwprintf(const wchar_t * __restrict__ _Format,va_list _ArgList);\n",
      "  __attribute__ ((__dllimport__)) int __attribute__((__cdecl__)) swprintf(wchar_t * __restrict__ , const wchar_t * __restrict__ , ...) ;\n",
      "  __attribute__ ((__dllimport__)) int __attribute__((__cdecl__)) vswprintf(wchar_t * __restrict__ , const wchar_t * __restrict__ ,va_list) ;\n",
      "# 799 \"c:\\\\users\\\\87\\\\anaconda3\\\\mingw\\\\bin\\\\../lib/gcc/x86_64-w64-mingw32/4.7.0/../../../../x86_64-w64-mingw32/include/stdio.h\" 3\n",
      "  __attribute__ ((__dllimport__)) FILE *__attribute__((__cdecl__)) _wfsopen(const wchar_t *_Filename,const wchar_t *_Mode,int _ShFlag);\n",
      "\n",
      "\n",
      "  wint_t __attribute__((__cdecl__)) fgetwc(FILE *_File);\n",
      "  __attribute__ ((__dllimport__)) wint_t __attribute__((__cdecl__)) _fgetwchar(void);\n",
      "  wint_t __attribute__((__cdecl__)) fputwc(wchar_t _Ch,FILE *_File);\n",
      "  __attribute__ ((__dllimport__)) wint_t __attribute__((__cdecl__)) _fputwchar(wchar_t _Ch);\n",
      "  wint_t __attribute__((__cdecl__)) getwc(FILE *_File);\n",
      "  wint_t __attribute__((__cdecl__)) getwchar(void);\n",
      "  wint_t __attribute__((__cdecl__)) putwc(wchar_t _Ch,FILE *_File);\n",
      "  wint_t __attribute__((__cdecl__)) putwchar(wchar_t _Ch);\n",
      "  wint_t __attribute__((__cdecl__)) ungetwc(wint_t _Ch,FILE *_File);\n",
      "  wchar_t *__attribute__((__cdecl__)) fgetws(wchar_t * __restrict__ _Dst,int _SizeInWords,FILE * __restrict__ _File);\n",
      "  int __attribute__((__cdecl__)) fputws(const wchar_t * __restrict__ _Str,FILE * __restrict__ _File);\n",
      "  __attribute__ ((__dllimport__)) wchar_t *__attribute__((__cdecl__)) _getws(wchar_t *_String) ;\n",
      "  __attribute__ ((__dllimport__)) int __attribute__((__cdecl__)) _putws(const wchar_t *_Str);\n",
      "\n",
      "  __attribute__ ((__dllimport__)) int __attribute__((__cdecl__)) _scwprintf(const wchar_t * __restrict__ _Format,...);\n",
      "  __attribute__ ((__dllimport__)) int __attribute__((__cdecl__)) _swprintf_l(wchar_t * __restrict__ buffer,size_t count,const wchar_t * __restrict__ format,_locale_t locale,... ) ;\n",
      "  __attribute__ ((__dllimport__)) int __attribute__((__cdecl__)) _swprintf_c(wchar_t * __restrict__ _DstBuf,size_t _SizeInWords,const wchar_t * __restrict__ _Format,...);\n",
      "  __attribute__ ((__dllimport__)) int __attribute__((__cdecl__)) _vswprintf_c(wchar_t * __restrict__ _DstBuf,size_t _SizeInWords,const wchar_t * __restrict__ _Format,va_list _ArgList);\n",
      "  __attribute__ ((__dllimport__)) int __attribute__((__cdecl__)) _snwprintf(wchar_t * __restrict__ _Dest,size_t _Count,const wchar_t * __restrict__ _Format,...) ;\n",
      "  __attribute__ ((__dllimport__)) int __attribute__((__cdecl__)) _vsnwprintf(wchar_t * __restrict__ _Dest,size_t _Count,const wchar_t * __restrict__ _Format,va_list _Args) ;\n",
      "\n",
      "\n",
      "\n",
      "\n",
      "       \n",
      "       \n",
      "\n",
      "\n",
      "  int __attribute__((__cdecl__)) __ms_snwprintf (wchar_t * __restrict__ s, size_t n, const wchar_t * __restrict__ format, ...);\n",
      "  int __attribute__((__cdecl__)) __ms_vsnwprintf (wchar_t * __restrict__ , size_t, const wchar_t * __restrict__ , va_list);\n",
      "  inline __attribute__((__cdecl__))\n",
      "  int snwprintf (wchar_t * __restrict__ s, size_t n, const wchar_t * __restrict__ format, ...)\n",
      "  {\n",
      "    int r;\n",
      "    va_list argp;\n",
      "    __builtin_va_start (argp, format);\n",
      "    r = _vsnwprintf (s, n, format, argp);\n",
      "    __builtin_va_end (argp);\n",
      "    return r;\n",
      "  }\n",
      "  inline __attribute__((__cdecl__))\n",
      "  int __attribute__((__cdecl__)) vsnwprintf (wchar_t * __restrict__ s, size_t n, const wchar_t * __restrict__ format, va_list arg)\n",
      "  {\n",
      "    return _vsnwprintf(s,n,format,arg);\n",
      "  }\n",
      "       \n",
      "       \n",
      "\n",
      "\n",
      "\n",
      "  __attribute__ ((__dllimport__)) int __attribute__((__cdecl__)) _fwprintf_p(FILE * __restrict__ _File,const wchar_t * __restrict__ _Format,...);\n",
      "  __attribute__ ((__dllimport__)) int __attribute__((__cdecl__)) _wprintf_p(const wchar_t * __restrict__ _Format,...);\n",
      "  __attribute__ ((__dllimport__)) int __attribute__((__cdecl__)) _vfwprintf_p(FILE * __restrict__ _File,const wchar_t * __restrict__ _Format,va_list _ArgList);\n",
      "  __attribute__ ((__dllimport__)) int __attribute__((__cdecl__)) _vwprintf_p(const wchar_t * __restrict__ _Format,va_list _ArgList);\n",
      "  __attribute__ ((__dllimport__)) int __attribute__((__cdecl__)) _swprintf_p(wchar_t * __restrict__ _DstBuf,size_t _MaxCount,const wchar_t * __restrict__ _Format,...);\n",
      "  __attribute__ ((__dllimport__)) int __attribute__((__cdecl__)) _vswprintf_p(wchar_t * __restrict__ _DstBuf,size_t _MaxCount,const wchar_t * __restrict__ _Format,va_list _ArgList);\n",
      "  __attribute__ ((__dllimport__)) int __attribute__((__cdecl__)) _scwprintf_p(const wchar_t * __restrict__ _Format,...);\n",
      "  __attribute__ ((__dllimport__)) int __attribute__((__cdecl__)) _vscwprintf_p(const wchar_t * __restrict__ _Format,va_list _ArgList);\n",
      "  __attribute__ ((__dllimport__)) int __attribute__((__cdecl__)) _wprintf_l(const wchar_t * __restrict__ _Format,_locale_t _Locale,...);\n",
      "  __attribute__ ((__dllimport__)) int __attribute__((__cdecl__)) _wprintf_p_l(const wchar_t * __restrict__ _Format,_locale_t _Locale,...);\n",
      "  __attribute__ ((__dllimport__)) int __attribute__((__cdecl__)) _vwprintf_l(const wchar_t * __restrict__ _Format,_locale_t _Locale,va_list _ArgList);\n",
      "  __attribute__ ((__dllimport__)) int __attribute__((__cdecl__)) _vwprintf_p_l(const wchar_t * __restrict__ _Format,_locale_t _Locale,va_list _ArgList);\n",
      "  __attribute__ ((__dllimport__)) int __attribute__((__cdecl__)) _fwprintf_l(FILE * __restrict__ _File,const wchar_t * __restrict__ _Format,_locale_t _Locale,...);\n",
      "  __attribute__ ((__dllimport__)) int __attribute__((__cdecl__)) _fwprintf_p_l(FILE * __restrict__ _File,const wchar_t * __restrict__ _Format,_locale_t _Locale,...);\n",
      "  __attribute__ ((__dllimport__)) int __attribute__((__cdecl__)) _vfwprintf_l(FILE * __restrict__ _File,const wchar_t * __restrict__ _Format,_locale_t _Locale,va_list _ArgList);\n",
      "  __attribute__ ((__dllimport__)) int __attribute__((__cdecl__)) _vfwprintf_p_l(FILE * __restrict__ _File,const wchar_t * __restrict__ _Format,_locale_t _Locale,va_list _ArgList);\n",
      "  __attribute__ ((__dllimport__)) int __attribute__((__cdecl__)) _swprintf_c_l(wchar_t * __restrict__ _DstBuf,size_t _MaxCount,const wchar_t * __restrict__ _Format,_locale_t _Locale,...);\n",
      "  __attribute__ ((__dllimport__)) int __attribute__((__cdecl__)) _swprintf_p_l(wchar_t * __restrict__ _DstBuf,size_t _MaxCount,const wchar_t * __restrict__ _Format,_locale_t _Locale,...);\n",
      "  __attribute__ ((__dllimport__)) int __attribute__((__cdecl__)) _vswprintf_c_l(wchar_t * __restrict__ _DstBuf,size_t _MaxCount,const wchar_t * __restrict__ _Format,_locale_t _Locale,va_list _ArgList);\n",
      "  __attribute__ ((__dllimport__)) int __attribute__((__cdecl__)) _vswprintf_p_l(wchar_t * __restrict__ _DstBuf,size_t _MaxCount,const wchar_t * __restrict__ _Format,_locale_t _Locale,va_list _ArgList);\n",
      "  __attribute__ ((__dllimport__)) int __attribute__((__cdecl__)) _scwprintf_l(const wchar_t * __restrict__ _Format,_locale_t _Locale,...);\n",
      "  __attribute__ ((__dllimport__)) int __attribute__((__cdecl__)) _scwprintf_p_l(const wchar_t * __restrict__ _Format,_locale_t _Locale,...);\n",
      "  __attribute__ ((__dllimport__)) int __attribute__((__cdecl__)) _vscwprintf_p_l(const wchar_t * __restrict__ _Format,_locale_t _Locale,va_list _ArgList);\n",
      "  __attribute__ ((__dllimport__)) int __attribute__((__cdecl__)) _snwprintf_l(wchar_t * __restrict__ _DstBuf,size_t _MaxCount,const wchar_t * __restrict__ _Format,_locale_t _Locale,...);\n",
      "  __attribute__ ((__dllimport__)) int __attribute__((__cdecl__)) _vsnwprintf_l(wchar_t * __restrict__ _DstBuf,size_t _MaxCount,const wchar_t * __restrict__ _Format,_locale_t _Locale,va_list _ArgList) ;\n",
      "  __attribute__ ((__dllimport__)) int __attribute__((__cdecl__)) _swprintf(wchar_t * __restrict__ _Dest,const wchar_t * __restrict__ _Format,...);\n",
      "  __attribute__ ((__dllimport__)) int __attribute__((__cdecl__)) _vswprintf(wchar_t * __restrict__ _Dest,const wchar_t * __restrict__ _Format,va_list _Args);\n",
      "  __attribute__ ((__dllimport__)) int __attribute__((__cdecl__)) __swprintf_l(wchar_t * __restrict__ _Dest,const wchar_t * __restrict__ _Format,_locale_t _Plocinfo,...) ;\n",
      "  __attribute__ ((__dllimport__)) int __attribute__((__cdecl__)) _vswprintf_l(wchar_t * __restrict__ buffer,size_t count,const wchar_t * __restrict__ format,_locale_t locale,va_list argptr) ;\n",
      "  __attribute__ ((__dllimport__)) int __attribute__((__cdecl__)) __vswprintf_l(wchar_t * __restrict__ _Dest,const wchar_t * __restrict__ _Format,_locale_t _Plocinfo,va_list _Args) ;\n",
      "# 892 \"c:\\\\users\\\\87\\\\anaconda3\\\\mingw\\\\bin\\\\../lib/gcc/x86_64-w64-mingw32/4.7.0/../../../../x86_64-w64-mingw32/include/stdio.h\" 3\n",
      "  __attribute__ ((__dllimport__)) wchar_t *__attribute__((__cdecl__)) _wtempnam(const wchar_t *_Directory,const wchar_t *_FilePrefix);\n",
      "  __attribute__ ((__dllimport__)) int __attribute__((__cdecl__)) _vscwprintf(const wchar_t * __restrict__ _Format,va_list _ArgList);\n",
      "  __attribute__ ((__dllimport__)) int __attribute__((__cdecl__)) _vscwprintf_l(const wchar_t * __restrict__ _Format,_locale_t _Locale,va_list _ArgList);\n",
      "  __attribute__ ((__dllimport__)) int __attribute__((__cdecl__)) _fwscanf_l(FILE * __restrict__ _File,const wchar_t * __restrict__ _Format,_locale_t _Locale,...) ;\n",
      "  __attribute__ ((__dllimport__)) int __attribute__((__cdecl__)) _swscanf_l(const wchar_t * __restrict__ _Src,const wchar_t * __restrict__ _Format,_locale_t _Locale,...) ;\n",
      "  __attribute__ ((__dllimport__)) int __attribute__((__cdecl__)) _snwscanf(const wchar_t * __restrict__ _Src,size_t _MaxCount,const wchar_t * __restrict__ _Format,...);\n",
      "  __attribute__ ((__dllimport__)) int __attribute__((__cdecl__)) _snwscanf_l(const wchar_t * __restrict__ _Src,size_t _MaxCount,const wchar_t * __restrict__ _Format,_locale_t _Locale,...);\n",
      "  __attribute__ ((__dllimport__)) int __attribute__((__cdecl__)) _wscanf_l(const wchar_t * __restrict__ _Format,_locale_t _Locale,...) ;\n",
      "  __attribute__ ((__dllimport__)) FILE *__attribute__((__cdecl__)) _wfdopen(int _FileHandle ,const wchar_t *_Mode);\n",
      "  __attribute__ ((__dllimport__)) FILE *__attribute__((__cdecl__)) _wfopen(const wchar_t * __restrict__ _Filename,const wchar_t *__restrict__ _Mode) ;\n",
      "  __attribute__ ((__dllimport__)) FILE *__attribute__((__cdecl__)) _wfreopen(const wchar_t * __restrict__ _Filename,const wchar_t * __restrict__ _Mode,FILE * __restrict__ _OldFile) ;\n",
      "\n",
      "\n",
      "\n",
      "  __attribute__ ((__dllimport__)) void __attribute__((__cdecl__)) _wperror(const wchar_t *_ErrMsg);\n",
      "\n",
      "  __attribute__ ((__dllimport__)) FILE *__attribute__((__cdecl__)) _wpopen(const wchar_t *_Command,const wchar_t *_Mode);\n",
      "\n",
      "\n",
      "\n",
      "\n",
      "  __attribute__ ((__dllimport__)) int __attribute__((__cdecl__)) _wremove(const wchar_t *_Filename);\n",
      "  __attribute__ ((__dllimport__)) wchar_t *__attribute__((__cdecl__)) _wtmpnam(wchar_t *_Buffer);\n",
      "  __attribute__ ((__dllimport__)) wint_t __attribute__((__cdecl__)) _fgetwc_nolock(FILE *_File);\n",
      "  __attribute__ ((__dllimport__)) wint_t __attribute__((__cdecl__)) _fputwc_nolock(wchar_t _Ch,FILE *_File);\n",
      "  __attribute__ ((__dllimport__)) wint_t __attribute__((__cdecl__)) _ungetwc_nolock(wint_t _Ch,FILE *_File);\n",
      "# 947 \"c:\\\\users\\\\87\\\\anaconda3\\\\mingw\\\\bin\\\\../lib/gcc/x86_64-w64-mingw32/4.7.0/../../../../x86_64-w64-mingw32/include/stdio.h\" 3\n",
      "  __attribute__ ((__dllimport__)) void __attribute__((__cdecl__)) _lock_file(FILE *_File);\n",
      "  __attribute__ ((__dllimport__)) void __attribute__((__cdecl__)) _unlock_file(FILE *_File);\n",
      "  __attribute__ ((__dllimport__)) int __attribute__((__cdecl__)) _fclose_nolock(FILE *_File);\n",
      "  __attribute__ ((__dllimport__)) int __attribute__((__cdecl__)) _fflush_nolock(FILE *_File);\n",
      "  __attribute__ ((__dllimport__)) size_t __attribute__((__cdecl__)) _fread_nolock(void * __restrict__ _DstBuf,size_t _ElementSize,size_t _Count,FILE * __restrict__ _File);\n",
      "  __attribute__ ((__dllimport__)) int __attribute__((__cdecl__)) _fseek_nolock(FILE *_File,long _Offset,int _Origin);\n",
      "  __attribute__ ((__dllimport__)) long __attribute__((__cdecl__)) _ftell_nolock(FILE *_File);\n",
      "  __extension__ __attribute__ ((__dllimport__)) int __attribute__((__cdecl__)) _fseeki64_nolock(FILE *_File,long long _Offset,int _Origin);\n",
      "  __extension__ __attribute__ ((__dllimport__)) long long __attribute__((__cdecl__)) _ftelli64_nolock(FILE *_File);\n",
      "  __attribute__ ((__dllimport__)) size_t __attribute__((__cdecl__)) _fwrite_nolock(const void * __restrict__ _DstBuf,size_t _Size,size_t _Count,FILE * __restrict__ _File);\n",
      "  __attribute__ ((__dllimport__)) int __attribute__((__cdecl__)) _ungetc_nolock(int _Ch,FILE *_File);\n",
      "\n",
      "\n",
      "\n",
      "\n",
      "\n",
      "  char *__attribute__((__cdecl__)) tempnam(const char *_Directory,const char *_FilePrefix) ;\n",
      "  int __attribute__((__cdecl__)) fcloseall(void) ;\n",
      "  FILE *__attribute__((__cdecl__)) fdopen(int _FileHandle,const char *_Format) ;\n",
      "  int __attribute__((__cdecl__)) fgetchar(void) ;\n",
      "  int __attribute__((__cdecl__)) fileno(FILE *_File) ;\n",
      "  int __attribute__((__cdecl__)) flushall(void) ;\n",
      "  int __attribute__((__cdecl__)) fputchar(int _Ch) ;\n",
      "  int __attribute__((__cdecl__)) getw(FILE *_File) ;\n",
      "  int __attribute__((__cdecl__)) putw(int _Ch,FILE *_File) ;\n",
      "  int __attribute__((__cdecl__)) rmtmp(void) ;\n",
      "# 989 \"c:\\\\users\\\\87\\\\anaconda3\\\\mingw\\\\bin\\\\../lib/gcc/x86_64-w64-mingw32/4.7.0/../../../../x86_64-w64-mingw32/include/stdio.h\" 3\n",
      "int __attribute__((__cdecl__)) __mingw_str_wide_utf8 (const wchar_t * const wptr, char **mbptr, size_t * buflen);\n",
      "# 1003 \"c:\\\\users\\\\87\\\\anaconda3\\\\mingw\\\\bin\\\\../lib/gcc/x86_64-w64-mingw32/4.7.0/../../../../x86_64-w64-mingw32/include/stdio.h\" 3\n",
      "int __attribute__((__cdecl__)) __mingw_str_utf8_wide (const char *const mbptr, wchar_t ** wptr, size_t * buflen);\n",
      "# 1012 \"c:\\\\users\\\\87\\\\anaconda3\\\\mingw\\\\bin\\\\../lib/gcc/x86_64-w64-mingw32/4.7.0/../../../../x86_64-w64-mingw32/include/stdio.h\" 3\n",
      "void __attribute__((__cdecl__)) __mingw_str_free(void *ptr);\n",
      "\n",
      "\n",
      "\n",
      "\n",
      "}\n",
      "\n",
      "\n",
      "#pragma pack(pop)\n",
      "\n",
      "# 1 \"c:\\\\users\\\\87\\\\anaconda3\\\\mingw\\\\bin\\\\../lib/gcc/x86_64-w64-mingw32/4.7.0/../../../../x86_64-w64-mingw32/include/sec_api/stdio_s.h\" 1 3\n",
      "# 9 \"c:\\\\users\\\\87\\\\anaconda3\\\\mingw\\\\bin\\\\../lib/gcc/x86_64-w64-mingw32/4.7.0/../../../../x86_64-w64-mingw32/include/sec_api/stdio_s.h\" 3\n",
      "# 1 \"c:\\\\users\\\\87\\\\anaconda3\\\\mingw\\\\bin\\\\../lib/gcc/x86_64-w64-mingw32/4.7.0/../../../../x86_64-w64-mingw32/include/stdio.h\" 1 3\n",
      "# 10 \"c:\\\\users\\\\87\\\\anaconda3\\\\mingw\\\\bin\\\\../lib/gcc/x86_64-w64-mingw32/4.7.0/../../../../x86_64-w64-mingw32/include/sec_api/stdio_s.h\" 2 3\n",
      "# 1023 \"c:\\\\users\\\\87\\\\anaconda3\\\\mingw\\\\bin\\\\../lib/gcc/x86_64-w64-mingw32/4.7.0/../../../../x86_64-w64-mingw32/include/stdio.h\" 2 3\n",
      "\n",
      "# 1 \"c:\\\\users\\\\87\\\\anaconda3\\\\mingw\\\\bin\\\\../lib/gcc/x86_64-w64-mingw32/4.7.0/../../../../x86_64-w64-mingw32/include/_mingw_print_pop.h\" 1 3\n",
      "# 1025 \"c:\\\\users\\\\87\\\\anaconda3\\\\mingw\\\\bin\\\\../lib/gcc/x86_64-w64-mingw32/4.7.0/../../../../x86_64-w64-mingw32/include/stdio.h\" 2 3\n",
      "# 2 \"../codes/C1_Cpp_tools/Cpp_compiler/section1/src/helloworld.cpp\" 2\n",
      "\n",
      "int main(){\n",
      "    printf(\"hello world\");\n",
      "    return 0;\n",
      "}\n"
     ]
    }
   ],
   "source": [
    "!g++ -E ../codes/C1_Cpp_tools/Cpp_compiler/section1/src/helloworld.cpp"
   ]
  },
  {
   "cell_type": "markdown",
   "metadata": {},
   "source": [
    "## 步骤二:将代码转译成汇编语言\n",
    "\n",
    "这一步可以使用`-S`指令实现.这个过程就是将上一步的这串字符转译成汇编代码.汇编代码说白了就是二进制代码中操作与资源的的替代而已.因此说C/C++和汇编其实也就一步之遥.这也是为什么很多时候嵌入式设备使用C语言编写的原因.\n",
    "\n",
    "\n",
    "生成`helloworld.s`文件,`.s`文件表示是汇编文件，用编辑器打开就都是汇编指令了\n"
   ]
  },
  {
   "cell_type": "code",
   "execution_count": 3,
   "metadata": {
    "collapsed": true
   },
   "outputs": [],
   "source": [
    "!g++ -o ../codes/C1_Cpp_tools/Cpp_compiler/section1/src/helloworld.s \\\n",
    "-S ../codes/C1_Cpp_tools/Cpp_compiler/section1/src/helloworld.cpp"
   ]
  },
  {
   "cell_type": "code",
   "execution_count": 4,
   "metadata": {
    "collapsed": false
   },
   "outputs": [
    {
     "name": "stderr",
     "output_type": "stream",
     "text": [
      "'cat' 不是内部或外部命令，也不是可运行的程序\n",
      "或批处理文件。\n"
     ]
    }
   ],
   "source": [
    "!cat ../codes/C1_Cpp_tools/Cpp_compiler/section1/src/helloworld.s"
   ]
  },
  {
   "cell_type": "markdown",
   "metadata": {},
   "source": [
    "## 步骤三:将汇编语言的代码再编译为二进制代码\n",
    "\n",
    "这一步使用`-c`指令,将汇编代码编译位二进制代码.注意这依然不是可执行文件,因为其中使用的函数很可能并不包含在二进制文件中."
   ]
  },
  {
   "cell_type": "code",
   "execution_count": 5,
   "metadata": {
    "collapsed": false
   },
   "outputs": [
    {
     "name": "stderr",
     "output_type": "stream",
     "text": [
      "g++.exe: error: ../codes/Cpp_tools/Cpp_compiler/section1/src/helloworld.cpp: No such file or directory\n",
      "g++.exe: fatal error: no input files\n",
      "compilation terminated.\n"
     ]
    }
   ],
   "source": [
    "!g++ -o ../codes/C1_Cpp_tools/Cpp_compiler/section1/src/helloworld.o \\\n",
    "-c ../codes/Cpp_tools/Cpp_compiler/section1/src/helloworld.cpp"
   ]
  },
  {
   "cell_type": "code",
   "execution_count": 6,
   "metadata": {
    "collapsed": false
   },
   "outputs": [
    {
     "name": "stderr",
     "output_type": "stream",
     "text": [
      "'cat' 不是内部或外部命令，也不是可运行的程序\n",
      "或批处理文件。\n"
     ]
    }
   ],
   "source": [
    "!cat ../codes/C1_Cpp_tools/Cpp_compiler/section1/src/helloworld.o"
   ]
  },
  {
   "cell_type": "markdown",
   "metadata": {},
   "source": [
    "## 步骤四: 链接相关的二进制代码生成可执行文件\n",
    "\n",
    "这一步就是将与文件相关的函数库引入以生成最终的可执行文件."
   ]
  },
  {
   "cell_type": "code",
   "execution_count": 7,
   "metadata": {
    "collapsed": false
   },
   "outputs": [
    {
     "name": "stderr",
     "output_type": "stream",
     "text": [
      "g++.exe: error: ../codes/C1_Cpp_tools/Cpp_compiler/section1/src/helloworld.o: No such file or directory\n",
      "g++.exe: fatal error: no input files\n",
      "compilation terminated.\n"
     ]
    }
   ],
   "source": [
    "!g++ -o ../codes/C1_Cpp_tools/Cpp_compiler/section1/bin/helloworld \\\n",
    "../codes/C1_Cpp_tools/Cpp_compiler/section1/src/helloworld.o"
   ]
  },
  {
   "cell_type": "code",
   "execution_count": 8,
   "metadata": {
    "collapsed": false
   },
   "outputs": [
    {
     "name": "stderr",
     "output_type": "stream",
     "text": [
      "'..' 不是内部或外部命令，也不是可运行的程序\n",
      "或批处理文件。\n"
     ]
    }
   ],
   "source": [
    "!../codes/C1_Cpp_tools/Cpp_compiler/section1/bin/helloworld"
   ]
  },
  {
   "cell_type": "markdown",
   "metadata": {},
   "source": [
    "# 多文件编译\n",
    "\n",
    "在第一helloworld那章已经提过如何编译一个多文件构成的项目,这边以一个稍微复杂些的例子来演示"
   ]
  },
  {
   "cell_type": "code",
   "execution_count": 9,
   "metadata": {
    "collapsed": false
   },
   "outputs": [
    {
     "name": "stdout",
     "output_type": "stream",
     "text": [
      "Writing ../codes/C1_Cpp_tools/Cpp_compiler/section2/include/binary_vector.hpp\n"
     ]
    }
   ],
   "source": [
    "%%writefile ../codes/C1_Cpp_tools/Cpp_compiler/section2/include/binary_vector.hpp\n",
    "#ifndef BINARY_VECTOR_H\n",
    "#define BINARY_VECTOR_H//一般是文件名的大写 头文件结尾写上一行\n",
    "namespace Vector{\n",
    "typedef struct {\n",
    "    float x;\n",
    "    float y;\n",
    "} BINARY_VECTOR;\n",
    "}\n",
    "\n",
    "#endif"
   ]
  },
  {
   "cell_type": "code",
   "execution_count": 10,
   "metadata": {
    "collapsed": false
   },
   "outputs": [
    {
     "name": "stdout",
     "output_type": "stream",
     "text": [
      "Writing ../codes/C1_Cpp_tools/Cpp_compiler/section2/include/unary_operator.hpp\n"
     ]
    }
   ],
   "source": [
    "%%writefile ../codes/C1_Cpp_tools/Cpp_compiler/section2/include/unary_operator.hpp\n",
    "#ifndef UNARY_OPERATOR_H\n",
    "#define UNARY_OPERATOR_H//一般是文件名的大写 头文件结尾写上一行\n",
    "#include \"binary_vector.hpp\"\n",
    "#include <math.h>\n",
    "namespace Vector{\n",
    "float mod(Vector::BINARY_VECTOR);\n",
    "}\n",
    "#endif"
   ]
  },
  {
   "cell_type": "code",
   "execution_count": 11,
   "metadata": {
    "collapsed": false
   },
   "outputs": [
    {
     "name": "stdout",
     "output_type": "stream",
     "text": [
      "Writing ../codes/C1_Cpp_tools/Cpp_compiler/section2/src/unary_operator.cpp\n"
     ]
    }
   ],
   "source": [
    "%%writefile ../codes/C1_Cpp_tools/Cpp_compiler/section2/src/unary_operator.cpp\n",
    "#include \"unary_operator.hpp\"\n",
    "float Vector::mod(Vector::BINARY_VECTOR a){\n",
    "    float result = sqrt(a.x*a.x+a.y*a.y);\n",
    "    return result;\n",
    "}"
   ]
  },
  {
   "cell_type": "code",
   "execution_count": 12,
   "metadata": {
    "collapsed": false
   },
   "outputs": [
    {
     "name": "stdout",
     "output_type": "stream",
     "text": [
      "Writing ../codes/C1_Cpp_tools/Cpp_compiler/section2/include/binary_operator.hpp\n"
     ]
    }
   ],
   "source": [
    "%%writefile ../codes/C1_Cpp_tools/Cpp_compiler/section2/include/binary_operator.hpp\n",
    "#ifndef BINARY_OPERATOR_H\n",
    "#define BINARY_OPERATOR_H//一般是文件名的大写 头文件结尾写上一行\n",
    "#include \"binary_vector.hpp\"\n",
    "namespace Vector{\n",
    "Vector::BINARY_VECTOR add(Vector::BINARY_VECTOR,Vector::BINARY_VECTOR);\n",
    "float mul(Vector::BINARY_VECTOR,Vector::BINARY_VECTOR);\n",
    "}\n",
    "#endif"
   ]
  },
  {
   "cell_type": "code",
   "execution_count": 13,
   "metadata": {
    "collapsed": false
   },
   "outputs": [
    {
     "name": "stdout",
     "output_type": "stream",
     "text": [
      "Writing ../codes/C1_Cpp_tools/Cpp_compiler/section2/src/binary_operator.cpp\n"
     ]
    }
   ],
   "source": [
    "%%writefile ../codes/C1_Cpp_tools/Cpp_compiler/section2/src/binary_operator.cpp\n",
    "#include \"binary_operator.hpp\"\n",
    "Vector::BINARY_VECTOR Vector::add(Vector::BINARY_VECTOR a,Vector::BINARY_VECTOR b){\n",
    "    Vector::BINARY_VECTOR result = {a.x+b.x,a.y+b.y};\n",
    "    return result;\n",
    "}\n",
    "float Vector::mul(Vector::BINARY_VECTOR a,Vector::BINARY_VECTOR b){\n",
    "    float result = a.x*b.x+a.y*b.y;\n",
    "    return result;\n",
    "}"
   ]
  },
  {
   "cell_type": "code",
   "execution_count": 14,
   "metadata": {
    "collapsed": false
   },
   "outputs": [
    {
     "name": "stdout",
     "output_type": "stream",
     "text": [
      "Writing ../codes/C1_Cpp_tools/Cpp_compiler/section2/test/test.cpp\n"
     ]
    }
   ],
   "source": [
    "%%writefile ../codes/C1_Cpp_tools/Cpp_compiler/section2/test/test.cpp\n",
    "#include <stdio.h>\n",
    "#include \"binary_vector.hpp\"\n",
    "#include \"binary_operator.hpp\"\n",
    "#include \"unary_operator.hpp\"\n",
    "\n",
    "int main(void){\n",
    "    Vector::BINARY_VECTOR A = {1,2},B = {3,4};\n",
    "    printf(\"mod(A)=%f\\n\",Vector::mod(A));\n",
    "    printf(\"mod(B)=%f\\n\",Vector::mod(B));\n",
    "    printf(\"mul(A,B)=%f\\n\",Vector::mul(A,B));\n",
    "    Vector::BINARY_VECTOR result = Vector::add(A,B);\n",
    "    printf(\"add(A,B)=<%f,%f>\\n\",result.x,result.y);\n",
    "}\n"
   ]
  },
  {
   "cell_type": "code",
   "execution_count": 15,
   "metadata": {
    "collapsed": true
   },
   "outputs": [],
   "source": [
    "!g++ -o ../codes/C1_Cpp_tools/Cpp_compiler/section2/bin/test \\\n",
    "-I ../codes/C1_Cpp_tools/Cpp_compiler/section2/include \\\n",
    "../codes/C1_Cpp_tools/Cpp_compiler/section2/src/*.cpp \\\n",
    "../codes/C1_Cpp_tools/Cpp_compiler/section2/test/test.cpp"
   ]
  },
  {
   "cell_type": "code",
   "execution_count": 16,
   "metadata": {
    "collapsed": false
   },
   "outputs": [
    {
     "name": "stderr",
     "output_type": "stream",
     "text": [
      "'..' 不是内部或外部命令，也不是可运行的程序\n",
      "或批处理文件。\n"
     ]
    }
   ],
   "source": [
    "!../codes/C1_Cpp_tools/Cpp_compiler/section2/bin/test"
   ]
  },
  {
   "cell_type": "markdown",
   "metadata": {},
   "source": [
    "## 组织对外的接口\n",
    "\n",
    "上面的例子比较随性,基本上是一个头文件对应一个实现用的源文件.事实上头文件和实现并没有什么规定要这样对应,只是习惯上会这么做而已.\n",
    "\n",
    "头文件是用来申明对外接口的工具.其实只要申明的被实现了就可以使用.我们可以参考stl的设计.按照功能为接口分类,用多个头文件描述同一个模块,也可以像很多第三方工具一样使用单一的头文件将接口描述,而在实现上使用多源文件.\n",
    "\n",
    "本节的代码主要是整理上面的代码,我们知道C++可以用面向对象的范式编程.这也是C++诞生的初衷之一.作为pythoner,我们也更加熟悉使用类来抽象我们的逻辑.我们将上面的代码整理成使用类封装的形式."
   ]
  },
  {
   "cell_type": "code",
   "execution_count": 17,
   "metadata": {
    "collapsed": false
   },
   "outputs": [
    {
     "name": "stdout",
     "output_type": "stream",
     "text": [
      "Writing ../codes/C1_Cpp_tools/Cpp_compiler/section3/include/vector.hpp\n"
     ]
    }
   ],
   "source": [
    "%%writefile ../codes/C1_Cpp_tools/Cpp_compiler/section3/include/vector.hpp\n",
    "#ifndef BINARY_VECTOR_HPP\n",
    "#define BINARY_VECTOR_HPP//一般是文件名的大写 头文件结尾写上一行\n",
    "namespace Vector{\n",
    "class BinaryVector{\n",
    "public:\n",
    "    float x;\n",
    "    float y;\n",
    "    \n",
    "    BinaryVector();\n",
    "    BinaryVector(const BinaryVector&);\n",
    "    BinaryVector operator=(const BinaryVector &);\n",
    "    BinaryVector(BinaryVector&&);\n",
    "    BinaryVector operator=(BinaryVector &&);\n",
    "    \n",
    "    BinaryVector(float,float);\n",
    "    BinaryVector(int,float);\n",
    "    BinaryVector(int,int);\n",
    "    BinaryVector(float,int);\n",
    "    \n",
    "    \n",
    "    float mod();\n",
    "    float mul(const BinaryVector&);\n",
    "    BinaryVector add(const BinaryVector&);\n",
    "    \n",
    "    float operator*(const BinaryVector&);\n",
    "    BinaryVector operator+(const BinaryVector&);\n",
    "};\n",
    "}\n",
    "\n",
    "#endif"
   ]
  },
  {
   "cell_type": "markdown",
   "metadata": {},
   "source": [
    "C/C++的特点之一就是申明与实现分离,这也决定了其开发方式和python截然相反,python一般是想到哪里写到哪里,比较适合敏捷开发,而C/C++明显更适合先整体构思好了再动手写.因此才说python适合原型开发快速迭代,而C/C++适合写稳定的业务."
   ]
  },
  {
   "cell_type": "code",
   "execution_count": 18,
   "metadata": {
    "collapsed": false
   },
   "outputs": [
    {
     "name": "stdout",
     "output_type": "stream",
     "text": [
      "Writing ../codes/C1_Cpp_tools/Cpp_compiler/section3/src/vector.cpp\n"
     ]
    }
   ],
   "source": [
    "%%writefile ../codes/C1_Cpp_tools/Cpp_compiler/section3/src/vector.cpp\n",
    "#include <cmath>\n",
    "#include \"vector.hpp\"\n",
    "\n",
    "Vector::BinaryVector::BinaryVector()\n",
    ":x(0.0),y(0.0){\n",
    "}\n",
    "                            \n",
    "Vector::BinaryVector::BinaryVector(const Vector::BinaryVector & a)\n",
    ":x(a.x),y(a.y){\n",
    "}\n",
    "    \n",
    "Vector::BinaryVector Vector::BinaryVector::operator=(const Vector::BinaryVector & a){\n",
    "    if (this != &a) { \n",
    "        x = a.x; \n",
    "        y = a.y; \n",
    "    } \n",
    "    return *this; \n",
    "}\n",
    "\n",
    "Vector::BinaryVector::BinaryVector(Vector::BinaryVector && a)\n",
    ":x(a.x),y(a.y){\n",
    "    a.x = 0.0;\n",
    "    a.y = 0.0;\n",
    "}\n",
    "    \n",
    "Vector::BinaryVector Vector::BinaryVector::operator=(Vector::BinaryVector && a){\n",
    "    if (this != &a) { \n",
    "        x = a.x; \n",
    "        y = a.y; \n",
    "        a.x = 0.0;\n",
    "        a.y = 0.0;\n",
    "    }\n",
    "    \n",
    "    return *this; \n",
    "}\n",
    "    \n",
    "Vector::BinaryVector::BinaryVector(float in_x,float in_y)\n",
    ":x(in_x),y(in_y){\n",
    "}\n",
    "    \n",
    "Vector::BinaryVector::BinaryVector(int in_x,int in_y)\n",
    ":x(static_cast<float>(in_x)),y(static_cast<float>(in_y)){\n",
    "}\n",
    "    \n",
    "Vector::BinaryVector::BinaryVector(int in_x,float in_y)\n",
    ":x(static_cast<float>(in_x)),y(in_y){\n",
    "}\n",
    "    \n",
    "Vector::BinaryVector::BinaryVector(float in_x,int in_y)\n",
    ":x(in_x),y(static_cast<float>(in_y)){\n",
    "}\n",
    "                \n",
    "float Vector::BinaryVector::mod(){\n",
    "    float result = sqrt(x*x+y*y);\n",
    "    return result;\n",
    "}\n",
    "float Vector::BinaryVector::mul(const Vector::BinaryVector & that_vector){\n",
    "    float result = x*that_vector.x+y*that_vector.y;\n",
    "    return result;\n",
    "}      \n",
    "    \n",
    "Vector::BinaryVector Vector::BinaryVector::add(const Vector::BinaryVector & that_vector){\n",
    "    Vector::BinaryVector result(x+that_vector.x,y+that_vector.y);\n",
    "    return result;\n",
    "    \n",
    "}\n",
    "                            \n",
    "float Vector::BinaryVector::operator*(const Vector::BinaryVector& that_vector){\n",
    "    return mul(that_vector);\n",
    "}\n",
    "Vector::BinaryVector Vector::BinaryVector::operator+(const Vector::BinaryVector& that_vector){\n",
    "    return add(that_vector);\n",
    "}"
   ]
  },
  {
   "cell_type": "code",
   "execution_count": 19,
   "metadata": {
    "collapsed": false
   },
   "outputs": [
    {
     "name": "stdout",
     "output_type": "stream",
     "text": [
      "Writing ../codes/C1_Cpp_tools/Cpp_compiler/section3/test/test.cpp\n"
     ]
    }
   ],
   "source": [
    "%%writefile ../codes/C1_Cpp_tools/Cpp_compiler/section3/test/test.cpp\n",
    "#include <stdio.h>\n",
    "#include \"vector.hpp\"\n",
    "\n",
    "using Vector::BinaryVector;\n",
    "\n",
    "int main(){\n",
    "    BinaryVector A(1,2),B(3,4);\n",
    "    printf(\"mod(A)=%f\\n\",A.mod());\n",
    "    printf(\"mod(B)=%f\\n\",B.mod());\n",
    "    printf(\"mul(A,B)=%f\\n\",A*B);\n",
    "    BinaryVector result = A+B;\n",
    "    printf(\"add(A,B)=<%f,%f>\\n\",result.x,result.y);\n",
    "}\n"
   ]
  },
  {
   "cell_type": "code",
   "execution_count": 20,
   "metadata": {
    "collapsed": true
   },
   "outputs": [],
   "source": [
    "!g++ -std=c++11 \\\n",
    "-o ../codes/C1_Cpp_tools/Cpp_compiler/section3/bin/test \\\n",
    "-I ../codes/C1_Cpp_tools/Cpp_compiler/section3/include \\\n",
    "../codes/C1_Cpp_tools/Cpp_compiler/section3/src/*.cpp \\\n",
    "../codes/C1_Cpp_tools/Cpp_compiler/section3/test/test.cpp"
   ]
  },
  {
   "cell_type": "code",
   "execution_count": 21,
   "metadata": {
    "collapsed": false
   },
   "outputs": [
    {
     "name": "stderr",
     "output_type": "stream",
     "text": [
      "'..' 不是内部或外部命令，也不是可运行的程序\n",
      "或批处理文件。\n"
     ]
    }
   ],
   "source": [
    "!../codes/C1_Cpp_tools/Cpp_compiler/section3/bin/test"
   ]
  },
  {
   "cell_type": "markdown",
   "metadata": {},
   "source": [
    "# 链接库\n",
    "\n",
    "Java当初以跨平台作为重要的卖点,号称一次编译随处运行.其实C/C++当初也是这么宣传的,只不过对于C/C++来说跨平台指的是写好源码,头文件后可以在各个平台编译运行(系统资源接口的调用除外).但是显然这种跨平台很不彻底.而且很关键的一点是C++因为模板,内联函数等特性编译在静态语言中是数一数二的慢.这更加不便于团队合作和复用.\n",
    "\n",
    "实际上还有另外一种复用的方式,就是将代码编译成链接库.再在步骤四的时候链接到最终的代码中.链接库分为静态链接库和动态链接库两种.\n",
    "\n",
    "静态链接库与动态链接库都是共享代码的方式\n",
    "\n",
    "链接库是由第三步的.o文件组合而成,各个系统平台使用不同的规范实现,具体是什么规范这边不细说.总之不同平台编译出来的链接库是不能兼容的.但其实问题也不太大,完全可以编译好后共享出去.\n",
    "\n",
    "## 链接库的使用方法\n",
    "\n",
    "无论静态链接库还是动态链接库,命名规则都是`libxxx+后缀`,但编译的时候指定的名字就是`xxx`.而调用方法都是用`#include`导入后就可以直接使用.\n",
    "\n",
    "很多时候我们为了隐藏代码实现,在共享的时候可以指定好平台操作系统,之后只共享出链接库和头文件.这种方式不仅可以防止代码被人篡改或者侵权,更可以精简接口.\n",
    "\n",
    "## 静态连接库\n",
    "\n",
    "在linux中,而静态链接库用`.a`为后缀.windows中以`.lib`为后缀.osx中也以`.a`或`.framework`为后缀.当要使用静态链接库时,连接器会找出程序所需的函数,然后将它们拷贝到执行文件,由于这种拷贝是完整的,所以一旦连接成功,静态程序库也就不再需要了.\n",
    "\n",
    "### 静态链接库的优点 \n",
    "\n",
    "+ 代码装载速度快，执行速度略比动态链接库快； \n",
    "\n",
    "+ 只需保证在开发者的计算机中有正确的库文件,在以二进制形式发布程序时不需考虑在用户的计算机上的库文件是否存在及版本问题.\n",
    "\n",
    "### 不足之处\n",
    "\n",
    "+ 使用静态链接生成的可执行文件体积较大,包含相同的公共代码,造成浪费\n",
    "\n",
    "### 构建静态链接库\n",
    "\n",
    "我们还是以之前的二维向量作为例子,一般我们用ar(archive,归档的意思)把多个目标文件集合起来生成静态链接库文件."
   ]
  },
  {
   "cell_type": "markdown",
   "metadata": {},
   "source": [
    "## 静态连接库\n",
    "\n",
    "在linux中,而静态链接库用`.a`为后缀.windows中以`.lib`为后缀.osx中也以`.a`或`.framework`为后缀.当要使用静态链接库时,连接器会找出程序所需的函数,然后将它们拷贝到执行文件,由于这种拷贝是完整的,所以一旦连接成功,静态程序库也就不再需要了.\n",
    "\n",
    "### 静态链接库的优点 \n",
    "\n",
    "+ 代码装载速度快，执行速度略比动态链接库快； \n",
    "\n",
    "+ 只需保证在开发者的计算机中有正确的库文件,在以二进制形式发布程序时不需考虑在用户的计算机上的库文件是否存在及版本问题.\n",
    "\n",
    "### 不足之处\n",
    "\n",
    "+ 使用静态链接生成的可执行文件体积较大,包含相同的公共代码,造成浪费\n",
    "\n",
    "### 构建静态链接库\n",
    "\n",
    "我们还是以之前的二维向量作为例子,一般我们用ar(archive,归档的意思)把多个目标文件集合起来生成静态链接库文件."
   ]
  },
  {
   "cell_type": "code",
   "execution_count": 22,
   "metadata": {
    "collapsed": true
   },
   "outputs": [],
   "source": [
    "!g++ -c \\\n",
    "-std=c++11 \\\n",
    "-o ../codes/C1_Cpp_tools/Cpp_compiler/section3/lib/vector.o \\\n",
    "-I ../codes/C1_Cpp_tools/Cpp_compiler/section3/include \\\n",
    "../codes/C1_Cpp_tools/Cpp_compiler/section3/src/vector.cpp"
   ]
  },
  {
   "cell_type": "code",
   "execution_count": 23,
   "metadata": {
    "collapsed": false
   },
   "outputs": [
    {
     "name": "stderr",
     "output_type": "stream",
     "text": [
      "C:\\Users\\87\\Anaconda3\\Scripts\\ar.bat\\..\\..\\MinGW\\bin\\ar.exe: creating ../codes/C1_Cpp_tools/Cpp_compiler/section3/lib/libvector.a\n"
     ]
    }
   ],
   "source": [
    "!ar -r ../codes/C1_Cpp_tools/Cpp_compiler/section3/lib/libvector.a \\\n",
    "../codes/C1_Cpp_tools/Cpp_compiler/section3/lib/vector.o"
   ]
  },
  {
   "cell_type": "markdown",
   "metadata": {},
   "source": [
    "### 使用静态链接库\n",
    "\n",
    "要调用静态库我们依然需要头文件,我们需要一个头文件来描述这个静态库中的接口.我们可以使用之前的头文件`vector.hpp`.要使用静态链接库我们需要用`-L`来指定静态库所在的地址,再使用`-l`来指定静态库的名字.注意静态库的名字."
   ]
  },
  {
   "cell_type": "code",
   "execution_count": 24,
   "metadata": {
    "collapsed": false
   },
   "outputs": [
    {
     "name": "stderr",
     "output_type": "stream",
     "text": [
      "C:\\Users\\87\\AppData\\Local\\Temp\\ccE95ErS.o:test.cpp:(.text+0xbb): undefined reference to `Vector::BinaryVector::BinaryVector(int, int)'\n",
      "C:\\Users\\87\\AppData\\Local\\Temp\\ccE95ErS.o:test.cpp:(.text+0xd2): undefined reference to `Vector::BinaryVector::BinaryVector(int, int)'\n",
      "C:\\Users\\87\\AppData\\Local\\Temp\\ccE95ErS.o:test.cpp:(.text+0xde): undefined reference to `Vector::BinaryVector::mod()'\n",
      "C:\\Users\\87\\AppData\\Local\\Temp\\ccE95ErS.o:test.cpp:(.text+0x127): undefined reference to `Vector::BinaryVector::mod()'\n",
      "C:\\Users\\87\\AppData\\Local\\Temp\\ccE95ErS.o:test.cpp:(.text+0x174): undefined reference to `Vector::BinaryVector::operator*(Vector::BinaryVector const&)'\n",
      "C:\\Users\\87\\AppData\\Local\\Temp\\ccE95ErS.o:test.cpp:(.text+0x1c8): undefined reference to `Vector::BinaryVector::operator+(Vector::BinaryVector const&)'\n",
      "collect2.exe: error: ld returned 1 exit status\n"
     ]
    }
   ],
   "source": [
    "!g++ -std=c++11 \\\n",
    "-o ../codes/C1_Cpp_tools/Cpp_compiler/section3/bin/test_a \\\n",
    "-I ../codes/C1_Cpp_tools/Cpp_compiler/section3/include \\\n",
    "-L ../codes/C1_Cpp_tools/Cpp_compiler/section3/lib \\\n",
    "-l vector \\\n",
    "../codes/C1_Cpp_tools/Cpp_compiler/section3/test/test.cpp"
   ]
  },
  {
   "cell_type": "code",
   "execution_count": 25,
   "metadata": {
    "collapsed": false
   },
   "outputs": [
    {
     "name": "stderr",
     "output_type": "stream",
     "text": [
      "'..' 不是内部或外部命令，也不是可运行的程序\n",
      "或批处理文件。\n"
     ]
    }
   ],
   "source": [
    "!../codes/C1_Cpp_tools/Cpp_compiler/section3/bin/test_a"
   ]
  },
  {
   "cell_type": "markdown",
   "metadata": {},
   "source": [
    "## 动态连接库\n",
    "\n",
    "在linux中,动态链接库通常用`.so`为后缀.在windows中,动态链接库通常用`.dll`为后缀.在osx中,动态链接库通常用`.dylib`为后缀.\n",
    "\n",
    "\n",
    "某个程序在运行中要调用某个动态链接库函数的时候,操作系统首先会查看所有正在运行的程序,看在内存里是否已有此库函数的拷贝了.如果有,则让其共享那一个拷贝;只有没有才链接载入.在程序运行的时候,被调用的动态链接库函数被安置在内存的某个地方,所有调用它的程序将指向这个代码段.因此,这些代码必须使用相对地址,而不是绝对地址.在编译的时候,我们需要告诉编译器,这些对象文件是用来做动态链接库的,所以要用地址不无关代码(Position Independent Code (PIC)).\n",
    "\n",
    "注意:Linux下进行连接的缺省操作是首先连接动态库,也就是说,如果同时存在静态和动态库,不特别指定的话,将与动态库相连接.\n",
    "\n",
    "\n",
    "###  动态链接库的优点 \n",
    "\n",
    "+ 更加节省内存并减少页面交换;\n",
    "\n",
    "+ 动态链接文件与可执行文件独立,只要输出接口不变(即名称、参数、返回值类型和调用约定不变),更换动态链接文件不会对可执行文件造成任何影响,因而极大地提高了可维护性和可扩展性;\n",
    "\n",
    "+ 不同编程语言编写的程序只要按照函数调用约定就可以调用同一个动态函数;\n",
    "\n",
    "+ 适用于大规模的软件开发，使开发过程独立、耦合度小,便于不同开发者和开发组织之间进行开发和测试.\n",
    "\n",
    "### 不足之处\n",
    "\n",
    "+ 使用动态链接库的应用程序不是自完备的,它依赖的动态模块也要存在,如果使用载入时动态链接,程序启动时发现动态模块不存在,系统将终止程序并给出错误信息.而使用运行时动态链接,系统不会终止,但由于动态库中的导出函数不可用,程序会加载失败\n",
    "+ 速度比静态链接慢.当某个模块更新后,如果新模块与旧的模块不兼容,那么那些需要该模块才能运行的软件,统统撕掉.\n",
    "\n",
    "### 编译动态链接库\n",
    "\n",
    "动态链接库可以直接使用g++编译.需要使用`-fPIC`指定编译成的是共享库,`-shared`指定连接方式是共享型"
   ]
  },
  {
   "cell_type": "code",
   "execution_count": 26,
   "metadata": {
    "collapsed": false
   },
   "outputs": [
    {
     "name": "stderr",
     "output_type": "stream",
     "text": [
      "../codes/C1_Cpp_tools/Cpp_compiler/section3/src/vector.cpp:1:0: warning: -fPIC ignored for target (all code is position independent) [enabled by default]\n"
     ]
    }
   ],
   "source": [
    "!g++ -std=c++11 \\\n",
    "-o ../codes/C1_Cpp_tools/Cpp_compiler/section3/lib/libvector_b.so \\\n",
    "-fPIC \\\n",
    "-shared \\\n",
    "-I ../codes/C1_Cpp_tools/Cpp_compiler/section3/include \\\n",
    "../codes/C1_Cpp_tools/Cpp_compiler/section3/src/vector.cpp"
   ]
  },
  {
   "cell_type": "code",
   "execution_count": 27,
   "metadata": {
    "collapsed": false
   },
   "outputs": [
    {
     "name": "stderr",
     "output_type": "stream",
     "text": [
      "c:/users/87/anaconda3/mingw/bin/../lib/gcc/x86_64-w64-mingw32/4.7.0/../../../../x86_64-w64-mingw32/bin/ld.exe: cannot find -lvector_b\n",
      "collect2.exe: error: ld returned 1 exit status\n"
     ]
    }
   ],
   "source": [
    "!g++ -std=c++11 \\\n",
    "-o ../codes/C1_Cpp_tools/Cpp_compiler/section3/bin/test_b \\\n",
    "-I ../codes/C1_Cpp_tools/Cpp_compiler/section3/include \\\n",
    "-L ../codes/C1_Cpp_tools/Cpp_compiler/section3/lib \\\n",
    "-l vector_b \\\n",
    "../codes/C1_Cpp_tools/Cpp_compiler/section3/test/test.cpp"
   ]
  },
  {
   "cell_type": "code",
   "execution_count": 28,
   "metadata": {
    "collapsed": false
   },
   "outputs": [
    {
     "name": "stderr",
     "output_type": "stream",
     "text": [
      "'..' 不是内部或外部命令，也不是可运行的程序\n",
      "或批处理文件。\n"
     ]
    }
   ],
   "source": [
    "!../codes/Cpp_tools/Cpp_compiler/section3/bin/test_b"
   ]
  },
  {
   "cell_type": "markdown",
   "metadata": {},
   "source": [
    "## C语言兼容的接口设计\n",
    "\n",
    "很多时候我们需要考虑对C语言的兼容性,因此需要将C++的接口做个封装.封装为C接口需要使用`extern \"C\"`.\n",
    "\n",
    "我们可以用这样的模板来写这个接口头文件:\n",
    "\n",
    "```cpp\n",
    "#ifndef BINARY_OPERATOR_H\n",
    "#define BINARY_OPERATOR_H\n",
    "#ifdef __cplusplus\n",
    "extern \"C\" {\n",
    "#endif\n",
    " \n",
    "/*...*/\n",
    " \n",
    "#ifdef __cplusplus\n",
    "}\n",
    "#endif\n",
    "#endif\n",
    "```\n",
    "\n",
    "> `#ifdef _cplusplus/#endif _cplusplus`\n",
    "\n",
    "    很明显`#ifdef/#endif`,`#ifndef/#endif`用于条件编译,`#ifdef _cplusplus/#endif _cplusplus`——表示如果定义了宏`_cplusplus`，就执行`#ifdef/#endif`之间的语句，否则就不执行。\n",
    "\n",
    "    在这里为什么需要`#ifdef _cplusplus/#endif _cplusplus`呢？因为C语言中不支持`extern \"C\"`声明.\n",
    "\n",
    "\n",
    "> `extern \"C\"`\n",
    "\n",
    "    `extern`关键字是C/C++语言中表明函数和全局变量作用范围(可见性)的关键字,该关键字告诉编译器,其声明的函数和变量可以在本模块或其它模块中使用.\n",
    "    通常,在模块的头文件中对本模块提供给其它模块引用的函数和全局变量以关键字extern声明.例如,如果模块B欲引用该模块A中定义的全局变量和函数时只需包含模块A的头文件即可.这样,模块B中调用模块A中的函数时,在编译阶段,模块B虽然找不到该函数,但是并不会报错;它会在链接阶段中从模块A编译生成的目标代码中找到此函数.\n",
    "\n",
    "    与`extern`对应的关键字是`static`,被它修饰的全局变量和函数只能在本模块中使用.因此,一个函数或变量只可能被本模块使用时,其不可能被extern “C”修饰.\n",
    "\n",
    "\n",
    "    被`extern \"C\"`修饰的变量和函数是按照C语言方式编译和链接的.\n",
    "\n",
    "\n",
    "    作为一种面向对象的语言,C++支持函数重载,而C则不支持.函数被C++编译后在符号库中的名字与C语言的不同.例如某个函数的原型为`void foo( int x, int y );`该函数被C编译器编译后在符号库中的名字为`_foo`,而C++编译器则会产生像`_foo_int_int`之类的名字(不同的编译器可能生成的名字不同,但是都采用了相同的机制,生成的新名字称为“mangled name”).\n",
    "\n",
    "\n",
    "    `_foo_int_int`这样的名字包含了函数名,函数参数数量及类型信息.C++就是靠这种机制来实现函数重载的.同样地，C++中的变量除支持局部变量外,还支持类成员变量和全局变量.用户所编写程序的类成员变量可能与全局变量同名,我们以`\".\"`来区分.而本质上,编译器在进行编译时,与函数的处理相似,也为类中的变量取了一个独一无二的名字,这个名字与用户程序中同名的全局变量名字不同.\n",
    "\n",
    "    `extern \"C\"`指令仅指定编译和连接规约,但不影响语义.例如在函数声明中,指定了`extern \"C\"`,仍然要遵守C++的类型检测和参数转换规则.\n",
    "    \n",
    "要构造C语言也可以使用的连接库,需要用C中的结构,包括`struct`,`function`这些将C++中的内容包装起来,下面就是包装的代码"
   ]
  },
  {
   "cell_type": "code",
   "execution_count": 29,
   "metadata": {
    "collapsed": false
   },
   "outputs": [
    {
     "name": "stdout",
     "output_type": "stream",
     "text": [
      "Writing ../codes/C1_Cpp_tools/Cpp_compiler/section4/include/vector.h\n"
     ]
    }
   ],
   "source": [
    "%%writefile ../codes/C1_Cpp_tools/Cpp_compiler/section4/include/vector.h\n",
    "#ifndef BINARY_VECTOR_H\n",
    "#define BINARY_VECTOR_H//一般是文件名的大写 头文件结尾写上一行\n",
    "\n",
    "\n",
    "#ifdef __cplusplus\n",
    "extern \"C\" {\n",
    "#endif\n",
    "struct _Vector__BinaryVector;//将BinaryVector对象包装到一个结构体中\n",
    "\n",
    "typedef struct _Vector__BinaryVector Vector__BinaryVector;\n",
    " \n",
    "Vector__BinaryVector * Vector__BinaryVector_GetInstance(void); //构造结构体实例的函数\n",
    "void Vector__BinaryVector_ReleaseInstance(Vector__BinaryVector **);//析构结构体实例的函数\n",
    "//获取字面量\n",
    "float Vector__BinaryVector_getInstanceX(Vector__BinaryVector *);\n",
    "float Vector__BinaryVector_getInstanceY(Vector__BinaryVector *); \n",
    "//设置字面量\n",
    "void Vector__BinaryVector_setInstanceX(Vector__BinaryVector *,float);\n",
    "void Vector__BinaryVector_setInstanceY(Vector__BinaryVector *,float);\n",
    "void Vector__BinaryVector_setInstance(Vector__BinaryVector *,float,float);\n",
    "\n",
    "//将实例方法包装为函数\n",
    "float Vector__BinaryVector_mod(Vector__BinaryVector *);\n",
    "float Vector__BinaryVector_mul( Vector__BinaryVector * , Vector__BinaryVector *); \n",
    "Vector__BinaryVector * Vector__BinaryVector_add(Vector__BinaryVector *, Vector__BinaryVector *);\n",
    "\n",
    "#ifdef __cplusplus\n",
    "}\n",
    "#endif\n",
    "#endif"
   ]
  },
  {
   "cell_type": "code",
   "execution_count": 30,
   "metadata": {
    "collapsed": false
   },
   "outputs": [
    {
     "name": "stdout",
     "output_type": "stream",
     "text": [
      "Writing ../codes/C1_Cpp_tools/Cpp_compiler/section4/src/vector_wrapper.cpp\n"
     ]
    }
   ],
   "source": [
    "%%writefile ../codes/C1_Cpp_tools/Cpp_compiler/section4/src/vector_wrapper.cpp\n",
    "#include <cstdio>\n",
    "#include <stdlib.h> \n",
    "#include \"vector.h\"    \n",
    "#include \"vector.hpp\"\n",
    "#ifdef __cplusplus    \n",
    "extern \"C\" {    \n",
    "#endif \n",
    "struct _Vector__BinaryVector{\n",
    "    Vector::BinaryVector binary_vector;\n",
    "};\n",
    "\n",
    "Vector__BinaryVector * Vector__BinaryVector_GetInstance(void){\n",
    "    //return new Vector__BinaryVector;\n",
    "    Vector__BinaryVector * p = (Vector__BinaryVector *)malloc(sizeof(Vector__BinaryVector));\n",
    "    Vector::BinaryVector v;\n",
    "    p->binary_vector = v;\n",
    "    return p;\n",
    "}\n",
    "\n",
    "    \n",
    "void Vector__BinaryVector_ReleaseInstance(Vector__BinaryVector **ppInstance){\n",
    "    //delete *ppInstance;    \n",
    "    //*ppInstance = 0;    \n",
    "    free(*ppInstance);\n",
    "    *ppInstance = 0;\n",
    "}\n",
    "\n",
    "float Vector__BinaryVector_getInstanceX(Vector__BinaryVector *ptr_vector){\n",
    "    return ptr_vector->binary_vector.x;\n",
    "}\n",
    "float Vector__BinaryVector_getInstanceY(Vector__BinaryVector *ptr_vector){\n",
    "    return ptr_vector->binary_vector.y;\n",
    "}\n",
    "void Vector__BinaryVector_setInstanceX(Vector__BinaryVector *ptr_vector,float x){\n",
    "    ptr_vector->binary_vector.x = x;\n",
    "}\n",
    "void Vector__BinaryVector_setInstanceY(Vector__BinaryVector *ptr_vector,float y){\n",
    "    ptr_vector->binary_vector.y = y;\n",
    "}\n",
    "void Vector__BinaryVector_setInstance(Vector__BinaryVector *ptr_vector,float x,float y){\n",
    "    ptr_vector->binary_vector.x = x;\n",
    "    ptr_vector->binary_vector.y = y;\n",
    "}\n",
    "\n",
    "//将实例方法包装为函数\n",
    "float Vector__BinaryVector_mod(Vector__BinaryVector * ptr_vector){\n",
    "    return ptr_vector->binary_vector.mod();\n",
    "}\n",
    "    \n",
    "float Vector__BinaryVector_mul(Vector__BinaryVector * ptr_this_vector, Vector__BinaryVector * ptr_that_vector){\n",
    "    return ptr_this_vector->binary_vector *  ptr_that_vector->binary_vector;\n",
    "}\n",
    "Vector__BinaryVector * Vector__BinaryVector_add(Vector__BinaryVector * ptr_this_vector, Vector__BinaryVector * ptr_that_vector){\n",
    "    Vector::BinaryVector result_ins = ptr_this_vector->binary_vector +  ptr_that_vector->binary_vector;\n",
    "    Vector__BinaryVector * result = Vector__BinaryVector_GetInstance(); \n",
    "    result->binary_vector = result_ins;\n",
    "    return result;\n",
    "}\n",
    " \n",
    "#ifdef __cplusplus    \n",
    "};    \n",
    "#endif  \n"
   ]
  },
  {
   "cell_type": "code",
   "execution_count": 31,
   "metadata": {
    "collapsed": false
   },
   "outputs": [
    {
     "name": "stdout",
     "output_type": "stream",
     "text": [
      "Writing ../codes/C1_Cpp_tools/Cpp_compiler/section4/test/test.c\n"
     ]
    }
   ],
   "source": [
    "%%writefile ../codes/C1_Cpp_tools/Cpp_compiler/section4/test/test.c\n",
    "#include <stdio.h>\n",
    "#include \"vector.h\"\n",
    "\n",
    "int main(){\n",
    "    printf(\"test4\\n\");\n",
    "    Vector__BinaryVector * A = Vector__BinaryVector_GetInstance();\n",
    "    Vector__BinaryVector * B = Vector__BinaryVector_GetInstance();\n",
    "    Vector__BinaryVector_setInstance(A,1.0,2.0);\n",
    "    Vector__BinaryVector_setInstance(B,3.0,4.0);\n",
    "    printf(\"mod(A)=%f\\n\",Vector__BinaryVector_mod(A));\n",
    "    printf(\"mod(B)=%f\\n\",Vector__BinaryVector_mod(B));\n",
    "    printf(\"mul(A,B)=%f\\n\",Vector__BinaryVector_mul(A,B));\n",
    "    Vector__BinaryVector * result = Vector__BinaryVector_add(A,B);\n",
    "    printf(\"add(A,B)=<%f,%f>\\n\",Vector__BinaryVector_getInstanceX(result),Vector__BinaryVector_getInstanceY(result));\n",
    "}"
   ]
  },
  {
   "cell_type": "markdown",
   "metadata": {},
   "source": [
    "如果我们用使用C语言风格的调用方式用`gcc`来编译,一样可以编译起来.这需要我们先将原始代码和包装代码都分别编译为二进制文件`.o`,之后再将其连接配上入口函数的源文件即可,需要注意的是`gcc`可能会因为C++的错误处理和一些关键字而无法被编译通过,这种时候就需要在编译语句末尾加上`-lstdc++`即引入C++标准库来规避这些错误."
   ]
  },
  {
   "cell_type": "code",
   "execution_count": 32,
   "metadata": {
    "collapsed": true
   },
   "outputs": [],
   "source": [
    "!g++ -std=c++11 \\\n",
    "-c \\\n",
    "-o ../codes/C1_Cpp_tools/Cpp_compiler/section4/lib/vector.o \\\n",
    "-I ../codes/C1_Cpp_tools/Cpp_compiler/section3/include \\\n",
    "../codes/C1_Cpp_tools/Cpp_compiler/section3/src/vector.cpp"
   ]
  },
  {
   "cell_type": "code",
   "execution_count": 33,
   "metadata": {
    "collapsed": true
   },
   "outputs": [],
   "source": [
    "!g++ -std=c++11 \\\n",
    "-c \\\n",
    "-o ../codes/C1_Cpp_tools/Cpp_compiler/section4/lib/vector_wrapper.o \\\n",
    "-I ../codes/C1_Cpp_tools/Cpp_compiler/section4/include \\\n",
    "-I ../codes/C1_Cpp_tools/Cpp_compiler/section3/include \\\n",
    "../codes/C1_Cpp_tools/Cpp_compiler/section4/src/vector_wrapper.cpp"
   ]
  },
  {
   "cell_type": "code",
   "execution_count": 34,
   "metadata": {
    "collapsed": true
   },
   "outputs": [],
   "source": [
    "!gcc  -o ../codes/C1_Cpp_tools/Cpp_compiler/section4/bin/test \\\n",
    "-I ../codes/C1_Cpp_tools/Cpp_compiler/section4/include \\\n",
    "../codes/C1_Cpp_tools/Cpp_compiler/section4/lib/vector.o \\\n",
    "../codes/C1_Cpp_tools/Cpp_compiler/section4/lib/vector_wrapper.o \\\n",
    "../codes/C1_Cpp_tools/Cpp_compiler/section4/test/test.c \\\n",
    "-lstdc++"
   ]
  },
  {
   "cell_type": "code",
   "execution_count": 35,
   "metadata": {
    "collapsed": false
   },
   "outputs": [
    {
     "name": "stderr",
     "output_type": "stream",
     "text": [
      "'..' 不是内部或外部命令，也不是可运行的程序\n",
      "或批处理文件。\n"
     ]
    }
   ],
   "source": [
    "!../codes/C1_Cpp_tools/Cpp_compiler/section4/bin/test"
   ]
  },
  {
   "cell_type": "markdown",
   "metadata": {},
   "source": [
    "### 为动态库提供C和C++接口\n",
    "\n",
    "当然更好的方式是将C++代码编译为动态链接库,之后为C语言和C++分别提供调用用的头文件"
   ]
  },
  {
   "cell_type": "code",
   "execution_count": 36,
   "metadata": {
    "collapsed": false
   },
   "outputs": [
    {
     "name": "stderr",
     "output_type": "stream",
     "text": [
      "g++.exe: error: ../codes/src/C1_Cpp_tools/Cpp_compiler/section3/vector.cpp: No such file or directory\n",
      "g++.exe: error: ../codes/src/C1_Cpp_tools/Cpp_compiler/section4/vector_wrapper.cpp: No such file or directory\n",
      "g++.exe: fatal error: no input files\n",
      "compilation terminated.\n"
     ]
    }
   ],
   "source": [
    "!g++ -std=c++11 \\\n",
    "-o ../codes/lib/C1_Cpp_tools/Cpp_compiler/section4/libvector_c.so \\\n",
    "-fPIC \\\n",
    "-shared \\\n",
    "-I ../codes/include/C1_Cpp_tools/Cpp_compiler/section3 \\\n",
    "-I ../codes/include/C1_Cpp_tools/Cpp_compiler/section4 \\\n",
    "../codes/src/C1_Cpp_tools/Cpp_compiler/section3/vector.cpp \\\n",
    "../codes/src/C1_Cpp_tools/Cpp_compiler/section4/vector_wrapper.cpp"
   ]
  },
  {
   "cell_type": "code",
   "execution_count": 37,
   "metadata": {
    "collapsed": false
   },
   "outputs": [
    {
     "name": "stderr",
     "output_type": "stream",
     "text": [
      "../codes/C1_Cpp_tools/Cpp_compiler/section4/test/test.c:2:20: fatal error: vector.h: No such file or directory\n",
      "compilation terminated.\n"
     ]
    }
   ],
   "source": [
    "!gcc -o ../codes/C1_Cpp_tools/Cpp_compiler/section4/bin/test_b \\\n",
    "-I ../codes/C1_Cpp_tools/Cpp_compiler/include/section4 \\\n",
    "-L ../codes/C1_Cpp_tools/Cpp_compiler/lib/section4/ \\\n",
    "-l vector_c \\\n",
    "../codes/C1_Cpp_tools/Cpp_compiler/section4/test/test.c \\\n",
    "-lstdc++"
   ]
  },
  {
   "cell_type": "code",
   "execution_count": 38,
   "metadata": {
    "collapsed": false
   },
   "outputs": [
    {
     "name": "stderr",
     "output_type": "stream",
     "text": [
      "'..' 不是内部或外部命令，也不是可运行的程序\n",
      "或批处理文件。\n"
     ]
    }
   ],
   "source": [
    "!../codes/C1_Cpp_tools/Cpp_compiler/section4/bin/test_b"
   ]
  },
  {
   "cell_type": "markdown",
   "metadata": {},
   "source": [
    "# 使用宏实现跨平台\n",
    "\n",
    "我们说过C/C++的跨平台是源码级别的跨平台,但实际上因为操作系统功能的实现有区别,接口也有些区别,因此很多时候我们还是得考虑跨平台问题.其实这个问题python中也有,比如到3.6版本为止windows的`ctrl+c`操作都无法直接用于协程程序的中断.\n",
    "\n",
    "在C/C++编程时我们可以像上面定义C接口时一样用宏语句判断是否需要特殊化处理.一般情况下会出问题的也就是windows,下面是特殊化处理的宏片段:\n",
    "\n",
    "```cpp\n",
    "#ifdef _MSC_VER\n",
    "    #pragma warning(disable:4996)\n",
    "    #include <windows.h>\n",
    "    #include <io.h>\n",
    "#else\n",
    "    #include <unistd.h>\n",
    "    #include <sys/time.h>\n",
    "    #include <pthread.h>\n",
    "    #define  CRITICAL_SECTION   pthread_mutex_t\n",
    "    #define  _vsnprintf         vsnprintf\n",
    "#endif\n",
    "```\n",
    "当然了更加方便的方式是无视windows.\n"
   ]
  },
  {
   "cell_type": "markdown",
   "metadata": {},
   "source": [
    "# 总结下g++的常用参数\n",
    "\n",
    "+ -o 指定输出的文件\n",
    "+ -E 预编译\n",
    "+ -S 编译为汇编代码\n",
    "+ -c 编译位二进制文件\n",
    "+ -L 选项告诉编译器去哪里找需要的库文件\n",
    "+ -l -lbvector告诉编译器要链接libbvector库\n",
    "+ -I 选项告诉去哪个文件夹下找头文件\n",
    "+ -i 指定使用的头文件\n",
    "+ -static 链接方式禁止使用动态库。\n",
    "\n",
    "    优点：程序运行不依赖于其他库\n",
    "\n",
    "    缺点：文件比较大\n",
    "\n",
    "+ -shared (-G) 此链接方式尽量使用动态库，为默认选项(共享型)\n",
    "\n",
    "    优点：生成文件比较小\n",
    "\n",
    "    缺点：运行时需要系统提供动态库\n",
    "\n",
    "+ -symbolic 此链接方式将在建立共享目标文件的时候,把引用绑定到全局符号上.\n",
    "+ -fpic 编译器就生成位置无关目标码.适用于共享库(shared library).通常能产生更快更小的代码,但有平台限制.编译出的代码将通过全局偏移表(Global Offset Table)中的常数地址访存，动态装载器将在程序开始执行时解析GOT表项.\n",
    "+ -fPIC 编译器就输出位置无关目标码.适用于动态连接(dynamic linking),即使分支需要大范围转移.该选项会针对某些特殊机型做了特殊处理,比如适合动态链接并能避免超出GOT大小限制之类的错误.而Open64仅仅支持不会导致GOT表溢出的PIC编译.\n",
    "\n",
    "+ ***-lstdc++*** gcc使用的,放在编译代码最后防止因为C++语法而报错"
   ]
  },
  {
   "cell_type": "markdown",
   "metadata": {},
   "source": [
    "# 使用cmake流程化编译\n",
    "\n",
    "上面的代码我们直接使用g++来手工编译,这没问题,不过我们也看到了每次编译的命令都比python的helloworld长了.像很多复杂的程序用到很多外部依赖的情况下编译都快赶上写业务逻辑了.\n",
    "\n",
    "在js中我们用glup来流程化编译,在c/c++中的流程化编译工具就太多了,各自适用于不同的平台有着不同的规范,这边介绍的是[cmake](https://cmake.org/)工具.它是一个高层次的流程化编译工具,关键是他跨平台.\n",
    "\n",
    "Cmake本质上也不提供流程化编译的功能,他其实是用来生成不同平台make文件的,在linux,mac osx上就是`makefile`,正真编译使用`make`命令,在windows上就是`nmake`当然windows下也可以使用`mingw`来编译,自带的`mingwXX-make`来编译makefile.不过这需要在cmake的时候加上额外参数`-G  \"MinGW Makefiles\"`指定\n",
    "\n",
    "## 使用`CMakeLists.txt`配置资源与流程\n",
    "\n",
    "我们看一个简单的例子来看"
   ]
  },
  {
   "cell_type": "markdown",
   "metadata": {},
   "source": [
    "### 编写CMakerLists.txt\n",
    "\n",
    "这个例子很简单,只有一个源文件需要编译.我们定义了三个参数:\n",
    "\n",
    "+ cmake_minimum_required：指定运行此配置文件所需的 CMake 的最低版本\n",
    "+ project：参数值是 Demo1，该命令表示项目的名称是 Demo1\n",
    "+ add_executable： 将名为 main.cc 的源文件编译成一个名称为 Demo 的可执行文件"
   ]
  },
  {
   "cell_type": "code",
   "execution_count": 39,
   "metadata": {
    "collapsed": false
   },
   "outputs": [
    {
     "name": "stdout",
     "output_type": "stream",
     "text": [
      "Writing ../codes/C1_Cpp_tools/Cpp_compiler/section5/CMakeLists.txt\n"
     ]
    }
   ],
   "source": [
    "%%writefile ../codes/C1_Cpp_tools/Cpp_compiler/section5/CMakeLists.txt\n",
    "\n",
    "cmake_minimum_required (VERSION 2.8)\n",
    "project (Demo1)\n",
    "set(CMAKE_RUNTIME_OUTPUT_DIRECTORY ${CMAKE_BINARY_DIR}/bin)\n",
    "aux_source_directory(src DIR_SRCS)\n",
    "add_executable(Demo ${DIR_SRCS})"
   ]
  },
  {
   "cell_type": "code",
   "execution_count": 40,
   "metadata": {
    "collapsed": false
   },
   "outputs": [
    {
     "name": "stdout",
     "output_type": "stream",
     "text": [
      "Writing ../codes/C1_Cpp_tools/Cpp_compiler/section5/src/power.cpp\n"
     ]
    }
   ],
   "source": [
    "%%writefile ../codes/C1_Cpp_tools/Cpp_compiler/section5/src/power.cpp\n",
    "#include <stdio.h>\n",
    "#include <stdlib.h>\n",
    "\n",
    "double power(double base, int exponent)\n",
    "{\n",
    "    int result = base;\n",
    "    int i;\n",
    "\n",
    "    if (exponent == 0) {\n",
    "        return 1;\n",
    "    }\n",
    "    \n",
    "    for(i = 1; i < exponent; ++i){\n",
    "        result = result * base;\n",
    "    }\n",
    "\n",
    "    return result;\n",
    "}\n",
    "\n",
    "int main(int argc, char *argv[])\n",
    "{\n",
    "    if (argc < 3){\n",
    "        printf(\"Usage: %s base exponent \\n\", argv[0]);\n",
    "        return 1;\n",
    "    }\n",
    "    double base = atof(argv[1]);\n",
    "    int exponent = atoi(argv[2]);\n",
    "    double result = power(base, exponent);\n",
    "    printf(\"%g ^ %d is %g\\n\", base, exponent, result);\n",
    "    return 0;\n",
    "}"
   ]
  },
  {
   "cell_type": "code",
   "execution_count": 41,
   "metadata": {
    "collapsed": false
   },
   "outputs": [
    {
     "name": "stdout",
     "output_type": "stream",
     "text": [
      "-- Building for: Visual Studio 14 2015\n",
      "-- The C compiler identification is MSVC 19.0.24210.0\n",
      "-- The CXX compiler identification is MSVC 19.0.24210.0\n",
      "-- Check for working C compiler: C:/Program Files (x86)/Microsoft Visual Studio 14.0/VC/bin/cl.exe\n",
      "-- Check for working C compiler: C:/Program Files (x86)/Microsoft Visual Studio 14.0/VC/bin/cl.exe -- works\n",
      "-- Detecting C compiler ABI info\n",
      "-- Detecting C compiler ABI info - done\n",
      "-- Check for working CXX compiler: C:/Program Files (x86)/Microsoft Visual Studio 14.0/VC/bin/cl.exe\n",
      "-- Check for working CXX compiler: C:/Program Files (x86)/Microsoft Visual Studio 14.0/VC/bin/cl.exe -- works\n",
      "-- Detecting CXX compiler ABI info\n",
      "-- Detecting CXX compiler ABI info - done\n",
      "-- Detecting CXX compile features\n",
      "-- Detecting CXX compile features - done\n",
      "-- Configuring done\n",
      "-- Generating done\n",
      "-- Build files have been written to: C:/Users/87/Documents/GitHub/my/TutorialForCpp/ipynbs/codes/C1_Cpp_tools/Cpp_compiler/section5\n"
     ]
    }
   ],
   "source": [
    "!cmake ../codes/C1_Cpp_tools/Cpp_compiler/section5/CMakeLists.txt"
   ]
  },
  {
   "cell_type": "code",
   "execution_count": 42,
   "metadata": {
    "collapsed": false
   },
   "outputs": [
    {
     "name": "stderr",
     "output_type": "stream",
     "text": [
      "'make' 不是内部或外部命令，也不是可运行的程序\n",
      "或批处理文件。\n"
     ]
    }
   ],
   "source": [
    "!make -C ../codes/C1_Cpp_tools/Cpp_compiler/section5"
   ]
  },
  {
   "cell_type": "markdown",
   "metadata": {
    "collapsed": true
   },
   "source": [
    "## Cmake基本用法\n",
    "\n",
    "Cmake是指令式的配置方式,基本形式就是`cmake_minimum_required (VERSION 2.8)`这样,`()`外面的是参数字段,里面的是内容.\n",
    "\n",
    "常用的字段有:\n",
    "\n",
    "> 元信息设置\n",
    "\n",
    "+ `cmake_minimum_required`：指定运行此配置文件所需的 CMake 的最低版本\n",
    "\n",
    "+ `project(<proname>)`：参数值是 Demo1，该命令指定项目的名称\n",
    "\n",
    "> 编译器设置\n",
    "\n",
    "+ `set(CMAKE_ARCHIVE_OUTPUT_DIRECTORY ${CMAKE_BINARY_DIR}/Lib)`:设置静态连接文件输出目录\n",
    "+ `set(CMAKE_LIBRARY_OUTPUT_DIRECTORY ${CMAKE_BINARY_DIR}/Lib)`:设置动态态连接文件输出目录\n",
    "+ `set(CMAKE_RUNTIME_OUTPUT_DIRECTORY ${CMAKE_BINARY_DIR}/Bin)`:设置可执行文件输出目录\n",
    "+ `include_directories([AFTER|BEFORE] [SYSTEM] dir1 [dir2 ...])`:设置头文件目录\n",
    "+ `link_directories(directory1 directory2 ...)`:设置连接库所在位置\n",
    "+ `link_libraries(library1 <debug | optimized> library2 ...)`:添加需要链接的库文件路径\n",
    "+ `target_link_libraries(<target> [item1 [item2 [...]]][[debug|optimized|general] <item>] ...)`:设置要链接的库文件的名称\n",
    "+ `aux_source_directory(<dir> <variable>)`: 指定源文件的所在目录,如`aux_source_directory(. DIR_SRCS)`这样就将所有文件夹下的文件名放到了`DIR_SRCS`变量中.`add_executable(Demo ${DIR_SRCS})`就指定好了所有文件.\n",
    "\n",
    "+ `add_executable(<target> <sourcefiles...>)`： 将源文件编译成一个可执行文件,第一位是目标可执行文件名,后面则是源文件名.\n",
    "\n",
    "+ add_compile_options(-std=c++11):指定编译目标使用的额外参数,比如支持c++11\n",
    "\n",
    "+ target_compile_features(<target> <features...>)指定编译目标使用的额外参数\n",
    "\n",
    "> 链接编译设置\n",
    "\n",
    "+ `add_library (<target> [type]<sourcefiles...>)`:将源文件编译成一个链接库.\n",
    "\n",
    "\n",
    "> 子目录设置\n",
    "\n",
    "+ `add_subdirectory(math)`:添加子目录,子目录中需要有`CMakeLists.txt`文件,编译时会优先编译子目录.\n",
    "\n",
    "> 测试设置\n",
    "\n",
    "可以用`make test`执行测试\n",
    "\n",
    "+ `enable_testing()`:启动测试\n",
    "+ `add_test(<测试名> <test_target> <args>)`:添加一个测试,需要先把测试代码编译了\n",
    "+ `set_tests_properties (test_usage PROPERTIES PASS_REGULAR_EXPRESSION \"Usage: .* base exponent\")`设定测试的属性\n",
    "\n",
    "\n",
    "+ 定义一个宏，用来简化测试工作\n",
    "\n",
    "```cmake\n",
    "macro (do_test arg1 arg2 result)\n",
    "  add_test (test_${arg1}_${arg2} Demo ${arg1} ${arg2})\n",
    "  set_tests_properties (test_${arg1}_${arg2}\n",
    "    PROPERTIES PASS_REGULAR_EXPRESSION ${result})\n",
    "endmacro (do_test)\n",
    "```\n",
    "\n",
    "> debug测试\n",
    "\n",
    "```cmake\n",
    "set(CMAKE_BUILD_TYPE \"Debug\")\n",
    "set(CMAKE_CXX_FLAGS_DEBUG \"$ENV{CXXFLAGS} -O0 -Wall -g -ggdb\")\n",
    "set(CMAKE_CXX_FLAGS_RELEASE \"$ENV{CXXFLAGS} -O3 -Wall\")\n",
    "```\n"
   ]
  },
  {
   "cell_type": "markdown",
   "metadata": {},
   "source": [
    "### 使用cmake编译我们的二元向量"
   ]
  },
  {
   "cell_type": "markdown",
   "metadata": {},
   "source": [
    "更多的用法可以看官方文档.本文不会叙述太多."
   ]
  },
  {
   "cell_type": "code",
   "execution_count": 43,
   "metadata": {
    "collapsed": false
   },
   "outputs": [
    {
     "name": "stdout",
     "output_type": "stream",
     "text": [
      "Writing ../codes/C1_Cpp_tools/Cpp_compiler/section6/CMakeLists.txt\n"
     ]
    }
   ],
   "source": [
    "%%writefile ../codes/C1_Cpp_tools/Cpp_compiler/section6/CMakeLists.txt\n",
    "\n",
    "cmake_minimum_required (VERSION 2.8)\n",
    "project (binary_vector)\n",
    "set(CMAKE_RUNTIME_OUTPUT_DIRECTORY ${CMAKE_BINARY_DIR}/bin)\n",
    "\n",
    "aux_source_directory(test DIR_SRCS)\n",
    "add_subdirectory(src)\n",
    "add_executable(Demo ${DIR_SRCS})"
   ]
  },
  {
   "cell_type": "code",
   "execution_count": 44,
   "metadata": {
    "collapsed": false
   },
   "outputs": [
    {
     "name": "stdout",
     "output_type": "stream",
     "text": [
      "Writing ../codes/C1_Cpp_tools/Cpp_compiler/section6/src/CMakeLists.txt\n"
     ]
    },
    {
     "ename": "FileNotFoundError",
     "evalue": "[Errno 2] No such file or directory: '../codes/C1_Cpp_tools/Cpp_compiler/section6/src/CMakeLists.txt'",
     "output_type": "error",
     "traceback": [
      "\u001b[0;31m---------------------------------------------------------------------------\u001b[0m",
      "\u001b[0;31mFileNotFoundError\u001b[0m                         Traceback (most recent call last)",
      "\u001b[0;32m<ipython-input-44-855e7964cddc>\u001b[0m in \u001b[0;36m<module>\u001b[0;34m()\u001b[0m\n\u001b[0;32m----> 1\u001b[0;31m \u001b[0mget_ipython\u001b[0m\u001b[1;33m(\u001b[0m\u001b[1;33m)\u001b[0m\u001b[1;33m.\u001b[0m\u001b[0mrun_cell_magic\u001b[0m\u001b[1;33m(\u001b[0m\u001b[1;34m'writefile'\u001b[0m\u001b[1;33m,\u001b[0m \u001b[1;34m'../codes/C1_Cpp_tools/Cpp_compiler/section6/src/CMakeLists.txt'\u001b[0m\u001b[1;33m,\u001b[0m \u001b[1;34m'\\ninclude_directories(../include)\\naux_source_directory(. DIR_LIB_SRCS)\\nset(CMAKE_ARCHIVE_OUTPUT_DIRECTORY ${CMAKE_BINARY_DIR}/lib)\\nadd_library(Vector ${DIR_LIB_SRCS})'\u001b[0m\u001b[1;33m)\u001b[0m\u001b[1;33m\u001b[0m\u001b[0m\n\u001b[0m",
      "\u001b[0;32mC:\\Users\\87\\Anaconda3\\lib\\site-packages\\IPython\\core\\interactiveshell.py\u001b[0m in \u001b[0;36mrun_cell_magic\u001b[0;34m(self, magic_name, line, cell)\u001b[0m\n\u001b[1;32m   2113\u001b[0m             \u001b[0mmagic_arg_s\u001b[0m \u001b[1;33m=\u001b[0m \u001b[0mself\u001b[0m\u001b[1;33m.\u001b[0m\u001b[0mvar_expand\u001b[0m\u001b[1;33m(\u001b[0m\u001b[0mline\u001b[0m\u001b[1;33m,\u001b[0m \u001b[0mstack_depth\u001b[0m\u001b[1;33m)\u001b[0m\u001b[1;33m\u001b[0m\u001b[0m\n\u001b[1;32m   2114\u001b[0m             \u001b[1;32mwith\u001b[0m \u001b[0mself\u001b[0m\u001b[1;33m.\u001b[0m\u001b[0mbuiltin_trap\u001b[0m\u001b[1;33m:\u001b[0m\u001b[1;33m\u001b[0m\u001b[0m\n\u001b[0;32m-> 2115\u001b[0;31m                 \u001b[0mresult\u001b[0m \u001b[1;33m=\u001b[0m \u001b[0mfn\u001b[0m\u001b[1;33m(\u001b[0m\u001b[0mmagic_arg_s\u001b[0m\u001b[1;33m,\u001b[0m \u001b[0mcell\u001b[0m\u001b[1;33m)\u001b[0m\u001b[1;33m\u001b[0m\u001b[0m\n\u001b[0m\u001b[1;32m   2116\u001b[0m             \u001b[1;32mreturn\u001b[0m \u001b[0mresult\u001b[0m\u001b[1;33m\u001b[0m\u001b[0m\n\u001b[1;32m   2117\u001b[0m \u001b[1;33m\u001b[0m\u001b[0m\n",
      "\u001b[0;32m<decorator-gen-104>\u001b[0m in \u001b[0;36mwritefile\u001b[0;34m(self, line, cell)\u001b[0m\n",
      "\u001b[0;32mC:\\Users\\87\\Anaconda3\\lib\\site-packages\\IPython\\core\\magic.py\u001b[0m in \u001b[0;36m<lambda>\u001b[0;34m(f, *a, **k)\u001b[0m\n\u001b[1;32m    186\u001b[0m     \u001b[1;31m# but it's overkill for just that one bit of state.\u001b[0m\u001b[1;33m\u001b[0m\u001b[1;33m\u001b[0m\u001b[0m\n\u001b[1;32m    187\u001b[0m     \u001b[1;32mdef\u001b[0m \u001b[0mmagic_deco\u001b[0m\u001b[1;33m(\u001b[0m\u001b[0marg\u001b[0m\u001b[1;33m)\u001b[0m\u001b[1;33m:\u001b[0m\u001b[1;33m\u001b[0m\u001b[0m\n\u001b[0;32m--> 188\u001b[0;31m         \u001b[0mcall\u001b[0m \u001b[1;33m=\u001b[0m \u001b[1;32mlambda\u001b[0m \u001b[0mf\u001b[0m\u001b[1;33m,\u001b[0m \u001b[1;33m*\u001b[0m\u001b[0ma\u001b[0m\u001b[1;33m,\u001b[0m \u001b[1;33m**\u001b[0m\u001b[0mk\u001b[0m\u001b[1;33m:\u001b[0m \u001b[0mf\u001b[0m\u001b[1;33m(\u001b[0m\u001b[1;33m*\u001b[0m\u001b[0ma\u001b[0m\u001b[1;33m,\u001b[0m \u001b[1;33m**\u001b[0m\u001b[0mk\u001b[0m\u001b[1;33m)\u001b[0m\u001b[1;33m\u001b[0m\u001b[0m\n\u001b[0m\u001b[1;32m    189\u001b[0m \u001b[1;33m\u001b[0m\u001b[0m\n\u001b[1;32m    190\u001b[0m         \u001b[1;32mif\u001b[0m \u001b[0mcallable\u001b[0m\u001b[1;33m(\u001b[0m\u001b[0marg\u001b[0m\u001b[1;33m)\u001b[0m\u001b[1;33m:\u001b[0m\u001b[1;33m\u001b[0m\u001b[0m\n",
      "\u001b[0;32mC:\\Users\\87\\Anaconda3\\lib\\site-packages\\IPython\\core\\magics\\osm.py\u001b[0m in \u001b[0;36mwritefile\u001b[0;34m(self, line, cell)\u001b[0m\n\u001b[1;32m    787\u001b[0m \u001b[1;33m\u001b[0m\u001b[0m\n\u001b[1;32m    788\u001b[0m         \u001b[0mmode\u001b[0m \u001b[1;33m=\u001b[0m \u001b[1;34m'a'\u001b[0m \u001b[1;32mif\u001b[0m \u001b[0margs\u001b[0m\u001b[1;33m.\u001b[0m\u001b[0mappend\u001b[0m \u001b[1;32melse\u001b[0m \u001b[1;34m'w'\u001b[0m\u001b[1;33m\u001b[0m\u001b[0m\n\u001b[0;32m--> 789\u001b[0;31m         \u001b[1;32mwith\u001b[0m \u001b[0mio\u001b[0m\u001b[1;33m.\u001b[0m\u001b[0mopen\u001b[0m\u001b[1;33m(\u001b[0m\u001b[0mfilename\u001b[0m\u001b[1;33m,\u001b[0m \u001b[0mmode\u001b[0m\u001b[1;33m,\u001b[0m \u001b[0mencoding\u001b[0m\u001b[1;33m=\u001b[0m\u001b[1;34m'utf-8'\u001b[0m\u001b[1;33m)\u001b[0m \u001b[1;32mas\u001b[0m \u001b[0mf\u001b[0m\u001b[1;33m:\u001b[0m\u001b[1;33m\u001b[0m\u001b[0m\n\u001b[0m\u001b[1;32m    790\u001b[0m             \u001b[0mf\u001b[0m\u001b[1;33m.\u001b[0m\u001b[0mwrite\u001b[0m\u001b[1;33m(\u001b[0m\u001b[0mcell\u001b[0m\u001b[1;33m)\u001b[0m\u001b[1;33m\u001b[0m\u001b[0m\n",
      "\u001b[0;31mFileNotFoundError\u001b[0m: [Errno 2] No such file or directory: '../codes/C1_Cpp_tools/Cpp_compiler/section6/src/CMakeLists.txt'"
     ]
    }
   ],
   "source": [
    "%%writefile ../codes/C1_Cpp_tools/Cpp_compiler/section6/src/CMakeLists.txt\n",
    "\n",
    "include_directories(../include)\n",
    "aux_source_directory(. DIR_LIB_SRCS)\n",
    "set(CMAKE_ARCHIVE_OUTPUT_DIRECTORY ${CMAKE_BINARY_DIR}/lib)\n",
    "add_library(Vector ${DIR_LIB_SRCS})"
   ]
  },
  {
   "cell_type": "code",
   "execution_count": null,
   "metadata": {
    "collapsed": true
   },
   "outputs": [],
   "source": []
  }
 ],
 "metadata": {
  "kernelspec": {
   "display_name": "Python 3",
   "language": "python",
   "name": "python3"
  },
  "language_info": {
   "codemirror_mode": {
    "name": "ipython",
    "version": 3
   },
   "file_extension": ".py",
   "mimetype": "text/x-python",
   "name": "python",
   "nbconvert_exporter": "python",
   "pygments_lexer": "ipython3",
   "version": "3.6.0"
  }
 },
 "nbformat": 4,
 "nbformat_minor": 2
}
