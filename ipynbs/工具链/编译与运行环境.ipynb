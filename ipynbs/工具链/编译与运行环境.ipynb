{
 "cells": [
  {
   "cell_type": "markdown",
   "metadata": {},
   "source": [
    "# 编译与运行环境\n",
    "\n",
    "C是静态语言,需要编译后才能执行.而编译的工具就是编译器.最常见的C编译器有:\n",
    "\n",
    "+ `GNU C`开源大佬,linux上编译器的的代名词,在osx上也可以使用homebrew安装,windows上则有MinGW作为其移植版.\n",
    "+ `llvm+Clang`苹果资助的编译器,也是osx下默认的编译器.有不少黑科技,比如C++的repl,jit技术等,一点不像保守的苹果资助的东西.\n",
    "+ `MSVC`微软家的御用编译器,vs内置的编译器.只能在windows下使用,要在命令行中使用需要将其加入环境变量`Path`\n",
    "\n",
    "## GNU C\n",
    "\n",
    "`GNU C`是标准C的一个实现,当然在满足标准C规范的前提下他还有一些其他扩展,比如支持函数内嵌套定义函数,本文使用的就是GNU C.GNU C使用的编译器叫做gcc,一般来说linux下的C编译器就是gcc,但在其他平台上也并不是没有gcc的实现:\n",
    "\n",
    "+ mac osx上可以使用`homebrew`安装gcc,安装好后,由于osx固定的将gcc命令链接到clang.要使用的话只能使用`gcc-7`形式的命令,其中7是指gcc的大版本.\n",
    "\n",
    "+ windows上则可以安装`mingw`来获取gnu的环境,可以通过`anaconda`安装它,需要注意的是`mingw`的安装可能会在你为python安装需要用C编译的包时带来一些错误.所以谨慎使用.\n",
    "\n",
    "gcc工具的版本更新是很快的,一般来书并不需要追求新版本,像windows上使用`anaconda`安装的话默认版本是4.7版本,其实我们完全可以就使用这个版本的gcc.它足够稳定可靠.\n",
    "\n",
    "\n",
    "## C 语言与编译\n",
    "\n",
    "对于C来说,编译其本质就是将源文件转化为二进制库文件或者可执行文件的过程,我们以一个小程序来作为例子,使用`gnu gcc`工具来演示整个编译过程:"
   ]
  },
  {
   "cell_type": "code",
   "execution_count": 1,
   "metadata": {
    "collapsed": false
   },
   "outputs": [
    {
     "name": "stdout",
     "output_type": "stream",
     "text": [
      "Overwriting ../codes/C1_C_tools/compiler/section1/src/helloworld.c\n"
     ]
    }
   ],
   "source": [
    "%%writefile ../codes/C1_C_tools/compiler/section1/src/helloworld.c\n",
    "#include <stdio.h>\n",
    "\n",
    "int main(){\n",
    "    printf(\"hello world\");\n",
    "    return 0;\n",
    "}"
   ]
  },
  {
   "cell_type": "markdown",
   "metadata": {},
   "source": [
    "## 步骤一:解读头文件,结合源文件,组合生成真正的待编译代码\n",
    "    \n",
    "这一步可以使用`-E`指令实现.这个过程只激活预处理,不生成文件,而是输出到标准输出.因此你需要把它重定向到一个输出文件里.,一般来说我们用后缀`.i`保存这个文件.\n",
    "\n",
    "这一步实际上做这些事儿:\n",
    "\n",
    "+ 宏的替换\n",
    "+ 注释的消除\n",
    "+ 还有找到相关的库文件\n",
    "+ 执行模板,将模板翻译成源码的实现\n",
    "+ 将#include文件的全部内容插入.若用`<>`括起文件则在系统的INCLUDE目录中寻找文件,若用`\" \"`括起文件则在当前目录中寻找文件."
   ]
  },
  {
   "cell_type": "code",
   "execution_count": 2,
   "metadata": {
    "collapsed": false,
    "scrolled": false
   },
   "outputs": [
    {
     "name": "stdout",
     "output_type": "stream",
     "text": [
      "# 1 \"../codes/C1_C_tools/compiler/section1/src/helloworld.c\"\n",
      "# 1 \"<built-in>\" 1\n",
      "# 1 \"<built-in>\" 3\n",
      "# 329 \"<built-in>\" 3\n",
      "# 1 \"<command line>\" 1\n",
      "# 1 \"<built-in>\" 2\n",
      "# 1 \"../codes/C1_C_tools/compiler/section1/src/helloworld.c\" 2\n",
      "# 1 \"/usr/include/stdio.h\" 1 3 4\n",
      "# 64 \"/usr/include/stdio.h\" 3 4\n",
      "# 1 \"/usr/include/sys/cdefs.h\" 1 3 4\n",
      "# 533 \"/usr/include/sys/cdefs.h\" 3 4\n",
      "# 1 \"/usr/include/sys/_symbol_aliasing.h\" 1 3 4\n",
      "# 534 \"/usr/include/sys/cdefs.h\" 2 3 4\n",
      "# 599 \"/usr/include/sys/cdefs.h\" 3 4\n",
      "# 1 \"/usr/include/sys/_posix_availability.h\" 1 3 4\n",
      "# 600 \"/usr/include/sys/cdefs.h\" 2 3 4\n",
      "# 65 \"/usr/include/stdio.h\" 2 3 4\n",
      "# 1 \"/usr/include/Availability.h\" 1 3 4\n",
      "# 172 \"/usr/include/Availability.h\" 3 4\n",
      "# 1 \"/usr/include/AvailabilityInternal.h\" 1 3 4\n",
      "# 173 \"/usr/include/Availability.h\" 2 3 4\n",
      "# 66 \"/usr/include/stdio.h\" 2 3 4\n",
      "\n",
      "# 1 \"/usr/include/_types.h\" 1 3 4\n",
      "# 27 \"/usr/include/_types.h\" 3 4\n",
      "# 1 \"/usr/include/sys/_types.h\" 1 3 4\n",
      "# 33 \"/usr/include/sys/_types.h\" 3 4\n",
      "# 1 \"/usr/include/machine/_types.h\" 1 3 4\n",
      "# 32 \"/usr/include/machine/_types.h\" 3 4\n",
      "# 1 \"/usr/include/i386/_types.h\" 1 3 4\n",
      "# 37 \"/usr/include/i386/_types.h\" 3 4\n",
      "typedef signed char __int8_t;\n",
      "\n",
      "\n",
      "\n",
      "typedef unsigned char __uint8_t;\n",
      "typedef short __int16_t;\n",
      "typedef unsigned short __uint16_t;\n",
      "typedef int __int32_t;\n",
      "typedef unsigned int __uint32_t;\n",
      "typedef long long __int64_t;\n",
      "typedef unsigned long long __uint64_t;\n",
      "\n",
      "typedef long __darwin_intptr_t;\n",
      "typedef unsigned int __darwin_natural_t;\n",
      "# 70 \"/usr/include/i386/_types.h\" 3 4\n",
      "typedef int __darwin_ct_rune_t;\n",
      "\n",
      "\n",
      "\n",
      "\n",
      "\n",
      "typedef union {\n",
      " char __mbstate8[128];\n",
      " long long _mbstateL;\n",
      "} __mbstate_t;\n",
      "\n",
      "typedef __mbstate_t __darwin_mbstate_t;\n",
      "\n",
      "\n",
      "typedef long int __darwin_ptrdiff_t;\n",
      "\n",
      "\n",
      "\n",
      "\n",
      "\n",
      "\n",
      "\n",
      "typedef long unsigned int __darwin_size_t;\n",
      "\n",
      "\n",
      "\n",
      "\n",
      "\n",
      "typedef __builtin_va_list __darwin_va_list;\n",
      "\n",
      "\n",
      "\n",
      "\n",
      "\n",
      "typedef int __darwin_wchar_t;\n",
      "\n",
      "\n",
      "\n",
      "\n",
      "typedef __darwin_wchar_t __darwin_rune_t;\n",
      "\n",
      "\n",
      "typedef int __darwin_wint_t;\n",
      "\n",
      "\n",
      "\n",
      "\n",
      "typedef unsigned long __darwin_clock_t;\n",
      "typedef __uint32_t __darwin_socklen_t;\n",
      "typedef long __darwin_ssize_t;\n",
      "typedef long __darwin_time_t;\n",
      "# 33 \"/usr/include/machine/_types.h\" 2 3 4\n",
      "# 34 \"/usr/include/sys/_types.h\" 2 3 4\n",
      "# 55 \"/usr/include/sys/_types.h\" 3 4\n",
      "typedef __int64_t __darwin_blkcnt_t;\n",
      "typedef __int32_t __darwin_blksize_t;\n",
      "typedef __int32_t __darwin_dev_t;\n",
      "typedef unsigned int __darwin_fsblkcnt_t;\n",
      "typedef unsigned int __darwin_fsfilcnt_t;\n",
      "typedef __uint32_t __darwin_gid_t;\n",
      "typedef __uint32_t __darwin_id_t;\n",
      "typedef __uint64_t __darwin_ino64_t;\n",
      "\n",
      "typedef __darwin_ino64_t __darwin_ino_t;\n",
      "\n",
      "\n",
      "\n",
      "typedef __darwin_natural_t __darwin_mach_port_name_t;\n",
      "typedef __darwin_mach_port_name_t __darwin_mach_port_t;\n",
      "typedef __uint16_t __darwin_mode_t;\n",
      "typedef __int64_t __darwin_off_t;\n",
      "typedef __int32_t __darwin_pid_t;\n",
      "typedef __uint32_t __darwin_sigset_t;\n",
      "typedef __int32_t __darwin_suseconds_t;\n",
      "typedef __uint32_t __darwin_uid_t;\n",
      "typedef __uint32_t __darwin_useconds_t;\n",
      "typedef unsigned char __darwin_uuid_t[16];\n",
      "typedef char __darwin_uuid_string_t[37];\n",
      "\n",
      "\n",
      "# 1 \"/usr/include/sys/_pthread/_pthread_types.h\" 1 3 4\n",
      "# 57 \"/usr/include/sys/_pthread/_pthread_types.h\" 3 4\n",
      "struct __darwin_pthread_handler_rec {\n",
      " void (*__routine)(void *);\n",
      " void *__arg;\n",
      " struct __darwin_pthread_handler_rec *__next;\n",
      "};\n",
      "\n",
      "struct _opaque_pthread_attr_t {\n",
      " long __sig;\n",
      " char __opaque[56];\n",
      "};\n",
      "\n",
      "struct _opaque_pthread_cond_t {\n",
      " long __sig;\n",
      " char __opaque[40];\n",
      "};\n",
      "\n",
      "struct _opaque_pthread_condattr_t {\n",
      " long __sig;\n",
      " char __opaque[8];\n",
      "};\n",
      "\n",
      "struct _opaque_pthread_mutex_t {\n",
      " long __sig;\n",
      " char __opaque[56];\n",
      "};\n",
      "\n",
      "struct _opaque_pthread_mutexattr_t {\n",
      " long __sig;\n",
      " char __opaque[8];\n",
      "};\n",
      "\n",
      "struct _opaque_pthread_once_t {\n",
      " long __sig;\n",
      " char __opaque[8];\n",
      "};\n",
      "\n",
      "struct _opaque_pthread_rwlock_t {\n",
      " long __sig;\n",
      " char __opaque[192];\n",
      "};\n",
      "\n",
      "struct _opaque_pthread_rwlockattr_t {\n",
      " long __sig;\n",
      " char __opaque[16];\n",
      "};\n",
      "\n",
      "struct _opaque_pthread_t {\n",
      " long __sig;\n",
      " struct __darwin_pthread_handler_rec *__cleanup_stack;\n",
      " char __opaque[8176];\n",
      "};\n",
      "\n",
      "typedef struct _opaque_pthread_attr_t __darwin_pthread_attr_t;\n",
      "typedef struct _opaque_pthread_cond_t __darwin_pthread_cond_t;\n",
      "typedef struct _opaque_pthread_condattr_t __darwin_pthread_condattr_t;\n",
      "typedef unsigned long __darwin_pthread_key_t;\n",
      "typedef struct _opaque_pthread_mutex_t __darwin_pthread_mutex_t;\n",
      "typedef struct _opaque_pthread_mutexattr_t __darwin_pthread_mutexattr_t;\n",
      "typedef struct _opaque_pthread_once_t __darwin_pthread_once_t;\n",
      "typedef struct _opaque_pthread_rwlock_t __darwin_pthread_rwlock_t;\n",
      "typedef struct _opaque_pthread_rwlockattr_t __darwin_pthread_rwlockattr_t;\n",
      "typedef struct _opaque_pthread_t *__darwin_pthread_t;\n",
      "# 81 \"/usr/include/sys/_types.h\" 2 3 4\n",
      "# 28 \"/usr/include/_types.h\" 2 3 4\n",
      "# 39 \"/usr/include/_types.h\" 3 4\n",
      "typedef int __darwin_nl_item;\n",
      "typedef int __darwin_wctrans_t;\n",
      "\n",
      "typedef __uint32_t __darwin_wctype_t;\n",
      "# 68 \"/usr/include/stdio.h\" 2 3 4\n",
      "\n",
      "\n",
      "\n",
      "# 1 \"/usr/include/sys/_types/_va_list.h\" 1 3 4\n",
      "# 31 \"/usr/include/sys/_types/_va_list.h\" 3 4\n",
      "typedef __darwin_va_list va_list;\n",
      "# 72 \"/usr/include/stdio.h\" 2 3 4\n",
      "# 1 \"/usr/include/sys/_types/_size_t.h\" 1 3 4\n",
      "# 30 \"/usr/include/sys/_types/_size_t.h\" 3 4\n",
      "typedef __darwin_size_t size_t;\n",
      "# 73 \"/usr/include/stdio.h\" 2 3 4\n",
      "# 1 \"/usr/include/sys/_types/_null.h\" 1 3 4\n",
      "# 74 \"/usr/include/stdio.h\" 2 3 4\n",
      "\n",
      "# 1 \"/usr/include/sys/stdio.h\" 1 3 4\n",
      "# 39 \"/usr/include/sys/stdio.h\" 3 4\n",
      "int renameat(int, const char *, int, const char *) __attribute__((availability(macosx,introduced=10.10)));\n",
      "# 76 \"/usr/include/stdio.h\" 2 3 4\n",
      "\n",
      "typedef __darwin_off_t fpos_t;\n",
      "# 88 \"/usr/include/stdio.h\" 3 4\n",
      "struct __sbuf {\n",
      " unsigned char *_base;\n",
      " int _size;\n",
      "};\n",
      "\n",
      "\n",
      "struct __sFILEX;\n",
      "# 122 \"/usr/include/stdio.h\" 3 4\n",
      "typedef struct __sFILE {\n",
      " unsigned char *_p;\n",
      " int _r;\n",
      " int _w;\n",
      " short _flags;\n",
      " short _file;\n",
      " struct __sbuf _bf;\n",
      " int _lbfsize;\n",
      "\n",
      "\n",
      " void *_cookie;\n",
      " int (*_close)(void *);\n",
      " int (*_read) (void *, char *, int);\n",
      " fpos_t (*_seek) (void *, fpos_t, int);\n",
      " int (*_write)(void *, const char *, int);\n",
      "\n",
      "\n",
      " struct __sbuf _ub;\n",
      " struct __sFILEX *_extra;\n",
      " int _ur;\n",
      "\n",
      "\n",
      " unsigned char _ubuf[3];\n",
      " unsigned char _nbuf[1];\n",
      "\n",
      "\n",
      " struct __sbuf _lb;\n",
      "\n",
      "\n",
      " int _blksize;\n",
      " fpos_t _offset;\n",
      "} FILE;\n",
      "\n",
      "\n",
      "extern FILE *__stdinp;\n",
      "extern FILE *__stdoutp;\n",
      "extern FILE *__stderrp;\n",
      "# 231 \"/usr/include/stdio.h\" 3 4\n",
      "void clearerr(FILE *);\n",
      "int fclose(FILE *);\n",
      "int feof(FILE *);\n",
      "int ferror(FILE *);\n",
      "int fflush(FILE *);\n",
      "int fgetc(FILE *);\n",
      "int fgetpos(FILE * restrict, fpos_t *);\n",
      "char *fgets(char * restrict, int, FILE *);\n",
      "\n",
      "\n",
      "\n",
      "FILE *fopen(const char * restrict, const char * restrict) __asm(\"_\" \"fopen\" );\n",
      "\n",
      "int fprintf(FILE * restrict, const char * restrict, ...) __attribute__((__format__ (__printf__, 2, 3)));\n",
      "int fputc(int, FILE *);\n",
      "int fputs(const char * restrict, FILE * restrict) __asm(\"_\" \"fputs\" );\n",
      "size_t fread(void * restrict, size_t, size_t, FILE * restrict);\n",
      "FILE *freopen(const char * restrict, const char * restrict,\n",
      "                 FILE * restrict) __asm(\"_\" \"freopen\" );\n",
      "int fscanf(FILE * restrict, const char * restrict, ...) __attribute__((__format__ (__scanf__, 2, 3)));\n",
      "int fseek(FILE *, long, int);\n",
      "int fsetpos(FILE *, const fpos_t *);\n",
      "long ftell(FILE *);\n",
      "size_t fwrite(const void * restrict, size_t, size_t, FILE * restrict) __asm(\"_\" \"fwrite\" );\n",
      "int getc(FILE *);\n",
      "int getchar(void);\n",
      "char *gets(char *);\n",
      "void perror(const char *);\n",
      "int printf(const char * restrict, ...) __attribute__((__format__ (__printf__, 1, 2)));\n",
      "int putc(int, FILE *);\n",
      "int putchar(int);\n",
      "int puts(const char *);\n",
      "int remove(const char *);\n",
      "int rename (const char *, const char *);\n",
      "void rewind(FILE *);\n",
      "int scanf(const char * restrict, ...) __attribute__((__format__ (__scanf__, 1, 2)));\n",
      "void setbuf(FILE * restrict, char * restrict);\n",
      "int setvbuf(FILE * restrict, char * restrict, int, size_t);\n",
      "int sprintf(char * restrict, const char * restrict, ...) __attribute__((__format__ (__printf__, 2, 3)));\n",
      "int sscanf(const char * restrict, const char * restrict, ...) __attribute__((__format__ (__scanf__, 2, 3)));\n",
      "FILE *tmpfile(void);\n",
      "\n",
      "\n",
      "__attribute__((deprecated(\"This function is provided for compatibility reasons only.  Due to security concerns inherent in the design of tmpnam(3), it is highly recommended that you use mkstemp(3) instead.\")))\n",
      "\n",
      "char *tmpnam(char *);\n",
      "int ungetc(int, FILE *);\n",
      "int vfprintf(FILE * restrict, const char * restrict, va_list) __attribute__((__format__ (__printf__, 2, 0)));\n",
      "int vprintf(const char * restrict, va_list) __attribute__((__format__ (__printf__, 1, 0)));\n",
      "int vsprintf(char * restrict, const char * restrict, va_list) __attribute__((__format__ (__printf__, 2, 0)));\n",
      "# 296 \"/usr/include/stdio.h\" 3 4\n",
      "char *ctermid(char *);\n",
      "\n",
      "\n",
      "\n",
      "\n",
      "\n",
      "FILE *fdopen(int, const char *) __asm(\"_\" \"fdopen\" );\n",
      "\n",
      "int fileno(FILE *);\n",
      "# 315 \"/usr/include/stdio.h\" 3 4\n",
      "int pclose(FILE *);\n",
      "\n",
      "\n",
      "\n",
      "FILE *popen(const char *, const char *) __asm(\"_\" \"popen\" );\n",
      "# 337 \"/usr/include/stdio.h\" 3 4\n",
      "int __srget(FILE *);\n",
      "int __svfscanf(FILE *, const char *, va_list) __attribute__((__format__ (__scanf__, 2, 0)));\n",
      "int __swbuf(int, FILE *);\n",
      "# 348 \"/usr/include/stdio.h\" 3 4\n",
      "inline __attribute__ ((__always_inline__)) int __sputc(int _c, FILE *_p) {\n",
      " if (--_p->_w >= 0 || (_p->_w >= _p->_lbfsize && (char)_c != '\\n'))\n",
      "  return (*_p->_p++ = _c);\n",
      " else\n",
      "  return (__swbuf(_c, _p));\n",
      "}\n",
      "# 374 \"/usr/include/stdio.h\" 3 4\n",
      "void flockfile(FILE *);\n",
      "int ftrylockfile(FILE *);\n",
      "void funlockfile(FILE *);\n",
      "int getc_unlocked(FILE *);\n",
      "int getchar_unlocked(void);\n",
      "int putc_unlocked(int, FILE *);\n",
      "int putchar_unlocked(int);\n",
      "\n",
      "\n",
      "\n",
      "int getw(FILE *);\n",
      "int putw(int, FILE *);\n",
      "\n",
      "\n",
      "\n",
      "__attribute__((deprecated(\"This function is provided for compatibility reasons only.  Due to security concerns inherent in the design of tempnam(3), it is highly recommended that you use mkstemp(3) instead.\")))\n",
      "\n",
      "char *tempnam(const char *, const char *) __asm(\"_\" \"tempnam\" );\n",
      "# 411 \"/usr/include/stdio.h\" 3 4\n",
      "# 1 \"/usr/include/sys/_types/_off_t.h\" 1 3 4\n",
      "# 30 \"/usr/include/sys/_types/_off_t.h\" 3 4\n",
      "typedef __darwin_off_t off_t;\n",
      "# 412 \"/usr/include/stdio.h\" 2 3 4\n",
      "\n",
      "\n",
      "int fseeko(FILE *, off_t, int);\n",
      "off_t ftello(FILE *);\n",
      "\n",
      "\n",
      "\n",
      "\n",
      "\n",
      "int snprintf(char * restrict, size_t, const char * restrict, ...) __attribute__((__format__ (__printf__, 3, 4)));\n",
      "int vfscanf(FILE * restrict, const char * restrict, va_list) __attribute__((__format__ (__scanf__, 2, 0)));\n",
      "int vscanf(const char * restrict, va_list) __attribute__((__format__ (__scanf__, 1, 0)));\n",
      "int vsnprintf(char * restrict, size_t, const char * restrict, va_list) __attribute__((__format__ (__printf__, 3, 0)));\n",
      "int vsscanf(const char * restrict, const char * restrict, va_list) __attribute__((__format__ (__scanf__, 2, 0)));\n",
      "# 436 \"/usr/include/stdio.h\" 3 4\n",
      "# 1 \"/usr/include/sys/_types/_ssize_t.h\" 1 3 4\n",
      "# 30 \"/usr/include/sys/_types/_ssize_t.h\" 3 4\n",
      "typedef __darwin_ssize_t ssize_t;\n",
      "# 437 \"/usr/include/stdio.h\" 2 3 4\n",
      "\n",
      "\n",
      "int dprintf(int, const char * restrict, ...) __attribute__((__format__ (__printf__, 2, 3))) __attribute__((availability(macosx,introduced=10.7)));\n",
      "int vdprintf(int, const char * restrict, va_list) __attribute__((__format__ (__printf__, 2, 0))) __attribute__((availability(macosx,introduced=10.7)));\n",
      "ssize_t getdelim(char ** restrict, size_t * restrict, int, FILE * restrict) __attribute__((availability(macosx,introduced=10.7)));\n",
      "ssize_t getline(char ** restrict, size_t * restrict, FILE * restrict) __attribute__((availability(macosx,introduced=10.7)));\n",
      "# 452 \"/usr/include/stdio.h\" 3 4\n",
      "extern const int sys_nerr;\n",
      "extern const char *const sys_errlist[];\n",
      "\n",
      "int asprintf(char ** restrict, const char * restrict, ...) __attribute__((__format__ (__printf__, 2, 3)));\n",
      "char *ctermid_r(char *);\n",
      "char *fgetln(FILE *, size_t *);\n",
      "const char *fmtcheck(const char *, const char *);\n",
      "int fpurge(FILE *);\n",
      "void setbuffer(FILE *, char *, int);\n",
      "int setlinebuf(FILE *);\n",
      "int vasprintf(char ** restrict, const char * restrict, va_list) __attribute__((__format__ (__printf__, 2, 0)));\n",
      "FILE *zopen(const char *, const char *, int);\n",
      "\n",
      "\n",
      "\n",
      "\n",
      "\n",
      "FILE *funopen(const void *,\n",
      "                 int (*)(void *, char *, int),\n",
      "                 int (*)(void *, const char *, int),\n",
      "                 fpos_t (*)(void *, fpos_t, int),\n",
      "                 int (*)(void *));\n",
      "# 492 \"/usr/include/stdio.h\" 3 4\n",
      "# 1 \"/usr/include/secure/_stdio.h\" 1 3 4\n",
      "# 31 \"/usr/include/secure/_stdio.h\" 3 4\n",
      "# 1 \"/usr/include/secure/_common.h\" 1 3 4\n",
      "# 32 \"/usr/include/secure/_stdio.h\" 2 3 4\n",
      "# 42 \"/usr/include/secure/_stdio.h\" 3 4\n",
      "extern int __sprintf_chk (char * restrict, int, size_t,\n",
      "     const char * restrict, ...);\n",
      "# 52 \"/usr/include/secure/_stdio.h\" 3 4\n",
      "extern int __snprintf_chk (char * restrict, size_t, int, size_t,\n",
      "      const char * restrict, ...);\n",
      "\n",
      "\n",
      "\n",
      "\n",
      "\n",
      "\n",
      "\n",
      "extern int __vsprintf_chk (char * restrict, int, size_t,\n",
      "      const char * restrict, va_list);\n",
      "\n",
      "\n",
      "\n",
      "\n",
      "\n",
      "\n",
      "\n",
      "extern int __vsnprintf_chk (char * restrict, size_t, int, size_t,\n",
      "       const char * restrict, va_list);\n",
      "# 493 \"/usr/include/stdio.h\" 2 3 4\n",
      "# 2 \"../codes/C1_C_tools/compiler/section1/src/helloworld.c\" 2\n",
      "\n",
      "int main(){\n",
      "    printf(\"hello world\");\n",
      "    return 0;\n",
      "}\n"
     ]
    }
   ],
   "source": [
    "!gcc -E ../codes/C1_C_tools/compiler/section1/src/helloworld.c"
   ]
  },
  {
   "cell_type": "markdown",
   "metadata": {},
   "source": [
    "## 步骤二:将代码转译成汇编语言\n",
    "\n",
    "这一步可以使用`-S`指令实现.这个过程就是将上一步的这串字符转译成汇编代码.汇编代码说白了就是二进制代码中操作与资源的的替代而已.因此说C/C++和汇编其实也就一步之遥.这也是为什么很多时候嵌入式设备使用C语言编写的原因.\n",
    "\n",
    "\n",
    "生成`helloworld.s`文件,`.s`文件表示是汇编文件，用编辑器打开就都是汇编指令了\n"
   ]
  },
  {
   "cell_type": "code",
   "execution_count": 3,
   "metadata": {
    "collapsed": true
   },
   "outputs": [],
   "source": [
    "!gcc -o ../codes/C1_C_tools/compiler/section1/src/helloworld.s \\\n",
    "-S ../codes/C1_C_tools/compiler/section1/src/helloworld.c"
   ]
  },
  {
   "cell_type": "code",
   "execution_count": 4,
   "metadata": {
    "collapsed": false
   },
   "outputs": [
    {
     "name": "stdout",
     "output_type": "stream",
     "text": [
      "\t.section\t__TEXT,__text,regular,pure_instructions\r\n",
      "\t.macosx_version_min 10, 11\r\n",
      "\t.globl\t_main\r\n",
      "\t.align\t4, 0x90\r\n",
      "_main:                                  ## @main\r\n",
      "\t.cfi_startproc\r\n",
      "## BB#0:\r\n",
      "\tpushq\t%rbp\r\n",
      "Ltmp0:\r\n",
      "\t.cfi_def_cfa_offset 16\r\n",
      "Ltmp1:\r\n",
      "\t.cfi_offset %rbp, -16\r\n",
      "\tmovq\t%rsp, %rbp\r\n",
      "Ltmp2:\r\n",
      "\t.cfi_def_cfa_register %rbp\r\n",
      "\tsubq\t$16, %rsp\r\n",
      "\tleaq\tL_.str(%rip), %rdi\r\n",
      "\tmovl\t$0, -4(%rbp)\r\n",
      "\tmovb\t$0, %al\r\n",
      "\tcallq\t_printf\r\n",
      "\txorl\t%ecx, %ecx\r\n",
      "\tmovl\t%eax, -8(%rbp)          ## 4-byte Spill\r\n",
      "\tmovl\t%ecx, %eax\r\n",
      "\taddq\t$16, %rsp\r\n",
      "\tpopq\t%rbp\r\n",
      "\tretq\r\n",
      "\t.cfi_endproc\r\n",
      "\r\n",
      "\t.section\t__TEXT,__cstring,cstring_literals\r\n",
      "L_.str:                                 ## @.str\r\n",
      "\t.asciz\t\"hello world\"\r\n",
      "\r\n",
      "\r\n",
      ".subsections_via_symbols\r\n"
     ]
    }
   ],
   "source": [
    "!cat ../codes/C1_C_tools/compiler/section1/src/helloworld.s"
   ]
  },
  {
   "cell_type": "markdown",
   "metadata": {},
   "source": [
    "## 步骤三:将汇编语言的代码再编译为二进制代码\n",
    "\n",
    "这一步使用`-c`指令,将汇编代码编译位二进制代码.注意这依然不是可执行文件,因为其中使用的函数很可能并不包含在二进制文件中."
   ]
  },
  {
   "cell_type": "code",
   "execution_count": 5,
   "metadata": {
    "collapsed": true
   },
   "outputs": [],
   "source": [
    "!gcc -o ../codes/C1_C_tools/compiler/section1/objects/helloworld.o \\\n",
    "-c ../codes/C1_C_tools/compiler/section1/src/helloworld.c"
   ]
  },
  {
   "cell_type": "code",
   "execution_count": 6,
   "metadata": {
    "collapsed": false
   },
   "outputs": [
    {
     "name": "stdout",
     "output_type": "stream",
     "text": [
      "����\u0007\u0000\u0000\u0001\u0003\u0000\u0000\u0000\u0001\u0000\u0000\u0000\u0004\u0000\u0000\u0000\u0000\u0002\u0000\u0000\u0000 \u0000\u0000\u0000\u0000\u0000\u0000\u0019\u0000\u0000\u0000�\u0001\u0000\u0000\u0000\u0000\u0000\u0000\u0000\u0000\u0000\u0000\u0000\u0000\u0000\u0000\u0000\u0000\u0000\u0000\u0000\u0000\u0000\u0000\u0000\u0000\u0000\u0000�\u0000\u0000\u0000\u0000\u0000\u0000\u0000 \u0002\u0000\u0000\u0000\u0000\u0000\u0000�\u0000\u0000\u0000\u0000\u0000\u0000\u0000\u0007\u0000\u0000\u0000\u0007\u0000\u0000\u0000\u0004\u0000\u0000\u0000\u0000\u0000\u0000\u0000__text\u0000\u0000\u0000\u0000\u0000\u0000\u0000\u0000\u0000\u0000__TEXT\u0000\u0000\u0000\u0000\u0000\u0000\u0000\u0000\u0000\u0000\u0000\u0000\u0000\u0000\u0000\u0000\u0000\u0000*\u0000\u0000\u0000\u0000\u0000\u0000\u0000 \u0002\u0000\u0000\u0004\u0000\u0000\u0000�\u0002\u0000\u0000\u0002\u0000\u0000\u0000\u0000\u0004\u0000�\u0000\u0000\u0000\u0000\u0000\u0000\u0000\u0000\u0000\u0000\u0000\u0000__cstring\u0000\u0000\u0000\u0000\u0000\u0000\u0000__TEXT\u0000\u0000\u0000\u0000\u0000\u0000\u0000\u0000\u0000\u0000*\u0000\u0000\u0000\u0000\u0000\u0000\u0000\f",
      "\u0000\u0000\u0000\u0000\u0000\u0000\u0000J\u0002\u0000\u0000\u0000\u0000\u0000\u0000\u0000\u0000\u0000\u0000\u0000\u0000\u0000\u0000\u0002\u0000\u0000\u0000\u0000\u0000\u0000\u0000\u0000\u0000\u0000\u0000\u0000\u0000\u0000\u0000__compact_unwind__LD\u0000\u0000\u0000\u0000\u0000\u0000\u0000\u0000\u0000\u0000\u0000\u00008\u0000\u0000\u0000\u0000\u0000\u0000\u0000 \u0000\u0000\u0000\u0000\u0000\u0000\u0000X\u0002\u0000\u0000\u0003\u0000\u0000\u0000�\u0002\u0000\u0000\u0001\u0000\u0000\u0000\u0000\u0000\u0000\u0002\u0000\u0000\u0000\u0000\u0000\u0000\u0000\u0000\u0000\u0000\u0000\u0000__eh_frame\u0000\u0000\u0000\u0000\u0000\u0000__TEXT\u0000\u0000\u0000\u0000\u0000\u0000\u0000\u0000\u0000\u0000X\u0000\u0000\u0000\u0000\u0000\u0000\u0000@\u0000\u0000\u0000\u0000\u0000\u0000\u0000x\u0002\u0000\u0000\u0003\u0000\u0000\u0000\u0000\u0000\u0000\u0000\u0000\u0000\u0000\u0000\u000b",
      "\u0000\u0000h\u0000\u0000\u0000\u0000\u0000\u0000\u0000\u0000\u0000\u0000\u0000\u0000$\u0000\u0000\u0000\u0010\u0000\u0000\u0000\u0000\u000b",
      "\r\n",
      "\u0000\u0000\u0000\u0000\u0000\u0002\u0000\u0000\u0000\u0018\u0000\u0000\u0000�\u0002\u0000\u0000\u0002\u0000\u0000\u0000�\u0002\u0000\u0000\u0010\u0000\u0000\u0000\u000b",
      "\u0000\u0000\u0000P\u0000\u0000\u0000\u0000\u0000\u0000\u0000\u0000\u0000\u0000\u0000\u0000\u0000\u0000\u0000\u0001\u0000\u0000\u0000\u0001\u0000\u0000\u0000\u0001\u0000\u0000\u0000\u0000\u0000\u0000\u0000\u0000\u0000\u0000\u0000\u0000\u0000\u0000\u0000\u0000\u0000\u0000\u0000\u0000\u0000\u0000\u0000\u0000\u0000\u0000\u0000\u0000\u0000\u0000\u0000\u0000\u0000\u0000\u0000\u0000\u0000\u0000\u0000\u0000\u0000\u0000\u0000\u0000\u0000\u0000\u0000\u0000\u0000\u0000\u0000UH��H��\u0010H�=\u001b\u0000\u0000\u0000�E�\u0000\u0000\u0000\u0000�\u0000�\u0000\u0000\u0000\u00001ɉE���H��\u0010]�hello world\u0000\u0000\u0000\u0000\u0000\u0000\u0000\u0000\u0000\u0000\u0000*\u0000\u0000\u0000\u0000\u0000\u0000\u0001\u0000\u0000\u0000\u0000\u0000\u0000\u0000\u0000\u0000\u0000\u0000\u0000\u0000\u0000\u0000\u0000\u0014\u0000\u0000\u0000\u0000\u0000\u0000\u0000\u0001zR\u0000\u0001x\u0010\u0001\u0010\f",
      "\u0007\b�\u0001\u0000\u0000$\u0000\u0000\u0000\u001c",
      "\u0000\u0000\u0000��������*\u0000\u0000\u0000\u0000\u0000\u0000\u0000\u0000A\u000e\u0010�\u0002C\r",
      "\u0006\u0000\u0000\u0000\u0000\u0000\u0000\u0000\u0019\u0000\u0000\u0000\u0001\u0000\u0000-\u000b",
      "\u0000\u0000\u0000\u0002\u0000\u0000\u0015\u0000\u0000\u0000\u0000\u0001\u0000\u0000\u0006\u0001\u0000\u0000\u0000\u000f\u0001\u0000\u0000\u0000\u0000\u0000\u0000\u0000\u0000\u0000\u0000\u0007\u0000\u0000\u0000\u0001\u0000\u0000\u0000\u0000\u0000\u0000\u0000\u0000\u0000\u0000\u0000\u0000_main\u0000_printf\u0000\u0000"
     ]
    }
   ],
   "source": [
    "!cat ../codes/C1_C_tools/compiler/section1/objects/helloworld.o"
   ]
  },
  {
   "cell_type": "markdown",
   "metadata": {},
   "source": [
    "## 步骤四: 链接相关的二进制代码生成可执行文件\n",
    "\n",
    "这一步就是将与文件相关的函数库引入以生成最终的可执行文件."
   ]
  },
  {
   "cell_type": "code",
   "execution_count": 7,
   "metadata": {
    "collapsed": true
   },
   "outputs": [],
   "source": [
    "!gcc -o ../codes/C1_C_tools/compiler/section1/bin/helloworld \\\n",
    "../codes/C1_C_tools/compiler/section1/objects/helloworld.o"
   ]
  },
  {
   "cell_type": "code",
   "execution_count": 8,
   "metadata": {
    "collapsed": false
   },
   "outputs": [
    {
     "name": "stdout",
     "output_type": "stream",
     "text": [
      "hello world"
     ]
    }
   ],
   "source": [
    "!../codes/C1_C_tools/compiler/section1/bin/helloworld"
   ]
  },
  {
   "cell_type": "markdown",
   "metadata": {},
   "source": [
    "# 接口与实现\n",
    "\n",
    "C语言可以接口与实现分离,也就是说同样一份接口,后面实际使用的实现形式可以是千差万别的,可以是\n",
    "\n",
    "+ 动态/静态库\n",
    "+ 单一源文件\n",
    "+ 多个源文件组合\n",
    "\n",
    "而接口和实现也不是绑定的,这样就带来了灵活性.一般来说一个模块含有一个接口文件,它的后面可能按功能等分成多个实现用的源文件,而编译好后又是一个动态/静态库.而要用这个库的时候我们再为它写带main函数的源文件.\n",
    "\n",
    "下面是一个例子"
   ]
  },
  {
   "cell_type": "code",
   "execution_count": 9,
   "metadata": {
    "collapsed": false
   },
   "outputs": [
    {
     "name": "stdout",
     "output_type": "stream",
     "text": [
      "Overwriting ../codes/C1_C_tools/compiler/section2/include/binary_vector.h\n"
     ]
    }
   ],
   "source": [
    "%%writefile ../codes/C1_C_tools/compiler/section2/include/binary_vector.h\n",
    "#ifndef BINARY_VECTOR_H\n",
    "#define BINARY_VECTOR_H//一般是文件名的大写 头文件结尾写上一行\n",
    "\n",
    "#define T BINARY_VECTOR\n",
    "\n",
    "typedef struct {\n",
    "    float x;\n",
    "    float y;\n",
    "} T;\n",
    "\n",
    "extern float VEC_mod(T);\n",
    "extern T VEC_add(T,T);\n",
    "extern float VEC_mul(T ,T);\n",
    "\n",
    "#undef T\n",
    "\n",
    "#endif"
   ]
  },
  {
   "cell_type": "code",
   "execution_count": 10,
   "metadata": {
    "collapsed": false
   },
   "outputs": [
    {
     "name": "stdout",
     "output_type": "stream",
     "text": [
      "Overwriting ../codes/C1_C_tools/compiler/section2/src/unary_operator.c\n"
     ]
    }
   ],
   "source": [
    "%%writefile ../codes/C1_C_tools/compiler/section2/src/unary_operator.c\n",
    "#include \"binary_vector.h\"\n",
    "#include <math.h>\n",
    "#define T BINARY_VECTOR\n",
    "float VEC_mod(T a){\n",
    "    float result = sqrt(a.x*a.x+a.y*a.y);\n",
    "    return result;\n",
    "}\n",
    "#undef T"
   ]
  },
  {
   "cell_type": "code",
   "execution_count": 11,
   "metadata": {
    "collapsed": false
   },
   "outputs": [
    {
     "name": "stdout",
     "output_type": "stream",
     "text": [
      "Overwriting ../codes/C1_C_tools/compiler/section2/src/binary_operator.c\n"
     ]
    }
   ],
   "source": [
    "%%writefile ../codes/C1_C_tools/compiler/section2/src/binary_operator.c\n",
    "#include \"binary_vector.h\"\n",
    "#define T BINARY_VECTOR\n",
    "T  VEC_add(T a,T b){\n",
    "    BINARY_VECTOR result = {a.x+b.x,a.y+b.y};\n",
    "    return result;\n",
    "}\n",
    "float VEC_mul(T a,T b){\n",
    "    float result = a.x*b.x+a.y*b.y;\n",
    "    return result;\n",
    "}\n",
    "#undef T"
   ]
  },
  {
   "cell_type": "code",
   "execution_count": 12,
   "metadata": {
    "collapsed": false
   },
   "outputs": [
    {
     "name": "stdout",
     "output_type": "stream",
     "text": [
      "Overwriting ../codes/C1_C_tools/compiler/section2/test/test.c\n"
     ]
    }
   ],
   "source": [
    "%%writefile ../codes/C1_C_tools/compiler/section2/test/test.c\n",
    "#include <stdio.h>\n",
    "#include \"binary_vector.h\"\n",
    "\n",
    "\n",
    "int main(void){\n",
    "    BINARY_VECTOR A = {1,2},B = {3,4};\n",
    "    printf(\"mod(A)=%f\\n\",VEC_mod(A));\n",
    "    printf(\"mod(B)=%f\\n\",VEC_mod(B));\n",
    "    printf(\"mul(A,B)=%f\\n\",VEC_mul(A,B));\n",
    "    BINARY_VECTOR result = VEC_add(A,B);\n",
    "    printf(\"add(A,B)=<%f,%f>\\n\",result.x,result.y);\n",
    "}\n"
   ]
  },
  {
   "cell_type": "code",
   "execution_count": 13,
   "metadata": {
    "collapsed": true
   },
   "outputs": [],
   "source": [
    "!gcc -o ../codes/C1_C_tools/compiler/section2/bin/test \\\n",
    "-I ../codes/C1_C_tools/compiler/section2/include \\\n",
    "../codes/C1_C_tools/compiler/section2/src/*.c \\\n",
    "../codes/C1_C_tools/compiler/section2/test/test.c"
   ]
  },
  {
   "cell_type": "code",
   "execution_count": 14,
   "metadata": {
    "collapsed": false
   },
   "outputs": [
    {
     "name": "stdout",
     "output_type": "stream",
     "text": [
      "mod(A)=2.236068\r\n",
      "mod(B)=5.000000\r\n",
      "mul(A,B)=11.000000\r\n",
      "add(A,B)=<4.000000,6.000000>\r\n"
     ]
    }
   ],
   "source": [
    "!../codes/C1_C_tools/compiler/section2/bin/test"
   ]
  },
  {
   "cell_type": "markdown",
   "metadata": {},
   "source": [
    "C的特点之一就是申明与实现分离,这也决定了其开发方式和python截然相反,python一般是想到哪里写到哪里,比较适合敏捷开发,而C明显更适合先整体构思好了再动手写.因此才说python适合原型开发快速迭代,而C适合写(接口明确稳定的)业务."
   ]
  },
  {
   "cell_type": "markdown",
   "metadata": {},
   "source": [
    "# 链接库\n",
    "\n",
    "Java当初以跨平台作为重要的卖点,号称一次编译随处运行.其实C/C++当初也是这么宣传的,只不过对于C来说跨平台指的是写好源码,头文件后可以在各个平台编译运行(系统资源接口的调用除外).但是显然这种跨平台很不彻底.\n",
    "\n",
    "实际上还有另外一种复用的方式,就是将代码编译成链接库.再在步骤四的时候链接到最终的代码中.链接库分为静态链接库和动态链接库两种.\n",
    "\n",
    "静态链接库与动态链接库都是共享代码的方式\n",
    "\n",
    "链接库是由第三步的`.o`文件组合而成,各个系统平台使用不同的规范实现,具体是什么规范这边不细说.总之不同平台编译出来的链接库是不能兼容的.但其实问题也不太大,完全可以编译好后共享出去.\n",
    "\n",
    "## 链接库的使用方法\n",
    "\n",
    "无论静态链接库还是动态链接库,命名规则都是`libxxx+后缀`,但编译的时候指定的名字就是`xxx`.而调用方法都是用`#include`导入后就可以直接使用.\n",
    "\n",
    "很多时候我们为了隐藏代码实现,在共享的时候可以指定好平台操作系统,之后只共享出链接库和头文件.这种方式不仅可以防止代码被人篡改或者侵权,更可以精简接口.\n",
    "\n",
    "## 静态连接库\n",
    "\n",
    "在linux中,而静态链接库用`.a`为后缀.windows中以`.lib`为后缀.osx中也以`.a`或`.framework`为后缀.当要使用静态链接库时,连接器会找出程序所需的函数,然后将它们拷贝到执行文件,由于这种拷贝是完整的,所以一旦连接成功,静态程序库也就不再需要了.\n",
    "\n",
    "### 静态链接库的优点 \n",
    "\n",
    "+ 代码装载速度快，执行速度略比动态链接库快； \n",
    "\n",
    "+ 只需保证在开发者的计算机中有正确的库文件,在以二进制形式发布程序时不需考虑在用户的计算机上的库文件是否存在及版本问题.\n",
    "\n",
    "### 不足之处\n",
    "\n",
    "+ 使用静态链接生成的可执行文件体积较大,包含相同的公共代码,造成浪费\n",
    "\n",
    "### 构建静态链接库\n",
    "\n",
    "我们还是以之前的二维向量作为例子,一般我们用ar(archive,归档的意思)把多个目标文件集合起来生成静态链接库文件."
   ]
  },
  {
   "cell_type": "markdown",
   "metadata": {},
   "source": [
    "## 静态连接库\n",
    "\n",
    "在linux中,而静态链接库用`.a`为后缀.windows中以`.lib`为后缀.osx中也以`.a`或`.framework`为后缀.当要使用静态链接库时,连接器会找出程序所需的函数,然后将它们拷贝到执行文件,由于这种拷贝是完整的,所以一旦连接成功,静态程序库也就不再需要了.\n",
    "\n",
    "### 静态链接库的优点 \n",
    "\n",
    "+ 代码装载速度快，执行速度略比动态链接库快； \n",
    "\n",
    "+ 只需保证在开发者的计算机中有正确的库文件,在以二进制形式发布程序时不需考虑在用户的计算机上的库文件是否存在及版本问题.\n",
    "\n",
    "### 不足之处\n",
    "\n",
    "+ 使用静态链接生成的可执行文件体积较大,包含相同的公共代码,造成浪费\n",
    "\n",
    "### 构建静态链接库\n",
    "\n",
    "我们还是以之前的二维向量作为例子,一般我们用ar(archive,归档的意思)把多个目标文件集合起来生成静态链接库文件."
   ]
  },
  {
   "cell_type": "code",
   "execution_count": 15,
   "metadata": {
    "collapsed": true
   },
   "outputs": [],
   "source": [
    "!gcc -c \\\n",
    "-o ../codes/C1_C_tools/compiler/section2/objects/binary_operator.o \\\n",
    "-I ../codes/C1_C_tools/compiler/section2/include \\\n",
    "../codes/C1_C_tools/compiler/section2/src/binary_operator.c"
   ]
  },
  {
   "cell_type": "code",
   "execution_count": 16,
   "metadata": {
    "collapsed": true
   },
   "outputs": [],
   "source": [
    "!gcc -c \\\n",
    "-o ../codes/C1_C_tools/compiler/section2/objects/unary_operator.o \\\n",
    "-I ../codes/C1_C_tools/compiler/section2/include \\\n",
    "../codes/C1_C_tools/compiler/section2/src/unary_operator.c"
   ]
  },
  {
   "cell_type": "code",
   "execution_count": 30,
   "metadata": {
    "collapsed": false
   },
   "outputs": [
    {
     "name": "stdout",
     "output_type": "stream",
     "text": [
      "a - ../codes/C1_C_tools/compiler/section2/objects/binary_operator.o\r\n",
      "a - ../codes/C1_C_tools/compiler/section2/objects/unary_operator.o\r\n"
     ]
    }
   ],
   "source": [
    "!ar crv ../codes/C1_C_tools/compiler/section2/lib/libvector.a \\\n",
    "../codes/C1_C_tools/compiler/section2/objects/*.o"
   ]
  },
  {
   "cell_type": "markdown",
   "metadata": {},
   "source": [
    "### 使用静态链接库\n",
    "\n",
    "要调用静态库我们依然需要头文件,我们需要一个头文件来描述这个静态库中的接口.我们可以使用之前的头文件`vector.hpp`.要使用静态链接库我们需要用`-L`来指定静态库所在的地址,再使用`-l`来指定静态库的名字.注意静态库的名字."
   ]
  },
  {
   "cell_type": "code",
   "execution_count": 31,
   "metadata": {
    "collapsed": true
   },
   "outputs": [],
   "source": [
    "!gcc \\\n",
    "-o ../codes/C1_C_tools/compiler/section2/bin/test_a \\\n",
    "-I ../codes/C1_C_tools/compiler/section2/include \\\n",
    "-L ../codes/C1_C_tools/compiler/section2/lib \\\n",
    "-l vector \\\n",
    "../codes/C1_C_tools/compiler/section2/test/test.c"
   ]
  },
  {
   "cell_type": "code",
   "execution_count": 34,
   "metadata": {
    "collapsed": false
   },
   "outputs": [
    {
     "name": "stdout",
     "output_type": "stream",
     "text": [
      "mod(A)=2.236068\r\n",
      "mod(B)=5.000000\r\n",
      "mul(A,B)=11.000000\r\n",
      "add(A,B)=<4.000000,6.000000>\r\n"
     ]
    }
   ],
   "source": [
    "!../codes/C1_C_tools/compiler/section2/bin/test_a"
   ]
  },
  {
   "cell_type": "markdown",
   "metadata": {},
   "source": [
    "## 动态连接库\n",
    "\n",
    "在linux中,动态链接库通常用`.so`为后缀.在windows中,动态链接库通常用`.dll`为后缀.在osx中,动态链接库通常用`.dylib`为后缀.\n",
    "\n",
    "\n",
    "某个程序在运行中要调用某个动态链接库函数的时候,操作系统首先会查看所有正在运行的程序,看在内存里是否已有此库函数的拷贝了.如果有,则让其共享那一个拷贝;只有没有才链接载入.在程序运行的时候,被调用的动态链接库函数被安置在内存的某个地方,所有调用它的程序将指向这个代码段.因此,这些代码必须使用相对地址,而不是绝对地址.在编译的时候,我们需要告诉编译器,这些对象文件是用来做动态链接库的,所以要用地址不无关代码(Position Independent Code (PIC)).\n",
    "\n",
    "注意:Linux下进行连接的缺省操作是首先连接动态库,也就是说,如果同时存在静态和动态库,不特别指定的话,将与动态库相连接.\n",
    "\n",
    "\n",
    "###  动态链接库的优点 \n",
    "\n",
    "+ 更加节省内存并减少页面交换;\n",
    "\n",
    "+ 动态链接文件与可执行文件独立,只要输出接口不变(即名称、参数、返回值类型和调用约定不变),更换动态链接文件不会对可执行文件造成任何影响,因而极大地提高了可维护性和可扩展性;\n",
    "\n",
    "+ 不同编程语言编写的程序只要按照函数调用约定就可以调用同一个动态函数;\n",
    "\n",
    "+ 适用于大规模的软件开发，使开发过程独立、耦合度小,便于不同开发者和开发组织之间进行开发和测试.\n",
    "\n",
    "### 不足之处\n",
    "\n",
    "+ 使用动态链接库的应用程序不是自完备的,它依赖的动态模块也要存在,如果使用载入时动态链接,程序启动时发现动态模块不存在,系统将终止程序并给出错误信息.而使用运行时动态链接,系统不会终止,但由于动态库中的导出函数不可用,程序会加载失败\n",
    "+ 速度比静态链接慢.当某个模块更新后,如果新模块与旧的模块不兼容,那么那些需要该模块才能运行的软件,统统撕掉.\n",
    "\n",
    "### 编译动态链接库\n",
    "\n",
    "动态链接库可以直接使用g++编译.需要使用`-fPIC`指定编译成的是共享库,`-shared`指定连接方式是共享型"
   ]
  },
  {
   "cell_type": "code",
   "execution_count": 20,
   "metadata": {
    "collapsed": true
   },
   "outputs": [],
   "source": [
    "!gcc \\\n",
    "-o ../codes/C1_C_tools/compiler/section2/lib/libvector_b.so \\\n",
    "-fPIC \\\n",
    "-shared \\\n",
    "-I ../codes/C1_C_tools/compiler/section2/include \\\n",
    "../codes/C1_C_tools/compiler/section2/src/*"
   ]
  },
  {
   "cell_type": "code",
   "execution_count": 21,
   "metadata": {
    "collapsed": true
   },
   "outputs": [],
   "source": [
    "!gcc \\\n",
    "-o ../codes/C1_C_tools/compiler/section2/bin/test_b \\\n",
    "-I ../codes/C1_C_tools/compiler/section2/include \\\n",
    "-L ../codes/C1_C_tools/compiler/section2/lib \\\n",
    "-l vector_b \\\n",
    "../codes/C1_C_tools/compiler/section2/test/test.c"
   ]
  },
  {
   "cell_type": "code",
   "execution_count": 24,
   "metadata": {
    "collapsed": false
   },
   "outputs": [
    {
     "name": "stdout",
     "output_type": "stream",
     "text": [
      "mod(A)=2.236068\r\n",
      "mod(B)=5.000000\r\n",
      "mul(A,B)=11.000000\r\n",
      "add(A,B)=<4.000000,6.000000>\r\n"
     ]
    }
   ],
   "source": [
    "!../codes/C1_C_tools/compiler/section2/bin/test_b"
   ]
  },
  {
   "cell_type": "markdown",
   "metadata": {},
   "source": [
    "# 使用宏实现跨平台\n",
    "\n",
    "我们说过C/C++的跨平台是源码级别的跨平台,但实际上因为操作系统功能的实现有区别,接口也有些区别,因此很多时候我们还是得考虑跨平台问题.其实这个问题python中也有,比如到3.6版本为止windows的`ctrl+c`操作都无法直接用于协程程序的中断.\n",
    "\n",
    "在C/C++编程时我们可以像上面定义C接口时一样用宏语句判断是否需要特殊化处理.一般情况下会出问题的也就是windows,下面是特殊化处理的宏片段:\n",
    "\n",
    "```cpp\n",
    "#ifdef _MSC_VER\n",
    "    #pragma warning(disable:4996)\n",
    "    #include <windows.h>\n",
    "    #include <io.h>\n",
    "#else\n",
    "    #include <unistd.h>\n",
    "    #include <sys/time.h>\n",
    "    #include <pthread.h>\n",
    "    #define  CRITICAL_SECTION   pthread_mutex_t\n",
    "    #define  _vsnprintf         vsnprintf\n",
    "#endif\n",
    "```\n",
    "当然了更加方便的方式是无视windows.\n"
   ]
  },
  {
   "cell_type": "markdown",
   "metadata": {},
   "source": [
    "## 总结\n",
    "\n",
    "\n",
    "### gcc的常用参数\n",
    "\n",
    "+ -o 指定输出的文件\n",
    "+ -E 预编译\n",
    "+ -S 编译为汇编代码\n",
    "+ -c 编译位二进制文件\n",
    "+ -L 选项告诉编译器去哪里找需要的库文件\n",
    "+ -l -lbvector告诉编译器要链接libbvector库\n",
    "+ -I 选项告诉去哪个文件夹下找头文件\n",
    "+ -i 指定使用的头文件\n",
    "+ -static 链接方式禁止使用动态库。\n",
    "\n",
    "    优点：程序运行不依赖于其他库\n",
    "\n",
    "    缺点：文件比较大\n",
    "\n",
    "+ -shared (-G) 此链接方式尽量使用动态库，为默认选项(共享型)\n",
    "\n",
    "    优点：生成文件比较小\n",
    "\n",
    "    缺点：运行时需要系统提供动态库\n",
    "\n",
    "+ -symbolic 此链接方式将在建立共享目标文件的时候,把引用绑定到全局符号上.\n",
    "+ -fpic 编译器就生成位置无关目标码.适用于共享库(shared library).通常能产生更快更小的代码,但有平台限制.编译出的代码将通过全局偏移表(Global Offset Table)中的常数地址访存，动态装载器将在程序开始执行时解析GOT表项.\n",
    "+ -fPIC 编译器就输出位置无关目标码.适用于动态连接(dynamic linking),即使分支需要大范围转移.该选项会针对某些特殊机型做了特殊处理,比如适合动态链接并能避免超出GOT大小限制之类的错误.而Open64仅仅支持不会导致GOT表溢出的PIC编译.\n",
    "\n",
    "+ ***-lstdc++*** 放在编译代码最后防止因为C++语法而报错\n",
    "\n",
    "## ar命令常用参数\n",
    "\n",
    "\n",
    "### 指令参数\n",
    "\n",
    "+ `-d` 　删除库文件中的成员文件。\n",
    "+ `-m` 　变更成员文件在库文件中的次序。\n",
    "+ `-p` 　显示库文件中的成员文件内容。\n",
    "+ `-q` 　将问家附加在库文件末端。\n",
    "+ `-r` 　将文件插入库文件中。\n",
    "+ `-t` 　显示库文件中所包含的文件。\n",
    "+ `-x` 　自库文件中取出成员文件。\n",
    "\n",
    "\n",
    "### 选项参数\n",
    "\n",
    "+ `a<成员文件>` 　将文件插入库文件中指定的成员文件之后。\n",
    "+ `b<成员文件>` 　将文件插入库文件中指定的成员文件之前。\n",
    "+ `c` 　建立库文件。\n",
    "+ `f` 　为避免过长的文件名不兼容于其他系统的ar指令指令，因此可利用此参数，截掉要放入库文件中过长的成员文件名称。\n",
    "+ `i<成员文件>` 　将问家插入库文件中指定的成员文件之前。\n",
    "+ `o` 　保留库文件中文件的日期。\n",
    "+ `s` 　若库文件中包含了对象模式，可利用此参数建立备存文件的符号表。\n",
    "+ `S` 　不产生符号表。\n",
    "+ `u` 　只将日期较新文件插入库文件中。\n",
    "+ `v` 　程序执行时显示详细的信息。\n",
    "+ `V` 　显示版本信息。\n",
    "\n",
    "ar用来管理一种文档。这种文档中可以包含多个其他任意类别的文件。这些被包含的文件叫做这个文档的成员。ar用来向这种文档中添加、删除、解出成员。成员的原有属性（权限、属主、日期等）不会丢失。\n",
    "\n",
    "实际上通常只有在开发中的目标静态连接库是这种格式的，所以尽管不是，我们基本可以认为ar是用来操作这种目标链接库（.a文件）的。\n",
    "\n",
    "### 常见操作\n",
    "\n",
    "1. 创建库文件\n",
    "\n",
    "    通常人们使用`ar crvu liba.a a.o`这样的命令来创建一个库并把`a.o`添加进去.`c`关键字告诉`ar`需要创建一个新库文件,如果没有指定这个标志则`ar`会创建一个文件,同时会给出一个提示信息,`u`用来告诉ar如果`a.o`比库中的同名成员要新,则用新的`a.o`替换原来的.实际上用`ar -r liba.a a.o`通常就够\n",
    "\n",
    "2. 加入新成员\n",
    "\n",
    "    使用`ar -r liba.a b.o`即可以将`b.o`加入到`liba.a`中.默认的加入方式为`append`，即加在库的末尾.`r`关键字可以有三个修饰符`a`, `b`和`i`\n",
    "\n",
    "    + \"a\"表示after,即将新成员加在指定成员之后.例如`ar -ra a.c liba.a b.c`表示将`b.c`加入`liba.a`并放在已有成员`a.c`之后；\n",
    "    + \"b\"表示before,即将新成员加在指定成员之前.例如`ar -rb a.c liba.a b.c`;\n",
    "    + \"i\"表示insert,跟\"b\"作用相同\n",
    "      \n",
    "3. 列出库中已有成员\n",
    "\n",
    "    `ar -t liba.a`即可。如果加上\"v\"修饰符则会一并列出成员的日期等属性。\n",
    "\n",
    "4. 删除库中成员\n",
    "\n",
    "    `ar -d liba.a a.c`表示从库中删除`a.c`成员.如果库中没有这个成员ar也不会给出提示.如果需要列出被删除的成员或者成员不存在的信息,就加上\"v\"修饰符.\n",
    "\n",
    "5. 从库中解出成员\n",
    "\n",
    "    `ar -x liba.a b.c`\n",
    "\n",
    "6. 调整库中成员的顺序\n",
    "\n",
    "    使用\"m\"关键字。与\"r\"关键字一样，它也有3个修饰符\"a\",\"b\", \"i\"。如果要将`b.c`移动到`a.c`之前，则使用`ar -mb a.c liba.a b.c`"
   ]
  }
 ],
 "metadata": {
  "kernelspec": {
   "display_name": "Python 3",
   "language": "python",
   "name": "python3"
  },
  "language_info": {
   "codemirror_mode": {
    "name": "ipython",
    "version": 3
   },
   "file_extension": ".py",
   "mimetype": "text/x-python",
   "name": "python",
   "nbconvert_exporter": "python",
   "pygments_lexer": "ipython3",
   "version": "3.6.0"
  }
 },
 "nbformat": 4,
 "nbformat_minor": 2
}
