{
 "cells": [
  {
   "cell_type": "markdown",
   "metadata": {},
   "source": [
    "# 数组\n",
    "\n",
    "数组是一连串固定个数的同类型的数据,他们是一段连续的内存空间,数组是最高效也是最简单的数据结构,它的声明方式:\n",
    "\n",
    "```c\n",
    "类型 变量名[元素个数];\n",
    "```\n",
    "如果是多维数组,则可以是:\n",
    "\n",
    "```c\n",
    "类型 变量名[元素个数][元素个数][元素个数]...;\n",
    "```\n",
    "\n",
    "数组可以通过下标访问内部元素,下标从0开始计数,c语言中数组的大小也是有限制的,尤其在函数内部定义的数组长度是很有限的.各个编译器不同,但一般还是够用的,但最好不要定义过大,以避免栈溢出\n",
    "\n",
    "## 数组初始化\n",
    "\n",
    "C++语言是比较原始的,声明的数组不会自动初始化,必须手动实现,以一个一维数组为例:\n",
    "\n",
    "```c\n",
    "int arrayA[5] = {0,0,0,0,0};\n",
    "```\n",
    "而多维数组的初始化不过是将其中的元素替换为数组而已\n",
    "\n",
    "```c\n",
    "int arrayA[5][2] = {{0,0},{0,0},{0,0},{0,0},{0,0}};\n",
    "```\n",
    "如果不初始化而直接访问声明的数组,那么你会看到其中的元素是不知道啥玩意儿\n",
    "\n",
    "## 访问数组元素\n",
    "\n",
    "和python中的list,tuple类似,C++中访问数组的元素也是使用`[i]`的形式\n",
    "\n",
    "## 字符串\n",
    "\n",
    "字符串是特殊的数组,可以理解为他是由字符为元素组成的数组,处理方式和数组其实一样.定义字符串一般有这样几种方式:\n",
    "\n",
    "```c\n",
    "char str1[] = \"asdfg\";\n",
    "\n",
    "char str2[10] = \"asdfg\";\n",
    "\n",
    "char str3[10];\n",
    "strcpy(str3,\"abcd\");\n",
    "```\n",
    "\n",
    "需要注意的是字符串一旦定义就只能一个元素一个元素的修改内容了,这样很麻烦,因此一般赋值会用string.h中的strcpy函数\n",
    "\n",
    "## 数组作为函数参数\n",
    "\n",
    "+ 一维数组作为函数参数可以不写长度\n",
    "+ 二维数组作为函数参数可以不写行数,但列数必须写\n",
    "\n",
    "## 数组越界问题\n",
    "\n",
    "C++语言算是比较原始的,数组的下标如果超过数组本身长度,编译器是可以编译的,也可以正常执行,就是结果会很诡异,因此需要避免."
   ]
  },
  {
   "cell_type": "markdown",
   "metadata": {},
   "source": [
    "## 用数组模拟矩阵\n",
    "\n",
    "很多时候我们希望利用C++扩展python的矩阵运算性能,这种时候多维数组就是我们最常接触的工具了\n"
   ]
  },
  {
   "cell_type": "markdown",
   "metadata": {},
   "source": [
    "> 例,计算矩阵$\\left(\\begin{matrix}1 & 2 &3\\\\4 & 5 & 6\\end{matrix}\\right)$中最大的元素"
   ]
  },
  {
   "cell_type": "code",
   "execution_count": 1,
   "metadata": {},
   "outputs": [
    {
     "name": "stdout",
     "output_type": "stream",
     "text": [
      "Overwriting src/C6/matrix_maxelem.cpp\n"
     ]
    }
   ],
   "source": [
    "%%writefile src/C6/matrix_maxelem.cpp\n",
    "\n",
    "\n",
    "#include <stdio.h>\n",
    "#include <math.h>\n",
    "#include <stdlib.h>\n",
    "\n",
    "\n",
    "int main(void){\n",
    "    int max_elem = 0;\n",
    "    int matrix[3][2] = {{1,4},{2,5},{3,6}};\n",
    "    for (int i = 0;i<3;i++){\n",
    "        for (int j = 0;j<2;j++){\n",
    "            if (matrix[i][j]>=max_elem) {\n",
    "                max_elem = matrix[i][j];\n",
    "            }\n",
    "        }\n",
    "    }\n",
    "    printf(\"max element is %d\\n\",max_elem);\n",
    "    return 0;\n",
    "}\n",
    "\n"
   ]
  },
  {
   "cell_type": "code",
   "execution_count": 2,
   "metadata": {
    "collapsed": true
   },
   "outputs": [],
   "source": [
    "!gcc-7 -o bin/matrix_maxelem src/C6/matrix_maxelem.cpp"
   ]
  },
  {
   "cell_type": "code",
   "execution_count": 3,
   "metadata": {},
   "outputs": [
    {
     "name": "stdout",
     "output_type": "stream",
     "text": [
      "max element is 6\r\n"
     ]
    }
   ],
   "source": [
    "!bin/matrix_maxelem"
   ]
  }
 ],
 "metadata": {
  "kernelspec": {
   "display_name": "Python 3",
   "language": "python",
   "name": "python3"
  },
  "language_info": {
   "codemirror_mode": {
    "name": "ipython",
    "version": 3
   },
   "file_extension": ".py",
   "mimetype": "text/x-python",
   "name": "python",
   "nbconvert_exporter": "python",
   "pygments_lexer": "ipython3",
   "version": "3.6.0"
  }
 },
 "nbformat": 4,
 "nbformat_minor": 1
}
