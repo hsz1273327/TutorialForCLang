{
 "cells": [
  {
   "cell_type": "markdown",
   "metadata": {},
   "source": [
    "# 头文件\n",
    "\n",
    "## 头文件使用建议\n",
    "\n",
    "\n",
    "头文件并不是什么都申明的,事实上头文件的主要所用是暴露接口,别人导入头文件就可以使用其中对应的函数,类或者模板了.因此头文件的使用建议是:\n",
    "\n",
    "+ 只写要暴露给外部使用的申明\n",
    "+ 只写模板\n",
    "+ 必须包含防止重复引入的宏"
   ]
  },
  {
   "cell_type": "markdown",
   "metadata": {},
   "source": [
    "# 多文件编译\n",
    "\n",
    "C++语言的模块化编程使用的是组合的方式.头文件用于定义和声明,源文件用于实现方法,一般来说头文件以`.h`作为扩展名,并且名字与源文件保持一致,比如我们有个头文件叫test.h,那么\n",
    "为了避免重复引入,会在头文件中写上\n",
    "```c\n",
    "#ifndef _TEST_H\n",
    "#define _TEST_H//一般是文件名的大写 头文件结尾写上一行\n",
    "    要引入的头文件\n",
    "    要定义的类型\n",
    "    要声明的函数\n",
    "\n",
    "    ...\n",
    "\n",
    "#endif\n",
    "```\n",
    "\n",
    "这样头文件就只会被导入一次了\n",
    "\n",
    "而与之对应的源文件,我们只要`#include \"test.h\"`即可"
   ]
  },
  {
   "cell_type": "markdown",
   "metadata": {},
   "source": [
    "我们举个例子,以二维向量计算作为要实现的功能,其中包括三个源文件:\n",
    "+ binary_vector.h 定义二元向量结构\n",
    "+ unary_operator.cpp 一元运算,包括求向量的模\n",
    "+ binary_operator.cpp 二元运算,包括求加和内积\n",
    "\n",
    "以及一个测试文件 test.cpp"
   ]
  },
  {
   "cell_type": "code",
   "execution_count": 1,
   "metadata": {},
   "outputs": [
    {
     "name": "stdout",
     "output_type": "stream",
     "text": [
      "Writing src/C11/binary_vector.h\n"
     ]
    }
   ],
   "source": [
    "%%writefile src/C11/binary_vector.h\n",
    "\n",
    "#ifndef BINARY_VECTOR_H\n",
    "#define BINARY_VECTOR_H//一般是文件名的大写 头文件结尾写上一行\n",
    "\n",
    "typedef struct {\n",
    "    float x;\n",
    "    float y;\n",
    "} BINARY_VECTOR;\n",
    "\n",
    "\n",
    "#endif\n"
   ]
  },
  {
   "cell_type": "code",
   "execution_count": 2,
   "metadata": {},
   "outputs": [
    {
     "name": "stdout",
     "output_type": "stream",
     "text": [
      "Writing src/C11/unary_operator.h\n"
     ]
    }
   ],
   "source": [
    "%%writefile src/C11/unary_operator.h\n",
    "\n",
    "#ifndef UNARY_OPERATOR_H\n",
    "    #define UNARY_OPERATOR_H//一般是文件名的大写 头文件结尾写上一行\n",
    "    #include \"binary_vector.h\"\n",
    "    #include <math.h>\n",
    "    float mod(BINARY_VECTOR);\n",
    "#endif"
   ]
  },
  {
   "cell_type": "code",
   "execution_count": 3,
   "metadata": {},
   "outputs": [
    {
     "name": "stdout",
     "output_type": "stream",
     "text": [
      "Writing src/C11/unary_operator.cpp\n"
     ]
    }
   ],
   "source": [
    "%%writefile src/C11/unary_operator.cpp\n",
    "\n",
    "#include \"unary_operator.h\"\n",
    "float mod(BINARY_VECTOR a){\n",
    "    float result = sqrt(a.x*a.x+a.y*a.y);\n",
    "    return result;\n",
    "}"
   ]
  },
  {
   "cell_type": "code",
   "execution_count": 4,
   "metadata": {},
   "outputs": [
    {
     "name": "stdout",
     "output_type": "stream",
     "text": [
      "Writing src/C11/binary_operator.h\n"
     ]
    }
   ],
   "source": [
    "%%writefile src/C11/binary_operator.h\n",
    "\n",
    "\n",
    "#ifndef BINARY_OPERATOR_H\n",
    "    #define BINARY_OPERATOR_H//一般是文件名的大写 头文件结尾写上一行\n",
    "    #include \"binary_vector.h\"\n",
    "    BINARY_VECTOR add(BINARY_VECTOR,BINARY_VECTOR);\n",
    "    float mul(BINARY_VECTOR,BINARY_VECTOR);\n",
    "#endif\n"
   ]
  },
  {
   "cell_type": "code",
   "execution_count": 5,
   "metadata": {},
   "outputs": [
    {
     "name": "stdout",
     "output_type": "stream",
     "text": [
      "Writing src/C11/binary_operator.cpp\n"
     ]
    }
   ],
   "source": [
    "%%writefile src/C11/binary_operator.cpp\n",
    "\n",
    "#include \"binary_operator.h\"\n",
    "BINARY_VECTOR add(BINARY_VECTOR a,BINARY_VECTOR b){\n",
    "    BINARY_VECTOR result = {a.x+b.x,a.y+b.y};\n",
    "    return result;\n",
    "}\n",
    "float mul(BINARY_VECTOR a,BINARY_VECTOR b){\n",
    "    float result = a.x*b.x+a.y*b.y;\n",
    "    return result;\n",
    "}\n"
   ]
  },
  {
   "cell_type": "code",
   "execution_count": 6,
   "metadata": {},
   "outputs": [
    {
     "name": "stdout",
     "output_type": "stream",
     "text": [
      "Writing src/C11/test.cpp\n"
     ]
    }
   ],
   "source": [
    "%%writefile src/C11/test.cpp\n",
    "\n",
    "#include <stdio.h>\n",
    "#include \"binary_vector.h\"\n",
    "#include \"binary_operator.h\"\n",
    "#include \"unary_operator.h\"\n",
    "\n",
    "int main(void){\n",
    "    BINARY_VECTOR A = {1,2},B = {3,4};\n",
    "    printf(\"mod(A)=%f\\n\",mod(A));\n",
    "    printf(\"mod(B)=%f\\n\",mod(B));\n",
    "    printf(\"mul(A,B)=%f\\n\",mul(A,B));\n",
    "    BINARY_VECTOR result = add(A,B);\n",
    "    printf(\"add(A,B)=<%f,%f>\\n\",result.x,result.y);\n",
    "}\n"
   ]
  },
  {
   "cell_type": "markdown",
   "metadata": {},
   "source": [
    "预编译:"
   ]
  },
  {
   "cell_type": "code",
   "execution_count": 7,
   "metadata": {
    "collapsed": true
   },
   "outputs": [],
   "source": [
    "!g++-7 -o bin/test src/C11/*.cpp"
   ]
  },
  {
   "cell_type": "code",
   "execution_count": 8,
   "metadata": {},
   "outputs": [
    {
     "name": "stdout",
     "output_type": "stream",
     "text": [
      "mod(A)=2.236068\r\n",
      "mod(B)=5.000000\r\n",
      "mul(A,B)=11.000000\r\n",
      "add(A,B)=<4.000000,6.000000>\r\n"
     ]
    }
   ],
   "source": [
    "!bin/test"
   ]
  },
  {
   "cell_type": "markdown",
   "metadata": {},
   "source": [
    "# make工具\n",
    "\n"
   ]
  }
 ],
 "metadata": {
  "kernelspec": {
   "display_name": "Python 3",
   "language": "python",
   "name": "python3"
  },
  "language_info": {
   "codemirror_mode": {
    "name": "ipython",
    "version": 3
   },
   "file_extension": ".py",
   "mimetype": "text/x-python",
   "name": "python",
   "nbconvert_exporter": "python",
   "pygments_lexer": "ipython3",
   "version": "3.6.0"
  }
 },
 "nbformat": 4,
 "nbformat_minor": 1
}
