{
 "cells": [
  {
   "cell_type": "markdown",
   "metadata": {},
   "source": [
    "# 函数\n",
    "\n",
    "## 函数的定义\n",
    "\n",
    "C++语言中的函数声明和定义必须带参数和返回值类型,他的形式是这样\n",
    "\n",
    "\n",
    "```c\n",
    "返回变量类型 函数名(参数类型 参数1,参数类型,参数2){\n",
    "    语句组\n",
    "    return 返回值;\n",
    "}\n",
    "```\n",
    "\n",
    "在上一讲中我们计算开放已经使用了函数,需要注意的是C++中的函数并不像python中那么万能,它无法作为参数或者返回值,也没有匿名函数,它的作用只是写接口和一些简单抽象而已.\n",
    "\n",
    "## 函数的类型\n",
    "\n",
    "我们定义函数的类型就是它返回值的类型,别问为啥反正就是这样.\n",
    "\n",
    "## 函数的调用\n",
    "\n",
    "C++中的函数只在被调用时才会在内存中开辟出空间,当调用结束后,为函数开辟出的空间就会被回收,C++是一种非常节俭的语言,也正因为这样它才能在单片机的编程中有所作为\n",
    "\n",
    "## 函数的参数传递\n",
    "\n",
    "函数的参数可以带有默认值,默认值可以是常数,也可以是表达式.\n",
    "C++中的函数参数在一般情况下都是传值的(也就是复制),只有参数是引用(数组,指针)的时候才是传递的引用(数组,指针)\n",
    "\n",
    "## 函数的原型与函数声明\n",
    "\n",
    "C++语言的特点是可以先声明再定义,对于函数也一样,通常声明会放在头文件中,这部分内容会放在<头文件与多文件编译>部分理解\n",
    "\n",
    "在C++语言中函数的声明就是函数的原型,他的形式是:\n",
    "\n",
    "```c\n",
    "返回变量类型 函数名(参数类型1,参数类型2);\n",
    "```"
   ]
  },
  {
   "cell_type": "markdown",
   "metadata": {
    "collapsed": true
   },
   "source": [
    "## 入口函数与命令行参数输入\n",
    "\n",
    "之前的例子中,我们接触的入口函数都是参数为空,返回为int这样的,这种形式常见于直接执行的程序,而典型命令行工具的比如像g++这样,它必然需要有一个输入参数,这种时候我们可以利用另一种形式的入口函数来实现:\n",
    "\n",
    "```c\n",
    "int main(int argc, char *argv[]){\n",
    "    代码段\n",
    "}\n",
    "\n",
    "```\n",
    "\n",
    "+ argc 是入口参数的长度(几个参数)\n",
    "+ argv 则是由输入字符串组成的数组\n",
    "\n",
    "> 例:\n",
    "\n",
    "将之前的牛顿法求开根改为命令行工具,参数为第一位要开的数,第二位为开几次方根,精度规定为0.0000001,如果达不到,那允许最多迭代500次\n",
    "\n",
    "牛顿法扩展都n次方根$ \\sqrt[k] a $的表达式为:\n",
    "\n",
    "$x_{n+1} = x_n - \\frac {x_n^k-a} {kx_n^{k-1}} = \\frac {k-1}{k} x_n + \\frac {a}{kx_n^{k-1}}$\n"
   ]
  },
  {
   "cell_type": "code",
   "execution_count": 1,
   "metadata": {
    "collapsed": false
   },
   "outputs": [
    {
     "name": "stdout",
     "output_type": "stream",
     "text": [
      "Overwriting src/C5/Newton_method_sqrt.cpp\n"
     ]
    }
   ],
   "source": [
    "%%writefile src/C5/Newton_method_sqrt.cpp\n",
    "\n",
    "\n",
    "#include <stdio.h>\n",
    "#include <math.h>\n",
    "#include <stdlib.h>\n",
    "const double EPS  = 0.0000001;\n",
    "\n",
    "double newton_method(double a,int n){\n",
    "    double x=0,last_x=0;\n",
    "    if (a>0){\n",
    "        x = a/n;\n",
    "        for(int i = 0;i < 500;i++){\n",
    "            last_x = x;\n",
    "            x = last_x - last_x*(1-a*pow(last_x,-n))/n;\n",
    "            if(fabs(last_x - x) < EPS){\n",
    "                break;\n",
    "            }\n",
    "        }\n",
    "        return x;\n",
    "    } else if (a == 0){\n",
    "        return 0;\n",
    "    } else if (a == 1){\n",
    "        return 1;\n",
    "    } else{\n",
    "        return -1;\n",
    "    }\n",
    "\n",
    "}\n",
    "\n",
    "int main(int argc, char *argv[]){\n",
    "    if (argc != 3) {\n",
    "        printf(\"参数错误,参数有%d个,请传入要开方的数和开多少次方\\n\",argc-1);\n",
    "        return 0;\n",
    "    }else{\n",
    "        double a= atof(argv[1]),result = 0;\n",
    "        int n = atoi(argv[2]);\n",
    "        result = newton_method(a,n);\n",
    "        if (result < 0){\n",
    "            printf(\"%lf无法在实数范围内求开方\\n\",a);\n",
    "            return 0;\n",
    "        }else{\n",
    "            printf(\"%lf的%d次方根是%lf\\n\",a,n,result);\n",
    "            return 0;\n",
    "        }\n",
    "    }\n",
    "}\n"
   ]
  },
  {
   "cell_type": "code",
   "execution_count": 2,
   "metadata": {
    "collapsed": true
   },
   "outputs": [],
   "source": [
    "!g++-7 -o bin/Newton_method_sqrt src/C5/Newton_method_sqrt.cpp"
   ]
  },
  {
   "cell_type": "code",
   "execution_count": 3,
   "metadata": {
    "collapsed": false
   },
   "outputs": [
    {
     "name": "stdout",
     "output_type": "stream",
     "text": [
      "参数错误,参数有0个,请传入要开方的数和开多少次方\r\n"
     ]
    }
   ],
   "source": [
    "!bin/Newton_method_sqrt"
   ]
  },
  {
   "cell_type": "code",
   "execution_count": 4,
   "metadata": {
    "collapsed": false
   },
   "outputs": [
    {
     "name": "stdout",
     "output_type": "stream",
     "text": [
      "参数错误,参数有1个,请传入要开方的数和开多少次方\r\n"
     ]
    }
   ],
   "source": [
    "!bin/Newton_method_sqrt 2"
   ]
  },
  {
   "cell_type": "code",
   "execution_count": 5,
   "metadata": {
    "collapsed": false,
    "scrolled": true
   },
   "outputs": [
    {
     "name": "stdout",
     "output_type": "stream",
     "text": [
      "3.000000的3次方根是1.442250\r\n"
     ]
    }
   ],
   "source": [
    "!bin/Newton_method_sqrt 3 3"
   ]
  },
  {
   "cell_type": "markdown",
   "metadata": {},
   "source": [
    "## 用C/C++构建命令行工具\n",
    "\n",
    "C标准库提供了一个标准的头文件来便利的构建命令行工具`getopt`,他在`unistd.h`中\n",
    "\n",
    "`getopt()`用来分析命令行参数.参数`argc`和`argv`是由`main()`传递的参数个数和内容.参数`optstring`则代表欲处理的选项字符串.此函数会返回在`argv`中下一个的选项字母,此字母会对应参数`optstring`中的字母.如果选项字符串里的字母后接着冒号\":\".则表示还有相关的参数,全域变量`optarg` 即会指向此额外参数.如果`getopt()`找不到符合的参数则会印出错信息,并将全域变量`optopt`设为\"?\"字符,如果不希望`getopt()`印出错信息,则只要将全域变量`opterr`设为0即可.\n",
    "\n",
    "### 短参数的定义\n",
    "\n",
    "`getopt()`使用`optstring`所指的字串作为短参数列表,像`\"1ac:d::\"`就是一个短参数列表.短参数的定义是一个`'-'`后面跟一个字母或数字,象`-a`, `-b`就是一个短参数.每个数字或字母定义一个参数.\n",
    "\n",
    "其中短参数在`getopt`定义里分为三种：\n",
    "\n",
    "+ 不带值的参数,它的定义即是参数本身\n",
    "+ 必须带值的参数,它的定义是在参数本身后面再加一个冒号\n",
    "+ 可选值的参数,它的定义是在参数本身后面加两个冒号\n",
    "\n",
    "在这里拿上面的`\"1ac:d::\"`作为样例进行说明,其中的\n",
    "+ `1`,`a`就是不带值的参数\n",
    "+ `c`是必须带值的参数\n",
    "+ `d`是可选值的参数\n",
    "\n",
    "在实际调用中，`'-1 -a -c cvalue -d'`, `'-1 -a -c cvalue -ddvalue'`, `'-1a -ddvalue -c cvalue'`都是合法的.\n",
    "这里需要注意三点:\n",
    "\n",
    "+ 不带值的参数可以连写,像`1`和`a`是不带值的参数,它们可以`-1` `-a`分开写,也可以`-1a`或`-a1`连写.\n",
    "+ 参数不分先后顺序,`'-1a -c cvalue -ddvalue'`和`'-d -c cvalue -a1'`的解析结果是一样的.\n",
    "+ 要注意可选值的参数的值与参数之间不能有空格,必须写成`-ddvalue`这样的格式,如果写成`-d dvalue`这样的格式就会解析错误.\n",
    "\n",
    "### 返回值\n",
    "\n",
    "`getopt()`每次调用会逐次返回命令行传入的参数. 　 \n",
    "+ 当没有参数的最后的一次调用时,`getopt()`将返回-1.　 \n",
    "+ 当解析到一个不在`optstring`里面的参数，或者一个必选值参数不带值时,返回'?'.　 \n",
    "+ 当`optstring`是以':'开头时,缺值参数的情况下会返回':',而不是'?'."
   ]
  },
  {
   "cell_type": "code",
   "execution_count": 6,
   "metadata": {
    "collapsed": false
   },
   "outputs": [
    {
     "name": "stdout",
     "output_type": "stream",
     "text": [
      "Overwriting src/C5/sqrt_opt.cpp\n"
     ]
    }
   ],
   "source": [
    "%%writefile src/C5/sqrt_opt.cpp\n",
    "#include <stdlib.h>\n",
    "#include <unistd.h>\n",
    "#include <iostream>\n",
    "#include <string>\n",
    "#include <math.h>\n",
    "using std::string;\n",
    "using std::cout;\n",
    "using std::endl;\n",
    "\n",
    "int main(int argc, char **argv)  {  \n",
    "    int ch; \n",
    "    double result;\n",
    "    opterr = 0;  \n",
    "    string version = \"0.1.0\";\n",
    "    while ((ch = getopt(argc,argv,\"s:v\\n\"))!=-1){  \n",
    "        switch(ch){  \n",
    "            case 'v':  \n",
    "                cout<<(\"option v: %s\\n\",version)<<endl;  \n",
    "                break;  \n",
    "            case 's':\n",
    "                result = sqrt(atoi(optarg));\n",
    "                cout<<(\"%f\\n\",result)<<endl;\n",
    "                break;\n",
    "            default:  \n",
    "                cout<<\"wrong args\\n\"<<endl;  \n",
    "        }  \n",
    "    }  \n",
    "    return 0;\n",
    "}  "
   ]
  },
  {
   "cell_type": "code",
   "execution_count": 7,
   "metadata": {
    "collapsed": true
   },
   "outputs": [],
   "source": [
    "!g++-7 -o bin/sqrt_opt src/C5/sqrt_opt.cpp"
   ]
  },
  {
   "cell_type": "code",
   "execution_count": 8,
   "metadata": {
    "collapsed": false
   },
   "outputs": [
    {
     "name": "stdout",
     "output_type": "stream",
     "text": [
      "0.1.0\r\n"
     ]
    }
   ],
   "source": [
    "!./bin/sqrt_opt -v"
   ]
  },
  {
   "cell_type": "code",
   "execution_count": 9,
   "metadata": {
    "collapsed": false
   },
   "outputs": [
    {
     "name": "stdout",
     "output_type": "stream",
     "text": [
      "6\r\n"
     ]
    }
   ],
   "source": [
    "!./bin/sqrt_opt -s36"
   ]
  },
  {
   "cell_type": "markdown",
   "metadata": {},
   "source": [
    "# 函数重载\n",
    "\n",
    "C++中函数重载是在C++语言基础上的一大特色,不过有好也有坏.虽然C++的函数重载大大方便了编程人员,但是却有时候使用不当会引起问题,最典型的就是函数重载的二义性问题.首先我们知道C++函数重载的条件,以及C++中为什么可以函数重载,这样才可以避免C++函数重载中的二义性问题.\n",
    "\n",
    "C++函数重载的条件有三个:\n",
    "\n",
    "1. 函数必须位于同一作用域之中.(重载顾名思义是地位相同的两个函数,可以说两个函数是平等的,所以凭什么有的函数作用域大呢,那自然就是同一作用域)\n",
    "2. 函数名必须相同.\n",
    "3. 最重要的就是参数列表不同.参数列表不同又可以分为:\n",
    "\n",
    "    1. 参数个数不同 \n",
    "    2. 参数类型不同 \n",
    "    3. 参数顺序不同\n",
    "    满足以上三条任意一条就可以\n",
    "    \n",
    "函数的返回值可以相同，也可以不同.\n",
    "\n",
    "我们都知道,如果在c语言中定义一个或者多个同名的函数,哪怕是参数的类型,个数,顺序都不同可不可以进行重载.\n",
    "\n"
   ]
  },
  {
   "cell_type": "code",
   "execution_count": 10,
   "metadata": {
    "collapsed": false
   },
   "outputs": [
    {
     "name": "stdout",
     "output_type": "stream",
     "text": [
      "Overwriting src/C5/overloading_test.cpp\n"
     ]
    }
   ],
   "source": [
    "%%writefile src/C5/overloading_test.cpp\n",
    "#include <iostream>\n",
    "#include <string>\n",
    "\n",
    "using std::string;\n",
    "using std::cout;\n",
    "using std::endl;\n",
    "        \n",
    "int My_add(int a, int b){  \n",
    "    return (a + b);  \n",
    "}  \n",
    "  \n",
    "string My_add(string a, string b){  \n",
    "    return (a + b);  \n",
    "}  \n",
    "  \n",
    "int main(){  \n",
    "    auto m = 10;  \n",
    "    auto n = 20;  \n",
    "    auto ret = My_add(m, n);\n",
    "    cout << ret << endl;\n",
    "    string x = \"asdfg\";\n",
    "\n",
    "    string y = \"qwert\";\n",
    "    string re = My_add(x, y);\n",
    "    cout << re << endl;\n",
    "    return 0;  \n",
    "}  \n"
   ]
  },
  {
   "cell_type": "code",
   "execution_count": 11,
   "metadata": {
    "collapsed": true
   },
   "outputs": [],
   "source": [
    "!g++-7 -o bin/overloading_test src/C5/overloading_test.cpp"
   ]
  },
  {
   "cell_type": "code",
   "execution_count": 12,
   "metadata": {
    "collapsed": false
   },
   "outputs": [
    {
     "name": "stdout",
     "output_type": "stream",
     "text": [
      "30\r\n",
      "asdfgqwert\r\n"
     ]
    }
   ],
   "source": [
    "!./bin/overloading_test"
   ]
  },
  {
   "cell_type": "markdown",
   "metadata": {},
   "source": [
    "# 内联函数\n",
    "\n",
    "`inline`关键字可以指定函数为内联函数,内联函数没有多余的函数调用开销,是一种以空间换时间的技术\n",
    "\n",
    "```C++\n",
    "inline int min(int first, int secend) {/****/};\n",
    "```\n",
    "\n",
    "## 慎用内联\n",
    "\n",
    "内联能提高函数的执行效率,为什么不把所有的函数都定义成内联函数?如果所有的函数都是内联函数,还用得着\"内联\"这个关键字吗?内联是以代码膨胀(复制)为代价,仅仅省去了函数调用的开销,从而提高函数的执行效率.如果执行函数体内代码的时间,相比于函数调用的开销较大,那么效率的收获会很少.另一方面,每一处内联函数的调用都要复制代码,将使程序的总代码量增大,消耗更多的内存空间.\n",
    "\n",
    "以下情况不宜使用内联:\n",
    "\n",
    "1. 如果函数体内的代码比较长，使用内联将导致内存消耗代价较高.\n",
    "2. 如果函数体内出现循环,那么执行函数体内代码的时间要比函数调用的开销大.类的构造函数和析构函数容易让人误解成使用内联更有效.要当心构造函数和析构函数可能会隐藏一些行为,如\"偷偷地\"执行了基类或成员对象的构造函数和析构函数.所以不要随便地将构造函数和析构函数的定义体放在类声明中.一个好的编译器将会根据函数的定义体,自动地取消不值得的内联(这进一步说明了inline不应该出现在函数的声明中).\n",
    "\n"
   ]
  },
  {
   "cell_type": "markdown",
   "metadata": {},
   "source": [
    "# 匿名函数[C++11]\n",
    "\n",
    "在c++11中新增了对lambda函数的支持,C++11 的 lambda 表达式规范如下：\n",
    "\n",
    "\n",
    "+ `[ capture ] ( params ) mutable exception attribute -> ret { body }`\n",
    "\n",
    "    完整的 lambda 表达式形式\n",
    "    \n",
    "    \n",
    "+ `[ capture ] ( params ) -> ret { body }`\n",
    "\n",
    "    `const`类型的 lambda 表达式，该类型的表达式不能改捕获(\"capture\")列表中的值\n",
    "    \n",
    "    \n",
    "+ `[ capture ] ( params ) { body }`\n",
    "\n",
    "    省略了返回值类型的lambda表达式，但是该lambda表达式的返回类型可以按照下列规则推演出来:\n",
    "    + 如果lambda代码块中包含了return语句，则该lambda表达式的返回类型由return语句的返回类型确定.\n",
    "    + 如果没有return语句，则类似`void f(...)`函数.\n",
    "\n",
    "\n",
    "+ `[ capture ] { body }`\n",
    "\n",
    "    省略了参数列表，类似于无参函数`f()`.\n",
    "\n",
    "    \n",
    "`mutable`修饰符说明lambda表达式体内的代码可以修改被捕获的变量,并且可以访问被捕获对象的`non-const`方法\n",
    "\n",
    "`exception`说明lambda表达式是否抛出异常(noexcept)，以及抛出何种异常，类似于`void f() throw(X, Y)`\n",
    "\n",
    "`attribute`用来声明属性。\n",
    "\n",
    "另外,`capture`指定了在可见域范围内lambda表达式的代码内可见得外部变量的列表,具体解释如下：\n",
    "\n",
    "+ `[a,&b]` a变量以值的方式呗捕获，b以引用的方式被捕获.\n",
    "+ `[this]` 以值的方式捕获 this 指针.\n",
    "+ `[&]` 以引用的方式捕获所有的外部自动变量.\n",
    "+ `[=]` 以值的方式捕获所有的外部自动变量.\n",
    "+ `[]` 不捕获外部的任何变量.\n",
    "\n",
    "此外`params`指定lambda表达式的参数。\n",
    "\n"
   ]
  },
  {
   "cell_type": "code",
   "execution_count": 13,
   "metadata": {
    "collapsed": false
   },
   "outputs": [
    {
     "name": "stdout",
     "output_type": "stream",
     "text": [
      "Overwriting src/C5/lambda_test.cpp\n"
     ]
    }
   ],
   "source": [
    "%%writefile src/C5/lambda_test.cpp\n",
    "#include <vector>\n",
    "#include <iostream>\n",
    "#include <algorithm>\n",
    "#include <functional>\n",
    " \n",
    "int main()\n",
    "{\n",
    "    std::vector<int> c { 1,2,3,4,5,6,7 };\n",
    "    int x = 5;\n",
    "    c.erase(std::remove_if(c.begin(),\n",
    "                           c.end(),\n",
    "                           [x](int n){ return n < x; }\n",
    "                          ),\n",
    "            c.end());\n",
    " \n",
    "    std::cout << \"c: \";\n",
    "    for (auto i: c) {\n",
    "        std::cout << i << ' ';\n",
    "    }\n",
    "    std::cout << '\\n';\n",
    " \n",
    "\n",
    "    auto func1 = [](int i) { return i+4; };\n",
    "    std::cout << \"func1: \" << func1(6) << '\\n'; \n",
    " \n",
    "\n",
    "    std::function<int(int)> func2 = [](int i) { return i+4; };\n",
    "    std::cout << \"func2: \" << func2(6) << '\\n'; \n",
    "}"
   ]
  },
  {
   "cell_type": "code",
   "execution_count": 14,
   "metadata": {
    "collapsed": true
   },
   "outputs": [],
   "source": [
    "!g++-7 -o bin/lambda_test src/C5/lambda_test.cpp"
   ]
  },
  {
   "cell_type": "code",
   "execution_count": 15,
   "metadata": {
    "collapsed": false
   },
   "outputs": [
    {
     "name": "stdout",
     "output_type": "stream",
     "text": [
      "c: 5 6 7 \r\n",
      "func1: 10\r\n",
      "func2: 10\r\n"
     ]
    }
   ],
   "source": [
    "!bin/lambda_test"
   ]
  },
  {
   "cell_type": "markdown",
   "metadata": {},
   "source": [
    "## 范型匿名函数[C++14]\n",
    "\n",
    "另一方面,在C++14中匿名函数可以使用`auto`自动推导类型,比如\n",
    "\n",
    "```c++\n",
    "auto func1 = [](auto x,auto,y){return x+y}\n",
    "```\n",
    "就可以针对不同类型计算了.至此,C++的匿名函数算是功德圆满了."
   ]
  },
  {
   "cell_type": "code",
   "execution_count": 5,
   "metadata": {
    "collapsed": false
   },
   "outputs": [
    {
     "name": "stdout",
     "output_type": "stream",
     "text": [
      "Overwriting src/C5/auto_lambda_test.cpp\n"
     ]
    }
   ],
   "source": [
    "%%writefile src/C5/auto_lambda_test.cpp\n",
    "\n",
    "#include <iostream>\n",
    "#include <string>\n",
    "\n",
    "using std::string;\n",
    " \n",
    "int main(){\n",
    "    string s1 = \"123\";\n",
    "    string s2 = \"123\";\n",
    "    auto func = [](auto x,auto y){return x+y;};\n",
    "    std::cout << \"func1: \" << func(6,4) << '\\n'<< std::endl; \n",
    "    std::cout << \"func2: \" << func(6,0.5) << '\\n'<< std::endl; \n",
    "    std::cout << \"func2: \" << func(1.5,0.5) << '\\n'<< std::endl; \n",
    "    std::cout << \"func2: \" << func(s1,s2) << '\\n'<< std::endl; \n",
    "}"
   ]
  },
  {
   "cell_type": "code",
   "execution_count": 6,
   "metadata": {
    "collapsed": true
   },
   "outputs": [],
   "source": [
    "!g++-7 -o bin/auto_lambda_test src/C5/auto_lambda_test.cpp"
   ]
  },
  {
   "cell_type": "code",
   "execution_count": 7,
   "metadata": {
    "collapsed": false
   },
   "outputs": [
    {
     "name": "stdout",
     "output_type": "stream",
     "text": [
      "func1: 10\r\n",
      "\r\n",
      "func2: 6.5\r\n",
      "\r\n",
      "func2: 2\r\n",
      "\r\n",
      "func2: 123123\r\n",
      "\r\n"
     ]
    }
   ],
   "source": [
    "!bin/auto_lambda_test"
   ]
  }
 ],
 "metadata": {
  "kernelspec": {
   "display_name": "Python 3",
   "language": "python",
   "name": "python3"
  },
  "language_info": {
   "codemirror_mode": {
    "name": "ipython",
    "version": 3
   },
   "file_extension": ".py",
   "mimetype": "text/x-python",
   "name": "python",
   "nbconvert_exporter": "python",
   "pygments_lexer": "ipython3",
   "version": "3.6.0"
  }
 },
 "nbformat": 4,
 "nbformat_minor": 1
}
