{
 "cells": [
  {
   "cell_type": "markdown",
   "metadata": {},
   "source": [
    "# 自定义结构"
   ]
  },
  {
   "cell_type": "markdown",
   "metadata": {
    "collapsed": true
   },
   "source": [
    "## 枚举\n",
    "\n",
    "枚举在python中并没有直接的实现,但C++中它是默认的一种自定义类型,它的声明关键字是enum\n",
    "\n",
    "声明枚举类型:\n",
    "\n",
    "```c\n",
    "enum 枚举类型名 {枚举值1,枚举值2...} \n",
    "```\n",
    "\n",
    "定义枚举变量:\n",
    "\n",
    "```c\n",
    "枚举类型名 变量名 = 枚举值;\n",
    "```\n",
    "需要注意的是枚举类型变量只能赋值为枚举类型声明时的枚举值,其他都会报错,而枚举值实际上是对应声明时位置对应的整形数.\n",
    "\n",
    "看个例子:"
   ]
  },
  {
   "cell_type": "code",
   "execution_count": 1,
   "metadata": {},
   "outputs": [
    {
     "name": "stdout",
     "output_type": "stream",
     "text": [
      "Overwriting src/C7/weekdays.cpp\n"
     ]
    }
   ],
   "source": [
    "%%writefile src/C7/weekdays.cpp\n",
    "\n",
    "#include <stdio.h>\n",
    "\n",
    "enum Weekday {MON,TUE,WED,THU,FRI,SAT,SUN};\n",
    "\n",
    "int main(void) {\n",
    "    enum Weekday firstday = TUE;\n",
    "    printf(\"first day is %d\\n\",firstday );\n",
    "    return 0;\n",
    "}"
   ]
  },
  {
   "cell_type": "code",
   "execution_count": 2,
   "metadata": {
    "collapsed": true
   },
   "outputs": [],
   "source": [
    "!g++-7 -o bin/weekdays src/C7/weekdays.cpp"
   ]
  },
  {
   "cell_type": "code",
   "execution_count": 3,
   "metadata": {},
   "outputs": [
    {
     "name": "stdout",
     "output_type": "stream",
     "text": [
      "first day is 1\r\n"
     ]
    }
   ],
   "source": [
    "!bin/weekdays"
   ]
  },
  {
   "cell_type": "markdown",
   "metadata": {},
   "source": [
    "## 结构体\n",
    "\n",
    "结构体可以理解为一组有意义的特殊成员变量的组合,比如对于小朋友,有性别,姓名,年龄身高,体重这几个维度,每个小朋友都会有这些属性.我们就可以将小朋友定义为一个结构体\n",
    "\n",
    "结构体的定义方式为:\n",
    "\n",
    "```c\n",
    "struct 结构名{\n",
    "类型 成员变量名;\n",
    "类型 成员变量名;\n",
    "类型 成员变量名;\n",
    "};\n",
    "\n",
    "```\n",
    "\n",
    "注意不要落了封号\n",
    "\n",
    "我们来声明一个Child结构体\n",
    "\n",
    "```c\n",
    "struct Child{\n",
    "    char name[10];\n",
    "    char sex[2];\n",
    "    int age;\n",
    "    float weight;\n",
    "    float height; \n",
    "};\n",
    "```\n",
    "\n",
    "\n",
    "### 结构体变量的初始化\n",
    "\n",
    "结构体是一种自定义类型,它和一般的类型如int呀char呀有相同的性质,不同之处是他是值是复合的,要非初始化上面的结构体结构体,只要这样:\n",
    "\n",
    "```c\n",
    "struct Child Tom = {{\"T\",\"o\",\"m\",\"\\0\"},{\"m\",\"\\0\"},8,48.5,1.5};\n",
    "```\n",
    "也可以声明变量后再赋值\n",
    "\n",
    "```c\n",
    "struct Child Sam;\n",
    "Sam.name = \"Sam\";\n",
    "Sam.sex = \"m\";\n",
    "Sam.age = 7;\n",
    "Sam.weight = 45.7;\n",
    "Sam.height = 1.57;\n",
    "```\n",
    "\n",
    "### 结构体变量的特性\n",
    "\n",
    "结构体变量作为函数参数传递的时候需要注意是**传值**的,这和一般的类型是一样的.\n",
    "如果我们的函数参数是结构体的指针变量(传引用),那么和一般的指针变量一样,需要注意."
   ]
  },
  {
   "cell_type": "markdown",
   "metadata": {},
   "source": [
    "## 共用体\n",
    "\n",
    "在C语言中,还有另外一种和结构体非常类似的语法,叫做共用体(Union),它的定义格式为:\n",
    "```C\n",
    "union 共用体名{\n",
    "    成员列表\n",
    "};\n",
    "```\n",
    "\n",
    "结构体和共用体的区别在于:\n",
    "\n",
    "+ 结构体的各个成员会占用不同的内存,互相之间没有影响;\n",
    "+ 共用体的所有成员占用同一段内存,修改一个成员会影响其余所有成员.\n",
    "\n",
    "结构体占用的内存大于等于所有成员占用的内存的总和(成员之间可能会存在缝隙),共用体占用的内存等于最长的成员占用的内存.共用体使用了内存覆盖技术，同一时刻只能保存一个成员的值，如果对新的成员赋值，就会把原来成员的值覆盖掉."
   ]
  },
  {
   "cell_type": "code",
   "execution_count": 4,
   "metadata": {},
   "outputs": [
    {
     "name": "stdout",
     "output_type": "stream",
     "text": [
      "Overwriting src/C7/uniontest.cpp\n"
     ]
    }
   ],
   "source": [
    "%%writefile src/C7/uniontest.cpp\n",
    "\n",
    "#include <stdio.h>\n",
    "union data{\n",
    "    int n;\n",
    "    char ch;\n",
    "    short m;\n",
    "};\n",
    "int main(){\n",
    "    union data a;\n",
    "    printf(\"%d, %d\\n\", sizeof(a), sizeof(union data) );\n",
    "    a.n = 0x40;\n",
    "    printf(\"%X, %c, %hX\\n\", a.n, a.ch, a.m);\n",
    "    a.ch = '9';\n",
    "    printf(\"%X, %c, %hX\\n\", a.n, a.ch, a.m);\n",
    "    a.m = 0x2059;\n",
    "    printf(\"%X, %c, %hX\\n\", a.n, a.ch, a.m);\n",
    "    a.n = 0x3E25AD54;\n",
    "    printf(\"%X, %c, %hX\\n\", a.n, a.ch, a.m);\n",
    "   \n",
    "    return 0;\n",
    "}"
   ]
  },
  {
   "cell_type": "code",
   "execution_count": 5,
   "metadata": {
    "collapsed": true
   },
   "outputs": [],
   "source": [
    "!g++-7 -o bin/uniontest src/C7/uniontest.cpp"
   ]
  },
  {
   "cell_type": "code",
   "execution_count": 6,
   "metadata": {},
   "outputs": [
    {
     "name": "stdout",
     "output_type": "stream",
     "text": [
      "4, 4\r\n",
      "40, @, 40\r\n",
      "39, 9, 39\r\n",
      "2059, Y, 2059\r\n",
      "3E25AD54, T, AD54\r\n"
     ]
    }
   ],
   "source": [
    "!bin/uniontest"
   ]
  },
  {
   "cell_type": "markdown",
   "metadata": {},
   "source": [
    "## 自定义类型操作\n",
    "\n",
    "我们可以使用`typedef`关键字将结构体或者枚举,或者其他任何的类型取个别名,这样可以更加方便使用\n",
    "\n",
    "```c\n",
    "typedef 原类型 类型别名;\n",
    "\n",
    "```\n",
    "\n",
    "> 例子:"
   ]
  },
  {
   "cell_type": "code",
   "execution_count": 7,
   "metadata": {},
   "outputs": [
    {
     "name": "stdout",
     "output_type": "stream",
     "text": [
      "Overwriting src/C7/child.cpp\n"
     ]
    }
   ],
   "source": [
    "%%writefile src/C7/child.cpp\n",
    "\n",
    "#include <stdio.h>\n",
    "#include <string.h>\n",
    "typedef struct{\n",
    "    char name[10];\n",
    "    char sex[2];\n",
    "    int age;\n",
    "    float weight;\n",
    "    float height;\n",
    "} Child;\n",
    "\n",
    "int main(void) {\n",
    "    Child Tom = {\"Tom\",\"m\",8,48.5,1.5};\n",
    "    Child Sam;\n",
    "    strcpy(Sam.name,\"Sam\");\n",
    "    strcpy(Sam.sex,\"m\");\n",
    "    Sam.age = 7;\n",
    "    Sam.weight = 45.7;\n",
    "    Sam.height = 1.57;\n",
    "    printf(\"%s 身高%fm\\n\",Tom.name,Tom.height);\n",
    "    printf(\"%s 体重%fkg\\n\",Sam.name,Sam.weight);\n",
    "    return 0;\n",
    "}\n"
   ]
  },
  {
   "cell_type": "code",
   "execution_count": 8,
   "metadata": {
    "collapsed": true
   },
   "outputs": [],
   "source": [
    "!g++-7 -o bin/child src/C7/child.cpp"
   ]
  },
  {
   "cell_type": "code",
   "execution_count": 9,
   "metadata": {},
   "outputs": [
    {
     "name": "stdout",
     "output_type": "stream",
     "text": [
      "Tom 身高1.500000m\r\n",
      "Sam 体重45.700001kg\r\n"
     ]
    }
   ],
   "source": [
    "!bin/child"
   ]
  }
 ],
 "metadata": {
  "kernelspec": {
   "display_name": "Python 3",
   "language": "python",
   "name": "python3"
  },
  "language_info": {
   "codemirror_mode": {
    "name": "ipython",
    "version": 3
   },
   "file_extension": ".py",
   "mimetype": "text/x-python",
   "name": "python",
   "nbconvert_exporter": "python",
   "pygments_lexer": "ipython3",
   "version": "3.6.0"
  }
 },
 "nbformat": 4,
 "nbformat_minor": 1
}
