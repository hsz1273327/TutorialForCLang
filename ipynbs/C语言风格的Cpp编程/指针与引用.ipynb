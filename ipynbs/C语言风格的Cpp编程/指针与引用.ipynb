{
 "cells": [
  {
   "cell_type": "markdown",
   "metadata": {},
   "source": [
    "# 指针\n",
    "\n",
    "什么是指针?这个在python中可没有.\n",
    "\n",
    "上语文课的时候,老师最长说的话是不是\"请将课本翻到xxx页\"?在那一页上有课上的内容,我们要看的是内容,但却使用页码标记内容,这就是指针的核心思想了.\n",
    "\n",
    "**指针**是变量的地址,与之对应的是内存空间的标记,一本有页码的笔记本,在某一页上可以写着日记,也可以画着画,它只是被标记的空间而已,内容取决于需要.\n",
    "\n",
    "### 变量的三要素\n",
    "\n",
    "一个变量必然有三样内容:\n",
    "\n",
    "+ 地址,内存空间的标记\n",
    "+ 值,存放的具体内容\n",
    "+ 变量名,在程序中用于标记变量的符号\n",
    "\n",
    "在多数语言中还要加上一个类型,用以让编译器或者解释器知道该如何处理这个变量\n",
    "\n",
    "### 取地址符&和指针运算符\\*\n",
    "\n",
    "+ 要取到变量的地址,只用在变量前使用`&`就可以得到了\n",
    "+ 如果我们想通过变量的地址获取它的值,那只要在地址前使用\\*就可以了"
   ]
  },
  {
   "cell_type": "markdown",
   "metadata": {},
   "source": [
    "## 指针变量\n",
    "\n",
    "存储变量地址的变量就是指针变量,他的声明形式很简单\n",
    "\n",
    "```c\n",
    "类型* 变量名\n",
    "```\n",
    "这样变量中就是存的地址了,而要取出该地址中的值,同样的只要使用指针运算符即可"
   ]
  },
  {
   "cell_type": "markdown",
   "metadata": {},
   "source": [
    "## 指针运算\n",
    "\n",
    "指针也就是地址,在C++中表现为可以运算的正整数数值,因此,它和int,long之类一样,是可以运算的,所用的运算符也是通常的运算符."
   ]
  },
  {
   "cell_type": "markdown",
   "metadata": {},
   "source": [
    "## 指针与数组\n",
    "\n",
    "数组变量实际上就是数组第一个元素的指针,因此要取第一个元素的值也可以使用指针运算符,其后面的元素也只要在数组变量的基础上加上长度后再做指针运算即可,不过最安全最直观的方式还是用下标"
   ]
  },
  {
   "cell_type": "markdown",
   "metadata": {},
   "source": [
    "## 函数与指针\n",
    "\n",
    "C++语言中的精髓之一就在于函数与指针互动了\n",
    "\n",
    "### 指针作为参数\n",
    "\n",
    "指针作为参数就可以理解为所谓的传引用,以地址作为参数,函数的操作会影响引用的内容,这样几百年函数的内存被回收,操作的结果也会生效\n",
    "\n",
    "最典型的,交换两个变量的值"
   ]
  },
  {
   "cell_type": "code",
   "execution_count": 1,
   "metadata": {},
   "outputs": [
    {
     "name": "stdout",
     "output_type": "stream",
     "text": [
      "Overwriting src/C8/exchange.cpp\n"
     ]
    }
   ],
   "source": [
    "%%writefile src/C8/exchange.cpp\n",
    "#include <stdio.h>\n",
    "\n",
    "void exchange(int* ptr_a,int* ptr_b){\n",
    "    int temp;\n",
    "    temp = *ptr_a;\n",
    "    *ptr_a = *ptr_b;\n",
    "    *ptr_b = temp;\n",
    "    return;\n",
    "}\n",
    "\n",
    "int main(void) {\n",
    "    int a = 78,b = 28;\n",
    "    printf(\"before exchange a=%d,b=%d\\n\",a,b);\n",
    "    exchange(&a,&b);\n",
    "    printf(\"after exchange a=%d,b=%d\\n\",a,b);\n",
    "    return 0;\n",
    "}\n"
   ]
  },
  {
   "cell_type": "code",
   "execution_count": 2,
   "metadata": {
    "collapsed": true
   },
   "outputs": [],
   "source": [
    "!g++-7 -o bin/exchange src/C8/exchange.cpp"
   ]
  },
  {
   "cell_type": "code",
   "execution_count": 3,
   "metadata": {},
   "outputs": [
    {
     "name": "stdout",
     "output_type": "stream",
     "text": [
      "before exchange a=78,b=28\r\n",
      "after exchange a=28,b=78\r\n"
     ]
    }
   ],
   "source": [
    "!bin/exchange"
   ]
  },
  {
   "cell_type": "markdown",
   "metadata": {},
   "source": [
    "#### 指针参数的保护\n",
    "\n",
    "我们如果传递的是指针,那么就意味着内容是可变的,于是就又被篡改的危险,但如果我们希望不被篡改,那么最好的办法就是将这个指针引用的内容在函数中保护起来,这就用到了`const`参数了,这个被称作常量指针"
   ]
  },
  {
   "cell_type": "code",
   "execution_count": 4,
   "metadata": {},
   "outputs": [
    {
     "name": "stdout",
     "output_type": "stream",
     "text": [
      "Overwriting src/C8/safe_ptr.cpp\n"
     ]
    }
   ],
   "source": [
    "%%writefile src/C8/safe_ptr.cpp\n",
    "#include <stdio.h>\n",
    "\n",
    "int main(void) {\n",
    "    const int a = 78,b = 28;\n",
    "    int c = 18;\n",
    "    const int* p = &a;\n",
    "    printf(\"p:%d\\n\",*p);\n",
    "    //*p = 58//报错,*p无法重新复制\n",
    "    p = &b;//可以给p重新复制,\n",
    "    printf(\"p:%d\\n\",*p);\n",
    "    return 0;\n",
    "}"
   ]
  },
  {
   "cell_type": "code",
   "execution_count": 5,
   "metadata": {
    "collapsed": true
   },
   "outputs": [],
   "source": [
    "!g++-7 -o bin/safe_ptr src/C8/safe_ptr.cpp"
   ]
  },
  {
   "cell_type": "code",
   "execution_count": 6,
   "metadata": {},
   "outputs": [
    {
     "name": "stdout",
     "output_type": "stream",
     "text": [
      "p:78\r\n",
      "p:28\r\n"
     ]
    }
   ],
   "source": [
    "!bin/safe_ptr"
   ]
  },
  {
   "cell_type": "markdown",
   "metadata": {},
   "source": [
    "\n",
    "### 指针作为返回值(指针函数)\n",
    "\n",
    "如果要一个函数返回指针,那么就像下面这么定义\n",
    "\n",
    "```c\n",
    "int *f(int，int);\n",
    "```\n",
    "指针作为返回值就意味着可以返回复杂的数据结构以及数组了\n",
    "\n",
    "### 函数指针\n",
    "\n",
    "函数指针是指指向函数的指针,事实上函数一样也是一种储存在内存中的数据,如果要做一定的抽象,函数指针是必不可少的.定义一个函数指针如下:\n",
    "\n",
    "```c\n",
    "int (*f)(int,int);\n",
    "```\n",
    "\n",
    "形式上 指针函数和函数指针很像,也就是一对括号的不同而已,但差异非常大,指针函数是定义的函数,而函数指针是定义的指针\n",
    "\n",
    "\n",
    "### 函数常量指针\n",
    "\n",
    "C++中事实上并没有所谓常量函数,但我们确实可以指定指向函数的指针,或者函数的返回值指针,各种各样的指针为常数\n",
    "\n",
    "\n",
    "```c\n",
    "int (*const func)(int) = some_func;//指向函数的常量指针,通常会接一个初始化\n",
    "\n",
    "void const *(*func)(int);//指定返回值为常量指针\n",
    "\n",
    "void const *(*const func)(int) = func;//指向函数的常量指针,并指定返回值为常量指针\n",
    "```"
   ]
  },
  {
   "cell_type": "markdown",
   "metadata": {
    "collapsed": true
   },
   "source": [
    "## 模拟高阶函数\n",
    "\n",
    "对于函数式编程而言,高阶函数是一切的基础,学过python的一定不会陌生,C++中如何实现高阶函数呢\n",
    "\n",
    "### 函数作为参数\n",
    "\n",
    "求a到b间整数的和\n",
    "\n",
    "```c\n",
    "int sum_int(int a,int b){\n",
    "    return a>b ?0:a + sum_int((a+1),b);\n",
    "}\n",
    "```\n",
    "\n",
    "求a到b间的整数的立方和:\n",
    "\n",
    "```c\n",
    "int cube(int x){\n",
    "    return (int)pow(x,3);\n",
    "}\n",
    "\n",
    "int sum_func(int a,int b,int (*func)(int)){\n",
    "\n",
    "    return a>b ?0:(*func)(a) + sum_func((a+1),b,func);\n",
    "}\n",
    "```\n",
    "求:\n",
    "$$ \\frac {1}{1 \\cdot 3} + \\frac {1}{5 \\cdot 7} + \\frac {1}{9 \\cdot 11} +\\cdots$$\n",
    "\n",
    "它会非常缓慢地收敛到$$\\frac {\\pi}{8}$$\n",
    "\n",
    "```c\n",
    "float sum_func_stp(int a,int b,float (*const func)(int) , int (*const step)(int)){\n",
    "    return a>b ?0:(*func)(a) + sum_func_stp((*step)(a),b,func,step);\n",
    "}\n",
    "float func(int x){\n",
    "    return 1.0/(x*(x+2));\n",
    "}\n",
    "int stp(int x){\n",
    "    return x+4;\n",
    "}\n",
    "float sum_pi(int a,int b){\n",
    "    float (*const ptr_func)(int) = func;\n",
    "    int (*const ptr_stp)(int) = stp;\n",
    "    return sum_func_stp(a,b,ptr_func,ptr_stp);\n",
    "}\n",
    "```\n",
    "\n",
    "完整的高阶函数例子:"
   ]
  },
  {
   "cell_type": "code",
   "execution_count": 7,
   "metadata": {},
   "outputs": [
    {
     "name": "stdout",
     "output_type": "stream",
     "text": [
      "Overwriting src/C8/high_order_func.cpp\n"
     ]
    }
   ],
   "source": [
    "%%writefile src/C8/high_order_func.cpp\n",
    "\n",
    "#include <stdio.h>\n",
    "#include <math.h>\n",
    "\n",
    "int sum_int(int a,int b){\n",
    "    return a>b ?0:a + sum_int((a+1),b);\n",
    "}\n",
    "\n",
    "int cube(int x){\n",
    "    return (int)pow(x,3);\n",
    "}\n",
    "int sum_func(int a,int b,int (*const func)(int)){\n",
    "    return a>b ?0:(*func)(a) + sum_func((a+1),b,func);\n",
    "}\n",
    "\n",
    "int sum_cube(int a,int b){\n",
    "    int (*const ptr_func)(int) = cube;\n",
    "    return sum_func(a,b,ptr_func);\n",
    "}\n",
    "float sum_func_stp(int a,int b,float (*const func)(int) , int (*const step)(int)){\n",
    "    return a>b ?0:(*func)(a) + sum_func_stp((*step)(a),b,func,step);\n",
    "}\n",
    "float func(int x){\n",
    "    return 1.0/(x*(x+2));\n",
    "}\n",
    "int stp(int x){\n",
    "    return x+4;\n",
    "}\n",
    "float sum_pi(int a,int b){\n",
    "    float (*const ptr_func)(int) = func;\n",
    "    int (*const ptr_stp)(int) = stp;\n",
    "    return sum_func_stp(a,b,ptr_func,ptr_stp);\n",
    "}\n",
    "\n",
    "\n",
    "int main(void) {\n",
    "    int top = 5,bottom = 1;\n",
    "    printf(\"range(%d,%d) = %d\\n\", bottom,top,sum_int(bottom,top));\n",
    "    printf(\"range(%d,%d)的立方和为%d\\n\", bottom,top,sum_cube(bottom,top));\n",
    "    printf(\"sum_pi(%d,%d)为%f\\n\", bottom,top,sum_pi(bottom,top));\n",
    "}"
   ]
  },
  {
   "cell_type": "code",
   "execution_count": 8,
   "metadata": {
    "collapsed": true
   },
   "outputs": [],
   "source": [
    "!g++-7 -o bin/high_order_func src/C8/high_order_func.cpp"
   ]
  },
  {
   "cell_type": "code",
   "execution_count": 9,
   "metadata": {},
   "outputs": [
    {
     "name": "stdout",
     "output_type": "stream",
     "text": [
      "range(1,5) = 15\r\n",
      "range(1,5)的立方和为225\r\n",
      "sum_pi(1,5)为0.361905\r\n"
     ]
    }
   ],
   "source": [
    "!bin/high_order_func"
   ]
  },
  {
   "cell_type": "markdown",
   "metadata": {},
   "source": [
    "## 闭包\n",
    "\n",
    "标准C++中是不允许在函数体内定义函数的,不过g++和clang都有相应扩展,这边只讲标准C++,因此也就不多介绍了,有兴趣的可以自己百度."
   ]
  },
  {
   "cell_type": "markdown",
   "metadata": {},
   "source": [
    "## 空指针\n",
    "\n",
    "C++中可以用`NULL`为任意指针变量赋值,他的意义是指针为空,或者说,指针变量没有指向任何地址"
   ]
  },
  {
   "cell_type": "markdown",
   "metadata": {},
   "source": [
    "## nullptr[C++11]\n",
    "\n",
    "nullptr是为了解决原来C++中NULL的二义性问题而引进的一种新的类型,因为NULL实际上代表的是0."
   ]
  },
  {
   "cell_type": "code",
   "execution_count": 10,
   "metadata": {},
   "outputs": [
    {
     "name": "stdout",
     "output_type": "stream",
     "text": [
      "Overwriting src/C8/nullptr_test.cpp\n"
     ]
    }
   ],
   "source": [
    "%%writefile src/C8/nullptr_test.cpp\n",
    "#include <iostream>\n",
    "using std::cout;\n",
    "using std::endl;\n",
    "        \n",
    "void F(int a){  \n",
    "    cout<<a<<endl;  \n",
    "}  \n",
    " \n",
    "void F(int *p){  \n",
    "    assert(p != NULL);  \n",
    " \n",
    "    cout<< p <<endl;  \n",
    "}  \n",
    " \n",
    "int main(){  \n",
    " \n",
    "    int *p = nullptr;  \n",
    "    int *q = NULL;  \n",
    "    bool equal = ( p == q ); // equal的值为true，说明p和q都是空指针  \n",
    "    int a = nullptr; // 编译失败，nullptr不能转型为int  \n",
    "    F(0); // 在C++98中编译失败，有二义性；在C++11中调用F（int）  \n",
    "    F(nullptr);  \n",
    " \n",
    "    return 0;  \n",
    "} "
   ]
  },
  {
   "cell_type": "markdown",
   "metadata": {},
   "source": [
    "## void指针\n",
    "\n",
    "void指针很特殊,它有这样的性质:\n",
    "+ void指针可以指向任何数据类型,如果要将void指针赋给其他类型指针，则需要强制类型转换如：`pint= (int *)pvoid`\n",
    "+ **可以用任何类型的指针对void指针进行赋值和初始化**\n",
    "+ void指针无法进行指针操作\n",
    "    `void* p`就是一个典型的void指针,一般void指针用在内存操作,\n",
    "    \n",
    "因此void指针常用在:\n",
    "\n",
    "+ 内存操作\n",
    "+ 定义函数时,如果函数的参数可以是任意类型指针，那么应声明其参数为`void*`\n",
    "+ 作为指向函数的指针\n"
   ]
  },
  {
   "cell_type": "markdown",
   "metadata": {},
   "source": [
    "# 引用(reference)\n",
    "\n",
    "引用就是某一变量(目标)的一个别名,对引用的操作与对变量直接操作完全一样.\n",
    "\n",
    "引用的声明方法:\n",
    "\n",
    "```C++\n",
    "类型标识符 &引用名=目标变量名；\n",
    "```\n",
    "如下,定义引用ra,它是变量a的引用,即别名:\n",
    "\n",
    "```C++\n",
    "int a;\n",
    "\n",
    "int &ra=a;\n",
    "```\n",
    "\n",
    "1. &在此不是求地址运算符,而是起标识作用.\n",
    "\n",
    "2. 类型标识符是指目标变量的类型.\n",
    "\n",
    "3. 声明引用时,必须同时对其进行初始化.\n",
    "\n",
    "4. 引用声明完毕后,相当于目标变量有两个名称即该目标原名称和引用名,且不能再把该引用名作为其他变量名的别名.\n",
    "\n",
    "5. 声明一个引用,不是新定义了一个变量,它只表示该引用名是目标变量名的一个别名,它本身不是一种数据类型,因此引用本身不占存储单元,系统也不给引用分配存储单元.故:对引用求地址,就是对目标变量求地址.&ra与&a相等.\n",
    "\n",
    "6. 不能建立数组的引用.因为数组是一个由若干个元素所组成的集合,所以无法建立一个数组的别名。\n"
   ]
  },
  {
   "cell_type": "code",
   "execution_count": 11,
   "metadata": {},
   "outputs": [
    {
     "name": "stdout",
     "output_type": "stream",
     "text": [
      "Overwriting src/C8/reference_test.cpp\n"
     ]
    }
   ],
   "source": [
    "%%writefile src/C8/reference_test.cpp\n",
    "#include<iostream>\n",
    "using std::cout;\n",
    "using std::endl;\n",
    "        \n",
    "int main(){\n",
    "    int a=5;\n",
    "    int &b=a;\n",
    "    b=6;\n",
    "    cout<<\"a=\"<<a<<\",b=\"<<b<<endl;//a=6,b=6\n",
    "    int c=7;\n",
    "    b=c;\n",
    "    cout<<\"a=\"<<a<<\",b=\"<<b<<endl;//a=7,b=7\n",
    "    return 0;\n",
    "}"
   ]
  },
  {
   "cell_type": "code",
   "execution_count": 12,
   "metadata": {
    "collapsed": true
   },
   "outputs": [],
   "source": [
    "!g++-7 -o bin/reference_test src/C8/reference_test.cpp"
   ]
  },
  {
   "cell_type": "code",
   "execution_count": 13,
   "metadata": {},
   "outputs": [
    {
     "name": "stdout",
     "output_type": "stream",
     "text": [
      "a=6,b=6\r\n",
      "a=7,b=7\r\n"
     ]
    }
   ],
   "source": [
    "!./bin/reference_test"
   ]
  }
 ],
 "metadata": {
  "kernelspec": {
   "display_name": "Python 3",
   "language": "python",
   "name": "python3"
  },
  "language_info": {
   "codemirror_mode": {
    "name": "ipython",
    "version": 3
   },
   "file_extension": ".py",
   "mimetype": "text/x-python",
   "name": "python",
   "nbconvert_exporter": "python",
   "pygments_lexer": "ipython3",
   "version": "3.6.0"
  }
 },
 "nbformat": 4,
 "nbformat_minor": 1
}
