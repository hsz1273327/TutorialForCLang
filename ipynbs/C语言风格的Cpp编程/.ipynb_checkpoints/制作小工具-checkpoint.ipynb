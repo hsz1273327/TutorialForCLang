{
 "cells": [
  {
   "cell_type": "markdown",
   "metadata": {},
   "source": [
    "# 制作小工具\n",
    "\n",
    "\n",
    "在linux的世界里,很多工作都是由小工具完成的,它恐怕是现如今流行的`微服务`架构最早的实践了.\n",
    "\n",
    "所谓小工具有这样的特点:\n",
    "\n",
    "1. 从标准输入读取数据\n",
    "2. 在标准输出显示数据\n",
    "3. 处理文本数据，而不是难以阅读的二进制格式\n",
    "4. 只做一件简单的事\n",
    "\n",
    "通过标准输入输出可以方便的做重定向,而文本数据除了机器好读,人也好读.\n",
    "\n",
    "\n",
    "所谓重新定向是指使用`>`,`>>`作为输出,使用`<`,`<<`作为输入\n",
    "\n",
    "\n",
    "比较让人熟知的就是`grep`小工具了,它的作用是过滤掉文本中不含关键字的行.而一般我们都是拿他和其他工具配合使用的,比如我希望查看之前使用过的带`python`的历史记录,那就可以这样写:\n",
    "\n",
    "```shell\n",
    "history | grep python\n",
    "```\n",
    "\n",
    "当然了其他语言比如python也可以制作小工具,而且由于语法更加简单,抽象层次更高,实际上写起来会更加简单,但在这边用c/c++来做小工具有其合理的一面\n",
    "\n",
    "1. 不用依赖环境\n",
    "\n",
    "    c/c++不依赖于运行环境,只要编译通过了就可以运行二进制代码.而带有vm的语言比如java,python,脱离了vm就无法运行了\n",
    "    \n",
    "2. 高效\n",
    "\n",
    "    多数情况下,,相同的逻辑,C/C++制作的工具有最高的运行效率\n",
    "    \n",
    "3. 小巧\n",
    "\n",
    "    像go语言,也是编译成二进制后执行的语言,但由于其抽象层次更高,生成的代码比使用c/c++写的大得多,而c++如果使用模板的话也会比C写的大得多"
   ]
  },
  {
   "cell_type": "markdown",
   "metadata": {},
   "source": [
    "## 从一个例子开始\n",
    "\n",
    "我们来写一个gps数据格式转换工具,使用它我们可以将gps数据转化为符合规定的json格式,gps数据是形如:\n",
    "\n",
    "```\n",
    "42.363400,-71.098465,Speed = 21\n",
    "42.363400,-71.097588,Speed = 23\n",
    "42.363400,-71.098465,Speed = 27\n",
    ".\n",
    ".\n",
    ".\n",
    "```\n",
    "的csv数据\n",
    "\n",
    "而地图应用需要的格式则形如:\n",
    "\n",
    "```json\n",
    "data = [\n",
    "{latitude: 42.363400, longitude: -71.098465, info: 'Speed = 21'},\n",
    ".\n",
    ".\n",
    ".\n",
    "]\n",
    "```\n",
    "的json数据\n",
    "\n",
    "\n",
    "\n",
    "好,开始我们的小程序:"
   ]
  },
  {
   "cell_type": "code",
   "execution_count": 1,
   "metadata": {},
   "outputs": [
    {
     "name": "stdout",
     "output_type": "stream",
     "text": [
      "Overwriting src/C9/geo2json.cpp\n"
     ]
    }
   ],
   "source": [
    "%%writefile src/C9/geo2json.cpp\n",
    "#include <stdio.h>\n",
    "\n",
    "int main(){\n",
    "    float latitude;\n",
    "    float longitude;\n",
    "    char info[80];\n",
    "    int started = 0;\n",
    "    puts(\"data=[\");\n",
    "    while (scanf(\"%f,%f,%79[^\\n]\",&latitude,&longitude,&info) == 3){\n",
    "        if (started){\n",
    "            printf(\",\\n\");\n",
    "        } else {\n",
    "            started = 1;\n",
    "        }\n",
    "        printf(\"{latitude: %f, longitude: %f, info: '%s'}\",latitude,longitude,info);\n",
    "    }\n",
    "    puts(\"\\n]\");\n",
    "    return 0;\n",
    "}"
   ]
  },
  {
   "cell_type": "code",
   "execution_count": 2,
   "metadata": {
    "collapsed": true
   },
   "outputs": [],
   "source": [
    "!g++-7 -o bin/geo2json src/C9/geo2json.cpp"
   ]
  },
  {
   "cell_type": "code",
   "execution_count": 3,
   "metadata": {
    "collapsed": true
   },
   "outputs": [],
   "source": [
    "!./bin/geo2json < source/gpsdata.csv > source/gpsdata.json"
   ]
  },
  {
   "cell_type": "code",
   "execution_count": 4,
   "metadata": {},
   "outputs": [
    {
     "name": "stdout",
     "output_type": "stream",
     "text": [
      "data=[\r\n",
      "{latitude: 42.363400, longitude: -71.098465, info: 'Speed = 21'},\r\n",
      "{latitude: 42.363327, longitude: -71.097588, info: 'Speed = 23'},\r\n",
      "{latitude: 42.363255, longitude: -71.096710, info: 'Speed = 17'},\r\n",
      "{latitude: 42.363182, longitude: -71.095833, info: 'Speed = 22'},\r\n",
      "{latitude: 42.363110, longitude: -71.094955, info: 'Speed = 14'},\r\n",
      "{latitude: 42.363037, longitude: -71.094078, info: 'Speed = 16'},\r\n",
      "{latitude: 42.362965, longitude: -71.093201, info: 'Speed = 18'},\r\n",
      "{latitude: 42.362892, longitude: -71.092323, info: 'Speed = 22'},\r\n",
      "{latitude: 42.362820, longitude: -71.091446, info: 'Speed = 17'},\r\n",
      "{latitude: 42.362747, longitude: -71.090569, info: 'Speed = 23'},\r\n",
      "{latitude: 42.362675, longitude: -71.089691, info: 'Speed = 14'},\r\n",
      "{latitude: 42.362602, longitude: -71.088814, info: 'Speed = 19'},\r\n",
      "{latitude: 42.362530, longitude: -71.087936, info: 'Speed = 16'},\r\n",
      "{latitude: 42.362457, longitude: -71.087059, info: 'Speed = 16'},\r\n",
      "{latitude: 423.623840, longitude: -71.086182, info: 'Speed = 21'}\r\n",
      "]\r\n"
     ]
    }
   ],
   "source": [
    "!cat source/gpsdata.json"
   ]
  },
  {
   "cell_type": "markdown",
   "metadata": {},
   "source": [
    "### 数据验证\n",
    "\n",
    "不难发现,输入数据中有错误数据,我们的程序要加入一些验证逻辑来进行错误检验,当然了,错误信息应该输出在stderr里"
   ]
  },
  {
   "cell_type": "code",
   "execution_count": 5,
   "metadata": {},
   "outputs": [
    {
     "name": "stdout",
     "output_type": "stream",
     "text": [
      "Overwriting src/C9/geo2json.cpp\n"
     ]
    }
   ],
   "source": [
    "%%writefile src/C9/geo2json.cpp\n",
    "#include <stdio.h>\n",
    "\n",
    "int main(){\n",
    "    float latitude;\n",
    "    float longitude;\n",
    "    char info[80];\n",
    "    int started = 0;\n",
    "    puts(\"data=[\");\n",
    "    while (scanf(\"%f,%f,%79[^\\n]\",&latitude,&longitude,&info) == 3){\n",
    "        if (started){\n",
    "            printf(\",\\n\");\n",
    "        } else {\n",
    "            started = 1;\n",
    "        }\n",
    "        \n",
    "        if ((latitude < -90.0) || (latitude > 90.0)) {\n",
    "             fprintf(stderr,\"Invalid latitude: %f\\n\", latitude);\n",
    "             continue;\n",
    "        }\n",
    "        if ((longitude < -180.0) || (longitude > 180.0)) {\n",
    "             fprintf(stderr, \"Invalid longitude: %f\\n\", longitude);\n",
    "             continue;\n",
    "        }\n",
    "        \n",
    "        printf(\"{latitude: %f, longitude: %f, info: '%s'}\",latitude,longitude,info);\n",
    "    }\n",
    "    puts(\"\\n]\");\n",
    "    return 0;\n",
    "}"
   ]
  },
  {
   "cell_type": "code",
   "execution_count": 6,
   "metadata": {
    "collapsed": true
   },
   "outputs": [],
   "source": [
    "!g++-7 -o bin/geo2json src/C9/geo2json.cpp"
   ]
  },
  {
   "cell_type": "code",
   "execution_count": 7,
   "metadata": {},
   "outputs": [
    {
     "name": "stdout",
     "output_type": "stream",
     "text": [
      "Invalid latitude: 423.623840\r\n"
     ]
    }
   ],
   "source": [
    "!./bin/geo2json < source/gpsdata.csv > source/gpsdata.json"
   ]
  },
  {
   "cell_type": "code",
   "execution_count": 8,
   "metadata": {},
   "outputs": [
    {
     "name": "stdout",
     "output_type": "stream",
     "text": [
      "data=[\r\n",
      "{latitude: 42.363400, longitude: -71.098465, info: 'Speed = 21'},\r\n",
      "{latitude: 42.363327, longitude: -71.097588, info: 'Speed = 23'},\r\n",
      "{latitude: 42.363255, longitude: -71.096710, info: 'Speed = 17'},\r\n",
      "{latitude: 42.363182, longitude: -71.095833, info: 'Speed = 22'},\r\n",
      "{latitude: 42.363110, longitude: -71.094955, info: 'Speed = 14'},\r\n",
      "{latitude: 42.363037, longitude: -71.094078, info: 'Speed = 16'},\r\n",
      "{latitude: 42.362965, longitude: -71.093201, info: 'Speed = 18'},\r\n",
      "{latitude: 42.362892, longitude: -71.092323, info: 'Speed = 22'},\r\n",
      "{latitude: 42.362820, longitude: -71.091446, info: 'Speed = 17'},\r\n",
      "{latitude: 42.362747, longitude: -71.090569, info: 'Speed = 23'},\r\n",
      "{latitude: 42.362675, longitude: -71.089691, info: 'Speed = 14'},\r\n",
      "{latitude: 42.362602, longitude: -71.088814, info: 'Speed = 19'},\r\n",
      "{latitude: 42.362530, longitude: -71.087936, info: 'Speed = 16'},\r\n",
      "{latitude: 42.362457, longitude: -71.087059, info: 'Speed = 16'},\r\n",
      "\r\n",
      "]\r\n"
     ]
    }
   ],
   "source": [
    "!cat source/gpsdata.json"
   ]
  }
 ],
 "metadata": {
  "kernelspec": {
   "display_name": "Python 3",
   "language": "python",
   "name": "python3"
  },
  "language_info": {
   "codemirror_mode": {
    "name": "ipython",
    "version": 3
   },
   "file_extension": ".py",
   "mimetype": "text/x-python",
   "name": "python",
   "nbconvert_exporter": "python",
   "pygments_lexer": "ipython3",
   "version": "3.6.0"
  }
 },
 "nbformat": 4,
 "nbformat_minor": 2
}
