{
 "cells": [
  {
   "cell_type": "markdown",
   "metadata": {},
   "source": [
    "# 数据类型与变量常量\n",
    "\n",
    "## C++中的数据类型\n",
    "\n",
    "C++中的数据类型很少,但很繁琐,讲起来很容易乱套,这边有一张图很好的总结了C++中的数据类型,除了bool型外的数据类型都可以在其中找到对应\n",
    "\n",
    "![C++语言中的数据类型](img/Ctypes.jpg)\n",
    "\n",
    "\n",
    "short、int、long、char、float、double这6种被称为基本类型,他们除了意义不同精度不同,更加关键的是他们所占用的内存大小不同.\n",
    "在32 位的系统上:\n",
    "\n",
    "+ short 在32位的系统上占用2个byte；\n",
    "+ int 在32位的系统上占用4 个byte；\n",
    "+ long 在32位的系统上占用4 个byte；64位系统 8个byte\n",
    "+ float 在32位的系统上占用4 个byte；\n",
    "+ double 在32位的系统上占用8 个byte；\n",
    "+ char 在32位的系统上占用1 个byte。\n",
    "\n",
    "针对int,long,short,char,还有一个修饰关键词`unsigned`可以放在他们前面,表示无符号.\n",
    "\n",
    "\n",
    "另外处理大数可以使用longlong数据类型,表示一个8byte的数\n",
    "\n",
    "\n",
    "### 基本类型转换\n",
    "\n",
    "C++语言的类型转换，可以分为两种：\n",
    "\n",
    "+ 自动类型转换（隐式类型转换，有编译器帮你去完成）\n",
    "    \n",
    "    对于自动类型转换，最常见的就是混合运算以及赋值运算，还有一种就是函数值的类型转换\n",
    "    + 赋值运算：自动把“＝”右边的表达式的类型转换成“＝”右边的变量的类型，例如 int a=4.5; a的值实际是4！\n",
    "    + 混合运算：就是一个运算表达式当中包含了多个类型，这时候就需要有类型转换。当运算符两边的操作数类型不同时，其中一个操作数就要经过类型转换以和另一个操作数的类型相一致，然后才能进行运算。\n",
    "        变换操作数采取就高不就低的原则，即级别低的操作数先被转换成和级别高的操作数具有同一类型，然后再进行运算，结果的数据类型和级别高的操作数相同。\n",
    "           高        double    ←←    float\n",
    "           ↑          ↑             \n",
    "           ↑         long     \n",
    "           ↑          ↑\n",
    "           ↑        unsigned\n",
    "           ↑          ↑\n",
    "           低         int      ←←    char,short\n",
    "\n",
    "                 自动转换顺序表\n",
    "\n",
    "    + 函数返回值的类型转换： int f1(){ return 36.8;}\n",
    "    \n",
    "+ 强制类型转换（你知道自己想要什么，所以才转换）。\n",
    "    强制类型转换运算符\n",
    "    可以利用强制类型转换运算符将一个表达式转换成所需类型:\n",
    "    例如：\n",
    "        (double)a       (将a转换成double类型)\n",
    "        (int)(x+y)      (将x+y的值转换成整型)\n",
    "        (float)(5%3)    (将5%3的值转换成float型)\n",
    "\n",
    "    注意，表达式应该用括号括起来。如果写成(int)x+y 则只将x转换成整型，然后与y相加。"
   ]
  },
  {
   "cell_type": "markdown",
   "metadata": {},
   "source": [
    "## 变量\n",
    "\n",
    "和python中类似,C++中也有变量,变量的定义方式如下:\n",
    "\n",
    "```c\n",
    "int a,b,c...;\n",
    "```\n",
    "\n",
    "也就是\n",
    "\n",
    "```c\n",
    "(存储说明符 )数据类型 变量名1,变量名2...;\n",
    "```\n",
    "\n",
    "C++语言和python不同的是python的变量不需要事先声明,而C++语言必须事先声明,习惯上变量会在一起声明,而不是东一块西一块的,这样也有助于debug.\n",
    "\n",
    "存储说明符则是对变量特性的声明,常见的存储说明符有:\n",
    "\n",
    "+ static \n",
    "\n",
    "    静态局部变量,有时希望函数中的局部变量的值在函数调用结束后不消失而保留原值，这时就应该指定局部变量为\"静态局部变量\".它具有以下特点： \n",
    "    + 静态局部变量在函数内定义，但不象自动变量那样，当调用时就存在，退出函数时就消失。静态局部变量始终存在着，也就是说它的生存期为整个源程序。\n",
    "    + 静态局部变量的生存期虽然为整个源程序，但是其作用域仍与自动变量相同，即只能在定义该变量的函数内使用该变量。退出该函数后， 尽管该变量还继续存在，但不能使用它。\n",
    "    \n",
    "    \n",
    "+ register \n",
    "\n",
    "    寄存器变量,为了提高效率，C++ 语言允许将局部变量得值放在CPU中的寄存器中，这种变量叫\"寄存器变量\"\n",
    "    \n",
    "    \n",
    "+ extern \n",
    "\n",
    "    外部变量（即全局变量）是在函数的外部定义的，它的作用域为从变量定义处开始，到本程序文件的末尾。如果外部变量不在文件的开头定义，其有效的作用范围只限于定义处到文件终了。如果在定义点之前的函数想引用该外部变量，则应该在引用之前用关键字 extern对该变量作“外部变量声明”。表示该变量是一个已经定义的外部变量。有了此声明，就可以从“声明”处起，合法地使用该外部变量。\n",
    "\n",
    "\n",
    "总结：\n",
    "\n",
    ">从作用域来划分分为:\n",
    "                 \n",
    "+ 局部变量\n",
    "\n",
    "    + 静态局部变量static(离开函数，值还保留)\n",
    "    + 寄存器局部变量register(离开函数，值消失)\n",
    "    + 形式参数可以定义为自动变量或者register变量\n",
    "             \n",
    "+ 全局变量    \n",
    "\n",
    "    +  静态外部变量(作用域只能在该文件中，文件作用域)\n",
    "    +  外部变量(非静态外部变量,全局变量，可以被其它文件使用)\n",
    "\n",
    " \n",
    ">从变量的生存周期来分：\n",
    "\n",
    "+ 动态存储   \n",
    "\n",
    "    + 寄存器变量register\n",
    "    + 形式参数\n",
    "                \n",
    "+ 静态存储 \n",
    "\n",
    "    + 静态局部变量\n",
    "    + 静态外部变量\n",
    "    + 外部变量(全局变量)\n",
    "\n",
    " \n",
    "\n",
    "> 从变量值存放的位置：\n",
    "\n",
    "+ 内存中的静态存储区(全局数据区)\n",
    "\n",
    "    + 静态局部变量\n",
    "    + 静态外部变量\n",
    "    + 外部变量(全局变量)\n",
    "    \n",
    "\n",
    "+ 内存中的动态存储区(栈)\n",
    "\n",
    "    + 形式参数\n",
    "\n",
    "+ CPU中的寄存器 \n",
    "    + 寄存器变量register\n",
    "\n",
    "\n",
    "**注意:**当局部变量与全局变量重名的时候,和python一样,以局部变量为准,屏蔽全局变量"
   ]
  },
  {
   "cell_type": "markdown",
   "metadata": {},
   "source": [
    "## 常量\n",
    "\n",
    "常量是指值不可变的变量,C++语言中的常量其实一直以来都被误解,记得我学C的时候常量定义是这样的:\n",
    "\n",
    "```c\n",
    "#define Pi 3.14\n",
    "```\n",
    "其实这不是C++语言的常量,而是使用了所谓的宏,利用宏把3.14替换了Pi而已,你说这是常量吧也算,但C语言层面的常量定义方式实际上是这样的:\n",
    "```c\n",
    "const double Pi = 3.14;\n",
    "```\n",
    "\n"
   ]
  },
  {
   "cell_type": "markdown",
   "metadata": {},
   "source": [
    "Python中没有常量一说,我们就写一个例子来理解下什么是常量"
   ]
  },
  {
   "cell_type": "code",
   "execution_count": 1,
   "metadata": {},
   "outputs": [
    {
     "name": "stdout",
     "output_type": "stream",
     "text": [
      "Overwriting src/C2/constant.cpp\n"
     ]
    }
   ],
   "source": [
    "%%writefile src/C2/constant.cpp\n",
    "\n",
    "#include <stdio.h>\n",
    "\n",
    "const float Pi = 3.1415;\n",
    "\n",
    "int main(void){\n",
    "    int r;\n",
    "    float s;\n",
    "    r = 2;\n",
    "    s = Pi*r*r;\n",
    "    printf(\"半径2m圆的面积为:%f\\n\",s);\n",
    "\n",
    "    Pi = 3.14;\n",
    "    printf(\"Pi=%f\\n\",Pi);\n",
    "    return 0;\n",
    "}\n"
   ]
  },
  {
   "cell_type": "code",
   "execution_count": 2,
   "metadata": {},
   "outputs": [
    {
     "name": "stdout",
     "output_type": "stream",
     "text": [
      "\u001b[01m\u001b[Ksrc/C2/constant.cpp:\u001b[m\u001b[K In function '\u001b[01m\u001b[Kint main()\u001b[m\u001b[K':\r\n",
      "\u001b[01m\u001b[Ksrc/C2/constant.cpp:13:10:\u001b[m\u001b[K \u001b[01;31m\u001b[Kerror: \u001b[m\u001b[Kassignment of read-only variable '\u001b[01m\u001b[KPi\u001b[m\u001b[K'\r\n",
      "     Pi = \u001b[01;31m\u001b[K3.14\u001b[m\u001b[K;\r\n",
      "          \u001b[01;31m\u001b[K^~~~\u001b[m\u001b[K\r\n"
     ]
    }
   ],
   "source": [
    "!g++-7 -o bin/constant src/C2/constant.cpp"
   ]
  },
  {
   "cell_type": "markdown",
   "metadata": {},
   "source": [
    "看,常数赋值后就无法再次赋值,将这句注释掉"
   ]
  },
  {
   "cell_type": "code",
   "execution_count": 3,
   "metadata": {},
   "outputs": [
    {
     "name": "stdout",
     "output_type": "stream",
     "text": [
      "Overwriting src/C2/constant.cpp\n"
     ]
    }
   ],
   "source": [
    "%%writefile src/C2/constant.cpp\n",
    "\n",
    "#include <stdio.h>\n",
    "\n",
    "const float Pi = 3.1415;\n",
    "\n",
    "int main(void){\n",
    "    int r;\n",
    "    float s;\n",
    "    r = 2;\n",
    "    s = Pi*r*r;\n",
    "    printf(\"半径2m圆的面积为:%f\\n\",s);\n",
    "\n",
    "    //Pi = 3.14;\n",
    "    printf(\"Pi=%f\\n\",Pi);\n",
    "    return 0;\n",
    "}\n"
   ]
  },
  {
   "cell_type": "code",
   "execution_count": 4,
   "metadata": {
    "collapsed": true
   },
   "outputs": [],
   "source": [
    "!g++-7 -o bin/constant src/C2/constant.cpp"
   ]
  },
  {
   "cell_type": "code",
   "execution_count": 5,
   "metadata": {},
   "outputs": [
    {
     "name": "stdout",
     "output_type": "stream",
     "text": [
      "半径2m圆的面积为:12.566000\r\n",
      "Pi=3.141500\r\n"
     ]
    }
   ],
   "source": [
    "!bin/constant"
   ]
  },
  {
   "cell_type": "markdown",
   "metadata": {},
   "source": [
    "## 类型推导[C++11]\n",
    "\n",
    "### auto \n",
    "\n",
    "`auto`在C++11中是用于类型推断关键字,`auto`是一个类型的占位符,通知编译器去根据初始化代码推断所声明变量的真实类型.各种作用域内声明变量都可以用到它.例如,名空间中,程序块中,或是for循环的初始化语句中.也就是说我们可以像scala中一样直接用`var`定义变量了,只是变量必须后面有赋值,这点对pythoner来说简直就是必须的.\n",
    "\n",
    "需要注意的是，`auto`不能用来声明函数的返回值.但如果函数有一个尾随的返回类型时,`auto`是可以出现在函数声明中返回值位置.这种情况下,`auto`并不是告诉编译器去推断返回类型，而是指引编译器去函数的末端寻找返回值类型.在下面这个例子中，函数的返回值类型就是`operator`+操作符作用在T1、T2类型变量上的返回值类型."
   ]
  },
  {
   "cell_type": "code",
   "execution_count": 6,
   "metadata": {},
   "outputs": [
    {
     "name": "stdout",
     "output_type": "stream",
     "text": [
      "Overwriting src/C2/auto_test.cpp\n"
     ]
    }
   ],
   "source": [
    "%%writefile src/C2/auto_test.cpp\n",
    "#include <iostream>\n",
    "#include <vector>\n",
    "#include <math.h>\n",
    "using std::cout;\n",
    "using std::endl;\n",
    "using std::vector;\n",
    "\n",
    "int quadratic_sum(vector<int> &list){\n",
    "    auto sum=0;\n",
    "    auto quadratic = [](int x)->decltype(sum){return pow(x,2);};\n",
    "\n",
    "    for(auto i :list){\n",
    "        sum += quadratic(i);\n",
    "    }\n",
    "    return sum;\n",
    "}\n",
    "\n",
    "int main(){\n",
    "    vector<int> val = {1,2,3,4,5};\n",
    "    cout<< quadratic_sum(val) <<endl;\n",
    "    return 0;\n",
    "}"
   ]
  },
  {
   "cell_type": "code",
   "execution_count": 7,
   "metadata": {
    "collapsed": true
   },
   "outputs": [],
   "source": [
    "!g++-7 -o bin/auto_test src/C2/auto_test.cpp"
   ]
  },
  {
   "cell_type": "code",
   "execution_count": 8,
   "metadata": {},
   "outputs": [
    {
     "name": "stdout",
     "output_type": "stream",
     "text": [
      "55\r\n"
     ]
    }
   ],
   "source": [
    "!bin/auto_test"
   ]
  },
  {
   "cell_type": "markdown",
   "metadata": {},
   "source": [
    "### decltype\n",
    "\n",
    "decltype可以说是auto的反义,它的作用是可以根据变量推断类型来声明,比如我们不知道a的类型,但我们想让b和a类型相同局可以使用\n",
    "\n",
    "```C++\n",
    "auto x = 3;  \n",
    "decltype(x) y; \n",
    "```"
   ]
  }
 ],
 "metadata": {
  "kernelspec": {
   "display_name": "Python 3",
   "language": "python",
   "name": "python3"
  },
  "language_info": {
   "codemirror_mode": {
    "name": "ipython",
    "version": 3
   },
   "file_extension": ".py",
   "mimetype": "text/x-python",
   "name": "python",
   "nbconvert_exporter": "python",
   "pygments_lexer": "ipython3",
   "version": "3.6.0"
  }
 },
 "nbformat": 4,
 "nbformat_minor": 1
}
