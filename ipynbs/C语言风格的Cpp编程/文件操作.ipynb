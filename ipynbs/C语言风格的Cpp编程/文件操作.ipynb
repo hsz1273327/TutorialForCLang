{
 "cells": [
  {
   "cell_type": "markdown",
   "metadata": {},
   "source": [
    "# 文件操作\n",
    "\n",
    "通过重新定向标准输出当然是一种省时省力的方法,但当需要同时按需输出到不同的文件中时,这种方法就很不便利了,像python中可以使用`open`函数打开一个文件一样,C中也可以使用`fopen`来做到同样的效果,而且其用法与python中不用with上下文管理器的`open`用法几乎一样,不同之处只在它的输入输出使用`fscanf`和`fprintf`.\n",
    "\n",
    "`fopen`在`stdlib.h`中,他的返回值类型为`FILE`类型,它也需要指定文件的操作权限,可选的和python也差不多,`r`表示可读,`w`表示可写\n"
   ]
  },
  {
   "cell_type": "code",
   "execution_count": 1,
   "metadata": {},
   "outputs": [
    {
     "name": "stdout",
     "output_type": "stream",
     "text": [
      "Writing src/C13/geo2json_files.cpp\n"
     ]
    }
   ],
   "source": [
    "%%writefile src/C13/geo2json_files.cpp\n",
    "#include <stdio.h>\n",
    "#include <stdlib.h>\n",
    "#include <string.h>\n",
    "\n",
    "int main(int argc, char *args[]){\n",
    "  char line[80];\n",
    "  if (argc != 7){\n",
    "    fprintf(stderr, \"You need to give 6 arguments\\n\");\n",
    "    return 1;\n",
    "  }\n",
    "  FILE *in = fopen(args[6], \"r\");\n",
    "  FILE *file1 = fopen(args[2], \"w\");\n",
    "  FILE *file2 = fopen(args[4], \"w\");\n",
    "  FILE *file3 = fopen(args[5], \"w\");\n",
    "  while (fscanf(in, \"%79[^\\n]\\n\", line) == 1)\n",
    "  {\n",
    "    if (strstr(line, args[1]))\n",
    "      fprintf(file1, \"%s\\n\", line);\n",
    "    else if (strstr(line, args[3]))\n",
    "      fprintf(file2, \"%s\\n\", line);\n",
    "    else\n",
    "      fprintf(file3, \"%s\\n\", line);\n",
    "  }\n",
    "  fclose(file1);\n",
    "  fclose(file2);\n",
    "  fclose(file3);\n",
    "  return 0;\n",
    "}"
   ]
  },
  {
   "cell_type": "code",
   "execution_count": 2,
   "metadata": {
    "collapsed": true
   },
   "outputs": [],
   "source": [
    "!g++-7 -o bin/geo2json_files src/C13/geo2json_files.cpp"
   ]
  },
  {
   "cell_type": "code",
   "execution_count": 3,
   "metadata": {
    "collapsed": true
   },
   "outputs": [],
   "source": [
    "!./bin/geo2json_files mermaid source/mermaid.csv Elvis source/elvises.csv source/the_rest.csv source/gps_meta.csv"
   ]
  }
 ],
 "metadata": {
  "kernelspec": {
   "display_name": "Python 3",
   "language": "python",
   "name": "python3"
  },
  "language_info": {
   "codemirror_mode": {
    "name": "ipython",
    "version": 3
   },
   "file_extension": ".py",
   "mimetype": "text/x-python",
   "name": "python",
   "nbconvert_exporter": "python",
   "pygments_lexer": "ipython3",
   "version": "3.6.0"
  }
 },
 "nbformat": 4,
 "nbformat_minor": 2
}
