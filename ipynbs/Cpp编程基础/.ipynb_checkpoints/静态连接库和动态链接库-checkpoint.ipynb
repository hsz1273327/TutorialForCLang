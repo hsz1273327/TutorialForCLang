{
 "cells": [
  {
   "cell_type": "markdown",
   "metadata": {},
   "source": [
    "# 静态连接库和动态链接库\n",
    "\n",
    "静态链接库与动态链接库都是共享代码的方式,在linux中,动态链接库通常用.so为后缀，而静态链接库用.a为后缀。\n",
    "\n",
    "## 静态链接库\n",
    "\n",
    "当要使用静态链接库时，连接器会找出程序所需的函数，然后将它们拷贝到执行文件，由于这种拷贝是完整的，所以一旦连接成功，静态程序库也就不再需要了。\n",
    "\n",
    "### 静态链接库的优点 \n",
    "\n",
    "+ 代码装载速度快，执行速度略比动态链接库快； \n",
    "\n",
    "+ 只需保证在开发者的计算机中有正确的.LIB文件，在以二进制形式发布程序时不需考虑在用户的计算机上.LIB文件是否存在及版本问题，可避免DLL地狱等问题。 \n",
    "### 不足之处\n",
    "\n",
    "+ 使用静态链接生成的可执行文件体积较大，包含相同的公共代码，造成浪费\n",
    "\n"
   ]
  },
  {
   "cell_type": "markdown",
   "metadata": {},
   "source": [
    "## 创建静态库\n",
    "\n",
    "我们还是以之前的二维向量作为例子,代码请看'头文件与多文件编译'中的相关代码\n",
    "\n",
    "### 创建链接文件\n",
    "\n",
    "`.o`文件的意思是连接对象,他是编译静态库要用到的一个中间形态,使用gcc编译源文件成为连接对象文件"
   ]
  },
  {
   "cell_type": "code",
   "execution_count": 1,
   "metadata": {},
   "outputs": [
    {
     "name": "stdout",
     "output_type": "stream",
     "text": [
      "Overwriting src/C12/source/binary_operator.h\n"
     ]
    }
   ],
   "source": [
    "%%writefile src/C12/source/binary_operator.h\n",
    "#ifndef BINARY_OPERATOR_H\n",
    "    #define BINARY_OPERATOR_H//一般是文件名的大写 头文件结尾写上一行\n",
    "    #include \"binary_vector.h\"\n",
    "    BINARY_VECTOR add(BINARY_VECTOR,BINARY_VECTOR);\n",
    "    float mul(BINARY_VECTOR,BINARY_VECTOR);\n",
    "#endif\n"
   ]
  },
  {
   "cell_type": "code",
   "execution_count": 2,
   "metadata": {},
   "outputs": [
    {
     "name": "stdout",
     "output_type": "stream",
     "text": [
      "Overwriting src/C12/source/binary_operator.cpp\n"
     ]
    }
   ],
   "source": [
    "%%writefile src/C12/source/binary_operator.cpp\n",
    "\n",
    "#include \"binary_operator.h\"\n",
    "BINARY_VECTOR add(BINARY_VECTOR a,BINARY_VECTOR b){\n",
    "    BINARY_VECTOR result = {a.x+b.x,a.y+b.y};\n",
    "    return result;\n",
    "}\n",
    "float mul(BINARY_VECTOR a,BINARY_VECTOR b){\n",
    "    float result = a.x*b.x+a.y*b.y;\n",
    "    return result;\n",
    "}"
   ]
  },
  {
   "cell_type": "code",
   "execution_count": 3,
   "metadata": {},
   "outputs": [],
   "source": [
    "!g++-7 -c src/C12/source/binary_operator.cpp -o lib/C12/binary_operator.o"
   ]
  },
  {
   "cell_type": "code",
   "execution_count": 4,
   "metadata": {},
   "outputs": [
    {
     "name": "stdout",
     "output_type": "stream",
     "text": [
      "Overwriting src/C12/source/unary_operator.h\n"
     ]
    }
   ],
   "source": [
    "%%writefile src/C12/source/unary_operator.h\n",
    "#ifndef UNARY_OPERATOR_H\n",
    "    #define UNARY_OPERATOR_H//一般是文件名的大写 头文件结尾写上一行\n",
    "    #include \"binary_vector.h\"\n",
    "    #include <math.h>\n",
    "    float mod(BINARY_VECTOR);\n",
    "#endif"
   ]
  },
  {
   "cell_type": "code",
   "execution_count": 5,
   "metadata": {},
   "outputs": [
    {
     "name": "stdout",
     "output_type": "stream",
     "text": [
      "Overwriting src/C12/source/unary_operator.cpp\n"
     ]
    }
   ],
   "source": [
    "%%writefile src/C12/source/unary_operator.cpp\n",
    "#include \"unary_operator.h\"\n",
    "float mod(BINARY_VECTOR a){\n",
    "    float result = sqrt(a.x*a.x+a.y*a.y);\n",
    "    return result;\n",
    "}\n"
   ]
  },
  {
   "cell_type": "code",
   "execution_count": 6,
   "metadata": {},
   "outputs": [],
   "source": [
    "!g++-7 -c src/C12/source/unary_operator.cpp -o lib/C12/unary_operator.o"
   ]
  },
  {
   "cell_type": "markdown",
   "metadata": {},
   "source": [
    "### 生成静态库文件.a\n",
    "\n",
    "\n",
    "一般我们用ar（archive，归档的意思）把多个目标文件集合起来生成.a文件"
   ]
  },
  {
   "cell_type": "code",
   "execution_count": 7,
   "metadata": {
    "collapsed": true
   },
   "outputs": [],
   "source": [
    "!ar -r lib/C12/libbvector.a lib/C12/binary_operator.o lib/C12/unary_operator.o"
   ]
  },
  {
   "cell_type": "markdown",
   "metadata": {},
   "source": [
    "### 调用静态库\n",
    "\n",
    "我们需要为静态库编写一个头文件用以声明库中的内容"
   ]
  },
  {
   "cell_type": "code",
   "execution_count": 8,
   "metadata": {},
   "outputs": [
    {
     "name": "stdout",
     "output_type": "stream",
     "text": [
      "Overwriting src/C12/source/binary_vector.h\n"
     ]
    }
   ],
   "source": [
    "%%writefile src/C12/source/binary_vector.h\n",
    "#ifndef BINARY_VECTOR_H\n",
    "#define BINARY_VECTOR_H//一般是文件名的大写 头文件结尾写上一行\n",
    "\n",
    "\n",
    "typedef struct {\n",
    "    float x;\n",
    "    float y;\n",
    "} BINARY_VECTOR;\n",
    "\n",
    "\n",
    "#endif"
   ]
  },
  {
   "cell_type": "markdown",
   "metadata": {},
   "source": [
    "然后编写一个测试文件(静态库动态库测试文件代码相同)"
   ]
  },
  {
   "cell_type": "code",
   "execution_count": 9,
   "metadata": {},
   "outputs": [
    {
     "name": "stdout",
     "output_type": "stream",
     "text": [
      "Overwriting src/C12/sll/test.cpp\n"
     ]
    }
   ],
   "source": [
    "%%writefile src/C12/sll/test.cpp\n",
    "\n",
    "#include <stdio.h>\n",
    "#include \"bvector.h\"\n",
    "\n",
    "\n",
    "int main(void){\n",
    "    BINARY_VECTOR A = {1,2},B = {3,4};\n",
    "    printf(\"mod(A)=%f\\n\",mod(A));\n",
    "    printf(\"mod(B)=%f\\n\",mod(B));\n",
    "    printf(\"mul(A,B)=%f\\n\",mul(A,B));\n",
    "    BINARY_VECTOR result = add(A,B);\n",
    "    printf(\"add(A,B)=<%f,%f>\\n\",result.x,result.y);\n",
    "}"
   ]
  },
  {
   "cell_type": "markdown",
   "metadata": {},
   "source": [
    "使用g++ 编译我们的测试文件"
   ]
  },
  {
   "cell_type": "code",
   "execution_count": 10,
   "metadata": {
    "collapsed": true
   },
   "outputs": [],
   "source": [
    "!g++-7 src/C12/sll/test.cpp -L lib/C12 -l bvector -I lib/C12 -o bin/slltest "
   ]
  },
  {
   "cell_type": "code",
   "execution_count": 11,
   "metadata": {},
   "outputs": [
    {
     "name": "stdout",
     "output_type": "stream",
     "text": [
      "mod(A)=2.236068\r\n",
      "mod(B)=5.000000\r\n",
      "mul(A,B)=11.000000\r\n",
      "add(A,B)=<4.000000,6.000000>\r\n"
     ]
    }
   ],
   "source": [
    "!bin/slltest"
   ]
  },
  {
   "cell_type": "markdown",
   "metadata": {},
   "source": [
    "+ -L 选项告诉编译器去哪里找需要的库文件\n",
    "+ -l -lbvector告诉编译器要链接libbvector库\n",
    "+ -I 选项告诉去哪个文件夹下找头文件"
   ]
  },
  {
   "cell_type": "markdown",
   "metadata": {},
   "source": [
    "## 动态链接库\n",
    "\n",
    "某个程序在运行中要调用某个动态链接库函数的时候，操作系统首先会查看所有正在运行的程序，看在内存里是否已有此库函数的拷贝了。如果有，则让其共享那一个拷贝；只有没有才链接载入。在程序运行的时候，被调用的动态链接库函数被安置在内存的某个地方，所有调用它的程序将指向这个代码段。因此，这些代码必须使用相对地址，而不是绝对地址。在编译的时候，我们需要告诉编译器，这些对象文件是用来做动态链接库的，所以要用地址不无关代码（Position Independent Code (PIC))。\n",
    "\n",
    "注意：Linux下进行连接的缺省操作是首先连接动态库，也就是说，如果同时存在静态和动态库，不特别指定的话，将与动态库相连接。\n",
    "\n",
    "\n",
    "###  动态链接库的优点 \n",
    "\n",
    "+ 更加节省内存并减少页面交换；\n",
    "\n",
    "+ 动态链接文件与可执行文件独立，只要输出接口不变（即名称、参数、返回值类型和调用约定不变），更换动态链接文件不会对可执行文件造成任何影响，因而极大地提高了可维护性和可扩展性；\n",
    "\n",
    "+ 不同编程语言编写的程序只要按照函数调用约定就可以调用同一个动态函数；\n",
    "\n",
    "+ 适用于大规模的软件开发，使开发过程独立、耦合度小，便于不同开发者和开发组织之间进行开发和测试。\n",
    "\n",
    "### 不足之处\n",
    "\n",
    "+ 使用动态链接库的应用程序不是自完备的，它依赖的动态模块也要存在，如果使用载入时动态链接，程序启动时发现动态模块不存在，系统将终止程序并给出错误信息。而使用运行时动态链接，系统不会终止，但由于动态库中的导出函数不可用，程序会加载失败\n",
    "+ 速度比静态链接慢。当某个模块更新后，如果新模块与旧的模块不兼容，那么那些需要该模块才能运行的软件，统统撕掉。"
   ]
  },
  {
   "cell_type": "markdown",
   "metadata": {},
   "source": [
    "### 编译动态链接库"
   ]
  },
  {
   "cell_type": "code",
   "execution_count": 12,
   "metadata": {
    "collapsed": true
   },
   "outputs": [],
   "source": [
    "!g++-7 src/C12/source/binary_operator.cpp src/C12/source/unary_operator.cpp  -fPIC -shared -o lib/C12/libbvct.so"
   ]
  },
  {
   "cell_type": "markdown",
   "metadata": {},
   "source": [
    "使用g++编译我们的测试文件"
   ]
  },
  {
   "cell_type": "code",
   "execution_count": 13,
   "metadata": {},
   "outputs": [
    {
     "name": "stdout",
     "output_type": "stream",
     "text": [
      "Writing src/C12/dll/test.cpp\n"
     ]
    }
   ],
   "source": [
    "%%writefile src/C12/dll/test.cpp\n",
    "#include <stdio.h>\n",
    "#include \"bvector.h\"\n",
    "\n",
    "\n",
    "int main(void){\n",
    "    BINARY_VECTOR A = {1,2},B = {3,4};\n",
    "    printf(\"mod(A)=%f\\n\",mod(A));\n",
    "    printf(\"mod(B)=%f\\n\",mod(B));\n",
    "    printf(\"mul(A,B)=%f\\n\",mul(A,B));\n",
    "    BINARY_VECTOR result = add(A,B);\n",
    "    printf(\"add(A,B)=<%f,%f>\\n\",result.x,result.y);\n",
    "}"
   ]
  },
  {
   "cell_type": "code",
   "execution_count": 14,
   "metadata": {
    "collapsed": true
   },
   "outputs": [],
   "source": [
    "!g++-7 src/C12/dll/test.cpp -L lib/C12 -l bvct -I lib/C12 -o bin/dlltest "
   ]
  },
  {
   "cell_type": "code",
   "execution_count": 15,
   "metadata": {},
   "outputs": [
    {
     "name": "stdout",
     "output_type": "stream",
     "text": [
      "mod(A)=2.236068\r\n",
      "mod(B)=5.000000\r\n",
      "mul(A,B)=11.000000\r\n",
      "add(A,B)=<4.000000,6.000000>\r\n"
     ]
    }
   ],
   "source": [
    "!bin/dlltest "
   ]
  },
  {
   "cell_type": "code",
   "execution_count": null,
   "metadata": {
    "collapsed": true
   },
   "outputs": [],
   "source": []
  }
 ],
 "metadata": {
  "kernelspec": {
   "display_name": "Python 3",
   "language": "python",
   "name": "python3"
  },
  "language_info": {
   "codemirror_mode": {
    "name": "ipython",
    "version": 3
   },
   "file_extension": ".py",
   "mimetype": "text/x-python",
   "name": "python",
   "nbconvert_exporter": "python",
   "pygments_lexer": "ipython3",
   "version": "3.6.0"
  }
 },
 "nbformat": 4,
 "nbformat_minor": 1
}
