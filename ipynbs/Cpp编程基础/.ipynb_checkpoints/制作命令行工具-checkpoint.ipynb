{
 "cells": [
  {
   "cell_type": "markdown",
   "metadata": {},
   "source": [
    "## 用C/C++构建命令行工具\n",
    "\n",
    "`unistd.h`是C语言的一个准标准库,它是linux,mac osx等类unix系统的自带的库,但windows并不支持.要在windows下使用需要自己写一个头文件,如下:\n",
    "\n",
    "```cpp\n",
    "/** This file is part of the Mingw32 package. \n",
    "*  unistd.h maps     (roughly) to io.h \n",
    "*/  \n",
    "#ifndef _UNISTD_H  \n",
    "#define _UNISTD_H  \n",
    "#include <io.h>  \n",
    "#include <process.h>  \n",
    "#endif /* _UNISTD_H */ \n",
    "\n",
    "```\n",
    "\n",
    "\n",
    "使用它便利的构建命令行工具`getopt`\n",
    "\n",
    "`getopt()`用来分析命令行参数.参数`argc`和`argv`是由`main()`传递的参数个数和内容.参数`optstring`则代表欲处理的选项字符串.此函数会返回在`argv`中下一个的选项字母,此字母会对应参数`optstring`中的字母.如果选项字符串里的字母后接着冒号\":\".则表示还有相关的参数,全域变量`optarg` 即会指向此额外参数.如果`getopt()`找不到符合的参数则会印出错信息,并将全域变量`optopt`设为\"?\"字符,如果不希望`getopt()`印出错信息,则只要将全域变量`opterr`设为0即可.\n",
    "\n",
    "### 短参数的定义\n",
    "\n",
    "`getopt()`使用`optstring`所指的字串作为短参数列表,像`\"1ac:d::\"`就是一个短参数列表.短参数的定义是一个`'-'`后面跟一个字母或数字,象`-a`, `-b`就是一个短参数.每个数字或字母定义一个参数.\n",
    "\n",
    "其中短参数在`getopt`定义里分为三种：\n",
    "\n",
    "+ 不带值的参数,它的定义即是参数本身\n",
    "+ 必须带值的参数,它的定义是在参数本身后面再加一个冒号\n",
    "+ 可选值的参数,它的定义是在参数本身后面加两个冒号\n",
    "\n",
    "在这里拿上面的`\"1ac:d::\"`作为样例进行说明,其中的\n",
    "+ `1`,`a`就是不带值的参数\n",
    "+ `c`是必须带值的参数\n",
    "+ `d`是可选值的参数\n",
    "\n",
    "在实际调用中，`'-1 -a -c cvalue -d'`, `'-1 -a -c cvalue -ddvalue'`, `'-1a -ddvalue -c cvalue'`都是合法的.\n",
    "这里需要注意三点:\n",
    "\n",
    "+ 不带值的参数可以连写,像`1`和`a`是不带值的参数,它们可以`-1` `-a`分开写,也可以`-1a`或`-a1`连写.\n",
    "+ 参数不分先后顺序,`'-1a -c cvalue -ddvalue'`和`'-d -c cvalue -a1'`的解析结果是一样的.\n",
    "+ 要注意可选值的参数的值与参数之间不能有空格,必须写成`-ddvalue`这样的格式,如果写成`-d dvalue`这样的格式就会解析错误.\n",
    "\n",
    "### 返回值\n",
    "\n",
    "`getopt()`每次调用会逐次返回命令行传入的参数. 　 \n",
    "+ 当没有参数的最后的一次调用时,`getopt()`将返回-1.　 \n",
    "+ 当解析到一个不在`optstring`里面的参数，或者一个必选值参数不带值时,返回'?'.　 \n",
    "+ 当`optstring`是以':'开头时,缺值参数的情况下会返回':',而不是'?'."
   ]
  },
  {
   "cell_type": "code",
   "execution_count": 1,
   "metadata": {},
   "outputs": [
    {
     "name": "stdout",
     "output_type": "stream",
     "text": [
      "Writing src/C10/sqrt_opt.cpp\n"
     ]
    }
   ],
   "source": [
    "%%writefile src/C10/sqrt_opt.cpp\n",
    "#include <stdlib.h>\n",
    "#include <unistd.h>\n",
    "#include <iostream>\n",
    "#include <string>\n",
    "#include <math.h>\n",
    "using std::string;\n",
    "using std::cout;\n",
    "using std::endl;\n",
    "\n",
    "int main(int argc, char **argv)  {  \n",
    "    int ch; \n",
    "    double result;\n",
    "    opterr = 0;  \n",
    "    string version = \"0.1.0\";\n",
    "    while ((ch = getopt(argc,argv,\"s:v\\n\"))!=-1){  \n",
    "        switch(ch){  \n",
    "            case 'v':  \n",
    "                cout<<(\"option v: %s\\n\",version)<<endl;  \n",
    "                break;  \n",
    "            case 's':\n",
    "                result = sqrt(atoi(optarg));\n",
    "                cout<<(\"%f\\n\",result)<<endl;\n",
    "                break;\n",
    "            default:  \n",
    "                cout<<\"wrong args\\n\"<<endl;  \n",
    "        }  \n",
    "    }  \n",
    "    return 0;\n",
    "}  "
   ]
  },
  {
   "cell_type": "code",
   "execution_count": 2,
   "metadata": {
    "collapsed": true
   },
   "outputs": [],
   "source": [
    "!g++-7 -o bin/sqrt_opt src/C10/sqrt_opt.cpp"
   ]
  },
  {
   "cell_type": "code",
   "execution_count": 3,
   "metadata": {},
   "outputs": [
    {
     "name": "stdout",
     "output_type": "stream",
     "text": [
      "0.1.0\r\n"
     ]
    }
   ],
   "source": [
    "!./bin/sqrt_opt -v"
   ]
  },
  {
   "cell_type": "code",
   "execution_count": 4,
   "metadata": {},
   "outputs": [
    {
     "name": "stdout",
     "output_type": "stream",
     "text": [
      "6\r\n"
     ]
    }
   ],
   "source": [
    "!./bin/sqrt_opt -s36"
   ]
  }
 ],
 "metadata": {
  "kernelspec": {
   "display_name": "Python 3",
   "language": "python",
   "name": "python3"
  },
  "language_info": {
   "codemirror_mode": {
    "name": "ipython",
    "version": 3
   },
   "file_extension": ".py",
   "mimetype": "text/x-python",
   "name": "python",
   "nbconvert_exporter": "python",
   "pygments_lexer": "ipython3",
   "version": "3.6.0"
  }
 },
 "nbformat": 4,
 "nbformat_minor": 2
}
