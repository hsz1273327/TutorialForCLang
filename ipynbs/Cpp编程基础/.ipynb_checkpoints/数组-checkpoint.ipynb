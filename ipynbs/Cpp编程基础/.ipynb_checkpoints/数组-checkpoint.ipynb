{
 "cells": [
  {
   "cell_type": "markdown",
   "metadata": {},
   "source": [
    "# 数组\n",
    "\n",
    "数组是一连串固定个数的同类型的数据,他们是一段连续的内存空间,数组是最高效也是最简单的数据结构,它的声明方式:\n",
    "\n",
    "```c\n",
    "类型 变量名[元素个数];\n",
    "```\n",
    "如果是多维数组,则可以是:\n",
    "\n",
    "```c\n",
    "类型 变量名[元素个数][元素个数][元素个数]...;\n",
    "```\n",
    "\n",
    "数组可以通过下标访问内部元素,下标从0开始计数,c语言中数组的大小也是有限制的,尤其在函数内部定义的数组长度是很有限的.各个编译器不同,但一般还是够用的,但最好不要定义过大,以避免栈溢出\n",
    "\n",
    "## 数组初始化\n",
    "\n",
    "C++语言是比较原始的,声明的数组不会自动初始化,必须手动实现,以一个一维数组为例:\n",
    "\n",
    "```c\n",
    "int arrayA[5] = {0,0,0,0,0};\n",
    "```\n",
    "而多维数组的初始化不过是将其中的元素替换为数组而已\n",
    "\n",
    "```c\n",
    "int arrayA[5][2] = {{0,0},{0,0},{0,0},{0,0},{0,0}};\n",
    "```\n",
    "如果不初始化而直接访问声明的数组,那么你会看到其中的元素是不知道啥玩意儿\n",
    "\n",
    "## 访问数组元素\n",
    "\n",
    "和python中的list,tuple类似,C++中访问数组的元素也是使用`[i]`的形式\n",
    "\n",
    "## 数组作为函数参数\n",
    "\n",
    "+ 一维数组作为函数参数可以不写长度\n",
    "+ 二维数组作为函数参数可以不写行数,但列数必须写\n",
    "\n",
    "## 数组越界问题\n",
    "\n",
    "C++语言算是比较原始的,数组的下标如果超过数组本身长度,编译器是可以编译的,也可以正常执行,就是结果会很诡异,因此需要避免."
   ]
  },
  {
   "cell_type": "markdown",
   "metadata": {},
   "source": [
    "## 用数组模拟矩阵\n",
    "\n",
    "很多时候我们希望利用C++扩展python的矩阵运算性能,这种时候多维数组就是我们最常接触的工具了\n"
   ]
  },
  {
   "cell_type": "markdown",
   "metadata": {},
   "source": [
    "> 例,计算矩阵$\\left(\\begin{matrix}1 & 2 &3\\\\4 & 5 & 6\\end{matrix}\\right)$中最大的元素"
   ]
  },
  {
   "cell_type": "code",
   "execution_count": 5,
   "metadata": {},
   "outputs": [
    {
     "name": "stdout",
     "output_type": "stream",
     "text": [
      "Overwriting ../src/C1/section7/matrix_maxelem.cpp\n"
     ]
    }
   ],
   "source": [
    "%%writefile ../src/C1/section7/matrix_maxelem.cpp\n",
    "#include <stdio.h>\n",
    "\n",
    "\n",
    "int main(void){\n",
    "    int max_elem = 0;\n",
    "    int matrix[3][2] = {{1,4},{2,5},{3,6}};\n",
    "    for (int i = 0;i<3;i++){\n",
    "        for (int j = 0;j<2;j++){\n",
    "            if (matrix[i][j]>=max_elem) {\n",
    "                max_elem = matrix[i][j];\n",
    "            }\n",
    "        }\n",
    "    }\n",
    "    printf(\"max element is %d\\n\",max_elem);\n",
    "    return 0;\n",
    "}\n",
    "\n"
   ]
  },
  {
   "cell_type": "code",
   "execution_count": 6,
   "metadata": {
    "collapsed": true
   },
   "outputs": [],
   "source": [
    "!gcc-7 -o ../bin/matrix_maxelem ../src/C1/section7/matrix_maxelem.cpp"
   ]
  },
  {
   "cell_type": "code",
   "execution_count": 7,
   "metadata": {},
   "outputs": [
    {
     "name": "stdout",
     "output_type": "stream",
     "text": [
      "max element is 6\r\n"
     ]
    }
   ],
   "source": [
    "!../bin/matrix_maxelem"
   ]
  },
  {
   "cell_type": "markdown",
   "metadata": {},
   "source": [
    "## stl中的数组\n",
    "\n",
    "在c++的stl中有数组模板,可以更加方便直观的定义和使用数组:\n",
    "\n",
    "```cpp\n",
    "#include <array>\n",
    "\n",
    ".\n",
    ".\n",
    ".\n",
    "std::array<T,n> arrayname;\n",
    ".\n",
    ".\n",
    ".\n",
    "```\n",
    "\n",
    "array满足迭代器协议,因此可以使用"
   ]
  },
  {
   "cell_type": "code",
   "execution_count": 24,
   "metadata": {},
   "outputs": [
    {
     "name": "stdout",
     "output_type": "stream",
     "text": [
      "Overwriting ../src/C1/section7/matrix_array.cpp\n"
     ]
    }
   ],
   "source": [
    "%%writefile ../src/C1/section7/matrix_array.cpp\n",
    "#include <stdio.h>\n",
    "#include <array>\n",
    "\n",
    "\n",
    "int main(void){\n",
    "    auto max_elem = 0;\n",
    "    std::array<std::array<int, 2>, 3> matrix{std::array<int, 2>{1,4},\n",
    "                                             std::array<int, 2>{2,5},\n",
    "                                             std::array<int, 2>{3,6}};\n",
    "    for (const auto& ary : matrix) {\n",
    "        for (const auto& item : ary) {\n",
    "            if (item >= max_elem) {\n",
    "                max_elem = item;\n",
    "            }\n",
    "        }\n",
    "    }\n",
    "    printf(\"max element is %d\\n\",max_elem);\n",
    "    return 0;\n",
    "}\n"
   ]
  },
  {
   "cell_type": "code",
   "execution_count": 25,
   "metadata": {},
   "outputs": [],
   "source": [
    "!gcc-7 -o ../bin/matrix_array ../src/C1/section7/matrix_array.cpp"
   ]
  },
  {
   "cell_type": "code",
   "execution_count": 26,
   "metadata": {},
   "outputs": [
    {
     "name": "stdout",
     "output_type": "stream",
     "text": [
      "max element is 6\r\n"
     ]
    }
   ],
   "source": [
    "!../bin/matrix_array"
   ]
  },
  {
   "cell_type": "code",
   "execution_count": null,
   "metadata": {
    "collapsed": true
   },
   "outputs": [],
   "source": []
  }
 ],
 "metadata": {
  "kernelspec": {
   "display_name": "Python 3",
   "language": "python",
   "name": "python3"
  },
  "language_info": {
   "codemirror_mode": {
    "name": "ipython",
    "version": 3
   },
   "file_extension": ".py",
   "mimetype": "text/x-python",
   "name": "python",
   "nbconvert_exporter": "python",
   "pygments_lexer": "ipython3",
   "version": "3.6.0"
  }
 },
 "nbformat": 4,
 "nbformat_minor": 1
}
