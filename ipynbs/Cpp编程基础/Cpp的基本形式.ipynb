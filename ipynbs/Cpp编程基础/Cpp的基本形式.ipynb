{
 "cells": [
  {
   "cell_type": "markdown",
   "metadata": {},
   "source": [
    "# C/C++的基本形式\n",
    "\n",
    "C语言理工科学生本科都学过,暂且不管教的对不对好不好,总归是有个概念的.\n",
    "\n",
    "C++可以看做是C语言的一个威力加强版,因此C++向下兼容多数C语言的特性,如果把c++按c的写法来写,一个最简单的C++语言程序源文件如下:"
   ]
  },
  {
   "cell_type": "code",
   "execution_count": 1,
   "metadata": {},
   "outputs": [
    {
     "name": "stdout",
     "output_type": "stream",
     "text": [
      "Overwriting ../src/c1/section1/helloworldc.cpp\n"
     ]
    }
   ],
   "source": [
    "%%writefile ../src/c1/section1/helloworldc.cpp\n",
    "#include <stdio.h>\n",
    "\n",
    "int main(void){\n",
    "    printf(\"hello world\");\n",
    "    return 0;\n",
    "}"
   ]
  },
  {
   "cell_type": "markdown",
   "metadata": {},
   "source": [
    "上面是名为`helloworld.cpp`的源文件,和python一样,C++语言需要有源文件,源文件就是人能看得懂的写给机器执行的文件\n",
    "这个源文件有如下几个部分:\n",
    "\n",
    "+ 引入头文件,c和c++中的头文件引入都是在标记位置直接复制文件中的内容,这会引起一些循环依赖之类的问题,\n",
    "+ 入口函数main函数,函数会在后面详细讲解,这边只要先记住形式,入口函数有固定的写法.这边先记住是这样就好.\n",
    "+ 入口函数在`{}`块包围中有用分号断句的语句这些语句就是函数要执行的步骤了,C语言是面向过程语言,说简单点就是写好编译好了程序就按顺序一步一步执行"
   ]
  },
  {
   "cell_type": "markdown",
   "metadata": {},
   "source": [
    "## C++源程序的编译\n",
    "\n",
    "和python不同,C++不是动态语言,必须静态的编译成可执行文件才能运行,python使用pvm解释生成字节码执行,而C++使用编译工具直接将源文件编译为机器可以执行的二进制文件.\n",
    "\n",
    "由于平台不同,常见的C++编译器也不同,linux下最常见的是g++工具,mac下是clang,而window则是使用集成开发环境vs来编译,本文在mac下编写,所以使用的是clang,但g++和clang基本一样,所以linux下也可以按这个来.\n",
    "\n",
    "编译上面的源文件"
   ]
  },
  {
   "cell_type": "code",
   "execution_count": 2,
   "metadata": {
    "collapsed": true
   },
   "outputs": [],
   "source": [
    "!g++-7 -o ../bin/helloworldc ../src/c1/section1/helloworldc.cpp"
   ]
  },
  {
   "cell_type": "code",
   "execution_count": 3,
   "metadata": {},
   "outputs": [
    {
     "name": "stdout",
     "output_type": "stream",
     "text": [
      "hello world"
     ]
    }
   ],
   "source": [
    "!../bin/helloworldc"
   ]
  },
  {
   "cell_type": "markdown",
   "metadata": {},
   "source": [
    "一个更加典型的C++helloworld:"
   ]
  },
  {
   "cell_type": "code",
   "execution_count": 4,
   "metadata": {},
   "outputs": [
    {
     "name": "stdout",
     "output_type": "stream",
     "text": [
      "Writing ../src/c1/section1/helloworld.cpp\n"
     ]
    }
   ],
   "source": [
    "%%writefile ../src/c1/section1/helloworld.cpp\n",
    "\n",
    "#include <iostream>\n",
    "#include <string>\n",
    "\n",
    "using std::string;\n",
    "using std::cout;\n",
    "using std::endl;\n",
    "\n",
    "namespace helloworld {\n",
    "    class Helloworld {\n",
    "        private:\n",
    "        string name;\n",
    "        public:\n",
    "        void print(){\n",
    "                cout << \"hello world \" << (this->name) << \"!\" << endl;\n",
    "        }\n",
    "        Helloworld(){\n",
    "                cout << \"输入你的名字\" << endl;\n",
    "                std::cin >> (this->name);\n",
    "        }\n",
    "        Helloworld(string name){\n",
    "                this->name = name;\n",
    "        }\n",
    "    };\n",
    "}\n",
    "\n",
    "int main(){\n",
    "        namespace h=helloworld;\n",
    "        h::Helloworld hello;\n",
    "        hello.print();\n",
    "        return 0;\n",
    "}"
   ]
  },
  {
   "cell_type": "code",
   "execution_count": 5,
   "metadata": {
    "collapsed": true
   },
   "outputs": [],
   "source": [
    "!g++-7 -o ../bin/helloworld ../src/c1/section1/helloworld.cpp"
   ]
  },
  {
   "cell_type": "code",
   "execution_count": 6,
   "metadata": {},
   "outputs": [
    {
     "name": "stdout",
     "output_type": "stream",
     "text": [
      "输入你的名字\n",
      "^C\n"
     ]
    }
   ],
   "source": [
    "!../bin/helloworld"
   ]
  },
  {
   "cell_type": "markdown",
   "metadata": {},
   "source": [
    "mac下g++其实是连接到clang的, g++使用`-o`参数指出编译出来的文件放置地址."
   ]
  },
  {
   "cell_type": "markdown",
   "metadata": {},
   "source": [
    "## C++中的注释\n",
    "\n",
    "不同于python,c++的行注释使用`//`,而段注释使用`/**/`"
   ]
  },
  {
   "cell_type": "markdown",
   "metadata": {},
   "source": [
    "## 标准库引用\n",
    "\n",
    "C/C++都使用`#include <...>`引入模块,但C的标准库使用`#include <xxx.h>`,而C++的标准库使用`#include <xxx>`\n"
   ]
  },
  {
   "cell_type": "markdown",
   "metadata": {},
   "source": [
    "## using关键字和命名空间\n",
    "\n",
    "命名空间是C中没有的概念,pythoner可以将其理解为python中的模块或者包的概念,他的用处就是区分不用来源的同名变量.有点类似一个定语,比如三班有小明四班也有小明,在各自班,老师喊小明都不会有歧义,但如果全校广播就会造成混乱.所以全校广播的话就会说是找三班的小明或者找四班的小明.命名空间就是类似几班的这种定语.\n",
    "\n",
    "C++在引用机制上和C是一样的,都是将多份不同的文件中的源文件直接复制到一起,也就类似于全校广播了,那怎么办?使用命名空间就可以解决了.由于命名空间引入,C++对大型项目可以有更好的支持.\n"
   ]
  },
  {
   "cell_type": "markdown",
   "metadata": {},
   "source": [
    "### 创建命名空间\n",
    "\n",
    "正如例子中一样,我们使用\n",
    "\n",
    "```C++\n",
    "namespace <name> {\n",
    "    xxx\n",
    "}\n",
    "```\n",
    "\n",
    "来创建命名空间,这个空间内的所有变量常量函数类都将不能直接访问,而要借助命名空间才能访问"
   ]
  },
  {
   "cell_type": "markdown",
   "metadata": {},
   "source": [
    "### 使用命名空间\n",
    "\n",
    "使用命名空间又两种方式:\n",
    "\n",
    "1. 直接使用\n",
    "    \n",
    "    上面例子中`std::cin`就是典型,其中`<namespace>::<object>`代表所属关系,可以和python中的这种引用模块的方式做类比:\n",
    "    \n",
    "    ```python\n",
    "    import numpy\n",
    "    \n",
    "    numpy.add(1,2)\n",
    "    ```\n",
    "    \n",
    "    `::`符号就类似python模块引用中的`.`,起到表明从属关系的作用.\n",
    "    \n",
    "2. 将命名空间中的对象引入当前空间\n",
    "\n",
    "    使用`using <namespace>::<object>;`就可以将命名空间中的对象引入当前的变量空间,这就有点类似python中的`from numpy import add`,这样的坏处就是容易污染当前变量空间\n",
    "\n",
    "    "
   ]
  },
  {
   "cell_type": "markdown",
   "metadata": {},
   "source": [
    "### 为命名空间创建别名\n",
    "\n",
    "依然是使用`namespace`关键字,使用如下表达式:`namespace <new_name>=<old_name>;`这样就可以使用`<new_name>`代替`<old_name>`了,不过要注意,这只是别名,并不是替换."
   ]
  },
  {
   "cell_type": "markdown",
   "metadata": {},
   "source": [
    "## 输入输出流\n",
    "\n",
    "C++中使用流这个概念来描述输入输出,在标准库中有`iostream`来处理标准输入输出流,如例子中一样,\n",
    "iostream包括4个io对象:\n",
    "\n",
    "1. 输入流cin\n",
    "2. 输出cout\n",
    "3. log信息clog\n",
    "4. 标准错误cerr\n",
    "\n",
    "输出流需要使用`endl`作为结尾\n",
    "\n",
    "具体的使用方法可以看上面例子代码,其中`<<`称为输出运算符,`>>`称为输入运算符\n",
    "\n",
    "`iostream`与`stdio.h`相比,增加了可扩展性,因为是流,但同时效率相比`stdio.h`差了一些.\n",
    "\n",
    "C中通用的输出函数包括:\n",
    "\n",
    "+ `printf(char content[])` **带格式控制**的字符串输出\n",
    "+ `fprintf(stdxxx,char content[])` 可以指定流的带格式控制字符串输出\n",
    "+ `puts(char content[])` 只用来输出字符串，没有格式控制,**会自动换行**\n",
    "+ `fputs(file,char content[])` 可以指定流的puts函数\n",
    "\n",
    "与之对应的是C中通用的输入函数,包括:\n",
    "\n",
    "+ `scanf('%d',&x)`将输入的内容传入某段内存地址,scanf函数需要指定能读入的字符数\n",
    "+ `fscanf(file,'%d',&x)`将输入的内容传入某段内存地址,scanf函数需要指定能读入的字符数,需要指定流\n",
    "+ `fgets(content, sizeof(content),stdin)` 一般配合sizeof使用,以避免缓冲区溢出的问题"
   ]
  },
  {
   "cell_type": "markdown",
   "metadata": {},
   "source": [
    "## 字符串\n",
    "\n",
    "C中只有字符,字符串则是字符数组,在C++中标准库`string`包含了针对string类型的一系列方法,本文字符串相关的内容会留在后面结合unicode一起讲.虽然与python相比C++的字符串处理能力很弱,但已经比C好多了,他们包括:\n",
    "\n",
    "1. `.c_str()`转化为C风格的字符串\n",
    "2. `.length()`获取字符串长度\n",
    "3. `+` 字符串相加就是拼接\n",
    "4. `[<i>]`访问字符串中的某位的字符\n",
    "5. `.insert(<pos>, <str_var>)`在指定位插入字符串\n",
    "6. `.erase(<pos>[, <len>])` 在指定位删除一定长度的字符串内容\n",
    "7. `.substr(<pos>, <len>) `pos 为要提取的子字符串的起始下标，len 为要提取的子字符串的长度。\n",
    "8. `.find(<str>[, <pos>])`从pos位置开始向后找字符串是否匹配,str可以是std::string也可以是C的字符串,与之相似的是`.rfind(<str>[, <pos>])`不同之处就是查找从右向左\n",
    "9. `.find_first_of(<str>)`,字符串str在被查字符串中第一次出现的位置"
   ]
  }
 ],
 "metadata": {
  "kernelspec": {
   "display_name": "Python 3",
   "language": "python",
   "name": "python3"
  },
  "language_info": {
   "codemirror_mode": {
    "name": "ipython",
    "version": 3
   },
   "file_extension": ".py",
   "mimetype": "text/x-python",
   "name": "python",
   "nbconvert_exporter": "python",
   "pygments_lexer": "ipython3",
   "version": "3.6.0"
  }
 },
 "nbformat": 4,
 "nbformat_minor": 1
}
