{
 "cells": [
  {
   "cell_type": "markdown",
   "metadata": {},
   "source": [
    "C++的模板是编译期执行的代码.\n",
    "\n",
    "因此模板无论是实现还是定义都必须写在`.h`文件中"
   ]
  },
  {
   "cell_type": "code",
   "execution_count": 69,
   "metadata": {},
   "outputs": [
    {
     "name": "stdout",
     "output_type": "stream",
     "text": [
      "Overwriting src/binary_tree/binary_tree.h\n"
     ]
    }
   ],
   "source": [
    "%%writefile src/binary_tree/binary_tree.h\n",
    "#include <stddef.h>\n",
    "#include <iostream>\n",
    "template <class T>\n",
    "\n",
    "struct Node{\n",
    "    T value;\n",
    "    Node<T> *left;\n",
    "    Node<T> *right;\n",
    "    Node(const T &e) {\n",
    "        value = e;\n",
    "        left = right = NULL;\n",
    "    };\n",
    "};\n",
    "\n",
    "template <class T>\n",
    "class BinaryTree{\n",
    "    public:\n",
    "        BinaryTree();\n",
    "        ~BinaryTree();\n",
    "        Node<T> *root;\n",
    "        //清空当前树\n",
    "        void clear();\n",
    "        //获取到当前元素\n",
    "        T getElement()    const;\n",
    "        //判断当前二叉树是不是空二叉树\n",
    "        bool isEmpty()    const;\n",
    "        //构建一棵数\n",
    "        void makeTree(const T &x,BinaryTree<T> *left,BinaryTree<T> *right);\n",
    "        //拆除一棵数\n",
    "        void breakTree(T &x,BinaryTree*left,BinaryTree*right);\n",
    "        //前序遍历 统一采用递归遍历\n",
    "        void preOrder(Node<T> *t);\n",
    "        //中序遍历\n",
    "        void inOrder(Node<T> *t);\n",
    "        //后序遍历\n",
    "        void postOrder(Node<T> *t);\n",
    "};\n",
    "using std::cout;\n",
    "using std::endl;\n",
    "        \n",
    "template <class T>\n",
    "BinaryTree<T>::BinaryTree(){\n",
    "    root =NULL;\n",
    "}\n",
    "\n",
    "template<class T>\n",
    "BinaryTree<T>::~BinaryTree(){\n",
    "    clear();\n",
    "}\n",
    "\n",
    "template<class T>\n",
    "void BinaryTree<T>::clear() {\n",
    "    if(root==NULL){\n",
    "        return;\n",
    "    }    \n",
    "    delete root;\n",
    "    root = NULL;\n",
    "}\n",
    "\n",
    "template<class T>\n",
    "T BinaryTree<T>::getElement() const {\n",
    "    if (isEmpty()) {\n",
    "        return NULL;\n",
    "    }\n",
    "    return root->value;\n",
    "}\n",
    "    \n",
    "template<class T>\n",
    "bool BinaryTree<T>::isEmpty() const {\n",
    "    return root == NULL;\n",
    "}\n",
    "    \n",
    "template<class T>\n",
    "void BinaryTree<T>::makeTree(const T &x, BinaryTree<T> *left, BinaryTree<T> *right) {\n",
    "    if (root)return;//如果根节点不为空 就直接return 这实际上让用户操作起来十分不方便 不能自己构建自己 必须重一个节点\n",
    "    root = new Node<T>(x);//实例化二叉树根节点\n",
    "    root->left = left->root;//让左指针指向左子树的根节点\n",
    "    root->right = right->root;//让右指针指向右子树的根节点\n",
    "    left->root = right->root = NULL;\n",
    "}\n",
    "    \n",
    "template<class T>\n",
    "void BinaryTree<T>::breakTree(T &x, BinaryTree*left, BinaryTree*right) {\n",
    "    if (!root || left == right || left->_root || right->_root) {\n",
    "        //若此树本身就是空的，或则用于承接的左右树本身一样，或则用于承接的左子树不为空都直接退出\n",
    "        return;\n",
    "    }\n",
    "    x = root->value;//将这个树的根节点的元素域转移走\n",
    "    left->root = root->left;//将左子树单独拆成一棵树\n",
    "    right->root = root->right;//将右子树单独拆成一棵树\n",
    "    clear();\n",
    "}\n",
    "    \n",
    "template<class T>\n",
    "void BinaryTree<T>::preOrder(Node<T> *t) {\n",
    "    if (t) {\n",
    "        cout << (\"%d\",t->value) << endl;\n",
    "        preOrder(t->left);\n",
    "        preOrder(t->right);\n",
    "    }\n",
    "}\n",
    "        \n",
    "template<class T>\n",
    "void BinaryTree<T>::inOrder(Node<T> *t) {\n",
    "    if (t) {\n",
    "        inOrder(t->left);\n",
    "        cout << (\"%d\",t->value) << endl;\n",
    "        inOrder(t->right);\n",
    "    }\n",
    "}\n",
    "template<class T>\n",
    "void BinaryTree<T>::postOrder(Node<T> *t) {\n",
    "    if (t) {\n",
    "        postOrder(t->left);\n",
    "        postOrder(t->right);\n",
    "        cout << (\"%d\",t->value) << endl;\n",
    "    }\n",
    "}"
   ]
  },
  {
   "cell_type": "code",
   "execution_count": 70,
   "metadata": {},
   "outputs": [
    {
     "name": "stdout",
     "output_type": "stream",
     "text": [
      "Overwriting src/binary_tree/binary_tree_test.cpp\n"
     ]
    }
   ],
   "source": [
    "%%writefile src/binary_tree/binary_tree_test.cpp\n",
    "#include <iostream>\n",
    "#include <stddef.h>\n",
    "#include\"binary_tree.h\"\n",
    "using std::cout;\n",
    "using std::endl;\n",
    "        \n",
    "int main(){\n",
    "    BinaryTree<int> L,R,a,b,c,d,e;\n",
    "    a.makeTree(0,&L,&R);\n",
    "    b.makeTree(1,&L,&R);\n",
    "    c.makeTree(2,&a,&b);\n",
    "    d.makeTree(3,&a,&b);\n",
    "    e.makeTree(4,&c,&d);\n",
    "    cout<<\"前序遍历：\"<<endl;\n",
    "    e.preOrder(e.root);\n",
    "    cout<<\"\\n中序遍历：\"<<endl;\n",
    "    e.inOrder(e.root);\n",
    "    cout<<\"\\n后序遍历：\"<<endl;\n",
    "    e.postOrder(e.root);\n",
    "    cout<<\"\\n\"<<endl;\n",
    "    return 0;\n",
    "}"
   ]
  },
  {
   "cell_type": "code",
   "execution_count": 72,
   "metadata": {},
   "outputs": [],
   "source": [
    "!g++-7 -o bin/binary_tree_test src/binary_tree/*.cpp"
   ]
  },
  {
   "cell_type": "code",
   "execution_count": 74,
   "metadata": {},
   "outputs": [
    {
     "name": "stdout",
     "output_type": "stream",
     "text": [
      "前序遍历：\r\n",
      "4\r\n",
      "2\r\n",
      "0\r\n",
      "1\r\n",
      "3\r\n",
      "\r\n",
      "中序遍历：\r\n",
      "0\r\n",
      "2\r\n",
      "1\r\n",
      "4\r\n",
      "3\r\n",
      "\r\n",
      "后序遍历：\r\n",
      "0\r\n",
      "1\r\n",
      "2\r\n",
      "3\r\n",
      "4\r\n",
      "\r\n",
      "\r\n"
     ]
    }
   ],
   "source": [
    "!./bin/binary_tree_test"
   ]
  },
  {
   "cell_type": "code",
   "execution_count": null,
   "metadata": {
    "collapsed": true
   },
   "outputs": [],
   "source": []
  }
 ],
 "metadata": {
  "anaconda-cloud": {},
  "kernelspec": {
   "display_name": "Python 2",
   "language": "python",
   "name": "python2"
  },
  "language_info": {
   "codemirror_mode": {
    "name": "ipython",
    "version": 2
   },
   "file_extension": ".py",
   "mimetype": "text/x-python",
   "name": "python",
   "nbconvert_exporter": "python",
   "pygments_lexer": "ipython2",
   "version": "2.7.13"
  }
 },
 "nbformat": 4,
 "nbformat_minor": 1
}
