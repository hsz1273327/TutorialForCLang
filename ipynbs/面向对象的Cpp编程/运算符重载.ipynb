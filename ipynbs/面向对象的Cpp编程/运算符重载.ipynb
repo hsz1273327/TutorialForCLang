{
 "cells": [
  {
   "cell_type": "markdown",
   "metadata": {
    "collapsed": true
   },
   "source": [
    "# 运算符重载\n",
    "\n",
    "C++中允许重载运算符,它有如下这些限制条件:\n",
    "\n",
    "1. 除了类属关系运算符\".\"、成员指针运算符\".*\"、作用域运算符\"::\"、sizeof运算符和三目运算符\"?:\"以外，C++中的所有运算符都可以重载。\n",
    "\n",
    "2. 重载运算符限制在C++语言中已有的运算符范围内的允许重载的运算符之中，不能创建新的运算符。\n",
    "\n",
    "3. 运算符重载实质上是函数重载，因此编译程序对运算符重载的选择，遵循函数重载的选择原则。\n",
    "\n",
    "4. 重载之后的运算符不能改变运算符的优先级和结合性，也不能改变运算符操作数的个数及语法结构。\n",
    "\n",
    "5. 运算符重载不能改变该运算符用于内部类型对象的含义。它只能和用户自定义类型的对象一起使用，或者用于用户自定义类型的对象和内部类型的对象混合使用时。\n",
    "\n",
    "6. 运算符重载是针对新类型数据的实际需要对原有运算符进行的适当的改造，重载的功能应当与原有功能相类似，避免没有目的地使用重载运算符。\n",
    "\n",
    "其基本写法是:\n",
    "\n",
    "```cpp\n",
    "<返回类型说明符> operator <运算符符号>(<参数表>)\n",
    "\n",
    "　{\n",
    "\n",
    "     <函数体>\n",
    "\n",
    "　}\n",
    "```"
   ]
  },
  {
   "cell_type": "code",
   "execution_count": null,
   "metadata": {
    "collapsed": true
   },
   "outputs": [],
   "source": []
  }
 ],
 "metadata": {
  "kernelspec": {
   "display_name": "Python 3",
   "language": "python",
   "name": "python3"
  },
  "language_info": {
   "codemirror_mode": {
    "name": "ipython",
    "version": 3
   },
   "file_extension": ".py",
   "mimetype": "text/x-python",
   "name": "python",
   "nbconvert_exporter": "python",
   "pygments_lexer": "ipython3",
   "version": "3.6.0"
  }
 },
 "nbformat": 4,
 "nbformat_minor": 2
}
