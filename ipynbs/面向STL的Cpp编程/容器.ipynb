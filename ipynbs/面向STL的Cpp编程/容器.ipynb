{
 "cells": [
  {
   "cell_type": "markdown",
   "metadata": {
    "collapsed": true
   },
   "source": [
    "# 容器\n",
    "\n",
    "STL中包含许多常用的容器模板,比如array,比如vector等.这些标准库都在stl命名空间下."
   ]
  },
  {
   "cell_type": "markdown",
   "metadata": {},
   "source": [
    "## array\n",
    "\n",
    "array是C++11中新增的容器,目的是为了替代C/C++中的数组.它比自带的数组更加安全方便,不需要考虑太多的额外内容.\n",
    "\n"
   ]
  }
 ],
 "metadata": {
  "anaconda-cloud": {},
  "kernelspec": {
   "display_name": "Python 2",
   "language": "python",
   "name": "python2"
  },
  "language_info": {
   "codemirror_mode": {
    "name": "ipython",
    "version": 2
   },
   "file_extension": ".py",
   "mimetype": "text/x-python",
   "name": "python",
   "nbconvert_exporter": "python",
   "pygments_lexer": "ipython2",
   "version": "2.7.13"
  }
 },
 "nbformat": 4,
 "nbformat_minor": 1
}
