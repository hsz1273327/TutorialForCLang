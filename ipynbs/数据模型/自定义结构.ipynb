{
 "cells": [
  {
   "cell_type": "markdown",
   "metadata": {},
   "source": [
    "# 自定义结构\n",
    "\n",
    "c中提供了3种特殊的结构,用于描述复杂的结构化数据,分别是\n",
    "\n",
    "+ 结构体\n",
    "+ 联合体\n",
    "+ 枚举"
   ]
  },
  {
   "cell_type": "markdown",
   "metadata": {},
   "source": [
    "## 结构体\n",
    "\n",
    "结构体可以理解为一组有意义的特殊成员变量的组合,比如对于小朋友,有性别,姓名,年龄身高,体重这几个维度,每个小朋友都会有这些属性.我们就可以将小朋友定义为一个结构体\n",
    "\n",
    "结构体的定义方式为:\n",
    "\n",
    "```c\n",
    "struct 结构名{\n",
    "类型 成员变量名;\n",
    "类型 成员变量名;\n",
    "类型 成员变量名;\n",
    "};\n",
    "\n",
    "```\n",
    "\n",
    "注意不要落了封号\n",
    "\n",
    "我们来声明一个Child结构体\n",
    "\n",
    "```c\n",
    "struct Child{\n",
    "    const char *name;\n",
    "    const char *sex;\n",
    "    int age;\n",
    "    float weight;\n",
    "    float height; \n",
    "};\n",
    "```\n",
    "*ps*:在结构体中字符串使用`const char *`来保存你不想修改的字符串,也就是字符串字面值,这种方式只保存了字符串的指针,只有把字符串定义成字符数组如`char name[20]`这样才能将字符串保存在结构体中,但一般我们不这么用,原因在于C语言中字符串常量本来就存放在代码段,没有必要到处保存\n",
    "\n",
    "### 结构体变量的初始化\n",
    "\n",
    "结构体是一种自定义类型,它和一般的类型如int呀char呀有相同的性质,不同之处是他是值是复合的,要非初始化上面的结构体结构体,只要这样:\n",
    "\n",
    "```c\n",
    "struct Child Tom = {\"Tom\",\"m\",8,48.5,1.5};\n",
    "```\n",
    "也可以声明变量后再赋值\n",
    "\n",
    "```c\n",
    "struct Child Sam;\n",
    "Sam.name = \"Sam\";\n",
    "Sam.sex = \"m\";\n",
    "Sam.age = 7;\n",
    "Sam.weight = 45.7;\n",
    "Sam.height = 1.57;\n",
    "```\n",
    "\n",
    "\n",
    "### 结构体变量的特性\n",
    "\n",
    "结构体变量作为函数参数传递的时候需要注意是**传值**的,这和一般的类型是一样的.\n",
    "如果我们的函数参数是结构体的指针变量(传引用),那么和一般的指针变量一样,需要注意.\n",
    "\n",
    "### 访问结构体变量中的字段\n",
    "\n",
    "对于一个结构体变量,比如上文的Sam,访问方式就和第二种初始化方式一样,使用`.`符号即可,特殊的地方在于如果是如下这种情况:\n",
    "```c\n",
    "struct Child *Tom = {\"Tom\",\"m\",8,48.5,1.5};\n",
    "\n",
    "```\n",
    "\n",
    "那么就比较尴尬了,需要记住`*Tom.name`访问的其实是`*(Tom.name)`,正确的写法应该是`(*Tom).name`.为了避免用错括号的情况,c语言中在结构体变量的指针要访问其内部字段时使用`->`代替`.`\n",
    "\n",
    "```c\n",
    "Tom->name\n",
    "```"
   ]
  },
  {
   "cell_type": "markdown",
   "metadata": {},
   "source": [
    "### 自定义类型操作\n",
    "\n",
    "我们可以使用`typedef`关键字将结构体或者枚举,或者其他任何的类型取个别名,这样可以更加方便使用\n",
    "\n",
    "```c\n",
    "typedef 原类型 类型别名;\n",
    "\n",
    "```\n",
    "\n",
    "基本上这也是结构体的正常使用方式,毕竟每次申明都要带上`struct`关键字实在是太罗嗦了\n",
    "\n",
    "> 例子:"
   ]
  },
  {
   "cell_type": "code",
   "execution_count": 1,
   "metadata": {
    "collapsed": false
   },
   "outputs": [
    {
     "name": "stdout",
     "output_type": "stream",
     "text": [
      "Overwriting src/C7/child.cpp\n"
     ]
    }
   ],
   "source": [
    "%%writefile ../codes/C3_data_model/section2/src/child.c\n",
    "#include <stdio.h>\n",
    "#include <string.h>\n",
    "typedef struct{\n",
    "    char name[10];\n",
    "    char sex[2];\n",
    "    int age;\n",
    "    float weight;\n",
    "    float height;\n",
    "} Child;\n",
    "\n",
    "int main(void) {\n",
    "    Child Tom = {\"Tom\",\"m\",8,48.5,1.5};\n",
    "    Child Sam;\n",
    "    strcpy(Sam.name,\"Sam\");\n",
    "    strcpy(Sam.sex,\"m\");\n",
    "    Sam.age = 7;\n",
    "    Sam.weight = 45.7;\n",
    "    Sam.height = 1.57;\n",
    "    printf(\"%s 身高%fm\\n\",Tom.name,Tom.height);\n",
    "    printf(\"%s 体重%fkg\\n\",Sam.name,Sam.weight);\n",
    "    return 0;\n",
    "}\n"
   ]
  },
  {
   "cell_type": "code",
   "execution_count": 2,
   "metadata": {
    "collapsed": true
   },
   "outputs": [],
   "source": [
    "!gcc -o ../codes/C3_data_model/section2/bin/child \\\n",
    "../codes/C3_data_model/section2/src/child.c"
   ]
  },
  {
   "cell_type": "code",
   "execution_count": 3,
   "metadata": {
    "collapsed": false
   },
   "outputs": [
    {
     "name": "stdout",
     "output_type": "stream",
     "text": [
      "Tom 身高1.500000m\r\n",
      "Sam 体重45.700001kg\r\n"
     ]
    }
   ],
   "source": [
    "!../codes/C3_data_model/section2/bin/child"
   ]
  },
  {
   "cell_type": "markdown",
   "metadata": {},
   "source": [
    "### 为什么要有结构体\n",
    "\n",
    "设想下有这样一个场景:\n",
    "\n",
    "> 我们有若干个函数用于处理水族馆中的各种水产\n",
    "\n",
    "```c++\n",
    "/* 打印目录项 */\n",
    "void catalog(const char *name, const char *species, int age){\n",
    "    printf(\"%s 是一种的 %s.这只%s已经%i岁了\\n\",\n",
    "        name,species,name,age);\n",
    "    \n",
    "}\n",
    "\n",
    "/* 打印贴在水缸上的标签 */\n",
    "void label(const char *name,const char *species, int age){\n",
    "    printf(\"名字: %s\\n种类: %s\\n%i 岁.\\n\",\n",
    "        name,species,age);\n",
    "}\n",
    "\n",
    "int main(){\n",
    "    catalog(\"皮皮虾\",\"节肢动物\",2);\n",
    "    label(\"皮皮虾\",\"节肢动物\",2);\n",
    "    return 0;\n",
    "}\n",
    "\n",
    "```\n",
    "\n",
    "我们用来描述水产的参数现在有3个,这个数量还在可控范围内,但如果再多几个,那这个函数将变得非常不可读,同时,如果这些描述一旦有变化,修改这些函数将成为一件非常棘手的事儿,\n",
    "\n",
    "结构体最大的作用就在这里,使用结构体将这些参数归类到一起,这样就不需要一次传入大量的参数了"
   ]
  },
  {
   "cell_type": "code",
   "execution_count": 4,
   "metadata": {
    "collapsed": false
   },
   "outputs": [
    {
     "name": "stdout",
     "output_type": "stream",
     "text": [
      "Overwriting src/C7/aquarium.cpp\n"
     ]
    }
   ],
   "source": [
    "%%writefile ../codes/C3_data_model/section2/src/aquarium.c\n",
    "#include <stdio.h>\n",
    "#include <wchar.h>\n",
    "#include <locale.h>\n",
    "/* 定义 */\n",
    "typedef struct {\n",
    "    const wchar_t *name;\n",
    "    const wchar_t *species;\n",
    "    int age;\n",
    "} Aquatic;\n",
    "\n",
    "\n",
    "/* 打印目录项 */\n",
    "void catalog(Aquatic *aquatic){\n",
    "    wprintf(L\"%ls 是一种的 %ls.这只%ls已经%i岁了\\n\",\n",
    "        aquatic->name,aquatic->species,aquatic->name,aquatic->age);\n",
    "    \n",
    "}\n",
    "\n",
    "/* 打印贴在水缸上的标签 */\n",
    "void label(Aquatic *aquatic){\n",
    "    wprintf(L\"名字: %ls\\n种类: %ls\\n%i 岁.\\n\",\n",
    "       aquatic->name,aquatic->species,aquatic->age);\n",
    "}\n",
    "\n",
    "int main(){\n",
    "    setlocale(LC_ALL, \"zh_CN.UTF-8\");   \n",
    "    Aquatic mantis_shrimp = {L\"皮皮虾\",L\"节肢动物\",2};\n",
    "    catalog(&mantis_shrimp);\n",
    "    label(&mantis_shrimp);\n",
    "    return 0;\n",
    "}"
   ]
  },
  {
   "cell_type": "code",
   "execution_count": 5,
   "metadata": {
    "collapsed": true
   },
   "outputs": [],
   "source": [
    "!gcc -o ../codes/C3_data_model/section2/bin/aquarium \\\n",
    "../codes/C3_data_model/section2/src/aquarium.c"
   ]
  },
  {
   "cell_type": "code",
   "execution_count": 6,
   "metadata": {
    "collapsed": false
   },
   "outputs": [
    {
     "name": "stdout",
     "output_type": "stream",
     "text": [
      "皮皮虾 是一种的 节肢动物.这只皮皮虾已经2岁了\r\n",
      "名字: 皮皮虾\r\n",
      "种类: 节肢动物\r\n",
      "2 岁.\r\n"
     ]
    }
   ],
   "source": [
    "!../codes/C3_data_model/section2/bin/aquarium"
   ]
  },
  {
   "cell_type": "markdown",
   "metadata": {},
   "source": [
    "## 共用体\n",
    "\n",
    "在C语言中,还有另外一种和结构体非常类似的语法,叫做共用体(Union),它的定义格式为:\n",
    "\n",
    "```C\n",
    "union 共用体名{\n",
    "    成员列表\n",
    "};\n",
    "```\n",
    "\n",
    "结构体和共用体的区别在于:\n",
    "\n",
    "+ 结构体的各个成员会占用不同的内存,互相之间没有影响;\n",
    "+ 共用体的所有成员占用同一段内存,修改一个成员会影响其余所有成员.\n",
    "\n",
    "Union的作用就在于当成员间\n",
    "\n",
    "结构体占用的内存大于等于所有成员占用的内存的总和(成员之间可能会存在缝隙),共用体占用的内存等于最长的成员占用的内存.共用体使用了内存覆盖技术，同一时刻只能保存一个成员的值，如果对新的成员赋值，就会把原来成员的值覆盖掉."
   ]
  },
  {
   "cell_type": "code",
   "execution_count": 4,
   "metadata": {
    "collapsed": false
   },
   "outputs": [
    {
     "name": "stdout",
     "output_type": "stream",
     "text": [
      "Overwriting src/C7/uniontest.cpp\n"
     ]
    }
   ],
   "source": [
    "%%writefile ../codes/C3_data_model/section2/src/uniontest.c\n",
    "#include <stdio.h>\n",
    "union data{\n",
    "    int n;\n",
    "    char ch;\n",
    "    short m;\n",
    "};\n",
    "int main(){\n",
    "    union data a;\n",
    "    printf(\"%d, %d\\n\", sizeof(a), sizeof(union data) );\n",
    "    a.n = 0x40;\n",
    "    printf(\"%X, %c, %hX\\n\", a.n, a.ch, a.m);\n",
    "    a.ch = '9';\n",
    "    printf(\"%X, %c, %hX\\n\", a.n, a.ch, a.m);\n",
    "    a.m = 0x2059;\n",
    "    printf(\"%X, %c, %hX\\n\", a.n, a.ch, a.m);\n",
    "    a.n = 0x3E25AD54;\n",
    "    printf(\"%X, %c, %hX\\n\", a.n, a.ch, a.m);\n",
    "    return 0;\n",
    "}"
   ]
  },
  {
   "cell_type": "code",
   "execution_count": 5,
   "metadata": {
    "collapsed": true
   },
   "outputs": [],
   "source": [
    "!gcc -o ../codes/C3_data_model/section2/bin/uniontest \\\n",
    "../codes/C3_data_model/section2/src/uniontest.c"
   ]
  },
  {
   "cell_type": "code",
   "execution_count": 6,
   "metadata": {
    "collapsed": false
   },
   "outputs": [
    {
     "name": "stdout",
     "output_type": "stream",
     "text": [
      "4, 4\r\n",
      "40, @, 40\r\n",
      "39, 9, 39\r\n",
      "2059, Y, 2059\r\n",
      "3E25AD54, T, AD54\r\n"
     ]
    }
   ],
   "source": [
    "!../codes/C3_data_model/section2/bin/uniontest"
   ]
  },
  {
   "cell_type": "markdown",
   "metadata": {
    "collapsed": true
   },
   "source": [
    "## 枚举\n",
    "\n",
    "枚举在python中并没有直接的实现,但C++中它是默认的一种自定义类型,它的声明关键字是enum\n",
    "\n",
    "声明枚举类型:\n",
    "\n",
    "```c\n",
    "enum 枚举类型名 {枚举值1,枚举值2...} \n",
    "```\n",
    "\n",
    "定义枚举变量:\n",
    "\n",
    "```c\n",
    "枚举类型名 变量名 = 枚举值;\n",
    "```\n",
    "需要注意的是枚举类型变量只能赋值为枚举类型声明时的枚举值,其他都会报错,而枚举值实际上是对应声明时位置对应的整形数.\n",
    "\n",
    "看个例子:"
   ]
  },
  {
   "cell_type": "code",
   "execution_count": 1,
   "metadata": {
    "collapsed": false
   },
   "outputs": [
    {
     "name": "stdout",
     "output_type": "stream",
     "text": [
      "Overwriting src/C7/weekdays.cpp\n"
     ]
    }
   ],
   "source": [
    "%%writefile ../codes/C3_data_model/section2/src/weekdays.c\n",
    "#include <stdio.h>\n",
    "\n",
    "enum Weekday {MON,TUE,WED,THU,FRI,SAT,SUN};\n",
    "\n",
    "int main(void) {\n",
    "    enum Weekday firstday = TUE;\n",
    "    printf(\"first day is %d\\n\",firstday );\n",
    "    return 0;\n",
    "}"
   ]
  },
  {
   "cell_type": "code",
   "execution_count": 2,
   "metadata": {
    "collapsed": true
   },
   "outputs": [],
   "source": [
    "!gcc -o ../codes/C3_data_model/section2/bin/weekdays \\\n",
    "../codes/C3_data_model/section2/src/weekdays.c"
   ]
  },
  {
   "cell_type": "code",
   "execution_count": 3,
   "metadata": {
    "collapsed": false
   },
   "outputs": [
    {
     "name": "stdout",
     "output_type": "stream",
     "text": [
      "first day is 1\r\n"
     ]
    }
   ],
   "source": [
    "!../codes/C3_data_model/section2/bin/weekdays"
   ]
  }
 ],
 "metadata": {
  "kernelspec": {
   "display_name": "Python 3",
   "language": "python",
   "name": "python3"
  },
  "language_info": {
   "codemirror_mode": {
    "name": "ipython",
    "version": 3
   },
   "file_extension": ".py",
   "mimetype": "text/x-python",
   "name": "python",
   "nbconvert_exporter": "python",
   "pygments_lexer": "ipython3",
   "version": "3.6.0"
  }
 },
 "nbformat": 4,
 "nbformat_minor": 1
}
