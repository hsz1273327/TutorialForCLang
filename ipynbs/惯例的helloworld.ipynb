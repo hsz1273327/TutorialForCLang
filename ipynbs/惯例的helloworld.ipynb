{
 "cells": [
  {
   "cell_type": "markdown",
   "metadata": {},
   "source": [
    "# 惯例的helloworld\n",
    "\n",
    "首先我们应该对C语言程序有个大概的概念.C语言是介于汇编和如C++,oc这样编译语言之间的一种语言,语法简单原始,但是及其灵活.这种特点也就决定了它入门容易精通极难.好在我们的目标不是用C实现什么特别复杂的东西.\n",
    "\n",
    "c程序需要编译.其源文件(source files)一般以`.c`为后缀.源文件的作用是定义程序的实现,也就是人能看得懂的写给机器真正执行的文件.\n",
    "\n",
    "\n",
    "\n",
    "下面是名为`helloworld.c`的源文件.这个源文件有如下几个部分:\n",
    "\n",
    "+ 引入头文件,c和c++中有头文件这种设定,一般由`.h`为后缀.头文件是编译器处理的文件而不是程序执行的文件,它一般用于:\n",
    "\n",
    "    + 声明源文件的接口\n",
    "    + 申明预编译时的处理逻辑,比如宏这些\n",
    "    \n",
    "    头文件的引入就是在引入位置直接复制头文件中的内容,因此也有用来定义要引入的文本的情况.这种情况其实并不是头文件,因此我们在这种情况下使用`.inc`为后缀\n",
    "   \n",
    "+ 入口函数main函数.\n",
    "\n",
    "    所有c程序都要有一个入口函数--main函数,它可以是两种形式\n",
    "\n",
    "    + `int main(int argc, char *argv[])`其中输入:\n",
    "\n",
    "        + argc: 参数的个数,不给main()函数传递参数时默认值为1，即至少有一个参数为该可执行文件的文件名(含目录).\n",
    "        + argv: 为指针数组,分别指向各个字符串参数的首地址,其中argv[0]存储的是可执行文件的文件名的首地址.\n",
    "\n",
    "    + `int main()`\n",
    "\n",
    "    这两种形式的输出都为int类型.如果返回0,则代表程序正常退出.返回其它数字的含义则由系统决定.通常,返回非零代表程序异常退出."
   ]
  },
  {
   "cell_type": "code",
   "execution_count": 1,
   "metadata": {
    "collapsed": false
   },
   "outputs": [
    {
     "name": "stdout",
     "output_type": "stream",
     "text": [
      "Overwriting codes/C0_helloworld/src/helloworld.c\n"
     ]
    }
   ],
   "source": [
    "%%writefile codes/C0_helloworld/src/helloworld.c\n",
    "#include <stdio.h>\n",
    "\n",
    "int main(){\n",
    "    printf(\"hello world\");\n",
    "    return 0;\n",
    "}"
   ]
  },
  {
   "cell_type": "code",
   "execution_count": 2,
   "metadata": {
    "collapsed": true
   },
   "outputs": [],
   "source": [
    "!gcc -o codes/C0_helloworld/bin/helloworld \\\n",
    "codes/C0_helloworld/src/helloworld.c"
   ]
  },
  {
   "cell_type": "code",
   "execution_count": 4,
   "metadata": {
    "collapsed": false
   },
   "outputs": [
    {
     "name": "stderr",
     "output_type": "stream",
     "text": [
      "'codes' 不是内部或外部命令，也不是可运行的程序\n",
      "或批处理文件。\n"
     ]
    }
   ],
   "source": [
    "!./codes/C0_helloworld/bin/helloworld.exe"
   ]
  },
  {
   "cell_type": "code",
   "execution_count": null,
   "metadata": {
    "collapsed": true
   },
   "outputs": [],
   "source": []
  }
 ],
 "metadata": {
  "kernelspec": {
   "display_name": "Python 3",
   "language": "python",
   "name": "python3"
  },
  "language_info": {
   "codemirror_mode": {
    "name": "ipython",
    "version": 3
   },
   "file_extension": ".py",
   "mimetype": "text/x-python",
   "name": "python",
   "nbconvert_exporter": "python",
   "pygments_lexer": "ipython3",
   "version": "3.6.0"
  }
 },
 "nbformat": 4,
 "nbformat_minor": 2
}
