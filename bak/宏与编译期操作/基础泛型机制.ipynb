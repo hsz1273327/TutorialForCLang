{
 "cells": [
  {
   "cell_type": "markdown",
   "metadata": {},
   "source": [
    "# 基础泛型机制\n",
    "\n",
    "我一直以为C会一直没有泛型,结果在C11标准中加入了宏`_Generic`,我们可以使用简单的泛型了!先来一个演示"
   ]
  },
  {
   "cell_type": "code",
   "execution_count": 4,
   "metadata": {},
   "outputs": [
    {
     "name": "stdout",
     "output_type": "stream",
     "text": [
      "Type of 234: int\n",
      "Type of 'A': int\n",
      "Type of (char)'A': char\n",
      "Type of 3.14: double\n"
     ]
    }
   ],
   "source": [
    "#define get_type(expr)  _Generic((expr), int: \"int\",char: \"char\", double: \"double\")\n",
    "    \n",
    "                \n",
    "#include <stdio.h>\n",
    "\n",
    "int main(void){\n",
    "printf(\"Type of 234: %s\\n\", get_type(234));\n",
    "printf(\"Type of 'A': %s\\n\", get_type('A'));\n",
    "printf(\"Type of (char)'A': %s\\n\", get_type((char)'A'));\n",
    "printf(\"Type of 3.14: %s\\n\", get_type(3.14));\n",
    "}"
   ]
  },
  {
   "cell_type": "markdown",
   "metadata": {},
   "source": [
    "_Generic的用法是`_Generic ( assignment-expression , generic-assoc-list )`.\n",
    "\n",
    "+ assignment-expression,用于判断表达式类型\n",
    "+ generic-assoc-list用于根据表达式类型来执行不同的操作,一个稍微复杂的操作"
   ]
  },
  {
   "cell_type": "code",
   "execution_count": 17,
   "metadata": {},
   "outputs": [
    {
     "name": "stdout",
     "output_type": "stream",
     "text": [
      "int add: 3int add: 3.200000"
     ]
    }
   ],
   "source": [
    "#define generic_add(x,y) _Generic( x,int: _Generic(y,\\\n",
    "    int: x+y,\\\n",
    "    double:(double)x+y,\\\n",
    "    default:0),\\\n",
    "double: _Generic(y,\\\n",
    "    int: x+(double)y,\\\n",
    "    double:x+y,\\\n",
    "    default:0),\\\n",
    "default:0)\n",
    "    \n",
    "                \n",
    "#include <stdio.h>\n",
    "\n",
    "int main(void){\n",
    "printf(\"int add: %d\", generic_add(1,2));\n",
    "printf(\"int add: %f\", generic_add(1.2,2));\n",
    "}"
   ]
  },
  {
   "cell_type": "markdown",
   "metadata": {},
   "source": [
    "这个例子我们演示了如果泛型函数有两个参数该如何写,没错就只能嵌套着写了,我们必须一个参数一个参数的判断类型,之后再写执行逻辑.C语言的泛型编程现在还相当初级,不过既然有了,我想完善也是迟早的事儿."
   ]
  }
 ],
 "metadata": {
  "kernelspec": {
   "display_name": "C",
   "language": "c",
   "name": "c"
  },
  "language_info": {
   "file_extension": ".c",
   "mimetype": "text/plain",
   "name": "c"
  }
 },
 "nbformat": 4,
 "nbformat_minor": 2
}
